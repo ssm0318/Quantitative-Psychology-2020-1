{
 "cells": [
  {
   "cell_type": "code",
   "execution_count": 2,
   "metadata": {},
   "outputs": [],
   "source": [
    "import warnings\n",
    "warnings.filterwarnings('ignore')\n",
    "\n",
    "import pandas as pd\n",
    "import matplotlib\n",
    "import matplotlib.pyplot as plt\n",
    "import matplotlib.font_manager as fm\n",
    "import numpy as np; np.random.seed(42)\n",
    "import seaborn as sns\n",
    "\n",
    "import pyLDAvis\n",
    "import pyLDAvis.gensim\n",
    "from collections import OrderedDict\n",
    "from itertools import combinations\n",
    "import MeCab\n",
    "from konlpy.tag import *\n",
    "import nltk\n",
    "from nltk.corpus import stopwords\n",
    "from gensim import corpora, models\n",
    "from sklearn.feature_extraction.text import CountVectorizer, TfidfTransformer\n",
    "from sklearn.decomposition import NMF, LatentDirichletAllocation, TruncatedSVD\n",
    "from sklearn.preprocessing import normalize;\n",
    "from sklearn import decomposition;"
   ]
  },
  {
   "cell_type": "code",
   "execution_count": 3,
   "metadata": {},
   "outputs": [
    {
     "data": {
      "text/html": [
       "<div>\n",
       "<style scoped>\n",
       "    .dataframe tbody tr th:only-of-type {\n",
       "        vertical-align: middle;\n",
       "    }\n",
       "\n",
       "    .dataframe tbody tr th {\n",
       "        vertical-align: top;\n",
       "    }\n",
       "\n",
       "    .dataframe thead th {\n",
       "        text-align: right;\n",
       "    }\n",
       "</style>\n",
       "<table border=\"1\" class=\"dataframe\">\n",
       "  <thead>\n",
       "    <tr style=\"text-align: right;\">\n",
       "      <th></th>\n",
       "      <th>adoor</th>\n",
       "      <th>SNS</th>\n",
       "      <th>SNS 아이디</th>\n",
       "      <th>private</th>\n",
       "      <th>created_at</th>\n",
       "      <th>photo</th>\n",
       "      <th>content</th>\n",
       "    </tr>\n",
       "  </thead>\n",
       "  <tbody>\n",
       "    <tr>\n",
       "      <th>0</th>\n",
       "      <td>2</td>\n",
       "      <td>facebook</td>\n",
       "      <td>김유리</td>\n",
       "      <td>False</td>\n",
       "      <td>2019-02-08</td>\n",
       "      <td>홍보</td>\n",
       "      <td>저와 팀원들이 영혼을 갈아넣은 서비스 베타버전이 드디어 나왔어요!!🤩\\n밤잠을 줄여...</td>\n",
       "    </tr>\n",
       "    <tr>\n",
       "      <th>1</th>\n",
       "      <td>2</td>\n",
       "      <td>instagram</td>\n",
       "      <td>nnnyu_ri</td>\n",
       "      <td>False</td>\n",
       "      <td>2019-02-08</td>\n",
       "      <td>홍보</td>\n",
       "      <td>https://adoor.app @adoor.team\\n저와 팀원들이 영혼을 갈아넣...</td>\n",
       "    </tr>\n",
       "    <tr>\n",
       "      <th>2</th>\n",
       "      <td>2</td>\n",
       "      <td>instagram</td>\n",
       "      <td>yulo_mon</td>\n",
       "      <td>True</td>\n",
       "      <td>2019-02-07</td>\n",
       "      <td>가족, 아기, 강아지</td>\n",
       "      <td>카조꾸또 잇쇼니 토떼모 우레시깟딴데쓰</td>\n",
       "    </tr>\n",
       "    <tr>\n",
       "      <th>3</th>\n",
       "      <td>2</td>\n",
       "      <td>instagram</td>\n",
       "      <td>yulo_mon</td>\n",
       "      <td>True</td>\n",
       "      <td>2019-02-25</td>\n",
       "      <td>일상</td>\n",
       "      <td>🙋🏻‍♀️</td>\n",
       "    </tr>\n",
       "    <tr>\n",
       "      <th>4</th>\n",
       "      <td>2</td>\n",
       "      <td>instagram</td>\n",
       "      <td>yulo_mon</td>\n",
       "      <td>True</td>\n",
       "      <td>2019-03-02</td>\n",
       "      <td>나들이</td>\n",
       "      <td>필름캐머러 첫 롤 사진들1\\n수라미가 준 로모그래피 심플유즈 기본 장착 컬러네거티브...</td>\n",
       "    </tr>\n",
       "  </tbody>\n",
       "</table>\n",
       "</div>"
      ],
      "text/plain": [
       "  adoor        SNS   SNS 아이디 private created_at        photo  \\\n",
       "0     2   facebook       김유리   False 2019-02-08           홍보   \n",
       "1     2  instagram  nnnyu_ri   False 2019-02-08           홍보   \n",
       "2     2  instagram  yulo_mon    True 2019-02-07  가족, 아기, 강아지   \n",
       "3     2  instagram  yulo_mon    True 2019-02-25           일상   \n",
       "4     2  instagram  yulo_mon    True 2019-03-02          나들이   \n",
       "\n",
       "                                             content  \n",
       "0  저와 팀원들이 영혼을 갈아넣은 서비스 베타버전이 드디어 나왔어요!!🤩\\n밤잠을 줄여...  \n",
       "1  https://adoor.app @adoor.team\\n저와 팀원들이 영혼을 갈아넣...  \n",
       "2                               카조꾸또 잇쇼니 토떼모 우레시깟딴데쓰  \n",
       "3                                              🙋🏻‍♀️  \n",
       "4  필름캐머러 첫 롤 사진들1\\n수라미가 준 로모그래피 심플유즈 기본 장착 컬러네거티브...  "
      ]
     },
     "execution_count": 3,
     "metadata": {},
     "output_type": "execute_result"
    }
   ],
   "source": [
    "# 데이터 읽어오기 - 특정 기간에 한해서\n",
    "\n",
    "df = pd.read_csv('adoor_data/sns_feed.csv', encoding='UTF8')\n",
    "df['created_at'] = pd.to_datetime(df['created_at'])\n",
    "\n",
    "start_date = pd.Timestamp(2019, 1, 28, 0)\n",
    "end_date = pd.Timestamp(2019, 4, 1, 0)\n",
    "\n",
    "mask = (df['created_at'] > start_date) & (df['created_at'] <= end_date)\n",
    "df = df.loc[mask]\n",
    "\n",
    "df.head()"
   ]
  },
  {
   "cell_type": "code",
   "execution_count": 4,
   "metadata": {},
   "outputs": [],
   "source": [
    "# 형태소 분석\n",
    "\n",
    "twitter = Okt()\n",
    "pos = lambda d: ['/'.join(p) for p in twitter.pos(d, stem=True, norm=True)]\n",
    "\n",
    "texts_ko = []\n",
    "content = df.content\n",
    "docs_ko = \"\"\n",
    "\n",
    "for row in content:\n",
    "    text = row\n",
    "    if not pd.isna(text):\n",
    "        docs_ko = docs_ko + text\n",
    "        for morph in pos(text):\n",
    "            if (morph.split('/')[1]) in ['Noun'] and len(morph.split('/')[0]) > 1:\n",
    "                m = []\n",
    "                m.append(morph)\n",
    "                texts_ko.append(m)"
   ]
  },
  {
   "cell_type": "code",
   "execution_count": 5,
   "metadata": {},
   "outputs": [],
   "source": [
    "dictionary_ko = corpora.Dictionary(texts_ko)\n",
    "dictionary_ko.save('ko.dict')"
   ]
  },
  {
   "cell_type": "code",
   "execution_count": 6,
   "metadata": {},
   "outputs": [],
   "source": [
    "# tfidf 변환\n",
    "\n",
    "tf_ko = [dictionary_ko.doc2bow(text) for text in texts_ko]\n",
    "tfidf_model_ko = models.TfidfModel(tf_ko)\n",
    "tfidf_ko = tfidf_model_ko[tf_ko]\n",
    "corpora.MmCorpus.serialize('ko.mm', tfidf_ko)"
   ]
  },
  {
   "cell_type": "code",
   "execution_count": 7,
   "metadata": {},
   "outputs": [
    {
     "data": {
      "text/plain": [
       "[(0,\n",
       "  '0.012*\"오늘/Noun\" + 0.011*\"친구/Noun\" + 0.010*\"시간/Noun\" + 0.009*\"사용/Noun\" + 0.009*\"머리/Noun\" + 0.007*\"필름/Noun\" + 0.007*\"일이/Noun\" + 0.006*\"거리/Noun\" + 0.006*\"대한/Noun\" + 0.005*\"내일/Noun\"'),\n",
       " (1,\n",
       "  '0.028*\"사람/Noun\" + 0.012*\"아주/Noun\" + 0.011*\"마음/Noun\" + 0.009*\"사진/Noun\" + 0.008*\"시스템/Noun\" + 0.008*\"스님/Noun\" + 0.007*\"소리/Noun\" + 0.007*\"모든/Noun\" + 0.006*\"여자/Noun\" + 0.006*\"위해/Noun\"'),\n",
       " (2,\n",
       "  '0.015*\"생각/Noun\" + 0.012*\"그것/Noun\" + 0.010*\"우리/Noun\" + 0.009*\"진짜/Noun\" + 0.009*\"학교/Noun\" + 0.007*\"일단/Noun\" + 0.006*\"그녀/Noun\" + 0.006*\"상태/Noun\" + 0.006*\"모두/Noun\" + 0.006*\"누구/Noun\"')]"
      ]
     },
     "execution_count": 7,
     "metadata": {},
     "output_type": "execute_result"
    }
   ],
   "source": [
    "# LDA 모델 - tfidf 변환을 하지 않은 경우\n",
    "\n",
    "ntopics, nwords = 3, 5\n",
    "\n",
    "lda_ko = models.ldamodel.LdaModel(tf_ko, id2word=dictionary_ko, num_topics=ntopics)\n",
    "lda_ko.print_topics()"
   ]
  },
  {
   "cell_type": "code",
   "execution_count": 8,
   "metadata": {},
   "outputs": [
    {
     "data": {
      "text/plain": [
       "[(0,\n",
       "  '0.014*\"생각/Noun\" + 0.011*\"스님/Noun\" + 0.010*\"사진/Noun\" + 0.010*\"시간/Noun\" + 0.009*\"그것/Noun\" + 0.008*\"머리/Noun\" + 0.007*\"일이/Noun\" + 0.007*\"일단/Noun\" + 0.007*\"소리/Noun\" + 0.006*\"필름/Noun\"'),\n",
       " (1,\n",
       "  '0.012*\"마음/Noun\" + 0.012*\"오늘/Noun\" + 0.012*\"아주/Noun\" + 0.008*\"시스템/Noun\" + 0.008*\"학교/Noun\" + 0.007*\"모든/Noun\" + 0.006*\"진짜/Noun\" + 0.006*\"제일/Noun\" + 0.006*\"계속/Noun\" + 0.006*\"여자/Noun\"'),\n",
       " (2,\n",
       "  '0.029*\"사람/Noun\" + 0.011*\"친구/Noun\" + 0.010*\"우리/Noun\" + 0.008*\"사용/Noun\" + 0.006*\"내일/Noun\" + 0.006*\"베타/Noun\" + 0.006*\"대한/Noun\" + 0.005*\"버전/Noun\" + 0.005*\"방법/Noun\" + 0.005*\"상태/Noun\"')]"
      ]
     },
     "execution_count": 8,
     "metadata": {},
     "output_type": "execute_result"
    }
   ],
   "source": [
    "# LDA 모델 - tfidf 변환을 적용한 경우\n",
    "\n",
    "lda_ko = models.ldamodel.LdaModel(tfidf_ko, id2word=dictionary_ko, num_topics=ntopics)\n",
    "lda_ko.print_topics()"
   ]
  },
  {
   "cell_type": "code",
   "execution_count": 9,
   "metadata": {},
   "outputs": [
    {
     "data": {
      "text/plain": [
       "(0,\n",
       " [('생각/Noun', 0.014144719),\n",
       "  ('스님/Noun', 0.010756013),\n",
       "  ('사진/Noun', 0.009818788),\n",
       "  ('시간/Noun', 0.009676499),\n",
       "  ('그것/Noun', 0.00855751),\n",
       "  ('머리/Noun', 0.0077142804),\n",
       "  ('일이/Noun', 0.0070910994),\n",
       "  ('일단/Noun', 0.007011479),\n",
       "  ('소리/Noun', 0.006504738),\n",
       "  ('필름/Noun', 0.006483629)])"
      ]
     },
     "execution_count": 9,
     "metadata": {},
     "output_type": "execute_result"
    }
   ],
   "source": [
    "ldatopics = lda_ko.show_topics(formatted=False)\n",
    "ldatopics[0]"
   ]
  },
  {
   "cell_type": "code",
   "execution_count": 10,
   "metadata": {},
   "outputs": [
    {
     "data": {
      "text/plain": [
       "[(0,\n",
       "  '1.000*\"사람/Noun\" + 0.001*\"기억/Noun\" + -0.001*\"해외/Noun\" + -0.001*\"매혹/Noun\" + 0.001*\"갑자기/Noun\" + 0.001*\"해도/Noun\" + -0.001*\"때문/Noun\" + -0.001*\"이전/Noun\" + -0.001*\"미래/Noun\" + -0.001*\"운동장/Noun\"'),\n",
       " (1,\n",
       "  '1.000*\"생각/Noun\" + -0.006*\"위로/Noun\" + 0.005*\"몹시/Noun\" + -0.004*\"생활/Noun\" + 0.004*\"갑자기/Noun\" + -0.004*\"자주/Noun\" + -0.004*\"거의/Noun\" + -0.003*\"이상/Noun\" + 0.003*\"정도/Noun\" + -0.003*\"다른/Noun\"'),\n",
       " (2,\n",
       "  '0.844*\"마음/Noun\" + -0.375*\"오늘/Noun\" + -0.272*\"그것/Noun\" + 0.270*\"아주/Noun\" + 0.007*\"기록/Noun\" + 0.006*\"예지/Noun\" + -0.006*\"그녀/Noun\" + 0.006*\"비합리적/Noun\" + -0.005*\"저녁/Noun\" + 0.005*\"이미지/Noun\"')]"
      ]
     },
     "execution_count": 10,
     "metadata": {},
     "output_type": "execute_result"
    }
   ],
   "source": [
    "# LSI (Latent Semantic Indexing) 모델\n",
    "\n",
    "lsi_ko = models.lsimodel.LsiModel(tfidf_ko, id2word=dictionary_ko, num_topics=ntopics)\n",
    "lsi_ko.print_topics()"
   ]
  },
  {
   "cell_type": "code",
   "execution_count": 11,
   "metadata": {},
   "outputs": [
    {
     "data": {
      "text/plain": [
       "[(0,\n",
       "  '0.009*카타르/Noun + 0.007*메리/Noun + 0.006*변신/Noun + 0.006*핸드폰/Noun + 0.006*대학/Noun'),\n",
       " (1,\n",
       "  '0.008*세기/Noun + 0.008*무슨/Noun + 0.007*장학금/Noun + 0.007*지에스/Noun + 0.007*네이버/Noun'),\n",
       " (2,\n",
       "  '0.008*멋쟁이/Noun + 0.008*저택/Noun + 0.006*피크닉/Noun + 0.006*애초/Noun + 0.006*유즈/Noun')]"
      ]
     },
     "execution_count": 11,
     "metadata": {},
     "output_type": "execute_result"
    }
   ],
   "source": [
    "# HDP (Hierarchical Dirichlet Process) 모델 - n_topics printed ONLY\n",
    "\n",
    "hdp_ko = models.hdpmodel.HdpModel(tfidf_ko, id2word=dictionary_ko)\n",
    "hdp_ko.print_topics(ntopics, nwords)"
   ]
  },
  {
   "cell_type": "code",
   "execution_count": 12,
   "metadata": {},
   "outputs": [
    {
     "data": {
      "text/plain": [
       "[(2, 0.66179204), (1, 0.16977066), (0, 0.16843733)]"
      ]
     },
     "execution_count": 12,
     "metadata": {},
     "output_type": "execute_result"
    }
   ],
   "source": [
    "# Bag of Words\n",
    "\n",
    "bow = tfidf_model_ko[dictionary_ko.doc2bow(texts_ko[0])]\n",
    "sorted(lda_ko[bow], key=lambda x: x[1], reverse=True)"
   ]
  },
  {
   "cell_type": "code",
   "execution_count": 13,
   "metadata": {},
   "outputs": [
    {
     "data": {
      "text/plain": [
       "[(124, 0.502946699806394)]"
      ]
     },
     "execution_count": 13,
     "metadata": {},
     "output_type": "execute_result"
    }
   ],
   "source": [
    "sorted(hdp_ko[bow], key=lambda x: x[1], reverse=True)"
   ]
  },
  {
   "cell_type": "code",
   "execution_count": 14,
   "metadata": {},
   "outputs": [
    {
     "data": {
      "text/plain": [
       "[(1, 0.6617601), (2, 0.16996159), (0, 0.16827832)]"
      ]
     },
     "execution_count": 14,
     "metadata": {},
     "output_type": "execute_result"
    }
   ],
   "source": [
    "bow = tfidf_model_ko[dictionary_ko.doc2bow(texts_ko[1])]\n",
    "sorted(lda_ko[bow], key=lambda x: x[1], reverse=True)"
   ]
  },
  {
   "cell_type": "code",
   "execution_count": 15,
   "metadata": {},
   "outputs": [
    {
     "data": {
      "text/plain": [
       "[(76, 0.5034441398052407)]"
      ]
     },
     "execution_count": 15,
     "metadata": {},
     "output_type": "execute_result"
    }
   ],
   "source": [
    "sorted(hdp_ko[bow], key=lambda x: x[1], reverse=True)"
   ]
  },
  {
   "cell_type": "code",
   "execution_count": null,
   "metadata": {},
   "outputs": [],
   "source": []
  },
  {
   "cell_type": "code",
   "execution_count": 16,
   "metadata": {},
   "outputs": [],
   "source": [
    "# Coherence 수준 측정 - LDA 모델\n",
    "\n",
    "def compute_coherence_values(dictionary, corpus, texts, limit, start=2, step=3):\n",
    "    coherence_values = []\n",
    "    model_list = []\n",
    "    for num_topics in range(start, limit, step):\n",
    "        model = models.LdaModel(corpus=tf_ko, num_topics=num_topics, id2word=dictionary_ko)\n",
    "        model_list.append(model)\n",
    "        coherencemodel = models.CoherenceModel(model=model, texts=texts_ko, dictionary=dictionary_ko, coherence='c_v')\n",
    "        coherence_values.append(coherencemodel.get_coherence())\n",
    "\n",
    "    return model_list, coherence_values"
   ]
  },
  {
   "cell_type": "code",
   "execution_count": 17,
   "metadata": {},
   "outputs": [
    {
     "name": "stdout",
     "output_type": "stream",
     "text": [
      "\n",
      "Coherence Score:  0.8556197163143805\n"
     ]
    }
   ],
   "source": [
    "coherence_model_lda = models.CoherenceModel(model=lda_ko, texts=texts_ko, dictionary=dictionary_ko, coherence='c_v')\n",
    "coherence_lda = coherence_model_lda.get_coherence()\n",
    "print('\\nCoherence Score: ', coherence_lda)"
   ]
  },
  {
   "cell_type": "code",
   "execution_count": 18,
   "metadata": {},
   "outputs": [],
   "source": [
    "model_list, coherence_values = compute_coherence_values(\n",
    "    dictionary=dictionary_ko, \n",
    "    corpus=tf_ko, \n",
    "    texts=texts_ko, \n",
    "    start=1, \n",
    "    limit=10, \n",
    "    step=1)"
   ]
  },
  {
   "cell_type": "code",
   "execution_count": 19,
   "metadata": {},
   "outputs": [
    {
     "data": {
      "image/png": "[encoded data removed]",
      "text/plain": [
       "<Figure size 648x360 with 1 Axes>"
      ]
     },
     "metadata": {
      "needs_background": "light"
     },
     "output_type": "display_data"
    }
   ],
   "source": [
    "limit=10; start=1; step=1;\n",
    "x = range(start, limit, step)\n",
    "plt.rcParams[\"font.size\"] = 20\n",
    "plt.figure(figsize=(9,5))\n",
    "plt.plot(x, coherence_values)\n",
    "plt.xlabel(\"Num Topics\")\n",
    "plt.ylabel(\"Coherence score\")\n",
    "plt.legend((\"coherence_values\"), loc='best')\n",
    "plt.show()"
   ]
  },
  {
   "cell_type": "code",
   "execution_count": 20,
   "metadata": {},
   "outputs": [
    {
     "name": "stdout",
     "output_type": "stream",
     "text": [
      "Num Topics = 1  has Coherence Value of 0.8717\n",
      "Num Topics = 2  has Coherence Value of 0.8663\n",
      "Num Topics = 3  has Coherence Value of 0.8563\n",
      "Num Topics = 4  has Coherence Value of 0.8514\n",
      "Num Topics = 5  has Coherence Value of 0.8516\n",
      "Num Topics = 6  has Coherence Value of 0.8462\n",
      "Num Topics = 7  has Coherence Value of 0.8449\n",
      "Num Topics = 8  has Coherence Value of 0.8439\n",
      "Num Topics = 9  has Coherence Value of 0.8433\n"
     ]
    }
   ],
   "source": [
    "for m, cv in zip(x, coherence_values):\n",
    "    print(\"Num Topics =\", m, \" has Coherence Value of\", round(cv, 4))"
   ]
  },
  {
   "cell_type": "code",
   "execution_count": 21,
   "metadata": {},
   "outputs": [
    {
     "data": {
      "text/plain": [
       "[(0,\n",
       "  '0.010*\"사람/Noun\" + 0.006*\"스님/Noun\" + 0.006*\"사용/Noun\" + 0.006*\"우리/Noun\" + 0.005*\"시스템/Noun\" + 0.005*\"머리/Noun\" + 0.005*\"친구/Noun\" + 0.004*\"일이/Noun\" + 0.004*\"아주/Noun\" + 0.004*\"동안/Noun\"'),\n",
       " (1,\n",
       "  '0.013*\"사람/Noun\" + 0.010*\"생각/Noun\" + 0.008*\"오늘/Noun\" + 0.006*\"마음/Noun\" + 0.006*\"그것/Noun\" + 0.006*\"학교/Noun\" + 0.006*\"사진/Noun\" + 0.006*\"진짜/Noun\" + 0.006*\"아주/Noun\" + 0.005*\"시간/Noun\"')]"
      ]
     },
     "execution_count": 21,
     "metadata": {},
     "output_type": "execute_result"
    }
   ],
   "source": [
    "optimal_model = model_list[1]\n",
    "model_topics = optimal_model.show_topics(formatted=False)\n",
    "optimal_model.print_topics(num_words=10)"
   ]
  },
  {
   "cell_type": "code",
   "execution_count": 22,
   "metadata": {},
   "outputs": [
    {
     "data": {
      "text/html": [
       "<div>\n",
       "<style scoped>\n",
       "    .dataframe tbody tr th:only-of-type {\n",
       "        vertical-align: middle;\n",
       "    }\n",
       "\n",
       "    .dataframe tbody tr th {\n",
       "        vertical-align: top;\n",
       "    }\n",
       "\n",
       "    .dataframe thead th {\n",
       "        text-align: right;\n",
       "    }\n",
       "</style>\n",
       "<table border=\"1\" class=\"dataframe\">\n",
       "  <thead>\n",
       "    <tr style=\"text-align: right;\">\n",
       "      <th></th>\n",
       "      <th>Document_No</th>\n",
       "      <th>Dominant_Topic</th>\n",
       "      <th>Topic_Perc_Contrib</th>\n",
       "      <th>Keywords</th>\n",
       "      <th>Text</th>\n",
       "    </tr>\n",
       "  </thead>\n",
       "  <tbody>\n",
       "    <tr>\n",
       "      <th>0</th>\n",
       "      <td>0</td>\n",
       "      <td>1.0</td>\n",
       "      <td>0.5513</td>\n",
       "      <td>사람/Noun, 생각/Noun, 오늘/Noun, 마음/Noun, 그것/Noun, 학...</td>\n",
       "      <td>저와 팀원들이 영혼을 갈아넣은 서비스 베타버전이 드디어 나왔어요!!🤩\\n밤잠을 줄여...</td>\n",
       "    </tr>\n",
       "    <tr>\n",
       "      <th>1</th>\n",
       "      <td>1</td>\n",
       "      <td>0.0</td>\n",
       "      <td>0.7235</td>\n",
       "      <td>사람/Noun, 스님/Noun, 사용/Noun, 우리/Noun, 시스템/Noun, ...</td>\n",
       "      <td>https://adoor.app @adoor.team\\n저와 팀원들이 영혼을 갈아넣...</td>\n",
       "    </tr>\n",
       "    <tr>\n",
       "      <th>2</th>\n",
       "      <td>2</td>\n",
       "      <td>0.0</td>\n",
       "      <td>0.7332</td>\n",
       "      <td>사람/Noun, 스님/Noun, 사용/Noun, 우리/Noun, 시스템/Noun, ...</td>\n",
       "      <td>카조꾸또 잇쇼니 토떼모 우레시깟딴데쓰</td>\n",
       "    </tr>\n",
       "    <tr>\n",
       "      <th>3</th>\n",
       "      <td>3</td>\n",
       "      <td>0.0</td>\n",
       "      <td>0.6709</td>\n",
       "      <td>사람/Noun, 스님/Noun, 사용/Noun, 우리/Noun, 시스템/Noun, ...</td>\n",
       "      <td>🙋🏻‍♀️</td>\n",
       "    </tr>\n",
       "    <tr>\n",
       "      <th>4</th>\n",
       "      <td>4</td>\n",
       "      <td>1.0</td>\n",
       "      <td>0.7130</td>\n",
       "      <td>사람/Noun, 생각/Noun, 오늘/Noun, 마음/Noun, 그것/Noun, 학...</td>\n",
       "      <td>필름캐머러 첫 롤 사진들1\\n수라미가 준 로모그래피 심플유즈 기본 장착 컬러네거티브...</td>\n",
       "    </tr>\n",
       "  </tbody>\n",
       "</table>\n",
       "</div>"
      ],
      "text/plain": [
       "   Document_No  Dominant_Topic  Topic_Perc_Contrib  \\\n",
       "0            0             1.0              0.5513   \n",
       "1            1             0.0              0.7235   \n",
       "2            2             0.0              0.7332   \n",
       "3            3             0.0              0.6709   \n",
       "4            4             1.0              0.7130   \n",
       "\n",
       "                                            Keywords  \\\n",
       "0  사람/Noun, 생각/Noun, 오늘/Noun, 마음/Noun, 그것/Noun, 학...   \n",
       "1  사람/Noun, 스님/Noun, 사용/Noun, 우리/Noun, 시스템/Noun, ...   \n",
       "2  사람/Noun, 스님/Noun, 사용/Noun, 우리/Noun, 시스템/Noun, ...   \n",
       "3  사람/Noun, 스님/Noun, 사용/Noun, 우리/Noun, 시스템/Noun, ...   \n",
       "4  사람/Noun, 생각/Noun, 오늘/Noun, 마음/Noun, 그것/Noun, 학...   \n",
       "\n",
       "                                                Text  \n",
       "0  저와 팀원들이 영혼을 갈아넣은 서비스 베타버전이 드디어 나왔어요!!🤩\\n밤잠을 줄여...  \n",
       "1  https://adoor.app @adoor.team\\n저와 팀원들이 영혼을 갈아넣...  \n",
       "2                               카조꾸또 잇쇼니 토떼모 우레시깟딴데쓰  \n",
       "3                                              🙋🏻‍♀️  \n",
       "4  필름캐머러 첫 롤 사진들1\\n수라미가 준 로모그래피 심플유즈 기본 장착 컬러네거티브...  "
      ]
     },
     "execution_count": 22,
     "metadata": {},
     "output_type": "execute_result"
    }
   ],
   "source": [
    "# Topics Sentence Formation\n",
    "\n",
    "def format_topics_sentences(ldamodel=lda_ko, corpus=tf_ko, texts=df['content'].values.astype('U')):\n",
    "   \n",
    "    sent_topics_df = pd.DataFrame()\n",
    "\n",
    "   \n",
    "    for i, row in enumerate(ldamodel[corpus]):\n",
    "        row = sorted(row, key=lambda x: (x[1]), reverse=True)\n",
    "        # Get the Dominant topic, Perc Contribution and Keywords for each document\n",
    "        for j, (topic_num, prop_topic) in enumerate(row):\n",
    "            if j == 0:  # -- dominant topic\n",
    "                wp = ldamodel.show_topic(topic_num)\n",
    "                topic_keywords = \", \".join([word for word, prop in wp])\n",
    "                sent_topics_df = sent_topics_df.append(pd.Series([int(topic_num), round(prop_topic,4), topic_keywords]), ignore_index=True)\n",
    "            else:\n",
    "                break\n",
    "    sent_topics_df.columns = ['Dominant_Topic', 'Perc_Contribution', 'Topic_Keywords']\n",
    "\n",
    "    # Add original text to the end of the output\n",
    "    \n",
    "    contents = pd.Series(texts)\n",
    "    sent_topics_df = pd.concat([sent_topics_df, contents], axis=1)\n",
    "    return(sent_topics_df)\n",
    "    \n",
    "\n",
    "df_topic_sents_keywords = format_topics_sentences(ldamodel=optimal_model, corpus=tf_ko, texts=df['content'].values.astype('U'))\n",
    "\n",
    "\n",
    "df_dominant_topic = df_topic_sents_keywords.reset_index()\n",
    "df_dominant_topic.columns = ['Document_No', 'Dominant_Topic', 'Topic_Perc_Contrib', 'Keywords', 'Text']\n",
    "\n",
    "\n",
    "df_dominant_topic.head(5)"
   ]
  },
  {
   "cell_type": "code",
   "execution_count": null,
   "metadata": {},
   "outputs": [],
   "source": []
  },
  {
   "cell_type": "code",
   "execution_count": 23,
   "metadata": {},
   "outputs": [],
   "source": [
    "path='/Library/Fonts/NanumGothic.ttf'\n",
    "font_name = fm.FontProperties(fname=path, size=50).get_name()\n",
    "matplotlib.rc('font', family=font_name)\n",
    "matplotlib.rc('axes', unicode_minus=False)\n",
    "plt.rc('font', family=font_name)\n",
    "plt.rc('axes', unicode_minus=False)"
   ]
  },
  {
   "cell_type": "code",
   "execution_count": 24,
   "metadata": {},
   "outputs": [
    {
     "name": "stdout",
     "output_type": "stream",
     "text": [
      "(3, 15)\n"
     ]
    },
    {
     "data": {
      "text/html": [
       "<div>\n",
       "<style scoped>\n",
       "    .dataframe tbody tr th:only-of-type {\n",
       "        vertical-align: middle;\n",
       "    }\n",
       "\n",
       "    .dataframe tbody tr th {\n",
       "        vertical-align: top;\n",
       "    }\n",
       "\n",
       "    .dataframe thead th {\n",
       "        text-align: right;\n",
       "    }\n",
       "</style>\n",
       "<table border=\"1\" class=\"dataframe\">\n",
       "  <thead>\n",
       "    <tr style=\"text-align: right;\">\n",
       "      <th></th>\n",
       "      <th>생각/Noun</th>\n",
       "      <th>스님/Noun</th>\n",
       "      <th>사진/Noun</th>\n",
       "      <th>시간/Noun</th>\n",
       "      <th>그것/Noun</th>\n",
       "      <th>마음/Noun</th>\n",
       "      <th>오늘/Noun</th>\n",
       "      <th>아주/Noun</th>\n",
       "      <th>시스템/Noun</th>\n",
       "      <th>학교/Noun</th>\n",
       "      <th>사람/Noun</th>\n",
       "      <th>친구/Noun</th>\n",
       "      <th>우리/Noun</th>\n",
       "      <th>사용/Noun</th>\n",
       "      <th>내일/Noun</th>\n",
       "    </tr>\n",
       "  </thead>\n",
       "  <tbody>\n",
       "    <tr>\n",
       "      <th>0</th>\n",
       "      <td>0.014145</td>\n",
       "      <td>0.010756</td>\n",
       "      <td>0.009819</td>\n",
       "      <td>0.009677</td>\n",
       "      <td>0.008558</td>\n",
       "      <td>0.000000</td>\n",
       "      <td>0.000000</td>\n",
       "      <td>0.000000</td>\n",
       "      <td>0.000000</td>\n",
       "      <td>0.00000</td>\n",
       "      <td>0.000000</td>\n",
       "      <td>0.000000</td>\n",
       "      <td>0.000000</td>\n",
       "      <td>0.000000</td>\n",
       "      <td>0.000000</td>\n",
       "    </tr>\n",
       "    <tr>\n",
       "      <th>1</th>\n",
       "      <td>0.000000</td>\n",
       "      <td>0.000000</td>\n",
       "      <td>0.000000</td>\n",
       "      <td>0.000000</td>\n",
       "      <td>0.000000</td>\n",
       "      <td>0.012425</td>\n",
       "      <td>0.012389</td>\n",
       "      <td>0.011863</td>\n",
       "      <td>0.008036</td>\n",
       "      <td>0.00803</td>\n",
       "      <td>0.000000</td>\n",
       "      <td>0.000000</td>\n",
       "      <td>0.000000</td>\n",
       "      <td>0.000000</td>\n",
       "      <td>0.000000</td>\n",
       "    </tr>\n",
       "    <tr>\n",
       "      <th>2</th>\n",
       "      <td>0.000000</td>\n",
       "      <td>0.000000</td>\n",
       "      <td>0.000000</td>\n",
       "      <td>0.000000</td>\n",
       "      <td>0.000000</td>\n",
       "      <td>0.000000</td>\n",
       "      <td>0.000000</td>\n",
       "      <td>0.000000</td>\n",
       "      <td>0.000000</td>\n",
       "      <td>0.00000</td>\n",
       "      <td>0.029475</td>\n",
       "      <td>0.011314</td>\n",
       "      <td>0.010393</td>\n",
       "      <td>0.008053</td>\n",
       "      <td>0.005608</td>\n",
       "    </tr>\n",
       "  </tbody>\n",
       "</table>\n",
       "</div>"
      ],
      "text/plain": [
       "    생각/Noun   스님/Noun   사진/Noun   시간/Noun   그것/Noun   마음/Noun   오늘/Noun  \\\n",
       "0  0.014145  0.010756  0.009819  0.009677  0.008558  0.000000  0.000000   \n",
       "1  0.000000  0.000000  0.000000  0.000000  0.000000  0.012425  0.012389   \n",
       "2  0.000000  0.000000  0.000000  0.000000  0.000000  0.000000  0.000000   \n",
       "\n",
       "    아주/Noun  시스템/Noun  학교/Noun   사람/Noun   친구/Noun   우리/Noun   사용/Noun  \\\n",
       "0  0.000000  0.000000  0.00000  0.000000  0.000000  0.000000  0.000000   \n",
       "1  0.011863  0.008036  0.00803  0.000000  0.000000  0.000000  0.000000   \n",
       "2  0.000000  0.000000  0.00000  0.029475  0.011314  0.010393  0.008053   \n",
       "\n",
       "    내일/Noun  \n",
       "0  0.000000  \n",
       "1  0.000000  \n",
       "2  0.005608  "
      ]
     },
     "execution_count": 24,
     "metadata": {},
     "output_type": "execute_result"
    }
   ],
   "source": [
    "# LDA Model w/ 3 Topics\n",
    "\n",
    "data_lda = {i: OrderedDict(lda_ko.show_topic(i, 5)) for i in range(ntopics)}\n",
    "df_lda = pd.DataFrame(data_lda)\n",
    "df_lda = df_lda.fillna(0).T\n",
    "print(df_lda.shape)\n",
    "df_lda"
   ]
  },
  {
   "cell_type": "code",
   "execution_count": 25,
   "metadata": {},
   "outputs": [
    {
     "data": {
      "text/html": [
       "\n",
       "<link rel=\"stylesheet\" type=\"text/css\" href=\"https://cdn.rawgit.com/bmabey/pyLDAvis/files/ldavis.v1.0.0.css\">\n",
       "\n",
       "\n",
       "<div id=\"ldavis_el102031402333829863209834779637\"></div>\n",
       "<script type=\"text/javascript\">\n",
       "\n",
       "var ldavis_el102031402333829863209834779637_data = {\"mdsDat\": {\"x\": [-1015.7005615234375, -387.9960021972656, -2184.74560546875], \"y\": [1338.981201171875, -373.316162109375, -60.565799713134766], \"topics\": [1, 2, 3], \"cluster\": [1, 1, 1], \"Freq\": [52.350311279296875, 30.653274536132812, 16.996414184570312]}, \"tinfo\": {\"Term\": [\"\\uc0ac\\ub78c/Noun\", \"\\uc0dd\\uac01/Noun\", \"\\uc624\\ub298/Noun\", \"\\ub9c8\\uc74c/Noun\", \"\\uc2a4\\ub2d8/Noun\", \"\\uc544\\uc8fc/Noun\", \"\\uc0ac\\uc9c4/Noun\", \"\\uc2dc\\uac04/Noun\", \"\\uba38\\ub9ac/Noun\", \"\\uadf8\\uac83/Noun\", \"\\uc77c\\uc774/Noun\", \"\\uc77c\\ub2e8/Noun\", \"\\uc2dc\\uc2a4\\ud15c/Noun\", \"\\uc18c\\ub9ac/Noun\", \"\\ud544\\ub984/Noun\", \"\\ubc29\\ud559/Noun\", \"\\uce5c\\uad6c/Noun\", \"\\ub2f9\\uc2e0/Noun\", \"\\ubaa8\\ub4e0/Noun\", \"\\uac70\\ub9ac/Noun\", \"\\uc804\\uae43\\uc904/Noun\", \"\\ubaa8\\ub450/Noun\", \"\\uacf5\\uac1c/Noun\", \"\\ud6c4\\ud68c/Noun\", \"\\ub204\\uad6c/Noun\", \"\\uc81c\\uc77c/Noun\", \"\\ud559\\uad50/Noun\", \"\\ub9e4\\uc77c/Noun\", \"\\ubb34\\ucc99/Noun\", \"\\uc904\\ud0c0\\uae30/Noun\", \"\\uce5c\\uad6c/Noun\", \"\\uc0ac\\ub78c/Noun\", \"\\uc6b0\\ub9ac/Noun\", \"\\ubca0\\ud0c0/Noun\", \"\\ub0b4\\uc77c/Noun\", \"\\ub300\\ud55c/Noun\", \"\\ubab9\\uc2dc/Noun\", \"\\uac78\\uc74c/Noun\", \"\\ubc29\\ubc95/Noun\", \"\\ubb34\\uc5c7/Noun\", \"\\uc704\\ub85c/Noun\", \"\\ubc84\\uc804/Noun\", \"\\ubaa8\\ub4c8/Noun\", \"\\uc608\\uc9c0/Noun\", \"\\ubc8c\\uc368/Noun\", \"\\uc800\\ud0dd/Noun\", \"\\uc57d\\uac04/Noun\", \"\\uba85\\uc0c1/Noun\", \"\\ucf54\\ucf54/Noun\", \"\\uc0c1\\ud0dc/Noun\", \"\\uc138\\uc0c1/Noun\", \"\\uc5f0\\uc18d/Noun\", \"\\uc544\\uce68/Noun\", \"\\ud558\\ub098/Noun\", \"\\ubcf6\\uc74c/Noun\", \"\\ub610\\ud55c/Noun\", \"\\uac00\\uc7a5/Noun\", \"\\ud504\\ub85c\\uadf8\\ub7a8/Noun\", \"\\ubbfc\\uc724\\uae30/Noun\", \"\\uc57d\\uc18d/Noun\", \"\\uc0ac\\uc6a9/Noun\", \"\\ub77c\\uc774\\ud504/Noun\", \"\\ub2e4\\ub978/Noun\", \"\\uc0dd\\uc77c/Noun\", \"\\uc704\\ud574/Noun\", \"\\uc5b4\\ub3c4/Noun\", \"\\uc624\\ub298/Noun\", \"\\ub9c8\\uc74c/Noun\", \"\\uc544\\uc8fc/Noun\", \"\\uc2dc\\uc2a4\\ud15c/Noun\", \"\\ubaa8\\ub4e0/Noun\", \"\\uc81c\\uc77c/Noun\", \"\\uc774\\uc720/Noun\", \"\\ud1b5\\uc81c/Noun\", \"\\uc815\\ub9d0/Noun\", \"\\uc5ec\\uc790/Noun\", \"\\ud574\\uc678/Noun\", \"\\ub2e4\\uc2dc/Noun\", \"\\uacc4\\uc18d/Noun\", \"\\uadf8\\ub0e5/Noun\", \"\\uc7a1\\uace0/Noun\", \"\\uae30\\ub300/Noun\", \"\\ubc14\\uc9c0/Noun\", \"\\ub290\\ub08c/Noun\", \"\\ub300\\ud654/Noun\", \"\\uc774\\uc0c1/Noun\", \"\\uac00\\uc785/Noun\", \"\\uae30\\uc5b5/Noun\", \"\\ubb34\\uc2a8/Noun\", \"\\ubb34\\ub985\\uc4f0/Noun\", \"\\uc774\\uc218\\uc815/Noun\", \"\\uace0\\uc0dd/Noun\", \"\\ube44\\ud569\\ub9ac\\uc801/Noun\", \"\\uc778\\uc7ac/Noun\", \"\\uc11c\\ube44\\uc2a4/Noun\", \"\\uc5ec\\uae30/Noun\", \"\\ub3d9\\uc548/Noun\", \"\\uae30\\ub85d/Noun\", \"\\ud559\\uad50/Noun\", \"\\uadf8\\ub140/Noun\", \"\\uc9c4\\uc9dc/Noun\", \"\\uadf8\\uac83/Noun\", \"\\uc2a4\\ub2d8/Noun\", \"\\uc77c\\uc774/Noun\", \"\\uc804\\uae43\\uc904/Noun\", \"\\uba38\\ub9ac/Noun\", \"\\ubaa8\\ub450/Noun\", \"\\uc904\\ud0c0\\uae30/Noun\", \"\\uac70\\ub9ac/Noun\", \"\\ub2f9\\uc2e0/Noun\", \"\\uc0ac\\uc9c4/Noun\", \"\\ud544\\ub984/Noun\", \"\\uc0dd\\uac01/Noun\", \"\\uc790\\uc8fc/Noun\", \"\\uac11\\uc790\\uae30/Noun\", \"\\uc18c\\ub9ac/Noun\", \"\\uc2dc\\uac04/Noun\", \"\\uacf5\\uac1c/Noun\", \"\\uacc4\\uc815/Noun\", \"\\uc774\\ubc88/Noun\", \"\\ub178\\ub798/Noun\", \"\\ubc29\\ud559/Noun\", \"\\ud6c4\\ud68c/Noun\", \"\\ucc98\\uc74c/Noun\", \"\\ucd5c\\uace0/Noun\", \"\\ud300\\uc6d0/Noun\", \"\\ucf54\\ud53c/Noun\", \"\\uc0b4\\uc810/Noun\", \"\\ub204\\uad6c/Noun\", \"\\uc6b4\\ub3d9\\uc7a5/Noun\", \"\\ud0c0\\uace0/Noun\", \"\\ubd80\\ud130/Noun\", \"\\ub9e4\\uc77c/Noun\", \"\\uc77c\\ub2e8/Noun\", \"\\uc758\\ubbf8/Noun\", \"\\ubb34\\ucc99/Noun\", \"\\uae30\\ubd84/Noun\", \"\\uadf8\\uac83/Noun\", \"\\uac70\\uae30/Noun\", \"\\uc9c4\\uc9dc/Noun\"], \"Freq\": [20.0, 5.0, 5.0, 5.0, 3.0, 5.0, 3.0, 3.0, 2.0, 4.0, 2.0, 3.0, 3.0, 2.0, 2.0, 2.0, 7.0, 2.0, 3.0, 2.0, 2.0, 2.0, 2.0, 2.0, 2.0, 2.0, 4.0, 2.0, 2.0, 1.0, 7.261373043060303, 18.917524337768555, 6.6703948974609375, 3.581482410430908, 3.599560260772705, 3.5579893589019775, 2.8633360862731934, 2.8169240951538086, 3.4965717792510986, 2.8103830814361572, 2.7581846714019775, 3.5147316455841064, 2.0402824878692627, 2.7407031059265137, 2.7304372787475586, 2.045074462890625, 2.6625280380249023, 2.031525135040283, 2.0080106258392334, 3.3452234268188477, 2.6986873149871826, 2.011195182800293, 2.6318578720092773, 2.635446548461914, 1.9635709524154663, 1.9742944240570068, 2.582540273666382, 2.6192755699157715, 1.9766486883163452, 1.9758294820785522, 5.168229579925537, 2.6070611476898193, 2.5119094848632812, 2.434727191925049, 2.853404998779297, 2.543220043182373, 4.655852317810059, 4.6695685386657715, 4.458251953125, 3.020026683807373, 2.581329822540283, 2.186246395111084, 1.6758397817611694, 1.6588317155838013, 1.6742643117904663, 2.0712478160858154, 1.6599050760269165, 1.6556065082550049, 2.0763697624206543, 2.0296695232391357, 1.6273428201675415, 1.1941909790039062, 1.5778096914291382, 1.1881641149520874, 1.1888545751571655, 1.6047766208648682, 1.933752417564392, 1.173930287361145, 1.1653467416763306, 1.176214575767517, 1.5862709283828735, 1.5452309846878052, 1.16776704788208, 1.1660387516021729, 1.5725083351135254, 1.1508821249008179, 1.9227997064590454, 1.5461033582687378, 3.017829656600952, 1.8174494504928589, 2.2574710845947266, 1.4873141050338745, 2.2412960529327393, 1.4776155948638916, 1.141038417816162, 1.6074717044830322, 1.1207473278045654, 0.9105950593948364, 1.1393976211547852, 1.1425526142120361, 2.0460007190704346, 1.351033329963684, 2.9474213123321533, 0.8987582325935364, 0.8998318910598755, 1.3554319143295288, 2.0163512229919434, 1.1140730381011963, 0.8916416764259338, 0.8870230913162231, 0.8742972612380981, 1.3289899826049805, 1.0921226739883423, 0.6437278389930725, 0.6416386961936951, 0.8529320955276489, 0.6415517926216125, 0.6354720592498779, 1.044582724571228, 0.6312292218208313, 0.6288094520568848, 0.6275851130485535, 1.0339089632034302, 1.4610246419906616, 0.8305407762527466, 1.012877345085144, 0.827679455280304, 1.7831804752349854, 0.8109775185585022, 0.9957610368728638], \"Total\": [20.0, 5.0, 5.0, 5.0, 3.0, 5.0, 3.0, 3.0, 2.0, 4.0, 2.0, 3.0, 3.0, 2.0, 2.0, 2.0, 7.0, 2.0, 3.0, 2.0, 2.0, 2.0, 2.0, 2.0, 2.0, 2.0, 4.0, 2.0, 2.0, 1.0, 7.872399806976318, 20.648176193237305, 7.552392482757568, 4.0986552238464355, 4.1326727867126465, 4.104211807250977, 3.3035266399383545, 3.2727694511413574, 4.0688581466674805, 3.2711055278778076, 3.211233615875244, 4.10420560836792, 2.4058902263641357, 3.234017848968506, 3.2256228923797607, 2.4162328243255615, 3.153353691101074, 2.410980701446533, 2.388012647628784, 3.9785099029541016, 3.210167646408081, 2.3991711139678955, 3.1447017192840576, 3.1562626361846924, 2.3566336631774902, 2.371220111846924, 3.1039791107177734, 3.150190591812134, 2.3800227642059326, 2.379847764968872, 6.252933979034424, 3.1710333824157715, 3.1100542545318604, 3.0593338012695312, 3.8161394596099854, 3.4245240688323975, 5.651614189147949, 5.801548004150391, 5.757547855377197, 3.9536752700805664, 3.4192910194396973, 2.9136922359466553, 2.295494794845581, 2.276998996734619, 2.3057632446289062, 2.873203992843628, 2.3048930168151855, 2.3171586990356445, 2.952714204788208, 2.8988280296325684, 2.356511354446411, 1.7388969659805298, 2.311305522918701, 1.7433032989501953, 1.7453497648239136, 2.3564999103546143, 2.8396551609039307, 1.7280949354171753, 1.7262786626815796, 1.745045781135559, 2.3586063385009766, 2.312492609024048, 1.7491165399551392, 1.7469912767410278, 2.3831019401550293, 1.7461471557617188, 2.933953285217285, 2.3570778369903564, 4.92585563659668, 2.9290976524353027, 4.85677433013916, 4.648593902587891, 3.4639248847961426, 2.3222556114196777, 2.0208117961883545, 2.878932476043701, 2.048703193664551, 1.6687829494476318, 2.088425397872925, 2.0986063480377197, 3.761296033859253, 2.4863200187683105, 5.4338579177856445, 1.6654279232025146, 1.6681275367736816, 2.5226693153381348, 3.764461040496826, 2.0946924686431885, 1.6765828132629395, 1.6954715251922607, 1.6712483167648315, 2.5457801818847656, 2.1430840492248535, 1.2908461093902588, 1.2988998889923096, 1.7353808879852295, 1.3112359046936035, 1.3108880519866943, 2.1872706413269043, 1.325545072555542, 1.3214691877365112, 1.3200328350067139, 2.187943458557129, 3.2168006896972656, 1.785846471786499, 2.2496542930603027, 1.7858691215515137, 4.648593902587891, 1.829296588897705, 4.85677433013916], \"Category\": [\"Default\", \"Default\", \"Default\", \"Default\", \"Default\", \"Default\", \"Default\", \"Default\", \"Default\", \"Default\", \"Default\", \"Default\", \"Default\", \"Default\", \"Default\", \"Default\", \"Default\", \"Default\", \"Default\", \"Default\", \"Default\", \"Default\", \"Default\", \"Default\", \"Default\", \"Default\", \"Default\", \"Default\", \"Default\", \"Default\", \"Topic1\", \"Topic1\", \"Topic1\", \"Topic1\", \"Topic1\", \"Topic1\", \"Topic1\", \"Topic1\", \"Topic1\", \"Topic1\", \"Topic1\", \"Topic1\", \"Topic1\", \"Topic1\", \"Topic1\", \"Topic1\", \"Topic1\", \"Topic1\", \"Topic1\", \"Topic1\", \"Topic1\", \"Topic1\", \"Topic1\", \"Topic1\", \"Topic1\", \"Topic1\", \"Topic1\", \"Topic1\", \"Topic1\", \"Topic1\", \"Topic1\", \"Topic1\", \"Topic1\", \"Topic1\", \"Topic1\", \"Topic1\", \"Topic2\", \"Topic2\", \"Topic2\", \"Topic2\", \"Topic2\", \"Topic2\", \"Topic2\", \"Topic2\", \"Topic2\", \"Topic2\", \"Topic2\", \"Topic2\", \"Topic2\", \"Topic2\", \"Topic2\", \"Topic2\", \"Topic2\", \"Topic2\", \"Topic2\", \"Topic2\", \"Topic2\", \"Topic2\", \"Topic2\", \"Topic2\", \"Topic2\", \"Topic2\", \"Topic2\", \"Topic2\", \"Topic2\", \"Topic2\", \"Topic2\", \"Topic2\", \"Topic2\", \"Topic2\", \"Topic2\", \"Topic2\", \"Topic3\", \"Topic3\", \"Topic3\", \"Topic3\", \"Topic3\", \"Topic3\", \"Topic3\", \"Topic3\", \"Topic3\", \"Topic3\", \"Topic3\", \"Topic3\", \"Topic3\", \"Topic3\", \"Topic3\", \"Topic3\", \"Topic3\", \"Topic3\", \"Topic3\", \"Topic3\", \"Topic3\", \"Topic3\", \"Topic3\", \"Topic3\", \"Topic3\", \"Topic3\", \"Topic3\", \"Topic3\", \"Topic3\", \"Topic3\", \"Topic3\", \"Topic3\", \"Topic3\", \"Topic3\", \"Topic3\", \"Topic3\", \"Topic3\", \"Topic3\"], \"logprob\": [30.0, 29.0, 28.0, 27.0, 26.0, 25.0, 24.0, 23.0, 22.0, 21.0, 20.0, 19.0, 18.0, 17.0, 16.0, 15.0, 14.0, 13.0, 12.0, 11.0, 10.0, 9.0, 8.0, 7.0, 6.0, 5.0, 4.0, 3.0, 2.0, 1.0, -4.4816999435424805, -3.524199962615967, -4.5665998458862305, -5.188499927520752, -5.183499813079834, -5.195099830627441, -5.412300109863281, -5.428699970245361, -5.212500095367432, -5.431000232696533, -5.449699878692627, -5.207300186157227, -5.751200199127197, -5.456099987030029, -5.459799766540527, -5.748899936676025, -5.485000133514404, -5.755499839782715, -5.767199993133545, -5.256800174713135, -5.471499919891357, -5.765600204467773, -5.496600151062012, -5.495200157165527, -5.7895002365112305, -5.78410005569458, -5.515500068664551, -5.501399993896484, -5.782899856567383, -5.783299922943115, -4.821800231933594, -5.506100177764893, -5.543300151824951, -5.57450008392334, -5.415800094604492, -5.530900001525879, -4.390999794006348, -4.388000011444092, -4.434299945831299, -4.823800086975098, -4.980800151824951, -5.146900177001953, -5.412799835205078, -5.422999858856201, -5.413700103759766, -5.200900077819824, -5.422299861907959, -5.424900054931641, -5.198500156402588, -5.221199989318848, -5.4421000480651855, -5.7515997886657715, -5.4730000495910645, -5.756700038909912, -5.756100177764893, -5.456099987030029, -5.269599914550781, -5.768700122833252, -5.776100158691406, -5.7667999267578125, -5.467700004577637, -5.493899822235107, -5.77400016784668, -5.7754998207092285, -5.476399898529053, -5.788599967956543, -5.275300025939941, -5.493299961090088, -4.82450008392334, -5.331600189208984, -5.114799976348877, -5.532100200653076, -4.532299995422363, -4.94890022277832, -5.207399845123291, -4.864699840545654, -5.225299835205078, -5.433000087738037, -5.208799839019775, -5.206099987030029, -4.623499870300293, -5.03849983215332, -4.258399963378906, -5.446100234985352, -5.444900035858154, -5.035200119018555, -4.6381001472473145, -5.231299877166748, -5.453999996185303, -5.459199905395508, -5.473700046539307, -5.054900169372559, -5.251200199127197, -5.779799938201904, -5.783100128173828, -5.4984002113342285, -5.783199787139893, -5.792699813842773, -5.2957000732421875, -5.7993998527526855, -5.803299903869629, -5.805200099945068, -5.306000232696533, -4.96019983291626, -5.525000095367432, -5.326499938964844, -5.528500080108643, -4.760900020599365, -5.548900127410889, -5.343599796295166], \"loglift\": [30.0, 29.0, 28.0, 27.0, 26.0, 25.0, 24.0, 23.0, 22.0, 21.0, 20.0, 19.0, 18.0, 17.0, 16.0, 15.0, 14.0, 13.0, 12.0, 11.0, 10.0, 9.0, 8.0, 7.0, 6.0, 5.0, 4.0, 3.0, 2.0, 1.0, 0.5663999915122986, 0.5597000122070312, 0.5230000019073486, 0.5123000144958496, 0.5091000199317932, 0.5044000148773193, 0.5041999816894531, 0.49720001220703125, 0.49559998512268066, 0.49540001153945923, 0.4950999915599823, 0.49219998717308044, 0.48240000009536743, 0.48170000314712524, 0.4805000126361847, 0.4803999960422516, 0.4779999852180481, 0.47600001096725464, 0.4738999903202057, 0.47380000352859497, 0.47369998693466187, 0.4708000123500824, 0.4691999852657318, 0.4668999910354614, 0.46470001339912415, 0.46399998664855957, 0.4632999897003174, 0.4625999927520752, 0.46149998903274536, 0.4611999988555908, 0.45669999718666077, 0.4514000117778778, 0.4336000084877014, 0.4187999963760376, 0.3564999997615814, 0.349700003862381, 0.9886000156402588, 0.965399980545044, 0.9266999959945679, 0.913100004196167, 0.9013000130653381, 0.8952000141143799, 0.8677999973297119, 0.8657000064849854, 0.8623999953269958, 0.8551999926567078, 0.854200005531311, 0.8463000059127808, 0.830299973487854, 0.8259999752044678, 0.8122000098228455, 0.8065999746322632, 0.8007000088691711, 0.7990999817848206, 0.7985000014305115, 0.7982000112533569, 0.7982000112533569, 0.795799970626831, 0.7894999980926514, 0.7879999876022339, 0.7857000231742859, 0.7792999744415283, 0.7784000039100647, 0.7781000137329102, 0.766700029373169, 0.765500009059906, 0.7598999738693237, 0.760699987411499, 0.6924999952316284, 0.7052000164985657, 0.4162999987602234, 0.04280000180006027, 1.3367999792099, 1.320099949836731, 1.200600028038025, 1.1893999576568604, 1.1690000295639038, 1.1663999557495117, 1.1663000583648682, 1.164199948310852, 1.1633000373840332, 1.1621999740600586, 1.1604000329971313, 1.1553000211715698, 1.1548999547958374, 1.1510000228881836, 1.1478999853134155, 1.1407999992370605, 1.1406999826431274, 1.1243000030517578, 1.1243000030517578, 1.1220999956130981, 1.0980000495910645, 1.0764000415802002, 1.0669000148773193, 1.061900019645691, 1.0572999715805054, 1.0480999946594238, 1.0331000089645386, 1.0303000211715698, 1.0295000076293945, 1.0285999774932861, 1.0226000547409058, 0.9829000234603882, 1.006600022315979, 0.9742000102996826, 1.003100037574768, 0.8140000104904175, 0.9587000012397766, 0.1875]}, \"token.table\": {\"Topic\": [1, 2, 1, 3, 1, 3, 1, 3, 1, 1, 2, 3, 1, 2, 1, 3, 1, 2, 3, 1, 2, 1, 2, 2, 1, 2, 1, 3, 2, 1, 3, 1, 3, 2, 1, 1, 2, 1, 3, 1, 2, 1, 2, 1, 1, 1, 2, 1, 3, 1, 3, 1, 3, 1, 1, 2, 1, 2, 2, 1, 1, 3, 1, 1, 2, 1, 1, 3, 1, 1, 1, 1, 3, 2, 1, 2, 3, 1, 2, 1, 2, 3, 3, 1, 1, 2, 3, 1, 1, 2, 1, 1, 3, 1, 3, 1, 2, 3, 1, 2, 1, 2, 1, 1, 1, 1, 2, 1, 2, 1, 1, 1, 2, 1, 2, 3, 1, 1, 2, 1, 3, 1, 3, 1, 2, 1, 2, 2, 2, 1, 3, 1, 3, 3, 1, 2, 1, 3, 2, 1, 2, 3, 1, 2, 3, 3, 3, 1, 1, 3, 3, 2, 1, 3, 1, 1, 3, 1, 1, 2, 2, 1, 3], \"Freq\": [0.3521554470062256, 0.7043108940124512, 0.9665013551712036, 0.5994745492935181, 0.5466582179069519, 0.5466582179069519, 0.47882965207099915, 0.47882965207099915, 0.9166548252105713, 0.3386714458465576, 0.6773428916931152, 0.5964512825012207, 0.4324338138103485, 0.864867627620697, 0.47739705443382263, 0.47739705443382263, 0.21511881053447723, 0.21511881053447723, 0.43023762106895447, 0.3449670076370239, 0.6899340152740479, 0.3414020836353302, 0.6828041672706604, 0.5750771760940552, 0.4242541193962097, 0.8485082387924194, 0.5599514245986938, 0.5599514245986938, 0.578671932220459, 0.9678966403007507, 0.5983551144599915, 0.45719078183174133, 0.45719078183174133, 0.5736236572265625, 0.9646133780479431, 0.43156301975250244, 0.8631260395050049, 0.47650671005249023, 0.47650671005249023, 0.9746085405349731, 0.572951078414917, 0.3408370614051819, 0.6816741228103638, 0.8434476256370544, 0.9460638165473938, 0.17236778140068054, 0.8618389368057251, 0.4570502042770386, 0.4570502042770386, 0.34735098481178284, 0.6947019696235657, 0.8295379281044006, 0.4881136417388916, 0.8312931060791016, 0.29245829582214355, 0.8773748874664307, 0.9081203937530518, 0.573050856590271, 0.5792807340621948, 0.9171211123466492, 0.4445127546787262, 0.4445127546787262, 0.8403280973434448, 0.4326559007167816, 0.8653118014335632, 0.737307608127594, 0.39280688762664795, 0.39280688762664795, 0.9746100306510925, 0.9300529360771179, 0.975929856300354, 0.8486681580543518, 0.7575569152832031, 0.5717172026634216, 0.9201781153678894, 0.0484304279088974, 0.0484304279088974, 0.7996246218681335, 0.1599249243736267, 0.2658658027648926, 0.2658658027648926, 0.5317316055297852, 0.7628416419029236, 0.754051148891449, 0.3680626153945923, 0.18403130769729614, 0.5520939230918884, 0.6537370681762695, 0.41962116956710815, 0.8392423391342163, 0.9345306158065796, 0.39640551805496216, 0.39640551805496216, 0.28868985176086426, 0.5773797035217285, 0.26564228534698486, 0.26564228534698486, 0.5312845706939697, 0.2529292106628418, 0.7587876319885254, 0.17368505895137787, 0.6947402358055115, 0.9539855718612671, 0.9513680934906006, 0.8403899073600769, 0.876034140586853, 0.572689414024353, 0.3480435013771057, 0.6960870027542114, 0.8336212635040283, 0.9276386499404907, 0.17694060504436493, 0.8847029805183411, 0.9268586039543152, 0.13240836560726166, 0.7544066309928894, 0.9342204332351685, 0.7861347794532776, 0.2620449364185333, 0.5599585771560669, 0.5599585771560669, 0.5898064374923706, 0.5898064374923706, 0.42435818910598755, 0.8487163782119751, 0.4239791929721832, 0.8479583859443665, 0.8712718486785889, 0.5724127292633057, 0.31086787581443787, 0.31086787581443787, 0.4306158125400543, 0.4306158125400543, 0.6004462838172913, 0.4243561029434204, 0.8487122058868408, 0.8277348279953003, 0.49485063552856445, 0.8673917651176453, 0.34320715069770813, 0.6864143013954163, 0.5992391109466553, 0.4117959439754486, 0.4117959439754486, 0.2058979719877243, 0.7746856808662415, 0.7698822617530823, 0.8891825079917908, 0.8375164866447449, 0.7626392841339111, 0.7567334771156311, 0.8783490657806396, 0.5762423872947693, 0.5762423872947693, 0.952323317527771, 0.402200847864151, 0.402200847864151, 0.9504912495613098, 0.4060208201408386, 0.6090312600135803, 0.8677192330360413, 0.46661725640296936, 0.46661725640296936], \"Term\": [\"\\uac00\\uc785/Noun\", \"\\uac00\\uc785/Noun\", \"\\uac00\\uc7a5/Noun\", \"\\uac11\\uc790\\uae30/Noun\", \"\\uac70\\uae30/Noun\", \"\\uac70\\uae30/Noun\", \"\\uac70\\ub9ac/Noun\", \"\\uac70\\ub9ac/Noun\", \"\\uac78\\uc74c/Noun\", \"\\uacc4\\uc18d/Noun\", \"\\uacc4\\uc18d/Noun\", \"\\uacc4\\uc815/Noun\", \"\\uace0\\uc0dd/Noun\", \"\\uace0\\uc0dd/Noun\", \"\\uacf5\\uac1c/Noun\", \"\\uacf5\\uac1c/Noun\", \"\\uadf8\\uac83/Noun\", \"\\uadf8\\uac83/Noun\", \"\\uadf8\\uac83/Noun\", \"\\uadf8\\ub0e5/Noun\", \"\\uadf8\\ub0e5/Noun\", \"\\uadf8\\ub140/Noun\", \"\\uadf8\\ub140/Noun\", \"\\uae30\\ub300/Noun\", \"\\uae30\\ub85d/Noun\", \"\\uae30\\ub85d/Noun\", \"\\uae30\\ubd84/Noun\", \"\\uae30\\ubd84/Noun\", \"\\uae30\\uc5b5/Noun\", \"\\ub0b4\\uc77c/Noun\", \"\\ub178\\ub798/Noun\", \"\\ub204\\uad6c/Noun\", \"\\ub204\\uad6c/Noun\", \"\\ub290\\ub08c/Noun\", \"\\ub2e4\\ub978/Noun\", \"\\ub2e4\\uc2dc/Noun\", \"\\ub2e4\\uc2dc/Noun\", \"\\ub2f9\\uc2e0/Noun\", \"\\ub2f9\\uc2e0/Noun\", \"\\ub300\\ud55c/Noun\", \"\\ub300\\ud654/Noun\", \"\\ub3d9\\uc548/Noun\", \"\\ub3d9\\uc548/Noun\", \"\\ub610\\ud55c/Noun\", \"\\ub77c\\uc774\\ud504/Noun\", \"\\ub9c8\\uc74c/Noun\", \"\\ub9c8\\uc74c/Noun\", \"\\ub9e4\\uc77c/Noun\", \"\\ub9e4\\uc77c/Noun\", \"\\uba38\\ub9ac/Noun\", \"\\uba38\\ub9ac/Noun\", \"\\uba85\\uc0c1/Noun\", \"\\ubaa8\\ub450/Noun\", \"\\ubaa8\\ub4c8/Noun\", \"\\ubaa8\\ub4e0/Noun\", \"\\ubaa8\\ub4e0/Noun\", \"\\ubab9\\uc2dc/Noun\", \"\\ubb34\\ub985\\uc4f0/Noun\", \"\\ubb34\\uc2a8/Noun\", \"\\ubb34\\uc5c7/Noun\", \"\\ubb34\\ucc99/Noun\", \"\\ubb34\\ucc99/Noun\", \"\\ubbfc\\uc724\\uae30/Noun\", \"\\ubc14\\uc9c0/Noun\", \"\\ubc14\\uc9c0/Noun\", \"\\ubc29\\ubc95/Noun\", \"\\ubc29\\ud559/Noun\", \"\\ubc29\\ud559/Noun\", \"\\ubc84\\uc804/Noun\", \"\\ubc8c\\uc368/Noun\", \"\\ubca0\\ud0c0/Noun\", \"\\ubcf6\\uc74c/Noun\", \"\\ubd80\\ud130/Noun\", \"\\ube44\\ud569\\ub9ac\\uc801/Noun\", \"\\uc0ac\\ub78c/Noun\", \"\\uc0ac\\ub78c/Noun\", \"\\uc0ac\\ub78c/Noun\", \"\\uc0ac\\uc6a9/Noun\", \"\\uc0ac\\uc6a9/Noun\", \"\\uc0ac\\uc9c4/Noun\", \"\\uc0ac\\uc9c4/Noun\", \"\\uc0ac\\uc9c4/Noun\", \"\\uc0b4\\uc810/Noun\", \"\\uc0c1\\ud0dc/Noun\", \"\\uc0dd\\uac01/Noun\", \"\\uc0dd\\uac01/Noun\", \"\\uc0dd\\uac01/Noun\", \"\\uc0dd\\uc77c/Noun\", \"\\uc11c\\ube44\\uc2a4/Noun\", \"\\uc11c\\ube44\\uc2a4/Noun\", \"\\uc138\\uc0c1/Noun\", \"\\uc18c\\ub9ac/Noun\", \"\\uc18c\\ub9ac/Noun\", \"\\uc2a4\\ub2d8/Noun\", \"\\uc2a4\\ub2d8/Noun\", \"\\uc2dc\\uac04/Noun\", \"\\uc2dc\\uac04/Noun\", \"\\uc2dc\\uac04/Noun\", \"\\uc2dc\\uc2a4\\ud15c/Noun\", \"\\uc2dc\\uc2a4\\ud15c/Noun\", \"\\uc544\\uc8fc/Noun\", \"\\uc544\\uc8fc/Noun\", \"\\uc544\\uce68/Noun\", \"\\uc57d\\uac04/Noun\", \"\\uc57d\\uc18d/Noun\", \"\\uc5b4\\ub3c4/Noun\", \"\\uc5ec\\uae30/Noun\", \"\\uc5ec\\uc790/Noun\", \"\\uc5ec\\uc790/Noun\", \"\\uc5f0\\uc18d/Noun\", \"\\uc608\\uc9c0/Noun\", \"\\uc624\\ub298/Noun\", \"\\uc624\\ub298/Noun\", \"\\uc6b0\\ub9ac/Noun\", \"\\uc6b0\\ub9ac/Noun\", \"\\uc6b4\\ub3d9\\uc7a5/Noun\", \"\\uc704\\ub85c/Noun\", \"\\uc704\\ud574/Noun\", \"\\uc704\\ud574/Noun\", \"\\uc758\\ubbf8/Noun\", \"\\uc758\\ubbf8/Noun\", \"\\uc774\\ubc88/Noun\", \"\\uc774\\ubc88/Noun\", \"\\uc774\\uc0c1/Noun\", \"\\uc774\\uc0c1/Noun\", \"\\uc774\\uc218\\uc815/Noun\", \"\\uc774\\uc218\\uc815/Noun\", \"\\uc774\\uc720/Noun\", \"\\uc778\\uc7ac/Noun\", \"\\uc77c\\ub2e8/Noun\", \"\\uc77c\\ub2e8/Noun\", \"\\uc77c\\uc774/Noun\", \"\\uc77c\\uc774/Noun\", \"\\uc790\\uc8fc/Noun\", \"\\uc7a1\\uace0/Noun\", \"\\uc7a1\\uace0/Noun\", \"\\uc800\\ud0dd/Noun\", \"\\uc804\\uae43\\uc904/Noun\", \"\\uc815\\ub9d0/Noun\", \"\\uc81c\\uc77c/Noun\", \"\\uc81c\\uc77c/Noun\", \"\\uc904\\ud0c0\\uae30/Noun\", \"\\uc9c4\\uc9dc/Noun\", \"\\uc9c4\\uc9dc/Noun\", \"\\uc9c4\\uc9dc/Noun\", \"\\ucc98\\uc74c/Noun\", \"\\ucd5c\\uace0/Noun\", \"\\uce5c\\uad6c/Noun\", \"\\ucf54\\ucf54/Noun\", \"\\ucf54\\ud53c/Noun\", \"\\ud0c0\\uace0/Noun\", \"\\ud1b5\\uc81c/Noun\", \"\\ud300\\uc6d0/Noun\", \"\\ud300\\uc6d0/Noun\", \"\\ud504\\ub85c\\uadf8\\ub7a8/Noun\", \"\\ud544\\ub984/Noun\", \"\\ud544\\ub984/Noun\", \"\\ud558\\ub098/Noun\", \"\\ud559\\uad50/Noun\", \"\\ud559\\uad50/Noun\", \"\\ud574\\uc678/Noun\", \"\\ud6c4\\ud68c/Noun\", \"\\ud6c4\\ud68c/Noun\"]}, \"R\": 30, \"lambda.step\": 0.01, \"plot.opts\": {\"xlab\": \"PC1\", \"ylab\": \"PC2\"}, \"topic.order\": [3, 2, 1]};\n",
       "\n",
       "function LDAvis_load_lib(url, callback){\n",
       "  var s = document.createElement('script');\n",
       "  s.src = url;\n",
       "  s.async = true;\n",
       "  s.onreadystatechange = s.onload = callback;\n",
       "  s.onerror = function(){console.warn(\"failed to load library \" + url);};\n",
       "  document.getElementsByTagName(\"head\")[0].appendChild(s);\n",
       "}\n",
       "\n",
       "if(typeof(LDAvis) !== \"undefined\"){\n",
       "   // already loaded: just create the visualization\n",
       "   !function(LDAvis){\n",
       "       new LDAvis(\"#\" + \"ldavis_el102031402333829863209834779637\", ldavis_el102031402333829863209834779637_data);\n",
       "   }(LDAvis);\n",
       "}else if(typeof define === \"function\" && define.amd){\n",
       "   // require.js is available: use it to load d3/LDAvis\n",
       "   require.config({paths: {d3: \"https://cdnjs.cloudflare.com/ajax/libs/d3/3.5.5/d3.min\"}});\n",
       "   require([\"d3\"], function(d3){\n",
       "      window.d3 = d3;\n",
       "      LDAvis_load_lib(\"https://cdn.rawgit.com/bmabey/pyLDAvis/files/ldavis.v1.0.0.js\", function(){\n",
       "        new LDAvis(\"#\" + \"ldavis_el102031402333829863209834779637\", ldavis_el102031402333829863209834779637_data);\n",
       "      });\n",
       "    });\n",
       "}else{\n",
       "    // require.js not available: dynamically load d3 & LDAvis\n",
       "    LDAvis_load_lib(\"https://cdnjs.cloudflare.com/ajax/libs/d3/3.5.5/d3.min.js\", function(){\n",
       "         LDAvis_load_lib(\"https://cdn.rawgit.com/bmabey/pyLDAvis/files/ldavis.v1.0.0.js\", function(){\n",
       "                 new LDAvis(\"#\" + \"ldavis_el102031402333829863209834779637\", ldavis_el102031402333829863209834779637_data);\n",
       "            })\n",
       "         });\n",
       "}\n",
       "</script>"
      ],
      "text/plain": [
       "PreparedData(topic_coordinates=                 x            y  topics  cluster       Freq\n",
       "topic                                                      \n",
       "2     -1015.700562  1338.981201       1        1  52.350311\n",
       "1      -387.996002  -373.316162       2        1  30.653275\n",
       "0     -2184.745605   -60.565800       3        1  16.996414, topic_info=        Term       Freq      Total Category  logprob  loglift\n",
       "117  사람/Noun  20.000000  20.000000  Default  30.0000  30.0000\n",
       "38   생각/Noun   5.000000   5.000000  Default  29.0000  29.0000\n",
       "249  오늘/Noun   5.000000   5.000000  Default  28.0000  28.0000\n",
       "204  마음/Noun   5.000000   5.000000  Default  27.0000  27.0000\n",
       "137  스님/Noun   3.000000   3.000000  Default  26.0000  26.0000\n",
       "..       ...        ...        ...      ...      ...      ...\n",
       "128  무척/Noun   1.012877   2.249654   Topic3  -5.3265   0.9742\n",
       "310  기분/Noun   0.827679   1.785869   Topic3  -5.5285   1.0031\n",
       "66   그것/Noun   1.783180   4.648594   Topic3  -4.7609   0.8140\n",
       "54   거기/Noun   0.810978   1.829297   Topic3  -5.5489   0.9587\n",
       "58   진짜/Noun   0.995761   4.856774   Topic3  -5.3436   0.1875\n",
       "\n",
       "[140 rows x 6 columns], token_table=      Topic      Freq      Term\n",
       "term                           \n",
       "229       1  0.352155   가입/Noun\n",
       "229       2  0.704311   가입/Noun\n",
       "125       1  0.966501   가장/Noun\n",
       "59        3  0.599475  갑자기/Noun\n",
       "54        1  0.546658   거기/Noun\n",
       "...     ...       ...       ...\n",
       "252       1  0.406021   학교/Noun\n",
       "252       2  0.609031   학교/Noun\n",
       "269       2  0.867719   해외/Noun\n",
       "230       1  0.466617   후회/Noun\n",
       "230       3  0.466617   후회/Noun\n",
       "\n",
       "[163 rows x 3 columns], R=30, lambda_step=0.01, plot_opts={'xlab': 'PC1', 'ylab': 'PC2'}, topic_order=[3, 2, 1])"
      ]
     },
     "execution_count": 25,
     "metadata": {},
     "output_type": "execute_result"
    }
   ],
   "source": [
    "# 3-topic LDA 모델 - MDS Mapping\n",
    "\n",
    "corpus_lda = lda_ko[tfidf_ko]\n",
    "\n",
    "pyLDAvis.enable_notebook()\n",
    "panel = pyLDAvis.gensim.prepare(lda_ko, corpus_lda, dictionary_ko, mds='tsne')\n",
    "panel"
   ]
  },
  {
   "cell_type": "code",
   "execution_count": null,
   "metadata": {},
   "outputs": [],
   "source": []
  },
  {
   "cell_type": "code",
   "execution_count": 26,
   "metadata": {},
   "outputs": [],
   "source": [
    "def getNVM_lemma(text):\n",
    "    tokenizer = MeCab.Tagger()\n",
    "    parsed = tokenizer.parse(text)\n",
    "    word_tag = [w for w in parsed.split(\"\\n\")]\n",
    "    pos = []\n",
    "    tags = ['NNG','NNP','VV','VA', 'VX', 'VCP','VCN']\n",
    "    for word_ in word_tag[:-2]:\n",
    "        word = word_.split(\"\\t\")\n",
    "        tag = word[1].split(\",\")\n",
    "        if(len(word[0]) < 2) or (\"게\" in word[0]):\n",
    "            continue\n",
    "        if(tag[-1] != '*'):\n",
    "            t = tag[-1].split('/')\n",
    "            if(len(t[0]) > 1 and ('VV' in t[1] or 'VA' in t[1] or 'VX' in t[1])):\n",
    "                pos.append(t[0])\n",
    "        else:\n",
    "            if(tag[0] in tags):\n",
    "                pos.append(word[0])\n",
    "    return pos"
   ]
  },
  {
   "cell_type": "code",
   "execution_count": 27,
   "metadata": {},
   "outputs": [
    {
     "name": "stdout",
     "output_type": "stream",
     "text": [
      "Created 135 X 137 document-term matrix\n"
     ]
    }
   ],
   "source": [
    "vectorizer = CountVectorizer(tokenizer=getNVM_lemma, min_df=2)\n",
    "x_counts = vectorizer.fit_transform(df['content'].values.astype('U'))\n",
    "print( \"Created %d X %d document-term matrix\" % (x_counts.shape[0], x_counts.shape[1]) )\n",
    "transformer = TfidfTransformer(smooth_idf=False);\n",
    "x_tfidf = transformer.fit_transform(x_counts);"
   ]
  },
  {
   "cell_type": "code",
   "execution_count": 28,
   "metadata": {},
   "outputs": [
    {
     "name": "stdout",
     "output_type": "stream",
     "text": [
      "Vocabulary has 137 distinct terms\n"
     ]
    }
   ],
   "source": [
    "terms = vectorizer.get_feature_names()\n",
    "print(\"Vocabulary has %d distinct terms\" % len(terms))"
   ]
  },
  {
   "cell_type": "code",
   "execution_count": 29,
   "metadata": {},
   "outputs": [
    {
     "data": {
      "text/plain": [
       "NMF(init='nndsvd', n_components=10)"
      ]
     },
     "execution_count": 29,
     "metadata": {},
     "output_type": "execute_result"
    }
   ],
   "source": [
    "xtfidf_norm = normalize(x_tfidf, norm='l1', axis=1)\n",
    "model = NMF(n_components=10, init='nndsvd');\n",
    "model.fit(xtfidf_norm)"
   ]
  },
  {
   "cell_type": "code",
   "execution_count": 30,
   "metadata": {},
   "outputs": [],
   "source": [
    "def get_nmf_topics(model, n_top_words):\n",
    "    \n",
    "    feat_names = vectorizer.get_feature_names()\n",
    "    \n",
    "    word_dict = {};\n",
    "    for i in range(num_topics):\n",
    "        \n",
    "        words_ids = model.components_[i].argsort()[:-10 - 1:-1]\n",
    "        words = [feat_names[key] for key in words_ids]\n",
    "        word_dict['Topic # ' + '{:02d}'.format(i+1)] = words;\n",
    "    \n",
    "    return pd.DataFrame(word_dict);"
   ]
  },
  {
   "cell_type": "code",
   "execution_count": 31,
   "metadata": {},
   "outputs": [
    {
     "data": {
      "text/html": [
       "<div>\n",
       "<style scoped>\n",
       "    .dataframe tbody tr th:only-of-type {\n",
       "        vertical-align: middle;\n",
       "    }\n",
       "\n",
       "    .dataframe tbody tr th {\n",
       "        vertical-align: top;\n",
       "    }\n",
       "\n",
       "    .dataframe thead th {\n",
       "        text-align: right;\n",
       "    }\n",
       "</style>\n",
       "<table border=\"1\" class=\"dataframe\">\n",
       "  <thead>\n",
       "    <tr style=\"text-align: right;\">\n",
       "      <th></th>\n",
       "      <th>Topic # 01</th>\n",
       "    </tr>\n",
       "  </thead>\n",
       "  <tbody>\n",
       "    <tr>\n",
       "      <th>0</th>\n",
       "      <td>날씨</td>\n",
       "    </tr>\n",
       "    <tr>\n",
       "      <th>1</th>\n",
       "      <td>생일</td>\n",
       "    </tr>\n",
       "    <tr>\n",
       "      <th>2</th>\n",
       "      <td>시작</td>\n",
       "    </tr>\n",
       "    <tr>\n",
       "      <th>3</th>\n",
       "      <td>기념</td>\n",
       "    </tr>\n",
       "    <tr>\n",
       "      <th>4</th>\n",
       "      <td>카메라</td>\n",
       "    </tr>\n",
       "    <tr>\n",
       "      <th>5</th>\n",
       "      <td>필름</td>\n",
       "    </tr>\n",
       "    <tr>\n",
       "      <th>6</th>\n",
       "      <td>개강</td>\n",
       "    </tr>\n",
       "    <tr>\n",
       "      <th>7</th>\n",
       "      <td>기분</td>\n",
       "    </tr>\n",
       "    <tr>\n",
       "      <th>8</th>\n",
       "      <td>지나</td>\n",
       "    </tr>\n",
       "    <tr>\n",
       "      <th>9</th>\n",
       "      <td>열리</td>\n",
       "    </tr>\n",
       "  </tbody>\n",
       "</table>\n",
       "</div>"
      ],
      "text/plain": [
       "  Topic # 01\n",
       "0         날씨\n",
       "1         생일\n",
       "2         시작\n",
       "3         기념\n",
       "4        카메라\n",
       "5         필름\n",
       "6         개강\n",
       "7         기분\n",
       "8         지나\n",
       "9         열리"
      ]
     },
     "execution_count": 31,
     "metadata": {},
     "output_type": "execute_result"
    }
   ],
   "source": [
    "num_topics = 1\n",
    "nmf_df = get_nmf_topics(model, 2)\n",
    "nmf_df"
   ]
  },
  {
   "cell_type": "code",
   "execution_count": 32,
   "metadata": {},
   "outputs": [
    {
     "data": {
      "text/html": [
       "<div>\n",
       "<style scoped>\n",
       "    .dataframe tbody tr th:only-of-type {\n",
       "        vertical-align: middle;\n",
       "    }\n",
       "\n",
       "    .dataframe tbody tr th {\n",
       "        vertical-align: top;\n",
       "    }\n",
       "\n",
       "    .dataframe thead th {\n",
       "        text-align: right;\n",
       "    }\n",
       "</style>\n",
       "<table border=\"1\" class=\"dataframe\">\n",
       "  <thead>\n",
       "    <tr style=\"text-align: right;\">\n",
       "      <th></th>\n",
       "      <th>Topic # 01</th>\n",
       "      <th>Topic # 02</th>\n",
       "      <th>Topic # 03</th>\n",
       "      <th>Topic # 04</th>\n",
       "      <th>Topic # 05</th>\n",
       "    </tr>\n",
       "  </thead>\n",
       "  <tbody>\n",
       "    <tr>\n",
       "      <th>0</th>\n",
       "      <td>날씨</td>\n",
       "      <td>도어</td>\n",
       "      <td>민윤기</td>\n",
       "      <td>최고</td>\n",
       "      <td>친구</td>\n",
       "    </tr>\n",
       "    <tr>\n",
       "      <th>1</th>\n",
       "      <td>생일</td>\n",
       "      <td>소통</td>\n",
       "      <td>허리</td>\n",
       "      <td>재재</td>\n",
       "      <td>서비스</td>\n",
       "    </tr>\n",
       "    <tr>\n",
       "      <th>2</th>\n",
       "      <td>시작</td>\n",
       "      <td>관심</td>\n",
       "      <td>기다리</td>\n",
       "      <td>보내</td>\n",
       "      <td>필름</td>\n",
       "    </tr>\n",
       "    <tr>\n",
       "      <th>3</th>\n",
       "      <td>기념</td>\n",
       "      <td>관계</td>\n",
       "      <td>따르</td>\n",
       "      <td>자르</td>\n",
       "      <td>만들</td>\n",
       "    </tr>\n",
       "    <tr>\n",
       "      <th>4</th>\n",
       "      <td>카메라</td>\n",
       "      <td>공유</td>\n",
       "      <td>재밌</td>\n",
       "      <td>낌새</td>\n",
       "      <td>공유</td>\n",
       "    </tr>\n",
       "    <tr>\n",
       "      <th>5</th>\n",
       "      <td>필름</td>\n",
       "      <td>오늘</td>\n",
       "      <td>머리</td>\n",
       "      <td>방법</td>\n",
       "      <td>사용</td>\n",
       "    </tr>\n",
       "    <tr>\n",
       "      <th>6</th>\n",
       "      <td>개강</td>\n",
       "      <td>보내</td>\n",
       "      <td>떠나</td>\n",
       "      <td>보이</td>\n",
       "      <td>소통</td>\n",
       "    </tr>\n",
       "    <tr>\n",
       "      <th>7</th>\n",
       "      <td>기분</td>\n",
       "      <td>그리</td>\n",
       "      <td>순간</td>\n",
       "      <td>머리</td>\n",
       "      <td>사람</td>\n",
       "    </tr>\n",
       "    <tr>\n",
       "      <th>8</th>\n",
       "      <td>지나</td>\n",
       "      <td>공개</td>\n",
       "      <td>건너</td>\n",
       "      <td>모르</td>\n",
       "      <td>버전</td>\n",
       "    </tr>\n",
       "    <tr>\n",
       "      <th>9</th>\n",
       "      <td>열리</td>\n",
       "      <td>방학</td>\n",
       "      <td>부르</td>\n",
       "      <td>따르</td>\n",
       "      <td>베타</td>\n",
       "    </tr>\n",
       "  </tbody>\n",
       "</table>\n",
       "</div>"
      ],
      "text/plain": [
       "  Topic # 01 Topic # 02 Topic # 03 Topic # 04 Topic # 05\n",
       "0         날씨         도어        민윤기         최고         친구\n",
       "1         생일         소통         허리         재재        서비스\n",
       "2         시작         관심        기다리         보내         필름\n",
       "3         기념         관계         따르         자르         만들\n",
       "4        카메라         공유         재밌         낌새         공유\n",
       "5         필름         오늘         머리         방법         사용\n",
       "6         개강         보내         떠나         보이         소통\n",
       "7         기분         그리         순간         머리         사람\n",
       "8         지나         공개         건너         모르         버전\n",
       "9         열리         방학         부르         따르         베타"
      ]
     },
     "execution_count": 32,
     "metadata": {},
     "output_type": "execute_result"
    }
   ],
   "source": [
    "num_topics = 5\n",
    "nmf_df = get_nmf_topics(model, 5)\n",
    "nmf_df"
   ]
  },
  {
   "cell_type": "code",
   "execution_count": 34,
   "metadata": {
    "scrolled": true
   },
   "outputs": [
    {
     "data": {
      "text/html": [
       "<div>\n",
       "<style scoped>\n",
       "    .dataframe tbody tr th:only-of-type {\n",
       "        vertical-align: middle;\n",
       "    }\n",
       "\n",
       "    .dataframe tbody tr th {\n",
       "        vertical-align: top;\n",
       "    }\n",
       "\n",
       "    .dataframe thead th {\n",
       "        text-align: right;\n",
       "    }\n",
       "</style>\n",
       "<table border=\"1\" class=\"dataframe\">\n",
       "  <thead>\n",
       "    <tr style=\"text-align: right;\">\n",
       "      <th></th>\n",
       "      <th>Topic # 01</th>\n",
       "      <th>Topic # 02</th>\n",
       "      <th>Topic # 03</th>\n",
       "      <th>Topic # 04</th>\n",
       "      <th>Topic # 05</th>\n",
       "      <th>Topic # 06</th>\n",
       "      <th>Topic # 07</th>\n",
       "      <th>Topic # 08</th>\n",
       "      <th>Topic # 09</th>\n",
       "      <th>Topic # 10</th>\n",
       "    </tr>\n",
       "  </thead>\n",
       "  <tbody>\n",
       "    <tr>\n",
       "      <th>0</th>\n",
       "      <td>날씨</td>\n",
       "      <td>도어</td>\n",
       "      <td>민윤기</td>\n",
       "      <td>최고</td>\n",
       "      <td>친구</td>\n",
       "      <td>생각</td>\n",
       "      <td>언니</td>\n",
       "      <td>노래</td>\n",
       "      <td>강아지</td>\n",
       "      <td>이렇</td>\n",
       "    </tr>\n",
       "    <tr>\n",
       "      <th>1</th>\n",
       "      <td>생일</td>\n",
       "      <td>소통</td>\n",
       "      <td>허리</td>\n",
       "      <td>재재</td>\n",
       "      <td>서비스</td>\n",
       "      <td>고맙</td>\n",
       "      <td>새벽</td>\n",
       "      <td>라이프</td>\n",
       "      <td>서비스</td>\n",
       "      <td>재미</td>\n",
       "    </tr>\n",
       "    <tr>\n",
       "      <th>2</th>\n",
       "      <td>시작</td>\n",
       "      <td>관심</td>\n",
       "      <td>기다리</td>\n",
       "      <td>보내</td>\n",
       "      <td>필름</td>\n",
       "      <td>통제</td>\n",
       "      <td>기억</td>\n",
       "      <td>디자인</td>\n",
       "      <td>재재</td>\n",
       "      <td>사진</td>\n",
       "    </tr>\n",
       "    <tr>\n",
       "      <th>3</th>\n",
       "      <td>기념</td>\n",
       "      <td>관계</td>\n",
       "      <td>따르</td>\n",
       "      <td>자르</td>\n",
       "      <td>만들</td>\n",
       "      <td>필름</td>\n",
       "      <td>이미지</td>\n",
       "      <td>생기</td>\n",
       "      <td>낌새</td>\n",
       "      <td>다가오</td>\n",
       "    </tr>\n",
       "    <tr>\n",
       "      <th>4</th>\n",
       "      <td>카메라</td>\n",
       "      <td>공유</td>\n",
       "      <td>재밌</td>\n",
       "      <td>낌새</td>\n",
       "      <td>공유</td>\n",
       "      <td>세상</td>\n",
       "      <td>엄청나</td>\n",
       "      <td>돌리</td>\n",
       "      <td>자르</td>\n",
       "      <td>아니</td>\n",
       "    </tr>\n",
       "    <tr>\n",
       "      <th>5</th>\n",
       "      <td>필름</td>\n",
       "      <td>오늘</td>\n",
       "      <td>머리</td>\n",
       "      <td>방법</td>\n",
       "      <td>사용</td>\n",
       "      <td>머러</td>\n",
       "      <td>붙이</td>\n",
       "      <td>사람</td>\n",
       "      <td>보내</td>\n",
       "      <td>느끼</td>\n",
       "    </tr>\n",
       "    <tr>\n",
       "      <th>6</th>\n",
       "      <td>개강</td>\n",
       "      <td>보내</td>\n",
       "      <td>떠나</td>\n",
       "      <td>보이</td>\n",
       "      <td>소통</td>\n",
       "      <td>사진</td>\n",
       "      <td>교수</td>\n",
       "      <td>들리</td>\n",
       "      <td>머리</td>\n",
       "      <td>사람</td>\n",
       "    </tr>\n",
       "    <tr>\n",
       "      <th>7</th>\n",
       "      <td>기분</td>\n",
       "      <td>그리</td>\n",
       "      <td>순간</td>\n",
       "      <td>머리</td>\n",
       "      <td>사람</td>\n",
       "      <td>기대</td>\n",
       "      <td>학교</td>\n",
       "      <td>이틀</td>\n",
       "      <td>방법</td>\n",
       "      <td>프로그램</td>\n",
       "    </tr>\n",
       "    <tr>\n",
       "      <th>8</th>\n",
       "      <td>지나</td>\n",
       "      <td>공개</td>\n",
       "      <td>건너</td>\n",
       "      <td>모르</td>\n",
       "      <td>버전</td>\n",
       "      <td>나오</td>\n",
       "      <td>기대</td>\n",
       "      <td>존재</td>\n",
       "      <td>보이</td>\n",
       "      <td>학교</td>\n",
       "    </tr>\n",
       "    <tr>\n",
       "      <th>9</th>\n",
       "      <td>열리</td>\n",
       "      <td>방학</td>\n",
       "      <td>부르</td>\n",
       "      <td>따르</td>\n",
       "      <td>베타</td>\n",
       "      <td>돌리</td>\n",
       "      <td>방법</td>\n",
       "      <td>그러</td>\n",
       "      <td>모르</td>\n",
       "      <td>느낌</td>\n",
       "    </tr>\n",
       "  </tbody>\n",
       "</table>\n",
       "</div>"
      ],
      "text/plain": [
       "  Topic # 01 Topic # 02 Topic # 03 Topic # 04 Topic # 05 Topic # 06  \\\n",
       "0         날씨         도어        민윤기         최고         친구         생각   \n",
       "1         생일         소통         허리         재재        서비스         고맙   \n",
       "2         시작         관심        기다리         보내         필름         통제   \n",
       "3         기념         관계         따르         자르         만들         필름   \n",
       "4        카메라         공유         재밌         낌새         공유         세상   \n",
       "5         필름         오늘         머리         방법         사용         머러   \n",
       "6         개강         보내         떠나         보이         소통         사진   \n",
       "7         기분         그리         순간         머리         사람         기대   \n",
       "8         지나         공개         건너         모르         버전         나오   \n",
       "9         열리         방학         부르         따르         베타         돌리   \n",
       "\n",
       "  Topic # 07 Topic # 08 Topic # 09 Topic # 10  \n",
       "0         언니         노래        강아지         이렇  \n",
       "1         새벽        라이프        서비스         재미  \n",
       "2         기억        디자인         재재         사진  \n",
       "3        이미지         생기         낌새        다가오  \n",
       "4        엄청나         돌리         자르         아니  \n",
       "5         붙이         사람         보내         느끼  \n",
       "6         교수         들리         머리         사람  \n",
       "7         학교         이틀         방법       프로그램  \n",
       "8         기대         존재         보이         학교  \n",
       "9         방법         그러         모르         느낌  "
      ]
     },
     "execution_count": 34,
     "metadata": {},
     "output_type": "execute_result"
    }
   ],
   "source": [
    "num_topics = 10\n",
    "nmf_df = get_nmf_topics(model, 5)\n",
    "nmf_df"
   ]
  },
  {
   "cell_type": "code",
   "execution_count": null,
   "metadata": {},
   "outputs": [],
   "source": []
  }
 ],
 "metadata": {
  "kernelspec": {
   "display_name": "Python 3",
   "language": "python",
   "name": "python3"
  },
  "language_info": {
   "codemirror_mode": {
    "name": "ipython",
    "version": 3
   },
   "file_extension": ".py",
   "mimetype": "text/x-python",
   "name": "python",
   "nbconvert_exporter": "python",
   "pygments_lexer": "ipython3",
   "version": "3.7.7"
  }
 },
 "nbformat": 4,
 "nbformat_minor": 4
}
