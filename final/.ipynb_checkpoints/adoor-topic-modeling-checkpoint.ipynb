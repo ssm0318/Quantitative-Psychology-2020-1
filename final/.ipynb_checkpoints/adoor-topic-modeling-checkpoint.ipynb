{
 "cells": [
  {
   "cell_type": "code",
   "execution_count": 12,
   "metadata": {},
   "outputs": [],
   "source": [
    "import warnings\n",
    "warnings.filterwarnings('ignore')\n",
    "\n",
    "import pandas as pd\n",
    "import matplotlib\n",
    "import matplotlib.pyplot as plt\n",
    "import matplotlib.font_manager as fm\n",
    "import numpy as np; np.random.seed(42)\n",
    "import seaborn as sns\n",
    "\n",
    "import pyLDAvis\n",
    "import pyLDAvis.gensim\n",
    "from collections import OrderedDict\n",
    "from itertools import combinations\n",
    "import MeCab\n",
    "from konlpy.tag import *\n",
    "import nltk\n",
    "from nltk.corpus import stopwords\n",
    "from gensim import corpora, models\n",
    "from sklearn.feature_extraction.text import CountVectorizer, TfidfTransformer\n",
    "from sklearn.decomposition import NMF, LatentDirichletAllocation, TruncatedSVD\n",
    "from sklearn.preprocessing import normalize;\n",
    "from sklearn import decomposition;"
   ]
  },
  {
   "cell_type": "code",
   "execution_count": 13,
   "metadata": {},
   "outputs": [
    {
     "data": {
      "text/html": [
       "<div>\n",
       "<style scoped>\n",
       "    .dataframe tbody tr th:only-of-type {\n",
       "        vertical-align: middle;\n",
       "    }\n",
       "\n",
       "    .dataframe tbody tr th {\n",
       "        vertical-align: top;\n",
       "    }\n",
       "\n",
       "    .dataframe thead th {\n",
       "        text-align: right;\n",
       "    }\n",
       "</style>\n",
       "<table border=\"1\" class=\"dataframe\">\n",
       "  <thead>\n",
       "    <tr style=\"text-align: right;\">\n",
       "      <th></th>\n",
       "      <th>id</th>\n",
       "      <th>author_id</th>\n",
       "      <th>question_id</th>\n",
       "      <th>content</th>\n",
       "      <th>tag_string</th>\n",
       "      <th>created_at</th>\n",
       "      <th>updated_at</th>\n",
       "    </tr>\n",
       "  </thead>\n",
       "  <tbody>\n",
       "    <tr>\n",
       "      <th>0</th>\n",
       "      <td>1</td>\n",
       "      <td>5</td>\n",
       "      <td>236</td>\n",
       "      <td>오늘 상담쌤과 칭찬에 대한 대화를 나눴다. 내가 애들의 칭찬을 잘 못 믿는, 그리고...</td>\n",
       "      <td>NaN</td>\n",
       "      <td>2019-01-28 14:11:42.543635</td>\n",
       "      <td>2019-01-28 14:11:42.543635</td>\n",
       "    </tr>\n",
       "    <tr>\n",
       "      <th>1</th>\n",
       "      <td>2</td>\n",
       "      <td>5</td>\n",
       "      <td>103</td>\n",
       "      <td>원하는 순간에 생각의 흐름을 멈추고 하고자 하는 일에 집중할 수 있는 능력.</td>\n",
       "      <td>NaN</td>\n",
       "      <td>2019-01-28 14:12:09.623446</td>\n",
       "      <td>2019-01-28 14:12:09.623446</td>\n",
       "    </tr>\n",
       "    <tr>\n",
       "      <th>2</th>\n",
       "      <td>3</td>\n",
       "      <td>5</td>\n",
       "      <td>98</td>\n",
       "      <td>가만히 공상/유튜브. 혼자 있는 시간.</td>\n",
       "      <td>NaN</td>\n",
       "      <td>2019-01-28 14:13:16.547800</td>\n",
       "      <td>2019-01-28 14:13:16.547800</td>\n",
       "    </tr>\n",
       "    <tr>\n",
       "      <th>3</th>\n",
       "      <td>4</td>\n",
       "      <td>5</td>\n",
       "      <td>95</td>\n",
       "      <td>게으름. 그 중에서도 요즘 가장 싫은건 게으름으로 인해 더러워진 방. 너무 짜증나서...</td>\n",
       "      <td>NaN</td>\n",
       "      <td>2019-01-28 14:14:38.838070</td>\n",
       "      <td>2019-01-28 14:14:38.838070</td>\n",
       "    </tr>\n",
       "    <tr>\n",
       "      <th>4</th>\n",
       "      <td>6</td>\n",
       "      <td>4</td>\n",
       "      <td>5</td>\n",
       "      <td>진수니랑 같이 프론트 더 멋있게 만들기!!!!!\\r\\n</td>\n",
       "      <td>NaN</td>\n",
       "      <td>2019-01-28 15:55:14.088330</td>\n",
       "      <td>2019-01-28 15:55:14.088330</td>\n",
       "    </tr>\n",
       "  </tbody>\n",
       "</table>\n",
       "</div>"
      ],
      "text/plain": [
       "   id  author_id  question_id  \\\n",
       "0   1          5          236   \n",
       "1   2          5          103   \n",
       "2   3          5           98   \n",
       "3   4          5           95   \n",
       "4   6          4            5   \n",
       "\n",
       "                                             content  tag_string  \\\n",
       "0  오늘 상담쌤과 칭찬에 대한 대화를 나눴다. 내가 애들의 칭찬을 잘 못 믿는, 그리고...         NaN   \n",
       "1         원하는 순간에 생각의 흐름을 멈추고 하고자 하는 일에 집중할 수 있는 능력.         NaN   \n",
       "2                              가만히 공상/유튜브. 혼자 있는 시간.         NaN   \n",
       "3  게으름. 그 중에서도 요즘 가장 싫은건 게으름으로 인해 더러워진 방. 너무 짜증나서...         NaN   \n",
       "4                     진수니랑 같이 프론트 더 멋있게 만들기!!!!!\\r\\n         NaN   \n",
       "\n",
       "                  created_at                  updated_at  \n",
       "0 2019-01-28 14:11:42.543635  2019-01-28 14:11:42.543635  \n",
       "1 2019-01-28 14:12:09.623446  2019-01-28 14:12:09.623446  \n",
       "2 2019-01-28 14:13:16.547800  2019-01-28 14:13:16.547800  \n",
       "3 2019-01-28 14:14:38.838070  2019-01-28 14:14:38.838070  \n",
       "4 2019-01-28 15:55:14.088330  2019-01-28 15:55:14.088330  "
      ]
     },
     "execution_count": 13,
     "metadata": {},
     "output_type": "execute_result"
    }
   ],
   "source": [
    "# 데이터 읽어오기 - 특정 기간에 한해서\n",
    "\n",
    "df = pd.read_csv('adoor_data/answers.csv', encoding='UTF8')\n",
    "df['created_at'] = pd.to_datetime(df['created_at'])\n",
    "\n",
    "start_date = pd.Timestamp(2019, 1, 28, 0)\n",
    "end_date = pd.Timestamp(2019, 4, 1, 0)\n",
    "\n",
    "mask = (df['created_at'] > start_date) & (df['created_at'] <= end_date)\n",
    "df = df.loc[mask]\n",
    "\n",
    "df.head()"
   ]
  },
  {
   "cell_type": "code",
   "execution_count": 14,
   "metadata": {},
   "outputs": [],
   "source": [
    "# 형태소 분석\n",
    "\n",
    "twitter = Okt()\n",
    "pos = lambda d: ['/'.join(p) for p in twitter.pos(d, stem=True, norm=True)]\n",
    "\n",
    "texts_ko = []\n",
    "content = df.content\n",
    "docs_ko = \"\"\n",
    "\n",
    "for row in content:\n",
    "    text = row\n",
    "    if not pd.isna(text):\n",
    "        docs_ko = docs_ko + text\n",
    "        for morph in pos(text):\n",
    "            if (morph.split('/')[1]) in ['Noun'] and len(morph.split('/')[0]) > 1:\n",
    "                m = []\n",
    "                m.append(morph)\n",
    "                texts_ko.append(m)"
   ]
  },
  {
   "cell_type": "code",
   "execution_count": 15,
   "metadata": {},
   "outputs": [],
   "source": [
    "dictionary_ko = corpora.Dictionary(texts_ko)\n",
    "dictionary_ko.save('ko.dict')"
   ]
  },
  {
   "cell_type": "code",
   "execution_count": 16,
   "metadata": {},
   "outputs": [],
   "source": [
    "# tfidf 변환\n",
    "\n",
    "tf_ko = [dictionary_ko.doc2bow(text) for text in texts_ko]\n",
    "tfidf_model_ko = models.TfidfModel(tf_ko)\n",
    "tfidf_ko = tfidf_model_ko[tf_ko]\n",
    "corpora.MmCorpus.serialize('ko.mm', tfidf_ko)"
   ]
  },
  {
   "cell_type": "code",
   "execution_count": 17,
   "metadata": {},
   "outputs": [
    {
     "data": {
      "text/plain": [
       "[(0,\n",
       "  '0.070*\"사람/Noun\" + 0.018*\"마음/Noun\" + 0.015*\"지금/Noun\" + 0.013*\"손흥민/Noun\" + 0.013*\"가장/Noun\" + 0.013*\"인생/Noun\" + 0.010*\"사랑/Noun\" + 0.010*\"항상/Noun\" + 0.009*\"기분/Noun\" + 0.009*\"다른/Noun\"'),\n",
       " (1,\n",
       "  '0.020*\"진짜/Noun\" + 0.015*\"때문/Noun\" + 0.013*\"그냥/Noun\" + 0.012*\"요즘/Noun\" + 0.012*\"사실/Noun\" + 0.010*\"자신/Noun\" + 0.009*\"감정/Noun\" + 0.009*\"욕망/Noun\" + 0.008*\"의지/Noun\" + 0.008*\"조금/Noun\"'),\n",
       " (2,\n",
       "  '0.066*\"생각/Noun\" + 0.018*\"기억/Noun\" + 0.018*\"정말/Noun\" + 0.014*\"오늘/Noun\" + 0.014*\"친구/Noun\" + 0.013*\"하나/Noun\" + 0.009*\"정도/Noun\" + 0.008*\"첫사랑/Noun\" + 0.008*\"이제/Noun\" + 0.007*\"대한/Noun\"')]"
      ]
     },
     "execution_count": 17,
     "metadata": {},
     "output_type": "execute_result"
    }
   ],
   "source": [
    "# LDA 모델 - tfidf 변환을 하지 않은 경우\n",
    "\n",
    "ntopics, nwords = 3, 5\n",
    "\n",
    "lda_ko = models.ldamodel.LdaModel(tf_ko, id2word=dictionary_ko, num_topics=ntopics)\n",
    "lda_ko.print_topics()"
   ]
  },
  {
   "cell_type": "code",
   "execution_count": 18,
   "metadata": {},
   "outputs": [
    {
     "data": {
      "text/plain": [
       "[(0,\n",
       "  '0.065*\"사람/Noun\" + 0.017*\"진짜/Noun\" + 0.017*\"기억/Noun\" + 0.016*\"정말/Noun\" + 0.014*\"지금/Noun\" + 0.013*\"때문/Noun\" + 0.012*\"손흥민/Noun\" + 0.010*\"요즘/Noun\" + 0.008*\"자신/Noun\" + 0.008*\"정도/Noun\"'),\n",
       " (1,\n",
       "  '0.021*\"마음/Noun\" + 0.015*\"가장/Noun\" + 0.011*\"항상/Noun\" + 0.010*\"감정/Noun\" + 0.010*\"욕망/Noun\" + 0.008*\"의지/Noun\" + 0.008*\"얘기/Noun\" + 0.007*\"세상/Noun\" + 0.007*\"어제/Noun\" + 0.007*\"의미/Noun\"'),\n",
       " (2,\n",
       "  '0.067*\"생각/Noun\" + 0.015*\"오늘/Noun\" + 0.014*\"친구/Noun\" + 0.013*\"하나/Noun\" + 0.013*\"인생/Noun\" + 0.012*\"그냥/Noun\" + 0.011*\"사실/Noun\" + 0.010*\"사랑/Noun\" + 0.009*\"기분/Noun\" + 0.009*\"다른/Noun\"')]"
      ]
     },
     "execution_count": 18,
     "metadata": {},
     "output_type": "execute_result"
    }
   ],
   "source": [
    "# LDA 모델 - tfidf 변환을 적용한 경우\n",
    "\n",
    "lda_ko = models.ldamodel.LdaModel(tfidf_ko, id2word=dictionary_ko, num_topics=ntopics)\n",
    "lda_ko.print_topics()"
   ]
  },
  {
   "cell_type": "code",
   "execution_count": 19,
   "metadata": {},
   "outputs": [
    {
     "data": {
      "text/plain": [
       "(0,\n",
       " [('사람/Noun', 0.064835265),\n",
       "  ('진짜/Noun', 0.01744445),\n",
       "  ('기억/Noun', 0.016596146),\n",
       "  ('정말/Noun', 0.016434476),\n",
       "  ('지금/Noun', 0.013660572),\n",
       "  ('때문/Noun', 0.013271252),\n",
       "  ('손흥민/Noun', 0.011655125),\n",
       "  ('요즘/Noun', 0.010084574),\n",
       "  ('자신/Noun', 0.008331152),\n",
       "  ('정도/Noun', 0.007950612)])"
      ]
     },
     "execution_count": 19,
     "metadata": {},
     "output_type": "execute_result"
    }
   ],
   "source": [
    "ldatopics = lda_ko.show_topics(formatted=False)\n",
    "ldatopics[0]"
   ]
  },
  {
   "cell_type": "code",
   "execution_count": 20,
   "metadata": {},
   "outputs": [
    {
     "data": {
      "text/plain": [
       "[(0,\n",
       "  '-1.000*\"사람/Noun\" + -0.000*\"대화/Noun\" + -0.000*\"느낌/Noun\" + -0.000*\"누구/Noun\" + 0.000*\"점점/Noun\" + 0.000*\"알바/Noun\" + -0.000*\"최고/Noun\" + 0.000*\"먼저/Noun\" + -0.000*\"상담/Noun\" + -0.000*\"음악/Noun\"'),\n",
       " (1,\n",
       "  '-1.000*\"생각/Noun\" + 0.000*\"누구/Noun\" + 0.000*\"보기/Noun\" + -0.000*\"상담/Noun\" + -0.000*\"노력/Noun\" + -0.000*\"편이/Noun\" + -0.000*\"최고/Noun\" + -0.000*\"아마/Noun\" + -0.000*\"학교/Noun\" + 0.000*\"최근/Noun\"'),\n",
       " (2,\n",
       "  '1.000*\"정말/Noun\" + 0.005*\"엄마/Noun\" + 0.005*\"자기/Noun\" + -0.004*\"표현/Noun\" + 0.004*\"아주/Noun\" + -0.004*\"관계/Noun\" + -0.004*\"동안/Noun\" + -0.004*\"정리/Noun\" + -0.004*\"연락/Noun\" + 0.004*\"상담/Noun\"')]"
      ]
     },
     "execution_count": 20,
     "metadata": {},
     "output_type": "execute_result"
    }
   ],
   "source": [
    "# LSI (Latent Semantic Indexing) 모델\n",
    "\n",
    "lsi_ko = models.lsimodel.LsiModel(tfidf_ko, id2word=dictionary_ko, num_topics=ntopics)\n",
    "lsi_ko.print_topics()"
   ]
  },
  {
   "cell_type": "code",
   "execution_count": 24,
   "metadata": {},
   "outputs": [
    {
     "data": {
      "text/plain": [
       "[(0,\n",
       "  '0.003*더더/Noun + 0.003*치료/Noun + 0.003*다른사람/Noun + 0.003*벌벌/Noun + 0.002*호텔/Noun'),\n",
       " (1,\n",
       "  '0.003*다음/Noun + 0.003*수화/Noun + 0.003*라떼/Noun + 0.003*이용/Noun + 0.002*대박/Noun'),\n",
       " (2,\n",
       "  '0.004*가경/Noun + 0.004*낮잠/Noun + 0.003*랄깜/Noun + 0.003*관정/Noun + 0.003*애프터/Noun')]"
      ]
     },
     "execution_count": 24,
     "metadata": {},
     "output_type": "execute_result"
    }
   ],
   "source": [
    "# HDP (Hierarchical Dirichlet Process) 모델 - n_topics printed ONLY\n",
    "\n",
    "hdp_ko = models.hdpmodel.HdpModel(tfidf_ko, id2word=dictionary_ko)\n",
    "hdp_ko.print_topics(ntopics, nwords)"
   ]
  },
  {
   "cell_type": "code",
   "execution_count": 25,
   "metadata": {},
   "outputs": [
    {
     "data": {
      "text/plain": [
       "[(2, 0.6663449), (0, 0.16683905), (1, 0.16681606)]"
      ]
     },
     "execution_count": 25,
     "metadata": {},
     "output_type": "execute_result"
    }
   ],
   "source": [
    "# Bag of Words\n",
    "\n",
    "bow = tfidf_model_ko[dictionary_ko.doc2bow(texts_ko[0])]\n",
    "sorted(lda_ko[bow], key=lambda x: x[1], reverse=True)"
   ]
  },
  {
   "cell_type": "code",
   "execution_count": 26,
   "metadata": {},
   "outputs": [
    {
     "data": {
      "text/plain": [
       "[(49, 0.5033258757992684)]"
      ]
     },
     "execution_count": 26,
     "metadata": {},
     "output_type": "execute_result"
    }
   ],
   "source": [
    "sorted(hdp_ko[bow], key=lambda x: x[1], reverse=True)"
   ]
  },
  {
   "cell_type": "code",
   "execution_count": 27,
   "metadata": {},
   "outputs": [
    {
     "data": {
      "text/plain": [
       "[(0, 0.6664888), (1, 0.16675825), (2, 0.16675292)]"
      ]
     },
     "execution_count": 27,
     "metadata": {},
     "output_type": "execute_result"
    }
   ],
   "source": [
    "bow = tfidf_model_ko[dictionary_ko.doc2bow(texts_ko[1])]\n",
    "sorted(lda_ko[bow], key=lambda x: x[1], reverse=True)"
   ]
  },
  {
   "cell_type": "code",
   "execution_count": 28,
   "metadata": {},
   "outputs": [
    {
     "data": {
      "text/plain": [
       "[(72, 0.5033348805983473)]"
      ]
     },
     "execution_count": 28,
     "metadata": {},
     "output_type": "execute_result"
    }
   ],
   "source": [
    "sorted(hdp_ko[bow], key=lambda x: x[1], reverse=True)"
   ]
  },
  {
   "cell_type": "code",
   "execution_count": null,
   "metadata": {},
   "outputs": [],
   "source": []
  },
  {
   "cell_type": "code",
   "execution_count": 29,
   "metadata": {},
   "outputs": [],
   "source": [
    "# Coherence 수준 측정 - LDA 모델\n",
    "\n",
    "def compute_coherence_values(dictionary, corpus, texts, limit, start=2, step=3):\n",
    "    coherence_values = []\n",
    "    model_list = []\n",
    "    for num_topics in range(start, limit, step):\n",
    "        model = models.LdaModel(corpus=tf_ko, num_topics=num_topics, id2word=dictionary_ko)\n",
    "        model_list.append(model)\n",
    "        coherencemodel = models.CoherenceModel(model=model, texts=texts_ko, dictionary=dictionary_ko, coherence='c_v')\n",
    "        coherence_values.append(coherencemodel.get_coherence())\n",
    "\n",
    "    return model_list, coherence_values"
   ]
  },
  {
   "cell_type": "code",
   "execution_count": 30,
   "metadata": {},
   "outputs": [
    {
     "name": "stdout",
     "output_type": "stream",
     "text": [
      "\n",
      "Coherence Score:  0.852851587874173\n"
     ]
    }
   ],
   "source": [
    "coherence_model_lda = models.CoherenceModel(model=lda_ko, texts=texts_ko, dictionary=dictionary_ko, coherence='c_v')\n",
    "coherence_lda = coherence_model_lda.get_coherence()\n",
    "print('\\nCoherence Score: ', coherence_lda)"
   ]
  },
  {
   "cell_type": "code",
   "execution_count": 31,
   "metadata": {},
   "outputs": [],
   "source": [
    "model_list, coherence_values = compute_coherence_values(\n",
    "    dictionary=dictionary_ko, \n",
    "    corpus=tf_ko, \n",
    "    texts=texts_ko, \n",
    "    start=1, \n",
    "    limit=10, \n",
    "    step=1)"
   ]
  },
  {
   "cell_type": "code",
   "execution_count": 32,
   "metadata": {},
   "outputs": [
    {
     "data": {
      "image/png": "[encoded data removed]",
      "text/plain": [
       "<Figure size 648x360 with 1 Axes>"
      ]
     },
     "metadata": {
      "needs_background": "light"
     },
     "output_type": "display_data"
    }
   ],
   "source": [
    "limit=10; start=1; step=1;\n",
    "x = range(start, limit, step)\n",
    "plt.rcParams[\"font.size\"] = 20\n",
    "plt.figure(figsize=(9,5))\n",
    "plt.plot(x, coherence_values)\n",
    "plt.xlabel(\"Num Topics\")\n",
    "plt.ylabel(\"Coherence score\")\n",
    "plt.legend((\"coherence_values\"), loc='best')\n",
    "plt.show()"
   ]
  },
  {
   "cell_type": "code",
   "execution_count": 33,
   "metadata": {},
   "outputs": [
    {
     "name": "stdout",
     "output_type": "stream",
     "text": [
      "Num Topics = 1  has Coherence Value of 0.8693\n",
      "Num Topics = 2  has Coherence Value of 0.8595\n",
      "Num Topics = 3  has Coherence Value of 0.8529\n",
      "Num Topics = 4  has Coherence Value of 0.848\n",
      "Num Topics = 5  has Coherence Value of 0.8439\n",
      "Num Topics = 6  has Coherence Value of 0.8402\n",
      "Num Topics = 7  has Coherence Value of 0.8368\n",
      "Num Topics = 8  has Coherence Value of 0.8344\n",
      "Num Topics = 9  has Coherence Value of 0.8301\n"
     ]
    }
   ],
   "source": [
    "for m, cv in zip(x, coherence_values):\n",
    "    print(\"Num Topics =\", m, \" has Coherence Value of\", round(cv, 4))"
   ]
  },
  {
   "cell_type": "code",
   "execution_count": 34,
   "metadata": {},
   "outputs": [
    {
     "data": {
      "text/plain": [
       "[(0,\n",
       "  '0.047*\"사람/Noun\" + 0.012*\"정말/Noun\" + 0.010*\"지금/Noun\" + 0.010*\"오늘/Noun\" + 0.009*\"친구/Noun\" + 0.008*\"하나/Noun\" + 0.008*\"인생/Noun\" + 0.007*\"요즘/Noun\" + 0.007*\"때문/Noun\" + 0.007*\"기분/Noun\"'),\n",
       " (1,\n",
       "  '0.041*\"생각/Noun\" + 0.012*\"진짜/Noun\" + 0.012*\"마음/Noun\" + 0.010*\"기억/Noun\" + 0.008*\"가장/Noun\" + 0.008*\"그냥/Noun\" + 0.007*\"사실/Noun\" + 0.007*\"사랑/Noun\" + 0.006*\"자신/Noun\" + 0.006*\"감정/Noun\"')]"
      ]
     },
     "execution_count": 34,
     "metadata": {},
     "output_type": "execute_result"
    }
   ],
   "source": [
    "optimal_model = model_list[1]\n",
    "model_topics = optimal_model.show_topics(formatted=False)\n",
    "optimal_model.print_topics(num_words=10)"
   ]
  },
  {
   "cell_type": "code",
   "execution_count": 35,
   "metadata": {},
   "outputs": [
    {
     "data": {
      "text/html": [
       "<div>\n",
       "<style scoped>\n",
       "    .dataframe tbody tr th:only-of-type {\n",
       "        vertical-align: middle;\n",
       "    }\n",
       "\n",
       "    .dataframe tbody tr th {\n",
       "        vertical-align: top;\n",
       "    }\n",
       "\n",
       "    .dataframe thead th {\n",
       "        text-align: right;\n",
       "    }\n",
       "</style>\n",
       "<table border=\"1\" class=\"dataframe\">\n",
       "  <thead>\n",
       "    <tr style=\"text-align: right;\">\n",
       "      <th></th>\n",
       "      <th>Document_No</th>\n",
       "      <th>Dominant_Topic</th>\n",
       "      <th>Topic_Perc_Contrib</th>\n",
       "      <th>Keywords</th>\n",
       "      <th>Text</th>\n",
       "    </tr>\n",
       "  </thead>\n",
       "  <tbody>\n",
       "    <tr>\n",
       "      <th>0</th>\n",
       "      <td>0</td>\n",
       "      <td>0.0</td>\n",
       "      <td>0.7471</td>\n",
       "      <td>사람/Noun, 정말/Noun, 지금/Noun, 오늘/Noun, 친구/Noun, 하...</td>\n",
       "      <td>오늘 상담쌤과 칭찬에 대한 대화를 나눴다. 내가 애들의 칭찬을 잘 못 믿는, 그리고...</td>\n",
       "    </tr>\n",
       "    <tr>\n",
       "      <th>1</th>\n",
       "      <td>1</td>\n",
       "      <td>1.0</td>\n",
       "      <td>0.7486</td>\n",
       "      <td>생각/Noun, 진짜/Noun, 마음/Noun, 기억/Noun, 가장/Noun, 그...</td>\n",
       "      <td>원하는 순간에 생각의 흐름을 멈추고 하고자 하는 일에 집중할 수 있는 능력.</td>\n",
       "    </tr>\n",
       "    <tr>\n",
       "      <th>2</th>\n",
       "      <td>2</td>\n",
       "      <td>0.0</td>\n",
       "      <td>0.7388</td>\n",
       "      <td>사람/Noun, 정말/Noun, 지금/Noun, 오늘/Noun, 친구/Noun, 하...</td>\n",
       "      <td>가만히 공상/유튜브. 혼자 있는 시간.</td>\n",
       "    </tr>\n",
       "    <tr>\n",
       "      <th>3</th>\n",
       "      <td>3</td>\n",
       "      <td>1.0</td>\n",
       "      <td>0.7462</td>\n",
       "      <td>생각/Noun, 진짜/Noun, 마음/Noun, 기억/Noun, 가장/Noun, 그...</td>\n",
       "      <td>게으름. 그 중에서도 요즘 가장 싫은건 게으름으로 인해 더러워진 방. 너무 짜증나서...</td>\n",
       "    </tr>\n",
       "    <tr>\n",
       "      <th>4</th>\n",
       "      <td>4</td>\n",
       "      <td>1.0</td>\n",
       "      <td>0.7010</td>\n",
       "      <td>생각/Noun, 진짜/Noun, 마음/Noun, 기억/Noun, 가장/Noun, 그...</td>\n",
       "      <td>진수니랑 같이 프론트 더 멋있게 만들기!!!!!\\r\\n</td>\n",
       "    </tr>\n",
       "  </tbody>\n",
       "</table>\n",
       "</div>"
      ],
      "text/plain": [
       "   Document_No  Dominant_Topic  Topic_Perc_Contrib  \\\n",
       "0            0             0.0              0.7471   \n",
       "1            1             1.0              0.7486   \n",
       "2            2             0.0              0.7388   \n",
       "3            3             1.0              0.7462   \n",
       "4            4             1.0              0.7010   \n",
       "\n",
       "                                            Keywords  \\\n",
       "0  사람/Noun, 정말/Noun, 지금/Noun, 오늘/Noun, 친구/Noun, 하...   \n",
       "1  생각/Noun, 진짜/Noun, 마음/Noun, 기억/Noun, 가장/Noun, 그...   \n",
       "2  사람/Noun, 정말/Noun, 지금/Noun, 오늘/Noun, 친구/Noun, 하...   \n",
       "3  생각/Noun, 진짜/Noun, 마음/Noun, 기억/Noun, 가장/Noun, 그...   \n",
       "4  생각/Noun, 진짜/Noun, 마음/Noun, 기억/Noun, 가장/Noun, 그...   \n",
       "\n",
       "                                                Text  \n",
       "0  오늘 상담쌤과 칭찬에 대한 대화를 나눴다. 내가 애들의 칭찬을 잘 못 믿는, 그리고...  \n",
       "1         원하는 순간에 생각의 흐름을 멈추고 하고자 하는 일에 집중할 수 있는 능력.  \n",
       "2                              가만히 공상/유튜브. 혼자 있는 시간.  \n",
       "3  게으름. 그 중에서도 요즘 가장 싫은건 게으름으로 인해 더러워진 방. 너무 짜증나서...  \n",
       "4                     진수니랑 같이 프론트 더 멋있게 만들기!!!!!\\r\\n  "
      ]
     },
     "execution_count": 35,
     "metadata": {},
     "output_type": "execute_result"
    }
   ],
   "source": [
    "# Topics Sentence Formation\n",
    "\n",
    "def format_topics_sentences(ldamodel=lda_ko, corpus=tf_ko, texts=df['content'].values.astype('U')):\n",
    "   \n",
    "    sent_topics_df = pd.DataFrame()\n",
    "\n",
    "   \n",
    "    for i, row in enumerate(ldamodel[corpus]):\n",
    "        row = sorted(row, key=lambda x: (x[1]), reverse=True)\n",
    "        # Get the Dominant topic, Perc Contribution and Keywords for each document\n",
    "        for j, (topic_num, prop_topic) in enumerate(row):\n",
    "            if j == 0:  # -- dominant topic\n",
    "                wp = ldamodel.show_topic(topic_num)\n",
    "                topic_keywords = \", \".join([word for word, prop in wp])\n",
    "                sent_topics_df = sent_topics_df.append(pd.Series([int(topic_num), round(prop_topic,4), topic_keywords]), ignore_index=True)\n",
    "            else:\n",
    "                break\n",
    "    sent_topics_df.columns = ['Dominant_Topic', 'Perc_Contribution', 'Topic_Keywords']\n",
    "\n",
    "    # Add original text to the end of the output\n",
    "    \n",
    "    contents = pd.Series(texts)\n",
    "    sent_topics_df = pd.concat([sent_topics_df, contents], axis=1)\n",
    "    return(sent_topics_df)\n",
    "    \n",
    "\n",
    "df_topic_sents_keywords = format_topics_sentences(ldamodel=optimal_model, corpus=tf_ko, texts=df['content'].values.astype('U'))\n",
    "\n",
    "\n",
    "df_dominant_topic = df_topic_sents_keywords.reset_index()\n",
    "df_dominant_topic.columns = ['Document_No', 'Dominant_Topic', 'Topic_Perc_Contrib', 'Keywords', 'Text']\n",
    "\n",
    "\n",
    "df_dominant_topic.head(5)"
   ]
  },
  {
   "cell_type": "code",
   "execution_count": null,
   "metadata": {},
   "outputs": [],
   "source": []
  },
  {
   "cell_type": "code",
   "execution_count": 36,
   "metadata": {},
   "outputs": [],
   "source": [
    "path='/Library/Fonts/NanumGothic.ttf'\n",
    "font_name = fm.FontProperties(fname=path, size=50).get_name()\n",
    "matplotlib.rc('font', family=font_name)\n",
    "matplotlib.rc('axes', unicode_minus=False)\n",
    "plt.rc('font', family=font_name)\n",
    "plt.rc('axes', unicode_minus=False)"
   ]
  },
  {
   "cell_type": "code",
   "execution_count": 37,
   "metadata": {},
   "outputs": [
    {
     "name": "stdout",
     "output_type": "stream",
     "text": [
      "(3, 15)\n"
     ]
    },
    {
     "data": {
      "text/html": [
       "<div>\n",
       "<style scoped>\n",
       "    .dataframe tbody tr th:only-of-type {\n",
       "        vertical-align: middle;\n",
       "    }\n",
       "\n",
       "    .dataframe tbody tr th {\n",
       "        vertical-align: top;\n",
       "    }\n",
       "\n",
       "    .dataframe thead th {\n",
       "        text-align: right;\n",
       "    }\n",
       "</style>\n",
       "<table border=\"1\" class=\"dataframe\">\n",
       "  <thead>\n",
       "    <tr style=\"text-align: right;\">\n",
       "      <th></th>\n",
       "      <th>사람/Noun</th>\n",
       "      <th>진짜/Noun</th>\n",
       "      <th>기억/Noun</th>\n",
       "      <th>정말/Noun</th>\n",
       "      <th>지금/Noun</th>\n",
       "      <th>마음/Noun</th>\n",
       "      <th>가장/Noun</th>\n",
       "      <th>항상/Noun</th>\n",
       "      <th>감정/Noun</th>\n",
       "      <th>욕망/Noun</th>\n",
       "      <th>생각/Noun</th>\n",
       "      <th>오늘/Noun</th>\n",
       "      <th>친구/Noun</th>\n",
       "      <th>하나/Noun</th>\n",
       "      <th>인생/Noun</th>\n",
       "    </tr>\n",
       "  </thead>\n",
       "  <tbody>\n",
       "    <tr>\n",
       "      <th>0</th>\n",
       "      <td>0.064835</td>\n",
       "      <td>0.017444</td>\n",
       "      <td>0.016596</td>\n",
       "      <td>0.016434</td>\n",
       "      <td>0.013661</td>\n",
       "      <td>0.000000</td>\n",
       "      <td>0.000000</td>\n",
       "      <td>0.000000</td>\n",
       "      <td>0.000000</td>\n",
       "      <td>0.000000</td>\n",
       "      <td>0.00000</td>\n",
       "      <td>0.00000</td>\n",
       "      <td>0.000000</td>\n",
       "      <td>0.000000</td>\n",
       "      <td>0.000000</td>\n",
       "    </tr>\n",
       "    <tr>\n",
       "      <th>1</th>\n",
       "      <td>0.000000</td>\n",
       "      <td>0.000000</td>\n",
       "      <td>0.000000</td>\n",
       "      <td>0.000000</td>\n",
       "      <td>0.000000</td>\n",
       "      <td>0.020976</td>\n",
       "      <td>0.014716</td>\n",
       "      <td>0.011139</td>\n",
       "      <td>0.009737</td>\n",
       "      <td>0.009524</td>\n",
       "      <td>0.00000</td>\n",
       "      <td>0.00000</td>\n",
       "      <td>0.000000</td>\n",
       "      <td>0.000000</td>\n",
       "      <td>0.000000</td>\n",
       "    </tr>\n",
       "    <tr>\n",
       "      <th>2</th>\n",
       "      <td>0.000000</td>\n",
       "      <td>0.000000</td>\n",
       "      <td>0.000000</td>\n",
       "      <td>0.000000</td>\n",
       "      <td>0.000000</td>\n",
       "      <td>0.000000</td>\n",
       "      <td>0.000000</td>\n",
       "      <td>0.000000</td>\n",
       "      <td>0.000000</td>\n",
       "      <td>0.000000</td>\n",
       "      <td>0.06678</td>\n",
       "      <td>0.01471</td>\n",
       "      <td>0.013945</td>\n",
       "      <td>0.013298</td>\n",
       "      <td>0.013125</td>\n",
       "    </tr>\n",
       "  </tbody>\n",
       "</table>\n",
       "</div>"
      ],
      "text/plain": [
       "    사람/Noun   진짜/Noun   기억/Noun   정말/Noun   지금/Noun   마음/Noun   가장/Noun  \\\n",
       "0  0.064835  0.017444  0.016596  0.016434  0.013661  0.000000  0.000000   \n",
       "1  0.000000  0.000000  0.000000  0.000000  0.000000  0.020976  0.014716   \n",
       "2  0.000000  0.000000  0.000000  0.000000  0.000000  0.000000  0.000000   \n",
       "\n",
       "    항상/Noun   감정/Noun   욕망/Noun  생각/Noun  오늘/Noun   친구/Noun   하나/Noun  \\\n",
       "0  0.000000  0.000000  0.000000  0.00000  0.00000  0.000000  0.000000   \n",
       "1  0.011139  0.009737  0.009524  0.00000  0.00000  0.000000  0.000000   \n",
       "2  0.000000  0.000000  0.000000  0.06678  0.01471  0.013945  0.013298   \n",
       "\n",
       "    인생/Noun  \n",
       "0  0.000000  \n",
       "1  0.000000  \n",
       "2  0.013125  "
      ]
     },
     "execution_count": 37,
     "metadata": {},
     "output_type": "execute_result"
    }
   ],
   "source": [
    "# LDA Model w/ 3 Topics\n",
    "\n",
    "data_lda = {i: OrderedDict(lda_ko.show_topic(i, 5)) for i in range(ntopics)}\n",
    "df_lda = pd.DataFrame(data_lda)\n",
    "df_lda = df_lda.fillna(0).T\n",
    "print(df_lda.shape)\n",
    "df_lda"
   ]
  },
  {
   "cell_type": "code",
   "execution_count": 39,
   "metadata": {},
   "outputs": [
    {
     "data": {
      "text/html": [
       "\n",
       "<link rel=\"stylesheet\" type=\"text/css\" href=\"https://cdn.rawgit.com/bmabey/pyLDAvis/files/ldavis.v1.0.0.css\">\n",
       "\n",
       "\n",
       "<div id=\"ldavis_el100431405343061154087515016624\"></div>\n",
       "<script type=\"text/javascript\">\n",
       "\n",
       "var ldavis_el100431405343061154087515016624_data = {\"mdsDat\": {\"x\": [-1015.7005615234375, -387.9960021972656, -2184.74560546875], \"y\": [1338.981201171875, -373.316162109375, -60.565799713134766], \"topics\": [1, 2, 3], \"cluster\": [1, 1, 1], \"Freq\": [49.26657485961914, 33.983577728271484, 16.749853134155273]}, \"tinfo\": {\"Term\": [\"\\uc0ac\\ub78c/Noun\", \"\\uc0dd\\uac01/Noun\", \"\\ub9c8\\uc74c/Noun\", \"\\uc9c4\\uc9dc/Noun\", \"\\uae30\\uc5b5/Noun\", \"\\uc815\\ub9d0/Noun\", \"\\ub54c\\ubb38/Noun\", \"\\uc9c0\\uae08/Noun\", \"\\uac00\\uc7a5/Noun\", \"\\uc624\\ub298/Noun\", \"\\uc778\\uc0dd/Noun\", \"\\ud558\\ub098/Noun\", \"\\uce5c\\uad6c/Noun\", \"\\uadf8\\ub0e5/Noun\", \"\\uc0ac\\uc2e4/Noun\", \"\\uc694\\uc998/Noun\", \"\\ud56d\\uc0c1/Noun\", \"\\uc0ac\\ub791/Noun\", \"\\uac10\\uc815/Noun\", \"\\uc695\\ub9dd/Noun\", \"\\ub2e4\\ub978/Noun\", \"\\uc790\\uc2e0/Noun\", \"\\uc815\\ub3c4/Noun\", \"\\uc9c8\\ubb38/Noun\", \"\\uae30\\ubd84/Noun\", \"\\uc598\\uae30/Noun\", \"\\uc758\\uc9c0/Noun\", \"\\uc2dc\\uac04/Noun\", \"\\uc190\\ud765\\ubbfc/Noun\", \"\\ubcf4\\uace0/Noun\", \"\\uadf8\\ub0e5/Noun\", \"\\uc0dd\\uac01/Noun\", \"\\uc778\\uc0dd/Noun\", \"\\uc0ac\\uc2e4/Noun\", \"\\ub2e4\\ub978/Noun\", \"\\ud558\\ub098/Noun\", \"\\uc624\\ub298/Noun\", \"\\uc0ac\\ub791/Noun\", \"\\ub178\\ub798/Noun\", \"\\ud45c\\ud604/Noun\", \"\\ubcf4\\uace0/Noun\", \"\\uc544\\uc8fc/Noun\", \"\\ub204\\uad6c/Noun\", \"\\uce5c\\uad6c/Noun\", \"\\uc2dc\\uac04/Noun\", \"\\uc774\\uc57c\\uae30/Noun\", \"\\ud589\\ubcf5/Noun\", \"\\ubb54\\uac00/Noun\", \"\\ub3c4\\uc6c0/Noun\", \"\\ucd5c\\uace0/Noun\", \"\\ubd80\\ud130/Noun\", \"\\uae30\\ubd84/Noun\", \"\\uacbd\\uc6b0/Noun\", \"\\uc544\\ube60/Noun\", \"\\ub2e4\\ud589/Noun\", \"\\uc774\\uc720/Noun\", \"\\ub5a1\\ubcf6\\uc774/Noun\", \"\\uccab\\uc0ac\\ub791/Noun\", \"\\ub85c\\ubd80\\ud130/Noun\", \"\\uae30\\ub300/Noun\", \"\\ud1b5\\ud654/Noun\", \"\\uc5c4\\ub9c8/Noun\", \"\\uac10\\uc131/Noun\", \"\\uc544\\uce68/Noun\", \"\\uc54c\\ubc14/Noun\", \"\\uc9c4\\uc9dc/Noun\", \"\\ub54c\\ubb38/Noun\", \"\\uae30\\uc5b5/Noun\", \"\\uc694\\uc998/Noun\", \"\\uc0ac\\ub78c/Noun\", \"\\uc815\\ub3c4/Noun\", \"\\uc815\\ub9d0/Noun\", \"\\uc9c0\\uae08/Noun\", \"\\uc9c8\\ubb38/Noun\", \"\\uc0c1\\ub2f4/Noun\", \"\\uc6b0\\ub9ac/Noun\", \"\\uc870\\uae08/Noun\", \"\\ubaa8\\uc2b5/Noun\", \"\\uc218\\uc5c5/Noun\", \"\\ud559\\uad50/Noun\", \"\\ucd5c\\uadfc/Noun\", \"\\uc790\\uc2e0/Noun\", \"\\uc0c1\\ucc98/Noun\", \"\\ub290\\ub08c/Noun\", \"\\ub300\\ud55c/Noun\", \"\\ub2e4\\uc2dc/Noun\", \"\\ud574\\ub3c4/Noun\", \"\\uc218\\ub3c4/Noun\", \"\\uacc4\\uc18d/Noun\", \"\\uc81c\\uc77c/Noun\", \"\\ubaa9\\ud45c/Noun\", \"\\uc608\\uc804/Noun\", \"\\ub2f9\\uc2dc/Noun\", \"\\uc21c\\uac04/Noun\", \"\\uaca8\\uc6b8/Noun\", \"\\ub204\\uad70\\uac00/Noun\", \"\\uc774\\uc81c/Noun\", \"\\uc790\\uae30/Noun\", \"\\uc190\\ud765\\ubbfc/Noun\", \"\\ub9c8\\uc74c/Noun\", \"\\uac00\\uc7a5/Noun\", \"\\ud56d\\uc0c1/Noun\", \"\\uc598\\uae30/Noun\", \"\\uc695\\ub9dd/Noun\", \"\\uc5b4\\uc81c/Noun\", \"\\ud604\\uc2e4/Noun\", \"\\uac10\\uc815/Noun\", \"\\uacf5\\ubd80/Noun\", \"\\uadf8\\ub54c/Noun\", \"\\ucc98\\uc74c/Noun\", \"\\uc138\\uc0c1/Noun\", \"\\uc5ec\\ub984/Noun\", \"\\uc5bc\\ub9c8\\ub098/Noun\", \"\\uc601\\ud654/Noun\", \"\\uc758\\uc9c0/Noun\", \"\\ubaa8\\ub4e0/Noun\", \"\\ubcc4\\ub85c/Noun\", \"\\uc0ac\\uc9c4/Noun\", \"\\uc804\\ud654/Noun\", \"\\ud558\\ub8e8/Noun\", \"\\uc5ec\\ud589/Noun\", \"\\uace0\\ubbfc/Noun\", \"\\uc9d1\\uc911/Noun\", \"\\ucd5c\\uc545/Noun\", \"\\uc2dc\\uc791/Noun\", \"\\uc560\\ucd08/Noun\", \"\\uc0c1\\ud669/Noun\", \"\\uc8fc\\ubcc0/Noun\", \"\\uc0ac\\uace0/Noun\", \"\\uc758\\ubbf8/Noun\", \"\\uae30\\ub3c4/Noun\", \"\\ud63c\\uc790/Noun\", \"\\ub2e8\\uc5b4/Noun\"], \"Freq\": [163.0, 240.0, 26.0, 43.0, 41.0, 41.0, 33.0, 34.0, 18.0, 53.0, 47.0, 48.0, 50.0, 43.0, 40.0, 25.0, 14.0, 37.0, 12.0, 12.0, 32.0, 21.0, 20.0, 19.0, 34.0, 10.0, 10.0, 30.0, 36.0, 27.0, 43.47996520996094, 237.735595703125, 46.725196838378906, 40.024967193603516, 32.12162399291992, 47.34242248535156, 52.36760711669922, 37.25334548950195, 23.382572174072266, 23.35814666748047, 27.092472076416016, 20.919551849365234, 22.25263786315918, 49.643550872802734, 30.021818161010742, 22.551687240600586, 19.36856460571289, 14.284784317016602, 14.485503196716309, 12.995221138000488, 13.7651948928833, 33.71223449707031, 21.6284122467041, 11.468153953552246, 17.329425811767578, 14.627758026123047, 10.926872253417969, 29.64031219482422, 10.917587280273438, 11.016337394714355, 13.32511043548584, 12.250842094421387, 18.93820571899414, 13.975652694702148, 15.988134384155273, 42.83758544921875, 32.58964157104492, 40.75444030761719, 24.76425552368164, 159.21316528320312, 19.523977279663086, 40.3574333190918, 33.545677185058594, 19.033506393432617, 14.899312019348145, 15.614278793334961, 16.115692138671875, 14.95359992980957, 15.022132873535156, 12.917466163635254, 14.931647300720215, 20.458450317382812, 15.729833602905273, 12.4989652633667, 16.285072326660156, 12.473550796508789, 11.923569679260254, 13.91558837890625, 12.977235794067383, 13.538979530334473, 9.970433235168457, 12.41569709777832, 9.616243362426758, 12.164730072021484, 12.803641319274902, 11.396042823791504, 17.493511199951172, 11.583032608032227, 28.620988845825195, 25.388084411621094, 17.811969757080078, 13.481905937194824, 9.532869338989258, 11.52683162689209, 8.374794006347656, 7.5649638175964355, 11.785454750061035, 6.506566524505615, 7.462427616119385, 7.993081092834473, 8.509031295776367, 7.351444721221924, 5.151771545410156, 5.688831806182861, 9.608071327209473, 5.688098907470703, 6.64067268371582, 4.6844563484191895, 5.51398229598999, 5.532635688781738, 4.227163791656494, 6.6275248527526855, 4.421634197235107, 5.069173812866211, 7.738973140716553, 4.741501331329346, 4.022572994232178, 4.158455848693848, 5.052516460418701, 8.355636596679688, 4.677470684051514, 4.618762493133545, 6.462352752685547], \"Total\": [163.0, 240.0, 26.0, 43.0, 41.0, 41.0, 33.0, 34.0, 18.0, 53.0, 47.0, 48.0, 50.0, 43.0, 40.0, 25.0, 14.0, 37.0, 12.0, 12.0, 32.0, 21.0, 20.0, 19.0, 34.0, 10.0, 10.0, 30.0, 36.0, 27.0, 43.918296813964844, 240.13970947265625, 47.23292922973633, 40.558494567871094, 32.56126403808594, 48.0576057434082, 53.16361999511719, 37.877197265625, 23.794937133789062, 23.780550003051758, 27.60159683227539, 21.321855545043945, 22.735631942749023, 50.74574279785156, 30.744606018066406, 23.110633850097656, 19.857725143432617, 14.70482349395752, 14.928077697753906, 13.395211219787598, 14.194072723388672, 34.7781867980957, 22.378427505493164, 11.885293006896973, 17.964927673339844, 15.175468444824219, 11.33803939819336, 30.757455825805664, 11.331949234008789, 11.435970306396484, 13.861750602722168, 12.755167961120605, 20.053089141845703, 14.648091316223145, 18.22718048095703, 43.52941131591797, 33.31517028808594, 41.823265075683594, 25.42245101928711, 163.49456787109375, 20.17607307434082, 41.763553619384766, 34.74348068237305, 19.719406127929688, 15.46802806854248, 16.22751235961914, 16.757036209106445, 15.55690860748291, 15.640220642089844, 13.475448608398438, 15.58607292175293, 21.35573387145996, 16.4300537109375, 13.069369316101074, 17.03530502319336, 13.048917770385742, 12.5147066116333, 14.619894027709961, 13.666056632995605, 14.260514259338379, 10.514298439025879, 13.096292495727539, 10.171614646911621, 12.87392807006836, 13.554071426391602, 12.084097862243652, 18.858083724975586, 12.30467700958252, 36.67488479614258, 26.521833419799805, 18.938358306884766, 14.50410270690918, 10.30054759979248, 12.475314140319824, 9.076664924621582, 8.212103843688965, 12.846997261047363, 7.149302959442139, 8.232453346252441, 8.848965644836426, 9.475809097290039, 8.280926704406738, 5.816471576690674, 6.446453094482422, 10.892213821411133, 6.462388038635254, 7.57486629486084, 5.35618782043457, 6.366131782531738, 6.398850440979004, 4.911423206329346, 7.735742568969727, 5.1634135246276855, 5.925601005554199, 9.078688621520996, 5.57235050201416, 4.752634048461914, 4.923746109008789, 5.989584922790527, 9.941515922546387, 5.556453227996826, 5.503142833709717, 9.161757469177246], \"Category\": [\"Default\", \"Default\", \"Default\", \"Default\", \"Default\", \"Default\", \"Default\", \"Default\", \"Default\", \"Default\", \"Default\", \"Default\", \"Default\", \"Default\", \"Default\", \"Default\", \"Default\", \"Default\", \"Default\", \"Default\", \"Default\", \"Default\", \"Default\", \"Default\", \"Default\", \"Default\", \"Default\", \"Default\", \"Default\", \"Default\", \"Topic1\", \"Topic1\", \"Topic1\", \"Topic1\", \"Topic1\", \"Topic1\", \"Topic1\", \"Topic1\", \"Topic1\", \"Topic1\", \"Topic1\", \"Topic1\", \"Topic1\", \"Topic1\", \"Topic1\", \"Topic1\", \"Topic1\", \"Topic1\", \"Topic1\", \"Topic1\", \"Topic1\", \"Topic1\", \"Topic1\", \"Topic1\", \"Topic1\", \"Topic1\", \"Topic1\", \"Topic1\", \"Topic1\", \"Topic1\", \"Topic1\", \"Topic1\", \"Topic1\", \"Topic1\", \"Topic1\", \"Topic2\", \"Topic2\", \"Topic2\", \"Topic2\", \"Topic2\", \"Topic2\", \"Topic2\", \"Topic2\", \"Topic2\", \"Topic2\", \"Topic2\", \"Topic2\", \"Topic2\", \"Topic2\", \"Topic2\", \"Topic2\", \"Topic2\", \"Topic2\", \"Topic2\", \"Topic2\", \"Topic2\", \"Topic2\", \"Topic2\", \"Topic2\", \"Topic2\", \"Topic2\", \"Topic2\", \"Topic2\", \"Topic2\", \"Topic2\", \"Topic2\", \"Topic2\", \"Topic2\", \"Topic2\", \"Topic3\", \"Topic3\", \"Topic3\", \"Topic3\", \"Topic3\", \"Topic3\", \"Topic3\", \"Topic3\", \"Topic3\", \"Topic3\", \"Topic3\", \"Topic3\", \"Topic3\", \"Topic3\", \"Topic3\", \"Topic3\", \"Topic3\", \"Topic3\", \"Topic3\", \"Topic3\", \"Topic3\", \"Topic3\", \"Topic3\", \"Topic3\", \"Topic3\", \"Topic3\", \"Topic3\", \"Topic3\", \"Topic3\", \"Topic3\", \"Topic3\", \"Topic3\", \"Topic3\", \"Topic3\"], \"logprob\": [30.0, 29.0, 28.0, 27.0, 26.0, 25.0, 24.0, 23.0, 22.0, 21.0, 20.0, 19.0, 18.0, 17.0, 16.0, 15.0, 14.0, 13.0, 12.0, 11.0, 10.0, 9.0, 8.0, 7.0, 6.0, 5.0, 4.0, 3.0, 2.0, 1.0, -4.405200004577637, -2.706399917602539, -4.333199977874756, -4.48799991607666, -4.708000183105469, -4.320099830627441, -4.219200134277344, -4.559800148010254, -5.0254998207092285, -5.026599884033203, -4.878300189971924, -5.1367998123168945, -5.075099945068359, -4.272600173950195, -4.775599956512451, -5.061699867248535, -5.213900089263916, -5.5183000564575195, -5.50439977645874, -5.6128997802734375, -5.5553998947143555, -4.6596999168396, -5.103499889373779, -5.7378997802734375, -5.325099945068359, -5.49459981918335, -5.786300182342529, -4.788400173187256, -5.787099838256836, -5.77810001373291, -5.587900161743164, -5.671899795532227, -5.236299991607666, -5.540200233459473, -5.405700206756592, -4.048699855804443, -4.322199821472168, -4.098599910736084, -4.596700191497803, -2.7358999252319336, -4.834499835968018, -4.108399868011475, -4.2932000160217285, -4.859899997711182, -5.104800224304199, -5.058000087738037, -5.026400089263916, -5.101200103759766, -5.09660005569458, -5.247600078582764, -5.102700233459473, -4.787799835205078, -5.050600051879883, -5.2804999351501465, -5.015900135040283, -5.28249979019165, -5.327600002288818, -5.173099994659424, -5.243000030517578, -5.2006001472473145, -5.506499767303467, -5.287199974060059, -5.542699813842773, -5.307600021362305, -5.256400108337402, -5.372900009155273, -4.944300174713135, -5.356599807739258, -4.452000141143799, -3.8643999099731445, -4.218800067901611, -4.497300148010254, -4.843900203704834, -4.6539998054504395, -4.973400115966797, -5.075099945068359, -4.631800174713135, -5.225800037384033, -5.088799953460693, -5.020100116729736, -4.957499980926514, -5.103799819946289, -5.4593000411987305, -5.360199928283691, -4.836100101470947, -5.360300064086914, -5.205399990081787, -5.5543999671936035, -5.39139986038208, -5.388000011444092, -5.657100200653076, -5.207399845123291, -5.612199783325195, -5.475500106811523, -5.0524001121521, -5.542300224304199, -5.706699848175049, -5.673500061035156, -5.478799819946289, -4.9756999015808105, -5.5559000968933105, -5.56850004196167, -5.232699871063232], \"loglift\": [30.0, 29.0, 28.0, 27.0, 26.0, 25.0, 24.0, 23.0, 22.0, 21.0, 20.0, 19.0, 18.0, 17.0, 16.0, 15.0, 14.0, 13.0, 12.0, 11.0, 10.0, 9.0, 8.0, 7.0, 6.0, 5.0, 4.0, 3.0, 2.0, 1.0, 0.6978999972343445, 0.6978999972343445, 0.6970999836921692, 0.6947000026702881, 0.6942999958992004, 0.6929000020027161, 0.692799985408783, 0.6912999749183655, 0.6904000043869019, 0.6899999976158142, 0.689300000667572, 0.6888999938964844, 0.6865000128746033, 0.6859999895095825, 0.6840999722480774, 0.6833999752998352, 0.6830000281333923, 0.6789000034332275, 0.6777999997138977, 0.6776000261306763, 0.6772000193595886, 0.676800012588501, 0.673799991607666, 0.6722000241279602, 0.6718999743461609, 0.6711999773979187, 0.6710000038146973, 0.6708999872207642, 0.6707000136375427, 0.6704999804496765, 0.66839998960495, 0.6675999760627747, 0.6506999731063843, 0.6608999967575073, 0.5769000053405762, 1.0633000135421753, 1.0572999715805054, 1.0534000396728516, 1.0530999898910522, 1.0528000593185425, 1.0463999509811401, 1.0449999570846558, 1.0441999435424805, 1.0439000129699707, 1.0418000221252441, 1.0407999753952026, 1.0403000116348267, 1.0397000312805176, 1.0390000343322754, 1.0369999408721924, 1.0363999605178833, 1.0363999605178833, 1.0356999635696411, 1.0347000360488892, 1.0342999696731567, 1.0341999530792236, 1.030900001525879, 1.0298999547958374, 1.0276000499725342, 1.027400016784668, 1.0262000560760498, 1.0259000062942505, 1.0231000185012817, 1.0226000547409058, 1.0223000049591064, 1.0206999778747559, 1.0041999816894531, 1.0189000368118286, 0.8313000202178955, 1.7431000471115112, 1.7254999876022339, 1.7137000560760498, 1.7093000411987305, 1.7077000141143799, 1.7063000202178955, 1.704699993133545, 1.7005000114440918, 1.6926000118255615, 1.688599944114685, 1.6850999593734741, 1.6792000532150269, 1.6677000522613525, 1.6654000282287598, 1.6618000268936157, 1.6612999439239502, 1.6591999530792236, 1.6552000045776367, 1.6527999639511108, 1.6431000232696533, 1.6412999629974365, 1.6367000341415405, 1.632200002670288, 1.631700038909912, 1.6306999921798706, 1.6270999908447266, 1.6253000497817993, 1.6200000047683716, 1.617900013923645, 1.6166000366210938, 1.6130000352859497, 1.6145999431610107, 1.6116000413894653, 1.4377000331878662]}, \"token.table\": {\"Topic\": [1, 2, 3, 1, 2, 1, 3, 1, 2, 1, 2, 1, 2, 1, 3, 3, 1, 3, 1, 3, 1, 2, 1, 2, 1, 1, 1, 2, 2, 1, 2, 1, 1, 2, 3, 2, 1, 2, 1, 1, 2, 1, 1, 1, 3, 3, 2, 2, 1, 1, 3, 1, 1, 1, 3, 1, 2, 3, 1, 1, 3, 2, 2, 3, 1, 2, 3, 1, 3, 1, 2, 3, 1, 2, 2, 1, 2, 1, 1, 3, 1, 1, 1, 1, 2, 3, 1, 3, 3, 3, 3, 1, 1, 3, 3, 3, 2, 1, 2, 2, 1, 3, 2, 1, 3, 1, 3, 1, 1, 1, 2, 1, 1, 2, 1, 2, 1, 3, 2, 1, 2, 1, 2, 2, 3, 1, 2, 1, 2, 1, 2, 3, 1, 3, 1, 2, 1, 2, 1, 3, 1, 2, 1, 1, 1, 1, 3, 2, 1, 3, 2, 1, 3, 1, 3], \"Freq\": [0.05280288681387901, 0.05280288681387901, 0.9504519701004028, 0.9474849700927734, 0.04986763000488281, 0.0778392031788826, 0.9340704083442688, 0.07377856969833374, 0.9591214060783386, 0.9830896258354187, 0.04468589276075363, 0.07317399978637695, 0.9512619972229004, 0.12927007675170898, 0.9048904776573181, 0.9791164398193359, 0.9790908098220825, 0.8502933382987976, 0.9618772864341736, 0.8998546004295349, 0.9776242971420288, 0.028753655031323433, 0.02391013689339161, 0.980315625667572, 0.9665921926498413, 0.9676440954208374, 0.08275338262319565, 0.9102872610092163, 0.9181774258613586, 0.9827628135681152, 0.9196165204048157, 0.9462882280349731, 0.21829873323440552, 0.10914936661720276, 0.6548961997032166, 0.9831280708312988, 0.05870161950588226, 0.9392259120941162, 0.9378300309181213, 0.030016355216503143, 0.9905397295951843, 0.970185399055481, 0.9707067608833313, 0.03770478442311287, 0.9426196217536926, 0.9284493327140808, 0.9642018675804138, 0.9510858058929443, 0.952068567276001, 0.13201552629470825, 0.9241087436676025, 0.9782042503356934, 0.9863271713256836, 0.16695648431777954, 0.8347823619842529, 0.012232822366058826, 0.9725093841552734, 0.012232822366058826, 0.9768410325050354, 0.9862298965454102, 0.9334997534751892, 0.9697422385215759, 0.9738251566886902, 0.8416385650634766, 0.9910897016525269, 0.008328485302627087, 0.004164242651313543, 0.10553188621997833, 0.9497869610786438, 0.13633307814598083, 0.7907318472862244, 0.08179984986782074, 0.06839995086193085, 0.9575992822647095, 0.9590657353401184, 0.07767637073993683, 0.9321164488792419, 0.9757809042930603, 0.11014806479215622, 0.8811845183372498, 0.9255135655403137, 0.9849048852920532, 0.9557559490203857, 0.8778099417686462, 0.10972624272108078, 0.05486312136054039, 0.17945748567581177, 0.8972874283790588, 0.9708221554756165, 0.8813809752464294, 0.8596276640892029, 0.9407951235771179, 0.12075943499803543, 0.8453159928321838, 0.8144278526306152, 0.9307444095611572, 0.9162898659706116, 0.9781124591827393, 0.018809854984283447, 0.9833827614784241, 0.0801583006978035, 0.9618996381759644, 0.9859798550605774, 0.10058828443288803, 0.8047062754631042, 0.09180869907140732, 0.9180870056152344, 0.9952128529548645, 0.9884373545646667, 0.05302765592932701, 0.9014701843261719, 0.9950684905052185, 0.08126991242170334, 0.9752389192581177, 0.0468258298933506, 0.9365166425704956, 0.1570812612771988, 0.9424875378608704, 0.9912731647491455, 0.023944322019815445, 0.9577729105949402, 0.07012369483709335, 0.9817317724227905, 0.9548227787017822, 0.8123895525932312, 0.028782378882169724, 0.9786008596420288, 0.022972973063588142, 0.9878378510475159, 0.05071146786212921, 0.9635178446769714, 0.7746813297271729, 0.1130075603723526, 0.9040604829788208, 0.9753732681274414, 0.03251244127750397, 0.9704960584640503, 0.9623976349830627, 0.16875925660133362, 0.8437962532043457, 0.9853043556213379, 0.019706087186932564, 0.9378324747085571, 0.9671769738197327, 0.9779929518699646, 0.1562780737876892, 0.9376684427261353, 0.964717447757721, 0.06894601136445999, 0.8962981104850769, 0.9588718414306641, 0.956806480884552, 0.9741718173027039, 0.18171434104442596, 0.908571720123291], \"Term\": [\"\\uac00\\uc7a5/Noun\", \"\\uac00\\uc7a5/Noun\", \"\\uac00\\uc7a5/Noun\", \"\\uac10\\uc131/Noun\", \"\\uac10\\uc131/Noun\", \"\\uac10\\uc815/Noun\", \"\\uac10\\uc815/Noun\", \"\\uaca8\\uc6b8/Noun\", \"\\uaca8\\uc6b8/Noun\", \"\\uacbd\\uc6b0/Noun\", \"\\uacbd\\uc6b0/Noun\", \"\\uacc4\\uc18d/Noun\", \"\\uacc4\\uc18d/Noun\", \"\\uace0\\ubbfc/Noun\", \"\\uace0\\ubbfc/Noun\", \"\\uacf5\\ubd80/Noun\", \"\\uadf8\\ub0e5/Noun\", \"\\uadf8\\ub54c/Noun\", \"\\uae30\\ub300/Noun\", \"\\uae30\\ub3c4/Noun\", \"\\uae30\\ubd84/Noun\", \"\\uae30\\ubd84/Noun\", \"\\uae30\\uc5b5/Noun\", \"\\uae30\\uc5b5/Noun\", \"\\ub178\\ub798/Noun\", \"\\ub204\\uad6c/Noun\", \"\\ub204\\uad70\\uac00/Noun\", \"\\ub204\\uad70\\uac00/Noun\", \"\\ub290\\ub08c/Noun\", \"\\ub2e4\\ub978/Noun\", \"\\ub2e4\\uc2dc/Noun\", \"\\ub2e4\\ud589/Noun\", \"\\ub2e8\\uc5b4/Noun\", \"\\ub2e8\\uc5b4/Noun\", \"\\ub2e8\\uc5b4/Noun\", \"\\ub2f9\\uc2dc/Noun\", \"\\ub300\\ud55c/Noun\", \"\\ub300\\ud55c/Noun\", \"\\ub3c4\\uc6c0/Noun\", \"\\ub54c\\ubb38/Noun\", \"\\ub54c\\ubb38/Noun\", \"\\ub5a1\\ubcf6\\uc774/Noun\", \"\\ub85c\\ubd80\\ud130/Noun\", \"\\ub9c8\\uc74c/Noun\", \"\\ub9c8\\uc74c/Noun\", \"\\ubaa8\\ub4e0/Noun\", \"\\ubaa8\\uc2b5/Noun\", \"\\ubaa9\\ud45c/Noun\", \"\\ubb54\\uac00/Noun\", \"\\ubcc4\\ub85c/Noun\", \"\\ubcc4\\ub85c/Noun\", \"\\ubcf4\\uace0/Noun\", \"\\ubd80\\ud130/Noun\", \"\\uc0ac\\uace0/Noun\", \"\\uc0ac\\uace0/Noun\", \"\\uc0ac\\ub78c/Noun\", \"\\uc0ac\\ub78c/Noun\", \"\\uc0ac\\ub78c/Noun\", \"\\uc0ac\\ub791/Noun\", \"\\uc0ac\\uc2e4/Noun\", \"\\uc0ac\\uc9c4/Noun\", \"\\uc0c1\\ub2f4/Noun\", \"\\uc0c1\\ucc98/Noun\", \"\\uc0c1\\ud669/Noun\", \"\\uc0dd\\uac01/Noun\", \"\\uc0dd\\uac01/Noun\", \"\\uc0dd\\uac01/Noun\", \"\\uc138\\uc0c1/Noun\", \"\\uc138\\uc0c1/Noun\", \"\\uc190\\ud765\\ubbfc/Noun\", \"\\uc190\\ud765\\ubbfc/Noun\", \"\\uc190\\ud765\\ubbfc/Noun\", \"\\uc218\\ub3c4/Noun\", \"\\uc218\\ub3c4/Noun\", \"\\uc218\\uc5c5/Noun\", \"\\uc21c\\uac04/Noun\", \"\\uc21c\\uac04/Noun\", \"\\uc2dc\\uac04/Noun\", \"\\uc2dc\\uc791/Noun\", \"\\uc2dc\\uc791/Noun\", \"\\uc544\\ube60/Noun\", \"\\uc544\\uc8fc/Noun\", \"\\uc544\\uce68/Noun\", \"\\uc54c\\ubc14/Noun\", \"\\uc54c\\ubc14/Noun\", \"\\uc54c\\ubc14/Noun\", \"\\uc560\\ucd08/Noun\", \"\\uc560\\ucd08/Noun\", \"\\uc598\\uae30/Noun\", \"\\uc5b4\\uc81c/Noun\", \"\\uc5bc\\ub9c8\\ub098/Noun\", \"\\uc5c4\\ub9c8/Noun\", \"\\uc5ec\\ub984/Noun\", \"\\uc5ec\\ub984/Noun\", \"\\uc5ec\\ud589/Noun\", \"\\uc601\\ud654/Noun\", \"\\uc608\\uc804/Noun\", \"\\uc624\\ub298/Noun\", \"\\uc624\\ub298/Noun\", \"\\uc694\\uc998/Noun\", \"\\uc695\\ub9dd/Noun\", \"\\uc695\\ub9dd/Noun\", \"\\uc6b0\\ub9ac/Noun\", \"\\uc758\\ubbf8/Noun\", \"\\uc758\\ubbf8/Noun\", \"\\uc758\\uc9c0/Noun\", \"\\uc758\\uc9c0/Noun\", \"\\uc774\\uc57c\\uae30/Noun\", \"\\uc774\\uc720/Noun\", \"\\uc774\\uc81c/Noun\", \"\\uc774\\uc81c/Noun\", \"\\uc778\\uc0dd/Noun\", \"\\uc790\\uae30/Noun\", \"\\uc790\\uae30/Noun\", \"\\uc790\\uc2e0/Noun\", \"\\uc790\\uc2e0/Noun\", \"\\uc804\\ud654/Noun\", \"\\uc804\\ud654/Noun\", \"\\uc815\\ub3c4/Noun\", \"\\uc815\\ub9d0/Noun\", \"\\uc815\\ub9d0/Noun\", \"\\uc81c\\uc77c/Noun\", \"\\uc81c\\uc77c/Noun\", \"\\uc870\\uae08/Noun\", \"\\uc8fc\\ubcc0/Noun\", \"\\uc9c0\\uae08/Noun\", \"\\uc9c0\\uae08/Noun\", \"\\uc9c4\\uc9dc/Noun\", \"\\uc9c4\\uc9dc/Noun\", \"\\uc9c8\\ubb38/Noun\", \"\\uc9c8\\ubb38/Noun\", \"\\uc9d1\\uc911/Noun\", \"\\ucc98\\uc74c/Noun\", \"\\ucc98\\uc74c/Noun\", \"\\uccab\\uc0ac\\ub791/Noun\", \"\\uccab\\uc0ac\\ub791/Noun\", \"\\ucd5c\\uace0/Noun\", \"\\ucd5c\\uadfc/Noun\", \"\\ucd5c\\uc545/Noun\", \"\\ucd5c\\uc545/Noun\", \"\\uce5c\\uad6c/Noun\", \"\\uce5c\\uad6c/Noun\", \"\\ud1b5\\ud654/Noun\", \"\\ud45c\\ud604/Noun\", \"\\ud558\\ub098/Noun\", \"\\ud558\\ub8e8/Noun\", \"\\ud558\\ub8e8/Noun\", \"\\ud559\\uad50/Noun\", \"\\ud56d\\uc0c1/Noun\", \"\\ud56d\\uc0c1/Noun\", \"\\ud574\\ub3c4/Noun\", \"\\ud589\\ubcf5/Noun\", \"\\ud604\\uc2e4/Noun\", \"\\ud63c\\uc790/Noun\", \"\\ud63c\\uc790/Noun\"]}, \"R\": 30, \"lambda.step\": 0.01, \"plot.opts\": {\"xlab\": \"PC1\", \"ylab\": \"PC2\"}, \"topic.order\": [3, 1, 2]};\n",
       "\n",
       "function LDAvis_load_lib(url, callback){\n",
       "  var s = document.createElement('script');\n",
       "  s.src = url;\n",
       "  s.async = true;\n",
       "  s.onreadystatechange = s.onload = callback;\n",
       "  s.onerror = function(){console.warn(\"failed to load library \" + url);};\n",
       "  document.getElementsByTagName(\"head\")[0].appendChild(s);\n",
       "}\n",
       "\n",
       "if(typeof(LDAvis) !== \"undefined\"){\n",
       "   // already loaded: just create the visualization\n",
       "   !function(LDAvis){\n",
       "       new LDAvis(\"#\" + \"ldavis_el100431405343061154087515016624\", ldavis_el100431405343061154087515016624_data);\n",
       "   }(LDAvis);\n",
       "}else if(typeof define === \"function\" && define.amd){\n",
       "   // require.js is available: use it to load d3/LDAvis\n",
       "   require.config({paths: {d3: \"https://cdnjs.cloudflare.com/ajax/libs/d3/3.5.5/d3.min\"}});\n",
       "   require([\"d3\"], function(d3){\n",
       "      window.d3 = d3;\n",
       "      LDAvis_load_lib(\"https://cdn.rawgit.com/bmabey/pyLDAvis/files/ldavis.v1.0.0.js\", function(){\n",
       "        new LDAvis(\"#\" + \"ldavis_el100431405343061154087515016624\", ldavis_el100431405343061154087515016624_data);\n",
       "      });\n",
       "    });\n",
       "}else{\n",
       "    // require.js not available: dynamically load d3 & LDAvis\n",
       "    LDAvis_load_lib(\"https://cdnjs.cloudflare.com/ajax/libs/d3/3.5.5/d3.min.js\", function(){\n",
       "         LDAvis_load_lib(\"https://cdn.rawgit.com/bmabey/pyLDAvis/files/ldavis.v1.0.0.js\", function(){\n",
       "                 new LDAvis(\"#\" + \"ldavis_el100431405343061154087515016624\", ldavis_el100431405343061154087515016624_data);\n",
       "            })\n",
       "         });\n",
       "}\n",
       "</script>"
      ],
      "text/plain": [
       "PreparedData(topic_coordinates=                 x            y  topics  cluster       Freq\n",
       "topic                                                      \n",
       "2     -1015.700562  1338.981201       1        1  49.266575\n",
       "0      -387.996002  -373.316162       2        1  33.983578\n",
       "1     -2184.745605   -60.565800       3        1  16.749853, topic_info=         Term        Freq       Total Category  logprob  loglift\n",
       "74    사람/Noun  163.000000  163.000000  Default  30.0000  30.0000\n",
       "10    생각/Noun  240.000000  240.000000  Default  29.0000  29.0000\n",
       "350   마음/Noun   26.000000   26.000000  Default  28.0000  28.0000\n",
       "342   진짜/Noun   43.000000   43.000000  Default  27.0000  27.0000\n",
       "277   기억/Noun   41.000000   41.000000  Default  26.0000  26.0000\n",
       "...       ...         ...         ...      ...      ...      ...\n",
       "295   사고/Noun    5.052516    5.989585   Topic3  -5.4788   1.6166\n",
       "1365  의미/Noun    8.355637    9.941516   Topic3  -4.9757   1.6130\n",
       "37    기도/Noun    4.677471    5.556453   Topic3  -5.5559   1.6146\n",
       "16    혼자/Noun    4.618762    5.503143   Topic3  -5.5685   1.6116\n",
       "1381  단어/Noun    6.462353    9.161757   Topic3  -5.2327   1.4377\n",
       "\n",
       "[133 rows x 6 columns], token_table=      Topic      Freq     Term\n",
       "term                          \n",
       "20        1  0.052803  가장/Noun\n",
       "20        2  0.052803  가장/Noun\n",
       "20        3  0.950452  가장/Noun\n",
       "1434      1  0.947485  감성/Noun\n",
       "1434      2  0.049868  감성/Noun\n",
       "...     ...       ...      ...\n",
       "666       2  0.958872  해도/Noun\n",
       "40        1  0.956806  행복/Noun\n",
       "301       3  0.974172  현실/Noun\n",
       "16        1  0.181714  혼자/Noun\n",
       "16        3  0.908572  혼자/Noun\n",
       "\n",
       "[155 rows x 3 columns], R=30, lambda_step=0.01, plot_opts={'xlab': 'PC1', 'ylab': 'PC2'}, topic_order=[3, 1, 2])"
      ]
     },
     "execution_count": 39,
     "metadata": {},
     "output_type": "execute_result"
    }
   ],
   "source": [
    "# 3-topic LDA 모델 - MDS Mapping\n",
    "\n",
    "corpus_lda = lda_ko[tfidf_ko]\n",
    "\n",
    "pyLDAvis.enable_notebook()\n",
    "panel = pyLDAvis.gensim.prepare(lda_ko, corpus_lda, dictionary_ko, mds='tsne')\n",
    "panel"
   ]
  },
  {
   "cell_type": "code",
   "execution_count": null,
   "metadata": {},
   "outputs": [],
   "source": []
  },
  {
   "cell_type": "code",
   "execution_count": 40,
   "metadata": {},
   "outputs": [],
   "source": [
    "def getNVM_lemma(text):\n",
    "    tokenizer = MeCab.Tagger()\n",
    "    parsed = tokenizer.parse(text)\n",
    "    word_tag = [w for w in parsed.split(\"\\n\")]\n",
    "    pos = []\n",
    "    tags = ['NNG','NNP','VV','VA', 'VX', 'VCP','VCN']\n",
    "    for word_ in word_tag[:-2]:\n",
    "        word = word_.split(\"\\t\")\n",
    "        tag = word[1].split(\",\")\n",
    "        if(len(word[0]) < 2) or (\"게\" in word[0]):\n",
    "            continue\n",
    "        if(tag[-1] != '*'):\n",
    "            t = tag[-1].split('/')\n",
    "            if(len(t[0]) > 1 and ('VV' in t[1] or 'VA' in t[1] or 'VX' in t[1])):\n",
    "                pos.append(t[0])\n",
    "        else:\n",
    "            if(tag[0] in tags):\n",
    "                pos.append(word[0])\n",
    "    return pos"
   ]
  },
  {
   "cell_type": "code",
   "execution_count": 41,
   "metadata": {},
   "outputs": [
    {
     "name": "stdout",
     "output_type": "stream",
     "text": [
      "Created 1005 X 845 document-term matrix\n"
     ]
    }
   ],
   "source": [
    "vectorizer = CountVectorizer(tokenizer=getNVM_lemma, min_df=2)\n",
    "x_counts = vectorizer.fit_transform(df['content'].values.astype('U'))\n",
    "print( \"Created %d X %d document-term matrix\" % (x_counts.shape[0], x_counts.shape[1]) )\n",
    "transformer = TfidfTransformer(smooth_idf=False);\n",
    "x_tfidf = transformer.fit_transform(x_counts);"
   ]
  },
  {
   "cell_type": "code",
   "execution_count": 42,
   "metadata": {},
   "outputs": [
    {
     "name": "stdout",
     "output_type": "stream",
     "text": [
      "Vocabulary has 845 distinct terms\n"
     ]
    }
   ],
   "source": [
    "terms = vectorizer.get_feature_names()\n",
    "print(\"Vocabulary has %d distinct terms\" % len(terms))"
   ]
  },
  {
   "cell_type": "code",
   "execution_count": 43,
   "metadata": {},
   "outputs": [
    {
     "data": {
      "text/plain": [
       "NMF(init='nndsvd', n_components=10)"
      ]
     },
     "execution_count": 43,
     "metadata": {},
     "output_type": "execute_result"
    }
   ],
   "source": [
    "xtfidf_norm = normalize(x_tfidf, norm='l1', axis=1)\n",
    "model = NMF(n_components=10, init='nndsvd');\n",
    "model.fit(xtfidf_norm)"
   ]
  },
  {
   "cell_type": "code",
   "execution_count": 44,
   "metadata": {},
   "outputs": [],
   "source": [
    "def get_nmf_topics(model, n_top_words):\n",
    "    \n",
    "    feat_names = vectorizer.get_feature_names()\n",
    "    \n",
    "    word_dict = {};\n",
    "    for i in range(num_topics):\n",
    "        \n",
    "        words_ids = model.components_[i].argsort()[:-10 - 1:-1]\n",
    "        words = [feat_names[key] for key in words_ids]\n",
    "        word_dict['Topic # ' + '{:02d}'.format(i+1)] = words;\n",
    "    \n",
    "    return pd.DataFrame(word_dict);"
   ]
  },
  {
   "cell_type": "code",
   "execution_count": 45,
   "metadata": {},
   "outputs": [
    {
     "data": {
      "text/html": [
       "<div>\n",
       "<style scoped>\n",
       "    .dataframe tbody tr th:only-of-type {\n",
       "        vertical-align: middle;\n",
       "    }\n",
       "\n",
       "    .dataframe tbody tr th {\n",
       "        vertical-align: top;\n",
       "    }\n",
       "\n",
       "    .dataframe thead th {\n",
       "        text-align: right;\n",
       "    }\n",
       "</style>\n",
       "<table border=\"1\" class=\"dataframe\">\n",
       "  <thead>\n",
       "    <tr style=\"text-align: right;\">\n",
       "      <th></th>\n",
       "      <th>Topic # 01</th>\n",
       "    </tr>\n",
       "  </thead>\n",
       "  <tbody>\n",
       "    <tr>\n",
       "      <th>0</th>\n",
       "      <td>생각</td>\n",
       "    </tr>\n",
       "    <tr>\n",
       "      <th>1</th>\n",
       "      <td>행동</td>\n",
       "    </tr>\n",
       "    <tr>\n",
       "      <th>2</th>\n",
       "      <td>괜찮</td>\n",
       "    </tr>\n",
       "    <tr>\n",
       "      <th>3</th>\n",
       "      <td>예전</td>\n",
       "    </tr>\n",
       "    <tr>\n",
       "      <th>4</th>\n",
       "      <td>들어오</td>\n",
       "    </tr>\n",
       "    <tr>\n",
       "      <th>5</th>\n",
       "      <td>평생</td>\n",
       "    </tr>\n",
       "    <tr>\n",
       "      <th>6</th>\n",
       "      <td>정도</td>\n",
       "    </tr>\n",
       "    <tr>\n",
       "      <th>7</th>\n",
       "      <td>보이</td>\n",
       "    </tr>\n",
       "    <tr>\n",
       "      <th>8</th>\n",
       "      <td>머리</td>\n",
       "    </tr>\n",
       "    <tr>\n",
       "      <th>9</th>\n",
       "      <td>멋지</td>\n",
       "    </tr>\n",
       "  </tbody>\n",
       "</table>\n",
       "</div>"
      ],
      "text/plain": [
       "  Topic # 01\n",
       "0         생각\n",
       "1         행동\n",
       "2         괜찮\n",
       "3         예전\n",
       "4        들어오\n",
       "5         평생\n",
       "6         정도\n",
       "7         보이\n",
       "8         머리\n",
       "9         멋지"
      ]
     },
     "execution_count": 45,
     "metadata": {},
     "output_type": "execute_result"
    }
   ],
   "source": [
    "num_topics = 1\n",
    "nmf_df = get_nmf_topics(model, 2)\n",
    "nmf_df"
   ]
  },
  {
   "cell_type": "code",
   "execution_count": 46,
   "metadata": {},
   "outputs": [
    {
     "data": {
      "text/html": [
       "<div>\n",
       "<style scoped>\n",
       "    .dataframe tbody tr th:only-of-type {\n",
       "        vertical-align: middle;\n",
       "    }\n",
       "\n",
       "    .dataframe tbody tr th {\n",
       "        vertical-align: top;\n",
       "    }\n",
       "\n",
       "    .dataframe thead th {\n",
       "        text-align: right;\n",
       "    }\n",
       "</style>\n",
       "<table border=\"1\" class=\"dataframe\">\n",
       "  <thead>\n",
       "    <tr style=\"text-align: right;\">\n",
       "      <th></th>\n",
       "      <th>Topic # 01</th>\n",
       "      <th>Topic # 02</th>\n",
       "      <th>Topic # 03</th>\n",
       "      <th>Topic # 04</th>\n",
       "      <th>Topic # 05</th>\n",
       "    </tr>\n",
       "  </thead>\n",
       "  <tbody>\n",
       "    <tr>\n",
       "      <th>0</th>\n",
       "      <td>생각</td>\n",
       "      <td>사람</td>\n",
       "      <td>모르</td>\n",
       "      <td>친구</td>\n",
       "      <td>어렵</td>\n",
       "    </tr>\n",
       "    <tr>\n",
       "      <th>1</th>\n",
       "      <td>행동</td>\n",
       "      <td>보이</td>\n",
       "      <td>돌아오</td>\n",
       "      <td>남자</td>\n",
       "      <td>성격</td>\n",
       "    </tr>\n",
       "    <tr>\n",
       "      <th>2</th>\n",
       "      <td>괜찮</td>\n",
       "      <td>만나</td>\n",
       "      <td>대답</td>\n",
       "      <td>대화</td>\n",
       "      <td>변하</td>\n",
       "    </tr>\n",
       "    <tr>\n",
       "      <th>3</th>\n",
       "      <td>예전</td>\n",
       "      <td>자신</td>\n",
       "      <td>바꾸</td>\n",
       "      <td>그렇</td>\n",
       "      <td>평생</td>\n",
       "    </tr>\n",
       "    <tr>\n",
       "      <th>4</th>\n",
       "      <td>들어오</td>\n",
       "      <td>힘들</td>\n",
       "      <td>만드</td>\n",
       "      <td>만나</td>\n",
       "      <td>고민</td>\n",
       "    </tr>\n",
       "    <tr>\n",
       "      <th>5</th>\n",
       "      <td>평생</td>\n",
       "      <td>편하</td>\n",
       "      <td>부탁</td>\n",
       "      <td>노래</td>\n",
       "      <td>만들</td>\n",
       "    </tr>\n",
       "    <tr>\n",
       "      <th>6</th>\n",
       "      <td>정도</td>\n",
       "      <td>버리</td>\n",
       "      <td>구체</td>\n",
       "      <td>힘들</td>\n",
       "      <td>질문</td>\n",
       "    </tr>\n",
       "    <tr>\n",
       "      <th>7</th>\n",
       "      <td>보이</td>\n",
       "      <td>이야기</td>\n",
       "      <td>도어</td>\n",
       "      <td>기쁘</td>\n",
       "      <td>택하</td>\n",
       "    </tr>\n",
       "    <tr>\n",
       "      <th>8</th>\n",
       "      <td>머리</td>\n",
       "      <td>목표</td>\n",
       "      <td>알아주</td>\n",
       "      <td>진심</td>\n",
       "      <td>에어컨</td>\n",
       "    </tr>\n",
       "    <tr>\n",
       "      <th>9</th>\n",
       "      <td>멋지</td>\n",
       "      <td>좋아하</td>\n",
       "      <td>따르</td>\n",
       "      <td>친하</td>\n",
       "      <td>요소</td>\n",
       "    </tr>\n",
       "  </tbody>\n",
       "</table>\n",
       "</div>"
      ],
      "text/plain": [
       "  Topic # 01 Topic # 02 Topic # 03 Topic # 04 Topic # 05\n",
       "0         생각         사람         모르         친구         어렵\n",
       "1         행동         보이        돌아오         남자         성격\n",
       "2         괜찮         만나         대답         대화         변하\n",
       "3         예전         자신         바꾸         그렇         평생\n",
       "4        들어오         힘들         만드         만나         고민\n",
       "5         평생         편하         부탁         노래         만들\n",
       "6         정도         버리         구체         힘들         질문\n",
       "7         보이        이야기         도어         기쁘         택하\n",
       "8         머리         목표        알아주         진심        에어컨\n",
       "9         멋지        좋아하         따르         친하         요소"
      ]
     },
     "execution_count": 46,
     "metadata": {},
     "output_type": "execute_result"
    }
   ],
   "source": [
    "num_topics = 5\n",
    "nmf_df = get_nmf_topics(model, 5)\n",
    "nmf_df"
   ]
  },
  {
   "cell_type": "code",
   "execution_count": 47,
   "metadata": {
    "scrolled": true
   },
   "outputs": [
    {
     "data": {
      "text/html": [
       "<div>\n",
       "<style scoped>\n",
       "    .dataframe tbody tr th:only-of-type {\n",
       "        vertical-align: middle;\n",
       "    }\n",
       "\n",
       "    .dataframe tbody tr th {\n",
       "        vertical-align: top;\n",
       "    }\n",
       "\n",
       "    .dataframe thead th {\n",
       "        text-align: right;\n",
       "    }\n",
       "</style>\n",
       "<table border=\"1\" class=\"dataframe\">\n",
       "  <thead>\n",
       "    <tr style=\"text-align: right;\">\n",
       "      <th></th>\n",
       "      <th>Topic # 01</th>\n",
       "      <th>Topic # 02</th>\n",
       "      <th>Topic # 03</th>\n",
       "      <th>Topic # 04</th>\n",
       "      <th>Topic # 05</th>\n",
       "      <th>Topic # 06</th>\n",
       "      <th>Topic # 07</th>\n",
       "      <th>Topic # 08</th>\n",
       "      <th>Topic # 09</th>\n",
       "      <th>Topic # 10</th>\n",
       "    </tr>\n",
       "  </thead>\n",
       "  <tbody>\n",
       "    <tr>\n",
       "      <th>0</th>\n",
       "      <td>생각</td>\n",
       "      <td>사람</td>\n",
       "      <td>모르</td>\n",
       "      <td>친구</td>\n",
       "      <td>어렵</td>\n",
       "      <td>사랑</td>\n",
       "      <td>배우</td>\n",
       "      <td>시간</td>\n",
       "      <td>행복</td>\n",
       "      <td>학교</td>\n",
       "    </tr>\n",
       "    <tr>\n",
       "      <th>1</th>\n",
       "      <td>행동</td>\n",
       "      <td>보이</td>\n",
       "      <td>돌아오</td>\n",
       "      <td>남자</td>\n",
       "      <td>성격</td>\n",
       "      <td>엄마</td>\n",
       "      <td>재미</td>\n",
       "      <td>일어나</td>\n",
       "      <td>인생</td>\n",
       "      <td>파이</td>\n",
       "    </tr>\n",
       "    <tr>\n",
       "      <th>2</th>\n",
       "      <td>괜찮</td>\n",
       "      <td>만나</td>\n",
       "      <td>대답</td>\n",
       "      <td>대화</td>\n",
       "      <td>변하</td>\n",
       "      <td>원망</td>\n",
       "      <td>가르침</td>\n",
       "      <td>버스</td>\n",
       "      <td>아름답</td>\n",
       "      <td>형태</td>\n",
       "    </tr>\n",
       "    <tr>\n",
       "      <th>3</th>\n",
       "      <td>예전</td>\n",
       "      <td>자신</td>\n",
       "      <td>바꾸</td>\n",
       "      <td>그렇</td>\n",
       "      <td>평생</td>\n",
       "      <td>아니</td>\n",
       "      <td>가르치</td>\n",
       "      <td>자신</td>\n",
       "      <td>하당</td>\n",
       "      <td>공연</td>\n",
       "    </tr>\n",
       "    <tr>\n",
       "      <th>4</th>\n",
       "      <td>들어오</td>\n",
       "      <td>힘들</td>\n",
       "      <td>만드</td>\n",
       "      <td>만나</td>\n",
       "      <td>고민</td>\n",
       "      <td>신뢰</td>\n",
       "      <td>감사</td>\n",
       "      <td>지나</td>\n",
       "      <td>건강</td>\n",
       "      <td>연극</td>\n",
       "    </tr>\n",
       "    <tr>\n",
       "      <th>5</th>\n",
       "      <td>평생</td>\n",
       "      <td>편하</td>\n",
       "      <td>부탁</td>\n",
       "      <td>노래</td>\n",
       "      <td>만들</td>\n",
       "      <td>갔다오</td>\n",
       "      <td>반성</td>\n",
       "      <td>기대</td>\n",
       "      <td>아니</td>\n",
       "      <td>리스트</td>\n",
       "    </tr>\n",
       "    <tr>\n",
       "      <th>6</th>\n",
       "      <td>정도</td>\n",
       "      <td>버리</td>\n",
       "      <td>구체</td>\n",
       "      <td>힘들</td>\n",
       "      <td>질문</td>\n",
       "      <td>대신</td>\n",
       "      <td>악기</td>\n",
       "      <td>수업</td>\n",
       "      <td>미치</td>\n",
       "      <td>소원</td>\n",
       "    </tr>\n",
       "    <tr>\n",
       "      <th>7</th>\n",
       "      <td>보이</td>\n",
       "      <td>이야기</td>\n",
       "      <td>도어</td>\n",
       "      <td>기쁘</td>\n",
       "      <td>택하</td>\n",
       "      <td>재미</td>\n",
       "      <td>입학</td>\n",
       "      <td>오늘</td>\n",
       "      <td>평생</td>\n",
       "      <td>알차</td>\n",
       "    </tr>\n",
       "    <tr>\n",
       "      <th>8</th>\n",
       "      <td>머리</td>\n",
       "      <td>목표</td>\n",
       "      <td>알아주</td>\n",
       "      <td>진심</td>\n",
       "      <td>에어컨</td>\n",
       "      <td>능력</td>\n",
       "      <td>대학</td>\n",
       "      <td>돌아보</td>\n",
       "      <td>하루</td>\n",
       "      <td>피곤</td>\n",
       "    </tr>\n",
       "    <tr>\n",
       "      <th>9</th>\n",
       "      <td>멋지</td>\n",
       "      <td>좋아하</td>\n",
       "      <td>따르</td>\n",
       "      <td>친하</td>\n",
       "      <td>요소</td>\n",
       "      <td>마음</td>\n",
       "      <td>여유</td>\n",
       "      <td>통화</td>\n",
       "      <td>진심</td>\n",
       "      <td>만나</td>\n",
       "    </tr>\n",
       "  </tbody>\n",
       "</table>\n",
       "</div>"
      ],
      "text/plain": [
       "  Topic # 01 Topic # 02 Topic # 03 Topic # 04 Topic # 05 Topic # 06  \\\n",
       "0         생각         사람         모르         친구         어렵         사랑   \n",
       "1         행동         보이        돌아오         남자         성격         엄마   \n",
       "2         괜찮         만나         대답         대화         변하         원망   \n",
       "3         예전         자신         바꾸         그렇         평생         아니   \n",
       "4        들어오         힘들         만드         만나         고민         신뢰   \n",
       "5         평생         편하         부탁         노래         만들        갔다오   \n",
       "6         정도         버리         구체         힘들         질문         대신   \n",
       "7         보이        이야기         도어         기쁘         택하         재미   \n",
       "8         머리         목표        알아주         진심        에어컨         능력   \n",
       "9         멋지        좋아하         따르         친하         요소         마음   \n",
       "\n",
       "  Topic # 07 Topic # 08 Topic # 09 Topic # 10  \n",
       "0         배우         시간         행복         학교  \n",
       "1         재미        일어나         인생         파이  \n",
       "2        가르침         버스        아름답         형태  \n",
       "3        가르치         자신         하당         공연  \n",
       "4         감사         지나         건강         연극  \n",
       "5         반성         기대         아니        리스트  \n",
       "6         악기         수업         미치         소원  \n",
       "7         입학         오늘         평생         알차  \n",
       "8         대학        돌아보         하루         피곤  \n",
       "9         여유         통화         진심         만나  "
      ]
     },
     "execution_count": 47,
     "metadata": {},
     "output_type": "execute_result"
    }
   ],
   "source": [
    "num_topics = 10\n",
    "nmf_df = get_nmf_topics(model, 5)\n",
    "nmf_df"
   ]
  },
  {
   "cell_type": "code",
   "execution_count": null,
   "metadata": {},
   "outputs": [],
   "source": []
  }
 ],
 "metadata": {
  "kernelspec": {
   "display_name": "Python 3",
   "language": "python",
   "name": "python3"
  },
  "language_info": {
   "codemirror_mode": {
    "name": "ipython",
    "version": 3
   },
   "file_extension": ".py",
   "mimetype": "text/x-python",
   "name": "python",
   "nbconvert_exporter": "python",
   "pygments_lexer": "ipython3",
   "version": "3.7.7"
  }
 },
 "nbformat": 4,
 "nbformat_minor": 4
}
