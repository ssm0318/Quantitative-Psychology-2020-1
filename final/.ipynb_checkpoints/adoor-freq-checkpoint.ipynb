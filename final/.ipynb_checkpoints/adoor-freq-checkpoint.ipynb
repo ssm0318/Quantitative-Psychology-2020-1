{
 "cells": [
  {
   "cell_type": "code",
   "execution_count": 1,
   "metadata": {},
   "outputs": [],
   "source": [
    "# reference: https://saintbeller96.tistory.com/14?category=751441"
   ]
  },
  {
   "cell_type": "code",
   "execution_count": 2,
   "metadata": {},
   "outputs": [],
   "source": [
    "# Start with loading all necessary libraries\n",
    "import os\n",
    "import pandas as pd\n",
    "import matplotlib\n",
    "from matplotlib import pyplot as plt\n",
    "import matplotlib.font_manager as fm\n",
    "\n",
    "import MeCab\n",
    "from sklearn.feature_extraction.text import CountVectorizer, TfidfVectorizer\n",
    "\n",
    "%matplotlib inline"
   ]
  },
  {
   "cell_type": "code",
   "execution_count": 3,
   "metadata": {},
   "outputs": [],
   "source": [
    "path='/Library/Fonts/NanumGothic.ttf'\n",
    "font_name = fm.FontProperties(fname=path, size=50).get_name()\n",
    "matplotlib.rc('font', family=font_name)\n",
    "matplotlib.rc('axes', unicode_minus=False)"
   ]
  },
  {
   "cell_type": "code",
   "execution_count": 4,
   "metadata": {},
   "outputs": [],
   "source": [
    "# from IPython.display import set_matplotlib_formats\n",
    "# matplotlib.rc('font', family = font_name)\n",
    "# set_matplotlib_formats('retina')\n",
    "# matplotlib.rc('axes', unicode_minus = False)"
   ]
  },
  {
   "cell_type": "code",
   "execution_count": 5,
   "metadata": {},
   "outputs": [
    {
     "data": {
      "text/html": [
       "<div>\n",
       "<style scoped>\n",
       "    .dataframe tbody tr th:only-of-type {\n",
       "        vertical-align: middle;\n",
       "    }\n",
       "\n",
       "    .dataframe tbody tr th {\n",
       "        vertical-align: top;\n",
       "    }\n",
       "\n",
       "    .dataframe thead th {\n",
       "        text-align: right;\n",
       "    }\n",
       "</style>\n",
       "<table border=\"1\" class=\"dataframe\">\n",
       "  <thead>\n",
       "    <tr style=\"text-align: right;\">\n",
       "      <th></th>\n",
       "      <th>id</th>\n",
       "      <th>author_id</th>\n",
       "      <th>question_id</th>\n",
       "      <th>content</th>\n",
       "      <th>tag_string</th>\n",
       "      <th>created_at</th>\n",
       "      <th>updated_at</th>\n",
       "    </tr>\n",
       "  </thead>\n",
       "  <tbody>\n",
       "    <tr>\n",
       "      <th>0</th>\n",
       "      <td>1</td>\n",
       "      <td>5</td>\n",
       "      <td>236</td>\n",
       "      <td>오늘 상담쌤과 칭찬에 대한 대화를 나눴다. 내가 애들의 칭찬을 잘 못 믿는, 그리고...</td>\n",
       "      <td>NaN</td>\n",
       "      <td>2019-01-28 14:11:42.543635</td>\n",
       "      <td>2019-01-28 14:11:42.543635</td>\n",
       "    </tr>\n",
       "    <tr>\n",
       "      <th>1</th>\n",
       "      <td>2</td>\n",
       "      <td>5</td>\n",
       "      <td>103</td>\n",
       "      <td>원하는 순간에 생각의 흐름을 멈추고 하고자 하는 일에 집중할 수 있는 능력.</td>\n",
       "      <td>NaN</td>\n",
       "      <td>2019-01-28 14:12:09.623446</td>\n",
       "      <td>2019-01-28 14:12:09.623446</td>\n",
       "    </tr>\n",
       "    <tr>\n",
       "      <th>2</th>\n",
       "      <td>3</td>\n",
       "      <td>5</td>\n",
       "      <td>98</td>\n",
       "      <td>가만히 공상/유튜브. 혼자 있는 시간.</td>\n",
       "      <td>NaN</td>\n",
       "      <td>2019-01-28 14:13:16.547800</td>\n",
       "      <td>2019-01-28 14:13:16.547800</td>\n",
       "    </tr>\n",
       "    <tr>\n",
       "      <th>3</th>\n",
       "      <td>4</td>\n",
       "      <td>5</td>\n",
       "      <td>95</td>\n",
       "      <td>게으름. 그 중에서도 요즘 가장 싫은건 게으름으로 인해 더러워진 방. 너무 짜증나서...</td>\n",
       "      <td>NaN</td>\n",
       "      <td>2019-01-28 14:14:38.838070</td>\n",
       "      <td>2019-01-28 14:14:38.838070</td>\n",
       "    </tr>\n",
       "    <tr>\n",
       "      <th>10</th>\n",
       "      <td>15</td>\n",
       "      <td>5</td>\n",
       "      <td>194</td>\n",
       "      <td>유리는 달 모양 귀걸이가 좋대요.</td>\n",
       "      <td>NaN</td>\n",
       "      <td>2019-01-30 01:19:06.475296</td>\n",
       "      <td>2019-01-30 01:19:06.475296</td>\n",
       "    </tr>\n",
       "  </tbody>\n",
       "</table>\n",
       "</div>"
      ],
      "text/plain": [
       "    id  author_id  question_id  \\\n",
       "0    1          5          236   \n",
       "1    2          5          103   \n",
       "2    3          5           98   \n",
       "3    4          5           95   \n",
       "10  15          5          194   \n",
       "\n",
       "                                              content  tag_string  \\\n",
       "0   오늘 상담쌤과 칭찬에 대한 대화를 나눴다. 내가 애들의 칭찬을 잘 못 믿는, 그리고...         NaN   \n",
       "1          원하는 순간에 생각의 흐름을 멈추고 하고자 하는 일에 집중할 수 있는 능력.         NaN   \n",
       "2                               가만히 공상/유튜브. 혼자 있는 시간.         NaN   \n",
       "3   게으름. 그 중에서도 요즘 가장 싫은건 게으름으로 인해 더러워진 방. 너무 짜증나서...         NaN   \n",
       "10                                 유리는 달 모양 귀걸이가 좋대요.         NaN   \n",
       "\n",
       "                   created_at                  updated_at  \n",
       "0  2019-01-28 14:11:42.543635  2019-01-28 14:11:42.543635  \n",
       "1  2019-01-28 14:12:09.623446  2019-01-28 14:12:09.623446  \n",
       "2  2019-01-28 14:13:16.547800  2019-01-28 14:13:16.547800  \n",
       "3  2019-01-28 14:14:38.838070  2019-01-28 14:14:38.838070  \n",
       "10 2019-01-30 01:19:06.475296  2019-01-30 01:19:06.475296  "
      ]
     },
     "execution_count": 5,
     "metadata": {},
     "output_type": "execute_result"
    }
   ],
   "source": [
    "df = pd.read_csv('adoor_data/answers.csv', encoding='UTF8')\n",
    "df[-df['content'].isnull()]\n",
    "\n",
    "# df = df[df['author_id'] == 5]\n",
    "\n",
    "df['created_at'] = pd.to_datetime(df['created_at'])\n",
    "\n",
    "start_date = pd.Timestamp(2019, 1, 28, 0)\n",
    "end_date = pd.Timestamp(2019, 4, 1, 0)\n",
    "\n",
    "mask = (df['created_at'] > start_date) & (df['created_at'] <= end_date)\n",
    "df = df.loc[mask]\n",
    "\n",
    "df.head()"
   ]
  },
  {
   "cell_type": "code",
   "execution_count": 6,
   "metadata": {},
   "outputs": [],
   "source": [
    "def getNVM_lemma(text):\n",
    "    tokenizer = MeCab.Tagger()\n",
    "    parsed = tokenizer.parse(text)\n",
    "    word_tag = [w for w in parsed.split(\"\\n\")]\n",
    "    pos = []\n",
    "    tags = ['NNG','NNP','VV','VA', 'VX', 'VCP','VCN']\n",
    "    for word_ in word_tag[:-2]:\n",
    "        word = word_.split(\"\\t\")\n",
    "        tag = word[1].split(\",\")\n",
    "        if(len(word[0]) < 2) or (\"게\" in word[0]):\n",
    "            continue\n",
    "        if(tag[-1] != '*'):\n",
    "            t = tag[-1].split('/')\n",
    "            if(len(t[0]) > 1 and ('VV' in t[1] or 'VA' in t[1] or 'VX' in t[1])):\n",
    "                pos.append(t[0])\n",
    "        else:\n",
    "            if(tag[0] in tags):\n",
    "                pos.append(word[0])\n",
    "    return pos"
   ]
  },
  {
   "cell_type": "code",
   "execution_count": 7,
   "metadata": {},
   "outputs": [],
   "source": [
    "def getNVM(text):\n",
    "    tokenizer = MeCab.Tagger()\n",
    "    parsed = tokenizer.parse(text)\n",
    "    word_tag = [w for w in parsed.split(\"\\n\")]\n",
    "    pos = []\n",
    "    tags = ['NNG','NNP','VV','VA','VCP','VCN']\n",
    "    for word_ in word_tag[:-2]:\n",
    "        word = word_.split(\"\\t\")\n",
    "        tag = word[1].split(\",\")[0]\n",
    "        if (tag in tags):\n",
    "            pos.append(word[0])\n",
    "    return pos"
   ]
  },
  {
   "cell_type": "code",
   "execution_count": 8,
   "metadata": {},
   "outputs": [],
   "source": [
    "tf_vect = CountVectorizer(tokenizer=getNVM_lemma, min_df=2)\n",
    "dtm = tf_vect.fit_transform(df['content'].values.astype('U'))"
   ]
  },
  {
   "cell_type": "code",
   "execution_count": 9,
   "metadata": {},
   "outputs": [],
   "source": [
    "vocab = dict()\n",
    "for idx, word in enumerate(tf_vect.get_feature_names()):\n",
    "    vocab[word] = dtm.getcol(idx).sum()\n",
    "words = sorted(vocab.items(), key = lambda x:x[1], reverse = True)"
   ]
  },
  {
   "cell_type": "code",
   "execution_count": 10,
   "metadata": {},
   "outputs": [
    {
     "data": {
      "image/png": "[encoded data removed]",
      "text/plain": [
       "<Figure size 864x432 with 1 Axes>"
      ]
     },
     "metadata": {
      "needs_background": "light"
     },
     "output_type": "display_data"
    }
   ],
   "source": [
    "max = 30\n",
    "plt.rcParams['figure.figsize'] = 12, 6\n",
    "plt.rcParams[\"font.size\"] = 12\n",
    "plt.bar(range(max), [i[1] for i in words[:max]])\n",
    "plt.title('Freqeuency Top 30')\n",
    "plt.xlabel('단어')\n",
    "plt.xticks(range(max), [i[0] for i in words[:max]], rotation=60)\n",
    "plt.show()"
   ]
  },
  {
   "cell_type": "code",
   "execution_count": null,
   "metadata": {},
   "outputs": [],
   "source": []
  },
  {
   "cell_type": "code",
   "execution_count": null,
   "metadata": {},
   "outputs": [],
   "source": []
  }
 ],
 "metadata": {
  "kernelspec": {
   "display_name": "Python 3",
   "language": "python",
   "name": "python3"
  },
  "language_info": {
   "codemirror_mode": {
    "name": "ipython",
    "version": 3
   },
   "file_extension": ".py",
   "mimetype": "text/x-python",
   "name": "python",
   "nbconvert_exporter": "python",
   "pygments_lexer": "ipython3",
   "version": "3.7.7"
  }
 },
 "nbformat": 4,
 "nbformat_minor": 2
}
