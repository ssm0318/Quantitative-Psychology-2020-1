{
 "cells": [
  {
   "cell_type": "code",
   "execution_count": 1,
   "metadata": {},
   "outputs": [
    {
     "name": "stderr",
     "output_type": "stream",
     "text": [
      "/Users/gimjaewon/opt/anaconda3/envs/venv/lib/python3.7/site-packages/botocore/vendored/requests/packages/urllib3/_collections.py:1: DeprecationWarning: Using or importing the ABCs from 'collections' instead of from 'collections.abc' is deprecated since Python 3.3,and in 3.9 it will stop working\n",
      "  from collections import Mapping, MutableMapping\n",
      "/Users/gimjaewon/opt/anaconda3/envs/venv/lib/python3.7/site-packages/botocore/vendored/requests/packages/urllib3/_collections.py:1: DeprecationWarning: Using or importing the ABCs from 'collections' instead of from 'collections.abc' is deprecated since Python 3.3,and in 3.9 it will stop working\n",
      "  from collections import Mapping, MutableMapping\n",
      "/Users/gimjaewon/opt/anaconda3/envs/venv/lib/python3.7/site-packages/scipy/sparse/sparsetools.py:21: DeprecationWarning: `scipy.sparse.sparsetools` is deprecated!\n",
      "scipy.sparse.sparsetools is a private module for scipy.sparse, and should not be used.\n",
      "  _deprecated()\n",
      "/Users/gimjaewon/opt/anaconda3/envs/venv/lib/python3.7/site-packages/gensim/models/doc2vec.py:73: DeprecationWarning: Using or importing the ABCs from 'collections' instead of from 'collections.abc' is deprecated since Python 3.3,and in 3.9 it will stop working\n",
      "  from collections import namedtuple, defaultdict, Iterable\n"
     ]
    }
   ],
   "source": [
    "import warnings\n",
    "warnings.filterwarnings('ignore')\n",
    "\n",
    "import pandas as pd\n",
    "import matplotlib\n",
    "import matplotlib.pyplot as plt\n",
    "import matplotlib.font_manager as fm\n",
    "import numpy as np; np.random.seed(42)\n",
    "import seaborn as sns\n",
    "\n",
    "import pyLDAvis\n",
    "import pyLDAvis.gensim\n",
    "from collections import OrderedDict\n",
    "from itertools import combinations\n",
    "import MeCab\n",
    "from konlpy.tag import *\n",
    "import nltk\n",
    "from nltk.corpus import stopwords\n",
    "from gensim import corpora, models\n",
    "from sklearn.feature_extraction.text import CountVectorizer, TfidfTransformer\n",
    "from sklearn.decomposition import NMF, LatentDirichletAllocation, TruncatedSVD\n",
    "from sklearn.preprocessing import normalize;\n",
    "from sklearn import decomposition;"
   ]
  },
  {
   "cell_type": "code",
   "execution_count": 2,
   "metadata": {},
   "outputs": [
    {
     "data": {
      "text/html": [
       "<div>\n",
       "<style scoped>\n",
       "    .dataframe tbody tr th:only-of-type {\n",
       "        vertical-align: middle;\n",
       "    }\n",
       "\n",
       "    .dataframe tbody tr th {\n",
       "        vertical-align: top;\n",
       "    }\n",
       "\n",
       "    .dataframe thead th {\n",
       "        text-align: right;\n",
       "    }\n",
       "</style>\n",
       "<table border=\"1\" class=\"dataframe\">\n",
       "  <thead>\n",
       "    <tr style=\"text-align: right;\">\n",
       "      <th></th>\n",
       "      <th>adoor</th>\n",
       "      <th>SNS</th>\n",
       "      <th>SNS 아이디</th>\n",
       "      <th>private</th>\n",
       "      <th>created_at</th>\n",
       "      <th>photo</th>\n",
       "      <th>content</th>\n",
       "    </tr>\n",
       "  </thead>\n",
       "  <tbody>\n",
       "    <tr>\n",
       "      <th>0</th>\n",
       "      <td>2</td>\n",
       "      <td>facebook</td>\n",
       "      <td>김유리</td>\n",
       "      <td>False</td>\n",
       "      <td>2019-02-08</td>\n",
       "      <td>홍보</td>\n",
       "      <td>저와 팀원들이 영혼을 갈아넣은 서비스 베타버전이 드디어 나왔어요!!🤩\\n밤잠을 줄여...</td>\n",
       "    </tr>\n",
       "    <tr>\n",
       "      <th>1</th>\n",
       "      <td>2</td>\n",
       "      <td>instagram</td>\n",
       "      <td>nnnyu_ri</td>\n",
       "      <td>False</td>\n",
       "      <td>2019-02-08</td>\n",
       "      <td>홍보</td>\n",
       "      <td>https://adoor.app @adoor.team\\n저와 팀원들이 영혼을 갈아넣...</td>\n",
       "    </tr>\n",
       "    <tr>\n",
       "      <th>2</th>\n",
       "      <td>2</td>\n",
       "      <td>instagram</td>\n",
       "      <td>yulo_mon</td>\n",
       "      <td>True</td>\n",
       "      <td>2019-02-07</td>\n",
       "      <td>가족, 아기, 강아지</td>\n",
       "      <td>카조꾸또 잇쇼니 토떼모 우레시깟딴데쓰</td>\n",
       "    </tr>\n",
       "    <tr>\n",
       "      <th>3</th>\n",
       "      <td>2</td>\n",
       "      <td>instagram</td>\n",
       "      <td>yulo_mon</td>\n",
       "      <td>True</td>\n",
       "      <td>2019-02-25</td>\n",
       "      <td>일상</td>\n",
       "      <td>🙋🏻‍♀️</td>\n",
       "    </tr>\n",
       "    <tr>\n",
       "      <th>4</th>\n",
       "      <td>2</td>\n",
       "      <td>instagram</td>\n",
       "      <td>yulo_mon</td>\n",
       "      <td>True</td>\n",
       "      <td>2019-03-02</td>\n",
       "      <td>나들이</td>\n",
       "      <td>필름캐머러 첫 롤 사진들1\\n수라미가 준 로모그래피 심플유즈 기본 장착 컬러네거티브...</td>\n",
       "    </tr>\n",
       "  </tbody>\n",
       "</table>\n",
       "</div>"
      ],
      "text/plain": [
       "  adoor        SNS   SNS 아이디 private created_at        photo  \\\n",
       "0     2   facebook       김유리   False 2019-02-08           홍보   \n",
       "1     2  instagram  nnnyu_ri   False 2019-02-08           홍보   \n",
       "2     2  instagram  yulo_mon    True 2019-02-07  가족, 아기, 강아지   \n",
       "3     2  instagram  yulo_mon    True 2019-02-25           일상   \n",
       "4     2  instagram  yulo_mon    True 2019-03-02          나들이   \n",
       "\n",
       "                                             content  \n",
       "0  저와 팀원들이 영혼을 갈아넣은 서비스 베타버전이 드디어 나왔어요!!🤩\\n밤잠을 줄여...  \n",
       "1  https://adoor.app @adoor.team\\n저와 팀원들이 영혼을 갈아넣...  \n",
       "2                               카조꾸또 잇쇼니 토떼모 우레시깟딴데쓰  \n",
       "3                                              🙋🏻‍♀️  \n",
       "4  필름캐머러 첫 롤 사진들1\\n수라미가 준 로모그래피 심플유즈 기본 장착 컬러네거티브...  "
      ]
     },
     "execution_count": 2,
     "metadata": {},
     "output_type": "execute_result"
    }
   ],
   "source": [
    "df = pd.read_csv('adoor_data/sns_feed.csv', encoding='UTF8')\n",
    "df['created_at'] = pd.to_datetime(df['created_at'])\n",
    "\n",
    "# df = df[(df.author_id != 5)]\n",
    "\n",
    "start_date = pd.Timestamp(2019, 1, 28, 0)\n",
    "end_date = pd.Timestamp(2019, 4, 1, 0)\n",
    "\n",
    "mask = (df['created_at'] > start_date) & (df['created_at'] <= end_date)\n",
    "df = df.loc[mask]\n",
    "\n",
    "df.head()"
   ]
  },
  {
   "cell_type": "code",
   "execution_count": 3,
   "metadata": {},
   "outputs": [],
   "source": [
    "twitter = Okt()\n",
    "pos = lambda d: ['/'.join(p) for p in twitter.pos(d, stem=True, norm=True)]\n",
    "\n",
    "texts_ko = []\n",
    "content = df.photo\n",
    "docs_ko = \"\"\n",
    "\n",
    "for row in content:\n",
    "    text = row\n",
    "    if not pd.isna(text):\n",
    "        docs_ko = docs_ko + text\n",
    "        for morph in pos(text):\n",
    "            if (morph.split('/')[1]) in ['Noun'] and len(morph.split('/')[0]) > 1:\n",
    "                m = []\n",
    "                m.append(morph)\n",
    "                texts_ko.append(m)"
   ]
  },
  {
   "cell_type": "code",
   "execution_count": 4,
   "metadata": {},
   "outputs": [],
   "source": [
    "dictionary_ko = corpora.Dictionary(texts_ko)\n",
    "dictionary_ko.save('ko.dict')"
   ]
  },
  {
   "cell_type": "code",
   "execution_count": 5,
   "metadata": {},
   "outputs": [],
   "source": [
    "tf_ko = [dictionary_ko.doc2bow(text) for text in texts_ko]\n",
    "tfidf_model_ko = models.TfidfModel(tf_ko)\n",
    "tfidf_ko = tfidf_model_ko[tf_ko]\n",
    "corpora.MmCorpus.serialize('ko.mm', tfidf_ko)"
   ]
  },
  {
   "cell_type": "code",
   "execution_count": 6,
   "metadata": {},
   "outputs": [
    {
     "data": {
      "text/plain": [
       "[(0,\n",
       "  '0.146*\"일상/Noun\" + 0.091*\"홍보/Noun\" + 0.067*\"여행/Noun\" + 0.050*\"음식/Noun\" + 0.040*\"드로잉/Noun\" + 0.039*\"사진/Noun\" + 0.038*\"본인/Noun\" + 0.032*\"게임/Noun\" + 0.027*\"벨벳/Noun\" + 0.023*\"카톡/Noun\"'),\n",
       " (1,\n",
       "  '0.189*\"친구/Noun\" + 0.082*\"음식/Noun\" + 0.069*\"방탄소년단/Noun\" + 0.034*\"가족/Noun\" + 0.032*\"레드/Noun\" + 0.025*\"일상/Noun\" + 0.025*\"연예인/Noun\" + 0.023*\"강아지/Noun\" + 0.023*\"생일/Noun\" + 0.022*\"부산/Noun\"'),\n",
       " (2,\n",
       "  '0.127*\"강아지/Noun\" + 0.101*\"셀카/Noun\" + 0.097*\"캡쳐/Noun\" + 0.052*\"노래/Noun\" + 0.039*\"트위터/Noun\" + 0.031*\"스포츠/Noun\" + 0.027*\"지민/Noun\" + 0.023*\"카페/Noun\" + 0.021*\"바다/Noun\" + 0.017*\"일상/Noun\"')]"
      ]
     },
     "execution_count": 6,
     "metadata": {},
     "output_type": "execute_result"
    }
   ],
   "source": [
    "ntopics, nwords = 3, 5\n",
    "\n",
    "lda_ko = models.ldamodel.LdaModel(tf_ko, id2word=dictionary_ko, num_topics=ntopics)\n",
    "lda_ko.print_topics()"
   ]
  },
  {
   "cell_type": "code",
   "execution_count": 7,
   "metadata": {},
   "outputs": [
    {
     "data": {
      "text/plain": [
       "[(0,\n",
       "  '0.091*\"캡쳐/Noun\" + 0.090*\"홍보/Noun\" + 0.082*\"음식/Noun\" + 0.081*\"친구/Noun\" + 0.045*\"노래/Noun\" + 0.043*\"드로잉/Noun\" + 0.033*\"가족/Noun\" + 0.032*\"지민/Noun\" + 0.030*\"벨벳/Noun\" + 0.023*\"강아지/Noun\"'),\n",
       " (1,\n",
       "  '0.131*\"셀카/Noun\" + 0.077*\"여행/Noun\" + 0.050*\"음식/Noun\" + 0.047*\"사진/Noun\" + 0.037*\"레드/Noun\" + 0.027*\"생일/Noun\" + 0.025*\"카톡/Noun\" + 0.025*\"게임/Noun\" + 0.024*\"카페/Noun\" + 0.016*\"시간표/Noun\"'),\n",
       " (2,\n",
       "  '0.154*\"일상/Noun\" + 0.124*\"강아지/Noun\" + 0.109*\"친구/Noun\" + 0.066*\"방탄소년단/Noun\" + 0.039*\"트위터/Noun\" + 0.039*\"본인/Noun\" + 0.028*\"스포츠/Noun\" + 0.021*\"연예인/Noun\" + 0.020*\"간식/Noun\" + 0.016*\"음식/Noun\"')]"
      ]
     },
     "execution_count": 7,
     "metadata": {},
     "output_type": "execute_result"
    }
   ],
   "source": [
    "lda_ko = models.ldamodel.LdaModel(tfidf_ko, id2word=dictionary_ko, num_topics=ntopics)\n",
    "lda_ko.print_topics()"
   ]
  },
  {
   "cell_type": "code",
   "execution_count": 8,
   "metadata": {},
   "outputs": [
    {
     "data": {
      "text/plain": [
       "(0,\n",
       " [('캡쳐/Noun', 0.091250286),\n",
       "  ('홍보/Noun', 0.090023756),\n",
       "  ('음식/Noun', 0.08226373),\n",
       "  ('친구/Noun', 0.081062905),\n",
       "  ('노래/Noun', 0.04462832),\n",
       "  ('드로잉/Noun', 0.042810813),\n",
       "  ('가족/Noun', 0.03291121),\n",
       "  ('지민/Noun', 0.032088112),\n",
       "  ('벨벳/Noun', 0.029790098),\n",
       "  ('강아지/Noun', 0.023091422)])"
      ]
     },
     "execution_count": 8,
     "metadata": {},
     "output_type": "execute_result"
    }
   ],
   "source": [
    "ldatopics = lda_ko.show_topics(formatted=False)\n",
    "ldatopics[0]"
   ]
  },
  {
   "cell_type": "code",
   "execution_count": 9,
   "metadata": {},
   "outputs": [
    {
     "data": {
      "text/plain": [
       "[(0,\n",
       "  '1.000*\"친구/Noun\" + -0.000*\"강아지/Noun\" + 0.000*\"음식/Noun\" + 0.000*\"일상/Noun\" + -0.000*\"캡쳐/Noun\" + 0.000*\"방탄소년단/Noun\" + 0.000*\"셀카/Noun\" + -0.000*\"트위터/Noun\" + -0.000*\"연예인/Noun\" + 0.000*\"벨벳/Noun\"'),\n",
       " (1,\n",
       "  '-1.000*\"일상/Noun\" + 0.000*\"강아지/Noun\" + 0.000*\"친구/Noun\" + -0.000*\"음식/Noun\" + 0.000*\"여행/Noun\" + 0.000*\"아기/Noun\" + 0.000*\"생일/Noun\" + 0.000*\"셀카/Noun\" + 0.000*\"간식/Noun\" + -0.000*\"벨벳/Noun\"'),\n",
       " (2,\n",
       "  '-1.000*\"강아지/Noun\" + -0.000*\"친구/Noun\" + -0.000*\"일상/Noun\" + 0.000*\"음식/Noun\" + -0.000*\"셀카/Noun\" + 0.000*\"홍보/Noun\" + -0.000*\"생일/Noun\" + -0.000*\"여행/Noun\" + 0.000*\"트위터/Noun\" + -0.000*\"카톡/Noun\"')]"
      ]
     },
     "execution_count": 9,
     "metadata": {},
     "output_type": "execute_result"
    }
   ],
   "source": [
    "lsi_ko = models.lsimodel.LsiModel(tfidf_ko, id2word=dictionary_ko, num_topics=ntopics)\n",
    "lsi_ko.print_topics()"
   ]
  },
  {
   "cell_type": "code",
   "execution_count": 10,
   "metadata": {},
   "outputs": [
    {
     "name": "stderr",
     "output_type": "stream",
     "text": [
      "/Users/gimjaewon/opt/anaconda3/envs/venv/lib/python3.7/site-packages/gensim/models/hdpmodel.py:467: DeprecationWarning: time.clock has been deprecated in Python 3.3 and will be removed from Python 3.8: use time.perf_counter or time.process_time instead\n",
      "  start_time = time.clock()\n"
     ]
    },
    {
     "data": {
      "text/plain": [
       "[(0,\n",
       "  '0.060*악기/Noun + 0.056*경기/Noun + 0.051*건물/Noun + 0.045*전자기기/Noun + 0.039*레드/Noun'),\n",
       " (1,\n",
       "  '0.057*보드게임/Noun + 0.055*러닝/Noun + 0.043*나들이/Noun + 0.038*전자기기/Noun + 0.038*간식/Noun'),\n",
       " (2,\n",
       "  '0.060*빙고/Noun + 0.055*연애/Noun + 0.054*러닝/Noun + 0.046*유튜브/Noun + 0.043*경기/Noun')]"
      ]
     },
     "execution_count": 10,
     "metadata": {},
     "output_type": "execute_result"
    }
   ],
   "source": [
    "hdp_ko = models.hdpmodel.HdpModel(tfidf_ko, id2word=dictionary_ko)\n",
    "hdp_ko.print_topics(ntopics, nwords)"
   ]
  },
  {
   "cell_type": "code",
   "execution_count": 11,
   "metadata": {},
   "outputs": [
    {
     "data": {
      "text/plain": [
       "[(0, 0.66037375), (2, 0.16985688), (1, 0.16976939)]"
      ]
     },
     "execution_count": 11,
     "metadata": {},
     "output_type": "execute_result"
    }
   ],
   "source": [
    "bow = tfidf_model_ko[dictionary_ko.doc2bow(texts_ko[0])]\n",
    "sorted(lda_ko[bow], key=lambda x: x[1], reverse=True)"
   ]
  },
  {
   "cell_type": "code",
   "execution_count": 12,
   "metadata": {},
   "outputs": [
    {
     "data": {
      "text/plain": [
       "[(29, 0.5069136456459685),\n",
       " (0, 0.013778811083425935),\n",
       " (1, 0.01327473309688152),\n",
       " (2, 0.013020264939908956),\n",
       " (3, 0.01280852111016978),\n",
       " (4, 0.012528876939684918),\n",
       " (5, 0.01220400490482022),\n",
       " (7, 0.011859883088650922),\n",
       " (6, 0.011854347357947975),\n",
       " (8, 0.01140280264759115),\n",
       " (9, 0.011303181576749114),\n",
       " (10, 0.011054556602990998),\n",
       " (11, 0.010667298077139849),\n",
       " (12, 0.010434826732918442),\n",
       " (13, 0.010119372907864336),\n",
       " (14, 0.010020505466432265)]"
      ]
     },
     "execution_count": 12,
     "metadata": {},
     "output_type": "execute_result"
    }
   ],
   "source": [
    "sorted(hdp_ko[bow], key=lambda x: x[1], reverse=True)"
   ]
  },
  {
   "cell_type": "code",
   "execution_count": 13,
   "metadata": {},
   "outputs": [
    {
     "data": {
      "text/plain": [
       "[(0, 0.6603641), (2, 0.16985916), (1, 0.16977672)]"
      ]
     },
     "execution_count": 13,
     "metadata": {},
     "output_type": "execute_result"
    }
   ],
   "source": [
    "bow = tfidf_model_ko[dictionary_ko.doc2bow(texts_ko[1])]\n",
    "sorted(lda_ko[bow], key=lambda x: x[1], reverse=True)"
   ]
  },
  {
   "cell_type": "code",
   "execution_count": 14,
   "metadata": {},
   "outputs": [
    {
     "data": {
      "text/plain": [
       "[(29, 0.5069136456459685),\n",
       " (0, 0.013778811083425935),\n",
       " (1, 0.01327473309688152),\n",
       " (2, 0.013020264939908956),\n",
       " (3, 0.01280852111016978),\n",
       " (4, 0.012528876939684918),\n",
       " (5, 0.01220400490482022),\n",
       " (7, 0.011859883088650922),\n",
       " (6, 0.011854347357947975),\n",
       " (8, 0.01140280264759115),\n",
       " (9, 0.011303181576749114),\n",
       " (10, 0.011054556602990998),\n",
       " (11, 0.010667298077139849),\n",
       " (12, 0.010434826732918442),\n",
       " (13, 0.010119372907864336),\n",
       " (14, 0.010020505466432265)]"
      ]
     },
     "execution_count": 14,
     "metadata": {},
     "output_type": "execute_result"
    }
   ],
   "source": [
    "sorted(hdp_ko[bow], key=lambda x: x[1], reverse=True)"
   ]
  },
  {
   "cell_type": "code",
   "execution_count": null,
   "metadata": {},
   "outputs": [],
   "source": []
  },
  {
   "cell_type": "code",
   "execution_count": 15,
   "metadata": {},
   "outputs": [],
   "source": [
    "def compute_coherence_values(dictionary, corpus, texts, limit, start=2, step=3):\n",
    "    coherence_values = []\n",
    "    model_list = []\n",
    "    for num_topics in range(start, limit, step):\n",
    "        model = models.LdaModel(corpus=tf_ko, num_topics=num_topics, id2word=dictionary_ko)\n",
    "        model_list.append(model)\n",
    "        coherencemodel = models.CoherenceModel(model=model, texts=texts_ko, dictionary=dictionary_ko, coherence='c_v')\n",
    "        coherence_values.append(coherencemodel.get_coherence())\n",
    "\n",
    "    return model_list, coherence_values"
   ]
  },
  {
   "cell_type": "code",
   "execution_count": 16,
   "metadata": {},
   "outputs": [
    {
     "name": "stdout",
     "output_type": "stream",
     "text": [
      "\n",
      "Coherence Score:  0.8566176432002953\n"
     ]
    }
   ],
   "source": [
    "coherence_model_lda = models.CoherenceModel(model=lda_ko, texts=texts_ko, dictionary=dictionary_ko, coherence='c_v')\n",
    "coherence_lda = coherence_model_lda.get_coherence()\n",
    "print('\\nCoherence Score: ', coherence_lda)"
   ]
  },
  {
   "cell_type": "code",
   "execution_count": 17,
   "metadata": {},
   "outputs": [],
   "source": [
    "model_list, coherence_values = compute_coherence_values(\n",
    "    dictionary=dictionary_ko, \n",
    "    corpus=tf_ko, \n",
    "    texts=texts_ko, \n",
    "    start=1, \n",
    "    limit=10, \n",
    "    step=1)"
   ]
  },
  {
   "cell_type": "code",
   "execution_count": 18,
   "metadata": {},
   "outputs": [
    {
     "data": {
      "image/png": "[encoded data removed]",
      "text/plain": [
       "<Figure size 648x360 with 1 Axes>"
      ]
     },
     "metadata": {
      "needs_background": "light"
     },
     "output_type": "display_data"
    }
   ],
   "source": [
    "limit=10; start=1; step=1;\n",
    "x = range(start, limit, step)\n",
    "plt.rcParams[\"font.size\"] = 20\n",
    "plt.figure(figsize=(9,5))\n",
    "plt.plot(x, coherence_values)\n",
    "plt.xlabel(\"Num Topics\")\n",
    "plt.ylabel(\"Coherence score\")\n",
    "plt.legend((\"coherence_values\"), loc='best')\n",
    "plt.show()"
   ]
  },
  {
   "cell_type": "code",
   "execution_count": 19,
   "metadata": {},
   "outputs": [
    {
     "name": "stdout",
     "output_type": "stream",
     "text": [
      "Num Topics = 1  has Coherence Value of 0.87\n",
      "Num Topics = 2  has Coherence Value of 0.8687\n",
      "Num Topics = 3  has Coherence Value of 0.8583\n",
      "Num Topics = 4  has Coherence Value of 0.8513\n",
      "Num Topics = 5  has Coherence Value of 0.8564\n",
      "Num Topics = 6  has Coherence Value of 0.8576\n",
      "Num Topics = 7  has Coherence Value of 0.8596\n",
      "Num Topics = 8  has Coherence Value of 0.8607\n",
      "Num Topics = 9  has Coherence Value of 0.8615\n"
     ]
    }
   ],
   "source": [
    "for m, cv in zip(x, coherence_values):\n",
    "    print(\"Num Topics =\", m, \" has Coherence Value of\", round(cv, 4))"
   ]
  },
  {
   "cell_type": "code",
   "execution_count": 20,
   "metadata": {},
   "outputs": [
    {
     "data": {
      "text/plain": [
       "[(0,\n",
       "  '0.062*\"일상/Noun\" + 0.059*\"친구/Noun\" + 0.048*\"셀카/Noun\" + 0.045*\"음식/Noun\" + 0.044*\"캡쳐/Noun\" + 0.034*\"방탄소년단/Noun\" + 0.033*\"노래/Noun\" + 0.032*\"드로잉/Noun\" + 0.026*\"사진/Noun\" + 0.025*\"본인/Noun\"'),\n",
       " (1,\n",
       "  '0.086*\"강아지/Noun\" + 0.082*\"친구/Noun\" + 0.065*\"일상/Noun\" + 0.060*\"홍보/Noun\" + 0.052*\"음식/Noun\" + 0.042*\"셀카/Noun\" + 0.041*\"여행/Noun\" + 0.039*\"캡쳐/Noun\" + 0.026*\"방탄소년단/Noun\" + 0.022*\"스포츠/Noun\"')]"
      ]
     },
     "execution_count": 20,
     "metadata": {},
     "output_type": "execute_result"
    }
   ],
   "source": [
    "optimal_model = model_list[1]\n",
    "model_topics = optimal_model.show_topics(formatted=False)\n",
    "optimal_model.print_topics(num_words=10)"
   ]
  },
  {
   "cell_type": "code",
   "execution_count": 21,
   "metadata": {},
   "outputs": [],
   "source": [
    "# def format_topics_sentences(ldamodel=lda_ko, corpus=tf_ko, texts=df['photo'].values.astype('U')):\n",
    "   \n",
    "#     sent_topics_df = pd.DataFrame()\n",
    "\n",
    "   \n",
    "#     for i, row in enumerate(ldamodel[corpus]):\n",
    "#         row = sorted(row, key=lambda x: (x[1]), reverse=True)\n",
    "#         # Get the Dominant topic, Perc Contribution and Keywords for each document\n",
    "#         for j, (topic_num, prop_topic) in enumerate(row):\n",
    "#             if j == 0:  # -- dominant topic\n",
    "#                 wp = ldamodel.show_topic(topic_num)\n",
    "#                 topic_keywords = \", \".join([word for word, prop in wp])\n",
    "#                 sent_topics_df = sent_topics_df.append(pd.Series([int(topic_num), round(prop_topic,4), topic_keywords]), ignore_index=True)\n",
    "#             else:\n",
    "#                 break\n",
    "#     sent_topics_df.columns = ['Dominant_Topic', 'Perc_Contribution', 'Topic_Keywords']\n",
    "\n",
    "#     # Add original text to the end of the output\n",
    "    \n",
    "#     contents = pd.Series(texts)\n",
    "#     sent_topics_df = pd.concat([sent_topics_df, contents], axis=1)\n",
    "#     return(sent_topics_df)\n",
    "    \n",
    "\n",
    "# df_topic_sents_keywords = format_topics_sentences(ldamodel=optimal_model, corpus=tf_ko, texts=df['photo'].values.astype('U'))\n",
    "\n",
    "\n",
    "# df_dominant_topic = df_topic_sents_keywords.reset_index()\n",
    "# df_dominant_topic.columns = ['Document_No', 'Dominant_Topic', 'Topic_Perc_Contrib', 'Keywords', 'Text']\n",
    "\n",
    "\n",
    "# df_dominant_topic.head(5)"
   ]
  },
  {
   "cell_type": "code",
   "execution_count": null,
   "metadata": {},
   "outputs": [],
   "source": []
  },
  {
   "cell_type": "code",
   "execution_count": 22,
   "metadata": {},
   "outputs": [],
   "source": [
    "path='/Library/Fonts/NanumGothic.ttf'\n",
    "font_name = fm.FontProperties(fname=path, size=50).get_name()\n",
    "matplotlib.rc('font', family=font_name)\n",
    "matplotlib.rc('axes', unicode_minus=False)\n",
    "plt.rc('font', family=font_name)\n",
    "plt.rc('axes', unicode_minus=False)"
   ]
  },
  {
   "cell_type": "code",
   "execution_count": 23,
   "metadata": {},
   "outputs": [],
   "source": [
    "# Latent Dirichlet Allocation, LDA is yet another transformation from \n",
    "# bag-of-words counts into a topic space of lower dimensionality. \n",
    "# LDA is a probabilistic extension of LSA (also called multinomial PCA), \n",
    "# so LDA’s topics can be interpreted as probability distributions over words. \n",
    "# These distributions are, just like with LSA, inferred automatically from \n",
    "# a training corpus. Documents are in turn interpreted as a (soft) mixture \n",
    "# of these topics (again, just like with LSA)"
   ]
  },
  {
   "cell_type": "code",
   "execution_count": 24,
   "metadata": {},
   "outputs": [
    {
     "name": "stdout",
     "output_type": "stream",
     "text": [
      "(3, 13)\n"
     ]
    },
    {
     "data": {
      "text/html": [
       "<div>\n",
       "<style scoped>\n",
       "    .dataframe tbody tr th:only-of-type {\n",
       "        vertical-align: middle;\n",
       "    }\n",
       "\n",
       "    .dataframe tbody tr th {\n",
       "        vertical-align: top;\n",
       "    }\n",
       "\n",
       "    .dataframe thead th {\n",
       "        text-align: right;\n",
       "    }\n",
       "</style>\n",
       "<table border=\"1\" class=\"dataframe\">\n",
       "  <thead>\n",
       "    <tr style=\"text-align: right;\">\n",
       "      <th></th>\n",
       "      <th>캡쳐/Noun</th>\n",
       "      <th>홍보/Noun</th>\n",
       "      <th>음식/Noun</th>\n",
       "      <th>친구/Noun</th>\n",
       "      <th>노래/Noun</th>\n",
       "      <th>셀카/Noun</th>\n",
       "      <th>여행/Noun</th>\n",
       "      <th>사진/Noun</th>\n",
       "      <th>레드/Noun</th>\n",
       "      <th>일상/Noun</th>\n",
       "      <th>강아지/Noun</th>\n",
       "      <th>방탄소년단/Noun</th>\n",
       "      <th>트위터/Noun</th>\n",
       "    </tr>\n",
       "  </thead>\n",
       "  <tbody>\n",
       "    <tr>\n",
       "      <th>0</th>\n",
       "      <td>0.09125</td>\n",
       "      <td>0.090024</td>\n",
       "      <td>0.082264</td>\n",
       "      <td>0.081063</td>\n",
       "      <td>0.044628</td>\n",
       "      <td>0.000000</td>\n",
       "      <td>0.00000</td>\n",
       "      <td>0.000000</td>\n",
       "      <td>0.000000</td>\n",
       "      <td>0.000000</td>\n",
       "      <td>0.000000</td>\n",
       "      <td>0.000000</td>\n",
       "      <td>0.000000</td>\n",
       "    </tr>\n",
       "    <tr>\n",
       "      <th>1</th>\n",
       "      <td>0.00000</td>\n",
       "      <td>0.000000</td>\n",
       "      <td>0.049628</td>\n",
       "      <td>0.000000</td>\n",
       "      <td>0.000000</td>\n",
       "      <td>0.130687</td>\n",
       "      <td>0.07722</td>\n",
       "      <td>0.047206</td>\n",
       "      <td>0.037049</td>\n",
       "      <td>0.000000</td>\n",
       "      <td>0.000000</td>\n",
       "      <td>0.000000</td>\n",
       "      <td>0.000000</td>\n",
       "    </tr>\n",
       "    <tr>\n",
       "      <th>2</th>\n",
       "      <td>0.00000</td>\n",
       "      <td>0.000000</td>\n",
       "      <td>0.000000</td>\n",
       "      <td>0.108598</td>\n",
       "      <td>0.000000</td>\n",
       "      <td>0.000000</td>\n",
       "      <td>0.00000</td>\n",
       "      <td>0.000000</td>\n",
       "      <td>0.000000</td>\n",
       "      <td>0.153581</td>\n",
       "      <td>0.123837</td>\n",
       "      <td>0.066147</td>\n",
       "      <td>0.039371</td>\n",
       "    </tr>\n",
       "  </tbody>\n",
       "</table>\n",
       "</div>"
      ],
      "text/plain": [
       "   캡쳐/Noun   홍보/Noun   음식/Noun   친구/Noun   노래/Noun   셀카/Noun  여행/Noun  \\\n",
       "0  0.09125  0.090024  0.082264  0.081063  0.044628  0.000000  0.00000   \n",
       "1  0.00000  0.000000  0.049628  0.000000  0.000000  0.130687  0.07722   \n",
       "2  0.00000  0.000000  0.000000  0.108598  0.000000  0.000000  0.00000   \n",
       "\n",
       "    사진/Noun   레드/Noun   일상/Noun  강아지/Noun  방탄소년단/Noun  트위터/Noun  \n",
       "0  0.000000  0.000000  0.000000  0.000000    0.000000  0.000000  \n",
       "1  0.047206  0.037049  0.000000  0.000000    0.000000  0.000000  \n",
       "2  0.000000  0.000000  0.153581  0.123837    0.066147  0.039371  "
      ]
     },
     "execution_count": 24,
     "metadata": {},
     "output_type": "execute_result"
    }
   ],
   "source": [
    "data_lda = {i: OrderedDict(lda_ko.show_topic(i, 5)) for i in range(ntopics)}\n",
    "df_lda = pd.DataFrame(data_lda)\n",
    "df_lda = df_lda.fillna(0).T\n",
    "print(df_lda.shape)\n",
    "df_lda"
   ]
  },
  {
   "cell_type": "code",
   "execution_count": 34,
   "metadata": {},
   "outputs": [
    {
     "data": {
      "image/png": "[encoded data removed]",
      "text/plain": [
       "<Figure size 1080x1080 with 4 Axes>"
      ]
     },
     "metadata": {},
     "output_type": "display_data"
    }
   ],
   "source": [
    "sns.set(font_scale=3)\n",
    "g=sns.clustermap(df_lda.corr(), center=0, standard_scale=1, cmap=\"RdBu\", metric='cosine', linewidths=.75, figsize=(15, 15))\n",
    "plt.setp(g.ax_heatmap.yaxis.get_majorticklabels(), rotation=0)\n",
    "plt.show()"
   ]
  },
  {
   "cell_type": "code",
   "execution_count": 26,
   "metadata": {},
   "outputs": [
    {
     "data": {
      "text/html": [
       "\n",
       "<link rel=\"stylesheet\" type=\"text/css\" href=\"https://cdn.rawgit.com/bmabey/pyLDAvis/files/ldavis.v1.0.0.css\">\n",
       "\n",
       "\n",
       "<div id=\"ldavis_el78371404372920396322645960212\"></div>\n",
       "<script type=\"text/javascript\">\n",
       "\n",
       "var ldavis_el78371404372920396322645960212_data = {\"mdsDat\": {\"x\": [-1015.7005615234375, -387.9960021972656, -2184.74560546875], \"y\": [1338.981201171875, -373.316162109375, -60.565799713134766], \"topics\": [1, 2, 3], \"cluster\": [1, 1, 1], \"Freq\": [50.52925491333008, 32.22515106201172, 17.245590209960938]}, \"tinfo\": {\"Term\": [\"\\uc77c\\uc0c1/Noun\", \"\\uc140\\uce74/Noun\", \"\\uac15\\uc544\\uc9c0/Noun\", \"\\uce5c\\uad6c/Noun\", \"\\ubc29\\ud0c4\\uc18c\\ub144\\ub2e8/Noun\", \"\\uc5ec\\ud589/Noun\", \"\\ud2b8\\uc704\\ud130/Noun\", \"\\ubcf8\\uc778/Noun\", \"\\uc0ac\\uc9c4/Noun\", \"\\ucea1\\uccd0/Noun\", \"\\ud64d\\ubcf4/Noun\", \"\\ub808\\ub4dc/Noun\", \"\\uc2a4\\ud3ec\\uce20/Noun\", \"\\uc5f0\\uc608\\uc778/Noun\", \"\\uc0dd\\uc77c/Noun\", \"\\ub4dc\\ub85c\\uc789/Noun\", \"\\uac04\\uc2dd/Noun\", \"\\uce74\\ud1a1/Noun\", \"\\uac8c\\uc784/Noun\", \"\\uce74\\ud398/Noun\", \"\\ubcf4\\ub4dc\\uac8c\\uc784/Noun\", \"\\uac00\\uc871/Noun\", \"\\ubd88\\ube5b/Noun\", \"\\ub7ec\\ub2dd/Noun\", \"\\uc2dc\\uac04\\ud45c/Noun\", \"\\uc545\\uae30/Noun\", \"\\uc804\\uc790\\uae30\\uae30/Noun\", \"\\uacfc\\uc77c/Noun\", \"\\uc1fc\\ud551/Noun\", \"\\uc601\\uc0c1/Noun\", \"\\ub4dc\\ub85c\\uc789/Noun\", \"\\ucea1\\uccd0/Noun\", \"\\ud64d\\ubcf4/Noun\", \"\\uac00\\uc871/Noun\", \"\\uc9c0\\ubbfc/Noun\", \"\\ubca8\\ubcb3/Noun\", \"\\ub178\\ub798/Noun\", \"\\ubc14\\ub2e4/Noun\", \"\\ubd80\\uc0b0/Noun\", \"\\uc778\\ud615/Noun\", \"\\ub099\\uc11c/Noun\", \"\\ube59\\uace0/Noun\", \"\\ud654\\uba74/Noun\", \"\\ub9cc\\ud654/Noun\", \"\\uacbd\\uae30/Noun\", \"\\uae30\\uc0ac/Noun\", \"\\uc77c\\ub7ec\\uc2a4\\ud2b8/Noun\", \"\\ub178\\ub798\\ubc29/Noun\", \"\\uac74\\ubb3c/Noun\", \"\\uc778\\uc2a4\\ud0c0\\uadf8\\ub7a8/Noun\", \"\\ub098\\ub4e4\\uc774/Noun\", \"\\uace0\\uc591\\uc774/Noun\", \"\\uc74c\\uc2dd/Noun\", \"\\ucfe0\\ud0a4/Noun\", \"\\uce5c\\uad6c/Noun\", \"\\uc790\\ub791/Noun\", \"\\uacfc\\uac70/Noun\", \"\\ucde8\\ubbf8/Noun\", \"\\uc601\\uc0c1/Noun\", \"\\ub7ec\\ub2dd/Noun\", \"\\ub4dc\\ub77c\\uc774\\ube0c/Noun\", \"\\uac15\\uc544\\uc9c0/Noun\", \"\\uac04\\uc2dd/Noun\", \"\\uc2a4\\ud3ec\\uce20/Noun\", \"\\ubc29\\ud0c4\\uc18c\\ub144\\ub2e8/Noun\", \"\\uc77c\\uc0c1/Noun\", \"\\uc5ec\\ud589/Noun\", \"\\uc140\\uce74/Noun\", \"\\uc140\\uce74/Noun\", \"\\uc5ec\\ud589/Noun\", \"\\uc0ac\\uc9c4/Noun\", \"\\ub808\\ub4dc/Noun\", \"\\uc0dd\\uc77c/Noun\", \"\\uce74\\ud1a1/Noun\", \"\\uce74\\ud398/Noun\", \"\\uc2dc\\uac04\\ud45c/Noun\", \"\\uacfc\\uc77c/Noun\", \"\\uc1fc\\ud551/Noun\", \"\\ub178\\ud2b8\\ubd81/Noun\", \"\\ud398\\uc774\\uc2a4\\ubd81/Noun\", \"\\ud48d\\uacbd/Noun\", \"\\uacf5\\uc5f0/Noun\", \"\\uc824\\ub9ac/Noun\", \"\\ub0a0\\uc528/Noun\", \"\\uc6b4\\ub3d9/Noun\", \"\\uc5f0\\uc560/Noun\", \"\\uc0ac\\ubb34\\uc2e4/Noun\", \"\\uc2a4\\ud53c\\ucee4/Noun\", \"\\uc544\\uae30/Noun\", \"\\uac8c\\uc784/Noun\", \"\\uc720\\ud29c\\ube0c/Noun\", \"\\ubcd1\\uc6d0/Noun\", \"\\uac8c\\uc774\\uba38/Noun\", \"\\uc804\\uc790\\uae30\\uae30/Noun\", \"\\uc790\\ub791/Noun\", \"\\uc545\\uae30/Noun\", \"\\ub4dc\\ub77c\\uc774\\ube0c/Noun\", \"\\ucde8\\ubbf8/Noun\", \"\\uc74c\\uc2dd/Noun\", \"\\uc2a4\\ud3ec\\uce20/Noun\", \"\\uc77c\\uc0c1/Noun\", \"\\ubc29\\ud0c4\\uc18c\\ub144\\ub2e8/Noun\", \"\\ub178\\ub798/Noun\", \"\\ud64d\\ubcf4/Noun\", \"\\ucea1\\uccd0/Noun\", \"\\uce5c\\uad6c/Noun\", \"\\uc77c\\uc0c1/Noun\", \"\\ubc29\\ud0c4\\uc18c\\ub144\\ub2e8/Noun\", \"\\uac15\\uc544\\uc9c0/Noun\", \"\\ud2b8\\uc704\\ud130/Noun\", \"\\ubcf8\\uc778/Noun\", \"\\uc5f0\\uc608\\uc778/Noun\", \"\\uc2a4\\ud3ec\\uce20/Noun\", \"\\uac04\\uc2dd/Noun\", \"\\ubcf4\\ub4dc\\uac8c\\uc784/Noun\", \"\\ubd88\\ube5b/Noun\", \"\\ub7ec\\ub2dd/Noun\", \"\\uc545\\uae30/Noun\", \"\\uc601\\uc0c1/Noun\", \"\\uc804\\uc790\\uae30\\uae30/Noun\", \"\\ucde8\\ubbf8/Noun\", \"\\ub4dc\\ub77c\\uc774\\ube0c/Noun\", \"\\uacfc\\uac70/Noun\", \"\\uce5c\\uad6c/Noun\", \"\\uac8c\\uc784/Noun\", \"\\uc790\\ub791/Noun\", \"\\uc544\\uae30/Noun\", \"\\uc720\\ud29c\\ube0c/Noun\", \"\\uac8c\\uc774\\uba38/Noun\", \"\\uc0ac\\ubb34\\uc2e4/Noun\", \"\\uc6b4\\ub3d9/Noun\", \"\\ub0a0\\uc528/Noun\", \"\\ubcd1\\uc6d0/Noun\", \"\\uc778\\uc2a4\\ud0c0\\uadf8\\ub7a8/Noun\", \"\\uacf5\\uc5f0/Noun\", \"\\uc5f0\\uc560/Noun\", \"\\uce74\\ud398/Noun\", \"\\uc5ec\\ud589/Noun\", \"\\ud64d\\ubcf4/Noun\", \"\\ucea1\\uccd0/Noun\", \"\\uc74c\\uc2dd/Noun\", \"\\ubca8\\ubcb3/Noun\", \"\\ub178\\ub798/Noun\", \"\\uc140\\uce74/Noun\", \"\\uc0ac\\uc9c4/Noun\", \"\\uce74\\ud1a1/Noun\", \"\\ub4dc\\ub85c\\uc789/Noun\"], \"Freq\": [7.0, 9.0, 7.0, 12.0, 3.0, 6.0, 2.0, 2.0, 3.0, 10.0, 10.0, 3.0, 2.0, 1.0, 2.0, 4.0, 1.0, 2.0, 2.0, 2.0, 1.0, 3.0, 1.0, 1.0, 1.0, 1.0, 1.0, 1.0, 1.0, 1.0, 4.304764747619629, 9.175509452819824, 9.052178382873535, 3.309328079223633, 3.226562738418579, 2.995490074157715, 4.487520694732666, 2.1239101886749268, 2.0595924854278564, 1.3026440143585205, 1.288079857826233, 1.2880181074142456, 1.288604974746704, 1.286592721939087, 1.2716352939605713, 1.2680360078811646, 1.2581599950790405, 1.2594196796417236, 1.2329593896865845, 1.2022936344146729, 1.2227132320404053, 1.216040849685669, 8.271883010864258, 1.1577411890029907, 8.151135444641113, 0.8999903798103333, 0.5385259389877319, 0.4975895583629608, 0.4828965365886688, 0.46016836166381836, 0.47529470920562744, 2.3219168186187744, 0.6238681077957153, 0.7561851739883423, 0.8502660393714905, 1.1033885478973389, 0.9389345645904541, 0.8725308775901794, 8.380703926086426, 4.951938629150391, 3.0272603034973145, 2.375878095626831, 1.7276978492736816, 1.6283541917800903, 1.5426487922668457, 1.0165008306503296, 1.0025287866592407, 0.9895745515823364, 0.9996147751808167, 0.985148012638092, 0.9824891090393066, 0.9577129483222961, 0.9615635871887207, 0.9428941607475281, 0.9408003091812134, 0.943006694316864, 0.9107542037963867, 0.9225533604621887, 0.8831843137741089, 1.6087567806243896, 0.8797881603240967, 0.8863349556922913, 0.8556941747665405, 0.396994411945343, 0.5147938132286072, 0.38359907269477844, 0.38618743419647217, 0.3653852343559265, 3.182558536529541, 0.5328494906425476, 0.9776415228843689, 0.694409191608429, 0.8132850527763367, 1.0035043954849243, 0.9142544865608215, 0.8425683379173279, 5.270699977874756, 2.270083427429199, 4.249927997589111, 1.3511661291122437, 1.3232946395874023, 0.7298743724822998, 0.9458931088447571, 0.6771397590637207, 0.4276866316795349, 0.4192054867744446, 0.41857391595840454, 0.3980439603328705, 0.3978041112422943, 0.39517512917518616, 0.39083361625671387, 0.3891456425189972, 0.38685405254364014, 3.726942539215088, 0.5006589293479919, 0.19394341111183167, 0.17113293707370758, 0.16736428439617157, 0.1647167205810547, 0.16316725313663483, 0.15923309326171875, 0.1574629545211792, 0.1579444855451584, 0.17102807760238647, 0.15431353449821472, 0.15429474413394928, 0.21379749476909637, 0.3966585695743561, 0.5111104846000671, 0.5092571973800659, 0.5359892845153809, 0.2549096643924713, 0.3114079236984253, 0.3582603633403778, 0.238458052277565, 0.18518128991127014, 0.19732703268527985], \"Total\": [7.0, 9.0, 7.0, 12.0, 3.0, 6.0, 2.0, 2.0, 3.0, 10.0, 10.0, 3.0, 2.0, 1.0, 2.0, 4.0, 1.0, 2.0, 2.0, 2.0, 1.0, 3.0, 1.0, 1.0, 1.0, 1.0, 1.0, 1.0, 1.0, 1.0, 4.894873142242432, 10.599020957946777, 10.566793441772461, 3.8878390789031982, 3.8551530838012695, 3.680508852005005, 5.612213611602783, 2.744875431060791, 2.7264883518218994, 1.7743606567382812, 1.757954716682434, 1.7619001865386963, 1.7655566930770874, 1.7681206464767456, 1.7525049448013306, 1.748323917388916, 1.7502251863479614, 1.7557893991470337, 1.7426289319992065, 1.711808681488037, 1.7445167303085327, 1.736032485961914, 11.99043083190918, 1.713563323020935, 12.720645904541016, 1.6087275743484497, 1.2689151763916016, 1.2538083791732788, 1.2411407232284546, 1.208465576171875, 1.2506277561187744, 7.337088584899902, 1.7321624755859375, 2.2349276542663574, 3.814758777618408, 7.3517303466796875, 6.28753137588501, 9.611495018005371, 9.611495018005371, 6.28753137588501, 3.9706320762634277, 3.195885419845581, 2.38165283203125, 2.3562521934509277, 2.3250746726989746, 1.570932388305664, 1.5634151697158813, 1.5451905727386475, 1.5710055828094482, 1.5636258125305176, 1.5730741024017334, 1.5485200881958008, 1.5640796422958374, 1.546805739402771, 1.5438570976257324, 1.553250789642334, 1.5453932285308838, 1.5737112760543823, 1.5378973484039307, 2.8021535873413086, 1.5466833114624023, 1.5638562440872192, 1.5597777366638184, 1.2348538637161255, 1.6087275743484497, 1.2332619428634644, 1.2506277561187744, 1.2538083791732788, 11.99043083190918, 2.2349276542663574, 7.3517303466796875, 3.814758777618408, 5.612213611602783, 10.566793441772461, 10.599020957946777, 12.720645904541016, 7.3517303466796875, 3.814758777618408, 7.337088584899902, 2.4948008060455322, 2.5539379119873047, 1.6287615299224854, 2.2349276542663574, 1.7321624755859375, 1.1871442794799805, 1.2009997367858887, 1.208465576171875, 1.2332619428634644, 1.2411407232284546, 1.2348538637161255, 1.2538083791732788, 1.2506277561187744, 1.2689151763916016, 12.720645904541016, 2.8021535873413086, 1.6087275743484497, 1.5378973484039307, 1.5466833114624023, 1.5597777366638184, 1.5453932285308838, 1.5438570976257324, 1.546805739402771, 1.5638562440872192, 1.711808681488037, 1.5485200881958008, 1.553250789642334, 2.3250746726989746, 6.28753137588501, 10.566793441772461, 10.599020957946777, 11.99043083190918, 3.680508852005005, 5.612213611602783, 9.611495018005371, 3.9706320762634277, 2.3562521934509277, 4.894873142242432], \"Category\": [\"Default\", \"Default\", \"Default\", \"Default\", \"Default\", \"Default\", \"Default\", \"Default\", \"Default\", \"Default\", \"Default\", \"Default\", \"Default\", \"Default\", \"Default\", \"Default\", \"Default\", \"Default\", \"Default\", \"Default\", \"Default\", \"Default\", \"Default\", \"Default\", \"Default\", \"Default\", \"Default\", \"Default\", \"Default\", \"Default\", \"Topic1\", \"Topic1\", \"Topic1\", \"Topic1\", \"Topic1\", \"Topic1\", \"Topic1\", \"Topic1\", \"Topic1\", \"Topic1\", \"Topic1\", \"Topic1\", \"Topic1\", \"Topic1\", \"Topic1\", \"Topic1\", \"Topic1\", \"Topic1\", \"Topic1\", \"Topic1\", \"Topic1\", \"Topic1\", \"Topic1\", \"Topic1\", \"Topic1\", \"Topic1\", \"Topic1\", \"Topic1\", \"Topic1\", \"Topic1\", \"Topic1\", \"Topic1\", \"Topic1\", \"Topic1\", \"Topic1\", \"Topic1\", \"Topic1\", \"Topic1\", \"Topic2\", \"Topic2\", \"Topic2\", \"Topic2\", \"Topic2\", \"Topic2\", \"Topic2\", \"Topic2\", \"Topic2\", \"Topic2\", \"Topic2\", \"Topic2\", \"Topic2\", \"Topic2\", \"Topic2\", \"Topic2\", \"Topic2\", \"Topic2\", \"Topic2\", \"Topic2\", \"Topic2\", \"Topic2\", \"Topic2\", \"Topic2\", \"Topic2\", \"Topic2\", \"Topic2\", \"Topic2\", \"Topic2\", \"Topic2\", \"Topic2\", \"Topic2\", \"Topic2\", \"Topic2\", \"Topic2\", \"Topic2\", \"Topic2\", \"Topic2\", \"Topic3\", \"Topic3\", \"Topic3\", \"Topic3\", \"Topic3\", \"Topic3\", \"Topic3\", \"Topic3\", \"Topic3\", \"Topic3\", \"Topic3\", \"Topic3\", \"Topic3\", \"Topic3\", \"Topic3\", \"Topic3\", \"Topic3\", \"Topic3\", \"Topic3\", \"Topic3\", \"Topic3\", \"Topic3\", \"Topic3\", \"Topic3\", \"Topic3\", \"Topic3\", \"Topic3\", \"Topic3\", \"Topic3\", \"Topic3\", \"Topic3\", \"Topic3\", \"Topic3\", \"Topic3\", \"Topic3\", \"Topic3\", \"Topic3\", \"Topic3\", \"Topic3\", \"Topic3\", \"Topic3\"], \"logprob\": [30.0, 29.0, 28.0, 27.0, 26.0, 25.0, 24.0, 23.0, 22.0, 21.0, 20.0, 19.0, 18.0, 17.0, 16.0, 15.0, 14.0, 13.0, 12.0, 11.0, 10.0, 9.0, 8.0, 7.0, 6.0, 5.0, 4.0, 3.0, 2.0, 1.0, -3.1510000228881836, -2.3940999507904053, -2.4077000617980957, -3.4138998985290527, -3.439300060272217, -3.5136001110076904, -3.1094000339508057, -3.8573999404907227, -3.888200044631958, -4.34630012512207, -4.357500076293945, -4.357600212097168, -4.357100009918213, -4.358699798583984, -4.3703999519348145, -4.373199939727783, -4.38100004196167, -4.380000114440918, -4.401299953460693, -4.426499843597412, -4.409599781036377, -4.41510009765625, -2.49780011177063, -4.464200019836426, -2.512500047683716, -4.716100215911865, -5.229599952697754, -5.308700084686279, -5.338600158691406, -5.3867998123168945, -5.354499816894531, -3.7683000564575195, -5.082499980926514, -4.890200138092041, -4.772900104522705, -4.51230001449585, -4.673699855804443, -4.747000217437744, -2.0350000858306885, -2.5611000061035156, -3.0532000064849854, -3.2955000400543213, -3.6140999794006348, -3.67330002784729, -3.727400064468384, -4.144499778747559, -4.158400058746338, -4.17140007019043, -4.161300182342529, -4.17579984664917, -4.178500175476074, -4.204100131988525, -4.200099945068359, -4.219699859619141, -4.22189998626709, -4.219600200653076, -4.25439977645874, -4.241499900817871, -4.285099983215332, -3.6854000091552734, -4.289000034332275, -4.281499862670898, -4.316699981689453, -5.084700107574463, -4.824900150299072, -5.11899995803833, -5.112299919128418, -5.167699813842773, -3.003200054168701, -4.79040002822876, -4.183499813079834, -4.525599956512451, -4.367599964141846, -4.157400131225586, -4.250500202178955, -4.332200050354004, -1.8734999895095825, -2.71589994430542, -2.0887999534606934, -3.2346999645233154, -3.2555999755859375, -3.850600004196167, -3.5913000106811523, -3.925600051879883, -4.3850998878479, -4.405099868774414, -4.406599998474121, -4.456900119781494, -4.457499980926514, -4.464099884033203, -4.475200176239014, -4.479499816894531, -4.485400199890137, -2.220099925994873, -4.227499961853027, -5.175899982452393, -5.301000118255615, -5.323299884796143, -5.339200019836426, -5.348700046539307, -5.3730998039245605, -5.384300231933594, -5.381199836730957, -5.301599979400635, -5.4045000076293945, -5.404600143432617, -5.078400135040283, -4.460400104522705, -4.206900119781494, -4.2104997634887695, -4.159299850463867, -4.902500152587891, -4.702300071716309, -4.56220006942749, -4.969299793243408, -5.222099781036377, -5.158599853515625], \"loglift\": [30.0, 29.0, 28.0, 27.0, 26.0, 25.0, 24.0, 23.0, 22.0, 21.0, 20.0, 19.0, 18.0, 17.0, 16.0, 15.0, 14.0, 13.0, 12.0, 11.0, 10.0, 9.0, 8.0, 7.0, 6.0, 5.0, 4.0, 3.0, 2.0, 1.0, 0.5541999936103821, 0.5383999943733215, 0.527899980545044, 0.5214999914169312, 0.5045999884605408, 0.4767000079154968, 0.45899999141693115, 0.4260999858379364, 0.40209999680519104, 0.3736000061035156, 0.3716000020503998, 0.3693000078201294, 0.3677000105381012, 0.36469998955726624, 0.3619000017642975, 0.3614000082015991, 0.35249999165534973, 0.35040000081062317, 0.33660000562667847, 0.3292999863624573, 0.3271999955177307, 0.32659998536109924, 0.31139999628067017, 0.2904999852180481, 0.23749999701976776, 0.10180000215768814, -0.1745000034570694, -0.24150000512599945, -0.2614000141620636, -0.28290000557899475, -0.2847999930381775, -0.46790000796318054, -0.3386000096797943, -0.4011000096797943, -0.8184999823570251, -1.2138999700546265, -1.218999981880188, -1.7166999578475952, 0.9954000115394592, 0.8935999870300293, 0.8611999750137329, 0.8359000086784363, 0.8113999962806702, 0.7628999948501587, 0.7221999764442444, 0.6970999836921692, 0.6880999803543091, 0.6868000030517578, 0.6802999973297119, 0.6704999804496765, 0.6617000102996826, 0.6518999934196472, 0.6459000110626221, 0.6373999714851379, 0.6370999813079834, 0.633400022983551, 0.6036999821662903, 0.5983999967575073, 0.5777999758720398, 0.5774999856948853, 0.5681999921798706, 0.5645999908447266, 0.5320000052452087, -0.002400000113993883, -0.007000000216066837, -0.03539999946951866, -0.04270000010728836, -0.1005999967455864, -0.1940000057220459, -0.3012999892234802, -0.8851000070571899, -0.5710999965667725, -0.7991999983787537, -1.2217999696731567, -1.3179999589920044, -1.5821000337600708, 1.4248000383377075, 1.2386000156402588, 1.2115999460220337, 1.1444000005722046, 1.100100040435791, 0.9549000263214111, 0.8978000283241272, 0.8184000253677368, 0.7366999983787537, 0.7050999999046326, 0.6973999738693237, 0.626800000667572, 0.6197999715805054, 0.6182000041007996, 0.5920000076293945, 0.5902000069618225, 0.5697000026702881, 0.5299999713897705, 0.03539999946951866, -0.3580000102519989, -0.43810001015663147, -0.4661000072956085, -0.49050000309944153, -0.49059998989105225, -0.5141000151634216, -0.5271000266075134, -0.535099983215332, -0.5458999872207642, -0.5485000014305115, -0.5515999794006348, -0.6288999915122986, -1.0055999755859375, -1.271299958229065, -1.277999997138977, -1.350100040435791, -0.9122999906539917, -1.1339999437332153, -1.5318000316619873, -1.054900050163269, -0.7858999967575073, -1.4535000324249268]}, \"token.table\": {\"Topic\": [1, 1, 3, 1, 2, 3, 1, 1, 2, 1, 2, 3, 1, 1, 2, 1, 2, 1, 1, 1, 2, 1, 2, 1, 2, 1, 1, 2, 1, 1, 1, 2, 3, 1, 1, 2, 1, 2, 3, 1, 1, 2, 1, 2, 2, 1, 2, 2, 1, 2, 3, 1, 2, 2, 2, 1, 2, 2, 3, 2, 2, 1, 2, 3, 1, 1, 1, 1, 2, 3, 1, 2, 2, 1, 1, 2, 3, 1, 2, 1, 2, 1, 2, 3, 1, 1, 2, 3, 2, 2, 1, 2, 3, 1], \"Freq\": [0.7716369032859802, 0.5773130655288696, 0.5773130655288696, 0.27258768677711487, 0.13629384338855743, 0.5451753735542297, 0.573845624923706, 0.6411169767379761, 0.6411169767379761, 0.3568683862686157, 0.7137367725372314, 0.3568683862686157, 0.5706117749214172, 0.5760260820388794, 0.6457778811454773, 0.7880747318267822, 0.6396253705024719, 0.571976363658905, 0.573224663734436, 0.568842887878418, 0.6464936137199402, 0.7127312421798706, 0.17818281054496765, 0.5695443749427795, 0.6365349888801575, 0.8171815276145935, 0.3129023313522339, 0.6258046627044678, 0.5655722618103027, 0.728630542755127, 0.26213976740837097, 0.26213976740837097, 0.5242795348167419, 0.8151046633720398, 0.6394449472427368, 0.6394449472427368, 0.391552209854126, 0.391552209854126, 0.391552209854126, 0.7335442900657654, 0.5675690174102783, 0.6470844745635986, 0.25184908509254456, 0.7555472254753113, 0.8397529721260071, 0.10404209047555923, 0.8323367238044739, 0.6471693515777588, 0.44744178652763367, 0.44744178652763367, 0.44744178652763367, 0.6354405879974365, 0.6354405879974365, 0.6365646123886108, 0.6502384543418884, 0.15904493629932404, 0.795224666595459, 0.643811047077179, 0.6139634251594543, 0.6477283239364624, 0.6465447545051575, 0.6671987175941467, 0.2501995265483856, 0.08339983969926834, 0.5841774344444275, 0.563583254814148, 0.5713550448417664, 0.1360224038362503, 0.1360224038362503, 0.6801120042800903, 0.6216092705726624, 0.6216092705726624, 0.6393536329269409, 0.7781792283058167, 0.6288988590240479, 0.07861235737800598, 0.3144494295120239, 0.42440277338027954, 0.8488055467605591, 0.4300937056541443, 0.8601874113082886, 0.8491350412368774, 0.09434833377599716, 0.09434833377599716, 0.5835792422294617, 0.4008336067199707, 0.4008336067199707, 0.4008336067199707, 0.6395391821861267, 0.6356979608535767, 0.8517248034477234, 0.09463609009981155, 0.09463609009981155, 0.5663936138153076], \"Term\": [\"\\uac00\\uc871/Noun\", \"\\uac04\\uc2dd/Noun\", \"\\uac04\\uc2dd/Noun\", \"\\uac15\\uc544\\uc9c0/Noun\", \"\\uac15\\uc544\\uc9c0/Noun\", \"\\uac15\\uc544\\uc9c0/Noun\", \"\\uac74\\ubb3c/Noun\", \"\\uac8c\\uc774\\uba38/Noun\", \"\\uac8c\\uc774\\uba38/Noun\", \"\\uac8c\\uc784/Noun\", \"\\uac8c\\uc784/Noun\", \"\\uac8c\\uc784/Noun\", \"\\uacbd\\uae30/Noun\", \"\\uace0\\uc591\\uc774/Noun\", \"\\uacf5\\uc5f0/Noun\", \"\\uacfc\\uac70/Noun\", \"\\uacfc\\uc77c/Noun\", \"\\uae30\\uc0ac/Noun\", \"\\ub098\\ub4e4\\uc774/Noun\", \"\\ub099\\uc11c/Noun\", \"\\ub0a0\\uc528/Noun\", \"\\ub178\\ub798/Noun\", \"\\ub178\\ub798/Noun\", \"\\ub178\\ub798\\ubc29/Noun\", \"\\ub178\\ud2b8\\ubd81/Noun\", \"\\ub4dc\\ub85c\\uc789/Noun\", \"\\ub808\\ub4dc/Noun\", \"\\ub808\\ub4dc/Noun\", \"\\ub9cc\\ud654/Noun\", \"\\ubc14\\ub2e4/Noun\", \"\\ubc29\\ud0c4\\uc18c\\ub144\\ub2e8/Noun\", \"\\ubc29\\ud0c4\\uc18c\\ub144\\ub2e8/Noun\", \"\\ubc29\\ud0c4\\uc18c\\ub144\\ub2e8/Noun\", \"\\ubca8\\ubcb3/Noun\", \"\\ubcd1\\uc6d0/Noun\", \"\\ubcd1\\uc6d0/Noun\", \"\\ubcf8\\uc778/Noun\", \"\\ubcf8\\uc778/Noun\", \"\\ubcf8\\uc778/Noun\", \"\\ubd80\\uc0b0/Noun\", \"\\ube59\\uace0/Noun\", \"\\uc0ac\\ubb34\\uc2e4/Noun\", \"\\uc0ac\\uc9c4/Noun\", \"\\uc0ac\\uc9c4/Noun\", \"\\uc0dd\\uc77c/Noun\", \"\\uc140\\uce74/Noun\", \"\\uc140\\uce74/Noun\", \"\\uc1fc\\ud551/Noun\", \"\\uc2a4\\ud3ec\\uce20/Noun\", \"\\uc2a4\\ud3ec\\uce20/Noun\", \"\\uc2a4\\ud3ec\\uce20/Noun\", \"\\uc2a4\\ud53c\\ucee4/Noun\", \"\\uc2a4\\ud53c\\ucee4/Noun\", \"\\uc2dc\\uac04\\ud45c/Noun\", \"\\uc544\\uae30/Noun\", \"\\uc5ec\\ud589/Noun\", \"\\uc5ec\\ud589/Noun\", \"\\uc5f0\\uc560/Noun\", \"\\uc5f0\\uc608\\uc778/Noun\", \"\\uc6b4\\ub3d9/Noun\", \"\\uc720\\ud29c\\ube0c/Noun\", \"\\uc74c\\uc2dd/Noun\", \"\\uc74c\\uc2dd/Noun\", \"\\uc74c\\uc2dd/Noun\", \"\\uc778\\uc2a4\\ud0c0\\uadf8\\ub7a8/Noun\", \"\\uc778\\ud615/Noun\", \"\\uc77c\\ub7ec\\uc2a4\\ud2b8/Noun\", \"\\uc77c\\uc0c1/Noun\", \"\\uc77c\\uc0c1/Noun\", \"\\uc77c\\uc0c1/Noun\", \"\\uc790\\ub791/Noun\", \"\\uc790\\ub791/Noun\", \"\\uc824\\ub9ac/Noun\", \"\\uc9c0\\ubbfc/Noun\", \"\\uce5c\\uad6c/Noun\", \"\\uce5c\\uad6c/Noun\", \"\\uce5c\\uad6c/Noun\", \"\\uce74\\ud1a1/Noun\", \"\\uce74\\ud1a1/Noun\", \"\\uce74\\ud398/Noun\", \"\\uce74\\ud398/Noun\", \"\\ucea1\\uccd0/Noun\", \"\\ucea1\\uccd0/Noun\", \"\\ucea1\\uccd0/Noun\", \"\\ucfe0\\ud0a4/Noun\", \"\\ud2b8\\uc704\\ud130/Noun\", \"\\ud2b8\\uc704\\ud130/Noun\", \"\\ud2b8\\uc704\\ud130/Noun\", \"\\ud398\\uc774\\uc2a4\\ubd81/Noun\", \"\\ud48d\\uacbd/Noun\", \"\\ud64d\\ubcf4/Noun\", \"\\ud64d\\ubcf4/Noun\", \"\\ud64d\\ubcf4/Noun\", \"\\ud654\\uba74/Noun\"]}, \"R\": 30, \"lambda.step\": 0.01, \"plot.opts\": {\"xlab\": \"PC1\", \"ylab\": \"PC2\"}, \"topic.order\": [1, 2, 3]};\n",
       "\n",
       "function LDAvis_load_lib(url, callback){\n",
       "  var s = document.createElement('script');\n",
       "  s.src = url;\n",
       "  s.async = true;\n",
       "  s.onreadystatechange = s.onload = callback;\n",
       "  s.onerror = function(){console.warn(\"failed to load library \" + url);};\n",
       "  document.getElementsByTagName(\"head\")[0].appendChild(s);\n",
       "}\n",
       "\n",
       "if(typeof(LDAvis) !== \"undefined\"){\n",
       "   // already loaded: just create the visualization\n",
       "   !function(LDAvis){\n",
       "       new LDAvis(\"#\" + \"ldavis_el78371404372920396322645960212\", ldavis_el78371404372920396322645960212_data);\n",
       "   }(LDAvis);\n",
       "}else if(typeof define === \"function\" && define.amd){\n",
       "   // require.js is available: use it to load d3/LDAvis\n",
       "   require.config({paths: {d3: \"https://cdnjs.cloudflare.com/ajax/libs/d3/3.5.5/d3.min\"}});\n",
       "   require([\"d3\"], function(d3){\n",
       "      window.d3 = d3;\n",
       "      LDAvis_load_lib(\"https://cdn.rawgit.com/bmabey/pyLDAvis/files/ldavis.v1.0.0.js\", function(){\n",
       "        new LDAvis(\"#\" + \"ldavis_el78371404372920396322645960212\", ldavis_el78371404372920396322645960212_data);\n",
       "      });\n",
       "    });\n",
       "}else{\n",
       "    // require.js not available: dynamically load d3 & LDAvis\n",
       "    LDAvis_load_lib(\"https://cdnjs.cloudflare.com/ajax/libs/d3/3.5.5/d3.min.js\", function(){\n",
       "         LDAvis_load_lib(\"https://cdn.rawgit.com/bmabey/pyLDAvis/files/ldavis.v1.0.0.js\", function(){\n",
       "                 new LDAvis(\"#\" + \"ldavis_el78371404372920396322645960212\", ldavis_el78371404372920396322645960212_data);\n",
       "            })\n",
       "         });\n",
       "}\n",
       "</script>"
      ],
      "text/plain": [
       "PreparedData(topic_coordinates=                 x            y  topics  cluster       Freq\n",
       "topic                                                      \n",
       "0     -1015.700562  1338.981201       1        1  50.529255\n",
       "1      -387.996002  -373.316162       2        1  32.225151\n",
       "2     -2184.745605   -60.565800       3        1  17.245590, topic_info=          Term       Freq      Total Category  logprob  loglift\n",
       "4      일상/Noun   7.000000   7.000000  Default  30.0000  30.0000\n",
       "11     셀카/Noun   9.000000   9.000000  Default  29.0000  29.0000\n",
       "3     강아지/Noun   7.000000   7.000000  Default  28.0000  28.0000\n",
       "6      친구/Noun  12.000000  12.000000  Default  27.0000  27.0000\n",
       "39  방탄소년단/Noun   3.000000   3.000000  Default  26.0000  26.0000\n",
       "..         ...        ...        ...      ...      ...      ...\n",
       "16     노래/Noun   0.311408   5.612214   Topic3  -4.7023  -1.1340\n",
       "11     셀카/Noun   0.358260   9.611495   Topic3  -4.5622  -1.5318\n",
       "27     사진/Noun   0.238458   3.970632   Topic3  -4.9693  -1.0549\n",
       "12     카톡/Noun   0.185181   2.356252   Topic3  -5.2221  -0.7859\n",
       "45    드로잉/Noun   0.197327   4.894873   Topic3  -5.1586  -1.4535\n",
       "\n",
       "[147 rows x 6 columns], token_table=      Topic      Freq      Term\n",
       "term                           \n",
       "1         1  0.771637   가족/Noun\n",
       "21        1  0.577313   간식/Noun\n",
       "21        3  0.577313   간식/Noun\n",
       "3         1  0.272588  강아지/Noun\n",
       "3         2  0.136294  강아지/Noun\n",
       "...     ...       ...       ...\n",
       "35        2  0.635698   풍경/Noun\n",
       "0         1  0.851725   홍보/Noun\n",
       "0         2  0.094636   홍보/Noun\n",
       "0         3  0.094636   홍보/Noun\n",
       "41        1  0.566394   화면/Noun\n",
       "\n",
       "[94 rows x 3 columns], R=30, lambda_step=0.01, plot_opts={'xlab': 'PC1', 'ylab': 'PC2'}, topic_order=[1, 2, 3])"
      ]
     },
     "execution_count": 26,
     "metadata": {},
     "output_type": "execute_result"
    }
   ],
   "source": [
    "corpus_lda = lda_ko[tfidf_ko]\n",
    "\n",
    "pyLDAvis.enable_notebook()\n",
    "panel = pyLDAvis.gensim.prepare(lda_ko, corpus_lda, dictionary_ko, mds='tsne')\n",
    "panel"
   ]
  },
  {
   "cell_type": "code",
   "execution_count": null,
   "metadata": {},
   "outputs": [],
   "source": []
  },
  {
   "cell_type": "code",
   "execution_count": 27,
   "metadata": {},
   "outputs": [],
   "source": [
    "def getNVM_lemma(text):\n",
    "    tokenizer = MeCab.Tagger()\n",
    "    parsed = tokenizer.parse(text)\n",
    "    word_tag = [w for w in parsed.split(\"\\n\")]\n",
    "    pos = []\n",
    "    tags = ['NNG','NNP','VV','VA', 'VX', 'VCP','VCN']\n",
    "    for word_ in word_tag[:-2]:\n",
    "        word = word_.split(\"\\t\")\n",
    "        tag = word[1].split(\",\")\n",
    "        if(len(word[0]) < 2) or (\"게\" in word[0]):\n",
    "            continue\n",
    "        if(tag[-1] != '*'):\n",
    "            t = tag[-1].split('/')\n",
    "            if(len(t[0]) > 1 and ('VV' in t[1] or 'VA' in t[1] or 'VX' in t[1])):\n",
    "                pos.append(t[0])\n",
    "        else:\n",
    "            if(tag[0] in tags):\n",
    "                pos.append(word[0])\n",
    "    return pos"
   ]
  },
  {
   "cell_type": "code",
   "execution_count": 28,
   "metadata": {},
   "outputs": [
    {
     "name": "stdout",
     "output_type": "stream",
     "text": [
      "Created 135 X 24 document-term matrix\n"
     ]
    }
   ],
   "source": [
    "vectorizer = CountVectorizer(tokenizer=getNVM_lemma, min_df=2)\n",
    "x_counts = vectorizer.fit_transform(df['photo'].values.astype('U'))\n",
    "print( \"Created %d X %d document-term matrix\" % (x_counts.shape[0], x_counts.shape[1]) )\n",
    "transformer = TfidfTransformer(smooth_idf=False);\n",
    "x_tfidf = transformer.fit_transform(x_counts);"
   ]
  },
  {
   "cell_type": "code",
   "execution_count": 29,
   "metadata": {},
   "outputs": [
    {
     "name": "stdout",
     "output_type": "stream",
     "text": [
      "Vocabulary has 24 distinct terms\n"
     ]
    }
   ],
   "source": [
    "terms = vectorizer.get_feature_names()\n",
    "print(\"Vocabulary has %d distinct terms\" % len(terms))"
   ]
  },
  {
   "cell_type": "code",
   "execution_count": 30,
   "metadata": {},
   "outputs": [
    {
     "data": {
      "text/plain": [
       "NMF(init='nndsvd', n_components=10)"
      ]
     },
     "execution_count": 30,
     "metadata": {},
     "output_type": "execute_result"
    }
   ],
   "source": [
    "xtfidf_norm = normalize(x_tfidf, norm='l1', axis=1)\n",
    "model = NMF(n_components=10, init='nndsvd');\n",
    "model.fit(xtfidf_norm)"
   ]
  },
  {
   "cell_type": "code",
   "execution_count": 31,
   "metadata": {},
   "outputs": [],
   "source": [
    "def get_nmf_topics(model, n_top_words):\n",
    "    \n",
    "    feat_names = vectorizer.get_feature_names()\n",
    "    \n",
    "    word_dict = {};\n",
    "    for i in range(num_topics):\n",
    "        \n",
    "        words_ids = model.components_[i].argsort()[:-10 - 1:-1]\n",
    "        words = [feat_names[key] for key in words_ids]\n",
    "        word_dict['Topic # ' + '{:02d}'.format(i+1)] = words;\n",
    "    \n",
    "    return pd.DataFrame(word_dict);"
   ]
  },
  {
   "cell_type": "code",
   "execution_count": 32,
   "metadata": {},
   "outputs": [
    {
     "data": {
      "text/html": [
       "<div>\n",
       "<style scoped>\n",
       "    .dataframe tbody tr th:only-of-type {\n",
       "        vertical-align: middle;\n",
       "    }\n",
       "\n",
       "    .dataframe tbody tr th {\n",
       "        vertical-align: top;\n",
       "    }\n",
       "\n",
       "    .dataframe thead th {\n",
       "        text-align: right;\n",
       "    }\n",
       "</style>\n",
       "<table border=\"1\" class=\"dataframe\">\n",
       "  <thead>\n",
       "    <tr style=\"text-align: right;\">\n",
       "      <th></th>\n",
       "      <th>Topic # 01</th>\n",
       "      <th>Topic # 02</th>\n",
       "      <th>Topic # 03</th>\n",
       "      <th>Topic # 04</th>\n",
       "      <th>Topic # 05</th>\n",
       "    </tr>\n",
       "  </thead>\n",
       "  <tbody>\n",
       "    <tr>\n",
       "      <th>0</th>\n",
       "      <td>강아지</td>\n",
       "      <td>일상</td>\n",
       "      <td>홍보</td>\n",
       "      <td>음식</td>\n",
       "      <td>친구</td>\n",
       "    </tr>\n",
       "    <tr>\n",
       "      <th>1</th>\n",
       "      <td>가족</td>\n",
       "      <td>카페</td>\n",
       "      <td>여행</td>\n",
       "      <td>여행</td>\n",
       "      <td>가족</td>\n",
       "    </tr>\n",
       "    <tr>\n",
       "      <th>2</th>\n",
       "      <td>부산</td>\n",
       "      <td>여행</td>\n",
       "      <td>바다</td>\n",
       "      <td>부산</td>\n",
       "      <td>여행</td>\n",
       "    </tr>\n",
       "    <tr>\n",
       "      <th>3</th>\n",
       "      <td>여행</td>\n",
       "      <td>간식</td>\n",
       "      <td>부산</td>\n",
       "      <td>바다</td>\n",
       "      <td>카페</td>\n",
       "    </tr>\n",
       "    <tr>\n",
       "      <th>4</th>\n",
       "      <td>바다</td>\n",
       "      <td>생일</td>\n",
       "      <td>생일</td>\n",
       "      <td>홍보</td>\n",
       "      <td>바다</td>\n",
       "    </tr>\n",
       "    <tr>\n",
       "      <th>5</th>\n",
       "      <td>간식</td>\n",
       "      <td>부산</td>\n",
       "      <td>간식</td>\n",
       "      <td>간식</td>\n",
       "      <td>부산</td>\n",
       "    </tr>\n",
       "    <tr>\n",
       "      <th>6</th>\n",
       "      <td>노래</td>\n",
       "      <td>바다</td>\n",
       "      <td>강아지</td>\n",
       "      <td>강아지</td>\n",
       "      <td>셀카</td>\n",
       "    </tr>\n",
       "    <tr>\n",
       "      <th>7</th>\n",
       "      <td>드로잉</td>\n",
       "      <td>홍보</td>\n",
       "      <td>노래</td>\n",
       "      <td>노래</td>\n",
       "      <td>벨벳</td>\n",
       "    </tr>\n",
       "    <tr>\n",
       "      <th>8</th>\n",
       "      <td>레드</td>\n",
       "      <td>벨벳</td>\n",
       "      <td>드로잉</td>\n",
       "      <td>드로잉</td>\n",
       "      <td>간식</td>\n",
       "    </tr>\n",
       "    <tr>\n",
       "      <th>9</th>\n",
       "      <td>방탄소년단</td>\n",
       "      <td>강아지</td>\n",
       "      <td>레드</td>\n",
       "      <td>레드</td>\n",
       "      <td>강아지</td>\n",
       "    </tr>\n",
       "  </tbody>\n",
       "</table>\n",
       "</div>"
      ],
      "text/plain": [
       "  Topic # 01 Topic # 02 Topic # 03 Topic # 04 Topic # 05\n",
       "0        강아지         일상         홍보         음식         친구\n",
       "1         가족         카페         여행         여행         가족\n",
       "2         부산         여행         바다         부산         여행\n",
       "3         여행         간식         부산         바다         카페\n",
       "4         바다         생일         생일         홍보         바다\n",
       "5         간식         부산         간식         간식         부산\n",
       "6         노래         바다        강아지        강아지         셀카\n",
       "7        드로잉         홍보         노래         노래         벨벳\n",
       "8         레드         벨벳        드로잉        드로잉         간식\n",
       "9      방탄소년단        강아지         레드         레드        강아지"
      ]
     },
     "execution_count": 32,
     "metadata": {},
     "output_type": "execute_result"
    }
   ],
   "source": [
    "num_topics = 5\n",
    "nmf_df = get_nmf_topics(model, 5)\n",
    "nmf_df"
   ]
  },
  {
   "cell_type": "code",
   "execution_count": 33,
   "metadata": {
    "scrolled": true
   },
   "outputs": [
    {
     "data": {
      "text/html": [
       "<div>\n",
       "<style scoped>\n",
       "    .dataframe tbody tr th:only-of-type {\n",
       "        vertical-align: middle;\n",
       "    }\n",
       "\n",
       "    .dataframe tbody tr th {\n",
       "        vertical-align: top;\n",
       "    }\n",
       "\n",
       "    .dataframe thead th {\n",
       "        text-align: right;\n",
       "    }\n",
       "</style>\n",
       "<table border=\"1\" class=\"dataframe\">\n",
       "  <thead>\n",
       "    <tr style=\"text-align: right;\">\n",
       "      <th></th>\n",
       "      <th>Topic # 01</th>\n",
       "      <th>Topic # 02</th>\n",
       "      <th>Topic # 03</th>\n",
       "      <th>Topic # 04</th>\n",
       "      <th>Topic # 05</th>\n",
       "      <th>Topic # 06</th>\n",
       "      <th>Topic # 07</th>\n",
       "      <th>Topic # 08</th>\n",
       "      <th>Topic # 09</th>\n",
       "      <th>Topic # 10</th>\n",
       "    </tr>\n",
       "  </thead>\n",
       "  <tbody>\n",
       "    <tr>\n",
       "      <th>0</th>\n",
       "      <td>강아지</td>\n",
       "      <td>일상</td>\n",
       "      <td>홍보</td>\n",
       "      <td>음식</td>\n",
       "      <td>친구</td>\n",
       "      <td>캡쳐</td>\n",
       "      <td>셀카</td>\n",
       "      <td>노래</td>\n",
       "      <td>방탄소년단</td>\n",
       "      <td>드로잉</td>\n",
       "    </tr>\n",
       "    <tr>\n",
       "      <th>1</th>\n",
       "      <td>가족</td>\n",
       "      <td>카페</td>\n",
       "      <td>여행</td>\n",
       "      <td>여행</td>\n",
       "      <td>가족</td>\n",
       "      <td>트위터</td>\n",
       "      <td>친구</td>\n",
       "      <td>본인</td>\n",
       "      <td>지민</td>\n",
       "      <td>본인</td>\n",
       "    </tr>\n",
       "    <tr>\n",
       "      <th>2</th>\n",
       "      <td>부산</td>\n",
       "      <td>여행</td>\n",
       "      <td>바다</td>\n",
       "      <td>부산</td>\n",
       "      <td>여행</td>\n",
       "      <td>여행</td>\n",
       "      <td>사진</td>\n",
       "      <td>사진</td>\n",
       "      <td>본인</td>\n",
       "      <td>사진</td>\n",
       "    </tr>\n",
       "    <tr>\n",
       "      <th>3</th>\n",
       "      <td>여행</td>\n",
       "      <td>간식</td>\n",
       "      <td>부산</td>\n",
       "      <td>바다</td>\n",
       "      <td>카페</td>\n",
       "      <td>바다</td>\n",
       "      <td>본인</td>\n",
       "      <td>여행</td>\n",
       "      <td>사진</td>\n",
       "      <td>여행</td>\n",
       "    </tr>\n",
       "    <tr>\n",
       "      <th>4</th>\n",
       "      <td>바다</td>\n",
       "      <td>생일</td>\n",
       "      <td>생일</td>\n",
       "      <td>홍보</td>\n",
       "      <td>바다</td>\n",
       "      <td>부산</td>\n",
       "      <td>생일</td>\n",
       "      <td>바다</td>\n",
       "      <td>여행</td>\n",
       "      <td>바다</td>\n",
       "    </tr>\n",
       "    <tr>\n",
       "      <th>5</th>\n",
       "      <td>간식</td>\n",
       "      <td>부산</td>\n",
       "      <td>간식</td>\n",
       "      <td>간식</td>\n",
       "      <td>부산</td>\n",
       "      <td>홍보</td>\n",
       "      <td>간식</td>\n",
       "      <td>부산</td>\n",
       "      <td>바다</td>\n",
       "      <td>부산</td>\n",
       "    </tr>\n",
       "    <tr>\n",
       "      <th>6</th>\n",
       "      <td>노래</td>\n",
       "      <td>바다</td>\n",
       "      <td>강아지</td>\n",
       "      <td>강아지</td>\n",
       "      <td>셀카</td>\n",
       "      <td>본인</td>\n",
       "      <td>캡쳐</td>\n",
       "      <td>레드</td>\n",
       "      <td>부산</td>\n",
       "      <td>레드</td>\n",
       "    </tr>\n",
       "    <tr>\n",
       "      <th>7</th>\n",
       "      <td>드로잉</td>\n",
       "      <td>홍보</td>\n",
       "      <td>노래</td>\n",
       "      <td>노래</td>\n",
       "      <td>벨벳</td>\n",
       "      <td>간식</td>\n",
       "      <td>강아지</td>\n",
       "      <td>벨벳</td>\n",
       "      <td>레드</td>\n",
       "      <td>벨벳</td>\n",
       "    </tr>\n",
       "    <tr>\n",
       "      <th>8</th>\n",
       "      <td>레드</td>\n",
       "      <td>벨벳</td>\n",
       "      <td>드로잉</td>\n",
       "      <td>드로잉</td>\n",
       "      <td>간식</td>\n",
       "      <td>강아지</td>\n",
       "      <td>노래</td>\n",
       "      <td>트위터</td>\n",
       "      <td>벨벳</td>\n",
       "      <td>트위터</td>\n",
       "    </tr>\n",
       "    <tr>\n",
       "      <th>9</th>\n",
       "      <td>방탄소년단</td>\n",
       "      <td>강아지</td>\n",
       "      <td>레드</td>\n",
       "      <td>레드</td>\n",
       "      <td>강아지</td>\n",
       "      <td>노래</td>\n",
       "      <td>드로잉</td>\n",
       "      <td>지민</td>\n",
       "      <td>트위터</td>\n",
       "      <td>가족</td>\n",
       "    </tr>\n",
       "  </tbody>\n",
       "</table>\n",
       "</div>"
      ],
      "text/plain": [
       "  Topic # 01 Topic # 02 Topic # 03 Topic # 04 Topic # 05 Topic # 06  \\\n",
       "0        강아지         일상         홍보         음식         친구         캡쳐   \n",
       "1         가족         카페         여행         여행         가족        트위터   \n",
       "2         부산         여행         바다         부산         여행         여행   \n",
       "3         여행         간식         부산         바다         카페         바다   \n",
       "4         바다         생일         생일         홍보         바다         부산   \n",
       "5         간식         부산         간식         간식         부산         홍보   \n",
       "6         노래         바다        강아지        강아지         셀카         본인   \n",
       "7        드로잉         홍보         노래         노래         벨벳         간식   \n",
       "8         레드         벨벳        드로잉        드로잉         간식        강아지   \n",
       "9      방탄소년단        강아지         레드         레드        강아지         노래   \n",
       "\n",
       "  Topic # 07 Topic # 08 Topic # 09 Topic # 10  \n",
       "0         셀카         노래      방탄소년단        드로잉  \n",
       "1         친구         본인         지민         본인  \n",
       "2         사진         사진         본인         사진  \n",
       "3         본인         여행         사진         여행  \n",
       "4         생일         바다         여행         바다  \n",
       "5         간식         부산         바다         부산  \n",
       "6         캡쳐         레드         부산         레드  \n",
       "7        강아지         벨벳         레드         벨벳  \n",
       "8         노래        트위터         벨벳        트위터  \n",
       "9        드로잉         지민        트위터         가족  "
      ]
     },
     "execution_count": 33,
     "metadata": {},
     "output_type": "execute_result"
    }
   ],
   "source": [
    "num_topics = 10\n",
    "nmf_df = get_nmf_topics(model, 5)\n",
    "nmf_df"
   ]
  }
 ],
 "metadata": {
  "kernelspec": {
   "display_name": "Python 3",
   "language": "python",
   "name": "python3"
  },
  "language_info": {
   "codemirror_mode": {
    "name": "ipython",
    "version": 3
   },
   "file_extension": ".py",
   "mimetype": "text/x-python",
   "name": "python",
   "nbconvert_exporter": "python",
   "pygments_lexer": "ipython3",
   "version": "3.7.7"
  }
 },
 "nbformat": 4,
 "nbformat_minor": 4
}
