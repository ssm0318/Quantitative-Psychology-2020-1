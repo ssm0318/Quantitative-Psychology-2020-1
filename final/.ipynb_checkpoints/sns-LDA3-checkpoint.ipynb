{
 "cells": [
  {
   "cell_type": "code",
   "execution_count": 1,
   "metadata": {},
   "outputs": [
    {
     "name": "stderr",
     "output_type": "stream",
     "text": [
      "/Users/gimjaewon/opt/anaconda3/envs/venv/lib/python3.7/site-packages/botocore/vendored/requests/packages/urllib3/_collections.py:1: DeprecationWarning: Using or importing the ABCs from 'collections' instead of from 'collections.abc' is deprecated since Python 3.3,and in 3.9 it will stop working\n",
      "  from collections import Mapping, MutableMapping\n",
      "/Users/gimjaewon/opt/anaconda3/envs/venv/lib/python3.7/site-packages/botocore/vendored/requests/packages/urllib3/_collections.py:1: DeprecationWarning: Using or importing the ABCs from 'collections' instead of from 'collections.abc' is deprecated since Python 3.3,and in 3.9 it will stop working\n",
      "  from collections import Mapping, MutableMapping\n",
      "/Users/gimjaewon/opt/anaconda3/envs/venv/lib/python3.7/site-packages/scipy/sparse/sparsetools.py:21: DeprecationWarning: `scipy.sparse.sparsetools` is deprecated!\n",
      "scipy.sparse.sparsetools is a private module for scipy.sparse, and should not be used.\n",
      "  _deprecated()\n",
      "/Users/gimjaewon/opt/anaconda3/envs/venv/lib/python3.7/site-packages/gensim/models/doc2vec.py:73: DeprecationWarning: Using or importing the ABCs from 'collections' instead of from 'collections.abc' is deprecated since Python 3.3,and in 3.9 it will stop working\n",
      "  from collections import namedtuple, defaultdict, Iterable\n"
     ]
    }
   ],
   "source": [
    "import warnings\n",
    "warnings.filterwarnings('ignore')\n",
    "\n",
    "import pandas as pd\n",
    "import matplotlib\n",
    "import matplotlib.pyplot as plt\n",
    "import matplotlib.font_manager as fm\n",
    "import numpy as np; np.random.seed(42)\n",
    "import seaborn as sns\n",
    "\n",
    "import pyLDAvis\n",
    "import pyLDAvis.gensim\n",
    "from collections import OrderedDict\n",
    "from itertools import combinations\n",
    "import MeCab\n",
    "from konlpy.tag import *\n",
    "import nltk\n",
    "from nltk.corpus import stopwords\n",
    "from gensim import corpora, models\n",
    "from sklearn.feature_extraction.text import CountVectorizer, TfidfTransformer\n",
    "from sklearn.decomposition import NMF, LatentDirichletAllocation, TruncatedSVD\n",
    "from sklearn.preprocessing import normalize;\n",
    "from sklearn import decomposition;"
   ]
  },
  {
   "cell_type": "code",
   "execution_count": 2,
   "metadata": {},
   "outputs": [
    {
     "data": {
      "text/html": [
       "<div>\n",
       "<style scoped>\n",
       "    .dataframe tbody tr th:only-of-type {\n",
       "        vertical-align: middle;\n",
       "    }\n",
       "\n",
       "    .dataframe tbody tr th {\n",
       "        vertical-align: top;\n",
       "    }\n",
       "\n",
       "    .dataframe thead th {\n",
       "        text-align: right;\n",
       "    }\n",
       "</style>\n",
       "<table border=\"1\" class=\"dataframe\">\n",
       "  <thead>\n",
       "    <tr style=\"text-align: right;\">\n",
       "      <th></th>\n",
       "      <th>id</th>\n",
       "      <th>author_id</th>\n",
       "      <th>question_id</th>\n",
       "      <th>content</th>\n",
       "      <th>tag_string</th>\n",
       "      <th>created_at</th>\n",
       "      <th>updated_at</th>\n",
       "    </tr>\n",
       "  </thead>\n",
       "  <tbody>\n",
       "    <tr>\n",
       "      <th>0</th>\n",
       "      <td>1</td>\n",
       "      <td>5</td>\n",
       "      <td>236</td>\n",
       "      <td>오늘 상담쌤과 칭찬에 대한 대화를 나눴다. 내가 애들의 칭찬을 잘 못 믿는, 그리고...</td>\n",
       "      <td>NaN</td>\n",
       "      <td>2019-01-28 14:11:42.543635</td>\n",
       "      <td>2019-01-28 14:11:42.543635</td>\n",
       "    </tr>\n",
       "    <tr>\n",
       "      <th>1</th>\n",
       "      <td>2</td>\n",
       "      <td>5</td>\n",
       "      <td>103</td>\n",
       "      <td>원하는 순간에 생각의 흐름을 멈추고 하고자 하는 일에 집중할 수 있는 능력.</td>\n",
       "      <td>NaN</td>\n",
       "      <td>2019-01-28 14:12:09.623446</td>\n",
       "      <td>2019-01-28 14:12:09.623446</td>\n",
       "    </tr>\n",
       "    <tr>\n",
       "      <th>2</th>\n",
       "      <td>3</td>\n",
       "      <td>5</td>\n",
       "      <td>98</td>\n",
       "      <td>가만히 공상/유튜브. 혼자 있는 시간.</td>\n",
       "      <td>NaN</td>\n",
       "      <td>2019-01-28 14:13:16.547800</td>\n",
       "      <td>2019-01-28 14:13:16.547800</td>\n",
       "    </tr>\n",
       "    <tr>\n",
       "      <th>3</th>\n",
       "      <td>4</td>\n",
       "      <td>5</td>\n",
       "      <td>95</td>\n",
       "      <td>게으름. 그 중에서도 요즘 가장 싫은건 게으름으로 인해 더러워진 방. 너무 짜증나서...</td>\n",
       "      <td>NaN</td>\n",
       "      <td>2019-01-28 14:14:38.838070</td>\n",
       "      <td>2019-01-28 14:14:38.838070</td>\n",
       "    </tr>\n",
       "    <tr>\n",
       "      <th>4</th>\n",
       "      <td>6</td>\n",
       "      <td>4</td>\n",
       "      <td>5</td>\n",
       "      <td>진수니랑 같이 프론트 더 멋있게 만들기!!!!!\\r\\n</td>\n",
       "      <td>NaN</td>\n",
       "      <td>2019-01-28 15:55:14.088330</td>\n",
       "      <td>2019-01-28 15:55:14.088330</td>\n",
       "    </tr>\n",
       "  </tbody>\n",
       "</table>\n",
       "</div>"
      ],
      "text/plain": [
       "   id  author_id  question_id  \\\n",
       "0   1          5          236   \n",
       "1   2          5          103   \n",
       "2   3          5           98   \n",
       "3   4          5           95   \n",
       "4   6          4            5   \n",
       "\n",
       "                                             content  tag_string  \\\n",
       "0  오늘 상담쌤과 칭찬에 대한 대화를 나눴다. 내가 애들의 칭찬을 잘 못 믿는, 그리고...         NaN   \n",
       "1         원하는 순간에 생각의 흐름을 멈추고 하고자 하는 일에 집중할 수 있는 능력.         NaN   \n",
       "2                              가만히 공상/유튜브. 혼자 있는 시간.         NaN   \n",
       "3  게으름. 그 중에서도 요즘 가장 싫은건 게으름으로 인해 더러워진 방. 너무 짜증나서...         NaN   \n",
       "4                     진수니랑 같이 프론트 더 멋있게 만들기!!!!!\\r\\n         NaN   \n",
       "\n",
       "                  created_at                  updated_at  \n",
       "0 2019-01-28 14:11:42.543635  2019-01-28 14:11:42.543635  \n",
       "1 2019-01-28 14:12:09.623446  2019-01-28 14:12:09.623446  \n",
       "2 2019-01-28 14:13:16.547800  2019-01-28 14:13:16.547800  \n",
       "3 2019-01-28 14:14:38.838070  2019-01-28 14:14:38.838070  \n",
       "4 2019-01-28 15:55:14.088330  2019-01-28 15:55:14.088330  "
      ]
     },
     "execution_count": 2,
     "metadata": {},
     "output_type": "execute_result"
    }
   ],
   "source": [
    "df = pd.read_csv('adoor_data/answers.csv', encoding='UTF8')\n",
    "df['created_at'] = pd.to_datetime(df['created_at'])\n",
    "\n",
    "# df = df[(df.author_id != 5)]\n",
    "\n",
    "start_date = pd.Timestamp(2019, 1, 28, 0)\n",
    "end_date = pd.Timestamp(2019, 4, 1, 0)\n",
    "\n",
    "mask = (df['created_at'] > start_date) & (df['created_at'] <= end_date)\n",
    "df = df.loc[mask]\n",
    "\n",
    "df.head()"
   ]
  },
  {
   "cell_type": "code",
   "execution_count": 3,
   "metadata": {},
   "outputs": [],
   "source": [
    "twitter = Okt()\n",
    "pos = lambda d: ['/'.join(p) for p in twitter.pos(d, stem=True, norm=True)]\n",
    "\n",
    "texts_ko = []\n",
    "content = df.content\n",
    "docs_ko = \"\"\n",
    "\n",
    "for row in content:\n",
    "    text = row\n",
    "    if not pd.isna(text):\n",
    "        docs_ko = docs_ko + text\n",
    "        for morph in pos(text):\n",
    "            if (morph.split('/')[1]) in ['Noun'] and len(morph.split('/')[0]) > 1:\n",
    "                m = []\n",
    "                m.append(morph)\n",
    "                texts_ko.append(m)"
   ]
  },
  {
   "cell_type": "code",
   "execution_count": 4,
   "metadata": {},
   "outputs": [],
   "source": [
    "dictionary_ko = corpora.Dictionary(texts_ko)\n",
    "dictionary_ko.save('ko.dict')"
   ]
  },
  {
   "cell_type": "code",
   "execution_count": 5,
   "metadata": {},
   "outputs": [],
   "source": [
    "tf_ko = [dictionary_ko.doc2bow(text) for text in texts_ko]\n",
    "tfidf_model_ko = models.TfidfModel(tf_ko)\n",
    "tfidf_ko = tfidf_model_ko[tf_ko]\n",
    "corpora.MmCorpus.serialize('ko.mm', tfidf_ko)"
   ]
  },
  {
   "cell_type": "code",
   "execution_count": 6,
   "metadata": {},
   "outputs": [
    {
     "data": {
      "text/plain": [
       "[(0,\n",
       "  '0.123*\"사람/Noun\" + 0.026*\"지금/Noun\" + 0.022*\"인생/Noun\" + 0.022*\"가장/Noun\" + 0.017*\"항상/Noun\" + 0.016*\"기분/Noun\" + 0.013*\"보고/Noun\" + 0.010*\"어제/Noun\" + 0.010*\"이야기/Noun\" + 0.010*\"시작/Noun\"'),\n",
       " (1,\n",
       "  '0.019*\"그냥/Noun\" + 0.015*\"자신/Noun\" + 0.014*\"감정/Noun\" + 0.014*\"욕망/Noun\" + 0.012*\"의지/Noun\" + 0.012*\"조금/Noun\" + 0.011*\"최근/Noun\" + 0.011*\"상담/Noun\" + 0.009*\"계속/Noun\" + 0.009*\"감성/Noun\"'),\n",
       " (2,\n",
       "  '0.121*\"생각/Noun\" + 0.033*\"정말/Noun\" + 0.027*\"오늘/Noun\" + 0.025*\"친구/Noun\" + 0.024*\"하나/Noun\" + 0.014*\"대한/Noun\" + 0.012*\"수업/Noun\" + 0.012*\"노래/Noun\" + 0.011*\"수도/Noun\" + 0.011*\"누구/Noun\"'),\n",
       " (3,\n",
       "  '0.033*\"마음/Noun\" + 0.032*\"기억/Noun\" + 0.025*\"때문/Noun\" + 0.019*\"요즘/Noun\" + 0.017*\"사실/Noun\" + 0.015*\"정도/Noun\" + 0.015*\"시간/Noun\" + 0.014*\"첫사랑/Noun\" + 0.011*\"표현/Noun\" + 0.011*\"세상/Noun\"'),\n",
       " (4,\n",
       "  '0.031*\"진짜/Noun\" + 0.017*\"사랑/Noun\" + 0.016*\"손흥민/Noun\" + 0.014*\"다른/Noun\" + 0.014*\"질문/Noun\" + 0.013*\"이제/Noun\" + 0.011*\"얘기/Noun\" + 0.011*\"상처/Noun\" + 0.011*\"우리/Noun\" + 0.010*\"모습/Noun\"')]"
      ]
     },
     "execution_count": 6,
     "metadata": {},
     "output_type": "execute_result"
    }
   ],
   "source": [
    "ntopics, nwords = 5, 5\n",
    "\n",
    "lda_ko = models.ldamodel.LdaModel(tf_ko, id2word=dictionary_ko, num_topics=ntopics)\n",
    "lda_ko.print_topics()"
   ]
  },
  {
   "cell_type": "code",
   "execution_count": 7,
   "metadata": {},
   "outputs": [
    {
     "data": {
      "text/plain": [
       "[(0,\n",
       "  '0.096*\"생각/Noun\" + 0.027*\"정말/Noun\" + 0.019*\"하나/Noun\" + 0.017*\"손흥민/Noun\" + 0.014*\"자신/Noun\" + 0.013*\"정도/Noun\" + 0.011*\"조금/Noun\" + 0.011*\"의지/Noun\" + 0.010*\"모습/Noun\" + 0.010*\"표현/Noun\"'),\n",
       " (1,\n",
       "  '0.025*\"때문/Noun\" + 0.020*\"그냥/Noun\" + 0.014*\"욕망/Noun\" + 0.013*\"이제/Noun\" + 0.012*\"상처/Noun\" + 0.011*\"우리/Noun\" + 0.011*\"의미/Noun\" + 0.010*\"이야기/Noun\" + 0.010*\"수도/Noun\" + 0.010*\"시작/Noun\"'),\n",
       " (2,\n",
       "  '0.034*\"진짜/Noun\" + 0.033*\"기억/Noun\" + 0.025*\"친구/Noun\" + 0.020*\"사실/Noun\" + 0.017*\"기분/Noun\" + 0.016*\"다른/Noun\" + 0.015*\"시간/Noun\" + 0.013*\"첫사랑/Noun\" + 0.013*\"얘기/Noun\" + 0.012*\"최근/Noun\"'),\n",
       " (3,\n",
       "  '0.132*\"사람/Noun\" + 0.034*\"마음/Noun\" + 0.027*\"지금/Noun\" + 0.024*\"가장/Noun\" + 0.018*\"항상/Noun\" + 0.011*\"어제/Noun\" + 0.011*\"경우/Noun\" + 0.011*\"계속/Noun\" + 0.010*\"아주/Noun\" + 0.010*\"현실/Noun\"'),\n",
       " (4,\n",
       "  '0.026*\"오늘/Noun\" + 0.023*\"인생/Noun\" + 0.020*\"요즘/Noun\" + 0.018*\"사랑/Noun\" + 0.016*\"감정/Noun\" + 0.015*\"질문/Noun\" + 0.013*\"보고/Noun\" + 0.013*\"대한/Noun\" + 0.012*\"수업/Noun\" + 0.011*\"누구/Noun\"')]"
      ]
     },
     "execution_count": 7,
     "metadata": {},
     "output_type": "execute_result"
    }
   ],
   "source": [
    "lda_ko = models.ldamodel.LdaModel(tfidf_ko, id2word=dictionary_ko, num_topics=ntopics)\n",
    "lda_ko.print_topics()"
   ]
  },
  {
   "cell_type": "code",
   "execution_count": 8,
   "metadata": {},
   "outputs": [
    {
     "data": {
      "text/plain": [
       "(0,\n",
       " [('생각/Noun', 0.09571925),\n",
       "  ('정말/Noun', 0.027276242),\n",
       "  ('하나/Noun', 0.019301157),\n",
       "  ('손흥민/Noun', 0.017088035),\n",
       "  ('자신/Noun', 0.013667911),\n",
       "  ('정도/Noun', 0.013032326),\n",
       "  ('조금/Noun', 0.010754777),\n",
       "  ('의지/Noun', 0.0106277205),\n",
       "  ('모습/Noun', 0.009844296),\n",
       "  ('표현/Noun', 0.009557482)])"
      ]
     },
     "execution_count": 8,
     "metadata": {},
     "output_type": "execute_result"
    }
   ],
   "source": [
    "ldatopics = lda_ko.show_topics(formatted=False)\n",
    "ldatopics[0]"
   ]
  },
  {
   "cell_type": "code",
   "execution_count": 9,
   "metadata": {},
   "outputs": [
    {
     "data": {
      "text/plain": [
       "[(0,\n",
       "  '-1.000*\"사람/Noun\" + -0.000*\"대답/Noun\" + -0.000*\"느낌/Noun\" + -0.000*\"아마/Noun\" + 0.000*\"관계/Noun\" + 0.000*\"보통/Noun\" + -0.000*\"언제/Noun\" + 0.000*\"사고/Noun\" + 0.000*\"매우/Noun\" + 0.000*\"언니/Noun\"'),\n",
       " (1,\n",
       "  '-1.000*\"생각/Noun\" + 0.000*\"아이/Noun\" + -0.000*\"영향/Noun\" + -0.000*\"능력/Noun\" + -0.000*\"먼저/Noun\" + 0.000*\"다음/Noun\" + -0.000*\"자주/Noun\" + -0.000*\"모습/Noun\" + 0.000*\"연락/Noun\" + -0.000*\"이유/Noun\"'),\n",
       " (2,\n",
       "  '1.000*\"정말/Noun\" + 0.005*\"그게/Noun\" + 0.004*\"기대/Noun\" + 0.004*\"내일/Noun\" + 0.004*\"최악/Noun\" + -0.004*\"기도/Noun\" + 0.004*\"정리/Noun\" + -0.003*\"우리/Noun\" + -0.003*\"아마/Noun\" + 0.003*\"관계/Noun\"'),\n",
       " (3,\n",
       "  '-1.000*\"지금/Noun\" + 0.004*\"우리/Noun\" + -0.004*\"가지/Noun\" + 0.004*\"음악/Noun\" + -0.003*\"학교/Noun\" + -0.003*\"현실/Noun\" + 0.003*\"영화/Noun\" + -0.003*\"존재/Noun\" + -0.003*\"여행/Noun\" + -0.003*\"그때/Noun\"'),\n",
       " (4,\n",
       "  '-1.000*\"마음/Noun\" + -0.005*\"우리/Noun\" + 0.005*\"자기/Noun\" + -0.004*\"자신감/Noun\" + -0.004*\"대부분/Noun\" + -0.004*\"최고/Noun\" + -0.004*\"스스로/Noun\" + 0.004*\"핸드폰/Noun\" + -0.004*\"가지/Noun\" + 0.003*\"그게/Noun\"')]"
      ]
     },
     "execution_count": 9,
     "metadata": {},
     "output_type": "execute_result"
    }
   ],
   "source": [
    "lsi_ko = models.lsimodel.LsiModel(tfidf_ko, id2word=dictionary_ko, num_topics=ntopics)\n",
    "lsi_ko.print_topics()"
   ]
  },
  {
   "cell_type": "code",
   "execution_count": 10,
   "metadata": {},
   "outputs": [
    {
     "data": {
      "text/plain": [
       "[(0,\n",
       "  '0.003*지원이/Noun + 0.003*살걸/Noun + 0.003*관계대명사/Noun + 0.003*마늘/Noun + 0.002*무려/Noun'),\n",
       " (1,\n",
       "  '0.003*원망/Noun + 0.003*레일/Noun + 0.003*바닷가/Noun + 0.002*포스터/Noun + 0.002*횟수/Noun'),\n",
       " (2,\n",
       "  '0.005*바지/Noun + 0.004*명령/Noun + 0.003*야망/Noun + 0.003*게으름/Noun + 0.003*잭슨/Noun'),\n",
       " (3,\n",
       "  '0.003*여름/Noun + 0.003*화장실/Noun + 0.003*보조/Noun + 0.003*서울대/Noun + 0.003*불닭/Noun'),\n",
       " (4,\n",
       "  '0.003*자전거/Noun + 0.003*사용/Noun + 0.003*프사/Noun + 0.002*이익/Noun + 0.002*판본/Noun')]"
      ]
     },
     "execution_count": 10,
     "metadata": {},
     "output_type": "execute_result"
    }
   ],
   "source": [
    "hdp_ko = models.hdpmodel.HdpModel(tfidf_ko, id2word=dictionary_ko)\n",
    "hdp_ko.print_topics(ntopics, nwords)"
   ]
  },
  {
   "cell_type": "code",
   "execution_count": 11,
   "metadata": {},
   "outputs": [
    {
     "data": {
      "text/plain": [
       "[(4, 0.59999603),\n",
       " (2, 0.100001045),\n",
       " (3, 0.100001015),\n",
       " (0, 0.10000097),\n",
       " (1, 0.100000955)]"
      ]
     },
     "execution_count": 11,
     "metadata": {},
     "output_type": "execute_result"
    }
   ],
   "source": [
    "bow = tfidf_model_ko[dictionary_ko.doc2bow(texts_ko[0])]\n",
    "sorted(lda_ko[bow], key=lambda x: x[1], reverse=True)"
   ]
  },
  {
   "cell_type": "code",
   "execution_count": 12,
   "metadata": {},
   "outputs": [
    {
     "data": {
      "text/plain": [
       "[(73, 0.503363302821386)]"
      ]
     },
     "execution_count": 12,
     "metadata": {},
     "output_type": "execute_result"
    }
   ],
   "source": [
    "sorted(hdp_ko[bow], key=lambda x: x[1], reverse=True)"
   ]
  },
  {
   "cell_type": "code",
   "execution_count": 13,
   "metadata": {},
   "outputs": [
    {
     "data": {
      "text/plain": [
       "[(2, 0.59999263),\n",
       " (3, 0.1000019),\n",
       " (4, 0.1000019),\n",
       " (1, 0.10000185),\n",
       " (0, 0.10000175)]"
      ]
     },
     "execution_count": 13,
     "metadata": {},
     "output_type": "execute_result"
    }
   ],
   "source": [
    "bow = tfidf_model_ko[dictionary_ko.doc2bow(texts_ko[1])]\n",
    "sorted(lda_ko[bow], key=lambda x: x[1], reverse=True)"
   ]
  },
  {
   "cell_type": "code",
   "execution_count": 14,
   "metadata": {},
   "outputs": [
    {
     "data": {
      "text/plain": [
       "[(144, 0.5032959061234874)]"
      ]
     },
     "execution_count": 14,
     "metadata": {},
     "output_type": "execute_result"
    }
   ],
   "source": [
    "sorted(hdp_ko[bow], key=lambda x: x[1], reverse=True)"
   ]
  },
  {
   "cell_type": "code",
   "execution_count": null,
   "metadata": {},
   "outputs": [],
   "source": []
  },
  {
   "cell_type": "code",
   "execution_count": 15,
   "metadata": {},
   "outputs": [],
   "source": [
    "def compute_coherence_values(dictionary, corpus, texts, limit, start=2, step=3):\n",
    "    coherence_values = []\n",
    "    model_list = []\n",
    "    for num_topics in range(start, limit, step):\n",
    "        model = models.LdaModel(corpus=tf_ko, num_topics=num_topics, id2word=dictionary_ko)\n",
    "        model_list.append(model)\n",
    "        coherencemodel = models.CoherenceModel(model=model, texts=texts_ko, dictionary=dictionary_ko, coherence='c_v')\n",
    "        coherence_values.append(coherencemodel.get_coherence())\n",
    "\n",
    "    return model_list, coherence_values"
   ]
  },
  {
   "cell_type": "code",
   "execution_count": 16,
   "metadata": {},
   "outputs": [
    {
     "name": "stdout",
     "output_type": "stream",
     "text": [
      "\n",
      "Coherence Score:  0.8439501451857876\n"
     ]
    }
   ],
   "source": [
    "coherence_model_lda = models.CoherenceModel(model=lda_ko, texts=texts_ko, dictionary=dictionary_ko, coherence='c_v')\n",
    "coherence_lda = coherence_model_lda.get_coherence()\n",
    "print('\\nCoherence Score: ', coherence_lda)"
   ]
  },
  {
   "cell_type": "code",
   "execution_count": 17,
   "metadata": {},
   "outputs": [],
   "source": [
    "model_list, coherence_values = compute_coherence_values(\n",
    "    dictionary=dictionary_ko, \n",
    "    corpus=tf_ko, \n",
    "    texts=texts_ko, \n",
    "    start=1, \n",
    "    limit=10, \n",
    "    step=1)"
   ]
  },
  {
   "cell_type": "code",
   "execution_count": 18,
   "metadata": {},
   "outputs": [
    {
     "data": {
      "image/png": "[encoded data removed]",
      "text/plain": [
       "<Figure size 648x360 with 1 Axes>"
      ]
     },
     "metadata": {
      "needs_background": "light"
     },
     "output_type": "display_data"
    }
   ],
   "source": [
    "limit=10; start=1; step=1;\n",
    "x = range(start, limit, step)\n",
    "plt.rcParams[\"font.size\"] = 2\n",
    "plt.figure(figsize=(9,5))\n",
    "plt.plot(x, coherence_values)\n",
    "plt.xlabel(\"Num Topics\")\n",
    "plt.ylabel(\"Coherence score\")\n",
    "plt.legend((\"coherence_values\"), loc='best')\n",
    "plt.show()"
   ]
  },
  {
   "cell_type": "code",
   "execution_count": 19,
   "metadata": {},
   "outputs": [
    {
     "name": "stdout",
     "output_type": "stream",
     "text": [
      "Num Topics = 1  has Coherence Value of 0.8693\n",
      "Num Topics = 2  has Coherence Value of 0.8596\n",
      "Num Topics = 3  has Coherence Value of 0.8529\n",
      "Num Topics = 4  has Coherence Value of 0.8482\n",
      "Num Topics = 5  has Coherence Value of 0.8442\n",
      "Num Topics = 6  has Coherence Value of 0.8403\n",
      "Num Topics = 7  has Coherence Value of 0.8367\n",
      "Num Topics = 8  has Coherence Value of 0.8336\n",
      "Num Topics = 9  has Coherence Value of 0.8314\n"
     ]
    }
   ],
   "source": [
    "for m, cv in zip(x, coherence_values):\n",
    "    print(\"Num Topics =\", m, \" has Coherence Value of\", round(cv, 4))"
   ]
  },
  {
   "cell_type": "code",
   "execution_count": 20,
   "metadata": {},
   "outputs": [
    {
     "data": {
      "text/plain": [
       "[(0,\n",
       "  '0.012*\"진짜/Noun\" + 0.012*\"마음/Noun\" + 0.012*\"기억/Noun\" + 0.010*\"정말/Noun\" + 0.009*\"지금/Noun\" + 0.009*\"친구/Noun\" + 0.008*\"그냥/Noun\" + 0.006*\"항상/Noun\" + 0.006*\"사실/Noun\" + 0.006*\"정도/Noun\"'),\n",
       " (1,\n",
       "  '0.047*\"사람/Noun\" + 0.043*\"생각/Noun\" + 0.010*\"오늘/Noun\" + 0.010*\"때문/Noun\" + 0.009*\"가장/Noun\" + 0.009*\"인생/Noun\" + 0.009*\"하나/Noun\" + 0.007*\"요즘/Noun\" + 0.006*\"기분/Noun\" + 0.006*\"자신/Noun\"')]"
      ]
     },
     "execution_count": 20,
     "metadata": {},
     "output_type": "execute_result"
    }
   ],
   "source": [
    "optimal_model = model_list[1]\n",
    "model_topics = optimal_model.show_topics(formatted=False)\n",
    "optimal_model.print_topics(num_words=10)"
   ]
  },
  {
   "cell_type": "code",
   "execution_count": 21,
   "metadata": {},
   "outputs": [
    {
     "data": {
      "text/html": [
       "<div>\n",
       "<style scoped>\n",
       "    .dataframe tbody tr th:only-of-type {\n",
       "        vertical-align: middle;\n",
       "    }\n",
       "\n",
       "    .dataframe tbody tr th {\n",
       "        vertical-align: top;\n",
       "    }\n",
       "\n",
       "    .dataframe thead th {\n",
       "        text-align: right;\n",
       "    }\n",
       "</style>\n",
       "<table border=\"1\" class=\"dataframe\">\n",
       "  <thead>\n",
       "    <tr style=\"text-align: right;\">\n",
       "      <th></th>\n",
       "      <th>Document_No</th>\n",
       "      <th>Dominant_Topic</th>\n",
       "      <th>Topic_Perc_Contrib</th>\n",
       "      <th>Keywords</th>\n",
       "      <th>Text</th>\n",
       "    </tr>\n",
       "  </thead>\n",
       "  <tbody>\n",
       "    <tr>\n",
       "      <th>0</th>\n",
       "      <td>0</td>\n",
       "      <td>1.0</td>\n",
       "      <td>0.7484</td>\n",
       "      <td>사람/Noun, 생각/Noun, 오늘/Noun, 때문/Noun, 가장/Noun, 인...</td>\n",
       "      <td>오늘 상담쌤과 칭찬에 대한 대화를 나눴다. 내가 애들의 칭찬을 잘 못 믿는, 그리고...</td>\n",
       "    </tr>\n",
       "    <tr>\n",
       "      <th>1</th>\n",
       "      <td>1</td>\n",
       "      <td>0.0</td>\n",
       "      <td>0.7484</td>\n",
       "      <td>진짜/Noun, 마음/Noun, 기억/Noun, 정말/Noun, 지금/Noun, 친...</td>\n",
       "      <td>원하는 순간에 생각의 흐름을 멈추고 하고자 하는 일에 집중할 수 있는 능력.</td>\n",
       "    </tr>\n",
       "    <tr>\n",
       "      <th>2</th>\n",
       "      <td>2</td>\n",
       "      <td>0.0</td>\n",
       "      <td>0.7207</td>\n",
       "      <td>진짜/Noun, 마음/Noun, 기억/Noun, 정말/Noun, 지금/Noun, 친...</td>\n",
       "      <td>가만히 공상/유튜브. 혼자 있는 시간.</td>\n",
       "    </tr>\n",
       "    <tr>\n",
       "      <th>3</th>\n",
       "      <td>3</td>\n",
       "      <td>1.0</td>\n",
       "      <td>0.7472</td>\n",
       "      <td>사람/Noun, 생각/Noun, 오늘/Noun, 때문/Noun, 가장/Noun, 인...</td>\n",
       "      <td>게으름. 그 중에서도 요즘 가장 싫은건 게으름으로 인해 더러워진 방. 너무 짜증나서...</td>\n",
       "    </tr>\n",
       "    <tr>\n",
       "      <th>4</th>\n",
       "      <td>4</td>\n",
       "      <td>0.0</td>\n",
       "      <td>0.7456</td>\n",
       "      <td>진짜/Noun, 마음/Noun, 기억/Noun, 정말/Noun, 지금/Noun, 친...</td>\n",
       "      <td>진수니랑 같이 프론트 더 멋있게 만들기!!!!!\\r\\n</td>\n",
       "    </tr>\n",
       "  </tbody>\n",
       "</table>\n",
       "</div>"
      ],
      "text/plain": [
       "   Document_No  Dominant_Topic  Topic_Perc_Contrib  \\\n",
       "0            0             1.0              0.7484   \n",
       "1            1             0.0              0.7484   \n",
       "2            2             0.0              0.7207   \n",
       "3            3             1.0              0.7472   \n",
       "4            4             0.0              0.7456   \n",
       "\n",
       "                                            Keywords  \\\n",
       "0  사람/Noun, 생각/Noun, 오늘/Noun, 때문/Noun, 가장/Noun, 인...   \n",
       "1  진짜/Noun, 마음/Noun, 기억/Noun, 정말/Noun, 지금/Noun, 친...   \n",
       "2  진짜/Noun, 마음/Noun, 기억/Noun, 정말/Noun, 지금/Noun, 친...   \n",
       "3  사람/Noun, 생각/Noun, 오늘/Noun, 때문/Noun, 가장/Noun, 인...   \n",
       "4  진짜/Noun, 마음/Noun, 기억/Noun, 정말/Noun, 지금/Noun, 친...   \n",
       "\n",
       "                                                Text  \n",
       "0  오늘 상담쌤과 칭찬에 대한 대화를 나눴다. 내가 애들의 칭찬을 잘 못 믿는, 그리고...  \n",
       "1         원하는 순간에 생각의 흐름을 멈추고 하고자 하는 일에 집중할 수 있는 능력.  \n",
       "2                              가만히 공상/유튜브. 혼자 있는 시간.  \n",
       "3  게으름. 그 중에서도 요즘 가장 싫은건 게으름으로 인해 더러워진 방. 너무 짜증나서...  \n",
       "4                     진수니랑 같이 프론트 더 멋있게 만들기!!!!!\\r\\n  "
      ]
     },
     "execution_count": 21,
     "metadata": {},
     "output_type": "execute_result"
    }
   ],
   "source": [
    "def format_topics_sentences(ldamodel=lda_ko, corpus=tf_ko, texts=df['content'].values.astype('U')):\n",
    "   \n",
    "    sent_topics_df = pd.DataFrame()\n",
    "\n",
    "   \n",
    "    for i, row in enumerate(ldamodel[corpus]):\n",
    "        row = sorted(row, key=lambda x: (x[1]), reverse=True)\n",
    "        # Get the Dominant topic, Perc Contribution and Keywords for each document\n",
    "        for j, (topic_num, prop_topic) in enumerate(row):\n",
    "            if j == 0:  # -- dominant topic\n",
    "                wp = ldamodel.show_topic(topic_num)\n",
    "                topic_keywords = \", \".join([word for word, prop in wp])\n",
    "                sent_topics_df = sent_topics_df.append(pd.Series([int(topic_num), round(prop_topic,4), topic_keywords]), ignore_index=True)\n",
    "            else:\n",
    "                break\n",
    "    sent_topics_df.columns = ['Dominant_Topic', 'Perc_Contribution', 'Topic_Keywords']\n",
    "\n",
    "    # Add original text to the end of the output\n",
    "    \n",
    "    contents = pd.Series(texts)\n",
    "    sent_topics_df = pd.concat([sent_topics_df, contents], axis=1)\n",
    "    return(sent_topics_df)\n",
    "    \n",
    "\n",
    "df_topic_sents_keywords = format_topics_sentences(ldamodel=optimal_model, corpus=tf_ko, texts=df['content'].values.astype('U'))\n",
    "\n",
    "\n",
    "df_dominant_topic = df_topic_sents_keywords.reset_index()\n",
    "df_dominant_topic.columns = ['Document_No', 'Dominant_Topic', 'Topic_Perc_Contrib', 'Keywords', 'Text']\n",
    "\n",
    "\n",
    "df_dominant_topic.head(5)"
   ]
  },
  {
   "cell_type": "code",
   "execution_count": null,
   "metadata": {},
   "outputs": [],
   "source": []
  },
  {
   "cell_type": "code",
   "execution_count": 22,
   "metadata": {},
   "outputs": [],
   "source": [
    "path='/Library/Fonts/NanumGothic.ttf'\n",
    "font_name = fm.FontProperties(fname=path, size=50).get_name()\n",
    "matplotlib.rc('font', family=font_name)\n",
    "matplotlib.rc('axes', unicode_minus=False)\n",
    "plt.rc('font', family=font_name)\n",
    "plt.rc('axes', unicode_minus=False)"
   ]
  },
  {
   "cell_type": "code",
   "execution_count": 23,
   "metadata": {},
   "outputs": [],
   "source": [
    "# Latent Dirichlet Allocation, LDA is yet another transformation from \n",
    "# bag-of-words counts into a topic space of lower dimensionality. \n",
    "# LDA is a probabilistic extension of LSA (also called multinomial PCA), \n",
    "# so LDA’s topics can be interpreted as probability distributions over words. \n",
    "# These distributions are, just like with LSA, inferred automatically from \n",
    "# a training corpus. Documents are in turn interpreted as a (soft) mixture \n",
    "# of these topics (again, just like with LSA)"
   ]
  },
  {
   "cell_type": "code",
   "execution_count": 24,
   "metadata": {},
   "outputs": [
    {
     "name": "stdout",
     "output_type": "stream",
     "text": [
      "(5, 25)\n"
     ]
    },
    {
     "data": {
      "text/html": [
       "<div>\n",
       "<style scoped>\n",
       "    .dataframe tbody tr th:only-of-type {\n",
       "        vertical-align: middle;\n",
       "    }\n",
       "\n",
       "    .dataframe tbody tr th {\n",
       "        vertical-align: top;\n",
       "    }\n",
       "\n",
       "    .dataframe thead th {\n",
       "        text-align: right;\n",
       "    }\n",
       "</style>\n",
       "<table border=\"1\" class=\"dataframe\">\n",
       "  <thead>\n",
       "    <tr style=\"text-align: right;\">\n",
       "      <th></th>\n",
       "      <th>생각/Noun</th>\n",
       "      <th>정말/Noun</th>\n",
       "      <th>하나/Noun</th>\n",
       "      <th>손흥민/Noun</th>\n",
       "      <th>자신/Noun</th>\n",
       "      <th>때문/Noun</th>\n",
       "      <th>그냥/Noun</th>\n",
       "      <th>욕망/Noun</th>\n",
       "      <th>이제/Noun</th>\n",
       "      <th>상처/Noun</th>\n",
       "      <th>...</th>\n",
       "      <th>사람/Noun</th>\n",
       "      <th>마음/Noun</th>\n",
       "      <th>지금/Noun</th>\n",
       "      <th>가장/Noun</th>\n",
       "      <th>항상/Noun</th>\n",
       "      <th>오늘/Noun</th>\n",
       "      <th>인생/Noun</th>\n",
       "      <th>요즘/Noun</th>\n",
       "      <th>사랑/Noun</th>\n",
       "      <th>감정/Noun</th>\n",
       "    </tr>\n",
       "  </thead>\n",
       "  <tbody>\n",
       "    <tr>\n",
       "      <th>0</th>\n",
       "      <td>0.095719</td>\n",
       "      <td>0.027276</td>\n",
       "      <td>0.019301</td>\n",
       "      <td>0.017088</td>\n",
       "      <td>0.013668</td>\n",
       "      <td>0.000000</td>\n",
       "      <td>0.000000</td>\n",
       "      <td>0.000000</td>\n",
       "      <td>0.000000</td>\n",
       "      <td>0.000000</td>\n",
       "      <td>...</td>\n",
       "      <td>0.000000</td>\n",
       "      <td>0.000000</td>\n",
       "      <td>0.000000</td>\n",
       "      <td>0.00000</td>\n",
       "      <td>0.00000</td>\n",
       "      <td>0.000000</td>\n",
       "      <td>0.000000</td>\n",
       "      <td>0.000000</td>\n",
       "      <td>0.000000</td>\n",
       "      <td>0.000000</td>\n",
       "    </tr>\n",
       "    <tr>\n",
       "      <th>1</th>\n",
       "      <td>0.000000</td>\n",
       "      <td>0.000000</td>\n",
       "      <td>0.000000</td>\n",
       "      <td>0.000000</td>\n",
       "      <td>0.000000</td>\n",
       "      <td>0.024553</td>\n",
       "      <td>0.020101</td>\n",
       "      <td>0.014489</td>\n",
       "      <td>0.013498</td>\n",
       "      <td>0.011892</td>\n",
       "      <td>...</td>\n",
       "      <td>0.000000</td>\n",
       "      <td>0.000000</td>\n",
       "      <td>0.000000</td>\n",
       "      <td>0.00000</td>\n",
       "      <td>0.00000</td>\n",
       "      <td>0.000000</td>\n",
       "      <td>0.000000</td>\n",
       "      <td>0.000000</td>\n",
       "      <td>0.000000</td>\n",
       "      <td>0.000000</td>\n",
       "    </tr>\n",
       "    <tr>\n",
       "      <th>2</th>\n",
       "      <td>0.000000</td>\n",
       "      <td>0.000000</td>\n",
       "      <td>0.000000</td>\n",
       "      <td>0.000000</td>\n",
       "      <td>0.000000</td>\n",
       "      <td>0.000000</td>\n",
       "      <td>0.000000</td>\n",
       "      <td>0.000000</td>\n",
       "      <td>0.000000</td>\n",
       "      <td>0.000000</td>\n",
       "      <td>...</td>\n",
       "      <td>0.000000</td>\n",
       "      <td>0.000000</td>\n",
       "      <td>0.000000</td>\n",
       "      <td>0.00000</td>\n",
       "      <td>0.00000</td>\n",
       "      <td>0.000000</td>\n",
       "      <td>0.000000</td>\n",
       "      <td>0.000000</td>\n",
       "      <td>0.000000</td>\n",
       "      <td>0.000000</td>\n",
       "    </tr>\n",
       "    <tr>\n",
       "      <th>3</th>\n",
       "      <td>0.000000</td>\n",
       "      <td>0.000000</td>\n",
       "      <td>0.000000</td>\n",
       "      <td>0.000000</td>\n",
       "      <td>0.000000</td>\n",
       "      <td>0.000000</td>\n",
       "      <td>0.000000</td>\n",
       "      <td>0.000000</td>\n",
       "      <td>0.000000</td>\n",
       "      <td>0.000000</td>\n",
       "      <td>...</td>\n",
       "      <td>0.131587</td>\n",
       "      <td>0.034009</td>\n",
       "      <td>0.027453</td>\n",
       "      <td>0.02412</td>\n",
       "      <td>0.01799</td>\n",
       "      <td>0.000000</td>\n",
       "      <td>0.000000</td>\n",
       "      <td>0.000000</td>\n",
       "      <td>0.000000</td>\n",
       "      <td>0.000000</td>\n",
       "    </tr>\n",
       "    <tr>\n",
       "      <th>4</th>\n",
       "      <td>0.000000</td>\n",
       "      <td>0.000000</td>\n",
       "      <td>0.000000</td>\n",
       "      <td>0.000000</td>\n",
       "      <td>0.000000</td>\n",
       "      <td>0.000000</td>\n",
       "      <td>0.000000</td>\n",
       "      <td>0.000000</td>\n",
       "      <td>0.000000</td>\n",
       "      <td>0.000000</td>\n",
       "      <td>...</td>\n",
       "      <td>0.000000</td>\n",
       "      <td>0.000000</td>\n",
       "      <td>0.000000</td>\n",
       "      <td>0.00000</td>\n",
       "      <td>0.00000</td>\n",
       "      <td>0.026181</td>\n",
       "      <td>0.023023</td>\n",
       "      <td>0.019923</td>\n",
       "      <td>0.018447</td>\n",
       "      <td>0.015889</td>\n",
       "    </tr>\n",
       "  </tbody>\n",
       "</table>\n",
       "<p>5 rows × 25 columns</p>\n",
       "</div>"
      ],
      "text/plain": [
       "    생각/Noun   정말/Noun   하나/Noun  손흥민/Noun   자신/Noun   때문/Noun   그냥/Noun  \\\n",
       "0  0.095719  0.027276  0.019301  0.017088  0.013668  0.000000  0.000000   \n",
       "1  0.000000  0.000000  0.000000  0.000000  0.000000  0.024553  0.020101   \n",
       "2  0.000000  0.000000  0.000000  0.000000  0.000000  0.000000  0.000000   \n",
       "3  0.000000  0.000000  0.000000  0.000000  0.000000  0.000000  0.000000   \n",
       "4  0.000000  0.000000  0.000000  0.000000  0.000000  0.000000  0.000000   \n",
       "\n",
       "    욕망/Noun   이제/Noun   상처/Noun  ...   사람/Noun   마음/Noun   지금/Noun  가장/Noun  \\\n",
       "0  0.000000  0.000000  0.000000  ...  0.000000  0.000000  0.000000  0.00000   \n",
       "1  0.014489  0.013498  0.011892  ...  0.000000  0.000000  0.000000  0.00000   \n",
       "2  0.000000  0.000000  0.000000  ...  0.000000  0.000000  0.000000  0.00000   \n",
       "3  0.000000  0.000000  0.000000  ...  0.131587  0.034009  0.027453  0.02412   \n",
       "4  0.000000  0.000000  0.000000  ...  0.000000  0.000000  0.000000  0.00000   \n",
       "\n",
       "   항상/Noun   오늘/Noun   인생/Noun   요즘/Noun   사랑/Noun   감정/Noun  \n",
       "0  0.00000  0.000000  0.000000  0.000000  0.000000  0.000000  \n",
       "1  0.00000  0.000000  0.000000  0.000000  0.000000  0.000000  \n",
       "2  0.00000  0.000000  0.000000  0.000000  0.000000  0.000000  \n",
       "3  0.01799  0.000000  0.000000  0.000000  0.000000  0.000000  \n",
       "4  0.00000  0.026181  0.023023  0.019923  0.018447  0.015889  \n",
       "\n",
       "[5 rows x 25 columns]"
      ]
     },
     "execution_count": 24,
     "metadata": {},
     "output_type": "execute_result"
    }
   ],
   "source": [
    "data_lda = {i: OrderedDict(lda_ko.show_topic(i, 5)) for i in range(5)}\n",
    "df_lda = pd.DataFrame(data_lda)\n",
    "df_lda = df_lda.fillna(0).T\n",
    "print(df_lda.shape)\n",
    "df_lda"
   ]
  },
  {
   "cell_type": "code",
   "execution_count": 25,
   "metadata": {},
   "outputs": [
    {
     "data": {
      "image/png": "[encoded data removed]",
      "text/plain": [
       "<Figure size 1080x1080 with 4 Axes>"
      ]
     },
     "metadata": {},
     "output_type": "display_data"
    }
   ],
   "source": [
    "sns.set(font_scale=3)\n",
    "g=sns.clustermap(df_lda.corr(), center=0, standard_scale=1, cmap=\"RdBu\", metric='cosine', linewidths=.75, figsize=(15, 15))\n",
    "plt.setp(g.ax_heatmap.yaxis.get_majorticklabels(), rotation=0)\n",
    "plt.show()"
   ]
  },
  {
   "cell_type": "code",
   "execution_count": 26,
   "metadata": {},
   "outputs": [
    {
     "data": {
      "text/html": [
       "\n",
       "<link rel=\"stylesheet\" type=\"text/css\" href=\"https://cdn.rawgit.com/bmabey/pyLDAvis/files/ldavis.v1.0.0.css\">\n",
       "\n",
       "\n",
       "<div id=\"ldavis_el68441403982858261286014239521\"></div>\n",
       "<script type=\"text/javascript\">\n",
       "\n",
       "var ldavis_el68441403982858261286014239521_data = {\"mdsDat\": {\"x\": [150.22215270996094, 51.16336441040039, -73.1445541381836, -66.4101333618164, 54.41732406616211], \"y\": [-72.2695541381836, -159.968017578125, 21.523815155029297, -110.60643768310547, 12.44344425201416], \"topics\": [1, 2, 3, 4, 5], \"cluster\": [1, 1, 1, 1, 1], \"Freq\": [29.407575607299805, 29.175296783447266, 21.376323699951172, 10.025385856628418, 10.015417098999023]}, \"tinfo\": {\"Term\": [\"\\uc0ac\\ub78c/Noun\", \"\\uc0dd\\uac01/Noun\", \"\\ub9c8\\uc74c/Noun\", \"\\uc9c4\\uc9dc/Noun\", \"\\uae30\\uc5b5/Noun\", \"\\uc9c0\\uae08/Noun\", \"\\uc624\\ub298/Noun\", \"\\uac00\\uc7a5/Noun\", \"\\uc778\\uc0dd/Noun\", \"\\uce5c\\uad6c/Noun\", \"\\uc694\\uc998/Noun\", \"\\uc815\\ub9d0/Noun\", \"\\uc0ac\\uc2e4/Noun\", \"\\uc0ac\\ub791/Noun\", \"\\ud56d\\uc0c1/Noun\", \"\\ub54c\\ubb38/Noun\", \"\\uae30\\ubd84/Noun\", \"\\uac10\\uc815/Noun\", \"\\ub2e4\\ub978/Noun\", \"\\uc9c8\\ubb38/Noun\", \"\\uc190\\ud765\\ubbfc/Noun\", \"\\uadf8\\ub0e5/Noun\", \"\\ud558\\ub098/Noun\", \"\\uc2dc\\uac04/Noun\", \"\\ubcf4\\uace0/Noun\", \"\\ub300\\ud55c/Noun\", \"\\uc598\\uae30/Noun\", \"\\uc218\\uc5c5/Noun\", \"\\ucd5c\\uadfc/Noun\", \"\\uc0c1\\ub2f4/Noun\", \"\\uc0ac\\ub78c/Noun\", \"\\uc9c0\\uae08/Noun\", \"\\uac00\\uc7a5/Noun\", \"\\ub9c8\\uc74c/Noun\", \"\\uc5b4\\uc81c/Noun\", \"\\uc544\\uc8fc/Noun\", \"\\uacc4\\uc18d/Noun\", \"\\ud604\\uc2e4/Noun\", \"\\ud56d\\uc0c1/Noun\", \"\\ub204\\uad70\\uac00/Noun\", \"\\ubb38\\uc81c/Noun\", \"\\ubcc4\\ub85c/Noun\", \"\\ud574\\ub3c4/Noun\", \"\\ubaa9\\ud45c/Noun\", \"\\ubcf4\\uae30/Noun\", \"\\uc544\\uc774/Noun\", \"\\ud589\\ubcf5/Noun\", \"\\uc5bc\\ub9c8\\ub098/Noun\", \"\\ubd80\\ud130/Noun\", \"\\uc5b8\\uc81c/Noun\", \"\\uc544\\ube60/Noun\", \"\\uacbd\\uc6b0/Noun\", \"\\ub300\\uc2e0/Noun\", \"\\ub300\\ub2f5/Noun\", \"\\ud654\\uc7a5\\uc2e4/Noun\", \"\\uc74c\\uc545/Noun\", \"\\uc5b4\\ub514/Noun\", \"\\uac11\\uc790\\uae30/Noun\", \"\\ub538\\uae30/Noun\", \"\\uadf8\\uac8c/Noun\", \"\\uc120\\ud0dd/Noun\", \"\\uc0ac\\uace0/Noun\", \"\\ub300\\ud654/Noun\", \"\\ub098\\uc911/Noun\", \"\\ud718\\ubbfc/Noun\", \"\\uc190\\ud765\\ubbfc/Noun\", \"\\uc624\\ub298/Noun\", \"\\uc694\\uc998/Noun\", \"\\uc778\\uc0dd/Noun\", \"\\uac10\\uc815/Noun\", \"\\uc0ac\\ub791/Noun\", \"\\ubcf4\\uace0/Noun\", \"\\uc9c8\\ubb38/Noun\", \"\\ub300\\ud55c/Noun\", \"\\ub290\\ub08c/Noun\", \"\\ub204\\uad6c/Noun\", \"\\ub2e4\\ud589/Noun\", \"\\uc218\\uc5c5/Noun\", \"\\uc544\\ubb34/Noun\", \"\\ub9e4\\uc6b0/Noun\", \"\\ucd5c\\uc545/Noun\", \"\\ucd5c\\uace0/Noun\", \"\\ud63c\\uc790/Noun\", \"\\ud3b8\\uc774/Noun\", \"\\uc5c4\\ub9c8/Noun\", \"\\uc601\\ud5a5/Noun\", \"\\uc791\\ub144/Noun\", \"\\uc9d1\\uc911/Noun\", \"\\uae30\\ub300/Noun\", \"\\uba3c\\uc9c0/Noun\", \"\\ucee4\\ub9ac\\uc5b4/Noun\", \"\\uc0c1\\ud669/Noun\", \"\\ub3c4\\uc6c0/Noun\", \"\\uc878\\uc5c5/Noun\", \"\\uc704\\ud574/Noun\", \"\\ubc14\\ub85c/Noun\", \"\\uace0\\ubbfc/Noun\", \"\\ud558\\ub8e8/Noun\", \"\\ub0b4\\uc77c/Noun\", \"\\uae30\\uc5b5/Noun\", \"\\uc9c4\\uc9dc/Noun\", \"\\uc0ac\\uc2e4/Noun\", \"\\uae30\\ubd84/Noun\", \"\\ub2e4\\ub978/Noun\", \"\\uc598\\uae30/Noun\", \"\\uc0c1\\ub2f4/Noun\", \"\\ucd5c\\uadfc/Noun\", \"\\ub178\\ub798/Noun\", \"\\uc81c\\uc77c/Noun\", \"\\uce5c\\uad6c/Noun\", \"\\uc790\\uae30/Noun\", \"\\uac00\\ub054/Noun\", \"\\ub2f9\\uc2dc/Noun\", \"\\uc2dc\\uac04/Noun\", \"\\ub178\\ub825/Noun\", \"\\uc790\\uc8fc/Noun\", \"\\uc0ac\\uc9c4/Noun\", \"\\uc18c\\ub9ac/Noun\", \"\\uae30\\ub3c4/Noun\", \"\\uc138\\uc0c1/Noun\", \"\\uacbd\\ud5d8/Noun\", \"\\uadf8\\uac83/Noun\", \"\\uc2a4\\uc2a4\\ub85c/Noun\", \"\\uc0ac\\ud68c/Noun\", \"\\ub5a1\\ubcf6\\uc774/Noun\", \"\\ub85c\\ubd80\\ud130/Noun\", \"\\uad00\\uacc4/Noun\", \"\\uc5ec\\ub984/Noun\", \"\\uc900\\ube44/Noun\", \"\\uba3c\\uc800/Noun\", \"\\uccab\\uc0ac\\ub791/Noun\", \"\\uc815\\ub9d0/Noun\", \"\\uc815\\ub3c4/Noun\", \"\\uc0dd\\uac01/Noun\", \"\\uc870\\uae08/Noun\", \"\\ud558\\ub098/Noun\", \"\\uc790\\uc2e0/Noun\", \"\\ud45c\\ud604/Noun\", \"\\ucc98\\uc74c/Noun\", \"\\uc608\\uc804/Noun\", \"\\uc758\\uc9c0/Noun\", \"\\uac10\\uc131/Noun\", \"\\uadf8\\ub54c/Noun\", \"\\uaca8\\uc6b8/Noun\", \"\\uacf5\\ubd80/Noun\", \"\\ubaa8\\uc2b5/Noun\", \"\\uc601\\ud654/Noun\", \"\\uc804\\ud654/Noun\", \"\\ud1b5\\ud654/Noun\", \"\\uc5ec\\ud589/Noun\", \"\\ub9c8\\uc9c0\\ub9c9/Noun\", \"\\uac00\\uc871/Noun\", \"\\uc544\\uce68/Noun\", \"\\ud06c\\uac8c/Noun\", \"\\ubb54\\uac00/Noun\", \"\\ud1a0\\uc694\\uc77c/Noun\", \"\\uc0ac\\uc6a9/Noun\", \"\\uc124\\uba85/Noun\", \"\\uc815\\uc2e0/Noun\", \"\\ub2e4\\uc74c/Noun\", \"\\uc774\\uc804/Noun\", \"\\ubd80\\uc0b0/Noun\", \"\\uacc4\\uae30/Noun\", \"\\uc190\\ud765\\ubbfc/Noun\", \"\\uad00\\uacc4\\uc790/Noun\", \"\\uc544\\uc800\\uc528/Noun\", \"\\ub54c\\ubb38/Noun\", \"\\uadf8\\ub0e5/Noun\", \"\\uc695\\ub9dd/Noun\", \"\\uc774\\uc81c/Noun\", \"\\uc0c1\\ucc98/Noun\", \"\\uc758\\ubbf8/Noun\", \"\\ud559\\uad50/Noun\", \"\\uc2dc\\uc791/Noun\", \"\\ub2e4\\uc2dc/Noun\", \"\\uc6b0\\ub9ac/Noun\", \"\\ub2e8\\uc5b4/Noun\", \"\\uc774\\uc57c\\uae30/Noun\", \"\\ubaa8\\ub4e0/Noun\", \"\\uc774\\uc720/Noun\", \"\\ub204\\uac00/Noun\", \"\\uac1c\\uac15/Noun\", \"\\uc560\\ucd08/Noun\", \"\\uc218\\ub3c4/Noun\", \"\\ubaa8\\ub450/Noun\", \"\\ud0a4\\ud0a4/Noun\", \"\\uc21c\\uac04/Noun\", \"\\ubc29\\ubc95/Noun\", \"\\ucd5c\\uace0\\ub2e4/Noun\", \"\\uc694\\uc0c8/Noun\", \"\\uc57d\\uac04/Noun\", \"\\ud734\\ud559/Noun\", \"\\uadf8\\uac70/Noun\", \"\\uc544\\ub9c8/Noun\", \"\\uac74\\uac00/Noun\", \"\\ubb34\\uc758\\uc2dd/Noun\", \"\\uc5b4\\ub3c4/Noun\", \"\\ud3b8\\uc9c0/Noun\"], \"Freq\": [280.0, 75.0, 73.0, 53.0, 51.0, 58.0, 55.0, 51.0, 49.0, 39.0, 42.0, 20.0, 31.0, 39.0, 39.0, 18.0, 27.0, 34.0, 25.0, 32.0, 26.0, 15.0, 15.0, 23.0, 28.0, 28.0, 20.0, 25.0, 19.0, 18.0, 279.61444091796875, 58.33563232421875, 51.252723693847656, 72.268310546875, 23.81197166442871, 22.00369644165039, 22.35497283935547, 21.447938919067383, 38.22789001464844, 19.607913970947266, 18.85952377319336, 19.146909713745117, 20.134220123291016, 16.99085235595703, 15.349246978759766, 15.266068458557129, 20.003280639648438, 14.590662956237793, 14.503092765808105, 12.826788902282715, 12.059691429138184, 22.810972213745117, 10.820509910583496, 10.347513198852539, 9.240699768066406, 8.953185081481934, 9.044197082519531, 10.080774307250977, 8.610095024108887, 9.627860069274902, 12.566133499145508, 13.831186294555664, 10.20763111114502, 11.551299095153809, 11.188651084899902, 13.025367736816406, 55.19469451904297, 42.00123596191406, 48.53643798828125, 33.49750900268555, 38.888816833496094, 28.338991165161133, 32.02399444580078, 27.72907829284668, 21.095947265625, 22.9822940826416, 18.344179153442383, 25.14401626586914, 15.250012397766113, 14.006288528442383, 14.379387855529785, 13.44848346710205, 13.170326232910156, 12.740138053894043, 12.882157325744629, 12.661381721496582, 13.71606731414795, 12.452475547790527, 11.415570259094238, 11.534674644470215, 11.534634590148926, 11.297303199768066, 14.550405502319336, 10.748651504516602, 10.792304039001465, 10.583063125610352, 18.306262969970703, 14.934922218322754, 11.697953224182129, 51.07154846191406, 52.782772064208984, 30.545289993286133, 26.5421142578125, 24.39971923828125, 19.574859619140625, 18.35369873046875, 18.4785213470459, 17.725492477416992, 16.82356834411621, 37.9444580078125, 14.39154052734375, 12.695551872253418, 11.809720039367676, 22.783838272094727, 10.876164436340332, 10.843128204345703, 9.562719345092773, 9.447439193725586, 9.739462852478027, 16.613439559936523, 9.150733947753906, 10.238110542297363, 8.966763496398926, 8.513260841369629, 8.258382797241211, 8.257966041564941, 8.269672393798828, 14.851545333862305, 7.53445291519165, 10.199148178100586, 20.15829849243164, 19.75942611694336, 9.440863609313965, 69.34083557128906, 7.790964126586914, 13.982124328613281, 9.901293754577637, 6.923620700836182, 6.449116230010986, 6.0468597412109375, 7.698922157287598, 6.043649673461914, 5.998978614807129, 6.167074203491211, 5.183398246765137, 7.131394386291504, 4.5684661865234375, 4.448809623718262, 4.013256072998047, 3.3720345497131348, 3.1820871829986572, 3.4897379875183105, 4.184972286224365, 3.028282880783081, 4.149367809295654, 2.6604933738708496, 2.4217453002929688, 3.11993145942688, 2.3890161514282227, 2.966214656829834, 2.2568681240081787, 2.6968700885772705, 2.696815252304077, 12.378896713256836, 3.0981500148773193, 2.714754343032837, 17.76863670349121, 14.547085762023926, 10.4858980178833, 9.768637657165527, 8.60643482208252, 7.838840961456299, 7.0012898445129395, 7.199134349822998, 6.763614177703857, 8.277429580688477, 6.471466541290283, 7.451426029205322, 5.152271747589111, 4.964234828948975, 4.556204795837402, 4.443802356719971, 4.309543132781982, 7.421036720275879, 3.986401319503784, 3.9220669269561768, 6.492029190063477, 3.6558940410614014, 3.532297134399414, 3.5734946727752686, 3.394562244415283, 3.3945281505584717, 3.394524574279785, 4.55510139465332, 3.21543550491333, 3.215425729751587, 5.0785746574401855, 3.414546012878418], \"Total\": [280.0, 75.0, 73.0, 53.0, 51.0, 58.0, 55.0, 51.0, 49.0, 39.0, 42.0, 20.0, 31.0, 39.0, 39.0, 18.0, 27.0, 34.0, 25.0, 32.0, 26.0, 15.0, 15.0, 23.0, 28.0, 28.0, 20.0, 25.0, 19.0, 18.0, 280.3482666015625, 58.934078216552734, 51.83607482910156, 73.37251281738281, 24.3634033203125, 22.548032760620117, 22.91225242614746, 21.992433547973633, 39.24038314819336, 20.16737174987793, 19.418977737426758, 19.71971893310547, 20.762496948242188, 17.53471565246582, 15.893717765808105, 15.810344696044922, 20.717878341674805, 15.134466171264648, 15.046889305114746, 13.379822731018066, 12.604109764099121, 23.93069839477539, 11.367019653320312, 10.893115043640137, 9.786277770996094, 9.496999740600586, 9.598584175109863, 10.716268539428711, 9.154129028320312, 10.260640144348145, 13.435600280761719, 14.971321105957031, 11.022710800170898, 14.138134956359863, 14.181289672851562, 26.614852905273438, 55.787479400634766, 42.56560516357422, 49.28872299194336, 34.072357177734375, 39.65734100341797, 28.901443481445312, 32.667686462402344, 28.300979614257812, 21.646224975585938, 23.613615036010742, 18.90880584716797, 25.96493148803711, 15.815059661865234, 14.562424659729004, 14.961283683776855, 13.99655818939209, 13.731154441833496, 13.287647247314453, 13.445296287536621, 13.218201637268066, 14.320049285888672, 13.005380630493164, 11.966276168823242, 12.098712921142578, 12.098690032958984, 11.852057456970215, 15.277349472045898, 11.296236038208008, 11.342802047729492, 11.133096694946289, 19.667545318603516, 16.10032081604004, 12.41097640991211, 51.70215606689453, 53.676788330078125, 31.17913246154785, 27.205324172973633, 25.021869659423828, 20.202533721923828, 18.964191436767578, 19.103809356689453, 18.3399658203125, 17.447017669677734, 39.485538482666016, 15.016729354858398, 13.313431739807129, 12.423331260681152, 23.98488998413086, 11.4891996383667, 11.461392402648926, 10.174184799194336, 10.057608604431152, 10.369690895080566, 17.704998016357422, 9.77713394165039, 10.940179824829102, 9.588987350463867, 9.134605407714844, 8.869230270385742, 8.869253158569336, 8.89328384399414, 16.03474998474121, 8.145042419433594, 11.075599670410156, 25.056325912475586, 20.5521183013916, 10.168957710266113, 75.82768249511719, 8.528607368469238, 15.318817138671875, 10.910497665405273, 7.637938022613525, 7.173935413360596, 6.760268211364746, 8.621758460998535, 6.769864082336426, 6.72580623626709, 6.99685001373291, 5.897512912750244, 8.12668514251709, 5.28626012802124, 5.172642707824707, 4.732203006744385, 4.090548515319824, 3.89958119392395, 4.301660537719727, 5.177089214324951, 3.7464544773101807, 5.136155605316162, 3.3741116523742676, 3.1370527744293213, 4.051523208618164, 3.1067328453063965, 3.8836112022399902, 2.969817876815796, 3.610900640487671, 3.610974073410034, 26.614852905273438, 5.686957359313965, 9.911828994750977, 18.482139587402344, 15.258183479309082, 11.20071029663086, 10.49272632598877, 9.331405639648438, 8.565464973449707, 7.707536220550537, 7.926122188568115, 7.468780994415283, 9.182838439941406, 7.275998592376709, 8.462993621826172, 5.869828701019287, 5.6843109130859375, 5.282675743103027, 5.158181190490723, 5.023091793060303, 8.685370445251465, 4.697761058807373, 4.63569450378418, 7.676936149597168, 4.377392768859863, 4.247443675994873, 4.31259822845459, 4.120759963989258, 4.1207594871521, 4.120769500732422, 5.540449142456055, 3.928870677947998, 3.928882360458374, 6.469091415405273, 4.406595230102539], \"Category\": [\"Default\", \"Default\", \"Default\", \"Default\", \"Default\", \"Default\", \"Default\", \"Default\", \"Default\", \"Default\", \"Default\", \"Default\", \"Default\", \"Default\", \"Default\", \"Default\", \"Default\", \"Default\", \"Default\", \"Default\", \"Default\", \"Default\", \"Default\", \"Default\", \"Default\", \"Default\", \"Default\", \"Default\", \"Default\", \"Default\", \"Topic1\", \"Topic1\", \"Topic1\", \"Topic1\", \"Topic1\", \"Topic1\", \"Topic1\", \"Topic1\", \"Topic1\", \"Topic1\", \"Topic1\", \"Topic1\", \"Topic1\", \"Topic1\", \"Topic1\", \"Topic1\", \"Topic1\", \"Topic1\", \"Topic1\", \"Topic1\", \"Topic1\", \"Topic1\", \"Topic1\", \"Topic1\", \"Topic1\", \"Topic1\", \"Topic1\", \"Topic1\", \"Topic1\", \"Topic1\", \"Topic1\", \"Topic1\", \"Topic1\", \"Topic1\", \"Topic1\", \"Topic1\", \"Topic2\", \"Topic2\", \"Topic2\", \"Topic2\", \"Topic2\", \"Topic2\", \"Topic2\", \"Topic2\", \"Topic2\", \"Topic2\", \"Topic2\", \"Topic2\", \"Topic2\", \"Topic2\", \"Topic2\", \"Topic2\", \"Topic2\", \"Topic2\", \"Topic2\", \"Topic2\", \"Topic2\", \"Topic2\", \"Topic2\", \"Topic2\", \"Topic2\", \"Topic2\", \"Topic2\", \"Topic2\", \"Topic2\", \"Topic2\", \"Topic2\", \"Topic2\", \"Topic2\", \"Topic3\", \"Topic3\", \"Topic3\", \"Topic3\", \"Topic3\", \"Topic3\", \"Topic3\", \"Topic3\", \"Topic3\", \"Topic3\", \"Topic3\", \"Topic3\", \"Topic3\", \"Topic3\", \"Topic3\", \"Topic3\", \"Topic3\", \"Topic3\", \"Topic3\", \"Topic3\", \"Topic3\", \"Topic3\", \"Topic3\", \"Topic3\", \"Topic3\", \"Topic3\", \"Topic3\", \"Topic3\", \"Topic3\", \"Topic3\", \"Topic3\", \"Topic3\", \"Topic4\", \"Topic4\", \"Topic4\", \"Topic4\", \"Topic4\", \"Topic4\", \"Topic4\", \"Topic4\", \"Topic4\", \"Topic4\", \"Topic4\", \"Topic4\", \"Topic4\", \"Topic4\", \"Topic4\", \"Topic4\", \"Topic4\", \"Topic4\", \"Topic4\", \"Topic4\", \"Topic4\", \"Topic4\", \"Topic4\", \"Topic4\", \"Topic4\", \"Topic4\", \"Topic4\", \"Topic4\", \"Topic4\", \"Topic4\", \"Topic4\", \"Topic4\", \"Topic4\", \"Topic4\", \"Topic4\", \"Topic5\", \"Topic5\", \"Topic5\", \"Topic5\", \"Topic5\", \"Topic5\", \"Topic5\", \"Topic5\", \"Topic5\", \"Topic5\", \"Topic5\", \"Topic5\", \"Topic5\", \"Topic5\", \"Topic5\", \"Topic5\", \"Topic5\", \"Topic5\", \"Topic5\", \"Topic5\", \"Topic5\", \"Topic5\", \"Topic5\", \"Topic5\", \"Topic5\", \"Topic5\", \"Topic5\", \"Topic5\", \"Topic5\", \"Topic5\", \"Topic5\", \"Topic5\"], \"logprob\": [30.0, 29.0, 28.0, 27.0, 26.0, 25.0, 24.0, 23.0, 22.0, 21.0, 20.0, 19.0, 18.0, 17.0, 16.0, 15.0, 14.0, 13.0, 12.0, 11.0, 10.0, 9.0, 8.0, 7.0, 6.0, 5.0, 4.0, 3.0, 2.0, 1.0, -2.02810001373291, -3.5952999591827393, -3.7246999740600586, -3.3810999393463135, -4.491300106048584, -4.570300102233887, -4.554500102996826, -4.595900058746338, -4.017899990081787, -4.6855998039245605, -4.7245001792907715, -4.709400177001953, -4.65910005569458, -4.828800201416016, -4.9303998947143555, -4.9359002113342285, -4.665599822998047, -4.981100082397461, -4.987100124359131, -5.110000133514404, -5.171599864959717, -4.534299850463867, -5.280099868774414, -5.32480001449585, -5.437900066375732, -5.4695000648498535, -5.459400177001953, -5.350900173187256, -5.508600234985352, -5.3968000411987305, -5.130499839782715, -5.034599781036377, -5.338399887084961, -5.214700222015381, -5.246600151062012, -5.094600200653076, -3.642699956893921, -3.9158999919891357, -3.7713000774383545, -4.142099857330322, -3.9928998947143555, -4.309299945831299, -4.187099933624268, -4.331099987030029, -4.604499816894531, -4.518799781799316, -4.74429988861084, -4.428999900817871, -4.928999900817871, -5.014100074768066, -4.987800121307373, -5.054699897766113, -5.0756001472473145, -5.108799934387207, -5.097700119018555, -5.114999771118164, -5.034999847412109, -5.131700038909912, -5.218599796295166, -5.208199977874756, -5.208199977874756, -5.229000091552734, -4.97599983215332, -5.278800010681152, -5.274700164794922, -5.294300079345703, -4.746300220489502, -4.949900150299072, -5.194200038909912, -3.4093000888824463, -3.376300096511841, -3.92330002784729, -4.063799858093262, -4.1479997634887695, -4.368299961090088, -4.432700157165527, -4.425899982452393, -4.46750020980835, -4.519800186157227, -3.706399917602539, -4.675899982452393, -4.801300048828125, -4.873600006103516, -4.2164998054504395, -4.955999851226807, -4.959000110626221, -5.084700107574463, -5.096799850463867, -5.066299915313721, -4.532299995422363, -5.128699779510498, -5.01639986038208, -5.14900016784668, -5.200900077819824, -5.231299877166748, -5.231400012969971, -5.229899883270264, -4.644400119781494, -5.322999954223633, -5.020199775695801, -4.338900089263916, -3.6017000675201416, -4.3403000831604, -2.346299886703491, -4.532400131225586, -3.9475998878479004, -4.292699813842773, -4.650400161743164, -4.721399784088135, -4.785799980163574, -4.544300079345703, -4.786399841308594, -4.793799877166748, -4.76609992980957, -4.939899921417236, -4.6209001541137695, -5.066199779510498, -5.092700004577637, -5.195799827575684, -5.369900226593018, -5.427800178527832, -5.3354997634887695, -5.153900146484375, -5.477399826049805, -5.162399768829346, -5.606900215148926, -5.700900077819824, -5.4475998878479, -5.7144999504089355, -5.4980998039245605, -5.771399974822998, -5.593299865722656, -5.593299865722656, -4.069399833679199, -5.454599857330322, -5.586699962615967, -3.706899881362915, -3.9070000648498535, -4.234300136566162, -4.305200099945068, -4.4319000244140625, -4.525300025939941, -4.638299942016602, -4.610400199890137, -4.672800064086914, -4.470799922943115, -4.7170000076293945, -4.576000213623047, -4.944900035858154, -4.982100009918213, -5.06790018081665, -5.092899799346924, -5.123499870300293, -4.580100059509277, -5.201499938964844, -5.217800140380859, -4.713799953460693, -5.288000106811523, -5.322400093078613, -5.310800075531006, -5.362199783325195, -5.362199783325195, -5.362199783325195, -5.0680999755859375, -5.416399955749512, -5.416399955749512, -4.9593000411987305, -5.356299877166748], \"loglift\": [30.0, 29.0, 28.0, 27.0, 26.0, 25.0, 24.0, 23.0, 22.0, 21.0, 20.0, 19.0, 18.0, 17.0, 16.0, 15.0, 14.0, 13.0, 12.0, 11.0, 10.0, 9.0, 8.0, 7.0, 6.0, 5.0, 4.0, 3.0, 2.0, 1.0, 1.2213000059127808, 1.2137000560760498, 1.2125999927520752, 1.208799958229065, 1.2009999752044678, 1.1994999647140503, 1.1993000507354736, 1.198799967765808, 1.1978000402450562, 1.1957999467849731, 1.194700002670288, 1.1943999528884888, 1.1931999921798706, 1.1923999786376953, 1.1891000270843506, 1.1888999938964844, 1.1887999773025513, 1.1872999668121338, 1.1871000528335571, 1.1816999912261963, 1.179800033569336, 1.1759999990463257, 1.1746000051498413, 1.1725000143051147, 1.166599988937378, 1.1649999618530273, 1.1643999814987183, 1.1627999544143677, 1.162600040435791, 1.1603000164031982, 1.156999945640564, 1.144700050354004, 1.1470999717712402, 1.0218000411987305, 0.9868999719619751, 0.5092999935150146, 1.2211999893188477, 1.218500018119812, 1.2165000438690186, 1.2148000001907349, 1.2122999429702759, 1.2122000455856323, 1.211899995803833, 1.211400032043457, 1.2060999870300293, 1.204699993133545, 1.2015000581741333, 1.1996999979019165, 1.1955000162124634, 1.1928999423980713, 1.192199945449829, 1.1919000148773193, 1.1900999546051025, 1.1898000240325928, 1.1891000270843506, 1.1887999773025513, 1.1887999773025513, 1.1884000301361084, 1.1847000122070312, 1.1841000318527222, 1.1841000318527222, 1.183899998664856, 1.1830999851226807, 1.1821999549865723, 1.1821000576019287, 1.1812000274658203, 1.160099983215332, 1.1567000150680542, 1.172700047492981, 1.5305999517440796, 1.5261000394821167, 1.5223000049591064, 1.5182000398635864, 1.517699956893921, 1.511299967765808, 1.510200023651123, 1.509600043296814, 1.5088000297546387, 1.506500005722046, 1.503100037574768, 1.5003999471664429, 1.4953999519348145, 1.4922000169754028, 1.4915000200271606, 1.4881000518798828, 1.4874000549316406, 1.4809000492095947, 1.480299949645996, 1.4802000522613525, 1.4793000221252441, 1.476699948310852, 1.4766000509262085, 1.4758000373840332, 1.4723999500274658, 1.471500039100647, 1.471500039100647, 1.4701999425888062, 1.4661999940872192, 1.465000033378601, 1.4603999853134155, 1.3253999948501587, 2.260699987411499, 2.225800037384033, 2.210599899291992, 2.2095999717712402, 2.208699941635132, 2.203000068664551, 2.201900005340576, 2.19350004196167, 2.188499927520752, 2.186800003051758, 2.1865999698638916, 2.185699939727783, 2.173799991607666, 2.1710000038146973, 2.1693999767303467, 2.154099941253662, 2.1493000984191895, 2.1352999210357666, 2.1068999767303467, 2.0966999530792236, 2.09089994430542, 2.0873000621795654, 2.0871999263763428, 2.086699962615967, 2.0624001026153564, 2.041300058364868, 2.038800001144409, 2.037400007247925, 2.030600070953369, 2.0255000591278076, 2.00819993019104, 2.0081000328063965, 1.534600019454956, 1.6927000284194946, 1.0049999952316284, 2.261699914932251, 2.2532999515533447, 2.235100030899048, 2.2295000553131104, 2.2202000617980957, 2.212399959564209, 2.204900026321411, 2.2047998905181885, 2.201900005340576, 2.197200059890747, 2.1839001178741455, 2.1737000942230225, 2.1707000732421875, 2.165600061416626, 2.15310001373291, 2.1519999504089355, 2.1477999687194824, 2.143699884414673, 2.1368000507354736, 2.1338999271392822, 2.1333999633789062, 2.1208999156951904, 2.1166999340057373, 2.11299991607666, 2.1071999073028564, 2.1071999073028564, 2.1071999073028564, 2.1052000522613525, 2.1006999015808105, 2.100600004196167, 2.059000015258789, 2.0460000038146973]}, \"token.table\": {\"Topic\": [3, 1, 4, 4, 2, 1, 5, 5, 4, 1, 2, 3, 4, 1, 1, 2, 4, 3, 1, 4, 5, 3, 1, 5, 4, 2, 3, 3, 3, 1, 2, 3, 2, 3, 3, 5, 2, 1, 2, 3, 5, 4, 2, 5, 3, 1, 1, 2, 1, 2, 1, 5, 3, 3, 1, 2, 4, 2, 3, 2, 5, 5, 1, 4, 1, 5, 1, 1, 4, 2, 5, 1, 2, 1, 4, 1, 1, 3, 1, 2, 3, 4, 3, 3, 3, 5, 2, 2, 3, 4, 5, 1, 4, 3, 5, 3, 1, 2, 4, 1, 5, 1, 2, 2, 5, 3, 1, 3, 5, 2, 5, 2, 1, 1, 1, 4, 1, 1, 4, 5, 5, 3, 1, 3, 5, 1, 1, 1, 1, 2, 1, 3, 4, 2, 4, 4, 2, 5, 2, 5, 5, 2, 1, 5, 4, 5, 5, 4, 5, 2, 3, 2, 4, 3, 2, 4, 4, 4, 4, 3, 4, 2, 3, 1, 2, 3, 2, 2, 4, 2, 3, 2, 5, 3, 2, 1, 3, 2, 4, 5, 4, 4, 2, 1, 5, 4, 3, 4, 1, 2, 5, 1, 2, 1, 1, 1, 2, 1, 1, 4, 5], \"Freq\": [0.9764574766159058, 0.983870804309845, 0.6974050998687744, 0.8862807154655457, 0.96852707862854, 0.933160662651062, 0.7754671573638916, 0.7635781764984131, 0.8575287461280823, 0.9611086249351501, 0.04178733006119728, 0.9205151796340942, 0.8308007717132568, 0.9601849317550659, 0.0508451871573925, 0.9152133464813232, 0.8478150367736816, 0.8995552062988281, 0.3516819179058075, 0.52752286195755, 0.7280193567276001, 0.9140617847442627, 0.9745980501174927, 0.9830790162086487, 0.892086386680603, 0.9192500710487366, 0.9643489122390747, 0.9924528002738953, 0.9864192008972168, 0.8487682342529297, 0.07073068618774414, 0.07073068618774414, 0.966886043548584, 0.9814631342887878, 0.9574208855628967, 0.9464900493621826, 0.9740143418312073, 0.9917008876800537, 0.9701460599899292, 0.9591609239578247, 0.9372345805168152, 0.7724769115447998, 0.9519374370574951, 0.8246290683746338, 0.9659245014190674, 0.9180110692977905, 0.967711865901947, 0.9893650412559509, 0.9072178602218628, 0.9818457365036011, 0.9831628799438477, 0.9739131927490234, 0.9019948244094849, 0.9019924998283386, 0.9812939167022705, 0.013629081659018993, 0.769313395023346, 0.9613783359527588, 0.9028856754302979, 0.9918410181999207, 0.8514694571495056, 0.8518136143684387, 0.12305140495300293, 0.8613598346710205, 0.9695053100585938, 0.7635759115219116, 0.9784243106842041, 0.19469815492630005, 0.7787926197052002, 0.9880449771881104, 0.9137859344482422, 0.9635025858879089, 0.9688097238540649, 0.943769097328186, 0.8308176398277283, 0.9968838095664978, 0.9351212382316589, 0.06679437309503555, 0.9987577199935913, 0.9834244847297668, 0.9942547082901001, 0.6375410556793213, 0.9828797578811646, 0.985264241695404, 0.9491572380065918, 0.9644849300384521, 0.9281088709831238, 0.039563387632369995, 0.02637559175491333, 0.9099579453468323, 0.013187795877456665, 0.967578649520874, 0.7404622435569763, 0.9601808190345764, 0.05648122727870941, 0.8948449492454529, 0.4884490668773651, 0.03757300600409508, 0.45087605714797974, 0.11513613909482956, 0.8059529662132263, 0.038513485342264175, 0.9628371000289917, 0.13026030361652374, 0.7815617918968201, 0.9385766983032227, 0.04169291630387306, 0.9589370489120483, 0.8831557035446167, 0.18049077689647675, 0.9024538993835449, 0.9484630823135376, 0.952070415019989, 0.9487459063529968, 0.7062268853187561, 0.30266866087913513, 0.9756948947906494, 0.19315873086452484, 0.7726349234580994, 0.7963222861289978, 0.7280210256576538, 0.989974856376648, 0.154581218957901, 0.154581218957901, 0.7729060649871826, 0.9376382827758789, 0.985084056854248, 0.971612274646759, 0.9911152124404907, 0.9668808579444885, 0.06236455217003822, 0.9354682564735413, 0.7333979606628418, 0.9834923148155212, 0.945848286151886, 0.887538731098175, 0.9858843088150024, 0.9275150895118713, 0.9867121577262878, 0.892800509929657, 0.8711903095245361, 0.9697780013084412, 0.9476677179336548, 0.9339831471443176, 0.9278849363327026, 0.8271304965019226, 0.8796141147613525, 0.6734419465065002, 0.953041136264801, 0.9941422343254089, 0.9322935342788696, 0.09165484458208084, 0.916548490524292, 0.9597437977790833, 0.9776502847671509, 0.7732990980148315, 0.8850464820861816, 0.9731357097625732, 0.6437631249427795, 0.9743785858154297, 0.9380195140838623, 0.9737756848335266, 0.9821925759315491, 0.9841504693031311, 0.018630025908350945, 0.9873914122581482, 0.9795612692832947, 0.9226950407028198, 0.8363610506057739, 0.1596403270959854, 0.7982016205787659, 0.9287997484207153, 0.9417428970336914, 0.9422204494476318, 0.9357485771179199, 0.025325728580355644, 0.962377667427063, 0.9918429255485535, 0.800757110118866, 0.8628696203231812, 0.8891229033470154, 0.8452723026275635, 0.9783523082733154, 0.2269325703382492, 0.6807976961135864, 0.9164777398109436, 0.06527919322252274, 0.9139086604118347, 0.06211056187748909, 0.9316584467887878, 0.908202052116394, 0.9683901071548462, 0.025483950972557068, 0.9632752537727356, 0.9653497934341431, 0.9548738598823547, 0.94675213098526, 0.9196550846099854, 0.7756699323654175, 0.14103089272975922, 0.7280211448669434], \"Term\": [\"\\uac00\\ub054/Noun\", \"\\uac00\\uc7a5/Noun\", \"\\uac00\\uc871/Noun\", \"\\uac10\\uc131/Noun\", \"\\uac10\\uc815/Noun\", \"\\uac11\\uc790\\uae30/Noun\", \"\\uac1c\\uac15/Noun\", \"\\uac74\\uac00/Noun\", \"\\uaca8\\uc6b8/Noun\", \"\\uacbd\\uc6b0/Noun\", \"\\uacbd\\uc6b0/Noun\", \"\\uacbd\\ud5d8/Noun\", \"\\uacc4\\uae30/Noun\", \"\\uacc4\\uc18d/Noun\", \"\\uace0\\ubbfc/Noun\", \"\\uace0\\ubbfc/Noun\", \"\\uacf5\\ubd80/Noun\", \"\\uad00\\uacc4/Noun\", \"\\uad00\\uacc4\\uc790/Noun\", \"\\uad00\\uacc4\\uc790/Noun\", \"\\uadf8\\uac70/Noun\", \"\\uadf8\\uac83/Noun\", \"\\uadf8\\uac8c/Noun\", \"\\uadf8\\ub0e5/Noun\", \"\\uadf8\\ub54c/Noun\", \"\\uae30\\ub300/Noun\", \"\\uae30\\ub3c4/Noun\", \"\\uae30\\ubd84/Noun\", \"\\uae30\\uc5b5/Noun\", \"\\ub098\\uc911/Noun\", \"\\ub098\\uc911/Noun\", \"\\ub098\\uc911/Noun\", \"\\ub0b4\\uc77c/Noun\", \"\\ub178\\ub798/Noun\", \"\\ub178\\ub825/Noun\", \"\\ub204\\uac00/Noun\", \"\\ub204\\uad6c/Noun\", \"\\ub204\\uad70\\uac00/Noun\", \"\\ub290\\ub08c/Noun\", \"\\ub2e4\\ub978/Noun\", \"\\ub2e4\\uc2dc/Noun\", \"\\ub2e4\\uc74c/Noun\", \"\\ub2e4\\ud589/Noun\", \"\\ub2e8\\uc5b4/Noun\", \"\\ub2f9\\uc2dc/Noun\", \"\\ub300\\ub2f5/Noun\", \"\\ub300\\uc2e0/Noun\", \"\\ub300\\ud55c/Noun\", \"\\ub300\\ud654/Noun\", \"\\ub3c4\\uc6c0/Noun\", \"\\ub538\\uae30/Noun\", \"\\ub54c\\ubb38/Noun\", \"\\ub5a1\\ubcf6\\uc774/Noun\", \"\\ub85c\\ubd80\\ud130/Noun\", \"\\ub9c8\\uc74c/Noun\", \"\\ub9c8\\uc74c/Noun\", \"\\ub9c8\\uc9c0\\ub9c9/Noun\", \"\\ub9e4\\uc6b0/Noun\", \"\\uba3c\\uc800/Noun\", \"\\uba3c\\uc9c0/Noun\", \"\\ubaa8\\ub450/Noun\", \"\\ubaa8\\ub4e0/Noun\", \"\\ubaa8\\uc2b5/Noun\", \"\\ubaa8\\uc2b5/Noun\", \"\\ubaa9\\ud45c/Noun\", \"\\ubb34\\uc758\\uc2dd/Noun\", \"\\ubb38\\uc81c/Noun\", \"\\ubb54\\uac00/Noun\", \"\\ubb54\\uac00/Noun\", \"\\ubc14\\ub85c/Noun\", \"\\ubc29\\ubc95/Noun\", \"\\ubcc4\\ub85c/Noun\", \"\\ubcf4\\uace0/Noun\", \"\\ubcf4\\uae30/Noun\", \"\\ubd80\\uc0b0/Noun\", \"\\ubd80\\ud130/Noun\", \"\\uc0ac\\uace0/Noun\", \"\\uc0ac\\uace0/Noun\", \"\\uc0ac\\ub78c/Noun\", \"\\uc0ac\\ub791/Noun\", \"\\uc0ac\\uc2e4/Noun\", \"\\uc0ac\\uc6a9/Noun\", \"\\uc0ac\\uc9c4/Noun\", \"\\uc0ac\\ud68c/Noun\", \"\\uc0c1\\ub2f4/Noun\", \"\\uc0c1\\ucc98/Noun\", \"\\uc0c1\\ud669/Noun\", \"\\uc0dd\\uac01/Noun\", \"\\uc0dd\\uac01/Noun\", \"\\uc0dd\\uac01/Noun\", \"\\uc0dd\\uac01/Noun\", \"\\uc120\\ud0dd/Noun\", \"\\uc124\\uba85/Noun\", \"\\uc138\\uc0c1/Noun\", \"\\uc138\\uc0c1/Noun\", \"\\uc18c\\ub9ac/Noun\", \"\\uc190\\ud765\\ubbfc/Noun\", \"\\uc190\\ud765\\ubbfc/Noun\", \"\\uc190\\ud765\\ubbfc/Noun\", \"\\uc218\\ub3c4/Noun\", \"\\uc218\\ub3c4/Noun\", \"\\uc218\\uc5c5/Noun\", \"\\uc218\\uc5c5/Noun\", \"\\uc21c\\uac04/Noun\", \"\\uc21c\\uac04/Noun\", \"\\uc2a4\\uc2a4\\ub85c/Noun\", \"\\uc2dc\\uac04/Noun\", \"\\uc2dc\\uac04/Noun\", \"\\uc2dc\\uc791/Noun\", \"\\uc544\\ub9c8/Noun\", \"\\uc544\\ub9c8/Noun\", \"\\uc544\\ubb34/Noun\", \"\\uc544\\ube60/Noun\", \"\\uc544\\uc774/Noun\", \"\\uc544\\uc800\\uc528/Noun\", \"\\uc544\\uc800\\uc528/Noun\", \"\\uc544\\uc8fc/Noun\", \"\\uc544\\uce68/Noun\", \"\\uc544\\uce68/Noun\", \"\\uc560\\ucd08/Noun\", \"\\uc57d\\uac04/Noun\", \"\\uc598\\uae30/Noun\", \"\\uc5b4\\ub3c4/Noun\", \"\\uc5b4\\ub3c4/Noun\", \"\\uc5b4\\ub3c4/Noun\", \"\\uc5b4\\ub514/Noun\", \"\\uc5b4\\uc81c/Noun\", \"\\uc5b8\\uc81c/Noun\", \"\\uc5bc\\ub9c8\\ub098/Noun\", \"\\uc5c4\\ub9c8/Noun\", \"\\uc5ec\\ub984/Noun\", \"\\uc5ec\\ub984/Noun\", \"\\uc5ec\\ud589/Noun\", \"\\uc601\\ud5a5/Noun\", \"\\uc601\\ud654/Noun\", \"\\uc608\\uc804/Noun\", \"\\uc624\\ub298/Noun\", \"\\uc694\\uc0c8/Noun\", \"\\uc694\\uc998/Noun\", \"\\uc695\\ub9dd/Noun\", \"\\uc6b0\\ub9ac/Noun\", \"\\uc704\\ud574/Noun\", \"\\uc74c\\uc545/Noun\", \"\\uc758\\ubbf8/Noun\", \"\\uc758\\uc9c0/Noun\", \"\\uc774\\uc57c\\uae30/Noun\", \"\\uc774\\uc720/Noun\", \"\\uc774\\uc804/Noun\", \"\\uc774\\uc81c/Noun\", \"\\uc778\\uc0dd/Noun\", \"\\uc790\\uae30/Noun\", \"\\uc790\\uc2e0/Noun\", \"\\uc790\\uc2e0/Noun\", \"\\uc790\\uc8fc/Noun\", \"\\uc791\\ub144/Noun\", \"\\uc804\\ud654/Noun\", \"\\uc815\\ub3c4/Noun\", \"\\uc815\\ub9d0/Noun\", \"\\uc815\\uc2e0/Noun\", \"\\uc81c\\uc77c/Noun\", \"\\uc870\\uae08/Noun\", \"\\uc878\\uc5c5/Noun\", \"\\uc900\\ube44/Noun\", \"\\uc9c0\\uae08/Noun\", \"\\uc9c4\\uc9dc/Noun\", \"\\uc9c4\\uc9dc/Noun\", \"\\uc9c8\\ubb38/Noun\", \"\\uc9d1\\uc911/Noun\", \"\\ucc98\\uc74c/Noun\", \"\\uccab\\uc0ac\\ub791/Noun\", \"\\uccab\\uc0ac\\ub791/Noun\", \"\\ucd5c\\uace0/Noun\", \"\\ucd5c\\uace0\\ub2e4/Noun\", \"\\ucd5c\\uadfc/Noun\", \"\\ucd5c\\uc545/Noun\", \"\\uce5c\\uad6c/Noun\", \"\\uce5c\\uad6c/Noun\", \"\\ucee4\\ub9ac\\uc5b4/Noun\", \"\\ud06c\\uac8c/Noun\", \"\\ud0a4\\ud0a4/Noun\", \"\\ud1a0\\uc694\\uc77c/Noun\", \"\\ud1b5\\ud654/Noun\", \"\\ud3b8\\uc774/Noun\", \"\\ud3b8\\uc9c0/Noun\", \"\\ud3b8\\uc9c0/Noun\", \"\\ud45c\\ud604/Noun\", \"\\ud558\\ub098/Noun\", \"\\ud558\\ub098/Noun\", \"\\ud558\\ub8e8/Noun\", \"\\ud558\\ub8e8/Noun\", \"\\ud559\\uad50/Noun\", \"\\ud56d\\uc0c1/Noun\", \"\\ud56d\\uc0c1/Noun\", \"\\ud574\\ub3c4/Noun\", \"\\ud589\\ubcf5/Noun\", \"\\ud604\\uc2e4/Noun\", \"\\ud63c\\uc790/Noun\", \"\\ud654\\uc7a5\\uc2e4/Noun\", \"\\ud718\\ubbfc/Noun\", \"\\ud718\\ubbfc/Noun\", \"\\ud734\\ud559/Noun\"]}, \"R\": 30, \"lambda.step\": 0.01, \"plot.opts\": {\"xlab\": \"PC1\", \"ylab\": \"PC2\"}, \"topic.order\": [4, 5, 3, 1, 2]};\n",
       "\n",
       "function LDAvis_load_lib(url, callback){\n",
       "  var s = document.createElement('script');\n",
       "  s.src = url;\n",
       "  s.async = true;\n",
       "  s.onreadystatechange = s.onload = callback;\n",
       "  s.onerror = function(){console.warn(\"failed to load library \" + url);};\n",
       "  document.getElementsByTagName(\"head\")[0].appendChild(s);\n",
       "}\n",
       "\n",
       "if(typeof(LDAvis) !== \"undefined\"){\n",
       "   // already loaded: just create the visualization\n",
       "   !function(LDAvis){\n",
       "       new LDAvis(\"#\" + \"ldavis_el68441403982858261286014239521\", ldavis_el68441403982858261286014239521_data);\n",
       "   }(LDAvis);\n",
       "}else if(typeof define === \"function\" && define.amd){\n",
       "   // require.js is available: use it to load d3/LDAvis\n",
       "   require.config({paths: {d3: \"https://cdnjs.cloudflare.com/ajax/libs/d3/3.5.5/d3.min\"}});\n",
       "   require([\"d3\"], function(d3){\n",
       "      window.d3 = d3;\n",
       "      LDAvis_load_lib(\"https://cdn.rawgit.com/bmabey/pyLDAvis/files/ldavis.v1.0.0.js\", function(){\n",
       "        new LDAvis(\"#\" + \"ldavis_el68441403982858261286014239521\", ldavis_el68441403982858261286014239521_data);\n",
       "      });\n",
       "    });\n",
       "}else{\n",
       "    // require.js not available: dynamically load d3 & LDAvis\n",
       "    LDAvis_load_lib(\"https://cdnjs.cloudflare.com/ajax/libs/d3/3.5.5/d3.min.js\", function(){\n",
       "         LDAvis_load_lib(\"https://cdn.rawgit.com/bmabey/pyLDAvis/files/ldavis.v1.0.0.js\", function(){\n",
       "                 new LDAvis(\"#\" + \"ldavis_el68441403982858261286014239521\", ldavis_el68441403982858261286014239521_data);\n",
       "            })\n",
       "         });\n",
       "}\n",
       "</script>"
      ],
      "text/plain": [
       "PreparedData(topic_coordinates=                x           y  topics  cluster       Freq\n",
       "topic                                                    \n",
       "3      150.222153  -72.269554       1        1  29.407576\n",
       "4       51.163364 -159.968018       2        1  29.175297\n",
       "2      -73.144554   21.523815       3        1  21.376324\n",
       "0      -66.410133 -110.606438       4        1  10.025386\n",
       "1       54.417324   12.443444       5        1  10.015417, topic_info=          Term        Freq       Total Category  logprob  loglift\n",
       "74     사람/Noun  280.000000  280.000000  Default  30.0000  30.0000\n",
       "10     생각/Noun   75.000000   75.000000  Default  29.0000  29.0000\n",
       "350    마음/Noun   73.000000   73.000000  Default  28.0000  28.0000\n",
       "342    진짜/Noun   53.000000   53.000000  Default  27.0000  27.0000\n",
       "277    기억/Noun   51.000000   51.000000  Default  26.0000  26.0000\n",
       "...        ...         ...         ...      ...      ...      ...\n",
       "511    아마/Noun    4.555101    5.540449   Topic5  -5.0681   2.1052\n",
       "1522   건가/Noun    3.215436    3.928871   Topic5  -5.4164   2.1007\n",
       "1319  무의식/Noun    3.215426    3.928882   Topic5  -5.4164   2.1006\n",
       "107    어도/Noun    5.078575    6.469091   Topic5  -4.9593   2.0590\n",
       "319    편지/Noun    3.414546    4.406595   Topic5  -5.3563   2.0460\n",
       "\n",
       "[198 rows x 6 columns], token_table=      Topic      Freq      Term\n",
       "term                           \n",
       "463       3  0.976457   가끔/Noun\n",
       "20        1  0.983871   가장/Noun\n",
       "126       4  0.697405   가족/Noun\n",
       "1434      4  0.886281   감성/Noun\n",
       "479       2  0.968527   감정/Noun\n",
       "...     ...       ...       ...\n",
       "16        2  0.946752   혼자/Noun\n",
       "188       1  0.919655  화장실/Noun\n",
       "2474      1  0.775670   휘민/Noun\n",
       "2474      4  0.141031   휘민/Noun\n",
       "1063      5  0.728021   휴학/Noun\n",
       "\n",
       "[201 rows x 3 columns], R=30, lambda_step=0.01, plot_opts={'xlab': 'PC1', 'ylab': 'PC2'}, topic_order=[4, 5, 3, 1, 2])"
      ]
     },
     "execution_count": 26,
     "metadata": {},
     "output_type": "execute_result"
    }
   ],
   "source": [
    "corpus_lda = lda_ko[tfidf_ko]\n",
    "\n",
    "pyLDAvis.enable_notebook()\n",
    "panel = pyLDAvis.gensim.prepare(lda_ko, corpus_lda, dictionary_ko, mds='tsne')\n",
    "panel"
   ]
  },
  {
   "cell_type": "code",
   "execution_count": null,
   "metadata": {},
   "outputs": [],
   "source": []
  },
  {
   "cell_type": "code",
   "execution_count": 27,
   "metadata": {},
   "outputs": [],
   "source": [
    "def getNVM_lemma(text):\n",
    "    tokenizer = MeCab.Tagger()\n",
    "    parsed = tokenizer.parse(text)\n",
    "    word_tag = [w for w in parsed.split(\"\\n\")]\n",
    "    pos = []\n",
    "    tags = ['NNG','NNP','VV','VA', 'VX', 'VCP','VCN']\n",
    "    for word_ in word_tag[:-2]:\n",
    "        word = word_.split(\"\\t\")\n",
    "        tag = word[1].split(\",\")\n",
    "        if(len(word[0]) < 2) or (\"게\" in word[0]):\n",
    "            continue\n",
    "        if(tag[-1] != '*'):\n",
    "            t = tag[-1].split('/')\n",
    "            if(len(t[0]) > 1 and ('VV' in t[1] or 'VA' in t[1] or 'VX' in t[1])):\n",
    "                pos.append(t[0])\n",
    "        else:\n",
    "            if(tag[0] in tags):\n",
    "                pos.append(word[0])\n",
    "    return pos"
   ]
  },
  {
   "cell_type": "code",
   "execution_count": 28,
   "metadata": {},
   "outputs": [
    {
     "name": "stdout",
     "output_type": "stream",
     "text": [
      "Created 1005 X 845 document-term matrix\n"
     ]
    }
   ],
   "source": [
    "vectorizer = CountVectorizer(tokenizer=getNVM_lemma, min_df=2)\n",
    "x_counts = vectorizer.fit_transform(df['content'].values.astype('U'))\n",
    "print( \"Created %d X %d document-term matrix\" % (x_counts.shape[0], x_counts.shape[1]) )\n",
    "transformer = TfidfTransformer(smooth_idf=False);\n",
    "x_tfidf = transformer.fit_transform(x_counts);"
   ]
  },
  {
   "cell_type": "code",
   "execution_count": 29,
   "metadata": {},
   "outputs": [
    {
     "name": "stdout",
     "output_type": "stream",
     "text": [
      "Vocabulary has 845 distinct terms\n"
     ]
    }
   ],
   "source": [
    "terms = vectorizer.get_feature_names()\n",
    "print(\"Vocabulary has %d distinct terms\" % len(terms))"
   ]
  },
  {
   "cell_type": "code",
   "execution_count": 30,
   "metadata": {},
   "outputs": [
    {
     "data": {
      "text/plain": [
       "NMF(init='nndsvd', n_components=10)"
      ]
     },
     "execution_count": 30,
     "metadata": {},
     "output_type": "execute_result"
    }
   ],
   "source": [
    "xtfidf_norm = normalize(x_tfidf, norm='l1', axis=1)\n",
    "model = NMF(n_components=10, init='nndsvd');\n",
    "model.fit(xtfidf_norm)"
   ]
  },
  {
   "cell_type": "code",
   "execution_count": 34,
   "metadata": {},
   "outputs": [],
   "source": [
    "def get_nmf_topics(model, n_top_words):\n",
    "    \n",
    "    feat_names = vectorizer.get_feature_names()\n",
    "    \n",
    "    word_dict = {};\n",
    "    for i in range(num_topics):\n",
    "        \n",
    "        words_ids = model.components_[i].argsort()[:-10 - 1:-1]\n",
    "        words = [feat_names[key] for key in words_ids]\n",
    "        word_dict['Topic # ' + '{:02d}'.format(i+1)] = words;\n",
    "    \n",
    "    return pd.DataFrame(word_dict);"
   ]
  },
  {
   "cell_type": "code",
   "execution_count": 35,
   "metadata": {},
   "outputs": [
    {
     "data": {
      "text/html": [
       "<div>\n",
       "<style scoped>\n",
       "    .dataframe tbody tr th:only-of-type {\n",
       "        vertical-align: middle;\n",
       "    }\n",
       "\n",
       "    .dataframe tbody tr th {\n",
       "        vertical-align: top;\n",
       "    }\n",
       "\n",
       "    .dataframe thead th {\n",
       "        text-align: right;\n",
       "    }\n",
       "</style>\n",
       "<table border=\"1\" class=\"dataframe\">\n",
       "  <thead>\n",
       "    <tr style=\"text-align: right;\">\n",
       "      <th></th>\n",
       "      <th>Topic # 01</th>\n",
       "      <th>Topic # 02</th>\n",
       "      <th>Topic # 03</th>\n",
       "      <th>Topic # 04</th>\n",
       "      <th>Topic # 05</th>\n",
       "    </tr>\n",
       "  </thead>\n",
       "  <tbody>\n",
       "    <tr>\n",
       "      <th>0</th>\n",
       "      <td>생각</td>\n",
       "      <td>사람</td>\n",
       "      <td>모르</td>\n",
       "      <td>친구</td>\n",
       "      <td>어렵</td>\n",
       "    </tr>\n",
       "    <tr>\n",
       "      <th>1</th>\n",
       "      <td>행동</td>\n",
       "      <td>보이</td>\n",
       "      <td>돌아오</td>\n",
       "      <td>남자</td>\n",
       "      <td>성격</td>\n",
       "    </tr>\n",
       "    <tr>\n",
       "      <th>2</th>\n",
       "      <td>괜찮</td>\n",
       "      <td>만나</td>\n",
       "      <td>대답</td>\n",
       "      <td>대화</td>\n",
       "      <td>변하</td>\n",
       "    </tr>\n",
       "    <tr>\n",
       "      <th>3</th>\n",
       "      <td>예전</td>\n",
       "      <td>자신</td>\n",
       "      <td>바꾸</td>\n",
       "      <td>그렇</td>\n",
       "      <td>평생</td>\n",
       "    </tr>\n",
       "    <tr>\n",
       "      <th>4</th>\n",
       "      <td>들어오</td>\n",
       "      <td>힘들</td>\n",
       "      <td>만드</td>\n",
       "      <td>만나</td>\n",
       "      <td>고민</td>\n",
       "    </tr>\n",
       "    <tr>\n",
       "      <th>5</th>\n",
       "      <td>평생</td>\n",
       "      <td>편하</td>\n",
       "      <td>부탁</td>\n",
       "      <td>노래</td>\n",
       "      <td>만들</td>\n",
       "    </tr>\n",
       "    <tr>\n",
       "      <th>6</th>\n",
       "      <td>정도</td>\n",
       "      <td>버리</td>\n",
       "      <td>구체</td>\n",
       "      <td>힘들</td>\n",
       "      <td>질문</td>\n",
       "    </tr>\n",
       "    <tr>\n",
       "      <th>7</th>\n",
       "      <td>보이</td>\n",
       "      <td>이야기</td>\n",
       "      <td>도어</td>\n",
       "      <td>기쁘</td>\n",
       "      <td>택하</td>\n",
       "    </tr>\n",
       "    <tr>\n",
       "      <th>8</th>\n",
       "      <td>머리</td>\n",
       "      <td>목표</td>\n",
       "      <td>알아주</td>\n",
       "      <td>진심</td>\n",
       "      <td>에어컨</td>\n",
       "    </tr>\n",
       "    <tr>\n",
       "      <th>9</th>\n",
       "      <td>멋지</td>\n",
       "      <td>좋아하</td>\n",
       "      <td>따르</td>\n",
       "      <td>친하</td>\n",
       "      <td>요소</td>\n",
       "    </tr>\n",
       "  </tbody>\n",
       "</table>\n",
       "</div>"
      ],
      "text/plain": [
       "  Topic # 01 Topic # 02 Topic # 03 Topic # 04 Topic # 05\n",
       "0         생각         사람         모르         친구         어렵\n",
       "1         행동         보이        돌아오         남자         성격\n",
       "2         괜찮         만나         대답         대화         변하\n",
       "3         예전         자신         바꾸         그렇         평생\n",
       "4        들어오         힘들         만드         만나         고민\n",
       "5         평생         편하         부탁         노래         만들\n",
       "6         정도         버리         구체         힘들         질문\n",
       "7         보이        이야기         도어         기쁘         택하\n",
       "8         머리         목표        알아주         진심        에어컨\n",
       "9         멋지        좋아하         따르         친하         요소"
      ]
     },
     "execution_count": 35,
     "metadata": {},
     "output_type": "execute_result"
    }
   ],
   "source": [
    "num_topics = 5\n",
    "nmf_df = get_nmf_topics(model, 5)\n",
    "nmf_df"
   ]
  },
  {
   "cell_type": "code",
   "execution_count": 36,
   "metadata": {
    "scrolled": true
   },
   "outputs": [
    {
     "data": {
      "text/html": [
       "<div>\n",
       "<style scoped>\n",
       "    .dataframe tbody tr th:only-of-type {\n",
       "        vertical-align: middle;\n",
       "    }\n",
       "\n",
       "    .dataframe tbody tr th {\n",
       "        vertical-align: top;\n",
       "    }\n",
       "\n",
       "    .dataframe thead th {\n",
       "        text-align: right;\n",
       "    }\n",
       "</style>\n",
       "<table border=\"1\" class=\"dataframe\">\n",
       "  <thead>\n",
       "    <tr style=\"text-align: right;\">\n",
       "      <th></th>\n",
       "      <th>Topic # 01</th>\n",
       "      <th>Topic # 02</th>\n",
       "      <th>Topic # 03</th>\n",
       "      <th>Topic # 04</th>\n",
       "      <th>Topic # 05</th>\n",
       "      <th>Topic # 06</th>\n",
       "      <th>Topic # 07</th>\n",
       "      <th>Topic # 08</th>\n",
       "      <th>Topic # 09</th>\n",
       "      <th>Topic # 10</th>\n",
       "    </tr>\n",
       "  </thead>\n",
       "  <tbody>\n",
       "    <tr>\n",
       "      <th>0</th>\n",
       "      <td>생각</td>\n",
       "      <td>사람</td>\n",
       "      <td>모르</td>\n",
       "      <td>친구</td>\n",
       "      <td>어렵</td>\n",
       "      <td>사랑</td>\n",
       "      <td>배우</td>\n",
       "      <td>시간</td>\n",
       "      <td>행복</td>\n",
       "      <td>학교</td>\n",
       "    </tr>\n",
       "    <tr>\n",
       "      <th>1</th>\n",
       "      <td>행동</td>\n",
       "      <td>보이</td>\n",
       "      <td>돌아오</td>\n",
       "      <td>남자</td>\n",
       "      <td>성격</td>\n",
       "      <td>엄마</td>\n",
       "      <td>재미</td>\n",
       "      <td>일어나</td>\n",
       "      <td>인생</td>\n",
       "      <td>파이</td>\n",
       "    </tr>\n",
       "    <tr>\n",
       "      <th>2</th>\n",
       "      <td>괜찮</td>\n",
       "      <td>만나</td>\n",
       "      <td>대답</td>\n",
       "      <td>대화</td>\n",
       "      <td>변하</td>\n",
       "      <td>원망</td>\n",
       "      <td>가르침</td>\n",
       "      <td>버스</td>\n",
       "      <td>아름답</td>\n",
       "      <td>형태</td>\n",
       "    </tr>\n",
       "    <tr>\n",
       "      <th>3</th>\n",
       "      <td>예전</td>\n",
       "      <td>자신</td>\n",
       "      <td>바꾸</td>\n",
       "      <td>그렇</td>\n",
       "      <td>평생</td>\n",
       "      <td>아니</td>\n",
       "      <td>가르치</td>\n",
       "      <td>자신</td>\n",
       "      <td>하당</td>\n",
       "      <td>공연</td>\n",
       "    </tr>\n",
       "    <tr>\n",
       "      <th>4</th>\n",
       "      <td>들어오</td>\n",
       "      <td>힘들</td>\n",
       "      <td>만드</td>\n",
       "      <td>만나</td>\n",
       "      <td>고민</td>\n",
       "      <td>신뢰</td>\n",
       "      <td>감사</td>\n",
       "      <td>지나</td>\n",
       "      <td>건강</td>\n",
       "      <td>연극</td>\n",
       "    </tr>\n",
       "    <tr>\n",
       "      <th>5</th>\n",
       "      <td>평생</td>\n",
       "      <td>편하</td>\n",
       "      <td>부탁</td>\n",
       "      <td>노래</td>\n",
       "      <td>만들</td>\n",
       "      <td>갔다오</td>\n",
       "      <td>반성</td>\n",
       "      <td>기대</td>\n",
       "      <td>아니</td>\n",
       "      <td>리스트</td>\n",
       "    </tr>\n",
       "    <tr>\n",
       "      <th>6</th>\n",
       "      <td>정도</td>\n",
       "      <td>버리</td>\n",
       "      <td>구체</td>\n",
       "      <td>힘들</td>\n",
       "      <td>질문</td>\n",
       "      <td>대신</td>\n",
       "      <td>악기</td>\n",
       "      <td>수업</td>\n",
       "      <td>미치</td>\n",
       "      <td>소원</td>\n",
       "    </tr>\n",
       "    <tr>\n",
       "      <th>7</th>\n",
       "      <td>보이</td>\n",
       "      <td>이야기</td>\n",
       "      <td>도어</td>\n",
       "      <td>기쁘</td>\n",
       "      <td>택하</td>\n",
       "      <td>재미</td>\n",
       "      <td>입학</td>\n",
       "      <td>오늘</td>\n",
       "      <td>평생</td>\n",
       "      <td>알차</td>\n",
       "    </tr>\n",
       "    <tr>\n",
       "      <th>8</th>\n",
       "      <td>머리</td>\n",
       "      <td>목표</td>\n",
       "      <td>알아주</td>\n",
       "      <td>진심</td>\n",
       "      <td>에어컨</td>\n",
       "      <td>능력</td>\n",
       "      <td>대학</td>\n",
       "      <td>돌아보</td>\n",
       "      <td>하루</td>\n",
       "      <td>피곤</td>\n",
       "    </tr>\n",
       "    <tr>\n",
       "      <th>9</th>\n",
       "      <td>멋지</td>\n",
       "      <td>좋아하</td>\n",
       "      <td>따르</td>\n",
       "      <td>친하</td>\n",
       "      <td>요소</td>\n",
       "      <td>마음</td>\n",
       "      <td>여유</td>\n",
       "      <td>통화</td>\n",
       "      <td>진심</td>\n",
       "      <td>만나</td>\n",
       "    </tr>\n",
       "  </tbody>\n",
       "</table>\n",
       "</div>"
      ],
      "text/plain": [
       "  Topic # 01 Topic # 02 Topic # 03 Topic # 04 Topic # 05 Topic # 06  \\\n",
       "0         생각         사람         모르         친구         어렵         사랑   \n",
       "1         행동         보이        돌아오         남자         성격         엄마   \n",
       "2         괜찮         만나         대답         대화         변하         원망   \n",
       "3         예전         자신         바꾸         그렇         평생         아니   \n",
       "4        들어오         힘들         만드         만나         고민         신뢰   \n",
       "5         평생         편하         부탁         노래         만들        갔다오   \n",
       "6         정도         버리         구체         힘들         질문         대신   \n",
       "7         보이        이야기         도어         기쁘         택하         재미   \n",
       "8         머리         목표        알아주         진심        에어컨         능력   \n",
       "9         멋지        좋아하         따르         친하         요소         마음   \n",
       "\n",
       "  Topic # 07 Topic # 08 Topic # 09 Topic # 10  \n",
       "0         배우         시간         행복         학교  \n",
       "1         재미        일어나         인생         파이  \n",
       "2        가르침         버스        아름답         형태  \n",
       "3        가르치         자신         하당         공연  \n",
       "4         감사         지나         건강         연극  \n",
       "5         반성         기대         아니        리스트  \n",
       "6         악기         수업         미치         소원  \n",
       "7         입학         오늘         평생         알차  \n",
       "8         대학        돌아보         하루         피곤  \n",
       "9         여유         통화         진심         만나  "
      ]
     },
     "execution_count": 36,
     "metadata": {},
     "output_type": "execute_result"
    }
   ],
   "source": [
    "num_topics = 10\n",
    "nmf_df = get_nmf_topics(model, 5)\n",
    "nmf_df"
   ]
  }
 ],
 "metadata": {
  "kernelspec": {
   "display_name": "Python 3",
   "language": "python",
   "name": "python3"
  },
  "language_info": {
   "codemirror_mode": {
    "name": "ipython",
    "version": 3
   },
   "file_extension": ".py",
   "mimetype": "text/x-python",
   "name": "python",
   "nbconvert_exporter": "python",
   "pygments_lexer": "ipython3",
   "version": "3.7.7"
  }
 },
 "nbformat": 4,
 "nbformat_minor": 4
}
