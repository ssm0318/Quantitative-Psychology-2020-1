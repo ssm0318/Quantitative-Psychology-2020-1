{
 "cells": [
  {
   "cell_type": "code",
   "execution_count": 5,
   "metadata": {},
   "outputs": [
    {
     "data": {
      "text/html": [
       "<div>\n",
       "<style scoped>\n",
       "    .dataframe tbody tr th:only-of-type {\n",
       "        vertical-align: middle;\n",
       "    }\n",
       "\n",
       "    .dataframe tbody tr th {\n",
       "        vertical-align: top;\n",
       "    }\n",
       "\n",
       "    .dataframe thead th {\n",
       "        text-align: right;\n",
       "    }\n",
       "</style>\n",
       "<table border=\"1\" class=\"dataframe\">\n",
       "  <thead>\n",
       "    <tr style=\"text-align: right;\">\n",
       "      <th></th>\n",
       "      <th>ResponseId</th>\n",
       "      <th>TargetId</th>\n",
       "      <th>QualtricsId</th>\n",
       "      <th>IPAddress</th>\n",
       "      <th>Latitude</th>\n",
       "      <th>Longitude</th>\n",
       "      <th>StartDate_1</th>\n",
       "      <th>EndDate_1</th>\n",
       "      <th>StartDate_2</th>\n",
       "      <th>EndDate_2</th>\n",
       "      <th>...</th>\n",
       "      <th>SMS_ams</th>\n",
       "      <th>SMS_seb</th>\n",
       "      <th>SMS</th>\n",
       "      <th>GP5</th>\n",
       "      <th>SOAS</th>\n",
       "      <th>ESS</th>\n",
       "      <th>CR</th>\n",
       "      <th>HEXACO60</th>\n",
       "      <th>NCS6</th>\n",
       "      <th>SAS</th>\n",
       "    </tr>\n",
       "  </thead>\n",
       "  <tbody>\n",
       "    <tr>\n",
       "      <th>0</th>\n",
       "      <td>1</td>\n",
       "      <td>1</td>\n",
       "      <td>R_12unZMHjJEzjU7w</td>\n",
       "      <td>223.38.21.205</td>\n",
       "      <td>37.598495</td>\n",
       "      <td>126.978302</td>\n",
       "      <td>3/17/20 12:32</td>\n",
       "      <td>3/17/20 12:40</td>\n",
       "      <td>3/17/20 12:40</td>\n",
       "      <td>3/17/20 12:47</td>\n",
       "      <td>...</td>\n",
       "      <td>22.0</td>\n",
       "      <td>21.0</td>\n",
       "      <td>43.0</td>\n",
       "      <td>19.0</td>\n",
       "      <td>55.0</td>\n",
       "      <td>12.0</td>\n",
       "      <td>21.0</td>\n",
       "      <td>28.0</td>\n",
       "      <td>22.0</td>\n",
       "      <td>41.0</td>\n",
       "    </tr>\n",
       "    <tr>\n",
       "      <th>1</th>\n",
       "      <td>2</td>\n",
       "      <td>2</td>\n",
       "      <td>R_1MPUDZpgLwIxe1A</td>\n",
       "      <td>175.223.22.95</td>\n",
       "      <td>37.598495</td>\n",
       "      <td>126.978302</td>\n",
       "      <td>3/18/20 11:17</td>\n",
       "      <td>3/18/20 11:25</td>\n",
       "      <td>3/18/20 11:26</td>\n",
       "      <td>3/18/20 11:29</td>\n",
       "      <td>...</td>\n",
       "      <td>22.0</td>\n",
       "      <td>17.0</td>\n",
       "      <td>39.0</td>\n",
       "      <td>15.0</td>\n",
       "      <td>60.0</td>\n",
       "      <td>18.0</td>\n",
       "      <td>11.0</td>\n",
       "      <td>27.0</td>\n",
       "      <td>18.0</td>\n",
       "      <td>37.0</td>\n",
       "    </tr>\n",
       "    <tr>\n",
       "      <th>2</th>\n",
       "      <td>3</td>\n",
       "      <td>2</td>\n",
       "      <td>R_29nM2ZnVIpXduHk</td>\n",
       "      <td>183.104.122.33</td>\n",
       "      <td>35.268005</td>\n",
       "      <td>128.839813</td>\n",
       "      <td>3/18/20 10:29</td>\n",
       "      <td>3/18/20 10:42</td>\n",
       "      <td>3/18/20 10:42</td>\n",
       "      <td>3/18/20 11:17</td>\n",
       "      <td>...</td>\n",
       "      <td>21.0</td>\n",
       "      <td>22.0</td>\n",
       "      <td>43.0</td>\n",
       "      <td>19.0</td>\n",
       "      <td>48.0</td>\n",
       "      <td>15.0</td>\n",
       "      <td>17.0</td>\n",
       "      <td>29.0</td>\n",
       "      <td>25.0</td>\n",
       "      <td>22.0</td>\n",
       "    </tr>\n",
       "    <tr>\n",
       "      <th>3</th>\n",
       "      <td>4</td>\n",
       "      <td>2</td>\n",
       "      <td>R_2BsWkDHnnRpZoQ3</td>\n",
       "      <td>211.109.158.40</td>\n",
       "      <td>37.598495</td>\n",
       "      <td>126.978302</td>\n",
       "      <td>3/17/20 21:46</td>\n",
       "      <td>3/17/20 21:59</td>\n",
       "      <td>3/17/20 21:59</td>\n",
       "      <td>3/17/20 22:06</td>\n",
       "      <td>...</td>\n",
       "      <td>18.0</td>\n",
       "      <td>12.0</td>\n",
       "      <td>30.0</td>\n",
       "      <td>20.0</td>\n",
       "      <td>48.0</td>\n",
       "      <td>14.0</td>\n",
       "      <td>10.0</td>\n",
       "      <td>25.0</td>\n",
       "      <td>22.0</td>\n",
       "      <td>35.0</td>\n",
       "    </tr>\n",
       "    <tr>\n",
       "      <th>4</th>\n",
       "      <td>5</td>\n",
       "      <td>2</td>\n",
       "      <td>R_27NBh3oSecWIT6D</td>\n",
       "      <td>211.224.126.112</td>\n",
       "      <td>35.872299</td>\n",
       "      <td>128.592407</td>\n",
       "      <td>3/18/20 10:19</td>\n",
       "      <td>3/18/20 10:35</td>\n",
       "      <td>3/18/20 10:36</td>\n",
       "      <td>3/18/20 10:46</td>\n",
       "      <td>...</td>\n",
       "      <td>20.0</td>\n",
       "      <td>18.0</td>\n",
       "      <td>38.0</td>\n",
       "      <td>18.0</td>\n",
       "      <td>49.0</td>\n",
       "      <td>20.0</td>\n",
       "      <td>19.0</td>\n",
       "      <td>34.0</td>\n",
       "      <td>19.0</td>\n",
       "      <td>34.0</td>\n",
       "    </tr>\n",
       "  </tbody>\n",
       "</table>\n",
       "<p>5 rows × 64 columns</p>\n",
       "</div>"
      ],
      "text/plain": [
       "   ResponseId  TargetId        QualtricsId        IPAddress   Latitude  \\\n",
       "0           1         1  R_12unZMHjJEzjU7w    223.38.21.205  37.598495   \n",
       "1           2         2  R_1MPUDZpgLwIxe1A    175.223.22.95  37.598495   \n",
       "2           3         2  R_29nM2ZnVIpXduHk   183.104.122.33  35.268005   \n",
       "3           4         2  R_2BsWkDHnnRpZoQ3   211.109.158.40  37.598495   \n",
       "4           5         2  R_27NBh3oSecWIT6D  211.224.126.112  35.872299   \n",
       "\n",
       "    Longitude    StartDate_1      EndDate_1    StartDate_2      EndDate_2  \\\n",
       "0  126.978302  3/17/20 12:32  3/17/20 12:40  3/17/20 12:40  3/17/20 12:47   \n",
       "1  126.978302  3/18/20 11:17  3/18/20 11:25  3/18/20 11:26  3/18/20 11:29   \n",
       "2  128.839813  3/18/20 10:29  3/18/20 10:42  3/18/20 10:42  3/18/20 11:17   \n",
       "3  126.978302  3/17/20 21:46  3/17/20 21:59  3/17/20 21:59  3/17/20 22:06   \n",
       "4  128.592407  3/18/20 10:19  3/18/20 10:35  3/18/20 10:36  3/18/20 10:46   \n",
       "\n",
       "   ... SMS_ams SMS_seb   SMS   GP5  SOAS   ESS    CR HEXACO60  NCS6   SAS  \n",
       "0  ...    22.0    21.0  43.0  19.0  55.0  12.0  21.0     28.0  22.0  41.0  \n",
       "1  ...    22.0    17.0  39.0  15.0  60.0  18.0  11.0     27.0  18.0  37.0  \n",
       "2  ...    21.0    22.0  43.0  19.0  48.0  15.0  17.0     29.0  25.0  22.0  \n",
       "3  ...    18.0    12.0  30.0  20.0  48.0  14.0  10.0     25.0  22.0  35.0  \n",
       "4  ...    20.0    18.0  38.0  18.0  49.0  20.0  19.0     34.0  19.0  34.0  \n",
       "\n",
       "[5 rows x 64 columns]"
      ]
     },
     "execution_count": 5,
     "metadata": {},
     "output_type": "execute_result"
    }
   ],
   "source": [
    "import pandas as pd\n",
    "import numpy as np\n",
    "import matplotlib.pyplot as plt\n",
    "import seaborn as sns\n",
    "import copy\n",
    "plt.style.use('fivethirtyeight')\n",
    "import warnings\n",
    "warnings.filterwarnings('ignore')\n",
    "%matplotlib inline"
   ]
  },
  {
   "cell_type": "code",
   "execution_count": null,
   "metadata": {},
   "outputs": [],
   "source": [
    "# Read data\n",
    "data = pd.read_csv('results_compilation.csv')\n",
    "data.head()"
   ]
  },
  {
   "cell_type": "code",
   "execution_count": 40,
   "metadata": {},
   "outputs": [
    {
     "name": "stdout",
     "output_type": "stream",
     "text": [
      "<class 'pandas.core.frame.DataFrame'>\n",
      "RangeIndex: 90 entries, 0 to 89\n",
      "Data columns (total 64 columns):\n",
      "ResponseId       90 non-null int64\n",
      "TargetId         90 non-null int64\n",
      "QualtricsId      90 non-null object\n",
      "IPAddress        90 non-null object\n",
      "Latitude         90 non-null float64\n",
      "Longitude        90 non-null float64\n",
      "StartDate_1      89 non-null object\n",
      "EndDate_1        89 non-null object\n",
      "StartDate_2      77 non-null object\n",
      "EndDate_2        77 non-null object\n",
      "StartDate_3      71 non-null object\n",
      "EndDate_3        71 non-null object\n",
      "Complete         90 non-null bool\n",
      "ID               90 non-null object\n",
      "SurveyType       90 non-null int64\n",
      "Relationship     47 non-null float64\n",
      "Age              89 non-null float64\n",
      "Gender           90 non-null object\n",
      "Religion         89 non-null float64\n",
      "Duration_1       89 non-null float64\n",
      "Duration_2       77 non-null float64\n",
      "Duration_3       71 non-null float64\n",
      "DurationTotal    72 non-null float64\n",
      "guess_1          53 non-null float64\n",
      "guess_2          42 non-null float64\n",
      "guess_3          32 non-null float64\n",
      "FS               89 non-null float64\n",
      "BFI_O            89 non-null float64\n",
      "BFI_C            89 non-null float64\n",
      "BFI_N            89 non-null float64\n",
      "BFI_E            89 non-null float64\n",
      "BFI_A            89 non-null float64\n",
      "PCS9             89 non-null float64\n",
      "ERQ10_c          89 non-null float64\n",
      "ERQ10_e          89 non-null float64\n",
      "ERQ10            89 non-null float64\n",
      "RPS              89 non-null float64\n",
      "BPAQSF           89 non-null float64\n",
      "ADHDRS           89 non-null float64\n",
      "NPI16            89 non-null float64\n",
      "RFQ_m            89 non-null float64\n",
      "RFQ_v            89 non-null float64\n",
      "RFQ              89 non-null float64\n",
      "LOC13            76 non-null float64\n",
      "BPSSR_I          77 non-null float64\n",
      "BPSSR_I5         77 non-null float64\n",
      "BPSSR_E          77 non-null float64\n",
      "BPSSR_Amb        77 non-null float64\n",
      "BPSSR            76 non-null float64\n",
      "BRCS             76 non-null float64\n",
      "CAMSR            76 non-null float64\n",
      "CEI              76 non-null float64\n",
      "BRS              76 non-null float64\n",
      "ZBS              76 non-null float64\n",
      "SMS_ams          76 non-null float64\n",
      "SMS_seb          76 non-null float64\n",
      "SMS              76 non-null float64\n",
      "GP5              76 non-null float64\n",
      "SOAS             76 non-null float64\n",
      "ESS              71 non-null float64\n",
      "CR               71 non-null float64\n",
      "HEXACO60         71 non-null float64\n",
      "NCS6             71 non-null float64\n",
      "SAS              71 non-null float64\n",
      "dtypes: bool(1), float64(50), int64(3), object(10)\n",
      "memory usage: 44.5+ KB\n",
      "None\n"
     ]
    }
   ],
   "source": [
    "# Data Frame Info\n",
    "print(data.info())"
   ]
  },
  {
   "cell_type": "code",
   "execution_count": null,
   "metadata": {},
   "outputs": [],
   "source": [
    "# Number of NULL data for each column\n",
    "data.isnull().sum()"
   ]
  },
  {
   "cell_type": "code",
   "execution_count": 6,
   "metadata": {},
   "outputs": [
    {
     "name": "stdout",
     "output_type": "stream",
     "text": [
      "['ResponseId' 'TargetId' 'QualtricsId' 'IPAddress' 'Latitude' 'Longitude'\n",
      " 'StartDate_1' 'EndDate_1' 'StartDate_2' 'EndDate_2' 'StartDate_3'\n",
      " 'EndDate_3' 'Complete' 'ID' 'SurveyType' 'Relationship' 'Age' 'Gender'\n",
      " 'Religion' 'Duration_1' 'Duration_2' 'Duration_3' 'DurationTotal'\n",
      " 'guess_1' 'guess_2' 'guess_3' 'FS' 'BFI_O' 'BFI_C' 'BFI_N' 'BFI_E'\n",
      " 'BFI_A' 'PCS9' 'ERQ10_c' 'ERQ10_e' 'ERQ10' 'RPS' 'BPAQSF' 'ADHDRS'\n",
      " 'NPI16' 'RFQ_m' 'RFQ_v' 'RFQ' 'LOC13' 'BPSSR_I' 'BPSSR_I5' 'BPSSR_E'\n",
      " 'BPSSR_Amb' 'BPSSR' 'BRCS' 'CAMSR' 'CEI' 'BRS' 'ZBS' 'SMS_ams' 'SMS_seb'\n",
      " 'SMS' 'GP5' 'SOAS' 'ESS' 'CR' 'HEXACO60' 'NCS6' 'SAS']\n"
     ]
    }
   ],
   "source": [
    "# Column Values\n",
    "print(data.columns.values)"
   ]
  },
  {
   "cell_type": "code",
   "execution_count": 12,
   "metadata": {},
   "outputs": [
    {
     "data": {
      "image/png": "[encoded data removed]",
      "text/plain": [
       "<Figure size 432x288 with 1 Axes>"
      ]
     },
     "metadata": {
      "needs_background": "light"
     },
     "output_type": "display_data"
    }
   ],
   "source": [
    "# Number of Responses by Survey Type\n",
    "sns.countplot('SurveyType', data=data)\n",
    "plt.show()\n",
    "# data['SurveyType'].value_counts().plot.pie(explode=[0, 0.1], autopct='%1.1f%%')"
   ]
  },
  {
   "cell_type": "code",
   "execution_count": 32,
   "metadata": {},
   "outputs": [
    {
     "data": {
      "text/plain": [
       "Gender  Religion\n",
       "F       1.0          1\n",
       "        2.0          7\n",
       "        3.0          7\n",
       "        7.0         14\n",
       "M       2.0          1\n",
       "        3.0          1\n",
       "        7.0          9\n",
       "UND     7.0          2\n",
       "Name: Religion, dtype: int64"
      ]
     },
     "execution_count": 32,
     "metadata": {},
     "output_type": "execute_result"
    }
   ],
   "source": [
    "# Report on Self\n",
    "is_self = data[data['SurveyType']==1]\n",
    "is_self.groupby(['Gender', 'Religion'])['Religion'].count()"
   ]
  },
  {
   "cell_type": "code",
   "execution_count": 38,
   "metadata": {},
   "outputs": [
    {
     "data": {
      "text/plain": [
       "Gender  Relationship\n",
       "F       1.0             22\n",
       "        2.0             10\n",
       "        3.0              3\n",
       "M       1.0              6\n",
       "        2.0              1\n",
       "        3.0              5\n",
       "Name: Relationship, dtype: int64"
      ]
     },
     "execution_count": 38,
     "metadata": {},
     "output_type": "execute_result"
    }
   ],
   "source": [
    "# Report on Other\n",
    "is_other = data[data['SurveyType']==2]\n",
    "is_other.groupby(['Gender', 'Relationship'])['Relationship'].count()"
   ]
  },
  {
   "cell_type": "code",
   "execution_count": 36,
   "metadata": {},
   "outputs": [
    {
     "data": {
      "image/png": "[encoded data removed]",
      "text/plain": [
       "<Figure size 432x288 with 1 Axes>"
      ]
     },
     "metadata": {
      "needs_background": "light"
     },
     "output_type": "display_data"
    }
   ],
   "source": [
    "sns.countplot('Gender', data=is_self)\n",
    "plt.show()"
   ]
  },
  {
   "cell_type": "code",
   "execution_count": 39,
   "metadata": {},
   "outputs": [
    {
     "data": {
      "image/png": "[encoded data removed]",
      "text/plain": [
       "<Figure size 432x288 with 1 Axes>"
      ]
     },
     "metadata": {
      "needs_background": "light"
     },
     "output_type": "display_data"
    }
   ],
   "source": [
    "sns.countplot('Gender', data=is_other)\n",
    "plt.show()"
   ]
  },
  {
   "cell_type": "code",
   "execution_count": 42,
   "metadata": {},
   "outputs": [
    {
     "data": {
      "text/plain": [
       "<matplotlib.axes._subplots.AxesSubplot at 0x7fe30cf1c860>"
      ]
     },
     "execution_count": 42,
     "metadata": {},
     "output_type": "execute_result"
    },
    {
     "data": {
      "image/png": "[encoded data removed]",
      "text/plain": [
       "<Figure size 360x432 with 1 Axes>"
      ]
     },
     "metadata": {
      "needs_background": "light"
     },
     "output_type": "display_data"
    }
   ],
   "source": [
    "# Elapsed Time by Survey Type\n",
    "data.boxplot('DurationTotal', 'SurveyType', rot=30, figsize=(5,6))"
   ]
  },
  {
   "cell_type": "code",
   "execution_count": null,
   "metadata": {},
   "outputs": [],
   "source": []
  }
 ],
 "metadata": {
  "kernelspec": {
   "display_name": "Python 3",
   "language": "python",
   "name": "python3"
  },
  "language_info": {
   "codemirror_mode": {
    "name": "ipython",
    "version": 3
   },
   "file_extension": ".py",
   "mimetype": "text/x-python",
   "name": "python",
   "nbconvert_exporter": "python",
   "pygments_lexer": "ipython3",
   "version": "3.5.2"
  }
 },
 "nbformat": 4,
 "nbformat_minor": 2
}
