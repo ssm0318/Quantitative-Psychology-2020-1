{
 "cells": [
  {
   "cell_type": "code",
   "execution_count": 1,
   "metadata": {},
   "outputs": [
    {
     "name": "stderr",
     "output_type": "stream",
     "text": [
      "/Users/gimjaewon/opt/anaconda3/envs/venv/lib/python3.7/site-packages/botocore/vendored/requests/packages/urllib3/_collections.py:1: DeprecationWarning: Using or importing the ABCs from 'collections' instead of from 'collections.abc' is deprecated since Python 3.3,and in 3.9 it will stop working\n",
      "  from collections import Mapping, MutableMapping\n",
      "/Users/gimjaewon/opt/anaconda3/envs/venv/lib/python3.7/site-packages/botocore/vendored/requests/packages/urllib3/_collections.py:1: DeprecationWarning: Using or importing the ABCs from 'collections' instead of from 'collections.abc' is deprecated since Python 3.3,and in 3.9 it will stop working\n",
      "  from collections import Mapping, MutableMapping\n",
      "/Users/gimjaewon/opt/anaconda3/envs/venv/lib/python3.7/site-packages/scipy/sparse/sparsetools.py:21: DeprecationWarning: `scipy.sparse.sparsetools` is deprecated!\n",
      "scipy.sparse.sparsetools is a private module for scipy.sparse, and should not be used.\n",
      "  _deprecated()\n",
      "/Users/gimjaewon/opt/anaconda3/envs/venv/lib/python3.7/site-packages/gensim/models/doc2vec.py:73: DeprecationWarning: Using or importing the ABCs from 'collections' instead of from 'collections.abc' is deprecated since Python 3.3,and in 3.9 it will stop working\n",
      "  from collections import namedtuple, defaultdict, Iterable\n"
     ]
    }
   ],
   "source": [
    "import warnings\n",
    "warnings.filterwarnings('ignore')\n",
    "\n",
    "import pandas as pd\n",
    "import matplotlib\n",
    "import matplotlib.pyplot as plt\n",
    "import matplotlib.font_manager as fm\n",
    "import numpy as np; np.random.seed(42)\n",
    "import seaborn as sns\n",
    "\n",
    "import pyLDAvis\n",
    "import pyLDAvis.gensim\n",
    "from collections import OrderedDict\n",
    "from itertools import combinations\n",
    "import MeCab\n",
    "from konlpy.tag import *\n",
    "import nltk\n",
    "from nltk.corpus import stopwords\n",
    "from gensim import corpora, models\n",
    "from sklearn.feature_extraction.text import CountVectorizer, TfidfTransformer\n",
    "from sklearn.decomposition import NMF, LatentDirichletAllocation, TruncatedSVD\n",
    "from sklearn.preprocessing import normalize;\n",
    "from sklearn import decomposition;"
   ]
  },
  {
   "cell_type": "code",
   "execution_count": 2,
   "metadata": {},
   "outputs": [
    {
     "data": {
      "text/html": [
       "<div>\n",
       "<style scoped>\n",
       "    .dataframe tbody tr th:only-of-type {\n",
       "        vertical-align: middle;\n",
       "    }\n",
       "\n",
       "    .dataframe tbody tr th {\n",
       "        vertical-align: top;\n",
       "    }\n",
       "\n",
       "    .dataframe thead th {\n",
       "        text-align: right;\n",
       "    }\n",
       "</style>\n",
       "<table border=\"1\" class=\"dataframe\">\n",
       "  <thead>\n",
       "    <tr style=\"text-align: right;\">\n",
       "      <th></th>\n",
       "      <th>adoor</th>\n",
       "      <th>SNS</th>\n",
       "      <th>SNS 아이디</th>\n",
       "      <th>private</th>\n",
       "      <th>created_at</th>\n",
       "      <th>photo</th>\n",
       "      <th>content</th>\n",
       "    </tr>\n",
       "  </thead>\n",
       "  <tbody>\n",
       "    <tr>\n",
       "      <th>0</th>\n",
       "      <td>2</td>\n",
       "      <td>facebook</td>\n",
       "      <td>김유리</td>\n",
       "      <td>False</td>\n",
       "      <td>2019-02-08</td>\n",
       "      <td>홍보</td>\n",
       "      <td>저와 팀원들이 영혼을 갈아넣은 서비스 베타버전이 드디어 나왔어요!!🤩\\n밤잠을 줄여...</td>\n",
       "    </tr>\n",
       "    <tr>\n",
       "      <th>1</th>\n",
       "      <td>2</td>\n",
       "      <td>instagram</td>\n",
       "      <td>nnnyu_ri</td>\n",
       "      <td>False</td>\n",
       "      <td>2019-02-08</td>\n",
       "      <td>홍보</td>\n",
       "      <td>https://adoor.app @adoor.team\\n저와 팀원들이 영혼을 갈아넣...</td>\n",
       "    </tr>\n",
       "    <tr>\n",
       "      <th>2</th>\n",
       "      <td>2</td>\n",
       "      <td>instagram</td>\n",
       "      <td>yulo_mon</td>\n",
       "      <td>True</td>\n",
       "      <td>2019-02-07</td>\n",
       "      <td>가족, 아기, 강아지</td>\n",
       "      <td>카조꾸또 잇쇼니 토떼모 우레시깟딴데쓰</td>\n",
       "    </tr>\n",
       "    <tr>\n",
       "      <th>3</th>\n",
       "      <td>2</td>\n",
       "      <td>instagram</td>\n",
       "      <td>yulo_mon</td>\n",
       "      <td>True</td>\n",
       "      <td>2019-02-25</td>\n",
       "      <td>일상</td>\n",
       "      <td>🙋🏻‍♀️</td>\n",
       "    </tr>\n",
       "    <tr>\n",
       "      <th>4</th>\n",
       "      <td>2</td>\n",
       "      <td>instagram</td>\n",
       "      <td>yulo_mon</td>\n",
       "      <td>True</td>\n",
       "      <td>2019-03-02</td>\n",
       "      <td>나들이</td>\n",
       "      <td>필름캐머러 첫 롤 사진들1\\n수라미가 준 로모그래피 심플유즈 기본 장착 컬러네거티브...</td>\n",
       "    </tr>\n",
       "  </tbody>\n",
       "</table>\n",
       "</div>"
      ],
      "text/plain": [
       "  adoor        SNS   SNS 아이디 private created_at        photo  \\\n",
       "0     2   facebook       김유리   False 2019-02-08           홍보   \n",
       "1     2  instagram  nnnyu_ri   False 2019-02-08           홍보   \n",
       "2     2  instagram  yulo_mon    True 2019-02-07  가족, 아기, 강아지   \n",
       "3     2  instagram  yulo_mon    True 2019-02-25           일상   \n",
       "4     2  instagram  yulo_mon    True 2019-03-02          나들이   \n",
       "\n",
       "                                             content  \n",
       "0  저와 팀원들이 영혼을 갈아넣은 서비스 베타버전이 드디어 나왔어요!!🤩\\n밤잠을 줄여...  \n",
       "1  https://adoor.app @adoor.team\\n저와 팀원들이 영혼을 갈아넣...  \n",
       "2                               카조꾸또 잇쇼니 토떼모 우레시깟딴데쓰  \n",
       "3                                              🙋🏻‍♀️  \n",
       "4  필름캐머러 첫 롤 사진들1\\n수라미가 준 로모그래피 심플유즈 기본 장착 컬러네거티브...  "
      ]
     },
     "execution_count": 2,
     "metadata": {},
     "output_type": "execute_result"
    }
   ],
   "source": [
    "df = pd.read_csv('adoor_data/sns_feed.csv', encoding='UTF8')\n",
    "df['created_at'] = pd.to_datetime(df['created_at'])\n",
    "\n",
    "# df = df[(df.author_id != 5)]\n",
    "\n",
    "start_date = pd.Timestamp(2019, 1, 28, 0)\n",
    "end_date = pd.Timestamp(2019, 4, 1, 0)\n",
    "\n",
    "mask = (df['created_at'] > start_date) & (df['created_at'] <= end_date)\n",
    "df = df.loc[mask]\n",
    "\n",
    "df.head()"
   ]
  },
  {
   "cell_type": "code",
   "execution_count": 3,
   "metadata": {},
   "outputs": [],
   "source": [
    "twitter = Okt()\n",
    "pos = lambda d: ['/'.join(p) for p in twitter.pos(d, stem=True, norm=True)]\n",
    "\n",
    "texts_ko = []\n",
    "content = df.content\n",
    "docs_ko = \"\"\n",
    "\n",
    "for row in content:\n",
    "    text = row\n",
    "    if not pd.isna(text):\n",
    "        docs_ko = docs_ko + text\n",
    "        for morph in pos(text):\n",
    "            if (morph.split('/')[1]) in ['Noun'] and len(morph.split('/')[0]) > 1:\n",
    "                m = []\n",
    "                m.append(morph)\n",
    "                texts_ko.append(m)"
   ]
  },
  {
   "cell_type": "code",
   "execution_count": 4,
   "metadata": {},
   "outputs": [],
   "source": [
    "dictionary_ko = corpora.Dictionary(texts_ko)\n",
    "dictionary_ko.save('ko.dict')"
   ]
  },
  {
   "cell_type": "code",
   "execution_count": 5,
   "metadata": {},
   "outputs": [],
   "source": [
    "tf_ko = [dictionary_ko.doc2bow(text) for text in texts_ko]\n",
    "tfidf_model_ko = models.TfidfModel(tf_ko)\n",
    "tfidf_ko = tfidf_model_ko[tf_ko]\n",
    "corpora.MmCorpus.serialize('ko.mm', tfidf_ko)"
   ]
  },
  {
   "cell_type": "code",
   "execution_count": 6,
   "metadata": {},
   "outputs": [
    {
     "data": {
      "text/plain": [
       "[(0,\n",
       "  '0.018*\"오늘/Noun\" + 0.018*\"시간/Noun\" + 0.015*\"머리/Noun\" + 0.013*\"스님/Noun\" + 0.010*\"거리/Noun\" + 0.008*\"걸음/Noun\" + 0.008*\"아침/Noun\" + 0.008*\"지금/Noun\" + 0.006*\"시점/Noun\" + 0.006*\"공유/Noun\"'),\n",
       " (1,\n",
       "  '0.029*\"사람/Noun\" + 0.017*\"아주/Noun\" + 0.015*\"시스템/Noun\" + 0.010*\"여자/Noun\" + 0.010*\"모든/Noun\" + 0.010*\"가입/Noun\" + 0.008*\"사진/Noun\" + 0.008*\"이유/Noun\" + 0.008*\"제일/Noun\" + 0.008*\"다른/Noun\"'),\n",
       " (2,\n",
       "  '0.027*\"생각/Noun\" + 0.021*\"그것/Noun\" + 0.018*\"우리/Noun\" + 0.016*\"학교/Noun\" + 0.009*\"그녀/Noun\" + 0.009*\"일단/Noun\" + 0.009*\"상태/Noun\" + 0.009*\"누구/Noun\" + 0.009*\"베타/Noun\" + 0.007*\"진짜/Noun\"'),\n",
       " (3,\n",
       "  '0.024*\"사람/Noun\" + 0.024*\"마음/Noun\" + 0.011*\"대한/Noun\" + 0.011*\"필름/Noun\" + 0.011*\"모두/Noun\" + 0.008*\"진짜/Noun\" + 0.008*\"공개/Noun\" + 0.008*\"정말/Noun\" + 0.008*\"고생/Noun\" + 0.008*\"무척/Noun\"'),\n",
       " (4,\n",
       "  '0.019*\"친구/Noun\" + 0.015*\"사용/Noun\" + 0.012*\"소리/Noun\" + 0.012*\"방학/Noun\" + 0.010*\"동안/Noun\" + 0.010*\"사진/Noun\" + 0.010*\"버전/Noun\" + 0.010*\"일이/Noun\" + 0.010*\"매일/Noun\" + 0.010*\"그냥/Noun\"')]"
      ]
     },
     "execution_count": 6,
     "metadata": {},
     "output_type": "execute_result"
    }
   ],
   "source": [
    "ntopics, nwords = 5, 5\n",
    "\n",
    "lda_ko = models.ldamodel.LdaModel(tf_ko, id2word=dictionary_ko, num_topics=ntopics)\n",
    "lda_ko.print_topics()"
   ]
  },
  {
   "cell_type": "code",
   "execution_count": 7,
   "metadata": {},
   "outputs": [
    {
     "data": {
      "text/plain": [
       "[(0,\n",
       "  '0.048*\"사람/Noun\" + 0.020*\"아주/Noun\" + 0.018*\"마음/Noun\" + 0.013*\"시스템/Noun\" + 0.013*\"머리/Noun\" + 0.013*\"사용/Noun\" + 0.013*\"사진/Noun\" + 0.011*\"모든/Noun\" + 0.009*\"일단/Noun\" + 0.009*\"당신/Noun\"'),\n",
       " (1,\n",
       "  '0.020*\"진짜/Noun\" + 0.020*\"스님/Noun\" + 0.018*\"학교/Noun\" + 0.015*\"그것/Noun\" + 0.010*\"필름/Noun\" + 0.010*\"무척/Noun\" + 0.010*\"후회/Noun\" + 0.010*\"거리/Noun\" + 0.008*\"위해/Noun\" + 0.008*\"몹시/Noun\"'),\n",
       " (2,\n",
       "  '0.023*\"오늘/Noun\" + 0.013*\"일이/Noun\" + 0.011*\"생각/Noun\" + 0.011*\"모두/Noun\" + 0.011*\"그냥/Noun\" + 0.008*\"가입/Noun\" + 0.008*\"약간/Noun\" + 0.008*\"세상/Noun\" + 0.008*\"방법/Noun\" + 0.008*\"대한/Noun\"'),\n",
       " (3,\n",
       "  '0.019*\"우리/Noun\" + 0.014*\"생각/Noun\" + 0.012*\"방학/Noun\" + 0.010*\"전깃줄/Noun\" + 0.010*\"공개/Noun\" + 0.010*\"소리/Noun\" + 0.010*\"누구/Noun\" + 0.007*\"그것/Noun\" + 0.007*\"다시/Noun\" + 0.007*\"고생/Noun\"'),\n",
       " (4,\n",
       "  '0.021*\"친구/Noun\" + 0.013*\"시간/Noun\" + 0.011*\"매일/Noun\" + 0.011*\"그녀/Noun\" + 0.008*\"벌써/Noun\" + 0.008*\"서비스/Noun\" + 0.008*\"다른/Noun\" + 0.006*\"생각/Noun\" + 0.006*\"사진/Noun\" + 0.006*\"베타/Noun\"')]"
      ]
     },
     "execution_count": 7,
     "metadata": {},
     "output_type": "execute_result"
    }
   ],
   "source": [
    "lda_ko = models.ldamodel.LdaModel(tfidf_ko, id2word=dictionary_ko, num_topics=ntopics)\n",
    "lda_ko.print_topics()"
   ]
  },
  {
   "cell_type": "code",
   "execution_count": 8,
   "metadata": {},
   "outputs": [
    {
     "data": {
      "text/plain": [
       "(0,\n",
       " [('사람/Noun', 0.047894664),\n",
       "  ('아주/Noun', 0.019762902),\n",
       "  ('마음/Noun', 0.017659059),\n",
       "  ('시스템/Noun', 0.013427526),\n",
       "  ('머리/Noun', 0.013397738),\n",
       "  ('사용/Noun', 0.013382606),\n",
       "  ('사진/Noun', 0.01333818),\n",
       "  ('모든/Noun', 0.011224575),\n",
       "  ('일단/Noun', 0.009120527),\n",
       "  ('당신/Noun', 0.009052118)])"
      ]
     },
     "execution_count": 8,
     "metadata": {},
     "output_type": "execute_result"
    }
   ],
   "source": [
    "ldatopics = lda_ko.show_topics(formatted=False)\n",
    "ldatopics[0]"
   ]
  },
  {
   "cell_type": "code",
   "execution_count": 9,
   "metadata": {},
   "outputs": [
    {
     "data": {
      "text/plain": [
       "[(0,\n",
       "  '1.000*\"사람/Noun\" + 0.001*\"무엇/Noun\" + 0.001*\"네이버/Noun\" + 0.001*\"기록/Noun\" + 0.001*\"코피/Noun\" + 0.001*\"직접/Noun\" + 0.001*\"저녁/Noun\" + 0.000*\"갑자기/Noun\" + 0.000*\"비합리적/Noun\" + -0.000*\"가장/Noun\"'),\n",
       " (1,\n",
       "  '-1.000*\"생각/Noun\" + 0.005*\"계정/Noun\" + 0.005*\"갑자기/Noun\" + 0.004*\"서비스/Noun\" + -0.003*\"의미/Noun\" + -0.003*\"예지/Noun\" + 0.003*\"코코/Noun\" + 0.003*\"상처/Noun\" + 0.003*\"퓨저/Noun\" + -0.003*\"거의/Noun\"'),\n",
       " (2,\n",
       "  '0.571*\"아주/Noun\" + -0.530*\"오늘/Noun\" + -0.487*\"마음/Noun\" + 0.393*\"그것/Noun\" + -0.006*\"해외/Noun\" + -0.005*\"순간/Noun\" + -0.005*\"걸음/Noun\" + 0.005*\"바지/Noun\" + 0.005*\"명상/Noun\" + 0.004*\"처음/Noun\"'),\n",
       " (3,\n",
       "  '-0.625*\"아주/Noun\" + -0.619*\"오늘/Noun\" + 0.396*\"그것/Noun\" + 0.261*\"마음/Noun\" + 0.009*\"거의/Noun\" + 0.007*\"저리/Noun\" + 0.007*\"시대/Noun\" + 0.006*\"추억/Noun\" + 0.006*\"기억/Noun\" + -0.005*\"이해/Noun\"'),\n",
       " (4,\n",
       "  '-0.749*\"그것/Noun\" + -0.574*\"오늘/Noun\" + 0.258*\"마음/Noun\" + 0.203*\"아주/Noun\" + 0.010*\"기억/Noun\" + -0.009*\"지금/Noun\" + -0.007*\"안보/Noun\" + 0.007*\"약간/Noun\" + -0.007*\"보고/Noun\" + 0.006*\"후회/Noun\"')]"
      ]
     },
     "execution_count": 9,
     "metadata": {},
     "output_type": "execute_result"
    }
   ],
   "source": [
    "lsi_ko = models.lsimodel.LsiModel(tfidf_ko, id2word=dictionary_ko, num_topics=ntopics)\n",
    "lsi_ko.print_topics()"
   ]
  },
  {
   "cell_type": "code",
   "execution_count": 10,
   "metadata": {},
   "outputs": [
    {
     "name": "stderr",
     "output_type": "stream",
     "text": [
      "/Users/gimjaewon/opt/anaconda3/envs/venv/lib/python3.7/site-packages/gensim/models/hdpmodel.py:467: DeprecationWarning: time.clock has been deprecated in Python 3.3 and will be removed from Python 3.8: use time.perf_counter or time.process_time instead\n",
      "  start_time = time.clock()\n"
     ]
    },
    {
     "data": {
      "text/plain": [
       "[(0,\n",
       "  '0.008*템플스테이/Noun + 0.007*과제/Noun + 0.007*검도/Noun + 0.007*내장/Noun + 0.007*포자/Noun'),\n",
       " (1,\n",
       "  '0.009*뇌수/Noun + 0.009*방법/Noun + 0.007*아렁/Noun + 0.007*토떼모/Noun + 0.006*이제/Noun'),\n",
       " (2,\n",
       "  '0.008*캐머러/Noun + 0.008*사실/Noun + 0.007*주무/Noun + 0.006*라떼/Noun + 0.006*가슴/Noun'),\n",
       " (3,\n",
       "  '0.008*소름/Noun + 0.008*촥촥촥/Noun + 0.007*일이/Noun + 0.006*종일/Noun + 0.006*세계/Noun'),\n",
       " (4,\n",
       "  '0.008*산수/Noun + 0.007*졸업식/Noun + 0.007*저기/Noun + 0.007*자극/Noun + 0.007*과제/Noun')]"
      ]
     },
     "execution_count": 10,
     "metadata": {},
     "output_type": "execute_result"
    }
   ],
   "source": [
    "hdp_ko = models.hdpmodel.HdpModel(tfidf_ko, id2word=dictionary_ko)\n",
    "hdp_ko.print_topics(ntopics, nwords)"
   ]
  },
  {
   "cell_type": "code",
   "execution_count": 11,
   "metadata": {},
   "outputs": [
    {
     "data": {
      "text/plain": [
       "[(2, 0.5999361),\n",
       " (1, 0.10001727),\n",
       " (4, 0.10001664),\n",
       " (3, 0.10001513),\n",
       " (0, 0.100014836)]"
      ]
     },
     "execution_count": 11,
     "metadata": {},
     "output_type": "execute_result"
    }
   ],
   "source": [
    "bow = tfidf_model_ko[dictionary_ko.doc2bow(texts_ko[0])]\n",
    "sorted(lda_ko[bow], key=lambda x: x[1], reverse=True)"
   ]
  },
  {
   "cell_type": "code",
   "execution_count": 12,
   "metadata": {},
   "outputs": [
    {
     "data": {
      "text/plain": [
       "[(51, 0.5035432698133189)]"
      ]
     },
     "execution_count": 12,
     "metadata": {},
     "output_type": "execute_result"
    }
   ],
   "source": [
    "sorted(hdp_ko[bow], key=lambda x: x[1], reverse=True)"
   ]
  },
  {
   "cell_type": "code",
   "execution_count": 13,
   "metadata": {},
   "outputs": [
    {
     "data": {
      "text/plain": [
       "[(4, 0.5999541),\n",
       " (2, 0.10001239),\n",
       " (3, 0.100011915),\n",
       " (1, 0.100011356),\n",
       " (0, 0.10001023)]"
      ]
     },
     "execution_count": 13,
     "metadata": {},
     "output_type": "execute_result"
    }
   ],
   "source": [
    "bow = tfidf_model_ko[dictionary_ko.doc2bow(texts_ko[1])]\n",
    "sorted(lda_ko[bow], key=lambda x: x[1], reverse=True)"
   ]
  },
  {
   "cell_type": "code",
   "execution_count": 14,
   "metadata": {},
   "outputs": [
    {
     "data": {
      "text/plain": [
       "[(84, 0.5033264730388654)]"
      ]
     },
     "execution_count": 14,
     "metadata": {},
     "output_type": "execute_result"
    }
   ],
   "source": [
    "sorted(hdp_ko[bow], key=lambda x: x[1], reverse=True)"
   ]
  },
  {
   "cell_type": "code",
   "execution_count": null,
   "metadata": {},
   "outputs": [],
   "source": []
  },
  {
   "cell_type": "code",
   "execution_count": 15,
   "metadata": {},
   "outputs": [],
   "source": [
    "def compute_coherence_values(dictionary, corpus, texts, limit, start=2, step=3):\n",
    "    coherence_values = []\n",
    "    model_list = []\n",
    "    for num_topics in range(start, limit, step):\n",
    "        model = models.LdaModel(corpus=tf_ko, num_topics=num_topics, id2word=dictionary_ko)\n",
    "        model_list.append(model)\n",
    "        coherencemodel = models.CoherenceModel(model=model, texts=texts_ko, dictionary=dictionary_ko, coherence='c_v')\n",
    "        coherence_values.append(coherencemodel.get_coherence())\n",
    "\n",
    "    return model_list, coherence_values"
   ]
  },
  {
   "cell_type": "code",
   "execution_count": 16,
   "metadata": {},
   "outputs": [
    {
     "name": "stdout",
     "output_type": "stream",
     "text": [
      "\n",
      "Coherence Score:  0.8491372539412712\n"
     ]
    }
   ],
   "source": [
    "coherence_model_lda = models.CoherenceModel(model=lda_ko, texts=texts_ko, dictionary=dictionary_ko, coherence='c_v')\n",
    "coherence_lda = coherence_model_lda.get_coherence()\n",
    "print('\\nCoherence Score: ', coherence_lda)"
   ]
  },
  {
   "cell_type": "code",
   "execution_count": 17,
   "metadata": {},
   "outputs": [],
   "source": [
    "model_list, coherence_values = compute_coherence_values(\n",
    "    dictionary=dictionary_ko, \n",
    "    corpus=tf_ko, \n",
    "    texts=texts_ko, \n",
    "    start=1, \n",
    "    limit=10, \n",
    "    step=1)"
   ]
  },
  {
   "cell_type": "code",
   "execution_count": 34,
   "metadata": {},
   "outputs": [
    {
     "data": {
      "image/png": "[encoded data removed]",
      "text/plain": [
       "<Figure size 648x360 with 1 Axes>"
      ]
     },
     "metadata": {},
     "output_type": "display_data"
    }
   ],
   "source": [
    "limit=10; start=1; step=1;\n",
    "x = range(start, limit, step)\n",
    "plt.rcParams[\"font.size\"] = 2\n",
    "plt.figure(figsize=(9,5))\n",
    "plt.plot(x, coherence_values)\n",
    "plt.xlabel(\"Num Topics\")\n",
    "plt.ylabel(\"Coherence score\")\n",
    "plt.legend((\"coherence_values\"), loc='best')\n",
    "plt.show()"
   ]
  },
  {
   "cell_type": "code",
   "execution_count": 19,
   "metadata": {},
   "outputs": [
    {
     "name": "stdout",
     "output_type": "stream",
     "text": [
      "Num Topics = 1  has Coherence Value of 0.8717\n",
      "Num Topics = 2  has Coherence Value of 0.866\n",
      "Num Topics = 3  has Coherence Value of 0.8561\n",
      "Num Topics = 4  has Coherence Value of 0.852\n",
      "Num Topics = 5  has Coherence Value of 0.8509\n",
      "Num Topics = 6  has Coherence Value of 0.8458\n",
      "Num Topics = 7  has Coherence Value of 0.8453\n",
      "Num Topics = 8  has Coherence Value of 0.8443\n",
      "Num Topics = 9  has Coherence Value of 0.8431\n"
     ]
    }
   ],
   "source": [
    "for m, cv in zip(x, coherence_values):\n",
    "    print(\"Num Topics =\", m, \" has Coherence Value of\", round(cv, 4))"
   ]
  },
  {
   "cell_type": "code",
   "execution_count": 20,
   "metadata": {},
   "outputs": [
    {
     "data": {
      "text/plain": [
       "[(0,\n",
       "  '0.008*\"사람/Noun\" + 0.007*\"친구/Noun\" + 0.007*\"사진/Noun\" + 0.006*\"마음/Noun\" + 0.005*\"우리/Noun\" + 0.005*\"시간/Noun\" + 0.005*\"사용/Noun\" + 0.005*\"그것/Noun\" + 0.005*\"머리/Noun\" + 0.004*\"생각/Noun\"'),\n",
       " (1,\n",
       "  '0.015*\"사람/Noun\" + 0.009*\"생각/Noun\" + 0.008*\"아주/Noun\" + 0.008*\"진짜/Noun\" + 0.006*\"스님/Noun\" + 0.006*\"오늘/Noun\" + 0.005*\"그것/Noun\" + 0.005*\"학교/Noun\" + 0.005*\"시스템/Noun\" + 0.005*\"일단/Noun\"')]"
      ]
     },
     "execution_count": 20,
     "metadata": {},
     "output_type": "execute_result"
    }
   ],
   "source": [
    "optimal_model = model_list[1]\n",
    "model_topics = optimal_model.show_topics(formatted=False)\n",
    "optimal_model.print_topics(num_words=10)"
   ]
  },
  {
   "cell_type": "code",
   "execution_count": 21,
   "metadata": {},
   "outputs": [
    {
     "data": {
      "text/html": [
       "<div>\n",
       "<style scoped>\n",
       "    .dataframe tbody tr th:only-of-type {\n",
       "        vertical-align: middle;\n",
       "    }\n",
       "\n",
       "    .dataframe tbody tr th {\n",
       "        vertical-align: top;\n",
       "    }\n",
       "\n",
       "    .dataframe thead th {\n",
       "        text-align: right;\n",
       "    }\n",
       "</style>\n",
       "<table border=\"1\" class=\"dataframe\">\n",
       "  <thead>\n",
       "    <tr style=\"text-align: right;\">\n",
       "      <th></th>\n",
       "      <th>Document_No</th>\n",
       "      <th>Dominant_Topic</th>\n",
       "      <th>Topic_Perc_Contrib</th>\n",
       "      <th>Keywords</th>\n",
       "      <th>Text</th>\n",
       "    </tr>\n",
       "  </thead>\n",
       "  <tbody>\n",
       "    <tr>\n",
       "      <th>0</th>\n",
       "      <td>0</td>\n",
       "      <td>0.0</td>\n",
       "      <td>0.6617</td>\n",
       "      <td>사람/Noun, 친구/Noun, 사진/Noun, 마음/Noun, 우리/Noun, 시...</td>\n",
       "      <td>저와 팀원들이 영혼을 갈아넣은 서비스 베타버전이 드디어 나왔어요!!🤩\\n밤잠을 줄여...</td>\n",
       "    </tr>\n",
       "    <tr>\n",
       "      <th>1</th>\n",
       "      <td>1</td>\n",
       "      <td>0.0</td>\n",
       "      <td>0.7000</td>\n",
       "      <td>사람/Noun, 친구/Noun, 사진/Noun, 마음/Noun, 우리/Noun, 시...</td>\n",
       "      <td>https://adoor.app @adoor.team\\n저와 팀원들이 영혼을 갈아넣...</td>\n",
       "    </tr>\n",
       "    <tr>\n",
       "      <th>2</th>\n",
       "      <td>2</td>\n",
       "      <td>1.0</td>\n",
       "      <td>0.5572</td>\n",
       "      <td>사람/Noun, 생각/Noun, 아주/Noun, 진짜/Noun, 스님/Noun, 오...</td>\n",
       "      <td>카조꾸또 잇쇼니 토떼모 우레시깟딴데쓰</td>\n",
       "    </tr>\n",
       "    <tr>\n",
       "      <th>3</th>\n",
       "      <td>3</td>\n",
       "      <td>1.0</td>\n",
       "      <td>0.6028</td>\n",
       "      <td>사람/Noun, 생각/Noun, 아주/Noun, 진짜/Noun, 스님/Noun, 오...</td>\n",
       "      <td>🙋🏻‍♀️</td>\n",
       "    </tr>\n",
       "    <tr>\n",
       "      <th>4</th>\n",
       "      <td>4</td>\n",
       "      <td>0.0</td>\n",
       "      <td>0.7261</td>\n",
       "      <td>사람/Noun, 친구/Noun, 사진/Noun, 마음/Noun, 우리/Noun, 시...</td>\n",
       "      <td>필름캐머러 첫 롤 사진들1\\n수라미가 준 로모그래피 심플유즈 기본 장착 컬러네거티브...</td>\n",
       "    </tr>\n",
       "  </tbody>\n",
       "</table>\n",
       "</div>"
      ],
      "text/plain": [
       "   Document_No  Dominant_Topic  Topic_Perc_Contrib  \\\n",
       "0            0             0.0              0.6617   \n",
       "1            1             0.0              0.7000   \n",
       "2            2             1.0              0.5572   \n",
       "3            3             1.0              0.6028   \n",
       "4            4             0.0              0.7261   \n",
       "\n",
       "                                            Keywords  \\\n",
       "0  사람/Noun, 친구/Noun, 사진/Noun, 마음/Noun, 우리/Noun, 시...   \n",
       "1  사람/Noun, 친구/Noun, 사진/Noun, 마음/Noun, 우리/Noun, 시...   \n",
       "2  사람/Noun, 생각/Noun, 아주/Noun, 진짜/Noun, 스님/Noun, 오...   \n",
       "3  사람/Noun, 생각/Noun, 아주/Noun, 진짜/Noun, 스님/Noun, 오...   \n",
       "4  사람/Noun, 친구/Noun, 사진/Noun, 마음/Noun, 우리/Noun, 시...   \n",
       "\n",
       "                                                Text  \n",
       "0  저와 팀원들이 영혼을 갈아넣은 서비스 베타버전이 드디어 나왔어요!!🤩\\n밤잠을 줄여...  \n",
       "1  https://adoor.app @adoor.team\\n저와 팀원들이 영혼을 갈아넣...  \n",
       "2                               카조꾸또 잇쇼니 토떼모 우레시깟딴데쓰  \n",
       "3                                              🙋🏻‍♀️  \n",
       "4  필름캐머러 첫 롤 사진들1\\n수라미가 준 로모그래피 심플유즈 기본 장착 컬러네거티브...  "
      ]
     },
     "execution_count": 21,
     "metadata": {},
     "output_type": "execute_result"
    }
   ],
   "source": [
    "def format_topics_sentences(ldamodel=lda_ko, corpus=tf_ko, texts=df['content'].values.astype('U')):\n",
    "   \n",
    "    sent_topics_df = pd.DataFrame()\n",
    "\n",
    "   \n",
    "    for i, row in enumerate(ldamodel[corpus]):\n",
    "        row = sorted(row, key=lambda x: (x[1]), reverse=True)\n",
    "        # Get the Dominant topic, Perc Contribution and Keywords for each document\n",
    "        for j, (topic_num, prop_topic) in enumerate(row):\n",
    "            if j == 0:  # -- dominant topic\n",
    "                wp = ldamodel.show_topic(topic_num)\n",
    "                topic_keywords = \", \".join([word for word, prop in wp])\n",
    "                sent_topics_df = sent_topics_df.append(pd.Series([int(topic_num), round(prop_topic,4), topic_keywords]), ignore_index=True)\n",
    "            else:\n",
    "                break\n",
    "    sent_topics_df.columns = ['Dominant_Topic', 'Perc_Contribution', 'Topic_Keywords']\n",
    "\n",
    "    # Add original text to the end of the output\n",
    "    \n",
    "    contents = pd.Series(texts)\n",
    "    sent_topics_df = pd.concat([sent_topics_df, contents], axis=1)\n",
    "    return(sent_topics_df)\n",
    "    \n",
    "\n",
    "df_topic_sents_keywords = format_topics_sentences(ldamodel=optimal_model, corpus=tf_ko, texts=df['content'].values.astype('U'))\n",
    "\n",
    "\n",
    "df_dominant_topic = df_topic_sents_keywords.reset_index()\n",
    "df_dominant_topic.columns = ['Document_No', 'Dominant_Topic', 'Topic_Perc_Contrib', 'Keywords', 'Text']\n",
    "\n",
    "\n",
    "df_dominant_topic.head(5)"
   ]
  },
  {
   "cell_type": "code",
   "execution_count": null,
   "metadata": {},
   "outputs": [],
   "source": []
  },
  {
   "cell_type": "code",
   "execution_count": 22,
   "metadata": {},
   "outputs": [],
   "source": [
    "path='/Library/Fonts/NanumGothic.ttf'\n",
    "font_name = fm.FontProperties(fname=path, size=50).get_name()\n",
    "matplotlib.rc('font', family=font_name)\n",
    "matplotlib.rc('axes', unicode_minus=False)\n",
    "plt.rc('font', family=font_name)\n",
    "plt.rc('axes', unicode_minus=False)"
   ]
  },
  {
   "cell_type": "code",
   "execution_count": 23,
   "metadata": {},
   "outputs": [],
   "source": [
    "# Latent Dirichlet Allocation, LDA is yet another transformation from \n",
    "# bag-of-words counts into a topic space of lower dimensionality. \n",
    "# LDA is a probabilistic extension of LSA (also called multinomial PCA), \n",
    "# so LDA’s topics can be interpreted as probability distributions over words. \n",
    "# These distributions are, just like with LSA, inferred automatically from \n",
    "# a training corpus. Documents are in turn interpreted as a (soft) mixture \n",
    "# of these topics (again, just like with LSA)"
   ]
  },
  {
   "cell_type": "code",
   "execution_count": 24,
   "metadata": {},
   "outputs": [
    {
     "name": "stdout",
     "output_type": "stream",
     "text": [
      "(5, 24)\n"
     ]
    },
    {
     "data": {
      "text/html": [
       "<div>\n",
       "<style scoped>\n",
       "    .dataframe tbody tr th:only-of-type {\n",
       "        vertical-align: middle;\n",
       "    }\n",
       "\n",
       "    .dataframe tbody tr th {\n",
       "        vertical-align: top;\n",
       "    }\n",
       "\n",
       "    .dataframe thead th {\n",
       "        text-align: right;\n",
       "    }\n",
       "</style>\n",
       "<table border=\"1\" class=\"dataframe\">\n",
       "  <thead>\n",
       "    <tr style=\"text-align: right;\">\n",
       "      <th></th>\n",
       "      <th>사람/Noun</th>\n",
       "      <th>아주/Noun</th>\n",
       "      <th>마음/Noun</th>\n",
       "      <th>시스템/Noun</th>\n",
       "      <th>머리/Noun</th>\n",
       "      <th>진짜/Noun</th>\n",
       "      <th>스님/Noun</th>\n",
       "      <th>학교/Noun</th>\n",
       "      <th>그것/Noun</th>\n",
       "      <th>필름/Noun</th>\n",
       "      <th>...</th>\n",
       "      <th>그냥/Noun</th>\n",
       "      <th>우리/Noun</th>\n",
       "      <th>방학/Noun</th>\n",
       "      <th>전깃줄/Noun</th>\n",
       "      <th>공개/Noun</th>\n",
       "      <th>친구/Noun</th>\n",
       "      <th>시간/Noun</th>\n",
       "      <th>매일/Noun</th>\n",
       "      <th>그녀/Noun</th>\n",
       "      <th>벌써/Noun</th>\n",
       "    </tr>\n",
       "  </thead>\n",
       "  <tbody>\n",
       "    <tr>\n",
       "      <th>0</th>\n",
       "      <td>0.047895</td>\n",
       "      <td>0.019763</td>\n",
       "      <td>0.017659</td>\n",
       "      <td>0.013428</td>\n",
       "      <td>0.013398</td>\n",
       "      <td>0.000000</td>\n",
       "      <td>0.000000</td>\n",
       "      <td>0.000000</td>\n",
       "      <td>0.000000</td>\n",
       "      <td>0.000000</td>\n",
       "      <td>...</td>\n",
       "      <td>0.000000</td>\n",
       "      <td>0.000000</td>\n",
       "      <td>0.000000</td>\n",
       "      <td>0.000000</td>\n",
       "      <td>0.000000</td>\n",
       "      <td>0.000000</td>\n",
       "      <td>0.000000</td>\n",
       "      <td>0.000000</td>\n",
       "      <td>0.000000</td>\n",
       "      <td>0.000000</td>\n",
       "    </tr>\n",
       "    <tr>\n",
       "      <th>1</th>\n",
       "      <td>0.000000</td>\n",
       "      <td>0.000000</td>\n",
       "      <td>0.000000</td>\n",
       "      <td>0.000000</td>\n",
       "      <td>0.000000</td>\n",
       "      <td>0.020397</td>\n",
       "      <td>0.020298</td>\n",
       "      <td>0.017904</td>\n",
       "      <td>0.015359</td>\n",
       "      <td>0.010444</td>\n",
       "      <td>...</td>\n",
       "      <td>0.000000</td>\n",
       "      <td>0.000000</td>\n",
       "      <td>0.000000</td>\n",
       "      <td>0.000000</td>\n",
       "      <td>0.000000</td>\n",
       "      <td>0.000000</td>\n",
       "      <td>0.000000</td>\n",
       "      <td>0.000000</td>\n",
       "      <td>0.000000</td>\n",
       "      <td>0.000000</td>\n",
       "    </tr>\n",
       "    <tr>\n",
       "      <th>2</th>\n",
       "      <td>0.000000</td>\n",
       "      <td>0.000000</td>\n",
       "      <td>0.000000</td>\n",
       "      <td>0.000000</td>\n",
       "      <td>0.000000</td>\n",
       "      <td>0.000000</td>\n",
       "      <td>0.000000</td>\n",
       "      <td>0.000000</td>\n",
       "      <td>0.000000</td>\n",
       "      <td>0.000000</td>\n",
       "      <td>...</td>\n",
       "      <td>0.010695</td>\n",
       "      <td>0.000000</td>\n",
       "      <td>0.000000</td>\n",
       "      <td>0.000000</td>\n",
       "      <td>0.000000</td>\n",
       "      <td>0.000000</td>\n",
       "      <td>0.000000</td>\n",
       "      <td>0.000000</td>\n",
       "      <td>0.000000</td>\n",
       "      <td>0.000000</td>\n",
       "    </tr>\n",
       "    <tr>\n",
       "      <th>3</th>\n",
       "      <td>0.000000</td>\n",
       "      <td>0.000000</td>\n",
       "      <td>0.000000</td>\n",
       "      <td>0.000000</td>\n",
       "      <td>0.000000</td>\n",
       "      <td>0.000000</td>\n",
       "      <td>0.000000</td>\n",
       "      <td>0.000000</td>\n",
       "      <td>0.000000</td>\n",
       "      <td>0.000000</td>\n",
       "      <td>...</td>\n",
       "      <td>0.000000</td>\n",
       "      <td>0.018745</td>\n",
       "      <td>0.011881</td>\n",
       "      <td>0.009661</td>\n",
       "      <td>0.009624</td>\n",
       "      <td>0.000000</td>\n",
       "      <td>0.000000</td>\n",
       "      <td>0.000000</td>\n",
       "      <td>0.000000</td>\n",
       "      <td>0.000000</td>\n",
       "    </tr>\n",
       "    <tr>\n",
       "      <th>4</th>\n",
       "      <td>0.000000</td>\n",
       "      <td>0.000000</td>\n",
       "      <td>0.000000</td>\n",
       "      <td>0.000000</td>\n",
       "      <td>0.000000</td>\n",
       "      <td>0.000000</td>\n",
       "      <td>0.000000</td>\n",
       "      <td>0.000000</td>\n",
       "      <td>0.000000</td>\n",
       "      <td>0.000000</td>\n",
       "      <td>...</td>\n",
       "      <td>0.000000</td>\n",
       "      <td>0.000000</td>\n",
       "      <td>0.000000</td>\n",
       "      <td>0.000000</td>\n",
       "      <td>0.000000</td>\n",
       "      <td>0.021207</td>\n",
       "      <td>0.013481</td>\n",
       "      <td>0.010865</td>\n",
       "      <td>0.010833</td>\n",
       "      <td>0.008284</td>\n",
       "    </tr>\n",
       "  </tbody>\n",
       "</table>\n",
       "<p>5 rows × 24 columns</p>\n",
       "</div>"
      ],
      "text/plain": [
       "    사람/Noun   아주/Noun   마음/Noun  시스템/Noun   머리/Noun   진짜/Noun   스님/Noun  \\\n",
       "0  0.047895  0.019763  0.017659  0.013428  0.013398  0.000000  0.000000   \n",
       "1  0.000000  0.000000  0.000000  0.000000  0.000000  0.020397  0.020298   \n",
       "2  0.000000  0.000000  0.000000  0.000000  0.000000  0.000000  0.000000   \n",
       "3  0.000000  0.000000  0.000000  0.000000  0.000000  0.000000  0.000000   \n",
       "4  0.000000  0.000000  0.000000  0.000000  0.000000  0.000000  0.000000   \n",
       "\n",
       "    학교/Noun   그것/Noun   필름/Noun  ...   그냥/Noun   우리/Noun   방학/Noun  전깃줄/Noun  \\\n",
       "0  0.000000  0.000000  0.000000  ...  0.000000  0.000000  0.000000  0.000000   \n",
       "1  0.017904  0.015359  0.010444  ...  0.000000  0.000000  0.000000  0.000000   \n",
       "2  0.000000  0.000000  0.000000  ...  0.010695  0.000000  0.000000  0.000000   \n",
       "3  0.000000  0.000000  0.000000  ...  0.000000  0.018745  0.011881  0.009661   \n",
       "4  0.000000  0.000000  0.000000  ...  0.000000  0.000000  0.000000  0.000000   \n",
       "\n",
       "    공개/Noun   친구/Noun   시간/Noun   매일/Noun   그녀/Noun   벌써/Noun  \n",
       "0  0.000000  0.000000  0.000000  0.000000  0.000000  0.000000  \n",
       "1  0.000000  0.000000  0.000000  0.000000  0.000000  0.000000  \n",
       "2  0.000000  0.000000  0.000000  0.000000  0.000000  0.000000  \n",
       "3  0.009624  0.000000  0.000000  0.000000  0.000000  0.000000  \n",
       "4  0.000000  0.021207  0.013481  0.010865  0.010833  0.008284  \n",
       "\n",
       "[5 rows x 24 columns]"
      ]
     },
     "execution_count": 24,
     "metadata": {},
     "output_type": "execute_result"
    }
   ],
   "source": [
    "data_lda = {i: OrderedDict(lda_ko.show_topic(i, 5)) for i in range(5)}\n",
    "df_lda = pd.DataFrame(data_lda)\n",
    "df_lda = df_lda.fillna(0).T\n",
    "print(df_lda.shape)\n",
    "df_lda"
   ]
  },
  {
   "cell_type": "code",
   "execution_count": 25,
   "metadata": {},
   "outputs": [
    {
     "data": {
      "image/png": "[encoded data removed]",
      "text/plain": [
       "<Figure size 1080x1080 with 4 Axes>"
      ]
     },
     "metadata": {},
     "output_type": "display_data"
    }
   ],
   "source": [
    "sns.set(font_scale=3)\n",
    "g=sns.clustermap(df_lda.corr(), center=0, standard_scale=1, cmap=\"RdBu\", metric='cosine', linewidths=.75, figsize=(15, 15))\n",
    "plt.setp(g.ax_heatmap.yaxis.get_majorticklabels(), rotation=0)\n",
    "plt.show()"
   ]
  },
  {
   "cell_type": "code",
   "execution_count": 26,
   "metadata": {},
   "outputs": [
    {
     "data": {
      "text/html": [
       "\n",
       "<link rel=\"stylesheet\" type=\"text/css\" href=\"https://cdn.rawgit.com/bmabey/pyLDAvis/files/ldavis.v1.0.0.css\">\n",
       "\n",
       "\n",
       "<div id=\"ldavis_el73571403029308398881898636943\"></div>\n",
       "<script type=\"text/javascript\">\n",
       "\n",
       "var ldavis_el73571403029308398881898636943_data = {\"mdsDat\": {\"x\": [150.22215270996094, 51.16336441040039, -73.1445541381836, -66.4101333618164, 54.41732406616211], \"y\": [-72.2695541381836, -159.968017578125, 21.523815155029297, -110.60643768310547, 12.44344425201416], \"topics\": [1, 2, 3, 4, 5], \"cluster\": [1, 1, 1, 1, 1], \"Freq\": [27.455202102661133, 20.864818572998047, 20.763446807861328, 20.119873046875, 10.796658515930176]}, \"tinfo\": {\"Term\": [\"\\uc0ac\\ub78c/Noun\", \"\\uc624\\ub298/Noun\", \"\\uce5c\\uad6c/Noun\", \"\\uc9c4\\uc9dc/Noun\", \"\\uc2a4\\ub2d8/Noun\", \"\\uc544\\uc8fc/Noun\", \"\\ud559\\uad50/Noun\", \"\\uc6b0\\ub9ac/Noun\", \"\\ub9c8\\uc74c/Noun\", \"\\uadf8\\uac83/Noun\", \"\\uc0dd\\uac01/Noun\", \"\\uc2dc\\uc2a4\\ud15c/Noun\", \"\\uc77c\\uc774/Noun\", \"\\uba38\\ub9ac/Noun\", \"\\uc0ac\\uc6a9/Noun\", \"\\uc0ac\\uc9c4/Noun\", \"\\ubc29\\ud559/Noun\", \"\\uc2dc\\uac04/Noun\", \"\\ubaa8\\ub4e0/Noun\", \"\\ubaa8\\ub450/Noun\", \"\\uadf8\\ub0e5/Noun\", \"\\ub9e4\\uc77c/Noun\", \"\\ubb34\\ucc99/Noun\", \"\\ud6c4\\ud68c/Noun\", \"\\uadf8\\ub140/Noun\", \"\\uac70\\ub9ac/Noun\", \"\\uc18c\\ub9ac/Noun\", \"\\uc804\\uae43\\uc904/Noun\", \"\\uc77c\\ub2e8/Noun\", \"\\uacf5\\uac1c/Noun\", \"\\uce5c\\uad6c/Noun\", \"\\ub9e4\\uc77c/Noun\", \"\\uadf8\\ub140/Noun\", \"\\ubc8c\\uc368/Noun\", \"\\uc11c\\ube44\\uc2a4/Noun\", \"\\ub2e4\\ub978/Noun\", \"\\ub3fc\\uc9c0/Noun\", \"\\ubaa8\\ub4c8/Noun\", \"\\uc0c8\\ubcbd/Noun\", \"\\uc774\\uc804/Noun\", \"\\ubbf8\\ub798/Noun\", \"\\ubbfc\\uc724\\uae30/Noun\", \"\\uc774\\uc57c\\uae30/Noun\", \"\\uce90\\uc2ac/Noun\", \"\\uc0b4\\uc810/Noun\", \"\\uc778\\uc7ac/Noun\", \"\\uc874\\uc7ac/Noun\", \"\\ud53c\\ub540/Noun\", \"\\ub0a0\\uc528/Noun\", \"\\ud5c8\\ub9ac/Noun\", \"\\uac70\\uc758/Noun\", \"\\ud5e4\\ud5e4/Noun\", \"\\uc0c1\\ucc98/Noun\", \"\\uc774\\ubbf8\\uc9c0/Noun\", \"\\ucd5c\\uace0/Noun\", \"\\uc7a1\\uace0/Noun\", \"\\ud558\\uc774\\ud30c\\uc774\\ube0c/Noun\", \"\\ub2e4\\uc12f/Noun\", \"\\ub77c\\ub5bc/Noun\", \"\\uceec\\ub7ec/Noun\", \"\\uc2dc\\uac04/Noun\", \"\\uae30\\ubd84/Noun\", \"\\uc9c0\\uae08/Noun\", \"\\uc81c\\uc77c/Noun\", \"\\uc0dd\\uc77c/Noun\", \"\\uc0dd\\uac01/Noun\", \"\\ubca0\\ud0c0/Noun\", \"\\uc0ac\\uc9c4/Noun\", \"\\ub178\\ub798/Noun\", \"\\uc5ec\\uc790/Noun\", \"\\ud1b5\\uc81c/Noun\", \"\\ubb34\\uc5c7/Noun\", \"\\uc9c4\\uc9dc/Noun\", \"\\uc2a4\\ub2d8/Noun\", \"\\ud559\\uad50/Noun\", \"\\ud6c4\\ud68c/Noun\", \"\\ubb34\\ucc99/Noun\", \"\\uac70\\ub9ac/Noun\", \"\\ubab9\\uc2dc/Noun\", \"\\uc6b0\\uc0b0/Noun\", \"\\ub9e4\\ud639/Noun\", \"\\ub9c8\\uad6c/Noun\", \"\\uc815\\uc2e0/Noun\", \"\\uc810\\ud504/Noun\", \"\\ub9c9\\uc0c1/Noun\", \"\\uc2dc\\uc810/Noun\", \"\\ucc98\\uc74c/Noun\", \"\\uc815\\ub3c4/Noun\", \"\\ubcf4\\uc2dc/Noun\", \"\\uc694\\uc998/Noun\", \"\\uc2a4\\uce74\\uc774/Noun\", \"\\uae30\\uc5b5/Noun\", \"\\ub610\\ud55c/Noun\", \"\\ub54c\\ubb38/Noun\", \"\\uc774\\ud574/Noun\", \"\\uae30\\uc808/Noun\", \"\\uba85\\uc0c1/Noun\", \"\\uadf8\\uac83/Noun\", \"\\ud544\\ub984/Noun\", \"\\uc704\\ud574/Noun\", \"\\ud504\\ub85c\\uadf8\\ub7a8/Noun\", \"\\ub300\\ubd80\\ubd84/Noun\", \"\\uc5b4\\ub3c4/Noun\", \"\\uc5ec\\uc790/Noun\", \"\\ubca0\\ud0c0/Noun\", \"\\uc815\\ub9d0/Noun\", \"\\uc624\\ub298/Noun\", \"\\uc77c\\uc774/Noun\", \"\\ubaa8\\ub450/Noun\", \"\\uadf8\\ub0e5/Noun\", \"\\uc57d\\uac04/Noun\", \"\\uc138\\uc0c1/Noun\", \"\\uc545\\ub2f9/Noun\", \"\\uacf5\\ud3ec/Noun\", \"\\uc218\\uc601\\uc7a5/Noun\", \"\\ub370\\uc2a4\\ud06c\\ud0d1/Noun\", \"\\uc601\\ud63c/Noun\", \"\\uce74\\uba54\\ub77c/Noun\", \"\\ucf54\\ucf54/Noun\", \"\\ub300\\ud654/Noun\", \"\\ucd94\\ucc9c/Noun\", \"\\uc9c1\\uc811/Noun\", \"\\uae30\\ub300/Noun\", \"\\uac00\\uc785/Noun\", \"\\ubc29\\ubc95/Noun\", \"\\ub300\\ud55c/Noun\", \"\\uc74c\\ubbf8/Noun\", \"\\ub3c4\\uc6c0/Noun\", \"\\uc2dc\\uc2a4/Noun\", \"\\ub434\\uc789/Noun\", \"\\uadf9\\ub3c4/Noun\", \"\\uc560\\ucd08/Noun\", \"\\uc124\\uba85/Noun\", \"\\uc5f0\\uc78e/Noun\", \"\\ub098\\uc774\\ud2b8/Noun\", \"\\ubbf8\\uc138\\uba3c\\uc9c0/Noun\", \"\\uc5f0\\uc18d/Noun\", \"\\uc0dd\\uac01/Noun\", \"\\uc2dc\\ub300/Noun\", \"\\ud544\\ub984/Noun\", \"\\uc608\\uc9c0/Noun\", \"\\ubb34\\uc5c7/Noun\", \"\\uac70\\uae30/Noun\", \"\\ub178\\ub798/Noun\", \"\\uacf5\\uc720/Noun\", \"\\ub3c4\\uc2dc/Noun\", \"\\uc0ac\\ub78c/Noun\", \"\\uc544\\uc8fc/Noun\", \"\\uc2dc\\uc2a4\\ud15c/Noun\", \"\\uba38\\ub9ac/Noun\", \"\\ubaa8\\ub4e0/Noun\", \"\\ub2f9\\uc2e0/Noun\", \"\\ub3d9\\uc548/Noun\", \"\\ubc84\\uc804/Noun\", \"\\ub9c8\\uc74c/Noun\", \"\\ud300\\uc6d0/Noun\", \"\\ub77c\\uc774\\ud504/Noun\", \"\\uc790\\uc8fc/Noun\", \"\\uac78\\uc74c/Noun\", \"\\uc774\\uc0c1/Noun\", \"\\uc704\\ub85c/Noun\", \"\\uacc4\\uc815/Noun\", \"\\uc904\\ud0c0\\uae30/Noun\", \"\\uc0ac\\uc6a9/Noun\", \"\\uad8c\\uc7a5/Noun\", \"\\ucc29\\uc9c0/Noun\", \"\\ub124\\uc774\\ubc84/Noun\", \"\\uc548\\ubcf4/Noun\", \"\\uac1c\\uac15/Noun\", \"\\uc878\\uc5c5\\uc2dd/Noun\", \"\\ubcf4\\uc774/Noun\", \"\\uc5ec\\uae30/Noun\", \"\\ubb34\\ub985\\uc4f0/Noun\", \"\\uc7ac\\ubbf8/Noun\", \"\\uba74\\uc11c/Noun\", \"\\ubcf4\\uace0/Noun\", \"\\uc77c\\ub2e8/Noun\", \"\\uacc4\\uc18d/Noun\", \"\\uc0ac\\uc9c4/Noun\", \"\\ub0b4\\uc77c/Noun\", \"\\uc2dc\\uac04/Noun\", \"\\uc774\\ubc88/Noun\", \"\\uc0c1\\ud0dc/Noun\", \"\\uc774\\uc218\\uc815/Noun\", \"\\uc544\\uce68/Noun\", \"\\uc6b0\\ub9ac/Noun\", \"\\ubc29\\ud559/Noun\", \"\\uc804\\uae43\\uc904/Noun\", \"\\uacf5\\uac1c/Noun\", \"\\ub204\\uad6c/Noun\", \"\\ub2e4\\uc2dc/Noun\", \"\\uace0\\uc0dd/Noun\", \"\\uac00\\uc7a5/Noun\", \"\\ud574\\uc678/Noun\", \"\\uc774\\uc720/Noun\", \"\\ud558\\ub098/Noun\", \"\\uac11\\uc790\\uae30/Noun\", \"\\uc774\\uc81c/Noun\", \"\\ud4e8\\uc800/Noun\", \"\\uad50\\uc218/Noun\", \"\\ubc84\\uc2a4/Noun\", \"\\uc800\\ub141/Noun\", \"\\uc5bc\\uad74/Noun\", \"\\uc2dc\\uc791/Noun\", \"\\uc99d\\uc790/Noun\", \"\\ucd09\\uac01/Noun\", \"\\uc2b5\\uad00/Noun\", \"\\uc57d\\uc18d/Noun\", \"\\uc9c4\\uc120/Noun\", \"\\uc4f0\\ub808\\uae30\\ud1b5/Noun\", \"\\uc0dd\\ud65c/Noun\", \"\\uc5ec\\ub7ec\\ubd84/Noun\", \"\\ud5c8\\uc2ac/Noun\", \"\\ub77c\\ubbf8/Noun\", \"\\uc74c\\uc545/Noun\", \"\\uc18c\\ub9ac/Noun\", \"\\uc0dd\\uac01/Noun\", \"\\uadf8\\uac83/Noun\", \"\\uc77c\\ub2e8/Noun\", \"\\uc81c\\uc77c/Noun\", \"\\uc5b4\\ub3c4/Noun\", \"\\uae30\\ub85d/Noun\"], \"Freq\": [12.0, 6.0, 7.0, 5.0, 5.0, 5.0, 5.0, 3.0, 5.0, 5.0, 6.0, 3.0, 3.0, 3.0, 4.0, 5.0, 2.0, 6.0, 3.0, 3.0, 3.0, 4.0, 3.0, 3.0, 4.0, 3.0, 2.0, 1.0, 3.0, 1.0, 7.1384196281433105, 3.657140016555786, 3.646347761154175, 2.7884974479675293, 2.7757158279418945, 2.7745885848999023, 1.9281762838363647, 1.926397442817688, 1.9213200807571411, 1.9179610013961792, 1.917567253112793, 1.9175533056259155, 1.9180790185928345, 1.9172608852386475, 1.9165313243865967, 1.9157867431640625, 1.9140002727508545, 1.9138977527618408, 1.9114007949829102, 1.9118832349777222, 1.9113346338272095, 1.9100910425186157, 1.909521460533142, 1.9080309867858887, 1.9057233333587646, 1.9187592267990112, 1.0529659986495972, 1.0524042844772339, 1.0519440174102783, 1.051139235496521, 4.5377702713012695, 1.9209905862808228, 1.908626675605774, 1.9283907413482666, 1.919425129890442, 1.97463858127594, 1.9286296367645264, 1.9392262697219849, 1.917977213859558, 1.9212079048156738, 1.9171189069747925, 1.9163732528686523, 5.217556476593018, 5.192190647125244, 4.579776763916016, 2.6691195964813232, 2.671227216720581, 2.664660692214966, 2.028754711151123, 2.027869462966919, 1.3993067741394043, 1.4001717567443848, 1.3972654342651367, 1.3960522413253784, 1.396496057510376, 1.3961997032165527, 1.3949644565582275, 1.395087718963623, 1.3946444988250732, 1.3955591917037964, 1.3952511548995972, 1.3935946226119995, 1.3950071334838867, 1.3940820693969727, 1.393309473991394, 1.3933759927749634, 1.3898590803146362, 3.9289252758026123, 2.6716971397399902, 2.030277967453003, 1.397087574005127, 0.7664151191711426, 1.4020190238952637, 1.3997442722320557, 1.3967550992965698, 1.3949109315872192, 5.973837852478027, 3.375356912612915, 2.7313952445983887, 2.722503662109375, 2.0778427124023438, 2.0777268409729004, 2.065300703048706, 1.4323567152023315, 1.4305641651153564, 1.4277814626693726, 1.4267176389694214, 1.4258630275726318, 1.4258289337158203, 1.4250385761260986, 1.4245531558990479, 1.4235457181930542, 1.4216182231903076, 2.081303358078003, 2.0775301456451416, 2.0741777420043945, 0.785600483417511, 0.7852630019187927, 0.7849635481834412, 0.7848846316337585, 0.7844614386558533, 0.7843118906021118, 0.7843393683433533, 0.7841479182243347, 0.7837393879890442, 0.7839909195899963, 1.0983197689056396, 2.761565923690796, 0.7880153059959412, 0.7951429486274719, 0.7907004952430725, 0.7879416942596436, 0.7866413593292236, 0.7866353988647461, 0.7861708402633667, 0.7856663465499878, 11.814160346984863, 4.874908447265625, 3.3121633529663086, 3.3048155307769775, 2.7687621116638184, 2.2328829765319824, 2.230876922607422, 2.231158494949341, 4.355954170227051, 1.7115154266357422, 1.7100545167922974, 1.7081102132797241, 1.706834077835083, 1.7055500745773315, 1.7056633234024048, 1.7041025161743164, 1.7011018991470337, 3.3010828495025635, 1.1766488552093506, 1.1755810976028442, 1.175552487373352, 1.1748539209365845, 1.1734811067581177, 1.1731170415878296, 1.1730319261550903, 1.1727203130722046, 1.1722768545150757, 1.1720634698867798, 1.170436978340149, 1.1694061756134033, 2.2497572898864746, 1.7028883695602417, 3.2901244163513184, 1.7045729160308838, 1.724117636680603, 1.178735375404358, 1.178369402885437, 1.175900936126709, 1.174890160560608, 2.481226682662964, 1.5725901126861572, 1.2788586616516113, 1.273856520652771, 1.2681571245193481, 0.9750551581382751, 0.9740197062492371, 0.9722914695739746, 0.9723882079124451, 0.9713367223739624, 0.9709972739219666, 0.9691974520683289, 0.6712100505828857, 0.6708124279975891, 0.6699073910713196, 0.6692696809768677, 0.6690995693206787, 0.6692118048667908, 0.668947160243988, 0.6686902046203613, 0.6686365008354187, 0.6680916547775269, 0.6682361364364624, 0.667980968952179, 0.6673408150672913, 0.6669043302536011, 0.6666468977928162, 0.6668754816055298, 0.6663040518760681, 0.6662267446517944, 1.2727411985397339, 1.8924263715744019, 0.9813582301139832, 0.6816301345825195, 0.6720229387283325, 0.6707354187965393, 0.669331431388855], \"Total\": [12.0, 6.0, 7.0, 5.0, 5.0, 5.0, 5.0, 3.0, 5.0, 5.0, 6.0, 3.0, 3.0, 3.0, 4.0, 5.0, 2.0, 6.0, 3.0, 3.0, 3.0, 4.0, 3.0, 3.0, 4.0, 3.0, 2.0, 1.0, 3.0, 1.0, 7.674008369445801, 4.141112327575684, 4.135508060455322, 3.2594423294067383, 3.2537050247192383, 3.253939151763916, 2.3810057640075684, 2.3806605339050293, 2.3783414363861084, 2.3767406940460205, 2.3764591217041016, 2.376566171646118, 2.3775131702423096, 2.3766911029815674, 2.3760292530059814, 2.376995086669922, 2.3753914833068848, 2.3754613399505615, 2.373840808868408, 2.375065803527832, 2.374445915222168, 2.3736414909362793, 2.3735873699188232, 2.373988628387451, 2.372804641723633, 2.697293519973755, 1.4970263242721558, 1.4963303804397583, 1.4963083267211914, 1.496118187904358, 6.659839153289795, 2.922941207885742, 2.917022228240967, 3.0172805786132812, 3.0232787132263184, 6.95065975189209, 3.6716043949127197, 5.653114318847656, 3.0350289344787598, 3.669142246246338, 3.0213704109191895, 3.0382537841796875, 5.807100296020508, 5.7965922355651855, 5.149885177612305, 3.205669403076172, 3.2101902961730957, 3.206883430480957, 2.556644916534424, 2.55680775642395, 1.9096972942352295, 1.9113960266113281, 1.9091246128082275, 1.9086792469024658, 1.9096733331680298, 1.9093729257583618, 1.9080665111541748, 1.9084744453430176, 1.9085514545440674, 1.9098711013793945, 1.9099156856536865, 1.908760905265808, 1.9108333587646484, 1.9098581075668335, 1.9089219570159912, 1.909775972366333, 1.9086071252822876, 5.466855049133301, 3.8694355487823486, 3.1055147647857666, 2.230013847351074, 1.2609878778457642, 2.552626848220825, 3.669142246246338, 3.6716043949127197, 2.7869484424591064, 6.574497222900391, 3.927582263946533, 3.2622787952423096, 3.26377534866333, 2.599494695663452, 2.601194143295288, 2.5988333225250244, 1.9373811483383179, 1.9386005401611328, 1.936975121498108, 1.9377930164337158, 1.9371737241744995, 1.9376921653747559, 1.937458872795105, 1.937009572982788, 1.9371137619018555, 1.9368246793746948, 2.9179608821868896, 2.9221866130828857, 2.9203147888183594, 1.2753692865371704, 1.27531898021698, 1.2754887342453003, 1.275506854057312, 1.2748832702636719, 1.2749279737472534, 1.275490403175354, 1.2756233215332031, 1.2752140760421753, 1.2759209871292114, 1.878745198249817, 6.95065975189209, 1.5957450866699219, 3.8694355487823486, 2.3710105419158936, 3.0382537841796875, 2.4769973754882812, 3.0350289344787598, 2.157241106033325, 2.1550724506378174, 12.960638999938965, 5.537616729736328, 3.8982222080230713, 3.8922550678253174, 3.3485729694366455, 2.8024563789367676, 2.801036834716797, 2.801593780517578, 5.63804817199707, 2.2523295879364014, 2.2524468898773193, 2.253795623779297, 2.2537946701049805, 2.252241611480713, 2.253488302230835, 2.2527213096618652, 2.2535386085510254, 4.771623134613037, 1.7055468559265137, 1.7056488990783691, 1.706429362297058, 1.7060344219207764, 1.706519365310669, 1.7061994075775146, 1.7063102722167969, 1.707032322883606, 1.7071560621261597, 1.7071126699447632, 1.7070151567459106, 1.7072160243988037, 3.4303383827209473, 2.577849864959717, 5.653114318847656, 2.900313377380371, 6.659839153289795, 2.0271596908569336, 3.235506057739258, 2.5856575965881348, 2.3553154468536377, 3.18324875831604, 2.221672534942627, 1.888916254043579, 1.8947190046310425, 1.9008262157440186, 1.5700124502182007, 1.5694499015808105, 1.5718393325805664, 1.5725517272949219, 1.5738457441329956, 1.5741474628448486, 1.5748530626296997, 1.2491793632507324, 1.2506918907165527, 1.2510569095611572, 1.251976728439331, 1.2526588439941406, 1.2530266046524048, 1.2529218196868896, 1.2528672218322754, 1.2538607120513916, 1.2531476020812988, 1.2534568309783936, 1.2538230419158936, 1.2543787956237793, 1.2547690868377686, 1.2547800540924072, 1.2558050155639648, 1.2555019855499268, 1.2558127641677856, 2.779567241668701, 6.95065975189209, 5.466855049133301, 3.4303383827209473, 3.0172805786132812, 2.552626848220825, 2.135791778564453], \"Category\": [\"Default\", \"Default\", \"Default\", \"Default\", \"Default\", \"Default\", \"Default\", \"Default\", \"Default\", \"Default\", \"Default\", \"Default\", \"Default\", \"Default\", \"Default\", \"Default\", \"Default\", \"Default\", \"Default\", \"Default\", \"Default\", \"Default\", \"Default\", \"Default\", \"Default\", \"Default\", \"Default\", \"Default\", \"Default\", \"Default\", \"Topic1\", \"Topic1\", \"Topic1\", \"Topic1\", \"Topic1\", \"Topic1\", \"Topic1\", \"Topic1\", \"Topic1\", \"Topic1\", \"Topic1\", \"Topic1\", \"Topic1\", \"Topic1\", \"Topic1\", \"Topic1\", \"Topic1\", \"Topic1\", \"Topic1\", \"Topic1\", \"Topic1\", \"Topic1\", \"Topic1\", \"Topic1\", \"Topic1\", \"Topic1\", \"Topic1\", \"Topic1\", \"Topic1\", \"Topic1\", \"Topic1\", \"Topic1\", \"Topic1\", \"Topic1\", \"Topic1\", \"Topic1\", \"Topic1\", \"Topic1\", \"Topic1\", \"Topic1\", \"Topic1\", \"Topic1\", \"Topic2\", \"Topic2\", \"Topic2\", \"Topic2\", \"Topic2\", \"Topic2\", \"Topic2\", \"Topic2\", \"Topic2\", \"Topic2\", \"Topic2\", \"Topic2\", \"Topic2\", \"Topic2\", \"Topic2\", \"Topic2\", \"Topic2\", \"Topic2\", \"Topic2\", \"Topic2\", \"Topic2\", \"Topic2\", \"Topic2\", \"Topic2\", \"Topic2\", \"Topic2\", \"Topic2\", \"Topic2\", \"Topic2\", \"Topic2\", \"Topic2\", \"Topic2\", \"Topic2\", \"Topic2\", \"Topic3\", \"Topic3\", \"Topic3\", \"Topic3\", \"Topic3\", \"Topic3\", \"Topic3\", \"Topic3\", \"Topic3\", \"Topic3\", \"Topic3\", \"Topic3\", \"Topic3\", \"Topic3\", \"Topic3\", \"Topic3\", \"Topic3\", \"Topic3\", \"Topic3\", \"Topic3\", \"Topic3\", \"Topic3\", \"Topic3\", \"Topic3\", \"Topic3\", \"Topic3\", \"Topic3\", \"Topic3\", \"Topic3\", \"Topic3\", \"Topic3\", \"Topic3\", \"Topic3\", \"Topic3\", \"Topic3\", \"Topic3\", \"Topic3\", \"Topic3\", \"Topic3\", \"Topic3\", \"Topic4\", \"Topic4\", \"Topic4\", \"Topic4\", \"Topic4\", \"Topic4\", \"Topic4\", \"Topic4\", \"Topic4\", \"Topic4\", \"Topic4\", \"Topic4\", \"Topic4\", \"Topic4\", \"Topic4\", \"Topic4\", \"Topic4\", \"Topic4\", \"Topic4\", \"Topic4\", \"Topic4\", \"Topic4\", \"Topic4\", \"Topic4\", \"Topic4\", \"Topic4\", \"Topic4\", \"Topic4\", \"Topic4\", \"Topic4\", \"Topic4\", \"Topic4\", \"Topic4\", \"Topic4\", \"Topic4\", \"Topic4\", \"Topic4\", \"Topic4\", \"Topic4\", \"Topic5\", \"Topic5\", \"Topic5\", \"Topic5\", \"Topic5\", \"Topic5\", \"Topic5\", \"Topic5\", \"Topic5\", \"Topic5\", \"Topic5\", \"Topic5\", \"Topic5\", \"Topic5\", \"Topic5\", \"Topic5\", \"Topic5\", \"Topic5\", \"Topic5\", \"Topic5\", \"Topic5\", \"Topic5\", \"Topic5\", \"Topic5\", \"Topic5\", \"Topic5\", \"Topic5\", \"Topic5\", \"Topic5\", \"Topic5\", \"Topic5\", \"Topic5\", \"Topic5\", \"Topic5\", \"Topic5\", \"Topic5\", \"Topic5\"], \"logprob\": [30.0, 29.0, 28.0, 27.0, 26.0, 25.0, 24.0, 23.0, 22.0, 21.0, 20.0, 19.0, 18.0, 17.0, 16.0, 15.0, 14.0, 13.0, 12.0, 11.0, 10.0, 9.0, 8.0, 7.0, 6.0, 5.0, 4.0, 3.0, 2.0, 1.0, -3.8533999919891357, -4.522200107574463, -4.525199890136719, -4.793399810791016, -4.797999858856201, -4.798399925231934, -5.162300109863281, -5.1631999015808105, -5.165900230407715, -5.167600154876709, -5.167799949645996, -5.167799949645996, -5.167600154876709, -5.168000221252441, -5.168399810791016, -5.168799877166748, -5.1697001457214355, -5.1697998046875, -5.17110013961792, -5.17080020904541, -5.17110013961792, -5.1717000007629395, -5.171999931335449, -5.172800064086914, -5.173999786376953, -5.167200088500977, -5.767300128936768, -5.7677998542785645, -5.7683000564575195, -5.769000053405762, -4.30649995803833, -5.166100025177002, -5.172500133514404, -5.162199974060059, -5.166900157928467, -5.138500213623047, -5.162099838256836, -5.156599998474121, -5.167600154876709, -5.165900230407715, -5.168099880218506, -5.168499946594238, -3.892400026321411, -3.8973000049591064, -4.022799968719482, -4.562699794769287, -4.5619001388549805, -4.564300060272217, -4.836999893188477, -4.837399959564209, -5.208399772644043, -5.207799911499023, -5.20989990234375, -5.2108001708984375, -5.210400104522705, -5.210700035095215, -5.21150016784668, -5.211400032043457, -5.2118000984191895, -5.211100101470947, -5.211299896240234, -5.212500095367432, -5.21150016784668, -5.212200164794922, -5.212699890136719, -5.212699890136719, -5.215199947357178, -4.176000118255615, -4.561699867248535, -4.83620023727417, -5.210000038146973, -5.810400009155273, -5.206500053405762, -5.208099842071533, -5.210299968719482, -5.211599826812744, -3.7520999908447266, -4.322999954223633, -4.5346999168396, -4.538000106811523, -4.808199882507324, -4.808300018310547, -4.814300060272217, -5.180200099945068, -5.18149995803833, -5.1834001541137695, -5.184199810028076, -5.184800148010254, -5.184800148010254, -5.185299873352051, -5.185699939727783, -5.186399936676025, -5.187699794769287, -4.80649995803833, -4.8084001541137695, -4.809999942779541, -5.780799865722656, -5.781300067901611, -5.781700134277344, -5.781799793243408, -5.782299995422363, -5.78249979019165, -5.782400131225586, -5.782700061798096, -5.783199787139893, -5.782899856567383, -5.445799827575684, -4.52370023727417, -5.7778000831604, -5.768799781799316, -5.774400234222412, -5.777900218963623, -5.7795000076293945, -5.7795000076293945, -5.780099868774414, -5.780799865722656, -3.038800001144409, -3.9238998889923096, -4.310400009155273, -4.312699794769287, -4.48960018157959, -4.704800128936768, -4.705699920654297, -4.70550012588501, -4.036499977111816, -4.970699787139893, -4.971499919891357, -4.972700119018555, -4.973400115966797, -4.9741997718811035, -4.974100112915039, -4.974999904632568, -4.976799964904785, -4.313799858093262, -5.345399856567383, -5.34630012512207, -5.34630012512207, -5.34689998626709, -5.348100185394287, -5.348400115966797, -5.348499774932861, -5.348700046539307, -5.349100112915039, -5.349299907684326, -5.3506999015808105, -5.351600170135498, -4.697199821472168, -4.9756999015808105, -4.3171000480651855, -4.974699974060059, -4.9633002281188965, -5.343599796295166, -5.343900203704834, -5.3460001945495605, -5.34689998626709, -3.976799964904785, -4.4328999519348145, -4.639599800109863, -4.643499851226807, -4.6479997634887695, -4.910799980163574, -4.911900043487549, -4.913700103759766, -4.913599967956543, -4.914700031280518, -4.914999961853027, -4.916900157928467, -5.284299850463867, -5.284800052642822, -5.286200046539307, -5.287099838256836, -5.287399768829346, -5.287199974060059, -5.287600040435791, -5.288000106811523, -5.288099765777588, -5.288899898529053, -5.288700103759766, -5.289100170135498, -5.289999961853027, -5.2906999588012695, -5.291100025177002, -5.2906999588012695, -5.291600227355957, -5.2916998863220215, -4.644400119781494, -4.247700214385986, -4.904399871826172, -5.268799781799316, -5.2829999923706055, -5.284999847412109, -5.287099838256836], \"loglift\": [30.0, 29.0, 28.0, 27.0, 26.0, 25.0, 24.0, 23.0, 22.0, 21.0, 20.0, 19.0, 18.0, 17.0, 16.0, 15.0, 14.0, 13.0, 12.0, 11.0, 10.0, 9.0, 8.0, 7.0, 6.0, 5.0, 4.0, 3.0, 2.0, 1.0, 1.2202999591827393, 1.1683000326156616, 1.166700005531311, 1.1366000175476074, 1.1337000131607056, 1.1332999467849731, 1.0816999673843384, 1.080899953842163, 1.079200029373169, 1.0780999660491943, 1.0780999660491943, 1.0779999494552612, 1.0779000520706177, 1.0778000354766846, 1.0777000188827515, 1.0769000053405762, 1.0765999555587769, 1.0765999555587769, 1.0758999586105347, 1.075700044631958, 1.075700044631958, 1.0752999782562256, 1.0750999450683594, 1.0741000175476074, 1.0734000205993652, 0.9520000219345093, 0.9406999945640564, 0.9406999945640564, 0.9402999877929688, 0.9395999908447266, 0.9089999794960022, 0.8729000091552734, 0.868399977684021, 0.8449000120162964, 0.8382999897003174, 0.03420000150799751, 0.6488000154495239, 0.22269999980926514, 0.8337000012397766, 0.6456000208854675, 0.8377000093460083, 0.8317999839782715, 1.4601000547409058, 1.4570000171661377, 1.4498000144958496, 1.3839000463485718, 1.3832999467849731, 1.3818999528884888, 1.335800051689148, 1.3352999687194824, 1.256100058555603, 1.2559000253677368, 1.2549999952316284, 1.2542999982833862, 1.25409996509552, 1.25409996509552, 1.2539000511169434, 1.2538000345230103, 1.2533999681472778, 1.2533999681472778, 1.253100037574768, 1.252500057220459, 1.252500057220459, 1.2523000240325928, 1.2522000074386597, 1.2517999410629272, 1.249899983406067, 1.236799955368042, 1.1966999769210815, 1.1420999765396118, 1.0994999408721924, 1.069200038909912, 0.9678999781608582, 0.6033999919891357, 0.600600004196167, 0.875, 1.476199984550476, 1.4205000400543213, 1.3944000005722046, 1.3905999660491943, 1.3480000495910645, 1.3473000526428223, 1.3422000408172607, 1.2699999809265137, 1.2681000232696533, 1.2669999599456787, 1.2657999992370605, 1.2654999494552612, 1.2652000188827515, 1.264799952507019, 1.2647000551223755, 1.2639000415802002, 1.2626999616622925, 1.2340999841690063, 1.2308000326156616, 1.2297999858856201, 1.087399959564209, 1.0870000123977661, 1.0865000486373901, 1.086400032043457, 1.086400032043457, 1.0860999822616577, 1.0857000350952148, 1.0853999853134155, 1.0851999521255493, 1.0850000381469727, 1.0351999998092651, 0.6488999724388123, 0.8664000034332275, -0.010400000028312206, 0.47380000352859497, 0.2223999947309494, 0.42489999532699585, 0.22179999947547913, 0.5626000165939331, 0.5629000067710876, 1.5108000040054321, 1.4759999513626099, 1.440500020980835, 1.4399000406265259, 1.4133000373840332, 1.3762999773025513, 1.3759000301361084, 1.3758000135421753, 1.3454999923706055, 1.3288999795913696, 1.3279999494552612, 1.326200008392334, 1.3255000114440918, 1.3253999948501587, 1.3249000310897827, 1.3243999481201172, 1.3221999406814575, 1.2350000143051147, 1.232200026512146, 1.2312999963760376, 1.2308000326156616, 1.2303999662399292, 1.2289999723434448, 1.2288999557495117, 1.228700041770935, 1.2280000448226929, 1.2275999784469604, 1.2273999452590942, 1.226099967956543, 1.225100040435791, 1.1815999746322632, 1.1887999773025513, 1.0621999502182007, 1.0720000267028809, 0.25209999084472656, 1.0613000392913818, 0.5934000015258789, 0.815500020980835, 0.9079999923706055, 1.9767999649047852, 1.8803999423980713, 1.8358999490737915, 1.8288999795913696, 1.8212000131607056, 1.7496000528335571, 1.748900055885315, 1.7455999851226807, 1.7452000379562378, 1.743299961090088, 1.742799997329712, 1.7404999732971191, 1.6047999858856201, 1.6030000448226929, 1.6013000011444092, 1.5995999574661255, 1.5987999439239502, 1.5987000465393066, 1.5983999967575073, 1.598099946975708, 1.5972000360488892, 1.5968999862670898, 1.5968999862670898, 1.5961999893188477, 1.5947999954223633, 1.5938999652862549, 1.593500018119812, 1.593000054359436, 1.5923999547958374, 1.5920000076293945, 1.4448000192642212, 0.925000011920929, 0.508400022983551, 0.6100000143051147, 0.7240999937057495, 0.8894000053405762, 1.065600037574768]}, \"token.table\": {\"Topic\": [3, 5, 5, 4, 1, 3, 2, 1, 4, 4, 4, 5, 5, 1, 3, 3, 5, 4, 2, 5, 3, 1, 3, 3, 1, 5, 1, 4, 2, 2, 3, 1, 2, 4, 4, 1, 3, 5, 1, 1, 5, 4, 2, 3, 3, 3, 1, 3, 3, 4, 1, 3, 2, 2, 1, 5, 4, 2, 2, 4, 2, 1, 2, 4, 4, 2, 3, 1, 4, 2, 4, 1, 3, 2, 1, 3, 1, 3, 5, 5, 4, 1, 1, 2, 4, 2, 4, 4, 1, 4, 1, 4, 1, 1, 1, 2, 4, 1, 1, 3, 5, 1, 2, 5, 1, 3, 3, 1, 5, 3, 2, 2, 5, 1, 4, 3, 3, 4, 5, 2, 5, 4, 2, 4, 3, 4, 3, 3, 5, 2, 5, 5, 4, 5, 1, 2, 3, 3, 3, 3, 4, 3, 2, 5, 2, 4, 2, 4, 3, 5, 1, 4, 4, 1, 4, 1, 5, 1, 5, 2, 1, 4, 5, 3, 4, 1, 4, 5, 5, 2, 2, 1, 2, 2, 1, 5, 1, 4, 4, 5, 1, 4, 3, 5, 2, 4, 2, 5, 1, 3, 1, 3, 1, 1, 3, 1, 2, 4, 5, 2, 1, 2, 3, 5, 1, 2, 5, 1, 5, 1, 2], \"Freq\": [0.6854101419448853, 0.6361973285675049, 0.6349799036979675, 0.5859881043434143, 0.4037145972251892, 0.4037145972251892, 0.935487687587738, 0.8423017859458923, 0.8873922824859619, 0.7758404016494751, 0.8878151178359985, 0.637165904045105, 0.5277827382087708, 0.4635550379753113, 0.4635550379753113, 0.5161606669425964, 0.7993241548538208, 0.5863221883773804, 0.7316821217536926, 0.18292053043842316, 0.9191809296607971, 0.9672330021858215, 0.7843855619430542, 0.5163089632987976, 0.4682104289531708, 0.4682104289531708, 0.684242308139801, 0.3421211540699005, 0.5239000916481018, 0.5236216187477112, 0.784182071685791, 0.8425164818763733, 0.34479033946990967, 0.6895806789398193, 0.586018979549408, 0.6589723229408264, 0.3294861614704132, 0.5260870456695557, 0.9219594597816467, 0.6683015823364258, 0.6369376182556152, 0.7136596441268921, 0.7930290102958679, 0.6848576664924622, 0.5161399841308594, 0.5162689089775085, 0.4640215337276459, 0.4640215337276459, 0.784117579460144, 0.7140213251113892, 0.8399811387062073, 0.7840020656585693, 0.5235990881919861, 0.523331880569458, 0.6683114767074585, 0.79649418592453, 0.8879232406616211, 0.5231778025627136, 0.17736634612083435, 0.7094653844833374, 0.5236497521400452, 0.9659240245819092, 0.5236431956291199, 0.7707614302635193, 0.5858178734779358, 0.5239422917366028, 0.9196025729179382, 0.8401029706001282, 0.895904004573822, 0.7822752594947815, 0.585769534111023, 0.6582728624343872, 0.3291364312171936, 0.9345240592956543, 0.8415881991386414, 0.7837476134300232, 0.8415502905845642, 0.6844189763069153, 0.900222659111023, 0.7987368702888489, 0.7138793468475342, 0.9204028248786926, 0.5447210073471069, 0.27236050367355347, 0.5857489705085754, 0.5239575505256653, 0.5860598683357239, 0.9258802533149719, 0.20957228541374207, 0.6287168860435486, 0.35378730297088623, 0.5306809544563293, 0.8417404890060425, 0.8426064252853394, 0.3090706765651703, 0.3090706765651703, 0.3090706765651703, 0.8409221768379211, 0.2877424657344818, 0.4316137135028839, 0.2877424657344818, 0.6615334749221802, 0.3307667374610901, 0.796959400177002, 0.9220257997512817, 0.7840121984481812, 0.7688776254653931, 0.35976824164390564, 0.35976824164390564, 0.5158360004425049, 0.8625757694244385, 0.5235832929611206, 0.797990620136261, 0.7507688999176025, 0.3003075420856476, 0.6266664862632751, 0.7840132117271423, 0.7695815563201904, 0.7981343865394592, 0.5237321853637695, 0.7972073554992676, 0.9029154777526855, 0.42457157373428345, 0.42457157373428345, 0.7695760726928711, 0.5861546397209167, 0.784358024597168, 0.7693802714347839, 0.7977937459945679, 0.39175331592559814, 0.39175331592559814, 0.7980676293373108, 0.585811972618103, 0.7969524264335632, 0.5450865030288696, 0.2725432515144348, 0.5322701334953308, 0.7839304804801941, 0.5160509943962097, 0.42176109552383423, 0.42176109552383423, 0.9126173257827759, 0.5235955715179443, 0.6282889246940613, 0.7822254300117493, 0.8875129222869873, 0.6440156102180481, 0.32200780510902405, 0.7840866446495056, 0.7962970733642578, 0.842464029788971, 0.49330103397369385, 0.8880041837692261, 0.3867488205432892, 0.3867488205432892, 0.8412151336669922, 0.6353862881660461, 0.8414885401725769, 0.8005255460739136, 0.5238558650016785, 0.8413984775543213, 0.5830328464508057, 0.29151642322540283, 0.763828694820404, 0.8873919248580933, 0.7414839863777161, 0.5857844352722168, 0.7983019351959229, 0.5294041037559509, 0.5239225029945374, 0.5239787101745605, 0.35881540179252625, 0.35881540179252625, 0.523800253868103, 0.6628485321998596, 0.3314242660999298, 0.841966450214386, 0.5860979557037354, 0.8874931335449219, 0.7981691956520081, 0.6856306791305542, 0.3428153395652771, 0.5162319540977478, 0.7975606918334961, 0.8610149025917053, 0.5862871408462524, 0.5240907669067383, 0.7975367307662964, 0.8428844213485718, 0.5162597298622131, 0.9121699929237366, 0.516215980052948, 0.8415060639381409, 0.6683964133262634, 0.5160778760910034, 0.6619513034820557, 0.33097565174102783, 0.8879694938659668, 0.7995574474334717, 0.4484277069568634, 0.8419417142868042, 0.7753068804740906, 0.2584356367588043, 0.63526451587677, 0.6679909229278564, 0.9708954095840454, 0.6359091401100159, 0.8420819044113159, 0.7963019609451294, 0.8425872325897217, 0.935841977596283], \"Term\": [\"\\uac00\\uc785/Noun\", \"\\uac00\\uc7a5/Noun\", \"\\uac11\\uc790\\uae30/Noun\", \"\\uac1c\\uac15/Noun\", \"\\uac70\\uae30/Noun\", \"\\uac70\\uae30/Noun\", \"\\uac70\\ub9ac/Noun\", \"\\uac70\\uc758/Noun\", \"\\uac78\\uc74c/Noun\", \"\\uacc4\\uc18d/Noun\", \"\\uacc4\\uc815/Noun\", \"\\uace0\\uc0dd/Noun\", \"\\uacf5\\uac1c/Noun\", \"\\uacf5\\uc720/Noun\", \"\\uacf5\\uc720/Noun\", \"\\uacf5\\ud3ec/Noun\", \"\\uad50\\uc218/Noun\", \"\\uad8c\\uc7a5/Noun\", \"\\uadf8\\uac83/Noun\", \"\\uadf8\\uac83/Noun\", \"\\uadf8\\ub0e5/Noun\", \"\\uadf8\\ub140/Noun\", \"\\uadf9\\ub3c4/Noun\", \"\\uae30\\ub300/Noun\", \"\\uae30\\ub85d/Noun\", \"\\uae30\\ub85d/Noun\", \"\\uae30\\ubd84/Noun\", \"\\uae30\\ubd84/Noun\", \"\\uae30\\uc5b5/Noun\", \"\\uae30\\uc808/Noun\", \"\\ub098\\uc774\\ud2b8/Noun\", \"\\ub0a0\\uc528/Noun\", \"\\ub0b4\\uc77c/Noun\", \"\\ub0b4\\uc77c/Noun\", \"\\ub124\\uc774\\ubc84/Noun\", \"\\ub178\\ub798/Noun\", \"\\ub178\\ub798/Noun\", \"\\ub204\\uad6c/Noun\", \"\\ub2e4\\ub978/Noun\", \"\\ub2e4\\uc12f/Noun\", \"\\ub2e4\\uc2dc/Noun\", \"\\ub2f9\\uc2e0/Noun\", \"\\ub300\\ubd80\\ubd84/Noun\", \"\\ub300\\ud55c/Noun\", \"\\ub300\\ud654/Noun\", \"\\ub370\\uc2a4\\ud06c\\ud0d1/Noun\", \"\\ub3c4\\uc2dc/Noun\", \"\\ub3c4\\uc2dc/Noun\", \"\\ub3c4\\uc6c0/Noun\", \"\\ub3d9\\uc548/Noun\", \"\\ub3fc\\uc9c0/Noun\", \"\\ub434\\uc789/Noun\", \"\\ub54c\\ubb38/Noun\", \"\\ub610\\ud55c/Noun\", \"\\ub77c\\ub5bc/Noun\", \"\\ub77c\\ubbf8/Noun\", \"\\ub77c\\uc774\\ud504/Noun\", \"\\ub9c8\\uad6c/Noun\", \"\\ub9c8\\uc74c/Noun\", \"\\ub9c8\\uc74c/Noun\", \"\\ub9c9\\uc0c1/Noun\", \"\\ub9e4\\uc77c/Noun\", \"\\ub9e4\\ud639/Noun\", \"\\uba38\\ub9ac/Noun\", \"\\uba74\\uc11c/Noun\", \"\\uba85\\uc0c1/Noun\", \"\\ubaa8\\ub450/Noun\", \"\\ubaa8\\ub4c8/Noun\", \"\\ubaa8\\ub4e0/Noun\", \"\\ubab9\\uc2dc/Noun\", \"\\ubb34\\ub985\\uc4f0/Noun\", \"\\ubb34\\uc5c7/Noun\", \"\\ubb34\\uc5c7/Noun\", \"\\ubb34\\ucc99/Noun\", \"\\ubbf8\\ub798/Noun\", \"\\ubbf8\\uc138\\uba3c\\uc9c0/Noun\", \"\\ubbfc\\uc724\\uae30/Noun\", \"\\ubc29\\ubc95/Noun\", \"\\ubc29\\ud559/Noun\", \"\\ubc84\\uc2a4/Noun\", \"\\ubc84\\uc804/Noun\", \"\\ubc8c\\uc368/Noun\", \"\\ubca0\\ud0c0/Noun\", \"\\ubca0\\ud0c0/Noun\", \"\\ubcf4\\uace0/Noun\", \"\\ubcf4\\uc2dc/Noun\", \"\\ubcf4\\uc774/Noun\", \"\\uc0ac\\ub78c/Noun\", \"\\uc0ac\\uc6a9/Noun\", \"\\uc0ac\\uc6a9/Noun\", \"\\uc0ac\\uc9c4/Noun\", \"\\uc0ac\\uc9c4/Noun\", \"\\uc0b4\\uc810/Noun\", \"\\uc0c1\\ucc98/Noun\", \"\\uc0c1\\ud0dc/Noun\", \"\\uc0c1\\ud0dc/Noun\", \"\\uc0c1\\ud0dc/Noun\", \"\\uc0c8\\ubcbd/Noun\", \"\\uc0dd\\uac01/Noun\", \"\\uc0dd\\uac01/Noun\", \"\\uc0dd\\uac01/Noun\", \"\\uc0dd\\uc77c/Noun\", \"\\uc0dd\\uc77c/Noun\", \"\\uc0dd\\ud65c/Noun\", \"\\uc11c\\ube44\\uc2a4/Noun\", \"\\uc124\\uba85/Noun\", \"\\uc138\\uc0c1/Noun\", \"\\uc18c\\ub9ac/Noun\", \"\\uc18c\\ub9ac/Noun\", \"\\uc218\\uc601\\uc7a5/Noun\", \"\\uc2a4\\ub2d8/Noun\", \"\\uc2a4\\uce74\\uc774/Noun\", \"\\uc2b5\\uad00/Noun\", \"\\uc2dc\\uac04/Noun\", \"\\uc2dc\\uac04/Noun\", \"\\uc2dc\\ub300/Noun\", \"\\uc2dc\\uc2a4/Noun\", \"\\uc2dc\\uc2a4\\ud15c/Noun\", \"\\uc2dc\\uc791/Noun\", \"\\uc2dc\\uc810/Noun\", \"\\uc4f0\\ub808\\uae30\\ud1b5/Noun\", \"\\uc544\\uc8fc/Noun\", \"\\uc544\\uce68/Noun\", \"\\uc544\\uce68/Noun\", \"\\uc545\\ub2f9/Noun\", \"\\uc548\\ubcf4/Noun\", \"\\uc560\\ucd08/Noun\", \"\\uc57d\\uac04/Noun\", \"\\uc57d\\uc18d/Noun\", \"\\uc5b4\\ub3c4/Noun\", \"\\uc5b4\\ub3c4/Noun\", \"\\uc5bc\\uad74/Noun\", \"\\uc5ec\\uae30/Noun\", \"\\uc5ec\\ub7ec\\ubd84/Noun\", \"\\uc5ec\\uc790/Noun\", \"\\uc5ec\\uc790/Noun\", \"\\uc5f0\\uc18d/Noun\", \"\\uc5f0\\uc78e/Noun\", \"\\uc601\\ud63c/Noun\", \"\\uc608\\uc9c0/Noun\", \"\\uc608\\uc9c0/Noun\", \"\\uc624\\ub298/Noun\", \"\\uc694\\uc998/Noun\", \"\\uc6b0\\ub9ac/Noun\", \"\\uc6b0\\uc0b0/Noun\", \"\\uc704\\ub85c/Noun\", \"\\uc704\\ud574/Noun\", \"\\uc704\\ud574/Noun\", \"\\uc74c\\ubbf8/Noun\", \"\\uc74c\\uc545/Noun\", \"\\uc774\\ubbf8\\uc9c0/Noun\", \"\\uc774\\ubc88/Noun\", \"\\uc774\\uc0c1/Noun\", \"\\uc774\\uc218\\uc815/Noun\", \"\\uc774\\uc218\\uc815/Noun\", \"\\uc774\\uc57c\\uae30/Noun\", \"\\uc774\\uc720/Noun\", \"\\uc774\\uc804/Noun\", \"\\uc774\\uc81c/Noun\", \"\\uc774\\ud574/Noun\", \"\\uc778\\uc7ac/Noun\", \"\\uc77c\\ub2e8/Noun\", \"\\uc77c\\ub2e8/Noun\", \"\\uc77c\\uc774/Noun\", \"\\uc790\\uc8fc/Noun\", \"\\uc7a1\\uace0/Noun\", \"\\uc7ac\\ubbf8/Noun\", \"\\uc800\\ub141/Noun\", \"\\uc804\\uae43\\uc904/Noun\", \"\\uc810\\ud504/Noun\", \"\\uc815\\ub3c4/Noun\", \"\\uc815\\ub9d0/Noun\", \"\\uc815\\ub9d0/Noun\", \"\\uc815\\uc2e0/Noun\", \"\\uc81c\\uc77c/Noun\", \"\\uc81c\\uc77c/Noun\", \"\\uc874\\uc7ac/Noun\", \"\\uc878\\uc5c5\\uc2dd/Noun\", \"\\uc904\\ud0c0\\uae30/Noun\", \"\\uc99d\\uc790/Noun\", \"\\uc9c0\\uae08/Noun\", \"\\uc9c0\\uae08/Noun\", \"\\uc9c1\\uc811/Noun\", \"\\uc9c4\\uc120/Noun\", \"\\uc9c4\\uc9dc/Noun\", \"\\ucc29\\uc9c0/Noun\", \"\\ucc98\\uc74c/Noun\", \"\\ucd09\\uac01/Noun\", \"\\ucd5c\\uace0/Noun\", \"\\ucd94\\ucc9c/Noun\", \"\\uce5c\\uad6c/Noun\", \"\\uce74\\uba54\\ub77c/Noun\", \"\\uce90\\uc2ac/Noun\", \"\\uceec\\ub7ec/Noun\", \"\\ucf54\\ucf54/Noun\", \"\\ud1b5\\uc81c/Noun\", \"\\ud1b5\\uc81c/Noun\", \"\\ud300\\uc6d0/Noun\", \"\\ud4e8\\uc800/Noun\", \"\\ud504\\ub85c\\uadf8\\ub7a8/Noun\", \"\\ud53c\\ub540/Noun\", \"\\ud544\\ub984/Noun\", \"\\ud544\\ub984/Noun\", \"\\ud558\\ub098/Noun\", \"\\ud558\\uc774\\ud30c\\uc774\\ube0c/Noun\", \"\\ud559\\uad50/Noun\", \"\\ud574\\uc678/Noun\", \"\\ud5c8\\ub9ac/Noun\", \"\\ud5c8\\uc2ac/Noun\", \"\\ud5e4\\ud5e4/Noun\", \"\\ud6c4\\ud68c/Noun\"]}, \"R\": 30, \"lambda.step\": 0.01, \"plot.opts\": {\"xlab\": \"PC1\", \"ylab\": \"PC2\"}, \"topic.order\": [5, 2, 3, 1, 4]};\n",
       "\n",
       "function LDAvis_load_lib(url, callback){\n",
       "  var s = document.createElement('script');\n",
       "  s.src = url;\n",
       "  s.async = true;\n",
       "  s.onreadystatechange = s.onload = callback;\n",
       "  s.onerror = function(){console.warn(\"failed to load library \" + url);};\n",
       "  document.getElementsByTagName(\"head\")[0].appendChild(s);\n",
       "}\n",
       "\n",
       "if(typeof(LDAvis) !== \"undefined\"){\n",
       "   // already loaded: just create the visualization\n",
       "   !function(LDAvis){\n",
       "       new LDAvis(\"#\" + \"ldavis_el73571403029308398881898636943\", ldavis_el73571403029308398881898636943_data);\n",
       "   }(LDAvis);\n",
       "}else if(typeof define === \"function\" && define.amd){\n",
       "   // require.js is available: use it to load d3/LDAvis\n",
       "   require.config({paths: {d3: \"https://cdnjs.cloudflare.com/ajax/libs/d3/3.5.5/d3.min\"}});\n",
       "   require([\"d3\"], function(d3){\n",
       "      window.d3 = d3;\n",
       "      LDAvis_load_lib(\"https://cdn.rawgit.com/bmabey/pyLDAvis/files/ldavis.v1.0.0.js\", function(){\n",
       "        new LDAvis(\"#\" + \"ldavis_el73571403029308398881898636943\", ldavis_el73571403029308398881898636943_data);\n",
       "      });\n",
       "    });\n",
       "}else{\n",
       "    // require.js not available: dynamically load d3 & LDAvis\n",
       "    LDAvis_load_lib(\"https://cdnjs.cloudflare.com/ajax/libs/d3/3.5.5/d3.min.js\", function(){\n",
       "         LDAvis_load_lib(\"https://cdn.rawgit.com/bmabey/pyLDAvis/files/ldavis.v1.0.0.js\", function(){\n",
       "                 new LDAvis(\"#\" + \"ldavis_el73571403029308398881898636943\", ldavis_el73571403029308398881898636943_data);\n",
       "            })\n",
       "         });\n",
       "}\n",
       "</script>"
      ],
      "text/plain": [
       "PreparedData(topic_coordinates=                x           y  topics  cluster       Freq\n",
       "topic                                                    \n",
       "4      150.222153  -72.269554       1        1  27.455202\n",
       "1       51.163364 -159.968018       2        1  20.864819\n",
       "2      -73.144554   21.523815       3        1  20.763447\n",
       "0      -66.410133 -110.606438       4        1  20.119873\n",
       "3       54.417324   12.443444       5        1  10.796659, topic_info=        Term       Freq      Total Category  logprob  loglift\n",
       "117  사람/Noun  12.000000  12.000000  Default  30.0000  30.0000\n",
       "249  오늘/Noun   6.000000   6.000000  Default  29.0000  29.0000\n",
       "11   친구/Noun   7.000000   7.000000  Default  28.0000  28.0000\n",
       "58   진짜/Noun   5.000000   5.000000  Default  27.0000  27.0000\n",
       "137  스님/Noun   5.000000   5.000000  Default  26.0000  26.0000\n",
       "..       ...        ...        ...      ...      ...      ...\n",
       "66   그것/Noun   0.981358   5.466855   Topic5  -4.9044   0.5084\n",
       "173  일단/Noun   0.681630   3.430338   Topic5  -5.2688   0.6100\n",
       "170  제일/Noun   0.672023   3.017281   Topic5  -5.2830   0.7241\n",
       "299  어도/Noun   0.670735   2.552627   Topic5  -5.2850   0.8894\n",
       "384  기록/Noun   0.669331   2.135792   Topic5  -5.2871   1.0656\n",
       "\n",
       "[222 rows x 6 columns], token_table=      Topic      Freq      Term\n",
       "term                           \n",
       "229       3  0.685410   가입/Noun\n",
       "125       5  0.636197   가장/Noun\n",
       "59        5  0.634980  갑자기/Noun\n",
       "540       4  0.585988   개강/Noun\n",
       "54        1  0.403715   거기/Noun\n",
       "...     ...       ...       ...\n",
       "269       5  0.635909   해외/Noun\n",
       "82        1  0.842082   허리/Noun\n",
       "193       5  0.796302   허슬/Noun\n",
       "39        1  0.842587   헤헤/Noun\n",
       "230       2  0.935842   후회/Noun\n",
       "\n",
       "[211 rows x 3 columns], R=30, lambda_step=0.01, plot_opts={'xlab': 'PC1', 'ylab': 'PC2'}, topic_order=[5, 2, 3, 1, 4])"
      ]
     },
     "execution_count": 26,
     "metadata": {},
     "output_type": "execute_result"
    }
   ],
   "source": [
    "corpus_lda = lda_ko[tfidf_ko]\n",
    "\n",
    "pyLDAvis.enable_notebook()\n",
    "panel = pyLDAvis.gensim.prepare(lda_ko, corpus_lda, dictionary_ko, mds='tsne')\n",
    "panel"
   ]
  },
  {
   "cell_type": "code",
   "execution_count": null,
   "metadata": {},
   "outputs": [],
   "source": []
  },
  {
   "cell_type": "code",
   "execution_count": 27,
   "metadata": {},
   "outputs": [],
   "source": [
    "def getNVM_lemma(text):\n",
    "    tokenizer = MeCab.Tagger()\n",
    "    parsed = tokenizer.parse(text)\n",
    "    word_tag = [w for w in parsed.split(\"\\n\")]\n",
    "    pos = []\n",
    "    tags = ['NNG','NNP','VV','VA', 'VX', 'VCP','VCN']\n",
    "    for word_ in word_tag[:-2]:\n",
    "        word = word_.split(\"\\t\")\n",
    "        tag = word[1].split(\",\")\n",
    "        if(len(word[0]) < 2) or (\"게\" in word[0]):\n",
    "            continue\n",
    "        if(tag[-1] != '*'):\n",
    "            t = tag[-1].split('/')\n",
    "            if(len(t[0]) > 1 and ('VV' in t[1] or 'VA' in t[1] or 'VX' in t[1])):\n",
    "                pos.append(t[0])\n",
    "        else:\n",
    "            if(tag[0] in tags):\n",
    "                pos.append(word[0])\n",
    "    return pos"
   ]
  },
  {
   "cell_type": "code",
   "execution_count": 28,
   "metadata": {},
   "outputs": [
    {
     "name": "stdout",
     "output_type": "stream",
     "text": [
      "Created 135 X 137 document-term matrix\n"
     ]
    }
   ],
   "source": [
    "vectorizer = CountVectorizer(tokenizer=getNVM_lemma, min_df=2)\n",
    "x_counts = vectorizer.fit_transform(df['content'].values.astype('U'))\n",
    "print( \"Created %d X %d document-term matrix\" % (x_counts.shape[0], x_counts.shape[1]) )\n",
    "transformer = TfidfTransformer(smooth_idf=False);\n",
    "x_tfidf = transformer.fit_transform(x_counts);"
   ]
  },
  {
   "cell_type": "code",
   "execution_count": 29,
   "metadata": {},
   "outputs": [
    {
     "name": "stdout",
     "output_type": "stream",
     "text": [
      "Vocabulary has 137 distinct terms\n"
     ]
    }
   ],
   "source": [
    "terms = vectorizer.get_feature_names()\n",
    "print(\"Vocabulary has %d distinct terms\" % len(terms))"
   ]
  },
  {
   "cell_type": "code",
   "execution_count": 30,
   "metadata": {},
   "outputs": [
    {
     "data": {
      "text/plain": [
       "NMF(init='nndsvd', n_components=10)"
      ]
     },
     "execution_count": 30,
     "metadata": {},
     "output_type": "execute_result"
    }
   ],
   "source": [
    "xtfidf_norm = normalize(x_tfidf, norm='l1', axis=1)\n",
    "model = NMF(n_components=10, init='nndsvd');\n",
    "model.fit(xtfidf_norm)"
   ]
  },
  {
   "cell_type": "code",
   "execution_count": 31,
   "metadata": {},
   "outputs": [],
   "source": [
    "def get_nmf_topics(model, n_top_words):\n",
    "    \n",
    "    feat_names = vectorizer.get_feature_names()\n",
    "    \n",
    "    word_dict = {};\n",
    "    for i in range(num_topics):\n",
    "        \n",
    "        words_ids = model.components_[i].argsort()[:-10 - 1:-1]\n",
    "        words = [feat_names[key] for key in words_ids]\n",
    "        word_dict['Topic # ' + '{:02d}'.format(i+1)] = words;\n",
    "    \n",
    "    return pd.DataFrame(word_dict);"
   ]
  },
  {
   "cell_type": "code",
   "execution_count": 32,
   "metadata": {},
   "outputs": [
    {
     "data": {
      "text/html": [
       "<div>\n",
       "<style scoped>\n",
       "    .dataframe tbody tr th:only-of-type {\n",
       "        vertical-align: middle;\n",
       "    }\n",
       "\n",
       "    .dataframe tbody tr th {\n",
       "        vertical-align: top;\n",
       "    }\n",
       "\n",
       "    .dataframe thead th {\n",
       "        text-align: right;\n",
       "    }\n",
       "</style>\n",
       "<table border=\"1\" class=\"dataframe\">\n",
       "  <thead>\n",
       "    <tr style=\"text-align: right;\">\n",
       "      <th></th>\n",
       "      <th>Topic # 01</th>\n",
       "      <th>Topic # 02</th>\n",
       "      <th>Topic # 03</th>\n",
       "      <th>Topic # 04</th>\n",
       "      <th>Topic # 05</th>\n",
       "    </tr>\n",
       "  </thead>\n",
       "  <tbody>\n",
       "    <tr>\n",
       "      <th>0</th>\n",
       "      <td>날씨</td>\n",
       "      <td>도어</td>\n",
       "      <td>민윤기</td>\n",
       "      <td>최고</td>\n",
       "      <td>친구</td>\n",
       "    </tr>\n",
       "    <tr>\n",
       "      <th>1</th>\n",
       "      <td>생일</td>\n",
       "      <td>소통</td>\n",
       "      <td>허리</td>\n",
       "      <td>재재</td>\n",
       "      <td>고맙</td>\n",
       "    </tr>\n",
       "    <tr>\n",
       "      <th>2</th>\n",
       "      <td>시작</td>\n",
       "      <td>관심</td>\n",
       "      <td>기다리</td>\n",
       "      <td>보내</td>\n",
       "      <td>필름</td>\n",
       "    </tr>\n",
       "    <tr>\n",
       "      <th>3</th>\n",
       "      <td>기념</td>\n",
       "      <td>관계</td>\n",
       "      <td>세상</td>\n",
       "      <td>낌새</td>\n",
       "      <td>만들</td>\n",
       "    </tr>\n",
       "    <tr>\n",
       "      <th>4</th>\n",
       "      <td>카메라</td>\n",
       "      <td>공유</td>\n",
       "      <td>따르</td>\n",
       "      <td>자르</td>\n",
       "      <td>사용</td>\n",
       "    </tr>\n",
       "    <tr>\n",
       "      <th>5</th>\n",
       "      <td>필름</td>\n",
       "      <td>오늘</td>\n",
       "      <td>재밌</td>\n",
       "      <td>방법</td>\n",
       "      <td>공유</td>\n",
       "    </tr>\n",
       "    <tr>\n",
       "      <th>6</th>\n",
       "      <td>개강</td>\n",
       "      <td>보내</td>\n",
       "      <td>머리</td>\n",
       "      <td>머리</td>\n",
       "      <td>머러</td>\n",
       "    </tr>\n",
       "    <tr>\n",
       "      <th>7</th>\n",
       "      <td>기분</td>\n",
       "      <td>그리</td>\n",
       "      <td>떠나</td>\n",
       "      <td>보이</td>\n",
       "      <td>소통</td>\n",
       "    </tr>\n",
       "    <tr>\n",
       "      <th>8</th>\n",
       "      <td>지나</td>\n",
       "      <td>공개</td>\n",
       "      <td>순간</td>\n",
       "      <td>모르</td>\n",
       "      <td>사진</td>\n",
       "    </tr>\n",
       "    <tr>\n",
       "      <th>9</th>\n",
       "      <td>열리</td>\n",
       "      <td>방학</td>\n",
       "      <td>건너</td>\n",
       "      <td>따르</td>\n",
       "      <td>나오</td>\n",
       "    </tr>\n",
       "  </tbody>\n",
       "</table>\n",
       "</div>"
      ],
      "text/plain": [
       "  Topic # 01 Topic # 02 Topic # 03 Topic # 04 Topic # 05\n",
       "0         날씨         도어        민윤기         최고         친구\n",
       "1         생일         소통         허리         재재         고맙\n",
       "2         시작         관심        기다리         보내         필름\n",
       "3         기념         관계         세상         낌새         만들\n",
       "4        카메라         공유         따르         자르         사용\n",
       "5         필름         오늘         재밌         방법         공유\n",
       "6         개강         보내         머리         머리         머러\n",
       "7         기분         그리         떠나         보이         소통\n",
       "8         지나         공개         순간         모르         사진\n",
       "9         열리         방학         건너         따르         나오"
      ]
     },
     "execution_count": 32,
     "metadata": {},
     "output_type": "execute_result"
    }
   ],
   "source": [
    "num_topics = 5\n",
    "nmf_df = get_nmf_topics(model, 5)\n",
    "nmf_df"
   ]
  },
  {
   "cell_type": "code",
   "execution_count": 33,
   "metadata": {
    "scrolled": true
   },
   "outputs": [
    {
     "data": {
      "text/html": [
       "<div>\n",
       "<style scoped>\n",
       "    .dataframe tbody tr th:only-of-type {\n",
       "        vertical-align: middle;\n",
       "    }\n",
       "\n",
       "    .dataframe tbody tr th {\n",
       "        vertical-align: top;\n",
       "    }\n",
       "\n",
       "    .dataframe thead th {\n",
       "        text-align: right;\n",
       "    }\n",
       "</style>\n",
       "<table border=\"1\" class=\"dataframe\">\n",
       "  <thead>\n",
       "    <tr style=\"text-align: right;\">\n",
       "      <th></th>\n",
       "      <th>Topic # 01</th>\n",
       "      <th>Topic # 02</th>\n",
       "      <th>Topic # 03</th>\n",
       "      <th>Topic # 04</th>\n",
       "      <th>Topic # 05</th>\n",
       "      <th>Topic # 06</th>\n",
       "      <th>Topic # 07</th>\n",
       "      <th>Topic # 08</th>\n",
       "      <th>Topic # 09</th>\n",
       "      <th>Topic # 10</th>\n",
       "    </tr>\n",
       "  </thead>\n",
       "  <tbody>\n",
       "    <tr>\n",
       "      <th>0</th>\n",
       "      <td>날씨</td>\n",
       "      <td>도어</td>\n",
       "      <td>민윤기</td>\n",
       "      <td>최고</td>\n",
       "      <td>친구</td>\n",
       "      <td>생각</td>\n",
       "      <td>언니</td>\n",
       "      <td>노래</td>\n",
       "      <td>강아지</td>\n",
       "      <td>이렇</td>\n",
       "    </tr>\n",
       "    <tr>\n",
       "      <th>1</th>\n",
       "      <td>생일</td>\n",
       "      <td>소통</td>\n",
       "      <td>허리</td>\n",
       "      <td>재재</td>\n",
       "      <td>고맙</td>\n",
       "      <td>고맙</td>\n",
       "      <td>새벽</td>\n",
       "      <td>라이프</td>\n",
       "      <td>서비스</td>\n",
       "      <td>재미</td>\n",
       "    </tr>\n",
       "    <tr>\n",
       "      <th>2</th>\n",
       "      <td>시작</td>\n",
       "      <td>관심</td>\n",
       "      <td>기다리</td>\n",
       "      <td>보내</td>\n",
       "      <td>필름</td>\n",
       "      <td>세상</td>\n",
       "      <td>이미지</td>\n",
       "      <td>디자인</td>\n",
       "      <td>그리</td>\n",
       "      <td>통제</td>\n",
       "    </tr>\n",
       "    <tr>\n",
       "      <th>3</th>\n",
       "      <td>기념</td>\n",
       "      <td>관계</td>\n",
       "      <td>세상</td>\n",
       "      <td>낌새</td>\n",
       "      <td>만들</td>\n",
       "      <td>통제</td>\n",
       "      <td>기억</td>\n",
       "      <td>생기</td>\n",
       "      <td>흘리</td>\n",
       "      <td>기다리</td>\n",
       "    </tr>\n",
       "    <tr>\n",
       "      <th>4</th>\n",
       "      <td>카메라</td>\n",
       "      <td>공유</td>\n",
       "      <td>따르</td>\n",
       "      <td>자르</td>\n",
       "      <td>사용</td>\n",
       "      <td>필름</td>\n",
       "      <td>엄청나</td>\n",
       "      <td>사람</td>\n",
       "      <td>공유</td>\n",
       "      <td>허리</td>\n",
       "    </tr>\n",
       "    <tr>\n",
       "      <th>5</th>\n",
       "      <td>필름</td>\n",
       "      <td>오늘</td>\n",
       "      <td>재밌</td>\n",
       "      <td>방법</td>\n",
       "      <td>공유</td>\n",
       "      <td>사진</td>\n",
       "      <td>붙이</td>\n",
       "      <td>돌리</td>\n",
       "      <td>재재</td>\n",
       "      <td>다가오</td>\n",
       "    </tr>\n",
       "    <tr>\n",
       "      <th>6</th>\n",
       "      <td>개강</td>\n",
       "      <td>보내</td>\n",
       "      <td>머리</td>\n",
       "      <td>머리</td>\n",
       "      <td>머러</td>\n",
       "      <td>돌리</td>\n",
       "      <td>교수</td>\n",
       "      <td>들리</td>\n",
       "      <td>허리</td>\n",
       "      <td>사진</td>\n",
       "    </tr>\n",
       "    <tr>\n",
       "      <th>7</th>\n",
       "      <td>기분</td>\n",
       "      <td>그리</td>\n",
       "      <td>떠나</td>\n",
       "      <td>보이</td>\n",
       "      <td>소통</td>\n",
       "      <td>머러</td>\n",
       "      <td>학교</td>\n",
       "      <td>이틀</td>\n",
       "      <td>보내</td>\n",
       "      <td>아니</td>\n",
       "    </tr>\n",
       "    <tr>\n",
       "      <th>8</th>\n",
       "      <td>지나</td>\n",
       "      <td>공개</td>\n",
       "      <td>순간</td>\n",
       "      <td>모르</td>\n",
       "      <td>사진</td>\n",
       "      <td>기대</td>\n",
       "      <td>기대</td>\n",
       "      <td>존재</td>\n",
       "      <td>낌새</td>\n",
       "      <td>느끼</td>\n",
       "    </tr>\n",
       "    <tr>\n",
       "      <th>9</th>\n",
       "      <td>열리</td>\n",
       "      <td>방학</td>\n",
       "      <td>건너</td>\n",
       "      <td>따르</td>\n",
       "      <td>나오</td>\n",
       "      <td>방법</td>\n",
       "      <td>방법</td>\n",
       "      <td>그러</td>\n",
       "      <td>자르</td>\n",
       "      <td>사람</td>\n",
       "    </tr>\n",
       "  </tbody>\n",
       "</table>\n",
       "</div>"
      ],
      "text/plain": [
       "  Topic # 01 Topic # 02 Topic # 03 Topic # 04 Topic # 05 Topic # 06  \\\n",
       "0         날씨         도어        민윤기         최고         친구         생각   \n",
       "1         생일         소통         허리         재재         고맙         고맙   \n",
       "2         시작         관심        기다리         보내         필름         세상   \n",
       "3         기념         관계         세상         낌새         만들         통제   \n",
       "4        카메라         공유         따르         자르         사용         필름   \n",
       "5         필름         오늘         재밌         방법         공유         사진   \n",
       "6         개강         보내         머리         머리         머러         돌리   \n",
       "7         기분         그리         떠나         보이         소통         머러   \n",
       "8         지나         공개         순간         모르         사진         기대   \n",
       "9         열리         방학         건너         따르         나오         방법   \n",
       "\n",
       "  Topic # 07 Topic # 08 Topic # 09 Topic # 10  \n",
       "0         언니         노래        강아지         이렇  \n",
       "1         새벽        라이프        서비스         재미  \n",
       "2        이미지        디자인         그리         통제  \n",
       "3         기억         생기         흘리        기다리  \n",
       "4        엄청나         사람         공유         허리  \n",
       "5         붙이         돌리         재재        다가오  \n",
       "6         교수         들리         허리         사진  \n",
       "7         학교         이틀         보내         아니  \n",
       "8         기대         존재         낌새         느끼  \n",
       "9         방법         그러         자르         사람  "
      ]
     },
     "execution_count": 33,
     "metadata": {},
     "output_type": "execute_result"
    }
   ],
   "source": [
    "num_topics = 10\n",
    "nmf_df = get_nmf_topics(model, 5)\n",
    "nmf_df"
   ]
  }
 ],
 "metadata": {
  "kernelspec": {
   "display_name": "Python 3",
   "language": "python",
   "name": "python3"
  },
  "language_info": {
   "codemirror_mode": {
    "name": "ipython",
    "version": 3
   },
   "file_extension": ".py",
   "mimetype": "text/x-python",
   "name": "python",
   "nbconvert_exporter": "python",
   "pygments_lexer": "ipython3",
   "version": "3.7.7"
  }
 },
 "nbformat": 4,
 "nbformat_minor": 4
}
