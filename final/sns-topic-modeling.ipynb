{
 "cells": [
  {
   "cell_type": "code",
   "execution_count": 1,
   "metadata": {},
   "outputs": [
    {
     "name": "stderr",
     "output_type": "stream",
     "text": [
      "/Users/gimjaewon/opt/anaconda3/envs/venv/lib/python3.7/site-packages/botocore/vendored/requests/packages/urllib3/_collections.py:1: DeprecationWarning: Using or importing the ABCs from 'collections' instead of from 'collections.abc' is deprecated since Python 3.3,and in 3.9 it will stop working\n",
      "  from collections import Mapping, MutableMapping\n",
      "/Users/gimjaewon/opt/anaconda3/envs/venv/lib/python3.7/site-packages/botocore/vendored/requests/packages/urllib3/_collections.py:1: DeprecationWarning: Using or importing the ABCs from 'collections' instead of from 'collections.abc' is deprecated since Python 3.3,and in 3.9 it will stop working\n",
      "  from collections import Mapping, MutableMapping\n",
      "/Users/gimjaewon/opt/anaconda3/envs/venv/lib/python3.7/site-packages/scipy/sparse/sparsetools.py:21: DeprecationWarning: `scipy.sparse.sparsetools` is deprecated!\n",
      "scipy.sparse.sparsetools is a private module for scipy.sparse, and should not be used.\n",
      "  _deprecated()\n",
      "/Users/gimjaewon/opt/anaconda3/envs/venv/lib/python3.7/site-packages/gensim/models/doc2vec.py:73: DeprecationWarning: Using or importing the ABCs from 'collections' instead of from 'collections.abc' is deprecated since Python 3.3,and in 3.9 it will stop working\n",
      "  from collections import namedtuple, defaultdict, Iterable\n"
     ]
    }
   ],
   "source": [
    "import warnings\n",
    "warnings.filterwarnings('ignore')\n",
    "\n",
    "import pandas as pd\n",
    "import matplotlib\n",
    "import matplotlib.pyplot as plt\n",
    "import matplotlib.font_manager as fm\n",
    "import numpy as np; np.random.seed(42)\n",
    "import seaborn as sns\n",
    "\n",
    "import pyLDAvis\n",
    "import pyLDAvis.gensim\n",
    "from collections import OrderedDict\n",
    "from itertools import combinations\n",
    "import MeCab\n",
    "from konlpy.tag import *\n",
    "import nltk\n",
    "from nltk.corpus import stopwords\n",
    "from gensim import corpora, models\n",
    "from sklearn.feature_extraction.text import CountVectorizer, TfidfTransformer\n",
    "from sklearn.decomposition import NMF, LatentDirichletAllocation, TruncatedSVD\n",
    "from sklearn.preprocessing import normalize;\n",
    "from sklearn import decomposition;"
   ]
  },
  {
   "cell_type": "code",
   "execution_count": 2,
   "metadata": {},
   "outputs": [
    {
     "data": {
      "text/html": [
       "<div>\n",
       "<style scoped>\n",
       "    .dataframe tbody tr th:only-of-type {\n",
       "        vertical-align: middle;\n",
       "    }\n",
       "\n",
       "    .dataframe tbody tr th {\n",
       "        vertical-align: top;\n",
       "    }\n",
       "\n",
       "    .dataframe thead th {\n",
       "        text-align: right;\n",
       "    }\n",
       "</style>\n",
       "<table border=\"1\" class=\"dataframe\">\n",
       "  <thead>\n",
       "    <tr style=\"text-align: right;\">\n",
       "      <th></th>\n",
       "      <th>adoor</th>\n",
       "      <th>SNS</th>\n",
       "      <th>SNS 아이디</th>\n",
       "      <th>private</th>\n",
       "      <th>created_at</th>\n",
       "      <th>photo</th>\n",
       "      <th>content</th>\n",
       "    </tr>\n",
       "  </thead>\n",
       "  <tbody>\n",
       "    <tr>\n",
       "      <th>0</th>\n",
       "      <td>2</td>\n",
       "      <td>facebook</td>\n",
       "      <td>김유리</td>\n",
       "      <td>False</td>\n",
       "      <td>2019-02-08</td>\n",
       "      <td>홍보</td>\n",
       "      <td>저와 팀원들이 영혼을 갈아넣은 서비스 베타버전이 드디어 나왔어요!!🤩\\n밤잠을 줄여...</td>\n",
       "    </tr>\n",
       "    <tr>\n",
       "      <th>1</th>\n",
       "      <td>2</td>\n",
       "      <td>instagram</td>\n",
       "      <td>nnnyu_ri</td>\n",
       "      <td>False</td>\n",
       "      <td>2019-02-08</td>\n",
       "      <td>홍보</td>\n",
       "      <td>https://adoor.app @adoor.team\\n저와 팀원들이 영혼을 갈아넣...</td>\n",
       "    </tr>\n",
       "    <tr>\n",
       "      <th>2</th>\n",
       "      <td>2</td>\n",
       "      <td>instagram</td>\n",
       "      <td>yulo_mon</td>\n",
       "      <td>True</td>\n",
       "      <td>2019-02-07</td>\n",
       "      <td>가족, 아기, 강아지</td>\n",
       "      <td>카조꾸또 잇쇼니 토떼모 우레시깟딴데쓰</td>\n",
       "    </tr>\n",
       "    <tr>\n",
       "      <th>3</th>\n",
       "      <td>2</td>\n",
       "      <td>instagram</td>\n",
       "      <td>yulo_mon</td>\n",
       "      <td>True</td>\n",
       "      <td>2019-02-25</td>\n",
       "      <td>일상</td>\n",
       "      <td>🙋🏻‍♀️</td>\n",
       "    </tr>\n",
       "    <tr>\n",
       "      <th>4</th>\n",
       "      <td>2</td>\n",
       "      <td>instagram</td>\n",
       "      <td>yulo_mon</td>\n",
       "      <td>True</td>\n",
       "      <td>2019-03-02</td>\n",
       "      <td>나들이</td>\n",
       "      <td>필름캐머러 첫 롤 사진들1\\n수라미가 준 로모그래피 심플유즈 기본 장착 컬러네거티브...</td>\n",
       "    </tr>\n",
       "  </tbody>\n",
       "</table>\n",
       "</div>"
      ],
      "text/plain": [
       "  adoor        SNS   SNS 아이디 private created_at        photo  \\\n",
       "0     2   facebook       김유리   False 2019-02-08           홍보   \n",
       "1     2  instagram  nnnyu_ri   False 2019-02-08           홍보   \n",
       "2     2  instagram  yulo_mon    True 2019-02-07  가족, 아기, 강아지   \n",
       "3     2  instagram  yulo_mon    True 2019-02-25           일상   \n",
       "4     2  instagram  yulo_mon    True 2019-03-02          나들이   \n",
       "\n",
       "                                             content  \n",
       "0  저와 팀원들이 영혼을 갈아넣은 서비스 베타버전이 드디어 나왔어요!!🤩\\n밤잠을 줄여...  \n",
       "1  https://adoor.app @adoor.team\\n저와 팀원들이 영혼을 갈아넣...  \n",
       "2                               카조꾸또 잇쇼니 토떼모 우레시깟딴데쓰  \n",
       "3                                              🙋🏻‍♀️  \n",
       "4  필름캐머러 첫 롤 사진들1\\n수라미가 준 로모그래피 심플유즈 기본 장착 컬러네거티브...  "
      ]
     },
     "execution_count": 2,
     "metadata": {},
     "output_type": "execute_result"
    }
   ],
   "source": [
    "# 데이터 읽어오기 - 특정 기간에 한해서\n",
    "\n",
    "df = pd.read_csv('adoor_data/sns_feed.csv', encoding='UTF8')\n",
    "df['created_at'] = pd.to_datetime(df['created_at'])\n",
    "\n",
    "start_date = pd.Timestamp(2019, 1, 28, 0)\n",
    "end_date = pd.Timestamp(2019, 4, 1, 0)\n",
    "\n",
    "mask = (df['created_at'] > start_date) & (df['created_at'] <= end_date)\n",
    "df = df.loc[mask]\n",
    "\n",
    "df.head()"
   ]
  },
  {
   "cell_type": "code",
   "execution_count": 3,
   "metadata": {},
   "outputs": [],
   "source": [
    "# 형태소 분석\n",
    "\n",
    "twitter = Okt()\n",
    "pos = lambda d: ['/'.join(p) for p in twitter.pos(d, stem=True, norm=True)]\n",
    "\n",
    "texts_ko = []\n",
    "content = df.content\n",
    "docs_ko = \"\"\n",
    "\n",
    "for row in content:\n",
    "    text = row\n",
    "    if not pd.isna(text):\n",
    "        docs_ko = docs_ko + text\n",
    "        for morph in pos(text):\n",
    "            if (morph.split('/')[1]) in ['Noun'] and len(morph.split('/')[0]) > 1:\n",
    "                m = []\n",
    "                m.append(morph)\n",
    "                texts_ko.append(m)"
   ]
  },
  {
   "cell_type": "code",
   "execution_count": 4,
   "metadata": {},
   "outputs": [],
   "source": [
    "dictionary_ko = corpora.Dictionary(texts_ko)\n",
    "dictionary_ko.save('ko.dict')"
   ]
  },
  {
   "cell_type": "code",
   "execution_count": 5,
   "metadata": {},
   "outputs": [],
   "source": [
    "# tfidf 변환\n",
    "\n",
    "tf_ko = [dictionary_ko.doc2bow(text) for text in texts_ko]\n",
    "tfidf_model_ko = models.TfidfModel(tf_ko)\n",
    "tfidf_ko = tfidf_model_ko[tf_ko]\n",
    "corpora.MmCorpus.serialize('ko.mm', tfidf_ko)"
   ]
  },
  {
   "cell_type": "code",
   "execution_count": 88,
   "metadata": {},
   "outputs": [
    {
     "data": {
      "text/plain": [
       "[(0,\n",
       "  '0.027*\"생각/Noun\" + 0.015*\"마음/Noun\" + 0.010*\"무척/Noun\" + 0.010*\"방학/Noun\" + 0.010*\"공개/Noun\" + 0.010*\"거리/Noun\" + 0.008*\"악당/Noun\"'),\n",
       " (1,\n",
       "  '0.017*\"그것/Noun\" + 0.015*\"사용/Noun\" + 0.012*\"모든/Noun\" + 0.010*\"오늘/Noun\" + 0.008*\"아주/Noun\" + 0.008*\"라이프/Noun\" + 0.008*\"내일/Noun\"'),\n",
       " (2,\n",
       "  '0.018*\"진짜/Noun\" + 0.013*\"일단/Noun\" + 0.013*\"필름/Noun\" + 0.010*\"대한/Noun\" + 0.010*\"일이/Noun\" + 0.008*\"마음/Noun\" + 0.008*\"아침/Noun\"'),\n",
       " (3,\n",
       "  '0.020*\"시간/Noun\" + 0.020*\"우리/Noun\" + 0.015*\"아주/Noun\" + 0.015*\"시스템/Noun\" + 0.013*\"사진/Noun\" + 0.013*\"스님/Noun\" + 0.010*\"방법/Noun\"'),\n",
       " (4,\n",
       "  '0.048*\"사람/Noun\" + 0.012*\"학교/Noun\" + 0.012*\"오늘/Noun\" + 0.010*\"친구/Noun\" + 0.010*\"전깃줄/Noun\" + 0.010*\"그녀/Noun\" + 0.010*\"그냥/Noun\"')]"
      ]
     },
     "execution_count": 88,
     "metadata": {},
     "output_type": "execute_result"
    }
   ],
   "source": [
    "# LDA 모델 - tfidf 변환을 하지 않은 경우\n",
    "\n",
    "ntopics, nwords = 5, 7\n",
    "\n",
    "lda_ko = models.ldamodel.LdaModel(tf_ko, id2word=dictionary_ko, num_topics=ntopics)\n",
    "lda_ko.print_topics(num_words=nwords)"
   ]
  },
  {
   "cell_type": "code",
   "execution_count": null,
   "metadata": {},
   "outputs": [],
   "source": []
  },
  {
   "cell_type": "code",
   "execution_count": 55,
   "metadata": {},
   "outputs": [
    {
     "data": {
      "text/plain": [
       "[(0,\n",
       "  '0.026*\"사람/Noun\" + 0.024*\"그것/Noun\" + 0.016*\"머리/Noun\" + 0.011*\"가입/Noun\" + 0.008*\"이수정/Noun\" + 0.008*\"진짜/Noun\" + 0.008*\"대한/Noun\" + 0.008*\"자주/Noun\" + 0.008*\"이유/Noun\" + 0.008*\"노래/Noun\"'),\n",
       " (1,\n",
       "  '0.020*\"친구/Noun\" + 0.020*\"우리/Noun\" + 0.017*\"사진/Noun\" + 0.015*\"일단/Noun\" + 0.012*\"소리/Noun\" + 0.010*\"당신/Noun\" + 0.010*\"모든/Noun\" + 0.010*\"버전/Noun\" + 0.010*\"누구/Noun\" + 0.010*\"거리/Noun\"'),\n",
       " (2,\n",
       "  '0.024*\"사람/Noun\" + 0.019*\"시간/Noun\" + 0.019*\"마음/Noun\" + 0.012*\"필름/Noun\" + 0.012*\"사용/Noun\" + 0.012*\"진짜/Noun\" + 0.010*\"제일/Noun\" + 0.010*\"위해/Noun\" + 0.010*\"공개/Noun\" + 0.007*\"몹시/Noun\"'),\n",
       " (3,\n",
       "  '0.021*\"아주/Noun\" + 0.017*\"스님/Noun\" + 0.010*\"그녀/Noun\" + 0.010*\"여자/Noun\" + 0.010*\"상태/Noun\" + 0.010*\"어도/Noun\" + 0.010*\"모두/Noun\" + 0.008*\"해외/Noun\" + 0.008*\"시스템/Noun\" + 0.007*\"바지/Noun\"'),\n",
       " (4,\n",
       "  '0.027*\"생각/Noun\" + 0.017*\"오늘/Noun\" + 0.012*\"학교/Noun\" + 0.010*\"매일/Noun\" + 0.010*\"동안/Noun\" + 0.010*\"베타/Noun\" + 0.008*\"사람/Noun\" + 0.008*\"일이/Noun\" + 0.008*\"기분/Noun\" + 0.008*\"아침/Noun\"')]"
      ]
     },
     "execution_count": 55,
     "metadata": {},
     "output_type": "execute_result"
    }
   ],
   "source": [
    "# LDA 모델 - tfidf 변환을 적용한 경우\n",
    "\n",
    "lda_ko = models.ldamodel.LdaModel(tfidf_ko, id2word=dictionary_ko, num_topics=ntopics)\n",
    "lda_ko.print_topics()"
   ]
  },
  {
   "cell_type": "code",
   "execution_count": 56,
   "metadata": {},
   "outputs": [
    {
     "data": {
      "text/plain": [
       "(0,\n",
       " [('사람/Noun', 0.026419813),\n",
       "  ('그것/Noun', 0.023703462),\n",
       "  ('머리/Noun', 0.015955498),\n",
       "  ('가입/Noun', 0.010818867),\n",
       "  ('이수정/Noun', 0.008275152),\n",
       "  ('진짜/Noun', 0.008273189),\n",
       "  ('대한/Noun', 0.008251676),\n",
       "  ('자주/Noun', 0.008230993),\n",
       "  ('이유/Noun', 0.008230561),\n",
       "  ('노래/Noun', 0.008207712)])"
      ]
     },
     "execution_count": 56,
     "metadata": {},
     "output_type": "execute_result"
    }
   ],
   "source": [
    "ldatopics = lda_ko.show_topics(formatted=False)\n",
    "ldatopics[0]"
   ]
  },
  {
   "cell_type": "code",
   "execution_count": 89,
   "metadata": {},
   "outputs": [
    {
     "data": {
      "text/plain": [
       "[(0,\n",
       "  '-1.000*\"사람/Noun\" + 0.001*\"데스크탑/Noun\" + -0.001*\"예지/Noun\" + -0.001*\"통제/Noun\" + 0.001*\"공포/Noun\" + -0.001*\"생활/Noun\" + -0.001*\"벌써/Noun\"'),\n",
       " (1,\n",
       "  '-1.000*\"생각/Noun\" + -0.004*\"캐슬/Noun\" + -0.004*\"음악/Noun\" + -0.004*\"상공/Noun\" + -0.003*\"공개/Noun\" + -0.003*\"최고/Noun\" + -0.003*\"촉각/Noun\"'),\n",
       " (2,\n",
       "  '0.710*\"그것/Noun\" + 0.654*\"오늘/Noun\" + -0.220*\"아주/Noun\" + -0.139*\"마음/Noun\" + -0.005*\"이틀/Noun\" + -0.005*\"퓨저/Noun\" + -0.005*\"위로/Noun\"'),\n",
       " (3,\n",
       "  '-0.712*\"오늘/Noun\" + 0.615*\"그것/Noun\" + -0.264*\"아주/Noun\" + 0.208*\"마음/Noun\" + 0.008*\"대화/Noun\" + -0.006*\"고생/Noun\" + -0.006*\"세상/Noun\"'),\n",
       " (4,\n",
       "  '-0.785*\"마음/Noun\" + -0.568*\"아주/Noun\" + -0.174*\"그것/Noun\" + -0.169*\"오늘/Noun\" + -0.009*\"해도/Noun\" + 0.008*\"처음/Noun\" + 0.007*\"노래/Noun\"')]"
      ]
     },
     "execution_count": 89,
     "metadata": {},
     "output_type": "execute_result"
    }
   ],
   "source": [
    "# LSI (Latent Semantic Indexing) 모델\n",
    "\n",
    "lsi_ko = models.lsimodel.LsiModel(tfidf_ko, id2word=dictionary_ko, num_topics=ntopics)\n",
    "lsi_ko.print_topics(num_words=nwords)"
   ]
  },
  {
   "cell_type": "code",
   "execution_count": 58,
   "metadata": {},
   "outputs": [
    {
     "name": "stderr",
     "output_type": "stream",
     "text": [
      "/Users/gimjaewon/opt/anaconda3/envs/venv/lib/python3.7/site-packages/gensim/models/hdpmodel.py:467: DeprecationWarning: time.clock has been deprecated in Python 3.3 and will be removed from Python 3.8: use time.perf_counter or time.process_time instead\n",
      "  start_time = time.clock()\n"
     ]
    },
    {
     "data": {
      "text/plain": [
       "[(0,\n",
       "  '0.009*자랑/Noun + 0.009*여러/Noun + 0.008*이메일/Noun + 0.007*경험/Noun + 0.007*허리/Noun'),\n",
       " (1,\n",
       "  '0.011*부스/Noun + 0.009*송도/Noun + 0.009*진짜/Noun + 0.008*내일/Noun + 0.008*작년/Noun'),\n",
       " (2,\n",
       "  '0.007*나이트/Noun + 0.006*기한/Noun + 0.006*터득/Noun + 0.006*핬다/Noun + 0.006*채널/Noun'),\n",
       " (3,\n",
       "  '0.008*기억/Noun + 0.008*정자/Noun + 0.007*고민/Noun + 0.007*첫인상/Noun + 0.006*신세계/Noun'),\n",
       " (4,\n",
       "  '0.009*의미/Noun + 0.006*이번/Noun + 0.006*더욱/Noun + 0.006*대한/Noun + 0.006*페이보릿/Noun')]"
      ]
     },
     "execution_count": 58,
     "metadata": {},
     "output_type": "execute_result"
    }
   ],
   "source": [
    "# HDP (Hierarchical Dirichlet Process) 모델 - n_topics printed ONLY\n",
    "\n",
    "hdp_ko = models.hdpmodel.HdpModel(tfidf_ko, id2word=dictionary_ko)\n",
    "hdp_ko.print_topics(ntopics, nwords)"
   ]
  },
  {
   "cell_type": "code",
   "execution_count": 59,
   "metadata": {},
   "outputs": [
    {
     "data": {
      "text/plain": [
       "[(1, 0.59562576),\n",
       " (4, 0.10425308),\n",
       " (0, 0.10004156),\n",
       " (3, 0.10004048),\n",
       " (2, 0.10003912)]"
      ]
     },
     "execution_count": 59,
     "metadata": {},
     "output_type": "execute_result"
    }
   ],
   "source": [
    "# Bag of Words\n",
    "\n",
    "bow = tfidf_model_ko[dictionary_ko.doc2bow(texts_ko[0])]\n",
    "sorted(lda_ko[bow], key=lambda x: x[1], reverse=True)"
   ]
  },
  {
   "cell_type": "code",
   "execution_count": 60,
   "metadata": {},
   "outputs": [
    {
     "data": {
      "text/plain": [
       "[(27, 0.5037132359856408)]"
      ]
     },
     "execution_count": 60,
     "metadata": {},
     "output_type": "execute_result"
    }
   ],
   "source": [
    "sorted(hdp_ko[bow], key=lambda x: x[1], reverse=True)"
   ]
  },
  {
   "cell_type": "code",
   "execution_count": 61,
   "metadata": {},
   "outputs": [
    {
     "data": {
      "text/plain": [
       "[(4, 0.5999499),\n",
       " (3, 0.10001322),\n",
       " (0, 0.10001288),\n",
       " (1, 0.100012705),\n",
       " (2, 0.10001133)]"
      ]
     },
     "execution_count": 61,
     "metadata": {},
     "output_type": "execute_result"
    }
   ],
   "source": [
    "bow = tfidf_model_ko[dictionary_ko.doc2bow(texts_ko[1])]\n",
    "sorted(lda_ko[bow], key=lambda x: x[1], reverse=True)"
   ]
  },
  {
   "cell_type": "code",
   "execution_count": 62,
   "metadata": {},
   "outputs": [
    {
     "data": {
      "text/plain": [
       "[(63, 0.5034787282764315)]"
      ]
     },
     "execution_count": 62,
     "metadata": {},
     "output_type": "execute_result"
    }
   ],
   "source": [
    "sorted(hdp_ko[bow], key=lambda x: x[1], reverse=True)"
   ]
  },
  {
   "cell_type": "code",
   "execution_count": null,
   "metadata": {},
   "outputs": [],
   "source": []
  },
  {
   "cell_type": "code",
   "execution_count": 63,
   "metadata": {},
   "outputs": [],
   "source": [
    "# Coherence 수준 측정 - LDA 모델\n",
    "\n",
    "def compute_coherence_values(dictionary, corpus, texts, limit, start=2, step=3):\n",
    "    coherence_values = []\n",
    "    model_list = []\n",
    "    for num_topics in range(start, limit, step):\n",
    "        model = models.LdaModel(corpus=tf_ko, num_topics=num_topics, id2word=dictionary_ko)\n",
    "        model_list.append(model)\n",
    "        coherencemodel = models.CoherenceModel(model=model, texts=texts_ko, dictionary=dictionary_ko, coherence='c_v')\n",
    "        coherence_values.append(coherencemodel.get_coherence())\n",
    "\n",
    "    return model_list, coherence_values"
   ]
  },
  {
   "cell_type": "code",
   "execution_count": 64,
   "metadata": {},
   "outputs": [
    {
     "name": "stdout",
     "output_type": "stream",
     "text": [
      "\n",
      "Coherence Score:  0.8499339389684447\n"
     ]
    }
   ],
   "source": [
    "coherence_model_lda = models.CoherenceModel(model=lda_ko, texts=texts_ko, dictionary=dictionary_ko, coherence='c_v')\n",
    "coherence_lda = coherence_model_lda.get_coherence()\n",
    "print('\\nCoherence Score: ', coherence_lda)"
   ]
  },
  {
   "cell_type": "code",
   "execution_count": 65,
   "metadata": {},
   "outputs": [],
   "source": [
    "# model_list, coherence_values = compute_coherence_values(\n",
    "#     dictionary=dictionary_ko, \n",
    "#     corpus=tf_ko, \n",
    "#     texts=texts_ko, \n",
    "#     start=1, \n",
    "#     limit=5, \n",
    "#     step=1)"
   ]
  },
  {
   "cell_type": "code",
   "execution_count": 66,
   "metadata": {},
   "outputs": [],
   "source": [
    "# limit=10; start=1; step=1;\n",
    "# x = range(start, limit, step)\n",
    "# plt.rcParams[\"font.size\"] = 20\n",
    "# plt.figure(figsize=(9,5))\n",
    "# plt.plot(x, coherence_values)\n",
    "# plt.xlabel(\"Num Topics\")\n",
    "# plt.ylabel(\"Coherence score\")\n",
    "# plt.legend((\"coherence_values\"), loc='best')\n",
    "# plt.show()"
   ]
  },
  {
   "cell_type": "code",
   "execution_count": 67,
   "metadata": {},
   "outputs": [],
   "source": [
    "# for m, cv in zip(x, coherence_values):\n",
    "#     print(\"Num Topics =\", m, \" has Coherence Value of\", round(cv, 4))"
   ]
  },
  {
   "cell_type": "code",
   "execution_count": 68,
   "metadata": {},
   "outputs": [],
   "source": [
    "# optimal_model = model_list[1]\n",
    "# model_topics = optimal_model.show_topics(formatted=False)\n",
    "# optimal_model.print_topics(num_words=10)"
   ]
  },
  {
   "cell_type": "code",
   "execution_count": 69,
   "metadata": {},
   "outputs": [],
   "source": [
    "# # Topics Sentence Formation\n",
    "\n",
    "# def format_topics_sentences(ldamodel=lda_ko, corpus=tf_ko, texts=df['content'].values.astype('U')):\n",
    "   \n",
    "#     sent_topics_df = pd.DataFrame()\n",
    "\n",
    "   \n",
    "#     for i, row in enumerate(ldamodel[corpus]):\n",
    "#         row = sorted(row, key=lambda x: (x[1]), reverse=True)\n",
    "#         # Get the Dominant topic, Perc Contribution and Keywords for each document\n",
    "#         for j, (topic_num, prop_topic) in enumerate(row):\n",
    "#             if j == 0:  # -- dominant topic\n",
    "#                 wp = ldamodel.show_topic(topic_num)\n",
    "#                 topic_keywords = \", \".join([word for word, prop in wp])\n",
    "#                 sent_topics_df = sent_topics_df.append(pd.Series([int(topic_num), round(prop_topic,4), topic_keywords]), ignore_index=True)\n",
    "#             else:\n",
    "#                 break\n",
    "#     sent_topics_df.columns = ['Dominant_Topic', 'Perc_Contribution', 'Topic_Keywords']\n",
    "\n",
    "#     # Add original text to the end of the output\n",
    "    \n",
    "#     contents = pd.Series(texts)\n",
    "#     sent_topics_df = pd.concat([sent_topics_df, contents], axis=1)\n",
    "#     return(sent_topics_df)\n",
    "    \n",
    "\n",
    "# df_topic_sents_keywords = format_topics_sentences(ldamodel=optimal_model, corpus=tf_ko, texts=df['content'].values.astype('U'))\n",
    "\n",
    "\n",
    "# df_dominant_topic = df_topic_sents_keywords.reset_index()\n",
    "# df_dominant_topic.columns = ['Document_No', 'Dominant_Topic', 'Topic_Perc_Contrib', 'Keywords', 'Text']\n",
    "\n",
    "\n",
    "# df_dominant_topic.head(5)"
   ]
  },
  {
   "cell_type": "code",
   "execution_count": null,
   "metadata": {},
   "outputs": [],
   "source": []
  },
  {
   "cell_type": "code",
   "execution_count": 70,
   "metadata": {},
   "outputs": [],
   "source": [
    "path='/Library/Fonts/NanumGothic.ttf'\n",
    "font_name = fm.FontProperties(fname=path, size=50).get_name()\n",
    "matplotlib.rc('font', family=font_name)\n",
    "matplotlib.rc('axes', unicode_minus=False)\n",
    "plt.rc('font', family=font_name)\n",
    "plt.rc('axes', unicode_minus=False)"
   ]
  },
  {
   "cell_type": "code",
   "execution_count": 71,
   "metadata": {},
   "outputs": [
    {
     "name": "stdout",
     "output_type": "stream",
     "text": [
      "(5, 24)\n"
     ]
    },
    {
     "data": {
      "text/html": [
       "<div>\n",
       "<style scoped>\n",
       "    .dataframe tbody tr th:only-of-type {\n",
       "        vertical-align: middle;\n",
       "    }\n",
       "\n",
       "    .dataframe tbody tr th {\n",
       "        vertical-align: top;\n",
       "    }\n",
       "\n",
       "    .dataframe thead th {\n",
       "        text-align: right;\n",
       "    }\n",
       "</style>\n",
       "<table border=\"1\" class=\"dataframe\">\n",
       "  <thead>\n",
       "    <tr style=\"text-align: right;\">\n",
       "      <th></th>\n",
       "      <th>사람/Noun</th>\n",
       "      <th>그것/Noun</th>\n",
       "      <th>머리/Noun</th>\n",
       "      <th>가입/Noun</th>\n",
       "      <th>이수정/Noun</th>\n",
       "      <th>친구/Noun</th>\n",
       "      <th>우리/Noun</th>\n",
       "      <th>사진/Noun</th>\n",
       "      <th>일단/Noun</th>\n",
       "      <th>소리/Noun</th>\n",
       "      <th>...</th>\n",
       "      <th>아주/Noun</th>\n",
       "      <th>스님/Noun</th>\n",
       "      <th>그녀/Noun</th>\n",
       "      <th>여자/Noun</th>\n",
       "      <th>상태/Noun</th>\n",
       "      <th>생각/Noun</th>\n",
       "      <th>오늘/Noun</th>\n",
       "      <th>학교/Noun</th>\n",
       "      <th>매일/Noun</th>\n",
       "      <th>동안/Noun</th>\n",
       "    </tr>\n",
       "  </thead>\n",
       "  <tbody>\n",
       "    <tr>\n",
       "      <th>0</th>\n",
       "      <td>0.026420</td>\n",
       "      <td>0.023703</td>\n",
       "      <td>0.015956</td>\n",
       "      <td>0.010819</td>\n",
       "      <td>0.008275</td>\n",
       "      <td>0.000000</td>\n",
       "      <td>0.000000</td>\n",
       "      <td>0.000000</td>\n",
       "      <td>0.000000</td>\n",
       "      <td>0.000000</td>\n",
       "      <td>...</td>\n",
       "      <td>0.000000</td>\n",
       "      <td>0.000000</td>\n",
       "      <td>0.000000</td>\n",
       "      <td>0.000000</td>\n",
       "      <td>0.000000</td>\n",
       "      <td>0.000000</td>\n",
       "      <td>0.000000</td>\n",
       "      <td>0.00000</td>\n",
       "      <td>0.000000</td>\n",
       "      <td>0.000000</td>\n",
       "    </tr>\n",
       "    <tr>\n",
       "      <th>1</th>\n",
       "      <td>0.000000</td>\n",
       "      <td>0.000000</td>\n",
       "      <td>0.000000</td>\n",
       "      <td>0.000000</td>\n",
       "      <td>0.000000</td>\n",
       "      <td>0.019604</td>\n",
       "      <td>0.019554</td>\n",
       "      <td>0.017204</td>\n",
       "      <td>0.014801</td>\n",
       "      <td>0.012456</td>\n",
       "      <td>...</td>\n",
       "      <td>0.000000</td>\n",
       "      <td>0.000000</td>\n",
       "      <td>0.000000</td>\n",
       "      <td>0.000000</td>\n",
       "      <td>0.000000</td>\n",
       "      <td>0.000000</td>\n",
       "      <td>0.000000</td>\n",
       "      <td>0.00000</td>\n",
       "      <td>0.000000</td>\n",
       "      <td>0.000000</td>\n",
       "    </tr>\n",
       "    <tr>\n",
       "      <th>2</th>\n",
       "      <td>0.023949</td>\n",
       "      <td>0.000000</td>\n",
       "      <td>0.000000</td>\n",
       "      <td>0.000000</td>\n",
       "      <td>0.000000</td>\n",
       "      <td>0.000000</td>\n",
       "      <td>0.000000</td>\n",
       "      <td>0.000000</td>\n",
       "      <td>0.000000</td>\n",
       "      <td>0.000000</td>\n",
       "      <td>...</td>\n",
       "      <td>0.000000</td>\n",
       "      <td>0.000000</td>\n",
       "      <td>0.000000</td>\n",
       "      <td>0.000000</td>\n",
       "      <td>0.000000</td>\n",
       "      <td>0.000000</td>\n",
       "      <td>0.000000</td>\n",
       "      <td>0.00000</td>\n",
       "      <td>0.000000</td>\n",
       "      <td>0.000000</td>\n",
       "    </tr>\n",
       "    <tr>\n",
       "      <th>3</th>\n",
       "      <td>0.000000</td>\n",
       "      <td>0.000000</td>\n",
       "      <td>0.000000</td>\n",
       "      <td>0.000000</td>\n",
       "      <td>0.000000</td>\n",
       "      <td>0.000000</td>\n",
       "      <td>0.000000</td>\n",
       "      <td>0.000000</td>\n",
       "      <td>0.000000</td>\n",
       "      <td>0.000000</td>\n",
       "      <td>...</td>\n",
       "      <td>0.021489</td>\n",
       "      <td>0.016831</td>\n",
       "      <td>0.009852</td>\n",
       "      <td>0.009823</td>\n",
       "      <td>0.009819</td>\n",
       "      <td>0.000000</td>\n",
       "      <td>0.000000</td>\n",
       "      <td>0.00000</td>\n",
       "      <td>0.000000</td>\n",
       "      <td>0.000000</td>\n",
       "    </tr>\n",
       "    <tr>\n",
       "      <th>4</th>\n",
       "      <td>0.000000</td>\n",
       "      <td>0.000000</td>\n",
       "      <td>0.000000</td>\n",
       "      <td>0.000000</td>\n",
       "      <td>0.000000</td>\n",
       "      <td>0.000000</td>\n",
       "      <td>0.000000</td>\n",
       "      <td>0.000000</td>\n",
       "      <td>0.000000</td>\n",
       "      <td>0.000000</td>\n",
       "      <td>...</td>\n",
       "      <td>0.000000</td>\n",
       "      <td>0.000000</td>\n",
       "      <td>0.000000</td>\n",
       "      <td>0.000000</td>\n",
       "      <td>0.000000</td>\n",
       "      <td>0.026657</td>\n",
       "      <td>0.017214</td>\n",
       "      <td>0.01243</td>\n",
       "      <td>0.010065</td>\n",
       "      <td>0.010057</td>\n",
       "    </tr>\n",
       "  </tbody>\n",
       "</table>\n",
       "<p>5 rows × 24 columns</p>\n",
       "</div>"
      ],
      "text/plain": [
       "    사람/Noun   그것/Noun   머리/Noun   가입/Noun  이수정/Noun   친구/Noun   우리/Noun  \\\n",
       "0  0.026420  0.023703  0.015956  0.010819  0.008275  0.000000  0.000000   \n",
       "1  0.000000  0.000000  0.000000  0.000000  0.000000  0.019604  0.019554   \n",
       "2  0.023949  0.000000  0.000000  0.000000  0.000000  0.000000  0.000000   \n",
       "3  0.000000  0.000000  0.000000  0.000000  0.000000  0.000000  0.000000   \n",
       "4  0.000000  0.000000  0.000000  0.000000  0.000000  0.000000  0.000000   \n",
       "\n",
       "    사진/Noun   일단/Noun   소리/Noun  ...   아주/Noun   스님/Noun   그녀/Noun   여자/Noun  \\\n",
       "0  0.000000  0.000000  0.000000  ...  0.000000  0.000000  0.000000  0.000000   \n",
       "1  0.017204  0.014801  0.012456  ...  0.000000  0.000000  0.000000  0.000000   \n",
       "2  0.000000  0.000000  0.000000  ...  0.000000  0.000000  0.000000  0.000000   \n",
       "3  0.000000  0.000000  0.000000  ...  0.021489  0.016831  0.009852  0.009823   \n",
       "4  0.000000  0.000000  0.000000  ...  0.000000  0.000000  0.000000  0.000000   \n",
       "\n",
       "    상태/Noun   생각/Noun   오늘/Noun  학교/Noun   매일/Noun   동안/Noun  \n",
       "0  0.000000  0.000000  0.000000  0.00000  0.000000  0.000000  \n",
       "1  0.000000  0.000000  0.000000  0.00000  0.000000  0.000000  \n",
       "2  0.000000  0.000000  0.000000  0.00000  0.000000  0.000000  \n",
       "3  0.009819  0.000000  0.000000  0.00000  0.000000  0.000000  \n",
       "4  0.000000  0.026657  0.017214  0.01243  0.010065  0.010057  \n",
       "\n",
       "[5 rows x 24 columns]"
      ]
     },
     "execution_count": 71,
     "metadata": {},
     "output_type": "execute_result"
    }
   ],
   "source": [
    "# LDA Model w/ 3 Topics\n",
    "\n",
    "data_lda = {i: OrderedDict(lda_ko.show_topic(i, 5)) for i in range(ntopics)}\n",
    "df_lda = pd.DataFrame(data_lda)\n",
    "df_lda = df_lda.fillna(0).T\n",
    "print(df_lda.shape)\n",
    "df_lda"
   ]
  },
  {
   "cell_type": "code",
   "execution_count": null,
   "metadata": {},
   "outputs": [],
   "source": []
  },
  {
   "cell_type": "code",
   "execution_count": 72,
   "metadata": {},
   "outputs": [
    {
     "data": {
      "text/html": [
       "\n",
       "<link rel=\"stylesheet\" type=\"text/css\" href=\"https://cdn.rawgit.com/bmabey/pyLDAvis/files/ldavis.v1.0.0.css\">\n",
       "\n",
       "\n",
       "<div id=\"ldavis_el133891403397558920484249717283\"></div>\n",
       "<script type=\"text/javascript\">\n",
       "\n",
       "var ldavis_el133891403397558920484249717283_data = {\"mdsDat\": {\"x\": [150.22215270996094, 51.16336441040039, -73.1445541381836, -66.4101333618164, 54.41732406616211], \"y\": [-72.2695541381836, -159.968017578125, 21.523815155029297, -110.60643768310547, 12.44344425201416], \"topics\": [1, 2, 3, 4, 5], \"cluster\": [1, 1, 1, 1, 1], \"Freq\": [38.344581604003906, 21.98105812072754, 19.657655715942383, 10.008357048034668, 10.008353233337402]}, \"tinfo\": {\"Term\": [\"\\uc0ac\\ub78c/Noun\", \"\\uadf8\\uac83/Noun\", \"\\uc0dd\\uac01/Noun\", \"\\uce5c\\uad6c/Noun\", \"\\uc6b0\\ub9ac/Noun\", \"\\uc2dc\\uac04/Noun\", \"\\uc544\\uc8fc/Noun\", \"\\ub9c8\\uc74c/Noun\", \"\\uc2a4\\ub2d8/Noun\", \"\\uc0ac\\uc9c4/Noun\", \"\\uc77c\\ub2e8/Noun\", \"\\uba38\\ub9ac/Noun\", \"\\uc624\\ub298/Noun\", \"\\uc9c4\\uc9dc/Noun\", \"\\uc18c\\ub9ac/Noun\", \"\\ud544\\ub984/Noun\", \"\\uac00\\uc785/Noun\", \"\\uc0ac\\uc6a9/Noun\", \"\\ub2f9\\uc2e0/Noun\", \"\\ubc84\\uc804/Noun\", \"\\ub204\\uad6c/Noun\", \"\\uac70\\ub9ac/Noun\", \"\\uc81c\\uc77c/Noun\", \"\\uc704\\ud574/Noun\", \"\\uacf5\\uac1c/Noun\", \"\\uadf8\\ub140/Noun\", \"\\uc5ec\\uc790/Noun\", \"\\uc0c1\\ud0dc/Noun\", \"\\uc5b4\\ub3c4/Noun\", \"\\ubaa8\\ub450/Noun\", \"\\ub9e4\\uc77c/Noun\", \"\\ub3d9\\uc548/Noun\", \"\\ubca0\\ud0c0/Noun\", \"\\uc0dd\\uac01/Noun\", \"\\uae30\\ubd84/Noun\", \"\\uc544\\uce68/Noun\", \"\\uc704\\ub85c/Noun\", \"\\uc11c\\ube44\\uc2a4/Noun\", \"\\uc624\\ub298/Noun\", \"\\ub124\\uc774\\ubc84/Noun\", \"\\uc2dc\\uc791/Noun\", \"\\uc2dc\\ub300/Noun\", \"\\uc9c4\\uc120/Noun\", \"\\uc774\\uc57c\\uae30/Noun\", \"\\ub54c\\ubb38/Noun\", \"\\ucd94\\uc5b5/Noun\", \"\\uc778\\uc7ac/Noun\", \"\\ucd94\\ucc9c/Noun\", \"\\ub9e4\\ud639/Noun\", \"\\uc4f0\\ub808\\uae30\\ud1b5/Noun\", \"\\ucc98\\uc74c/Noun\", \"\\ubcf4\\uace0/Noun\", \"\\uc9c1\\uc811/Noun\", \"\\ub290\\ub08c/Noun\", \"\\ud0c0\\uace0/Noun\", \"\\uc0c1\\ucc98/Noun\", \"\\uc774\\ubbf8\\uc9c0/Noun\", \"\\uc815\\uc6b0/Noun\", \"\\ud328\\ud134/Noun\", \"\\uae30\\uce68/Noun\", \"\\ud559\\uad50/Noun\", \"\\ud1b5\\uc81c/Noun\", \"\\uac00\\uc7a5/Noun\", \"\\uc77c\\uc774/Noun\", \"\\uc0ac\\ub78c/Noun\", \"\\uc2dc\\uc2a4\\ud15c/Noun\", \"\\uc0ac\\uc6a9/Noun\", \"\\uce5c\\uad6c/Noun\", \"\\uc6b0\\ub9ac/Noun\", \"\\uc77c\\ub2e8/Noun\", \"\\uc18c\\ub9ac/Noun\", \"\\ub2f9\\uc2e0/Noun\", \"\\ub204\\uad6c/Noun\", \"\\ubc84\\uc804/Noun\", \"\\uac70\\ub9ac/Noun\", \"\\uc774\\uc0c1/Noun\", \"\\uc545\\ub2f9/Noun\", \"\\uc57d\\uac04/Noun\", \"\\uc0ac\\uc9c4/Noun\", \"\\uc2dc\\uc810/Noun\", \"\\uc6b4\\ub3d9\\uc7a5/Noun\", \"\\uc774\\uc804/Noun\", \"\\uc57d\\uc18d/Noun\", \"\\ubb34\\ub985\\uc4f0/Noun\", \"\\uc7ac\\ubbf8/Noun\", \"\\uc218\\ub2c8/Noun\", \"\\ub300\\ud654/Noun\", \"\\ubd80\\ud130/Noun\", \"\\ud4e8\\uc800/Noun\", \"\\uac1c\\uac15/Noun\", \"\\ub77c\\ubbf8/Noun\", \"\\ucd5c\\uc801\\ud654/Noun\", \"\\ub9c9\\uc0c1/Noun\", \"\\uac70\\uc758/Noun\", \"\\ubb34\\ucc99/Noun\", \"\\uc758\\ubbf8/Noun\", \"\\ubaa8\\ub4e0/Noun\", \"\\ubc29\\ud559/Noun\", \"\\uc77c\\uc774/Noun\", \"\\ud559\\uad50/Noun\", \"\\uc6b0\\uc0b0/Noun\", \"\\uc0dd\\uc77c/Noun\", \"\\uc2dc\\uac04/Noun\", \"\\ud544\\ub984/Noun\", \"\\uc81c\\uc77c/Noun\", \"\\uc704\\ud574/Noun\", \"\\uacf5\\uac1c/Noun\", \"\\ubab9\\uc2dc/Noun\", \"\\ud504\\ub85c\\uadf8\\ub7a8/Noun\", \"\\uac70\\uae30/Noun\", \"\\uac11\\uc790\\uae30/Noun\", \"\\ub9c8\\uc74c/Noun\", \"\\uae30\\uc808/Noun\", \"\\ube44\\ud569\\ub9ac\\uc801/Noun\", \"\\uae30\\uc5b5/Noun\", \"\\ubcf4\\uc2dc/Noun\", \"\\uc5bc\\uad74/Noun\", \"\\uc0b4\\uc810/Noun\", \"\\ubc24\\uc7a0/Noun\", \"\\ub370\\uc2a4\\ud06c\\ud0d1/Noun\", \"\\uc808\\ubc25/Noun\", \"\\uc5ec\\uae30/Noun\", \"\\ud5e4\\ud5e4/Noun\", \"\\uc0dd\\ud65c/Noun\", \"\\uba74\\uc11c/Noun\", \"\\ud5c8\\ub9ac/Noun\", \"\\uc99d\\uc790/Noun\", \"\\uc874\\uc7ac/Noun\", \"\\uc0ac\\uc2e4/Noun\", \"\\uc0c1\\uacf5/Noun\", \"\\uc878\\uc5c5\\uc2dd/Noun\", \"\\uc0c8\\ubcbd/Noun\", \"\\uc9c4\\uc9dc/Noun\", \"\\uc0ac\\ub78c/Noun\", \"\\uc0ac\\uc6a9/Noun\", \"\\uadf8\\ub0e5/Noun\", \"\\ubc29\\ubc95/Noun\", \"\\ud6c4\\ud68c/Noun\", \"\\uc804\\uae43\\uc904/Noun\", \"\\uc544\\uc8fc/Noun\", \"\\uadf8\\ub140/Noun\", \"\\uc5ec\\uc790/Noun\", \"\\uc0c1\\ud0dc/Noun\", \"\\uc5b4\\ub3c4/Noun\", \"\\ubaa8\\ub450/Noun\", \"\\ud574\\uc678/Noun\", \"\\uc7a1\\uace0/Noun\", \"\\ubc14\\uc9c0/Noun\", \"\\uace0\\uc0dd/Noun\", \"\\ubb34\\uc5c7/Noun\", \"\\ub2e4\\ub978/Noun\", \"\\uc2a4\\ub2d8/Noun\", \"\\ub2e4\\uc2dc/Noun\", \"\\uc138\\uc0c1/Noun\", \"\\ub77c\\uc774\\ud504/Noun\", \"\\ud3ec\\ucc29/Noun\", \"\\uae30\\ub300/Noun\", \"\\uc800\\ub9ac/Noun\", \"\\uc774\\uc81c/Noun\", \"\\uc21c\\uac04/Noun\", \"\\uc800\\ub141/Noun\", \"\\ubcf4\\uae30/Noun\", \"\\ud5c8\\uc2ac/Noun\", \"\\uad8c\\uc7a5/Noun\", \"\\uad50\\uc218/Noun\", \"\\uc800\\ud0dd/Noun\", \"\\uba85\\uc0c1/Noun\", \"\\ucf54\\ucf54/Noun\", \"\\ucc29\\uc9c0/Noun\", \"\\uc2dc\\uc2a4\\ud15c/Noun\", \"\\uacc4\\uc18d/Noun\", \"\\ub0b4\\uc77c/Noun\", \"\\ubc29\\ubc95/Noun\", \"\\uc904\\ud0c0\\uae30/Noun\", \"\\uc9c0\\uae08/Noun\", \"\\ud6c4\\ud68c/Noun\", \"\\uadf8\\uac83/Noun\", \"\\uba38\\ub9ac/Noun\", \"\\uac00\\uc785/Noun\", \"\\uc774\\uc218\\uc815/Noun\", \"\\uc790\\uc8fc/Noun\", \"\\uc774\\uc720/Noun\", \"\\ub178\\ub798/Noun\", \"\\uae30\\ub85d/Noun\", \"\\ud63c\\uc790/Noun\", \"\\ubb34\\uc2a8/Noun\", \"\\ubcf6\\uc74c/Noun\", \"\\uc810\\ud504/Noun\", \"\\uc774\\ud2c0/Noun\", \"\\ubc84\\uc2a4/Noun\", \"\\uc774\\ud574/Noun\", \"\\ucd09\\uac01/Noun\", \"\\ubbf8\\ub798/Noun\", \"\\ud53c\\ub540/Noun\", \"\\uc774\\ubc88/Noun\", \"\\uc77c\\uacfc/Noun\", \"\\uc778\\ub958/Noun\", \"\\uc800\\uc7a5/Noun\", \"\\uc720\\uc988/Noun\", \"\\uc568\\ubc94/Noun\", \"\\ud64d\\ucf69\\uacfc\\uae30\\ub300/Noun\", \"\\uc694\\ub7f0/Noun\", \"\\uace0\\ub9c8/Noun\", \"\\uace0\\ubbfc/Noun\", \"\\ubbf8\\uc138\\uba3c\\uc9c0/Noun\", \"\\ub3c4\\uc6c0/Noun\", \"\\ub300\\ud55c/Noun\", \"\\uc815\\ub9d0/Noun\", \"\\ud300\\uc6d0/Noun\", \"\\uacc4\\uc18d/Noun\", \"\\ub0b4\\uc77c/Noun\", \"\\uc0ac\\ub78c/Noun\", \"\\uc608\\uc9c0/Noun\", \"\\uc9c4\\uc9dc/Noun\", \"\\uc624\\ub298/Noun\", \"\\uac78\\uc74c/Noun\", \"\\uc758\\ubbf8/Noun\"], \"Freq\": [13.0, 3.0, 13.0, 5.0, 5.0, 5.0, 3.0, 6.0, 3.0, 5.0, 4.0, 2.0, 9.0, 4.0, 3.0, 3.0, 1.0, 5.0, 3.0, 3.0, 3.0, 3.0, 2.0, 2.0, 2.0, 1.0, 1.0, 1.0, 1.0, 1.0, 4.731652736663818, 4.727614879608154, 4.7144036293029785, 12.531709671020508, 3.6007418632507324, 3.591261625289917, 3.588137149810791, 3.585118532180786, 8.092425346374512, 2.4809443950653076, 2.4784748554229736, 2.4785633087158203, 2.4790139198303223, 2.4728455543518066, 2.4728469848632812, 2.4705891609191895, 2.47067928314209, 2.467886447906494, 2.4697329998016357, 2.4669392108917236, 2.4654054641723633, 2.467761516571045, 2.466498374938965, 2.4673962593078613, 2.463852882385254, 2.4633471965789795, 2.462890386581421, 1.3563514947891235, 1.3554188013076782, 1.354697823524475, 5.843367099761963, 2.477309465408325, 2.4742660522460938, 3.6031041145324707, 3.7446444034576416, 2.5003578662872314, 2.5034902095794678, 5.283064842224121, 5.269646644592285, 3.988574981689453, 3.356692314147949, 2.716573476791382, 2.7009451389312744, 2.7014379501342773, 2.697730302810669, 2.0673367977142334, 2.0645039081573486, 2.062433958053589, 4.63637638092041, 1.4220331907272339, 1.4218295812606812, 1.4240078926086426, 1.4202266931533813, 1.4193564653396606, 1.420150637626648, 1.4184197187423706, 1.4156461954116821, 1.4176321029663086, 1.4140273332595825, 1.4187899827957153, 1.414550542831421, 1.4156674146652222, 1.4149525165557861, 1.4132184982299805, 2.0618369579315186, 1.4199508428573608, 2.706509590148926, 2.0671913623809814, 1.4353313446044922, 1.4392575025558472, 1.42367422580719, 1.4182993173599243, 4.618878364562988, 2.9273133277893066, 2.3608455657958984, 2.359304428100586, 2.3537747859954834, 1.8041107654571533, 1.8025925159454346, 1.7973597049713135, 1.7970222234725952, 4.609556198120117, 1.2407513856887817, 1.2401520013809204, 1.2390676736831665, 1.2377363443374634, 1.237527847290039, 1.2363113164901733, 1.2366526126861572, 1.2358529567718506, 1.2358496189117432, 1.2358962297439575, 1.235906720161438, 1.2335352897644043, 1.2345185279846191, 1.2342164516448975, 1.2349752187728882, 1.232087254524231, 1.2320411205291748, 1.2326098680496216, 1.231831431388855, 1.2336689233779907, 2.916947841644287, 5.77169942855835, 2.917372226715088, 1.8000731468200684, 1.2431498765945435, 1.2427287101745605, 1.2390398979187012, 2.6368119716644287, 1.2088794708251953, 1.205355167388916, 1.2048568725585938, 1.2031594514846802, 1.2012571096420288, 0.9219702482223511, 0.9192872643470764, 0.9198260307312012, 0.9192160367965698, 0.9187084436416626, 0.9194003939628601, 2.0651633739471436, 0.9170951843261719, 0.9184083342552185, 0.9143045544624329, 0.634993851184845, 0.633867621421814, 0.6325074434280396, 0.6327782273292542, 0.6326934099197388, 0.6333720684051514, 0.6324626207351685, 0.6333426237106323, 0.632539689540863, 0.6325255036354065, 0.6323168873786926, 0.6318967342376709, 0.6314561367034912, 0.6316365003585815, 0.9215571284294128, 0.6379410624504089, 0.6353981494903564, 0.6350094079971313, 0.6345940232276917, 0.6338373422622681, 0.6329773664474487, 2.9084713459014893, 1.9577778577804565, 1.327500820159912, 1.0153809785842896, 1.0099624395370483, 1.0099096298217773, 1.0071059465408325, 1.0067634582519531, 0.6992511749267578, 0.697776734828949, 0.6973568797111511, 0.6971112489700317, 0.6956360340118408, 0.6944858431816101, 0.6942217946052551, 0.6935834884643555, 0.6925437450408936, 0.6924018263816833, 0.7003498077392578, 0.3823387324810028, 0.3821522295475006, 0.38170892000198364, 0.38160440325737, 0.38156890869140625, 0.38159966468811035, 0.3813639283180237, 0.38104793429374695, 0.38111406564712524, 0.3813287615776062, 0.38074299693107605, 1.0125004053115845, 0.6990572214126587, 0.6975386738777161, 0.700670063495636, 0.6988189220428467, 3.241774320602417, 0.6945976614952087, 1.0151400566101074, 0.7116509079933167, 0.3840981423854828, 0.3853404223918915], \"Total\": [13.0, 3.0, 13.0, 5.0, 5.0, 5.0, 3.0, 6.0, 3.0, 5.0, 4.0, 2.0, 9.0, 4.0, 3.0, 3.0, 1.0, 5.0, 3.0, 3.0, 3.0, 3.0, 2.0, 2.0, 2.0, 1.0, 1.0, 1.0, 1.0, 1.0, 5.140739440917969, 5.138443470001221, 5.132922172546387, 13.694440841674805, 4.0017805099487305, 3.998202085494995, 3.9951841831207275, 3.992921829223633, 9.1943359375, 2.871366024017334, 2.868577718734741, 2.868713140487671, 2.8707590103149414, 2.8667151927948, 2.866844654083252, 2.8646233081817627, 2.864879846572876, 2.862478256225586, 2.8647732734680176, 2.862128496170044, 2.8607959747314453, 2.8635611534118652, 2.862283706665039, 2.8637609481811523, 2.860121011734009, 2.860208749771118, 2.860872983932495, 1.7365301847457886, 1.735548734664917, 1.7346619367599487, 7.574154853820801, 3.4398794174194336, 3.437687635421753, 5.315127849578857, 13.090520858764648, 4.435166835784912, 5.739546298980713, 5.874924659729004, 5.8669281005859375, 4.545406818389893, 3.8931140899658203, 3.2332749366760254, 3.233553409576416, 3.23447322845459, 3.2386884689331055, 2.5760436058044434, 2.5755834579467773, 2.574110984802246, 5.789731502532959, 1.9156322479248047, 1.916514277458191, 1.9199060201644897, 1.9165396690368652, 1.916583776473999, 1.9187953472137451, 1.917084813117981, 1.9149366617202759, 1.917681097984314, 1.9140684604644775, 1.920915126800537, 1.9154438972473145, 1.9177430868148804, 1.9169368743896484, 1.916326880455017, 2.882037401199341, 2.248706817626953, 4.364043712615967, 4.280282497406006, 5.315127849578857, 7.574154853820801, 3.051689386367798, 2.492671251296997, 5.193970680236816, 3.48588228225708, 2.899719476699829, 2.901038408279419, 2.9073567390441895, 2.330044984817505, 2.329299211502075, 2.328857421875, 2.32961106300354, 6.351919651031494, 1.7516932487487793, 1.7521781921386719, 1.7525908946990967, 1.7520595788955688, 1.7523332834243774, 1.7515740394592285, 1.7527191638946533, 1.7517451047897339, 1.7517579793930054, 1.7521309852600098, 1.7533981800079346, 1.7504106760025024, 1.7531685829162598, 1.7530038356781006, 1.7545926570892334, 1.7513402700424194, 1.7515887022018433, 1.7524073123931885, 1.752309799194336, 1.7549467086791992, 4.486929893493652, 13.090520858764648, 5.739546298980713, 2.984565496444702, 2.3577077388763428, 2.365446090698242, 3.1875596046447754, 3.3320422172546387, 1.8047617673873901, 1.8141462802886963, 1.8136460781097412, 1.8181966543197632, 1.8165764808654785, 1.5087947845458984, 1.5045690536499023, 1.5074398517608643, 1.5078558921813965, 1.5092154741287231, 1.510761022567749, 3.3967878818511963, 1.510465145111084, 1.514453649520874, 1.517433762550354, 1.2045798301696777, 1.2030574083328247, 1.2046020030975342, 1.205211877822876, 1.2051644325256348, 1.207122564315796, 1.2060580253601074, 1.208425760269165, 1.2069897651672363, 1.207139253616333, 1.207087516784668, 1.207958459854126, 1.207269549369812, 1.2077277898788452, 4.435166835784912, 1.86366868019104, 1.8706058263778687, 2.3577077388763428, 1.8674625158309937, 1.7814725637435913, 2.365446090698242, 3.5923545360565186, 2.589325428009033, 1.9287033081054688, 1.5905117988586426, 1.5961458683013916, 1.5996211767196655, 1.6012132167816162, 1.601182222366333, 1.2601609230041504, 1.2620092630386353, 1.2629284858703613, 1.263298749923706, 1.263235330581665, 1.265926480293274, 1.2677171230316162, 1.2671685218811035, 1.2680106163024902, 1.269728183746338, 1.5650317668914795, 0.9296234846115112, 0.9306882619857788, 0.9308051466941833, 0.9310849905014038, 0.931320309638977, 0.931611180305481, 0.9311909079551697, 0.930972695350647, 0.9312926530838013, 0.9318559169769287, 0.9308149814605713, 2.7327394485473633, 1.8403328657150269, 1.8424351215362549, 1.86366868019104, 1.8706058263778687, 13.090520858764648, 2.401026487350464, 4.486929893493652, 9.1943359375, 1.5414974689483643, 2.248706817626953], \"Category\": [\"Default\", \"Default\", \"Default\", \"Default\", \"Default\", \"Default\", \"Default\", \"Default\", \"Default\", \"Default\", \"Default\", \"Default\", \"Default\", \"Default\", \"Default\", \"Default\", \"Default\", \"Default\", \"Default\", \"Default\", \"Default\", \"Default\", \"Default\", \"Default\", \"Default\", \"Default\", \"Default\", \"Default\", \"Default\", \"Default\", \"Topic1\", \"Topic1\", \"Topic1\", \"Topic1\", \"Topic1\", \"Topic1\", \"Topic1\", \"Topic1\", \"Topic1\", \"Topic1\", \"Topic1\", \"Topic1\", \"Topic1\", \"Topic1\", \"Topic1\", \"Topic1\", \"Topic1\", \"Topic1\", \"Topic1\", \"Topic1\", \"Topic1\", \"Topic1\", \"Topic1\", \"Topic1\", \"Topic1\", \"Topic1\", \"Topic1\", \"Topic1\", \"Topic1\", \"Topic1\", \"Topic1\", \"Topic1\", \"Topic1\", \"Topic1\", \"Topic1\", \"Topic1\", \"Topic1\", \"Topic2\", \"Topic2\", \"Topic2\", \"Topic2\", \"Topic2\", \"Topic2\", \"Topic2\", \"Topic2\", \"Topic2\", \"Topic2\", \"Topic2\", \"Topic2\", \"Topic2\", \"Topic2\", \"Topic2\", \"Topic2\", \"Topic2\", \"Topic2\", \"Topic2\", \"Topic2\", \"Topic2\", \"Topic2\", \"Topic2\", \"Topic2\", \"Topic2\", \"Topic2\", \"Topic2\", \"Topic2\", \"Topic2\", \"Topic2\", \"Topic2\", \"Topic2\", \"Topic2\", \"Topic2\", \"Topic2\", \"Topic3\", \"Topic3\", \"Topic3\", \"Topic3\", \"Topic3\", \"Topic3\", \"Topic3\", \"Topic3\", \"Topic3\", \"Topic3\", \"Topic3\", \"Topic3\", \"Topic3\", \"Topic3\", \"Topic3\", \"Topic3\", \"Topic3\", \"Topic3\", \"Topic3\", \"Topic3\", \"Topic3\", \"Topic3\", \"Topic3\", \"Topic3\", \"Topic3\", \"Topic3\", \"Topic3\", \"Topic3\", \"Topic3\", \"Topic3\", \"Topic3\", \"Topic3\", \"Topic3\", \"Topic3\", \"Topic3\", \"Topic3\", \"Topic3\", \"Topic4\", \"Topic4\", \"Topic4\", \"Topic4\", \"Topic4\", \"Topic4\", \"Topic4\", \"Topic4\", \"Topic4\", \"Topic4\", \"Topic4\", \"Topic4\", \"Topic4\", \"Topic4\", \"Topic4\", \"Topic4\", \"Topic4\", \"Topic4\", \"Topic4\", \"Topic4\", \"Topic4\", \"Topic4\", \"Topic4\", \"Topic4\", \"Topic4\", \"Topic4\", \"Topic4\", \"Topic4\", \"Topic4\", \"Topic4\", \"Topic4\", \"Topic4\", \"Topic4\", \"Topic4\", \"Topic4\", \"Topic4\", \"Topic4\", \"Topic5\", \"Topic5\", \"Topic5\", \"Topic5\", \"Topic5\", \"Topic5\", \"Topic5\", \"Topic5\", \"Topic5\", \"Topic5\", \"Topic5\", \"Topic5\", \"Topic5\", \"Topic5\", \"Topic5\", \"Topic5\", \"Topic5\", \"Topic5\", \"Topic5\", \"Topic5\", \"Topic5\", \"Topic5\", \"Topic5\", \"Topic5\", \"Topic5\", \"Topic5\", \"Topic5\", \"Topic5\", \"Topic5\", \"Topic5\", \"Topic5\", \"Topic5\", \"Topic5\", \"Topic5\", \"Topic5\", \"Topic5\", \"Topic5\", \"Topic5\", \"Topic5\", \"Topic5\", \"Topic5\"], \"logprob\": [30.0, 29.0, 28.0, 27.0, 26.0, 25.0, 24.0, 23.0, 22.0, 21.0, 20.0, 19.0, 18.0, 17.0, 16.0, 15.0, 14.0, 13.0, 12.0, 11.0, 10.0, 9.0, 8.0, 7.0, 6.0, 5.0, 4.0, 3.0, 2.0, 1.0, -4.598700046539307, -4.5995001792907715, -4.60230016708374, -3.6247000694274902, -4.871799945831299, -4.874499797821045, -4.87529993057251, -4.876200199127197, -4.061999797821045, -5.24429988861084, -5.245299816131592, -5.245299816131592, -5.245100021362305, -5.247600078582764, -5.247600078582764, -5.248499870300293, -5.248499870300293, -5.249599933624268, -5.248799800872803, -5.25, -5.2505998611450195, -5.249599933624268, -5.250199794769287, -5.249800205230713, -5.251200199127197, -5.251399993896484, -5.2515997886657715, -5.848199844360352, -5.848800182342529, -5.849400043487549, -4.387599945068359, -5.245800018310547, -5.247000217437744, -4.871200084686279, -4.832600116729736, -5.236499786376953, -5.235300064086914, -3.931999921798706, -3.9346001148223877, -4.213099956512451, -4.3856000900268555, -4.5971999168396, -4.60290002822876, -4.602700233459473, -4.604100227355957, -4.870299816131592, -4.871600151062012, -4.872600078582764, -4.062600135803223, -5.2444000244140625, -5.24459981918335, -5.243000030517578, -5.245699882507324, -5.246300220489502, -5.245800018310547, -5.247000217437744, -5.248899936676025, -5.247499942779541, -5.250100135803223, -5.246699810028076, -5.24970006942749, -5.248899936676025, -5.2494001388549805, -5.250699996948242, -4.872900009155273, -5.2459001541137695, -4.600900173187256, -4.870299816131592, -5.235099792480469, -5.232399940490723, -5.243299961090088, -5.247099876403809, -3.954699993133545, -4.410699844360352, -4.625800132751465, -4.626399993896484, -4.628799915313721, -4.894700050354004, -4.895599842071533, -4.898499965667725, -4.89870023727417, -3.956700086593628, -5.269100189208984, -5.269599914550781, -5.270400047302246, -5.271500110626221, -5.271699905395508, -5.27269983291626, -5.27239990234375, -5.2729997634887695, -5.2729997634887695, -5.2729997634887695, -5.2729997634887695, -5.274899959564209, -5.274099826812744, -5.274400234222412, -5.273799896240234, -5.276100158691406, -5.276100158691406, -5.275700092315674, -5.276299953460693, -5.274799823760986, -4.414299964904785, -3.731800079345703, -4.414100170135498, -4.896999835968018, -5.267199993133545, -5.267499923706055, -5.270500183105469, -3.8401999473571777, -4.620100021362305, -4.623000144958496, -4.6234002113342285, -4.624800205230713, -4.626399993896484, -4.890999794006348, -4.893899917602539, -4.8933000564575195, -4.894000053405762, -4.894499778747559, -4.893799781799316, -4.08459997177124, -4.896299839019775, -4.894899845123291, -4.899400234222412, -5.263899803161621, -5.265699863433838, -5.2677998542785645, -5.267399787902832, -5.267499923706055, -5.266499996185303, -5.267899990081787, -5.266499996185303, -5.2677998542785645, -5.2677998542785645, -5.268099784851074, -5.268799781799316, -5.269499778747559, -5.269199848175049, -4.891499996185303, -5.259300231933594, -5.263299942016602, -5.263899803161621, -5.264500141143799, -5.265699863433838, -5.267099857330322, -3.7421000003814697, -4.138000011444092, -4.526500225067139, -4.79449987411499, -4.799799919128418, -4.799900054931641, -4.802700042724609, -4.802999973297119, -5.167500019073486, -5.169600009918213, -5.170199871063232, -5.170599937438965, -5.172699928283691, -5.174300193786621, -5.174699783325195, -5.175600051879883, -5.17710018157959, -5.1774001121521, -5.165900230407715, -5.771200180053711, -5.771699905395508, -5.772900104522705, -5.773099899291992, -5.773200035095215, -5.773099899291992, -5.773799896240234, -5.774600028991699, -5.774400234222412, -5.773900032043457, -5.775400161743164, -4.797299861907959, -5.167799949645996, -5.170000076293945, -5.165500164031982, -5.168099880218506, -3.6335999965667725, -5.174200057983398, -4.7947001457214355, -5.149899959564209, -5.766600131988525, -5.763400077819824], \"loglift\": [30.0, 29.0, 28.0, 27.0, 26.0, 25.0, 24.0, 23.0, 22.0, 21.0, 20.0, 19.0, 18.0, 17.0, 16.0, 15.0, 14.0, 13.0, 12.0, 11.0, 10.0, 9.0, 8.0, 7.0, 6.0, 5.0, 4.0, 3.0, 2.0, 1.0, 0.8755999803543091, 0.8751999735832214, 0.8734999895095825, 0.8697999715805054, 0.8529999852180481, 0.8511999845504761, 0.8511000275611877, 0.8507999777793884, 0.8309000134468079, 0.8123999834060669, 0.8123999834060669, 0.8123999834060669, 0.8118000030517578, 0.8108000159263611, 0.810699999332428, 0.8105999827384949, 0.8105000257492065, 0.8101999759674072, 0.8101999759674072, 0.8100000023841858, 0.8098000288009644, 0.8098000288009644, 0.8097000122070312, 0.8095999956130981, 0.8094000220298767, 0.8091999888420105, 0.8087999820709229, 0.7114999890327454, 0.7113000154495239, 0.7113000154495239, 0.6991000175476074, 0.630299985408783, 0.6297000050544739, 0.5698000192642212, -0.2930000126361847, 0.3853999972343445, 0.12890000641345978, 1.4088000059127808, 1.4076000452041626, 1.3842999935150146, 1.3667000532150269, 1.34089994430542, 1.3350000381469727, 1.3349000215530396, 1.332200050354004, 1.2949999570846558, 1.2937999963760376, 1.2934000492095947, 1.292799949645996, 1.2170000076293945, 1.2164000272750854, 1.2161999940872192, 1.2152999639511108, 1.2145999670028687, 1.2141000032424927, 1.2137000560760498, 1.2129000425338745, 1.2129000425338745, 1.2122000455856323, 1.2120000123977661, 1.211899995803833, 1.211400032043457, 1.211400032043457, 1.2103999853134155, 1.1800999641418457, 1.055299997329712, 1.0371999740600586, 0.7871999740600586, 0.20579999685287476, -0.14560000598430634, 0.7524999976158142, 0.9510999917984009, 1.5094000101089478, 1.4521000385284424, 1.4211000204086304, 1.4199999570846558, 1.4155000448226929, 1.37090003490448, 1.3703999519348145, 1.3675999641418457, 1.3671000003814697, 1.3061000108718872, 1.2818000316619873, 1.2811000347137451, 1.2799999713897705, 1.2791999578475952, 1.2789000272750854, 1.2783000469207764, 1.277899980545044, 1.277899980545044, 1.2777999639511108, 1.2776999473571777, 1.2769999504089355, 1.2767000198364258, 1.2760000228881836, 1.2757999897003174, 1.2755000591278076, 1.274999976158142, 1.274899959564209, 1.2747999429702759, 1.2742999792099, 1.2742999792099, 1.1960999965667725, 0.8077999949455261, 0.949999988079071, 1.1210999488830566, 0.9866999983787537, 0.9829999804496765, 0.6818000078201294, 2.067699909210205, 1.9010000228881836, 1.892899990081787, 1.892799973487854, 1.8889000415802002, 1.888200044631958, 1.8092000484466553, 1.8091000318527222, 1.807800054550171, 1.8068000078201294, 1.805400013923645, 1.8050999641418457, 1.8041000366210938, 1.8028000593185425, 1.8015999794006348, 1.7950999736785889, 1.6614999771118164, 1.6610000133514404, 1.6575000286102295, 1.6575000286102295, 1.6574000120162964, 1.6568000316619873, 1.6562999486923218, 1.6556999683380127, 1.6555999517440796, 1.655500054359436, 1.6552000045776367, 1.6538000106811523, 1.6536999940872192, 1.6535999774932861, 0.7304999828338623, 1.229699969291687, 1.222000002861023, 0.9898999929428101, 1.2223999500274658, 1.2683000564575195, 0.9835000038146973, 2.09060001373291, 2.022200107574463, 1.9282000064849854, 1.8530000448226929, 1.844099998474121, 1.8417999744415283, 1.8380999565124512, 1.8377000093460083, 1.7128000259399414, 1.7092000246047974, 1.707900047302246, 1.707200050354004, 1.7051000595092773, 1.7014000415802002, 1.6995999813079834, 1.6991000175476074, 1.6969000101089478, 1.6953999996185303, 1.4976999759674072, 1.4133000373840332, 1.4115999937057495, 1.4104000329971313, 1.4098000526428223, 1.4093999862670898, 1.4091999530792236, 1.409000039100647, 1.408400058746338, 1.4083000421524048, 1.4082000255584717, 1.4077999591827393, 1.308899998664856, 1.333799958229065, 1.3305000066757202, 1.3235000371932983, 1.3171000480651855, 0.906000018119812, 1.061400055885315, 0.8155999779701233, -0.25699999928474426, 0.9121000170707703, 0.5378000140190125]}, \"token.table\": {\"Topic\": [5, 1, 3, 3, 2, 3, 2, 2, 4, 4, 5, 4, 3, 4, 4, 5, 2, 3, 4, 4, 5, 1, 3, 3, 1, 4, 5, 1, 5, 2, 1, 4, 4, 2, 1, 5, 2, 3, 1, 1, 2, 4, 1, 3, 2, 1, 1, 5, 3, 4, 4, 1, 2, 3, 2, 5, 4, 2, 5, 4, 3, 3, 4, 1, 2, 3, 5, 2, 1, 1, 4, 3, 5, 2, 3, 1, 3, 5, 3, 1, 3, 2, 3, 3, 3, 1, 4, 3, 1, 2, 2, 3, 3, 1, 4, 2, 2, 4, 2, 4, 3, 1, 1, 2, 4, 1, 2, 1, 4, 1, 2, 2, 2, 4, 3, 3, 4, 1, 5, 1, 5, 2, 1, 2, 2, 1, 3, 2, 1, 5, 2, 5, 1, 5, 2, 4, 5, 5, 1, 2, 1, 2, 5, 4, 2, 4, 4, 4, 1, 3, 3, 5, 3, 5, 1, 3, 3, 3, 2, 4, 3, 3, 4, 1, 1, 3, 5, 4, 1, 5, 2, 1, 1, 2, 4, 1, 1, 3, 3, 5, 1, 4, 2, 3, 5, 3, 1, 2, 4, 3, 4, 3, 5, 3, 4], \"Freq\": [0.51848304271698, 0.5817864537239075, 0.29089322686195374, 0.8585124015808105, 0.5205851793289185, 0.8587902188301086, 0.9263008832931519, 0.5218316316604614, 0.648719847202301, 0.5365760326385498, 0.5365760326385498, 0.6631933450698853, 0.6879100799560547, 0.8284048438072205, 0.8285074234008789, 0.8351069092750549, 0.3350571393966675, 0.670114278793335, 0.5540897250175476, 0.831215500831604, 0.6245385408401489, 0.9995550513267517, 0.5705838203430176, 0.5708761811256409, 0.5764812231063843, 0.5345861911773682, 0.5345861911773682, 0.6965326070785522, 0.6245264410972595, 0.9277719259262085, 0.6983823180198669, 0.661918044090271, 0.6620477437973022, 0.9278517961502075, 0.3659331798553467, 0.3659331798553467, 0.5222104787826538, 0.5708593130111694, 0.9730573296546936, 0.6976311206817627, 0.5220721960067749, 0.6590073704719543, 0.15743272006511688, 0.7871636152267456, 0.5216655731201172, 0.9726227521896362, 0.6981355547904968, 0.7724019289016724, 0.570395827293396, 0.8278430104255676, 0.5504860281944275, 0.22914527356624603, 0.6874358057975769, 0.858352541923523, 0.5217617154121399, 0.7923871874809265, 0.6625959277153015, 0.6939535140991211, 0.7886369228363037, 0.6633763909339905, 0.57054203748703, 0.4241407811641693, 0.4241407811641693, 0.23362943530082703, 0.46725887060165405, 0.23362943530082703, 0.789935290813446, 0.9275080561637878, 0.9741039872169495, 0.6984310150146484, 0.8291475176811218, 0.5707568526268005, 0.7918104529380798, 0.52146315574646, 0.5707182288169861, 0.30556461215019226, 0.4583469331264496, 0.2291734665632248, 0.5709102749824524, 0.5226894021034241, 0.5226894021034241, 0.8635979294776917, 0.1727195829153061, 0.5709150433540344, 0.5706436038017273, 0.6992496848106384, 0.5513755083084106, 0.5698179006576538, 0.9492903351783752, 0.07302232831716537, 0.4011760354042053, 0.4011760354042053, 0.5712944865226746, 1.0017726421356201, 0.6603041291236877, 0.7705913186073303, 0.5216253399848938, 0.8297622799873352, 0.29439577460289, 0.58879154920578, 0.9626546502113342, 0.6971766948699951, 0.6764119863510132, 0.2254706621170044, 0.2254706621170044, 0.6972096562385559, 0.5220208764076233, 0.6987806558609009, 0.9003487229347229, 1.0004496574401855, 0.7765230536460876, 0.7769672870635986, 0.5217736959457397, 0.5499955415725708, 0.5706676840782166, 0.5707336068153381, 0.5512234568595886, 0.41648852825164795, 0.41648852825164795, 0.8701009154319763, 0.10876261442899704, 0.8522347211837769, 0.3276873528957367, 0.3276873528957367, 0.5217806100845337, 1.0012054443359375, 0.6894083023071289, 0.4447000324726105, 0.6990873217582703, 0.6389646530151367, 0.7763843536376953, 0.628728449344635, 0.6976625919342041, 0.6251479983329773, 0.5208588242530823, 0.8297296166419983, 0.7916181087493896, 0.7888194918632507, 0.6981095671653748, 0.8800092339515686, 0.7525689005851746, 0.18814222514629364, 0.6265091300010681, 0.6646421551704407, 0.5211603045463562, 0.8284162878990173, 0.8301497101783752, 0.8284403681755066, 0.31371963024139404, 0.31371963024139404, 0.5708551406860352, 0.7915784120559692, 0.5433799624443054, 0.5433799624443054, 0.5758609771728516, 0.6897218823432922, 0.5709912776947021, 0.5706753730773926, 0.5354859828948975, 0.5354859828948975, 0.5699328780174255, 0.5613333582878113, 0.5613333582878113, 0.6987427473068237, 0.6966798901557922, 0.6686086058616638, 0.22286954522132874, 0.8280011415481567, 0.6991061568260193, 0.7891610264778137, 0.5214462876319885, 0.6981720924377441, 0.6986952424049377, 0.851074755191803, 0.8283154368400574, 0.6992710828781128, 0.5814157128334045, 0.29070785641670227, 0.5427599549293518, 0.5427599549293518, 0.5761866569519043, 0.8301649689674377, 0.5224473476409912, 0.8586273193359375, 0.7875701189041138, 0.8606142401695251, 0.792167603969574, 0.13202793896198273, 0.6627806425094604, 0.5704494118690491, 0.8275229334831238, 0.5703210830688477, 0.7935494184494019, 0.422753244638443, 0.422753244638443], \"Term\": [\"\\uac00\\uc785/Noun\", \"\\uac00\\uc7a5/Noun\", \"\\uac00\\uc7a5/Noun\", \"\\uac11\\uc790\\uae30/Noun\", \"\\uac1c\\uac15/Noun\", \"\\uac70\\uae30/Noun\", \"\\uac70\\ub9ac/Noun\", \"\\uac70\\uc758/Noun\", \"\\uac78\\uc74c/Noun\", \"\\uacc4\\uc18d/Noun\", \"\\uacc4\\uc18d/Noun\", \"\\uace0\\uc0dd/Noun\", \"\\uacf5\\uac1c/Noun\", \"\\uad50\\uc218/Noun\", \"\\uad8c\\uc7a5/Noun\", \"\\uadf8\\uac83/Noun\", \"\\uadf8\\ub0e5/Noun\", \"\\uadf8\\ub0e5/Noun\", \"\\uadf8\\ub140/Noun\", \"\\uae30\\ub300/Noun\", \"\\uae30\\ub85d/Noun\", \"\\uae30\\ubd84/Noun\", \"\\uae30\\uc5b5/Noun\", \"\\uae30\\uc808/Noun\", \"\\uae30\\uce68/Noun\", \"\\ub0b4\\uc77c/Noun\", \"\\ub0b4\\uc77c/Noun\", \"\\ub124\\uc774\\ubc84/Noun\", \"\\ub178\\ub798/Noun\", \"\\ub204\\uad6c/Noun\", \"\\ub290\\ub08c/Noun\", \"\\ub2e4\\ub978/Noun\", \"\\ub2e4\\uc2dc/Noun\", \"\\ub2f9\\uc2e0/Noun\", \"\\ub300\\ud55c/Noun\", \"\\ub300\\ud55c/Noun\", \"\\ub300\\ud654/Noun\", \"\\ub370\\uc2a4\\ud06c\\ud0d1/Noun\", \"\\ub3d9\\uc548/Noun\", \"\\ub54c\\ubb38/Noun\", \"\\ub77c\\ubbf8/Noun\", \"\\ub77c\\uc774\\ud504/Noun\", \"\\ub9c8\\uc74c/Noun\", \"\\ub9c8\\uc74c/Noun\", \"\\ub9c9\\uc0c1/Noun\", \"\\ub9e4\\uc77c/Noun\", \"\\ub9e4\\ud639/Noun\", \"\\uba38\\ub9ac/Noun\", \"\\uba74\\uc11c/Noun\", \"\\uba85\\uc0c1/Noun\", \"\\ubaa8\\ub450/Noun\", \"\\ubaa8\\ub4e0/Noun\", \"\\ubaa8\\ub4e0/Noun\", \"\\ubab9\\uc2dc/Noun\", \"\\ubb34\\ub985\\uc4f0/Noun\", \"\\ubb34\\uc2a8/Noun\", \"\\ubb34\\uc5c7/Noun\", \"\\ubb34\\ucc99/Noun\", \"\\ubbf8\\ub798/Noun\", \"\\ubc14\\uc9c0/Noun\", \"\\ubc24\\uc7a0/Noun\", \"\\ubc29\\ubc95/Noun\", \"\\ubc29\\ubc95/Noun\", \"\\ubc29\\ud559/Noun\", \"\\ubc29\\ud559/Noun\", \"\\ubc29\\ud559/Noun\", \"\\ubc84\\uc2a4/Noun\", \"\\ubc84\\uc804/Noun\", \"\\ubca0\\ud0c0/Noun\", \"\\ubcf4\\uace0/Noun\", \"\\ubcf4\\uae30/Noun\", \"\\ubcf4\\uc2dc/Noun\", \"\\ubcf6\\uc74c/Noun\", \"\\ubd80\\ud130/Noun\", \"\\ube44\\ud569\\ub9ac\\uc801/Noun\", \"\\uc0ac\\ub78c/Noun\", \"\\uc0ac\\ub78c/Noun\", \"\\uc0ac\\ub78c/Noun\", \"\\uc0ac\\uc2e4/Noun\", \"\\uc0ac\\uc6a9/Noun\", \"\\uc0ac\\uc6a9/Noun\", \"\\uc0ac\\uc9c4/Noun\", \"\\uc0ac\\uc9c4/Noun\", \"\\uc0b4\\uc810/Noun\", \"\\uc0c1\\uacf5/Noun\", \"\\uc0c1\\ucc98/Noun\", \"\\uc0c1\\ud0dc/Noun\", \"\\uc0c8\\ubcbd/Noun\", \"\\uc0dd\\uac01/Noun\", \"\\uc0dd\\uac01/Noun\", \"\\uc0dd\\uc77c/Noun\", \"\\uc0dd\\uc77c/Noun\", \"\\uc0dd\\ud65c/Noun\", \"\\uc11c\\ube44\\uc2a4/Noun\", \"\\uc138\\uc0c1/Noun\", \"\\uc18c\\ub9ac/Noun\", \"\\uc218\\ub2c8/Noun\", \"\\uc21c\\uac04/Noun\", \"\\uc2a4\\ub2d8/Noun\", \"\\uc2a4\\ub2d8/Noun\", \"\\uc2dc\\uac04/Noun\", \"\\uc2dc\\ub300/Noun\", \"\\uc2dc\\uc2a4\\ud15c/Noun\", \"\\uc2dc\\uc2a4\\ud15c/Noun\", \"\\uc2dc\\uc2a4\\ud15c/Noun\", \"\\uc2dc\\uc791/Noun\", \"\\uc2dc\\uc810/Noun\", \"\\uc4f0\\ub808\\uae30\\ud1b5/Noun\", \"\\uc544\\uc8fc/Noun\", \"\\uc544\\uce68/Noun\", \"\\uc545\\ub2f9/Noun\", \"\\uc57d\\uac04/Noun\", \"\\uc57d\\uc18d/Noun\", \"\\uc5b4\\ub3c4/Noun\", \"\\uc5bc\\uad74/Noun\", \"\\uc5ec\\uae30/Noun\", \"\\uc5ec\\uc790/Noun\", \"\\uc608\\uc9c0/Noun\", \"\\uc608\\uc9c0/Noun\", \"\\uc624\\ub298/Noun\", \"\\uc624\\ub298/Noun\", \"\\uc6b0\\ub9ac/Noun\", \"\\uc6b0\\uc0b0/Noun\", \"\\uc6b0\\uc0b0/Noun\", \"\\uc6b4\\ub3d9\\uc7a5/Noun\", \"\\uc704\\ub85c/Noun\", \"\\uc704\\ud574/Noun\", \"\\uc758\\ubbf8/Noun\", \"\\uc774\\ubbf8\\uc9c0/Noun\", \"\\uc774\\ubc88/Noun\", \"\\uc774\\uc0c1/Noun\", \"\\uc774\\uc218\\uc815/Noun\", \"\\uc774\\uc57c\\uae30/Noun\", \"\\uc774\\uc720/Noun\", \"\\uc774\\uc804/Noun\", \"\\uc774\\uc81c/Noun\", \"\\uc774\\ud2c0/Noun\", \"\\uc774\\ud574/Noun\", \"\\uc778\\uc7ac/Noun\", \"\\uc77c\\ub2e8/Noun\", \"\\uc77c\\uc774/Noun\", \"\\uc77c\\uc774/Noun\", \"\\uc790\\uc8fc/Noun\", \"\\uc7a1\\uace0/Noun\", \"\\uc7ac\\ubbf8/Noun\", \"\\uc800\\ub141/Noun\", \"\\uc800\\ub9ac/Noun\", \"\\uc800\\ud0dd/Noun\", \"\\uc804\\uae43\\uc904/Noun\", \"\\uc804\\uae43\\uc904/Noun\", \"\\uc808\\ubc25/Noun\", \"\\uc810\\ud504/Noun\", \"\\uc815\\ub9d0/Noun\", \"\\uc815\\ub9d0/Noun\", \"\\uc815\\uc6b0/Noun\", \"\\uc81c\\uc77c/Noun\", \"\\uc874\\uc7ac/Noun\", \"\\uc878\\uc5c5\\uc2dd/Noun\", \"\\uc904\\ud0c0\\uae30/Noun\", \"\\uc904\\ud0c0\\uae30/Noun\", \"\\uc99d\\uc790/Noun\", \"\\uc9c0\\uae08/Noun\", \"\\uc9c0\\uae08/Noun\", \"\\uc9c1\\uc811/Noun\", \"\\uc9c4\\uc120/Noun\", \"\\uc9c4\\uc9dc/Noun\", \"\\uc9c4\\uc9dc/Noun\", \"\\ucc29\\uc9c0/Noun\", \"\\ucc98\\uc74c/Noun\", \"\\ucd09\\uac01/Noun\", \"\\ucd5c\\uc801\\ud654/Noun\", \"\\ucd94\\uc5b5/Noun\", \"\\ucd94\\ucc9c/Noun\", \"\\uce5c\\uad6c/Noun\", \"\\ucf54\\ucf54/Noun\", \"\\ud0c0\\uace0/Noun\", \"\\ud1b5\\uc81c/Noun\", \"\\ud1b5\\uc81c/Noun\", \"\\ud300\\uc6d0/Noun\", \"\\ud300\\uc6d0/Noun\", \"\\ud328\\ud134/Noun\", \"\\ud3ec\\ucc29/Noun\", \"\\ud4e8\\uc800/Noun\", \"\\ud504\\ub85c\\uadf8\\ub7a8/Noun\", \"\\ud53c\\ub540/Noun\", \"\\ud544\\ub984/Noun\", \"\\ud559\\uad50/Noun\", \"\\ud559\\uad50/Noun\", \"\\ud574\\uc678/Noun\", \"\\ud5c8\\ub9ac/Noun\", \"\\ud5c8\\uc2ac/Noun\", \"\\ud5e4\\ud5e4/Noun\", \"\\ud63c\\uc790/Noun\", \"\\ud6c4\\ud68c/Noun\", \"\\ud6c4\\ud68c/Noun\"]}, \"R\": 30, \"lambda.step\": 0.01, \"plot.opts\": {\"xlab\": \"PC1\", \"ylab\": \"PC2\"}, \"topic.order\": [5, 2, 3, 4, 1]};\n",
       "\n",
       "function LDAvis_load_lib(url, callback){\n",
       "  var s = document.createElement('script');\n",
       "  s.src = url;\n",
       "  s.async = true;\n",
       "  s.onreadystatechange = s.onload = callback;\n",
       "  s.onerror = function(){console.warn(\"failed to load library \" + url);};\n",
       "  document.getElementsByTagName(\"head\")[0].appendChild(s);\n",
       "}\n",
       "\n",
       "if(typeof(LDAvis) !== \"undefined\"){\n",
       "   // already loaded: just create the visualization\n",
       "   !function(LDAvis){\n",
       "       new LDAvis(\"#\" + \"ldavis_el133891403397558920484249717283\", ldavis_el133891403397558920484249717283_data);\n",
       "   }(LDAvis);\n",
       "}else if(typeof define === \"function\" && define.amd){\n",
       "   // require.js is available: use it to load d3/LDAvis\n",
       "   require.config({paths: {d3: \"https://cdnjs.cloudflare.com/ajax/libs/d3/3.5.5/d3.min\"}});\n",
       "   require([\"d3\"], function(d3){\n",
       "      window.d3 = d3;\n",
       "      LDAvis_load_lib(\"https://cdn.rawgit.com/bmabey/pyLDAvis/files/ldavis.v1.0.0.js\", function(){\n",
       "        new LDAvis(\"#\" + \"ldavis_el133891403397558920484249717283\", ldavis_el133891403397558920484249717283_data);\n",
       "      });\n",
       "    });\n",
       "}else{\n",
       "    // require.js not available: dynamically load d3 & LDAvis\n",
       "    LDAvis_load_lib(\"https://cdnjs.cloudflare.com/ajax/libs/d3/3.5.5/d3.min.js\", function(){\n",
       "         LDAvis_load_lib(\"https://cdn.rawgit.com/bmabey/pyLDAvis/files/ldavis.v1.0.0.js\", function(){\n",
       "                 new LDAvis(\"#\" + \"ldavis_el133891403397558920484249717283\", ldavis_el133891403397558920484249717283_data);\n",
       "            })\n",
       "         });\n",
       "}\n",
       "</script>"
      ],
      "text/plain": [
       "PreparedData(topic_coordinates=                x           y  topics  cluster       Freq\n",
       "topic                                                    \n",
       "4      150.222153  -72.269554       1        1  38.344582\n",
       "1       51.163364 -159.968018       2        1  21.981058\n",
       "2      -73.144554   21.523815       3        1  19.657656\n",
       "3      -66.410133 -110.606438       4        1  10.008357\n",
       "0       54.417324   12.443444       5        1  10.008353, topic_info=        Term       Freq      Total Category  logprob  loglift\n",
       "117  사람/Noun  13.000000  13.000000  Default  30.0000  30.0000\n",
       "66   그것/Noun   3.000000   3.000000  Default  29.0000  29.0000\n",
       "38   생각/Noun  13.000000  13.000000  Default  28.0000  28.0000\n",
       "11   친구/Noun   5.000000   5.000000  Default  27.0000  27.0000\n",
       "46   우리/Noun   5.000000   5.000000  Default  26.0000  26.0000\n",
       "..       ...        ...        ...      ...      ...      ...\n",
       "419  예지/Noun   0.694598   2.401026   Topic5  -5.1742   1.0614\n",
       "58   진짜/Noun   1.015140   4.486930   Topic5  -4.7947   0.8156\n",
       "249  오늘/Noun   0.711651   9.194336   Topic5  -5.1499  -0.2570\n",
       "134  걸음/Noun   0.384098   1.541497   Topic5  -5.7666   0.9121\n",
       "118  의미/Noun   0.385340   2.248707   Topic5  -5.7634   0.5378\n",
       "\n",
       "[217 rows x 6 columns], token_table=      Topic      Freq      Term\n",
       "term                           \n",
       "229       5  0.518483   가입/Noun\n",
       "125       1  0.581786   가장/Noun\n",
       "125       3  0.290893   가장/Noun\n",
       "59        3  0.858512  갑자기/Noun\n",
       "540       2  0.520585   개강/Noun\n",
       "...     ...       ...       ...\n",
       "193       4  0.827523   허슬/Noun\n",
       "39        3  0.570321   헤헤/Noun\n",
       "708       5  0.793549   혼자/Noun\n",
       "230       3  0.422753   후회/Noun\n",
       "230       4  0.422753   후회/Noun\n",
       "\n",
       "[195 rows x 3 columns], R=30, lambda_step=0.01, plot_opts={'xlab': 'PC1', 'ylab': 'PC2'}, topic_order=[5, 2, 3, 4, 1])"
      ]
     },
     "execution_count": 72,
     "metadata": {},
     "output_type": "execute_result"
    }
   ],
   "source": [
    "# 3-topic LDA 모델 - MDS Mapping\n",
    "\n",
    "corpus_lda = lda_ko[tfidf_ko]\n",
    "\n",
    "pyLDAvis.enable_notebook()\n",
    "panel = pyLDAvis.gensim.prepare(lda_ko, corpus_lda, dictionary_ko, mds='tsne')\n",
    "panel"
   ]
  },
  {
   "cell_type": "code",
   "execution_count": 73,
   "metadata": {},
   "outputs": [],
   "source": [
    "def getNVM_lemma(text):\n",
    "    tokenizer = MeCab.Tagger()\n",
    "    parsed = tokenizer.parse(text)\n",
    "    word_tag = [w for w in parsed.split(\"\\n\")]\n",
    "    pos = []\n",
    "    tags = ['NNG','NNP','VV','VA', 'VX', 'VCP','VCN']\n",
    "    for word_ in word_tag[:-2]:\n",
    "        word = word_.split(\"\\t\")\n",
    "        tag = word[1].split(\",\")\n",
    "        if(len(word[0]) < 2) or (\"게\" in word[0]):\n",
    "            continue\n",
    "        if(tag[-1] != '*'):\n",
    "            t = tag[-1].split('/')\n",
    "            if(len(t[0]) > 1 and ('VV' in t[1] or 'VA' in t[1] or 'VX' in t[1])):\n",
    "                pos.append(t[0])\n",
    "        else:\n",
    "            if(tag[0] in tags):\n",
    "                pos.append(word[0])\n",
    "    return pos"
   ]
  },
  {
   "cell_type": "code",
   "execution_count": 74,
   "metadata": {},
   "outputs": [
    {
     "name": "stdout",
     "output_type": "stream",
     "text": [
      "Created 135 X 137 document-term matrix\n"
     ]
    }
   ],
   "source": [
    "vectorizer = CountVectorizer(tokenizer=getNVM_lemma, min_df=2)\n",
    "x_counts = vectorizer.fit_transform(df['content'].values.astype('U'))\n",
    "print( \"Created %d X %d document-term matrix\" % (x_counts.shape[0], x_counts.shape[1]) )\n",
    "transformer = TfidfTransformer(smooth_idf=False);\n",
    "x_tfidf = transformer.fit_transform(x_counts);"
   ]
  },
  {
   "cell_type": "code",
   "execution_count": 75,
   "metadata": {},
   "outputs": [
    {
     "name": "stdout",
     "output_type": "stream",
     "text": [
      "Vocabulary has 137 distinct terms\n"
     ]
    }
   ],
   "source": [
    "terms = vectorizer.get_feature_names()\n",
    "print(\"Vocabulary has %d distinct terms\" % len(terms))"
   ]
  },
  {
   "cell_type": "code",
   "execution_count": 83,
   "metadata": {},
   "outputs": [
    {
     "data": {
      "text/plain": [
       "NMF(init='nndsvd', n_components=5)"
      ]
     },
     "execution_count": 83,
     "metadata": {},
     "output_type": "execute_result"
    }
   ],
   "source": [
    "xtfidf_norm = normalize(x_tfidf, norm='l1', axis=1)\n",
    "model = NMF(n_components=5, init='nndsvd');\n",
    "model.fit(xtfidf_norm)"
   ]
  },
  {
   "cell_type": "code",
   "execution_count": 84,
   "metadata": {},
   "outputs": [],
   "source": [
    "def get_nmf_topics(model, n_top_words):\n",
    "    \n",
    "    feat_names = vectorizer.get_feature_names()\n",
    "    \n",
    "    word_dict = {};\n",
    "    for i in range(num_topics):\n",
    "        \n",
    "        words_ids = model.components_[i].argsort()[:-10 - 1:-1]\n",
    "        words = [feat_names[key] for key in words_ids]\n",
    "        word_dict['Topic # ' + '{:02d}'.format(i+1)] = words;\n",
    "    \n",
    "    return pd.DataFrame(word_dict);"
   ]
  },
  {
   "cell_type": "code",
   "execution_count": 85,
   "metadata": {},
   "outputs": [
    {
     "data": {
      "text/html": [
       "<div>\n",
       "<style scoped>\n",
       "    .dataframe tbody tr th:only-of-type {\n",
       "        vertical-align: middle;\n",
       "    }\n",
       "\n",
       "    .dataframe tbody tr th {\n",
       "        vertical-align: top;\n",
       "    }\n",
       "\n",
       "    .dataframe thead th {\n",
       "        text-align: right;\n",
       "    }\n",
       "</style>\n",
       "<table border=\"1\" class=\"dataframe\">\n",
       "  <thead>\n",
       "    <tr style=\"text-align: right;\">\n",
       "      <th></th>\n",
       "      <th>Topic # 01</th>\n",
       "    </tr>\n",
       "  </thead>\n",
       "  <tbody>\n",
       "    <tr>\n",
       "      <th>0</th>\n",
       "      <td>날씨</td>\n",
       "    </tr>\n",
       "    <tr>\n",
       "      <th>1</th>\n",
       "      <td>생일</td>\n",
       "    </tr>\n",
       "    <tr>\n",
       "      <th>2</th>\n",
       "      <td>시작</td>\n",
       "    </tr>\n",
       "    <tr>\n",
       "      <th>3</th>\n",
       "      <td>기념</td>\n",
       "    </tr>\n",
       "    <tr>\n",
       "      <th>4</th>\n",
       "      <td>카메라</td>\n",
       "    </tr>\n",
       "    <tr>\n",
       "      <th>5</th>\n",
       "      <td>필름</td>\n",
       "    </tr>\n",
       "    <tr>\n",
       "      <th>6</th>\n",
       "      <td>개강</td>\n",
       "    </tr>\n",
       "    <tr>\n",
       "      <th>7</th>\n",
       "      <td>기분</td>\n",
       "    </tr>\n",
       "    <tr>\n",
       "      <th>8</th>\n",
       "      <td>지나</td>\n",
       "    </tr>\n",
       "    <tr>\n",
       "      <th>9</th>\n",
       "      <td>열리</td>\n",
       "    </tr>\n",
       "  </tbody>\n",
       "</table>\n",
       "</div>"
      ],
      "text/plain": [
       "  Topic # 01\n",
       "0         날씨\n",
       "1         생일\n",
       "2         시작\n",
       "3         기념\n",
       "4        카메라\n",
       "5         필름\n",
       "6         개강\n",
       "7         기분\n",
       "8         지나\n",
       "9         열리"
      ]
     },
     "execution_count": 85,
     "metadata": {},
     "output_type": "execute_result"
    }
   ],
   "source": [
    "num_topics = 1\n",
    "nmf_df = get_nmf_topics(model, 2)\n",
    "nmf_df"
   ]
  },
  {
   "cell_type": "code",
   "execution_count": 90,
   "metadata": {},
   "outputs": [
    {
     "data": {
      "text/html": [
       "<div>\n",
       "<style scoped>\n",
       "    .dataframe tbody tr th:only-of-type {\n",
       "        vertical-align: middle;\n",
       "    }\n",
       "\n",
       "    .dataframe tbody tr th {\n",
       "        vertical-align: top;\n",
       "    }\n",
       "\n",
       "    .dataframe thead th {\n",
       "        text-align: right;\n",
       "    }\n",
       "</style>\n",
       "<table border=\"1\" class=\"dataframe\">\n",
       "  <thead>\n",
       "    <tr style=\"text-align: right;\">\n",
       "      <th></th>\n",
       "      <th>Topic # 01</th>\n",
       "      <th>Topic # 02</th>\n",
       "      <th>Topic # 03</th>\n",
       "      <th>Topic # 04</th>\n",
       "      <th>Topic # 05</th>\n",
       "    </tr>\n",
       "  </thead>\n",
       "  <tbody>\n",
       "    <tr>\n",
       "      <th>0</th>\n",
       "      <td>날씨</td>\n",
       "      <td>도어</td>\n",
       "      <td>민윤기</td>\n",
       "      <td>최고</td>\n",
       "      <td>친구</td>\n",
       "    </tr>\n",
       "    <tr>\n",
       "      <th>1</th>\n",
       "      <td>생일</td>\n",
       "      <td>소통</td>\n",
       "      <td>노래</td>\n",
       "      <td>재재</td>\n",
       "      <td>생각</td>\n",
       "    </tr>\n",
       "    <tr>\n",
       "      <th>2</th>\n",
       "      <td>시작</td>\n",
       "      <td>관심</td>\n",
       "      <td>라이프</td>\n",
       "      <td>강아지</td>\n",
       "      <td>고맙</td>\n",
       "    </tr>\n",
       "    <tr>\n",
       "      <th>3</th>\n",
       "      <td>기념</td>\n",
       "      <td>관계</td>\n",
       "      <td>디자인</td>\n",
       "      <td>낌새</td>\n",
       "      <td>서비스</td>\n",
       "    </tr>\n",
       "    <tr>\n",
       "      <th>4</th>\n",
       "      <td>카메라</td>\n",
       "      <td>공유</td>\n",
       "      <td>이렇</td>\n",
       "      <td>자르</td>\n",
       "      <td>언니</td>\n",
       "    </tr>\n",
       "    <tr>\n",
       "      <th>5</th>\n",
       "      <td>필름</td>\n",
       "      <td>오늘</td>\n",
       "      <td>돌리</td>\n",
       "      <td>보내</td>\n",
       "      <td>강아지</td>\n",
       "    </tr>\n",
       "    <tr>\n",
       "      <th>6</th>\n",
       "      <td>개강</td>\n",
       "      <td>보내</td>\n",
       "      <td>재미</td>\n",
       "      <td>방법</td>\n",
       "      <td>필름</td>\n",
       "    </tr>\n",
       "    <tr>\n",
       "      <th>7</th>\n",
       "      <td>기분</td>\n",
       "      <td>그리</td>\n",
       "      <td>생기</td>\n",
       "      <td>머리</td>\n",
       "      <td>새벽</td>\n",
       "    </tr>\n",
       "    <tr>\n",
       "      <th>8</th>\n",
       "      <td>지나</td>\n",
       "      <td>공개</td>\n",
       "      <td>사람</td>\n",
       "      <td>보이</td>\n",
       "      <td>통제</td>\n",
       "    </tr>\n",
       "    <tr>\n",
       "      <th>9</th>\n",
       "      <td>열리</td>\n",
       "      <td>방학</td>\n",
       "      <td>들리</td>\n",
       "      <td>모르</td>\n",
       "      <td>머러</td>\n",
       "    </tr>\n",
       "  </tbody>\n",
       "</table>\n",
       "</div>"
      ],
      "text/plain": [
       "  Topic # 01 Topic # 02 Topic # 03 Topic # 04 Topic # 05\n",
       "0         날씨         도어        민윤기         최고         친구\n",
       "1         생일         소통         노래         재재         생각\n",
       "2         시작         관심        라이프        강아지         고맙\n",
       "3         기념         관계        디자인         낌새        서비스\n",
       "4        카메라         공유         이렇         자르         언니\n",
       "5         필름         오늘         돌리         보내        강아지\n",
       "6         개강         보내         재미         방법         필름\n",
       "7         기분         그리         생기         머리         새벽\n",
       "8         지나         공개         사람         보이         통제\n",
       "9         열리         방학         들리         모르         머러"
      ]
     },
     "execution_count": 90,
     "metadata": {},
     "output_type": "execute_result"
    }
   ],
   "source": [
    "num_topics = 5\n",
    "nmf_df = get_nmf_topics(model, 5)\n",
    "nmf_df"
   ]
  },
  {
   "cell_type": "code",
   "execution_count": 80,
   "metadata": {
    "scrolled": true
   },
   "outputs": [
    {
     "data": {
      "text/html": [
       "<div>\n",
       "<style scoped>\n",
       "    .dataframe tbody tr th:only-of-type {\n",
       "        vertical-align: middle;\n",
       "    }\n",
       "\n",
       "    .dataframe tbody tr th {\n",
       "        vertical-align: top;\n",
       "    }\n",
       "\n",
       "    .dataframe thead th {\n",
       "        text-align: right;\n",
       "    }\n",
       "</style>\n",
       "<table border=\"1\" class=\"dataframe\">\n",
       "  <thead>\n",
       "    <tr style=\"text-align: right;\">\n",
       "      <th></th>\n",
       "      <th>Topic # 01</th>\n",
       "      <th>Topic # 02</th>\n",
       "      <th>Topic # 03</th>\n",
       "      <th>Topic # 04</th>\n",
       "      <th>Topic # 05</th>\n",
       "      <th>Topic # 06</th>\n",
       "      <th>Topic # 07</th>\n",
       "      <th>Topic # 08</th>\n",
       "      <th>Topic # 09</th>\n",
       "      <th>Topic # 10</th>\n",
       "    </tr>\n",
       "  </thead>\n",
       "  <tbody>\n",
       "    <tr>\n",
       "      <th>0</th>\n",
       "      <td>날씨</td>\n",
       "      <td>도어</td>\n",
       "      <td>민윤기</td>\n",
       "      <td>최고</td>\n",
       "      <td>친구</td>\n",
       "      <td>생각</td>\n",
       "      <td>언니</td>\n",
       "      <td>노래</td>\n",
       "      <td>강아지</td>\n",
       "      <td>서비스</td>\n",
       "    </tr>\n",
       "    <tr>\n",
       "      <th>1</th>\n",
       "      <td>생일</td>\n",
       "      <td>소통</td>\n",
       "      <td>이렇</td>\n",
       "      <td>재재</td>\n",
       "      <td>필름</td>\n",
       "      <td>통제</td>\n",
       "      <td>새벽</td>\n",
       "      <td>라이프</td>\n",
       "      <td>이렇</td>\n",
       "      <td>고맙</td>\n",
       "    </tr>\n",
       "    <tr>\n",
       "      <th>2</th>\n",
       "      <td>시작</td>\n",
       "      <td>관심</td>\n",
       "      <td>돌리</td>\n",
       "      <td>보내</td>\n",
       "      <td>만들</td>\n",
       "      <td>세상</td>\n",
       "      <td>기억</td>\n",
       "      <td>디자인</td>\n",
       "      <td>재미</td>\n",
       "      <td>필름</td>\n",
       "    </tr>\n",
       "    <tr>\n",
       "      <th>3</th>\n",
       "      <td>기념</td>\n",
       "      <td>관계</td>\n",
       "      <td>기다리</td>\n",
       "      <td>자르</td>\n",
       "      <td>사용</td>\n",
       "      <td>필름</td>\n",
       "      <td>이미지</td>\n",
       "      <td>생기</td>\n",
       "      <td>재재</td>\n",
       "      <td>나오</td>\n",
       "    </tr>\n",
       "    <tr>\n",
       "      <th>4</th>\n",
       "      <td>카메라</td>\n",
       "      <td>공유</td>\n",
       "      <td>재미</td>\n",
       "      <td>낌새</td>\n",
       "      <td>공유</td>\n",
       "      <td>사진</td>\n",
       "      <td>엄청나</td>\n",
       "      <td>사람</td>\n",
       "      <td>보내</td>\n",
       "      <td>그리</td>\n",
       "    </tr>\n",
       "    <tr>\n",
       "      <th>5</th>\n",
       "      <td>필름</td>\n",
       "      <td>오늘</td>\n",
       "      <td>다가오</td>\n",
       "      <td>방법</td>\n",
       "      <td>소통</td>\n",
       "      <td>머러</td>\n",
       "      <td>붙이</td>\n",
       "      <td>돌리</td>\n",
       "      <td>낌새</td>\n",
       "      <td>흘리</td>\n",
       "    </tr>\n",
       "    <tr>\n",
       "      <th>6</th>\n",
       "      <td>개강</td>\n",
       "      <td>보내</td>\n",
       "      <td>아니</td>\n",
       "      <td>보이</td>\n",
       "      <td>사람</td>\n",
       "      <td>돌리</td>\n",
       "      <td>교수</td>\n",
       "      <td>들리</td>\n",
       "      <td>자르</td>\n",
       "      <td>머러</td>\n",
       "    </tr>\n",
       "    <tr>\n",
       "      <th>7</th>\n",
       "      <td>기분</td>\n",
       "      <td>그리</td>\n",
       "      <td>사진</td>\n",
       "      <td>머리</td>\n",
       "      <td>머러</td>\n",
       "      <td>기대</td>\n",
       "      <td>학교</td>\n",
       "      <td>이틀</td>\n",
       "      <td>허리</td>\n",
       "      <td>공유</td>\n",
       "    </tr>\n",
       "    <tr>\n",
       "      <th>8</th>\n",
       "      <td>지나</td>\n",
       "      <td>공개</td>\n",
       "      <td>느끼</td>\n",
       "      <td>모르</td>\n",
       "      <td>버전</td>\n",
       "      <td>학교</td>\n",
       "      <td>기대</td>\n",
       "      <td>존재</td>\n",
       "      <td>머리</td>\n",
       "      <td>만들</td>\n",
       "    </tr>\n",
       "    <tr>\n",
       "      <th>9</th>\n",
       "      <td>열리</td>\n",
       "      <td>방학</td>\n",
       "      <td>프로그램</td>\n",
       "      <td>따르</td>\n",
       "      <td>베타</td>\n",
       "      <td>방법</td>\n",
       "      <td>방법</td>\n",
       "      <td>그러</td>\n",
       "      <td>방법</td>\n",
       "      <td>사진</td>\n",
       "    </tr>\n",
       "  </tbody>\n",
       "</table>\n",
       "</div>"
      ],
      "text/plain": [
       "  Topic # 01 Topic # 02 Topic # 03 Topic # 04 Topic # 05 Topic # 06  \\\n",
       "0         날씨         도어        민윤기         최고         친구         생각   \n",
       "1         생일         소통         이렇         재재         필름         통제   \n",
       "2         시작         관심         돌리         보내         만들         세상   \n",
       "3         기념         관계        기다리         자르         사용         필름   \n",
       "4        카메라         공유         재미         낌새         공유         사진   \n",
       "5         필름         오늘        다가오         방법         소통         머러   \n",
       "6         개강         보내         아니         보이         사람         돌리   \n",
       "7         기분         그리         사진         머리         머러         기대   \n",
       "8         지나         공개         느끼         모르         버전         학교   \n",
       "9         열리         방학       프로그램         따르         베타         방법   \n",
       "\n",
       "  Topic # 07 Topic # 08 Topic # 09 Topic # 10  \n",
       "0         언니         노래        강아지        서비스  \n",
       "1         새벽        라이프         이렇         고맙  \n",
       "2         기억        디자인         재미         필름  \n",
       "3        이미지         생기         재재         나오  \n",
       "4        엄청나         사람         보내         그리  \n",
       "5         붙이         돌리         낌새         흘리  \n",
       "6         교수         들리         자르         머러  \n",
       "7         학교         이틀         허리         공유  \n",
       "8         기대         존재         머리         만들  \n",
       "9         방법         그러         방법         사진  "
      ]
     },
     "execution_count": 80,
     "metadata": {},
     "output_type": "execute_result"
    }
   ],
   "source": [
    "num_topics = 10\n",
    "nmf_df = get_nmf_topics(model, 5)\n",
    "nmf_df"
   ]
  },
  {
   "cell_type": "code",
   "execution_count": null,
   "metadata": {},
   "outputs": [],
   "source": []
  },
  {
   "cell_type": "code",
   "execution_count": null,
   "metadata": {},
   "outputs": [],
   "source": []
  }
 ],
 "metadata": {
  "kernelspec": {
   "display_name": "Python 3",
   "language": "python",
   "name": "python3"
  },
  "language_info": {
   "codemirror_mode": {
    "name": "ipython",
    "version": 3
   },
   "file_extension": ".py",
   "mimetype": "text/x-python",
   "name": "python",
   "nbconvert_exporter": "python",
   "pygments_lexer": "ipython3",
   "version": "3.7.7"
  }
 },
 "nbformat": 4,
 "nbformat_minor": 4
}
