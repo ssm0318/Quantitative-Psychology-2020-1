{
 "cells": [
  {
   "cell_type": "code",
   "execution_count": 5,
   "metadata": {},
   "outputs": [],
   "source": [
    "# Start with loading all necessary libraries\n",
    "import numpy as np\n",
    "import pandas as pd\n",
    "from os import path\n",
    "from PIL import Image\n",
    "import matplotlib\n",
    "import matplotlib.pyplot as plt\n",
    "import os\n",
    "import csv\n",
    "import textract\n",
    "import nltk\n",
    "\n",
    "from wordcloud import WordCloud, STOPWORDS, ImageColorGenerator\n",
    "from konlpy.tag import *\n",
    "from collections import Counter\n",
    "from nltk.corpus import stopwords\n",
    "import pyLDAvis.sklearn\n",
    "from sklearn.decomposition import LatentDirichletAllocation\n",
    "from sklearn.feature_extraction.text import CountVectorizer, TfidfVectorizer\n",
    "\n",
    "%matplotlib inline"
   ]
  },
  {
   "cell_type": "code",
   "execution_count": 6,
   "metadata": {},
   "outputs": [
    {
     "data": {
      "text/html": [
       "<div>\n",
       "<style scoped>\n",
       "    .dataframe tbody tr th:only-of-type {\n",
       "        vertical-align: middle;\n",
       "    }\n",
       "\n",
       "    .dataframe tbody tr th {\n",
       "        vertical-align: top;\n",
       "    }\n",
       "\n",
       "    .dataframe thead th {\n",
       "        text-align: right;\n",
       "    }\n",
       "</style>\n",
       "<table border=\"1\" class=\"dataframe\">\n",
       "  <thead>\n",
       "    <tr style=\"text-align: right;\">\n",
       "      <th></th>\n",
       "      <th>id</th>\n",
       "      <th>author_id</th>\n",
       "      <th>question_id</th>\n",
       "      <th>content</th>\n",
       "      <th>tag_string</th>\n",
       "      <th>created_at</th>\n",
       "      <th>updated_at</th>\n",
       "    </tr>\n",
       "  </thead>\n",
       "  <tbody>\n",
       "    <tr>\n",
       "      <th>0</th>\n",
       "      <td>1</td>\n",
       "      <td>5</td>\n",
       "      <td>236</td>\n",
       "      <td>오늘 상담쌤과 칭찬에 대한 대화를 나눴다. 내가 애들의 칭찬을 잘 못 믿는, 그리고...</td>\n",
       "      <td>NaN</td>\n",
       "      <td>2019-01-28 14:11:42.543635</td>\n",
       "      <td>2019-01-28 14:11:42.543635</td>\n",
       "    </tr>\n",
       "    <tr>\n",
       "      <th>1</th>\n",
       "      <td>2</td>\n",
       "      <td>5</td>\n",
       "      <td>103</td>\n",
       "      <td>원하는 순간에 생각의 흐름을 멈추고 하고자 하는 일에 집중할 수 있는 능력.</td>\n",
       "      <td>NaN</td>\n",
       "      <td>2019-01-28 14:12:09.623446</td>\n",
       "      <td>2019-01-28 14:12:09.623446</td>\n",
       "    </tr>\n",
       "    <tr>\n",
       "      <th>2</th>\n",
       "      <td>3</td>\n",
       "      <td>5</td>\n",
       "      <td>98</td>\n",
       "      <td>가만히 공상/유튜브. 혼자 있는 시간.</td>\n",
       "      <td>NaN</td>\n",
       "      <td>2019-01-28 14:13:16.547800</td>\n",
       "      <td>2019-01-28 14:13:16.547800</td>\n",
       "    </tr>\n",
       "    <tr>\n",
       "      <th>3</th>\n",
       "      <td>4</td>\n",
       "      <td>5</td>\n",
       "      <td>95</td>\n",
       "      <td>게으름. 그 중에서도 요즘 가장 싫은건 게으름으로 인해 더러워진 방. 너무 짜증나서...</td>\n",
       "      <td>NaN</td>\n",
       "      <td>2019-01-28 14:14:38.838070</td>\n",
       "      <td>2019-01-28 14:14:38.838070</td>\n",
       "    </tr>\n",
       "    <tr>\n",
       "      <th>4</th>\n",
       "      <td>6</td>\n",
       "      <td>4</td>\n",
       "      <td>5</td>\n",
       "      <td>진수니랑 같이 프론트 더 멋있게 만들기!!!!!\\r\\n</td>\n",
       "      <td>NaN</td>\n",
       "      <td>2019-01-28 15:55:14.088330</td>\n",
       "      <td>2019-01-28 15:55:14.088330</td>\n",
       "    </tr>\n",
       "  </tbody>\n",
       "</table>\n",
       "</div>"
      ],
      "text/plain": [
       "   id  author_id  question_id  \\\n",
       "0   1          5          236   \n",
       "1   2          5          103   \n",
       "2   3          5           98   \n",
       "3   4          5           95   \n",
       "4   6          4            5   \n",
       "\n",
       "                                             content  tag_string  \\\n",
       "0  오늘 상담쌤과 칭찬에 대한 대화를 나눴다. 내가 애들의 칭찬을 잘 못 믿는, 그리고...         NaN   \n",
       "1         원하는 순간에 생각의 흐름을 멈추고 하고자 하는 일에 집중할 수 있는 능력.         NaN   \n",
       "2                              가만히 공상/유튜브. 혼자 있는 시간.         NaN   \n",
       "3  게으름. 그 중에서도 요즘 가장 싫은건 게으름으로 인해 더러워진 방. 너무 짜증나서...         NaN   \n",
       "4                     진수니랑 같이 프론트 더 멋있게 만들기!!!!!\\r\\n         NaN   \n",
       "\n",
       "                  created_at                  updated_at  \n",
       "0 2019-01-28 14:11:42.543635  2019-01-28 14:11:42.543635  \n",
       "1 2019-01-28 14:12:09.623446  2019-01-28 14:12:09.623446  \n",
       "2 2019-01-28 14:13:16.547800  2019-01-28 14:13:16.547800  \n",
       "3 2019-01-28 14:14:38.838070  2019-01-28 14:14:38.838070  \n",
       "4 2019-01-28 15:55:14.088330  2019-01-28 15:55:14.088330  "
      ]
     },
     "execution_count": 6,
     "metadata": {},
     "output_type": "execute_result"
    }
   ],
   "source": [
    "df = pd.read_csv('answers.csv', encoding='UTF8')\n",
    "df['created_at'] = pd.to_datetime(df['created_at'])\n",
    "\n",
    "start_date = pd.Timestamp(2019, 1, 28, 0)\n",
    "end_date = pd.Timestamp(2019, 4, 1, 0)\n",
    "\n",
    "mask = (df['created_at'] > start_date) & (df['created_at'] <= end_date)\n",
    "df = df.loc[mask]\n",
    "\n",
    "df.head()"
   ]
  },
  {
   "cell_type": "code",
   "execution_count": 7,
   "metadata": {},
   "outputs": [],
   "source": [
    "twitter = Okt()\n",
    "\n",
    "text = \"\"\n",
    "morphs = []\n",
    "\n",
    "content = df.content\n",
    "\n",
    "for row in content:\n",
    "    text = row\n",
    "    if not pd.isna(text):\n",
    "        morphs.append(twitter.pos(text))"
   ]
  },
  {
   "cell_type": "code",
   "execution_count": 4,
   "metadata": {},
   "outputs": [
    {
     "ename": "NameError",
     "evalue": "name 'TfidfVectorizer' is not defined",
     "output_type": "error",
     "traceback": [
      "\u001b[0;31m---------------------------------------------------------------------------\u001b[0m",
      "\u001b[0;31mNameError\u001b[0m                                 Traceback (most recent call last)",
      "\u001b[0;32m<ipython-input-4-9ceebe3c6646>\u001b[0m in \u001b[0;36m<module>\u001b[0;34m\u001b[0m\n\u001b[0;32m----> 1\u001b[0;31m \u001b[0mtf_vect\u001b[0m \u001b[0;34m=\u001b[0m \u001b[0mTfidfVectorizer\u001b[0m\u001b[0;34m(\u001b[0m\u001b[0mtokenizer\u001b[0m\u001b[0;34m=\u001b[0m\u001b[0mgetNVM_lemma\u001b[0m\u001b[0;34m,\u001b[0m\u001b[0mngram_range\u001b[0m\u001b[0;34m=\u001b[0m\u001b[0;34m(\u001b[0m\u001b[0;36m1\u001b[0m\u001b[0;34m,\u001b[0m \u001b[0;36m2\u001b[0m\u001b[0;34m)\u001b[0m\u001b[0;34m,\u001b[0m \u001b[0mmin_df\u001b[0m\u001b[0;34m=\u001b[0m\u001b[0;36m2\u001b[0m\u001b[0;34m,\u001b[0m \u001b[0mmax_df\u001b[0m\u001b[0;34m=\u001b[0m\u001b[0;36m20000\u001b[0m\u001b[0;34m)\u001b[0m\u001b[0;34m\u001b[0m\u001b[0;34m\u001b[0m\u001b[0m\n\u001b[0m\u001b[1;32m      2\u001b[0m \u001b[0mdtm\u001b[0m \u001b[0;34m=\u001b[0m \u001b[0mtf_vect\u001b[0m\u001b[0;34m.\u001b[0m\u001b[0mfit_transform\u001b[0m\u001b[0;34m(\u001b[0m\u001b[0mdf\u001b[0m\u001b[0;34m[\u001b[0m\u001b[0;34m'content'\u001b[0m\u001b[0;34m]\u001b[0m\u001b[0;34m)\u001b[0m\u001b[0;34m\u001b[0m\u001b[0;34m\u001b[0m\u001b[0m\n\u001b[1;32m      3\u001b[0m \u001b[0;34m\u001b[0m\u001b[0m\n\u001b[1;32m      4\u001b[0m \u001b[0mn_topics\u001b[0m \u001b[0;34m=\u001b[0m \u001b[0;36m20\u001b[0m\u001b[0;34m\u001b[0m\u001b[0;34m\u001b[0m\u001b[0m\n\u001b[1;32m      5\u001b[0m \u001b[0;34m\u001b[0m\u001b[0m\n",
      "\u001b[0;31mNameError\u001b[0m: name 'TfidfVectorizer' is not defined"
     ]
    }
   ],
   "source": [
    "tf_vect = TfidfVectorizer(tokenizer=getNVM_lemma,ngram_range=(1, 2), min_df=2, max_df=20000) \n",
    "dtm = tf_vect.fit_transform(df['content']) \n",
    "\n",
    "n_topics = 20\n",
    "\n",
    "lda = LatentDirichletAllocation(n_components=n_topics) \n",
    "lda.fit(dtm)"
   ]
  },
  {
   "cell_type": "code",
   "execution_count": null,
   "metadata": {},
   "outputs": [],
   "source": [
    "names = tf_vect.get_feature_names() \n",
    "topics = dict() \n",
    "\n",
    "for idx, topic in enumerate(lda.components_): \n",
    "    vocab = [] \n",
    "    for i in topic.argsort()[:-(30-1):-1]: \n",
    "        vocab.append((names[i], topic[i].round(2))) \n",
    "    print(\"주제 %d:\" % (idx +1)) \n",
    "    print([(names[i], topic[i].round(2)) for i in topic.argsort()[:-(30-1):-1]])"
   ]
  },
  {
   "cell_type": "code",
   "execution_count": null,
   "metadata": {},
   "outputs": [],
   "source": []
  },
  {
   "cell_type": "code",
   "execution_count": null,
   "metadata": {},
   "outputs": [],
   "source": [
    "visual = pyLDAvis.sklearn.prepare(lda_model=lda, dtm=dtm, vectorizer=tf_vect) \n",
    "pyLDAvis.save_html(visual, 'LDA_Visualization.html') \n",
    "pyLDAvis.display(visual)"
   ]
  }
 ],
 "metadata": {
  "kernelspec": {
   "display_name": "venv",
   "language": "python",
   "name": "venv"
  },
  "language_info": {
   "codemirror_mode": {
    "name": "ipython",
    "version": 3
   },
   "file_extension": ".py",
   "mimetype": "text/x-python",
   "name": "python",
   "nbconvert_exporter": "python",
   "pygments_lexer": "ipython3",
   "version": "3.7.7"
  }
 },
 "nbformat": 4,
 "nbformat_minor": 2
}
