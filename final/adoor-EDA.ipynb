{
 "cells": [
  {
   "cell_type": "code",
   "execution_count": 1,
   "metadata": {},
   "outputs": [],
   "source": [
    "import numpy as np\n",
    "import pandas as pd\n",
    "\n",
    "%matplotlib inline"
   ]
  },
  {
   "cell_type": "code",
   "execution_count": null,
   "metadata": {},
   "outputs": [],
   "source": []
  },
  {
   "cell_type": "code",
   "execution_count": 2,
   "metadata": {},
   "outputs": [],
   "source": [
    "df = pd.read_csv('answers.csv', encoding='UTF8')"
   ]
  },
  {
   "cell_type": "code",
   "execution_count": 3,
   "metadata": {},
   "outputs": [
    {
     "data": {
      "text/html": [
       "<div>\n",
       "<style scoped>\n",
       "    .dataframe tbody tr th:only-of-type {\n",
       "        vertical-align: middle;\n",
       "    }\n",
       "\n",
       "    .dataframe tbody tr th {\n",
       "        vertical-align: top;\n",
       "    }\n",
       "\n",
       "    .dataframe thead th {\n",
       "        text-align: right;\n",
       "    }\n",
       "</style>\n",
       "<table border=\"1\" class=\"dataframe\">\n",
       "  <thead>\n",
       "    <tr style=\"text-align: right;\">\n",
       "      <th></th>\n",
       "      <th>id</th>\n",
       "      <th>author_id</th>\n",
       "      <th>question_id</th>\n",
       "      <th>content</th>\n",
       "      <th>tag_string</th>\n",
       "      <th>created_at</th>\n",
       "      <th>updated_at</th>\n",
       "    </tr>\n",
       "  </thead>\n",
       "  <tbody>\n",
       "    <tr>\n",
       "      <th>0</th>\n",
       "      <td>1</td>\n",
       "      <td>5</td>\n",
       "      <td>236</td>\n",
       "      <td>오늘 상담쌤과 칭찬에 대한 대화를 나눴다. 내가 애들의 칭찬을 잘 못 믿는, 그리고...</td>\n",
       "      <td>NaN</td>\n",
       "      <td>2019-01-28 14:11:42.543635</td>\n",
       "      <td>2019-01-28 14:11:42.543635</td>\n",
       "    </tr>\n",
       "    <tr>\n",
       "      <th>1</th>\n",
       "      <td>2</td>\n",
       "      <td>5</td>\n",
       "      <td>103</td>\n",
       "      <td>원하는 순간에 생각의 흐름을 멈추고 하고자 하는 일에 집중할 수 있는 능력.</td>\n",
       "      <td>NaN</td>\n",
       "      <td>2019-01-28 14:12:09.623446</td>\n",
       "      <td>2019-01-28 14:12:09.623446</td>\n",
       "    </tr>\n",
       "    <tr>\n",
       "      <th>2</th>\n",
       "      <td>3</td>\n",
       "      <td>5</td>\n",
       "      <td>98</td>\n",
       "      <td>가만히 공상/유튜브. 혼자 있는 시간.</td>\n",
       "      <td>NaN</td>\n",
       "      <td>2019-01-28 14:13:16.547800</td>\n",
       "      <td>2019-01-28 14:13:16.547800</td>\n",
       "    </tr>\n",
       "    <tr>\n",
       "      <th>3</th>\n",
       "      <td>4</td>\n",
       "      <td>5</td>\n",
       "      <td>95</td>\n",
       "      <td>게으름. 그 중에서도 요즘 가장 싫은건 게으름으로 인해 더러워진 방. 너무 짜증나서...</td>\n",
       "      <td>NaN</td>\n",
       "      <td>2019-01-28 14:14:38.838070</td>\n",
       "      <td>2019-01-28 14:14:38.838070</td>\n",
       "    </tr>\n",
       "    <tr>\n",
       "      <th>4</th>\n",
       "      <td>6</td>\n",
       "      <td>4</td>\n",
       "      <td>5</td>\n",
       "      <td>진수니랑 같이 프론트 더 멋있게 만들기!!!!!\\r\\n</td>\n",
       "      <td>NaN</td>\n",
       "      <td>2019-01-28 15:55:14.088330</td>\n",
       "      <td>2019-01-28 15:55:14.088330</td>\n",
       "    </tr>\n",
       "  </tbody>\n",
       "</table>\n",
       "</div>"
      ],
      "text/plain": [
       "   id  author_id  question_id  \\\n",
       "0   1          5          236   \n",
       "1   2          5          103   \n",
       "2   3          5           98   \n",
       "3   4          5           95   \n",
       "4   6          4            5   \n",
       "\n",
       "                                             content  tag_string  \\\n",
       "0  오늘 상담쌤과 칭찬에 대한 대화를 나눴다. 내가 애들의 칭찬을 잘 못 믿는, 그리고...         NaN   \n",
       "1         원하는 순간에 생각의 흐름을 멈추고 하고자 하는 일에 집중할 수 있는 능력.         NaN   \n",
       "2                              가만히 공상/유튜브. 혼자 있는 시간.         NaN   \n",
       "3  게으름. 그 중에서도 요즘 가장 싫은건 게으름으로 인해 더러워진 방. 너무 짜증나서...         NaN   \n",
       "4                     진수니랑 같이 프론트 더 멋있게 만들기!!!!!\\r\\n         NaN   \n",
       "\n",
       "                   created_at                  updated_at  \n",
       "0  2019-01-28 14:11:42.543635  2019-01-28 14:11:42.543635  \n",
       "1  2019-01-28 14:12:09.623446  2019-01-28 14:12:09.623446  \n",
       "2  2019-01-28 14:13:16.547800  2019-01-28 14:13:16.547800  \n",
       "3  2019-01-28 14:14:38.838070  2019-01-28 14:14:38.838070  \n",
       "4  2019-01-28 15:55:14.088330  2019-01-28 15:55:14.088330  "
      ]
     },
     "execution_count": 3,
     "metadata": {},
     "output_type": "execute_result"
    }
   ],
   "source": [
    "df.head()"
   ]
  },
  {
   "cell_type": "code",
   "execution_count": 4,
   "metadata": {},
   "outputs": [],
   "source": [
    "data = df[(df.author_id != 5)]"
   ]
  },
  {
   "cell_type": "code",
   "execution_count": null,
   "metadata": {},
   "outputs": [],
   "source": []
  }
 ],
 "metadata": {
  "kernelspec": {
   "display_name": "venv",
   "language": "python",
   "name": "venv"
  },
  "language_info": {
   "codemirror_mode": {
    "name": "ipython",
    "version": 3
   },
   "file_extension": ".py",
   "mimetype": "text/x-python",
   "name": "python",
   "nbconvert_exporter": "python",
   "pygments_lexer": "ipython3",
   "version": "3.7.7"
  }
 },
 "nbformat": 4,
 "nbformat_minor": 2
}
