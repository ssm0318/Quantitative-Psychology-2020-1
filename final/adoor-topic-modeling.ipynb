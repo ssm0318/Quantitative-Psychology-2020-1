{
 "cells": [
  {
   "cell_type": "code",
   "execution_count": 1,
   "metadata": {},
   "outputs": [
    {
     "name": "stderr",
     "output_type": "stream",
     "text": [
      "/Users/gimjaewon/opt/anaconda3/envs/venv/lib/python3.7/site-packages/botocore/vendored/requests/packages/urllib3/_collections.py:1: DeprecationWarning: Using or importing the ABCs from 'collections' instead of from 'collections.abc' is deprecated since Python 3.3,and in 3.9 it will stop working\n",
      "  from collections import Mapping, MutableMapping\n",
      "/Users/gimjaewon/opt/anaconda3/envs/venv/lib/python3.7/site-packages/botocore/vendored/requests/packages/urllib3/_collections.py:1: DeprecationWarning: Using or importing the ABCs from 'collections' instead of from 'collections.abc' is deprecated since Python 3.3,and in 3.9 it will stop working\n",
      "  from collections import Mapping, MutableMapping\n",
      "/Users/gimjaewon/opt/anaconda3/envs/venv/lib/python3.7/site-packages/scipy/sparse/sparsetools.py:21: DeprecationWarning: `scipy.sparse.sparsetools` is deprecated!\n",
      "scipy.sparse.sparsetools is a private module for scipy.sparse, and should not be used.\n",
      "  _deprecated()\n",
      "/Users/gimjaewon/opt/anaconda3/envs/venv/lib/python3.7/site-packages/gensim/models/doc2vec.py:73: DeprecationWarning: Using or importing the ABCs from 'collections' instead of from 'collections.abc' is deprecated since Python 3.3,and in 3.9 it will stop working\n",
      "  from collections import namedtuple, defaultdict, Iterable\n"
     ]
    }
   ],
   "source": [
    "import warnings\n",
    "warnings.filterwarnings('ignore')\n",
    "\n",
    "import pandas as pd\n",
    "import matplotlib\n",
    "import matplotlib.pyplot as plt\n",
    "import matplotlib.font_manager as fm\n",
    "import numpy as np; np.random.seed(42)\n",
    "import seaborn as sns\n",
    "\n",
    "import pyLDAvis\n",
    "import pyLDAvis.gensim\n",
    "from collections import OrderedDict\n",
    "from itertools import combinations\n",
    "import MeCab\n",
    "from konlpy.tag import *\n",
    "import nltk\n",
    "from nltk.corpus import stopwords\n",
    "from gensim import corpora, models\n",
    "from sklearn.feature_extraction.text import CountVectorizer, TfidfTransformer\n",
    "from sklearn.decomposition import NMF, LatentDirichletAllocation, TruncatedSVD\n",
    "from sklearn.preprocessing import normalize;\n",
    "from sklearn import decomposition;"
   ]
  },
  {
   "cell_type": "code",
   "execution_count": 2,
   "metadata": {},
   "outputs": [
    {
     "data": {
      "text/html": [
       "<div>\n",
       "<style scoped>\n",
       "    .dataframe tbody tr th:only-of-type {\n",
       "        vertical-align: middle;\n",
       "    }\n",
       "\n",
       "    .dataframe tbody tr th {\n",
       "        vertical-align: top;\n",
       "    }\n",
       "\n",
       "    .dataframe thead th {\n",
       "        text-align: right;\n",
       "    }\n",
       "</style>\n",
       "<table border=\"1\" class=\"dataframe\">\n",
       "  <thead>\n",
       "    <tr style=\"text-align: right;\">\n",
       "      <th></th>\n",
       "      <th>id</th>\n",
       "      <th>author_id</th>\n",
       "      <th>question_id</th>\n",
       "      <th>content</th>\n",
       "      <th>tag_string</th>\n",
       "      <th>created_at</th>\n",
       "      <th>updated_at</th>\n",
       "    </tr>\n",
       "  </thead>\n",
       "  <tbody>\n",
       "    <tr>\n",
       "      <th>0</th>\n",
       "      <td>1</td>\n",
       "      <td>5</td>\n",
       "      <td>236</td>\n",
       "      <td>오늘 상담쌤과 칭찬에 대한 대화를 나눴다. 내가 애들의 칭찬을 잘 못 믿는, 그리고...</td>\n",
       "      <td>NaN</td>\n",
       "      <td>2019-01-28 14:11:42.543635</td>\n",
       "      <td>2019-01-28 14:11:42.543635</td>\n",
       "    </tr>\n",
       "    <tr>\n",
       "      <th>1</th>\n",
       "      <td>2</td>\n",
       "      <td>5</td>\n",
       "      <td>103</td>\n",
       "      <td>원하는 순간에 생각의 흐름을 멈추고 하고자 하는 일에 집중할 수 있는 능력.</td>\n",
       "      <td>NaN</td>\n",
       "      <td>2019-01-28 14:12:09.623446</td>\n",
       "      <td>2019-01-28 14:12:09.623446</td>\n",
       "    </tr>\n",
       "    <tr>\n",
       "      <th>2</th>\n",
       "      <td>3</td>\n",
       "      <td>5</td>\n",
       "      <td>98</td>\n",
       "      <td>가만히 공상/유튜브. 혼자 있는 시간.</td>\n",
       "      <td>NaN</td>\n",
       "      <td>2019-01-28 14:13:16.547800</td>\n",
       "      <td>2019-01-28 14:13:16.547800</td>\n",
       "    </tr>\n",
       "    <tr>\n",
       "      <th>3</th>\n",
       "      <td>4</td>\n",
       "      <td>5</td>\n",
       "      <td>95</td>\n",
       "      <td>게으름. 그 중에서도 요즘 가장 싫은건 게으름으로 인해 더러워진 방. 너무 짜증나서...</td>\n",
       "      <td>NaN</td>\n",
       "      <td>2019-01-28 14:14:38.838070</td>\n",
       "      <td>2019-01-28 14:14:38.838070</td>\n",
       "    </tr>\n",
       "    <tr>\n",
       "      <th>4</th>\n",
       "      <td>6</td>\n",
       "      <td>4</td>\n",
       "      <td>5</td>\n",
       "      <td>진수니랑 같이 프론트 더 멋있게 만들기!!!!!\\r\\n</td>\n",
       "      <td>NaN</td>\n",
       "      <td>2019-01-28 15:55:14.088330</td>\n",
       "      <td>2019-01-28 15:55:14.088330</td>\n",
       "    </tr>\n",
       "  </tbody>\n",
       "</table>\n",
       "</div>"
      ],
      "text/plain": [
       "   id  author_id  question_id  \\\n",
       "0   1          5          236   \n",
       "1   2          5          103   \n",
       "2   3          5           98   \n",
       "3   4          5           95   \n",
       "4   6          4            5   \n",
       "\n",
       "                                             content  tag_string  \\\n",
       "0  오늘 상담쌤과 칭찬에 대한 대화를 나눴다. 내가 애들의 칭찬을 잘 못 믿는, 그리고...         NaN   \n",
       "1         원하는 순간에 생각의 흐름을 멈추고 하고자 하는 일에 집중할 수 있는 능력.         NaN   \n",
       "2                              가만히 공상/유튜브. 혼자 있는 시간.         NaN   \n",
       "3  게으름. 그 중에서도 요즘 가장 싫은건 게으름으로 인해 더러워진 방. 너무 짜증나서...         NaN   \n",
       "4                     진수니랑 같이 프론트 더 멋있게 만들기!!!!!\\r\\n         NaN   \n",
       "\n",
       "                  created_at                  updated_at  \n",
       "0 2019-01-28 14:11:42.543635  2019-01-28 14:11:42.543635  \n",
       "1 2019-01-28 14:12:09.623446  2019-01-28 14:12:09.623446  \n",
       "2 2019-01-28 14:13:16.547800  2019-01-28 14:13:16.547800  \n",
       "3 2019-01-28 14:14:38.838070  2019-01-28 14:14:38.838070  \n",
       "4 2019-01-28 15:55:14.088330  2019-01-28 15:55:14.088330  "
      ]
     },
     "execution_count": 2,
     "metadata": {},
     "output_type": "execute_result"
    }
   ],
   "source": [
    "# 데이터 읽어오기 - 특정 기간에 한해서\n",
    "\n",
    "df = pd.read_csv('adoor_data/answers.csv', encoding='UTF8')\n",
    "df['created_at'] = pd.to_datetime(df['created_at'])\n",
    "\n",
    "start_date = pd.Timestamp(2019, 1, 28, 0)\n",
    "end_date = pd.Timestamp(2019, 4, 1, 0)\n",
    "\n",
    "mask = (df['created_at'] > start_date) & (df['created_at'] <= end_date)\n",
    "df = df.loc[mask]\n",
    "\n",
    "df.head()"
   ]
  },
  {
   "cell_type": "code",
   "execution_count": 3,
   "metadata": {},
   "outputs": [],
   "source": [
    "# 형태소 분석\n",
    "\n",
    "twitter = Okt()\n",
    "pos = lambda d: ['/'.join(p) for p in twitter.pos(d, stem=True, norm=True)]\n",
    "\n",
    "texts_ko = []\n",
    "content = df.content\n",
    "docs_ko = \"\"\n",
    "\n",
    "for row in content:\n",
    "    text = row\n",
    "    if not pd.isna(text):\n",
    "        docs_ko = docs_ko + text\n",
    "        for morph in pos(text):\n",
    "            if (morph.split('/')[1]) in ['Noun'] and len(morph.split('/')[0]) > 1:\n",
    "                m = []\n",
    "                m.append(morph)\n",
    "                texts_ko.append(m)"
   ]
  },
  {
   "cell_type": "code",
   "execution_count": 4,
   "metadata": {},
   "outputs": [],
   "source": [
    "dictionary_ko = corpora.Dictionary(texts_ko)\n",
    "dictionary_ko.save('ko.dict')"
   ]
  },
  {
   "cell_type": "code",
   "execution_count": 5,
   "metadata": {},
   "outputs": [],
   "source": [
    "# tfidf 변환\n",
    "\n",
    "tf_ko = [dictionary_ko.doc2bow(text) for text in texts_ko]\n",
    "tfidf_model_ko = models.TfidfModel(tf_ko)\n",
    "tfidf_ko = tfidf_model_ko[tf_ko]\n",
    "corpora.MmCorpus.serialize('ko.mm', tfidf_ko)"
   ]
  },
  {
   "cell_type": "code",
   "execution_count": 33,
   "metadata": {},
   "outputs": [
    {
     "data": {
      "text/plain": [
       "[(0,\n",
       "  '0.127*\"생각/Noun\" + 0.028*\"때문/Noun\" + 0.027*\"오늘/Noun\" + 0.025*\"하나/Noun\" + 0.025*\"인생/Noun\" + 0.018*\"자신/Noun\" + 0.016*\"정도/Noun\"'),\n",
       " (1,\n",
       "  '0.020*\"친구/Noun\" + 0.019*\"가장/Noun\" + 0.018*\"손흥민/Noun\" + 0.015*\"사랑/Noun\" + 0.013*\"기분/Noun\" + 0.012*\"시간/Noun\" + 0.010*\"조금/Noun\"'),\n",
       " (2,\n",
       "  '0.142*\"사람/Noun\" + 0.037*\"마음/Noun\" + 0.017*\"다른/Noun\" + 0.017*\"질문/Noun\" + 0.014*\"보고/Noun\" + 0.014*\"상처/Noun\" + 0.012*\"이야기/Noun\"'),\n",
       " (3,\n",
       "  '0.031*\"진짜/Noun\" + 0.020*\"그냥/Noun\" + 0.018*\"사실/Noun\" + 0.014*\"욕망/Noun\" + 0.012*\"의지/Noun\" + 0.010*\"노래/Noun\" + 0.010*\"수도/Noun\"'),\n",
       " (4,\n",
       "  '0.031*\"기억/Noun\" + 0.029*\"정말/Noun\" + 0.025*\"지금/Noun\" + 0.018*\"요즘/Noun\" + 0.017*\"항상/Noun\" + 0.015*\"감정/Noun\" + 0.014*\"첫사랑/Noun\"')]"
      ]
     },
     "execution_count": 33,
     "metadata": {},
     "output_type": "execute_result"
    }
   ],
   "source": [
    "# LDA 모델 - tfidf 변환을 하지 않은 경우\n",
    "\n",
    "ntopics, nwords = 5, 7\n",
    "\n",
    "lda_ko = models.ldamodel.LdaModel(tf_ko, id2word=dictionary_ko, num_topics=ntopics)\n",
    "lda_ko.print_topics(num_words=nwords)"
   ]
  },
  {
   "cell_type": "code",
   "execution_count": 7,
   "metadata": {},
   "outputs": [
    {
     "data": {
      "text/plain": [
       "[(0,\n",
       "  '0.065*\"사람/Noun\" + 0.017*\"진짜/Noun\" + 0.017*\"기억/Noun\" + 0.016*\"정말/Noun\" + 0.014*\"지금/Noun\" + 0.013*\"때문/Noun\" + 0.012*\"손흥민/Noun\" + 0.010*\"요즘/Noun\" + 0.008*\"자신/Noun\" + 0.008*\"정도/Noun\"'),\n",
       " (1,\n",
       "  '0.021*\"마음/Noun\" + 0.015*\"가장/Noun\" + 0.011*\"항상/Noun\" + 0.010*\"감정/Noun\" + 0.010*\"욕망/Noun\" + 0.008*\"의지/Noun\" + 0.008*\"얘기/Noun\" + 0.007*\"세상/Noun\" + 0.007*\"어제/Noun\" + 0.007*\"의미/Noun\"'),\n",
       " (2,\n",
       "  '0.067*\"생각/Noun\" + 0.015*\"오늘/Noun\" + 0.014*\"친구/Noun\" + 0.013*\"하나/Noun\" + 0.013*\"인생/Noun\" + 0.012*\"그냥/Noun\" + 0.011*\"사실/Noun\" + 0.010*\"사랑/Noun\" + 0.009*\"기분/Noun\" + 0.009*\"다른/Noun\"')]"
      ]
     },
     "execution_count": 7,
     "metadata": {},
     "output_type": "execute_result"
    }
   ],
   "source": [
    "# LDA 모델 - tfidf 변환을 적용한 경우\n",
    "\n",
    "lda_ko = models.ldamodel.LdaModel(tfidf_ko, id2word=dictionary_ko, num_topics=ntopics)\n",
    "lda_ko.print_topics()"
   ]
  },
  {
   "cell_type": "code",
   "execution_count": 8,
   "metadata": {},
   "outputs": [
    {
     "data": {
      "text/plain": [
       "(0,\n",
       " [('사람/Noun', 0.064835265),\n",
       "  ('진짜/Noun', 0.01744445),\n",
       "  ('기억/Noun', 0.016596146),\n",
       "  ('정말/Noun', 0.016434476),\n",
       "  ('지금/Noun', 0.013660572),\n",
       "  ('때문/Noun', 0.013271252),\n",
       "  ('손흥민/Noun', 0.011655125),\n",
       "  ('요즘/Noun', 0.010084574),\n",
       "  ('자신/Noun', 0.008331152),\n",
       "  ('정도/Noun', 0.007950612)])"
      ]
     },
     "execution_count": 8,
     "metadata": {},
     "output_type": "execute_result"
    }
   ],
   "source": [
    "ldatopics = lda_ko.show_topics(formatted=False)\n",
    "ldatopics[0]"
   ]
  },
  {
   "cell_type": "code",
   "execution_count": 9,
   "metadata": {},
   "outputs": [
    {
     "data": {
      "text/plain": [
       "[(0,\n",
       "  '-1.000*\"사람/Noun\" + -0.000*\"대화/Noun\" + -0.000*\"느낌/Noun\" + -0.000*\"누구/Noun\" + 0.000*\"점점/Noun\" + 0.000*\"알바/Noun\" + -0.000*\"최고/Noun\" + 0.000*\"먼저/Noun\" + -0.000*\"상담/Noun\" + -0.000*\"음악/Noun\"'),\n",
       " (1,\n",
       "  '-1.000*\"생각/Noun\" + 0.000*\"누구/Noun\" + 0.000*\"보기/Noun\" + -0.000*\"상담/Noun\" + -0.000*\"노력/Noun\" + -0.000*\"편이/Noun\" + -0.000*\"최고/Noun\" + -0.000*\"아마/Noun\" + -0.000*\"학교/Noun\" + 0.000*\"최근/Noun\"'),\n",
       " (2,\n",
       "  '1.000*\"정말/Noun\" + 0.005*\"엄마/Noun\" + 0.005*\"자기/Noun\" + -0.004*\"표현/Noun\" + 0.004*\"아주/Noun\" + -0.004*\"관계/Noun\" + -0.004*\"동안/Noun\" + -0.004*\"정리/Noun\" + -0.004*\"연락/Noun\" + 0.004*\"상담/Noun\"')]"
      ]
     },
     "execution_count": 9,
     "metadata": {},
     "output_type": "execute_result"
    }
   ],
   "source": [
    "# LSI (Latent Semantic Indexing) 모델\n",
    "\n",
    "lsi_ko = models.lsimodel.LsiModel(tfidf_ko, id2word=dictionary_ko, num_topics=ntopics)\n",
    "lsi_ko.print_topics()"
   ]
  },
  {
   "cell_type": "code",
   "execution_count": 10,
   "metadata": {},
   "outputs": [
    {
     "name": "stderr",
     "output_type": "stream",
     "text": [
      "/Users/gimjaewon/opt/anaconda3/envs/venv/lib/python3.7/site-packages/gensim/models/hdpmodel.py:467: DeprecationWarning: time.clock has been deprecated in Python 3.3 and will be removed from Python 3.8: use time.perf_counter or time.process_time instead\n",
      "  start_time = time.clock()\n"
     ]
    },
    {
     "data": {
      "text/plain": [
       "[(0,\n",
       "  '0.003*바디/Noun + 0.003*연주/Noun + 0.003*신고/Noun + 0.003*등등/Noun + 0.002*질문/Noun'),\n",
       " (1,\n",
       "  '0.003*아마/Noun + 0.003*어쩜/Noun + 0.002*하하/Noun + 0.002*라벨/Noun + 0.002*자주/Noun'),\n",
       " (2,\n",
       "  '0.003*해지/Noun + 0.003*도태/Noun + 0.003*햇살/Noun + 0.003*먼저/Noun + 0.003*안좋듀/Noun')]"
      ]
     },
     "execution_count": 10,
     "metadata": {},
     "output_type": "execute_result"
    }
   ],
   "source": [
    "# HDP (Hierarchical Dirichlet Process) 모델 - n_topics printed ONLY\n",
    "\n",
    "hdp_ko = models.hdpmodel.HdpModel(tfidf_ko, id2word=dictionary_ko)\n",
    "hdp_ko.print_topics(ntopics, nwords)"
   ]
  },
  {
   "cell_type": "code",
   "execution_count": 11,
   "metadata": {},
   "outputs": [
    {
     "data": {
      "text/plain": [
       "[(2, 0.6663449), (0, 0.16683903), (1, 0.16681607)]"
      ]
     },
     "execution_count": 11,
     "metadata": {},
     "output_type": "execute_result"
    }
   ],
   "source": [
    "# Bag of Words\n",
    "\n",
    "bow = tfidf_model_ko[dictionary_ko.doc2bow(texts_ko[0])]\n",
    "sorted(lda_ko[bow], key=lambda x: x[1], reverse=True)"
   ]
  },
  {
   "cell_type": "code",
   "execution_count": 12,
   "metadata": {},
   "outputs": [
    {
     "data": {
      "text/plain": [
       "[(95, 0.5033288556332016)]"
      ]
     },
     "execution_count": 12,
     "metadata": {},
     "output_type": "execute_result"
    }
   ],
   "source": [
    "sorted(hdp_ko[bow], key=lambda x: x[1], reverse=True)"
   ]
  },
  {
   "cell_type": "code",
   "execution_count": 13,
   "metadata": {},
   "outputs": [
    {
     "data": {
      "text/plain": [
       "[(0, 0.6664888), (1, 0.16675824), (2, 0.1667529)]"
      ]
     },
     "execution_count": 13,
     "metadata": {},
     "output_type": "execute_result"
    }
   ],
   "source": [
    "bow = tfidf_model_ko[dictionary_ko.doc2bow(texts_ko[1])]\n",
    "sorted(lda_ko[bow], key=lambda x: x[1], reverse=True)"
   ]
  },
  {
   "cell_type": "code",
   "execution_count": 14,
   "metadata": {},
   "outputs": [
    {
     "data": {
      "text/plain": [
       "[(142, 0.5032619482630247)]"
      ]
     },
     "execution_count": 14,
     "metadata": {},
     "output_type": "execute_result"
    }
   ],
   "source": [
    "sorted(hdp_ko[bow], key=lambda x: x[1], reverse=True)"
   ]
  },
  {
   "cell_type": "code",
   "execution_count": null,
   "metadata": {},
   "outputs": [],
   "source": []
  },
  {
   "cell_type": "code",
   "execution_count": 15,
   "metadata": {},
   "outputs": [],
   "source": [
    "# # Coherence 수준 측정 - LDA 모델\n",
    "\n",
    "# def compute_coherence_values(dictionary, corpus, texts, limit, start=2, step=3):\n",
    "#     coherence_values = []\n",
    "#     model_list = []\n",
    "#     for num_topics in range(start, limit, step):\n",
    "#         model = models.LdaModel(corpus=tf_ko, num_topics=num_topics, id2word=dictionary_ko)\n",
    "#         model_list.append(model)\n",
    "#         coherencemodel = models.CoherenceModel(model=model, texts=texts_ko, dictionary=dictionary_ko, coherence='c_v')\n",
    "#         coherence_values.append(coherencemodel.get_coherence())\n",
    "\n",
    "#     return model_list, coherence_values"
   ]
  },
  {
   "cell_type": "code",
   "execution_count": 16,
   "metadata": {},
   "outputs": [],
   "source": [
    "# coherence_model_lda = models.CoherenceModel(model=lda_ko, texts=texts_ko, dictionary=dictionary_ko, coherence='c_v')\n",
    "# coherence_lda = coherence_model_lda.get_coherence()\n",
    "# print('\\nCoherence Score: ', coherence_lda)"
   ]
  },
  {
   "cell_type": "code",
   "execution_count": 17,
   "metadata": {},
   "outputs": [],
   "source": [
    "# model_list, coherence_values = compute_coherence_values(\n",
    "#     dictionary=dictionary_ko, \n",
    "#     corpus=tf_ko, \n",
    "#     texts=texts_ko, \n",
    "#     start=1, \n",
    "#     limit=5, \n",
    "#     step=1)"
   ]
  },
  {
   "cell_type": "code",
   "execution_count": 18,
   "metadata": {},
   "outputs": [],
   "source": [
    "# limit=5; start=1; step=1;\n",
    "# x = range(start, limit, step)\n",
    "# plt.rcParams[\"font.size\"] = 20\n",
    "# plt.figure(figsize=(9,5))\n",
    "# plt.plot(x, coherence_values)\n",
    "# plt.xlabel(\"Num Topics\")\n",
    "# plt.ylabel(\"Coherence score\")\n",
    "# plt.legend((\"coherence_values\"), loc='best')\n",
    "# plt.show()"
   ]
  },
  {
   "cell_type": "code",
   "execution_count": 19,
   "metadata": {},
   "outputs": [],
   "source": [
    "# for m, cv in zip(x, coherence_values):\n",
    "#     print(\"Num Topics =\", m, \" has Coherence Value of\", round(cv, 4))"
   ]
  },
  {
   "cell_type": "code",
   "execution_count": 20,
   "metadata": {},
   "outputs": [],
   "source": [
    "# optimal_model = model_list[1]\n",
    "# model_topics = optimal_model.show_topics(formatted=False)\n",
    "# optimal_model.print_topics(num_words=10)"
   ]
  },
  {
   "cell_type": "code",
   "execution_count": 21,
   "metadata": {},
   "outputs": [],
   "source": [
    "# # Topics Sentence Formation\n",
    "\n",
    "# def format_topics_sentences(ldamodel=lda_ko, corpus=tf_ko, texts=df['content'].values.astype('U')):\n",
    "   \n",
    "#     sent_topics_df = pd.DataFrame()\n",
    "\n",
    "   \n",
    "#     for i, row in enumerate(ldamodel[corpus]):\n",
    "#         row = sorted(row, key=lambda x: (x[1]), reverse=True)\n",
    "#         # Get the Dominant topic, Perc Contribution and Keywords for each document\n",
    "#         for j, (topic_num, prop_topic) in enumerate(row):\n",
    "#             if j == 0:  # -- dominant topic\n",
    "#                 wp = ldamodel.show_topic(topic_num)\n",
    "#                 topic_keywords = \", \".join([word for word, prop in wp])\n",
    "#                 sent_topics_df = sent_topics_df.append(pd.Series([int(topic_num), round(prop_topic,4), topic_keywords]), ignore_index=True)\n",
    "#             else:\n",
    "#                 break\n",
    "#     sent_topics_df.columns = ['Dominant_Topic', 'Perc_Contribution', 'Topic_Keywords']\n",
    "\n",
    "#     # Add original text to the end of the output\n",
    "    \n",
    "#     contents = pd.Series(texts)\n",
    "#     sent_topics_df = pd.concat([sent_topics_df, contents], axis=1)\n",
    "#     return(sent_topics_df)\n",
    "    \n",
    "\n",
    "# df_topic_sents_keywords = format_topics_sentences(ldamodel=optimal_model, corpus=tf_ko, texts=df['content'].values.astype('U'))\n",
    "\n",
    "\n",
    "# df_dominant_topic = df_topic_sents_keywords.reset_index()\n",
    "# df_dominant_topic.columns = ['Document_No', 'Dominant_Topic', 'Topic_Perc_Contrib', 'Keywords', 'Text']\n",
    "\n",
    "\n",
    "# df_dominant_topic.head(5)"
   ]
  },
  {
   "cell_type": "code",
   "execution_count": null,
   "metadata": {},
   "outputs": [],
   "source": []
  },
  {
   "cell_type": "code",
   "execution_count": 22,
   "metadata": {},
   "outputs": [],
   "source": [
    "path='/Library/Fonts/NanumGothic.ttf'\n",
    "font_name = fm.FontProperties(fname=path, size=50).get_name()\n",
    "matplotlib.rc('font', family=font_name)\n",
    "matplotlib.rc('axes', unicode_minus=False)\n",
    "plt.rc('font', family=font_name)\n",
    "plt.rc('axes', unicode_minus=False)"
   ]
  },
  {
   "cell_type": "code",
   "execution_count": 23,
   "metadata": {},
   "outputs": [
    {
     "name": "stdout",
     "output_type": "stream",
     "text": [
      "(3, 15)\n"
     ]
    },
    {
     "data": {
      "text/html": [
       "<div>\n",
       "<style scoped>\n",
       "    .dataframe tbody tr th:only-of-type {\n",
       "        vertical-align: middle;\n",
       "    }\n",
       "\n",
       "    .dataframe tbody tr th {\n",
       "        vertical-align: top;\n",
       "    }\n",
       "\n",
       "    .dataframe thead th {\n",
       "        text-align: right;\n",
       "    }\n",
       "</style>\n",
       "<table border=\"1\" class=\"dataframe\">\n",
       "  <thead>\n",
       "    <tr style=\"text-align: right;\">\n",
       "      <th></th>\n",
       "      <th>사람/Noun</th>\n",
       "      <th>진짜/Noun</th>\n",
       "      <th>기억/Noun</th>\n",
       "      <th>정말/Noun</th>\n",
       "      <th>지금/Noun</th>\n",
       "      <th>마음/Noun</th>\n",
       "      <th>가장/Noun</th>\n",
       "      <th>항상/Noun</th>\n",
       "      <th>감정/Noun</th>\n",
       "      <th>욕망/Noun</th>\n",
       "      <th>생각/Noun</th>\n",
       "      <th>오늘/Noun</th>\n",
       "      <th>친구/Noun</th>\n",
       "      <th>하나/Noun</th>\n",
       "      <th>인생/Noun</th>\n",
       "    </tr>\n",
       "  </thead>\n",
       "  <tbody>\n",
       "    <tr>\n",
       "      <th>0</th>\n",
       "      <td>0.064835</td>\n",
       "      <td>0.017444</td>\n",
       "      <td>0.016596</td>\n",
       "      <td>0.016434</td>\n",
       "      <td>0.013661</td>\n",
       "      <td>0.000000</td>\n",
       "      <td>0.000000</td>\n",
       "      <td>0.000000</td>\n",
       "      <td>0.000000</td>\n",
       "      <td>0.000000</td>\n",
       "      <td>0.00000</td>\n",
       "      <td>0.00000</td>\n",
       "      <td>0.000000</td>\n",
       "      <td>0.000000</td>\n",
       "      <td>0.000000</td>\n",
       "    </tr>\n",
       "    <tr>\n",
       "      <th>1</th>\n",
       "      <td>0.000000</td>\n",
       "      <td>0.000000</td>\n",
       "      <td>0.000000</td>\n",
       "      <td>0.000000</td>\n",
       "      <td>0.000000</td>\n",
       "      <td>0.020976</td>\n",
       "      <td>0.014716</td>\n",
       "      <td>0.011139</td>\n",
       "      <td>0.009737</td>\n",
       "      <td>0.009524</td>\n",
       "      <td>0.00000</td>\n",
       "      <td>0.00000</td>\n",
       "      <td>0.000000</td>\n",
       "      <td>0.000000</td>\n",
       "      <td>0.000000</td>\n",
       "    </tr>\n",
       "    <tr>\n",
       "      <th>2</th>\n",
       "      <td>0.000000</td>\n",
       "      <td>0.000000</td>\n",
       "      <td>0.000000</td>\n",
       "      <td>0.000000</td>\n",
       "      <td>0.000000</td>\n",
       "      <td>0.000000</td>\n",
       "      <td>0.000000</td>\n",
       "      <td>0.000000</td>\n",
       "      <td>0.000000</td>\n",
       "      <td>0.000000</td>\n",
       "      <td>0.06678</td>\n",
       "      <td>0.01471</td>\n",
       "      <td>0.013945</td>\n",
       "      <td>0.013298</td>\n",
       "      <td>0.013125</td>\n",
       "    </tr>\n",
       "  </tbody>\n",
       "</table>\n",
       "</div>"
      ],
      "text/plain": [
       "    사람/Noun   진짜/Noun   기억/Noun   정말/Noun   지금/Noun   마음/Noun   가장/Noun  \\\n",
       "0  0.064835  0.017444  0.016596  0.016434  0.013661  0.000000  0.000000   \n",
       "1  0.000000  0.000000  0.000000  0.000000  0.000000  0.020976  0.014716   \n",
       "2  0.000000  0.000000  0.000000  0.000000  0.000000  0.000000  0.000000   \n",
       "\n",
       "    항상/Noun   감정/Noun   욕망/Noun  생각/Noun  오늘/Noun   친구/Noun   하나/Noun  \\\n",
       "0  0.000000  0.000000  0.000000  0.00000  0.00000  0.000000  0.000000   \n",
       "1  0.011139  0.009737  0.009524  0.00000  0.00000  0.000000  0.000000   \n",
       "2  0.000000  0.000000  0.000000  0.06678  0.01471  0.013945  0.013298   \n",
       "\n",
       "    인생/Noun  \n",
       "0  0.000000  \n",
       "1  0.000000  \n",
       "2  0.013125  "
      ]
     },
     "execution_count": 23,
     "metadata": {},
     "output_type": "execute_result"
    }
   ],
   "source": [
    "# LDA Model w/ 3 Topics\n",
    "\n",
    "data_lda = {i: OrderedDict(lda_ko.show_topic(i, 5)) for i in range(ntopics)}\n",
    "df_lda = pd.DataFrame(data_lda)\n",
    "df_lda = df_lda.fillna(0).T\n",
    "print(df_lda.shape)\n",
    "df_lda"
   ]
  },
  {
   "cell_type": "code",
   "execution_count": 24,
   "metadata": {},
   "outputs": [
    {
     "data": {
      "text/html": [
       "\n",
       "<link rel=\"stylesheet\" type=\"text/css\" href=\"https://cdn.rawgit.com/bmabey/pyLDAvis/files/ldavis.v1.0.0.css\">\n",
       "\n",
       "\n",
       "<div id=\"ldavis_el135641405508013259047626818048\"></div>\n",
       "<script type=\"text/javascript\">\n",
       "\n",
       "var ldavis_el135641405508013259047626818048_data = {\"mdsDat\": {\"x\": [-1015.7005615234375, -387.9960021972656, -2184.74560546875], \"y\": [1338.981201171875, -373.316162109375, -60.565799713134766], \"topics\": [1, 2, 3], \"cluster\": [1, 1, 1], \"Freq\": [49.26204299926758, 33.98811340332031, 16.74984359741211]}, \"tinfo\": {\"Term\": [\"\\uc0ac\\ub78c/Noun\", \"\\uc0dd\\uac01/Noun\", \"\\ub9c8\\uc74c/Noun\", \"\\uc9c4\\uc9dc/Noun\", \"\\uae30\\uc5b5/Noun\", \"\\uc815\\ub9d0/Noun\", \"\\ub54c\\ubb38/Noun\", \"\\uc9c0\\uae08/Noun\", \"\\uac00\\uc7a5/Noun\", \"\\uc624\\ub298/Noun\", \"\\uc778\\uc0dd/Noun\", \"\\ud558\\ub098/Noun\", \"\\uce5c\\uad6c/Noun\", \"\\uadf8\\ub0e5/Noun\", \"\\uc0ac\\uc2e4/Noun\", \"\\uc694\\uc998/Noun\", \"\\ud56d\\uc0c1/Noun\", \"\\uc0ac\\ub791/Noun\", \"\\uac10\\uc815/Noun\", \"\\uc695\\ub9dd/Noun\", \"\\ub2e4\\ub978/Noun\", \"\\uc790\\uc2e0/Noun\", \"\\uc815\\ub3c4/Noun\", \"\\uc9c8\\ubb38/Noun\", \"\\uae30\\ubd84/Noun\", \"\\uc598\\uae30/Noun\", \"\\uc758\\uc9c0/Noun\", \"\\uc2dc\\uac04/Noun\", \"\\uc190\\ud765\\ubbfc/Noun\", \"\\ubcf4\\uace0/Noun\", \"\\uadf8\\ub0e5/Noun\", \"\\uc0dd\\uac01/Noun\", \"\\uc778\\uc0dd/Noun\", \"\\uc0ac\\uc2e4/Noun\", \"\\ub2e4\\ub978/Noun\", \"\\ud558\\ub098/Noun\", \"\\uc624\\ub298/Noun\", \"\\uc0ac\\ub791/Noun\", \"\\ub178\\ub798/Noun\", \"\\ud45c\\ud604/Noun\", \"\\ubcf4\\uace0/Noun\", \"\\uc544\\uc8fc/Noun\", \"\\ub204\\uad6c/Noun\", \"\\uce5c\\uad6c/Noun\", \"\\uc2dc\\uac04/Noun\", \"\\uc774\\uc57c\\uae30/Noun\", \"\\ud589\\ubcf5/Noun\", \"\\ubb54\\uac00/Noun\", \"\\ub3c4\\uc6c0/Noun\", \"\\ucd5c\\uace0/Noun\", \"\\ubd80\\ud130/Noun\", \"\\uae30\\ubd84/Noun\", \"\\uacbd\\uc6b0/Noun\", \"\\uc544\\ube60/Noun\", \"\\ub2e4\\ud589/Noun\", \"\\uc774\\uc720/Noun\", \"\\ub5a1\\ubcf6\\uc774/Noun\", \"\\uccab\\uc0ac\\ub791/Noun\", \"\\ub85c\\ubd80\\ud130/Noun\", \"\\uae30\\ub300/Noun\", \"\\ud1b5\\ud654/Noun\", \"\\uc5c4\\ub9c8/Noun\", \"\\uac10\\uc131/Noun\", \"\\uc544\\uce68/Noun\", \"\\uc54c\\ubc14/Noun\", \"\\uc9c4\\uc9dc/Noun\", \"\\ub54c\\ubb38/Noun\", \"\\uae30\\uc5b5/Noun\", \"\\uc694\\uc998/Noun\", \"\\uc0ac\\ub78c/Noun\", \"\\uc815\\ub3c4/Noun\", \"\\uc815\\ub9d0/Noun\", \"\\uc9c0\\uae08/Noun\", \"\\uc9c8\\ubb38/Noun\", \"\\uc0c1\\ub2f4/Noun\", \"\\uc6b0\\ub9ac/Noun\", \"\\uc870\\uae08/Noun\", \"\\ubaa8\\uc2b5/Noun\", \"\\uc218\\uc5c5/Noun\", \"\\ud559\\uad50/Noun\", \"\\ucd5c\\uadfc/Noun\", \"\\uc790\\uc2e0/Noun\", \"\\uc0c1\\ucc98/Noun\", \"\\ub290\\ub08c/Noun\", \"\\ub300\\ud55c/Noun\", \"\\ub2e4\\uc2dc/Noun\", \"\\ud574\\ub3c4/Noun\", \"\\uc218\\ub3c4/Noun\", \"\\uacc4\\uc18d/Noun\", \"\\uc81c\\uc77c/Noun\", \"\\ubaa9\\ud45c/Noun\", \"\\uc608\\uc804/Noun\", \"\\ub2f9\\uc2dc/Noun\", \"\\uc21c\\uac04/Noun\", \"\\uaca8\\uc6b8/Noun\", \"\\ub204\\uad70\\uac00/Noun\", \"\\uc774\\uc81c/Noun\", \"\\uc790\\uae30/Noun\", \"\\uc190\\ud765\\ubbfc/Noun\", \"\\ub9c8\\uc74c/Noun\", \"\\uac00\\uc7a5/Noun\", \"\\ud56d\\uc0c1/Noun\", \"\\uc598\\uae30/Noun\", \"\\uc695\\ub9dd/Noun\", \"\\uc5b4\\uc81c/Noun\", \"\\ud604\\uc2e4/Noun\", \"\\uac10\\uc815/Noun\", \"\\uacf5\\ubd80/Noun\", \"\\uadf8\\ub54c/Noun\", \"\\ucc98\\uc74c/Noun\", \"\\uc138\\uc0c1/Noun\", \"\\uc5ec\\ub984/Noun\", \"\\uc5bc\\ub9c8\\ub098/Noun\", \"\\uc601\\ud654/Noun\", \"\\uc758\\uc9c0/Noun\", \"\\ubaa8\\ub4e0/Noun\", \"\\ubcc4\\ub85c/Noun\", \"\\uc0ac\\uc9c4/Noun\", \"\\uc804\\ud654/Noun\", \"\\ud558\\ub8e8/Noun\", \"\\uc5ec\\ud589/Noun\", \"\\uace0\\ubbfc/Noun\", \"\\uc9d1\\uc911/Noun\", \"\\ucd5c\\uc545/Noun\", \"\\uc2dc\\uc791/Noun\", \"\\uc560\\ucd08/Noun\", \"\\uc0c1\\ud669/Noun\", \"\\uc8fc\\ubcc0/Noun\", \"\\uc0ac\\uace0/Noun\", \"\\uc758\\ubbf8/Noun\", \"\\uae30\\ub3c4/Noun\", \"\\ud63c\\uc790/Noun\", \"\\ub2e8\\uc5b4/Noun\"], \"Freq\": [163.0, 240.0, 26.0, 43.0, 41.0, 41.0, 33.0, 34.0, 18.0, 53.0, 47.0, 48.0, 50.0, 43.0, 40.0, 25.0, 14.0, 37.0, 12.0, 12.0, 32.0, 21.0, 20.0, 19.0, 34.0, 10.0, 10.0, 30.0, 36.0, 27.0, 43.47594451904297, 237.713623046875, 46.72087860107422, 40.02126693725586, 32.118656158447266, 47.33804702758789, 52.36276626586914, 37.249900817871094, 23.380409240722656, 23.355985641479492, 27.089967727661133, 20.917617797851562, 22.250581741333008, 49.63896179199219, 30.01904296875, 22.549602508544922, 19.36677360534668, 14.283464431762695, 14.484163284301758, 12.994019508361816, 13.763921737670898, 33.7091178894043, 21.62641143798828, 11.467093467712402, 17.327823638916016, 14.626405715942383, 10.925861358642578, 29.637571334838867, 10.91657829284668, 11.015318870544434, 13.323878288269043, 12.249709129333496, 18.93645477294922, 13.974360466003418, 15.986656188964844, 42.84328079223633, 32.59397506713867, 40.759857177734375, 24.767545700073242, 159.2343292236328, 19.52657127380371, 40.36280059814453, 33.55013656616211, 19.03603744506836, 14.90129280090332, 15.616354942321777, 16.117834091186523, 14.955587387084961, 15.024128913879395, 12.919182777404785, 14.933631896972656, 20.461170196533203, 15.731925010681152, 12.500626564025879, 16.287235260009766, 12.475208282470703, 11.925154685974121, 13.917438507080078, 12.978960990905762, 13.540779113769531, 9.971758842468262, 12.41734790802002, 9.617521286010742, 12.16634750366211, 12.805343627929688, 11.397557258605957, 17.495838165283203, 11.584572792053223, 28.624794006347656, 25.3880558013916, 17.81195068359375, 13.481891632080078, 9.532858848571777, 11.526819229125977, 8.374785423278809, 7.564955234527588, 11.785442352294922, 6.506558895111084, 7.462419033050537, 7.993072509765625, 8.509021759033203, 7.351436614990234, 5.151765823364258, 5.6888251304626465, 9.608060836791992, 5.6880927085876465, 6.640665054321289, 4.684451103210449, 5.513976573944092, 5.532629489898682, 4.227159023284912, 6.627517223358154, 4.421629428863525, 5.0691680908203125, 7.738964557647705, 4.7414960861206055, 4.022568702697754, 4.158451080322266, 5.052511215209961, 8.355627059936523, 4.677465438842773, 4.618757247924805, 6.462345600128174], \"Total\": [163.0, 240.0, 26.0, 43.0, 41.0, 41.0, 33.0, 34.0, 18.0, 53.0, 47.0, 48.0, 50.0, 43.0, 40.0, 25.0, 14.0, 37.0, 12.0, 12.0, 32.0, 21.0, 20.0, 19.0, 34.0, 10.0, 10.0, 30.0, 36.0, 27.0, 43.91431427001953, 240.11798095703125, 47.22865295410156, 40.55483627319336, 32.55833053588867, 48.053287506103516, 53.158851623535156, 37.873802185058594, 23.79280662536621, 23.778423309326172, 27.599136352539062, 21.31995391845703, 22.73361587524414, 50.741241455078125, 30.741893768310547, 23.108591079711914, 19.85597038269043, 14.70353889465332, 14.926774978637695, 13.39404296875, 14.192835807800293, 34.7751579284668, 22.376493453979492, 11.88426685333252, 17.963380813598633, 15.174160957336426, 11.33706283569336, 30.754817962646484, 11.330974578857422, 11.434988021850586, 13.860563278198242, 12.754075050354004, 20.051420211791992, 14.646865844726562, 18.22591209411621, 43.53506088256836, 33.31945037841797, 41.82862854003906, 25.425697326660156, 163.5155029296875, 20.17862319946289, 41.768821716308594, 34.74785614013672, 19.72188949584961, 15.469970703125, 16.22954750061035, 16.759138107299805, 15.558855056762695, 15.642173767089844, 13.477128028869629, 15.5880126953125, 21.35839080810547, 16.432100296020508, 13.070991516113281, 17.037416458129883, 13.05053424835205, 12.516252517700195, 14.621694564819336, 13.667734146118164, 14.2622652053833, 10.515586853027344, 13.097902297973633, 10.17285442352295, 12.875497817993164, 13.555726051330566, 12.085563659667969, 18.860301971435547, 12.306166648864746, 36.67818832397461, 26.521804809570312, 18.9383544921875, 14.504080772399902, 10.300533294677734, 12.475295066833496, 9.076652526855469, 8.212092399597168, 12.846969604492188, 7.149290084838867, 8.23244857788086, 8.848949432373047, 9.475789070129395, 8.280913352966309, 5.8164591789245605, 6.446439743041992, 10.89218521118164, 6.462375640869141, 7.574855804443359, 5.356179714202881, 6.366119384765625, 6.398841857910156, 4.911414623260498, 7.735728740692139, 5.163406848907471, 5.925594329833984, 9.078660011291504, 5.572339057922363, 4.752621650695801, 4.923745155334473, 5.989572525024414, 9.941463470458984, 5.556454181671143, 5.50313138961792, 9.161691665649414], \"Category\": [\"Default\", \"Default\", \"Default\", \"Default\", \"Default\", \"Default\", \"Default\", \"Default\", \"Default\", \"Default\", \"Default\", \"Default\", \"Default\", \"Default\", \"Default\", \"Default\", \"Default\", \"Default\", \"Default\", \"Default\", \"Default\", \"Default\", \"Default\", \"Default\", \"Default\", \"Default\", \"Default\", \"Default\", \"Default\", \"Default\", \"Topic1\", \"Topic1\", \"Topic1\", \"Topic1\", \"Topic1\", \"Topic1\", \"Topic1\", \"Topic1\", \"Topic1\", \"Topic1\", \"Topic1\", \"Topic1\", \"Topic1\", \"Topic1\", \"Topic1\", \"Topic1\", \"Topic1\", \"Topic1\", \"Topic1\", \"Topic1\", \"Topic1\", \"Topic1\", \"Topic1\", \"Topic1\", \"Topic1\", \"Topic1\", \"Topic1\", \"Topic1\", \"Topic1\", \"Topic1\", \"Topic1\", \"Topic1\", \"Topic1\", \"Topic1\", \"Topic1\", \"Topic2\", \"Topic2\", \"Topic2\", \"Topic2\", \"Topic2\", \"Topic2\", \"Topic2\", \"Topic2\", \"Topic2\", \"Topic2\", \"Topic2\", \"Topic2\", \"Topic2\", \"Topic2\", \"Topic2\", \"Topic2\", \"Topic2\", \"Topic2\", \"Topic2\", \"Topic2\", \"Topic2\", \"Topic2\", \"Topic2\", \"Topic2\", \"Topic2\", \"Topic2\", \"Topic2\", \"Topic2\", \"Topic2\", \"Topic2\", \"Topic2\", \"Topic2\", \"Topic2\", \"Topic2\", \"Topic3\", \"Topic3\", \"Topic3\", \"Topic3\", \"Topic3\", \"Topic3\", \"Topic3\", \"Topic3\", \"Topic3\", \"Topic3\", \"Topic3\", \"Topic3\", \"Topic3\", \"Topic3\", \"Topic3\", \"Topic3\", \"Topic3\", \"Topic3\", \"Topic3\", \"Topic3\", \"Topic3\", \"Topic3\", \"Topic3\", \"Topic3\", \"Topic3\", \"Topic3\", \"Topic3\", \"Topic3\", \"Topic3\", \"Topic3\", \"Topic3\", \"Topic3\", \"Topic3\", \"Topic3\"], \"logprob\": [30.0, 29.0, 28.0, 27.0, 26.0, 25.0, 24.0, 23.0, 22.0, 21.0, 20.0, 19.0, 18.0, 17.0, 16.0, 15.0, 14.0, 13.0, 12.0, 11.0, 10.0, 9.0, 8.0, 7.0, 6.0, 5.0, 4.0, 3.0, 2.0, 1.0, -4.405200004577637, -2.706399917602539, -4.333199977874756, -4.48799991607666, -4.708000183105469, -4.320099830627441, -4.219200134277344, -4.559800148010254, -5.0254998207092285, -5.026599884033203, -4.878300189971924, -5.1367998123168945, -5.075099945068359, -4.272600173950195, -4.775599956512451, -5.061699867248535, -5.213900089263916, -5.5183000564575195, -5.50439977645874, -5.6128997802734375, -5.5553998947143555, -4.6596999168396, -5.103499889373779, -5.7378997802734375, -5.325099945068359, -5.49459981918335, -5.786300182342529, -4.788400173187256, -5.787099838256836, -5.77810001373291, -5.587900161743164, -5.671899795532227, -5.236299991607666, -5.540200233459473, -5.405700206756592, -4.048699855804443, -4.322199821472168, -4.098599910736084, -4.596700191497803, -2.7358999252319336, -4.834499835968018, -4.108399868011475, -4.2932000160217285, -4.859899997711182, -5.104800224304199, -5.058000087738037, -5.026400089263916, -5.101200103759766, -5.09660005569458, -5.247600078582764, -5.102700233459473, -4.787799835205078, -5.050600051879883, -5.2804999351501465, -5.015900135040283, -5.28249979019165, -5.327600002288818, -5.173099994659424, -5.243000030517578, -5.2006001472473145, -5.506499767303467, -5.287199974060059, -5.542699813842773, -5.307600021362305, -5.256400108337402, -5.372900009155273, -4.944300174713135, -5.356599807739258, -4.452000141143799, -3.8643999099731445, -4.218800067901611, -4.497300148010254, -4.843900203704834, -4.6539998054504395, -4.973400115966797, -5.075099945068359, -4.631800174713135, -5.225800037384033, -5.088799953460693, -5.020100116729736, -4.957499980926514, -5.103799819946289, -5.4593000411987305, -5.360199928283691, -4.836100101470947, -5.360300064086914, -5.205399990081787, -5.5543999671936035, -5.39139986038208, -5.388000011444092, -5.657100200653076, -5.207399845123291, -5.612199783325195, -5.475500106811523, -5.0524001121521, -5.542300224304199, -5.706699848175049, -5.673500061035156, -5.478799819946289, -4.9756999015808105, -5.5559000968933105, -5.56850004196167, -5.232699871063232], \"loglift\": [30.0, 29.0, 28.0, 27.0, 26.0, 25.0, 24.0, 23.0, 22.0, 21.0, 20.0, 19.0, 18.0, 17.0, 16.0, 15.0, 14.0, 13.0, 12.0, 11.0, 10.0, 9.0, 8.0, 7.0, 6.0, 5.0, 4.0, 3.0, 2.0, 1.0, 0.6980000138282776, 0.6980000138282776, 0.6972000002861023, 0.6948000192642212, 0.6944000124931335, 0.6930000185966492, 0.6929000020027161, 0.6913999915122986, 0.690500020980835, 0.6901000142097473, 0.6894000172615051, 0.6890000104904175, 0.6865000128746033, 0.6861000061035156, 0.6841999888420105, 0.6834999918937683, 0.6830999851226807, 0.6790000200271606, 0.6779000163078308, 0.6776999831199646, 0.677299976348877, 0.6769000291824341, 0.6739000082015991, 0.6722999811172485, 0.671999990940094, 0.6712999939918518, 0.6711000204086304, 0.6710000038146973, 0.670799970626831, 0.6705999970436096, 0.6685000061988831, 0.6676999926567078, 0.6507999897003174, 0.6610000133514404, 0.5769000053405762, 1.063099980354309, 1.0571000576019287, 1.0533000230789185, 1.052899956703186, 1.0526000261306763, 1.0463000535964966, 1.0448999404907227, 1.044100046157837, 1.0437999963760376, 1.041700005531311, 1.0405999422073364, 1.0400999784469604, 1.0396000146865845, 1.0388000011444092, 1.0369000434875488, 1.0362999439239502, 1.0362000465393066, 1.035599946975708, 1.034500002861023, 1.03410005569458, 1.03410005569458, 1.0307999849319458, 1.0298000574111938, 1.027500033378601, 1.0271999835968018, 1.0261000394821167, 1.0257999897003174, 1.0230000019073486, 1.0225000381469727, 1.0221999883651733, 1.0204999446868896, 1.00409996509552, 1.0187000036239624, 0.8313000202178955, 1.7431000471115112, 1.7254999876022339, 1.7137000560760498, 1.7093000411987305, 1.7077000141143799, 1.7063000202178955, 1.704699993133545, 1.7005000114440918, 1.6926000118255615, 1.688599944114685, 1.6850999593734741, 1.6792000532150269, 1.6677000522613525, 1.6654000282287598, 1.6618000268936157, 1.6612999439239502, 1.6591999530792236, 1.6552000045776367, 1.6527999639511108, 1.6431000232696533, 1.6412999629974365, 1.6367000341415405, 1.632200002670288, 1.631700038909912, 1.6306999921798706, 1.6270999908447266, 1.6253000497817993, 1.6200000047683716, 1.617900013923645, 1.6166000366210938, 1.6130000352859497, 1.6145999431610107, 1.6116000413894653, 1.4377000331878662]}, \"token.table\": {\"Topic\": [1, 2, 3, 1, 2, 1, 3, 1, 2, 1, 2, 1, 2, 1, 3, 3, 1, 3, 1, 3, 1, 2, 1, 2, 1, 1, 1, 2, 2, 1, 2, 1, 1, 2, 3, 2, 1, 2, 1, 1, 2, 1, 1, 1, 3, 3, 2, 2, 1, 1, 3, 1, 1, 1, 3, 1, 2, 3, 1, 1, 3, 2, 2, 3, 1, 2, 3, 1, 3, 1, 2, 3, 1, 2, 2, 1, 2, 1, 1, 3, 1, 1, 1, 1, 2, 3, 1, 3, 3, 3, 3, 1, 1, 3, 3, 3, 2, 1, 2, 2, 1, 3, 2, 1, 3, 1, 3, 1, 1, 1, 2, 1, 1, 2, 1, 2, 1, 3, 2, 1, 2, 1, 2, 2, 3, 1, 2, 1, 2, 1, 2, 3, 1, 3, 1, 2, 1, 2, 1, 3, 1, 2, 1, 1, 1, 1, 3, 2, 1, 3, 2, 1, 3, 1, 3], \"Freq\": [0.05280289798974991, 0.05280289798974991, 0.9504521489143372, 0.9475638270378113, 0.0498717799782753, 0.07783936709165573, 0.9340724349021912, 0.07376956194639206, 0.9590043425559998, 0.9831746220588684, 0.04468975588679314, 0.07316501438617706, 0.9511452317237854, 0.1292703002691269, 0.9048921465873718, 0.9791181683540344, 0.9791795611381531, 0.8502938151359558, 0.9619598984718323, 0.8998544216156006, 0.9777094125747681, 0.02875616028904915, 0.023907070979475975, 0.9801899194717407, 0.9666787385940552, 0.967729926109314, 0.08274334669113159, 0.9101768136024475, 0.9945687651634216, 0.9828513860702515, 0.9195026159286499, 0.9463697671890259, 0.21830029785633087, 0.10915014892816544, 0.6549009084701538, 0.9830082654953003, 0.05869434401392937, 0.9391095042228699, 0.9379119277000427, 0.030012499541044235, 0.9904124736785889, 0.970268964767456, 0.9707902669906616, 0.03770482540130615, 0.9426206350326538, 0.9284511208534241, 0.9640812277793884, 0.9509692788124084, 0.9521517157554626, 0.13201572000980377, 0.9241099953651428, 0.9782915115356445, 0.9864131808280945, 0.166956827044487, 0.8347840905189514, 0.012231255881488323, 0.9723848700523376, 0.012231255881488323, 0.9769285917282104, 0.9863188862800598, 0.9335011839866638, 0.9696204662322998, 0.973703920841217, 0.8416407108306885, 0.9911794066429138, 0.00832923874258995, 0.004164619371294975, 0.10553210973739624, 0.9497889876365662, 0.1363207995891571, 0.7906606197357178, 0.08179248124361038, 0.06839152425527573, 0.9574813842773438, 0.9589459896087646, 0.07766690105199814, 0.9320027828216553, 0.9758670330047607, 0.11014841496944427, 0.8811873197555542, 0.9255934953689575, 0.9849927425384521, 0.9558358788490295, 0.877871036529541, 0.10973387956619263, 0.054866939783096313, 0.1794578582048416, 0.8972892761230469, 0.9708235263824463, 0.8813822269439697, 0.8596295118331909, 0.940875768661499, 0.12075962871313095, 0.8453173637390137, 0.8144292831420898, 0.93074631690979, 0.9161772131919861, 0.9782001972198486, 0.01881154254078865, 0.9832571744918823, 0.08015842735767365, 0.961901068687439, 0.9858561754226685, 0.10058881342411041, 0.8047105073928833, 0.09180894494056702, 0.9180894494056702, 0.995300829410553, 0.9885225296020508, 0.053021419793367386, 0.9013641476631165, 0.9951586127281189, 0.0812600702047348, 0.9751209020614624, 0.046820007264614105, 0.9364001154899597, 0.15708155930042267, 0.9424893856048584, 0.9911478757858276, 0.02394130267202854, 0.9576520919799805, 0.0701150894165039, 0.9816112518310547, 0.9547030329704285, 0.8123897314071655, 0.02877875417470932, 0.9784776568412781, 0.022969992831349373, 0.987709641456604, 0.05070507898926735, 0.9633965492248535, 0.774682343006134, 0.11300776153802872, 0.9040620923042297, 0.9754568934440613, 0.032515231519937515, 0.9705807566642761, 0.962277889251709, 0.16875945031642914, 0.8437972068786621, 0.9853917360305786, 0.019707834348082542, 0.9379128217697144, 0.9672634601593018, 0.9780808687210083, 0.15627828240394592, 0.9376696944236755, 0.964597225189209, 0.06894611567258835, 0.8962994813919067, 0.9587534070014954, 0.9568910598754883, 0.9741731882095337, 0.181714728474617, 0.9085736274719238], \"Term\": [\"\\uac00\\uc7a5/Noun\", \"\\uac00\\uc7a5/Noun\", \"\\uac00\\uc7a5/Noun\", \"\\uac10\\uc131/Noun\", \"\\uac10\\uc131/Noun\", \"\\uac10\\uc815/Noun\", \"\\uac10\\uc815/Noun\", \"\\uaca8\\uc6b8/Noun\", \"\\uaca8\\uc6b8/Noun\", \"\\uacbd\\uc6b0/Noun\", \"\\uacbd\\uc6b0/Noun\", \"\\uacc4\\uc18d/Noun\", \"\\uacc4\\uc18d/Noun\", \"\\uace0\\ubbfc/Noun\", \"\\uace0\\ubbfc/Noun\", \"\\uacf5\\ubd80/Noun\", \"\\uadf8\\ub0e5/Noun\", \"\\uadf8\\ub54c/Noun\", \"\\uae30\\ub300/Noun\", \"\\uae30\\ub3c4/Noun\", \"\\uae30\\ubd84/Noun\", \"\\uae30\\ubd84/Noun\", \"\\uae30\\uc5b5/Noun\", \"\\uae30\\uc5b5/Noun\", \"\\ub178\\ub798/Noun\", \"\\ub204\\uad6c/Noun\", \"\\ub204\\uad70\\uac00/Noun\", \"\\ub204\\uad70\\uac00/Noun\", \"\\ub290\\ub08c/Noun\", \"\\ub2e4\\ub978/Noun\", \"\\ub2e4\\uc2dc/Noun\", \"\\ub2e4\\ud589/Noun\", \"\\ub2e8\\uc5b4/Noun\", \"\\ub2e8\\uc5b4/Noun\", \"\\ub2e8\\uc5b4/Noun\", \"\\ub2f9\\uc2dc/Noun\", \"\\ub300\\ud55c/Noun\", \"\\ub300\\ud55c/Noun\", \"\\ub3c4\\uc6c0/Noun\", \"\\ub54c\\ubb38/Noun\", \"\\ub54c\\ubb38/Noun\", \"\\ub5a1\\ubcf6\\uc774/Noun\", \"\\ub85c\\ubd80\\ud130/Noun\", \"\\ub9c8\\uc74c/Noun\", \"\\ub9c8\\uc74c/Noun\", \"\\ubaa8\\ub4e0/Noun\", \"\\ubaa8\\uc2b5/Noun\", \"\\ubaa9\\ud45c/Noun\", \"\\ubb54\\uac00/Noun\", \"\\ubcc4\\ub85c/Noun\", \"\\ubcc4\\ub85c/Noun\", \"\\ubcf4\\uace0/Noun\", \"\\ubd80\\ud130/Noun\", \"\\uc0ac\\uace0/Noun\", \"\\uc0ac\\uace0/Noun\", \"\\uc0ac\\ub78c/Noun\", \"\\uc0ac\\ub78c/Noun\", \"\\uc0ac\\ub78c/Noun\", \"\\uc0ac\\ub791/Noun\", \"\\uc0ac\\uc2e4/Noun\", \"\\uc0ac\\uc9c4/Noun\", \"\\uc0c1\\ub2f4/Noun\", \"\\uc0c1\\ucc98/Noun\", \"\\uc0c1\\ud669/Noun\", \"\\uc0dd\\uac01/Noun\", \"\\uc0dd\\uac01/Noun\", \"\\uc0dd\\uac01/Noun\", \"\\uc138\\uc0c1/Noun\", \"\\uc138\\uc0c1/Noun\", \"\\uc190\\ud765\\ubbfc/Noun\", \"\\uc190\\ud765\\ubbfc/Noun\", \"\\uc190\\ud765\\ubbfc/Noun\", \"\\uc218\\ub3c4/Noun\", \"\\uc218\\ub3c4/Noun\", \"\\uc218\\uc5c5/Noun\", \"\\uc21c\\uac04/Noun\", \"\\uc21c\\uac04/Noun\", \"\\uc2dc\\uac04/Noun\", \"\\uc2dc\\uc791/Noun\", \"\\uc2dc\\uc791/Noun\", \"\\uc544\\ube60/Noun\", \"\\uc544\\uc8fc/Noun\", \"\\uc544\\uce68/Noun\", \"\\uc54c\\ubc14/Noun\", \"\\uc54c\\ubc14/Noun\", \"\\uc54c\\ubc14/Noun\", \"\\uc560\\ucd08/Noun\", \"\\uc560\\ucd08/Noun\", \"\\uc598\\uae30/Noun\", \"\\uc5b4\\uc81c/Noun\", \"\\uc5bc\\ub9c8\\ub098/Noun\", \"\\uc5c4\\ub9c8/Noun\", \"\\uc5ec\\ub984/Noun\", \"\\uc5ec\\ub984/Noun\", \"\\uc5ec\\ud589/Noun\", \"\\uc601\\ud654/Noun\", \"\\uc608\\uc804/Noun\", \"\\uc624\\ub298/Noun\", \"\\uc624\\ub298/Noun\", \"\\uc694\\uc998/Noun\", \"\\uc695\\ub9dd/Noun\", \"\\uc695\\ub9dd/Noun\", \"\\uc6b0\\ub9ac/Noun\", \"\\uc758\\ubbf8/Noun\", \"\\uc758\\ubbf8/Noun\", \"\\uc758\\uc9c0/Noun\", \"\\uc758\\uc9c0/Noun\", \"\\uc774\\uc57c\\uae30/Noun\", \"\\uc774\\uc720/Noun\", \"\\uc774\\uc81c/Noun\", \"\\uc774\\uc81c/Noun\", \"\\uc778\\uc0dd/Noun\", \"\\uc790\\uae30/Noun\", \"\\uc790\\uae30/Noun\", \"\\uc790\\uc2e0/Noun\", \"\\uc790\\uc2e0/Noun\", \"\\uc804\\ud654/Noun\", \"\\uc804\\ud654/Noun\", \"\\uc815\\ub3c4/Noun\", \"\\uc815\\ub9d0/Noun\", \"\\uc815\\ub9d0/Noun\", \"\\uc81c\\uc77c/Noun\", \"\\uc81c\\uc77c/Noun\", \"\\uc870\\uae08/Noun\", \"\\uc8fc\\ubcc0/Noun\", \"\\uc9c0\\uae08/Noun\", \"\\uc9c0\\uae08/Noun\", \"\\uc9c4\\uc9dc/Noun\", \"\\uc9c4\\uc9dc/Noun\", \"\\uc9c8\\ubb38/Noun\", \"\\uc9c8\\ubb38/Noun\", \"\\uc9d1\\uc911/Noun\", \"\\ucc98\\uc74c/Noun\", \"\\ucc98\\uc74c/Noun\", \"\\uccab\\uc0ac\\ub791/Noun\", \"\\uccab\\uc0ac\\ub791/Noun\", \"\\ucd5c\\uace0/Noun\", \"\\ucd5c\\uadfc/Noun\", \"\\ucd5c\\uc545/Noun\", \"\\ucd5c\\uc545/Noun\", \"\\uce5c\\uad6c/Noun\", \"\\uce5c\\uad6c/Noun\", \"\\ud1b5\\ud654/Noun\", \"\\ud45c\\ud604/Noun\", \"\\ud558\\ub098/Noun\", \"\\ud558\\ub8e8/Noun\", \"\\ud558\\ub8e8/Noun\", \"\\ud559\\uad50/Noun\", \"\\ud56d\\uc0c1/Noun\", \"\\ud56d\\uc0c1/Noun\", \"\\ud574\\ub3c4/Noun\", \"\\ud589\\ubcf5/Noun\", \"\\ud604\\uc2e4/Noun\", \"\\ud63c\\uc790/Noun\", \"\\ud63c\\uc790/Noun\"]}, \"R\": 30, \"lambda.step\": 0.01, \"plot.opts\": {\"xlab\": \"PC1\", \"ylab\": \"PC2\"}, \"topic.order\": [3, 1, 2]};\n",
       "\n",
       "function LDAvis_load_lib(url, callback){\n",
       "  var s = document.createElement('script');\n",
       "  s.src = url;\n",
       "  s.async = true;\n",
       "  s.onreadystatechange = s.onload = callback;\n",
       "  s.onerror = function(){console.warn(\"failed to load library \" + url);};\n",
       "  document.getElementsByTagName(\"head\")[0].appendChild(s);\n",
       "}\n",
       "\n",
       "if(typeof(LDAvis) !== \"undefined\"){\n",
       "   // already loaded: just create the visualization\n",
       "   !function(LDAvis){\n",
       "       new LDAvis(\"#\" + \"ldavis_el135641405508013259047626818048\", ldavis_el135641405508013259047626818048_data);\n",
       "   }(LDAvis);\n",
       "}else if(typeof define === \"function\" && define.amd){\n",
       "   // require.js is available: use it to load d3/LDAvis\n",
       "   require.config({paths: {d3: \"https://cdnjs.cloudflare.com/ajax/libs/d3/3.5.5/d3.min\"}});\n",
       "   require([\"d3\"], function(d3){\n",
       "      window.d3 = d3;\n",
       "      LDAvis_load_lib(\"https://cdn.rawgit.com/bmabey/pyLDAvis/files/ldavis.v1.0.0.js\", function(){\n",
       "        new LDAvis(\"#\" + \"ldavis_el135641405508013259047626818048\", ldavis_el135641405508013259047626818048_data);\n",
       "      });\n",
       "    });\n",
       "}else{\n",
       "    // require.js not available: dynamically load d3 & LDAvis\n",
       "    LDAvis_load_lib(\"https://cdnjs.cloudflare.com/ajax/libs/d3/3.5.5/d3.min.js\", function(){\n",
       "         LDAvis_load_lib(\"https://cdn.rawgit.com/bmabey/pyLDAvis/files/ldavis.v1.0.0.js\", function(){\n",
       "                 new LDAvis(\"#\" + \"ldavis_el135641405508013259047626818048\", ldavis_el135641405508013259047626818048_data);\n",
       "            })\n",
       "         });\n",
       "}\n",
       "</script>"
      ],
      "text/plain": [
       "PreparedData(topic_coordinates=                 x            y  topics  cluster       Freq\n",
       "topic                                                      \n",
       "2     -1015.700562  1338.981201       1        1  49.262043\n",
       "0      -387.996002  -373.316162       2        1  33.988113\n",
       "1     -2184.745605   -60.565800       3        1  16.749844, topic_info=         Term        Freq       Total Category  logprob  loglift\n",
       "74    사람/Noun  163.000000  163.000000  Default  30.0000  30.0000\n",
       "10    생각/Noun  240.000000  240.000000  Default  29.0000  29.0000\n",
       "350   마음/Noun   26.000000   26.000000  Default  28.0000  28.0000\n",
       "342   진짜/Noun   43.000000   43.000000  Default  27.0000  27.0000\n",
       "277   기억/Noun   41.000000   41.000000  Default  26.0000  26.0000\n",
       "...       ...         ...         ...      ...      ...      ...\n",
       "295   사고/Noun    5.052511    5.989573   Topic3  -5.4788   1.6166\n",
       "1365  의미/Noun    8.355627    9.941463   Topic3  -4.9757   1.6130\n",
       "37    기도/Noun    4.677465    5.556454   Topic3  -5.5559   1.6146\n",
       "16    혼자/Noun    4.618757    5.503131   Topic3  -5.5685   1.6116\n",
       "1381  단어/Noun    6.462346    9.161692   Topic3  -5.2327   1.4377\n",
       "\n",
       "[133 rows x 6 columns], token_table=      Topic      Freq     Term\n",
       "term                          \n",
       "20        1  0.052803  가장/Noun\n",
       "20        2  0.052803  가장/Noun\n",
       "20        3  0.950452  가장/Noun\n",
       "1434      1  0.947564  감성/Noun\n",
       "1434      2  0.049872  감성/Noun\n",
       "...     ...       ...      ...\n",
       "666       2  0.958753  해도/Noun\n",
       "40        1  0.956891  행복/Noun\n",
       "301       3  0.974173  현실/Noun\n",
       "16        1  0.181715  혼자/Noun\n",
       "16        3  0.908574  혼자/Noun\n",
       "\n",
       "[155 rows x 3 columns], R=30, lambda_step=0.01, plot_opts={'xlab': 'PC1', 'ylab': 'PC2'}, topic_order=[3, 1, 2])"
      ]
     },
     "execution_count": 24,
     "metadata": {},
     "output_type": "execute_result"
    }
   ],
   "source": [
    "# 3-topic LDA 모델 - MDS Mapping\n",
    "\n",
    "corpus_lda = lda_ko[tfidf_ko]\n",
    "\n",
    "pyLDAvis.enable_notebook()\n",
    "panel = pyLDAvis.gensim.prepare(lda_ko, corpus_lda, dictionary_ko, mds='tsne')\n",
    "panel"
   ]
  },
  {
   "cell_type": "code",
   "execution_count": null,
   "metadata": {},
   "outputs": [],
   "source": []
  },
  {
   "cell_type": "code",
   "execution_count": 42,
   "metadata": {},
   "outputs": [],
   "source": [
    "def getNVM_lemma(text):\n",
    "    tokenizer = MeCab.Tagger()\n",
    "    parsed = tokenizer.parse(text)\n",
    "    word_tag = [w for w in parsed.split(\"\\n\")]\n",
    "    pos = []\n",
    "#     tags = ['NNG','NNP','VV','VA', 'VX', 'VCP','VCN']\n",
    "    tags = ['NNG','NNP']\n",
    "    for word_ in word_tag[:-2]:\n",
    "        word = word_.split(\"\\t\")\n",
    "        tag = word[1].split(\",\")\n",
    "        if(len(word[0]) < 2) or (\"게\" in word[0]):\n",
    "            continue\n",
    "        if(tag[-1] != '*'):\n",
    "            t = tag[-1].split('/')\n",
    "            if(len(t[0]) > 1 and ('VV' in t[1] or 'VA' in t[1] or 'VX' in t[1])):\n",
    "                pos.append(t[0])\n",
    "        else:\n",
    "            if(tag[0] in tags):\n",
    "                pos.append(word[0])\n",
    "    return pos"
   ]
  },
  {
   "cell_type": "code",
   "execution_count": 43,
   "metadata": {},
   "outputs": [
    {
     "name": "stdout",
     "output_type": "stream",
     "text": [
      "Created 1005 X 747 document-term matrix\n"
     ]
    }
   ],
   "source": [
    "vectorizer = CountVectorizer(tokenizer=getNVM_lemma, min_df=2)\n",
    "x_counts = vectorizer.fit_transform(df['content'].values.astype('U'))\n",
    "print( \"Created %d X %d document-term matrix\" % (x_counts.shape[0], x_counts.shape[1]) )\n",
    "transformer = TfidfTransformer(smooth_idf=False);\n",
    "x_tfidf = transformer.fit_transform(x_counts);"
   ]
  },
  {
   "cell_type": "code",
   "execution_count": 44,
   "metadata": {},
   "outputs": [
    {
     "name": "stdout",
     "output_type": "stream",
     "text": [
      "Vocabulary has 747 distinct terms\n"
     ]
    }
   ],
   "source": [
    "terms = vectorizer.get_feature_names()\n",
    "print(\"Vocabulary has %d distinct terms\" % len(terms))"
   ]
  },
  {
   "cell_type": "code",
   "execution_count": 45,
   "metadata": {},
   "outputs": [
    {
     "data": {
      "text/plain": [
       "NMF(init='nndsvd', n_components=10)"
      ]
     },
     "execution_count": 45,
     "metadata": {},
     "output_type": "execute_result"
    }
   ],
   "source": [
    "xtfidf_norm = normalize(x_tfidf, norm='l1', axis=1)\n",
    "model = NMF(n_components=10, init='nndsvd');\n",
    "model.fit(xtfidf_norm)"
   ]
  },
  {
   "cell_type": "code",
   "execution_count": 46,
   "metadata": {},
   "outputs": [],
   "source": [
    "def get_nmf_topics(model, n_top_words):\n",
    "    \n",
    "    feat_names = vectorizer.get_feature_names()\n",
    "    \n",
    "    word_dict = {};\n",
    "    for i in range(num_topics):\n",
    "        \n",
    "        words_ids = model.components_[i].argsort()[:-10 - 1:-1]\n",
    "        words = [feat_names[key] for key in words_ids]\n",
    "        word_dict['Topic # ' + '{:02d}'.format(i+1)] = words;\n",
    "    \n",
    "    return pd.DataFrame(word_dict);"
   ]
  },
  {
   "cell_type": "code",
   "execution_count": 47,
   "metadata": {},
   "outputs": [
    {
     "data": {
      "text/html": [
       "<div>\n",
       "<style scoped>\n",
       "    .dataframe tbody tr th:only-of-type {\n",
       "        vertical-align: middle;\n",
       "    }\n",
       "\n",
       "    .dataframe tbody tr th {\n",
       "        vertical-align: top;\n",
       "    }\n",
       "\n",
       "    .dataframe thead th {\n",
       "        text-align: right;\n",
       "    }\n",
       "</style>\n",
       "<table border=\"1\" class=\"dataframe\">\n",
       "  <thead>\n",
       "    <tr style=\"text-align: right;\">\n",
       "      <th></th>\n",
       "      <th>Topic # 01</th>\n",
       "      <th>Topic # 02</th>\n",
       "      <th>Topic # 03</th>\n",
       "      <th>Topic # 04</th>\n",
       "      <th>Topic # 05</th>\n",
       "    </tr>\n",
       "  </thead>\n",
       "  <tbody>\n",
       "    <tr>\n",
       "      <th>0</th>\n",
       "      <td>사람</td>\n",
       "      <td>생각</td>\n",
       "      <td>친구</td>\n",
       "      <td>시간</td>\n",
       "      <td>사랑</td>\n",
       "    </tr>\n",
       "    <tr>\n",
       "      <th>1</th>\n",
       "      <td>기대</td>\n",
       "      <td>모르</td>\n",
       "      <td>만나</td>\n",
       "      <td>자신</td>\n",
       "      <td>엄마</td>\n",
       "    </tr>\n",
       "    <tr>\n",
       "      <th>2</th>\n",
       "      <td>만나</td>\n",
       "      <td>행동</td>\n",
       "      <td>남자</td>\n",
       "      <td>기대</td>\n",
       "      <td>원망</td>\n",
       "    </tr>\n",
       "    <tr>\n",
       "      <th>3</th>\n",
       "      <td>대하</td>\n",
       "      <td>예전</td>\n",
       "      <td>대화</td>\n",
       "      <td>버스</td>\n",
       "      <td>신뢰</td>\n",
       "    </tr>\n",
       "    <tr>\n",
       "      <th>4</th>\n",
       "      <td>편하</td>\n",
       "      <td>열정</td>\n",
       "      <td>도어</td>\n",
       "      <td>수업</td>\n",
       "      <td>대신</td>\n",
       "    </tr>\n",
       "    <tr>\n",
       "      <th>5</th>\n",
       "      <td>도어</td>\n",
       "      <td>공상</td>\n",
       "      <td>노래</td>\n",
       "      <td>통화</td>\n",
       "      <td>여름</td>\n",
       "    </tr>\n",
       "    <tr>\n",
       "      <th>6</th>\n",
       "      <td>자신</td>\n",
       "      <td>변하</td>\n",
       "      <td>힘들</td>\n",
       "      <td>인연</td>\n",
       "      <td>재미</td>\n",
       "    </tr>\n",
       "    <tr>\n",
       "      <th>7</th>\n",
       "      <td>목표</td>\n",
       "      <td>짜증</td>\n",
       "      <td>고백</td>\n",
       "      <td>오늘</td>\n",
       "      <td>능력</td>\n",
       "    </tr>\n",
       "    <tr>\n",
       "      <th>8</th>\n",
       "      <td>이야기</td>\n",
       "      <td>평생</td>\n",
       "      <td>기분</td>\n",
       "      <td>공상</td>\n",
       "      <td>마음</td>\n",
       "    </tr>\n",
       "    <tr>\n",
       "      <th>9</th>\n",
       "      <td>버리</td>\n",
       "      <td>들어오</td>\n",
       "      <td>차오르</td>\n",
       "      <td>유튜브</td>\n",
       "      <td>동안</td>\n",
       "    </tr>\n",
       "  </tbody>\n",
       "</table>\n",
       "</div>"
      ],
      "text/plain": [
       "  Topic # 01 Topic # 02 Topic # 03 Topic # 04 Topic # 05\n",
       "0         사람         생각         친구         시간         사랑\n",
       "1         기대         모르         만나         자신         엄마\n",
       "2         만나         행동         남자         기대         원망\n",
       "3         대하         예전         대화         버스         신뢰\n",
       "4         편하         열정         도어         수업         대신\n",
       "5         도어         공상         노래         통화         여름\n",
       "6         자신         변하         힘들         인연         재미\n",
       "7         목표         짜증         고백         오늘         능력\n",
       "8        이야기         평생         기분         공상         마음\n",
       "9         버리        들어오        차오르        유튜브         동안"
      ]
     },
     "execution_count": 47,
     "metadata": {},
     "output_type": "execute_result"
    }
   ],
   "source": [
    "num_topics = 5\n",
    "nmf_df = get_nmf_topics(model, 2)\n",
    "nmf_df"
   ]
  },
  {
   "cell_type": "code",
   "execution_count": 40,
   "metadata": {},
   "outputs": [
    {
     "data": {
      "text/html": [
       "<div>\n",
       "<style scoped>\n",
       "    .dataframe tbody tr th:only-of-type {\n",
       "        vertical-align: middle;\n",
       "    }\n",
       "\n",
       "    .dataframe tbody tr th {\n",
       "        vertical-align: top;\n",
       "    }\n",
       "\n",
       "    .dataframe thead th {\n",
       "        text-align: right;\n",
       "    }\n",
       "</style>\n",
       "<table border=\"1\" class=\"dataframe\">\n",
       "  <thead>\n",
       "    <tr style=\"text-align: right;\">\n",
       "      <th></th>\n",
       "      <th>Topic # 01</th>\n",
       "      <th>Topic # 02</th>\n",
       "      <th>Topic # 03</th>\n",
       "      <th>Topic # 04</th>\n",
       "      <th>Topic # 05</th>\n",
       "    </tr>\n",
       "  </thead>\n",
       "  <tbody>\n",
       "    <tr>\n",
       "      <th>0</th>\n",
       "      <td>사람</td>\n",
       "      <td>생각</td>\n",
       "      <td>시간</td>\n",
       "      <td>친구</td>\n",
       "      <td>사랑</td>\n",
       "    </tr>\n",
       "    <tr>\n",
       "      <th>1</th>\n",
       "      <td>만나</td>\n",
       "      <td>모르</td>\n",
       "      <td>자신</td>\n",
       "      <td>만나</td>\n",
       "      <td>엄마</td>\n",
       "    </tr>\n",
       "    <tr>\n",
       "      <th>2</th>\n",
       "      <td>대하</td>\n",
       "      <td>행동</td>\n",
       "      <td>기대</td>\n",
       "      <td>남자</td>\n",
       "      <td>원망</td>\n",
       "    </tr>\n",
       "    <tr>\n",
       "      <th>3</th>\n",
       "      <td>편하</td>\n",
       "      <td>열정</td>\n",
       "      <td>버스</td>\n",
       "      <td>대화</td>\n",
       "      <td>신뢰</td>\n",
       "    </tr>\n",
       "    <tr>\n",
       "      <th>4</th>\n",
       "      <td>도어</td>\n",
       "      <td>예전</td>\n",
       "      <td>수업</td>\n",
       "      <td>도어</td>\n",
       "      <td>대신</td>\n",
       "    </tr>\n",
       "    <tr>\n",
       "      <th>5</th>\n",
       "      <td>자신</td>\n",
       "      <td>공상</td>\n",
       "      <td>통화</td>\n",
       "      <td>노래</td>\n",
       "      <td>재미</td>\n",
       "    </tr>\n",
       "    <tr>\n",
       "      <th>6</th>\n",
       "      <td>목표</td>\n",
       "      <td>변하</td>\n",
       "      <td>인연</td>\n",
       "      <td>힘들</td>\n",
       "      <td>능력</td>\n",
       "    </tr>\n",
       "    <tr>\n",
       "      <th>7</th>\n",
       "      <td>이야기</td>\n",
       "      <td>짜증</td>\n",
       "      <td>오늘</td>\n",
       "      <td>고백</td>\n",
       "      <td>마음</td>\n",
       "    </tr>\n",
       "    <tr>\n",
       "      <th>8</th>\n",
       "      <td>버리</td>\n",
       "      <td>들어오</td>\n",
       "      <td>공상</td>\n",
       "      <td>기분</td>\n",
       "      <td>여름</td>\n",
       "    </tr>\n",
       "    <tr>\n",
       "      <th>9</th>\n",
       "      <td>이유</td>\n",
       "      <td>평생</td>\n",
       "      <td>유튜브</td>\n",
       "      <td>차오르</td>\n",
       "      <td>동안</td>\n",
       "    </tr>\n",
       "  </tbody>\n",
       "</table>\n",
       "</div>"
      ],
      "text/plain": [
       "  Topic # 01 Topic # 02 Topic # 03 Topic # 04 Topic # 05\n",
       "0         사람         생각         시간         친구         사랑\n",
       "1         만나         모르         자신         만나         엄마\n",
       "2         대하         행동         기대         남자         원망\n",
       "3         편하         열정         버스         대화         신뢰\n",
       "4         도어         예전         수업         도어         대신\n",
       "5         자신         공상         통화         노래         재미\n",
       "6         목표         변하         인연         힘들         능력\n",
       "7        이야기         짜증         오늘         고백         마음\n",
       "8         버리        들어오         공상         기분         여름\n",
       "9         이유         평생        유튜브        차오르         동안"
      ]
     },
     "execution_count": 40,
     "metadata": {},
     "output_type": "execute_result"
    }
   ],
   "source": [
    "num_topics = 5\n",
    "nmf_df = get_nmf_topics(model, 5)\n",
    "nmf_df"
   ]
  },
  {
   "cell_type": "code",
   "execution_count": 32,
   "metadata": {
    "scrolled": true
   },
   "outputs": [
    {
     "data": {
      "text/html": [
       "<div>\n",
       "<style scoped>\n",
       "    .dataframe tbody tr th:only-of-type {\n",
       "        vertical-align: middle;\n",
       "    }\n",
       "\n",
       "    .dataframe tbody tr th {\n",
       "        vertical-align: top;\n",
       "    }\n",
       "\n",
       "    .dataframe thead th {\n",
       "        text-align: right;\n",
       "    }\n",
       "</style>\n",
       "<table border=\"1\" class=\"dataframe\">\n",
       "  <thead>\n",
       "    <tr style=\"text-align: right;\">\n",
       "      <th></th>\n",
       "      <th>Topic # 01</th>\n",
       "      <th>Topic # 02</th>\n",
       "      <th>Topic # 03</th>\n",
       "      <th>Topic # 04</th>\n",
       "      <th>Topic # 05</th>\n",
       "      <th>Topic # 06</th>\n",
       "      <th>Topic # 07</th>\n",
       "      <th>Topic # 08</th>\n",
       "      <th>Topic # 09</th>\n",
       "      <th>Topic # 10</th>\n",
       "    </tr>\n",
       "  </thead>\n",
       "  <tbody>\n",
       "    <tr>\n",
       "      <th>0</th>\n",
       "      <td>생각</td>\n",
       "      <td>사람</td>\n",
       "      <td>모르</td>\n",
       "      <td>친구</td>\n",
       "      <td>어렵</td>\n",
       "      <td>사랑</td>\n",
       "      <td>배우</td>\n",
       "      <td>시간</td>\n",
       "      <td>행복</td>\n",
       "      <td>학교</td>\n",
       "    </tr>\n",
       "    <tr>\n",
       "      <th>1</th>\n",
       "      <td>행동</td>\n",
       "      <td>보이</td>\n",
       "      <td>돌아오</td>\n",
       "      <td>남자</td>\n",
       "      <td>성격</td>\n",
       "      <td>엄마</td>\n",
       "      <td>재미</td>\n",
       "      <td>일어나</td>\n",
       "      <td>인생</td>\n",
       "      <td>파이</td>\n",
       "    </tr>\n",
       "    <tr>\n",
       "      <th>2</th>\n",
       "      <td>괜찮</td>\n",
       "      <td>만나</td>\n",
       "      <td>대답</td>\n",
       "      <td>대화</td>\n",
       "      <td>변하</td>\n",
       "      <td>원망</td>\n",
       "      <td>가르침</td>\n",
       "      <td>버스</td>\n",
       "      <td>아름답</td>\n",
       "      <td>형태</td>\n",
       "    </tr>\n",
       "    <tr>\n",
       "      <th>3</th>\n",
       "      <td>예전</td>\n",
       "      <td>자신</td>\n",
       "      <td>바꾸</td>\n",
       "      <td>그렇</td>\n",
       "      <td>평생</td>\n",
       "      <td>아니</td>\n",
       "      <td>가르치</td>\n",
       "      <td>자신</td>\n",
       "      <td>하당</td>\n",
       "      <td>공연</td>\n",
       "    </tr>\n",
       "    <tr>\n",
       "      <th>4</th>\n",
       "      <td>들어오</td>\n",
       "      <td>힘들</td>\n",
       "      <td>만드</td>\n",
       "      <td>만나</td>\n",
       "      <td>고민</td>\n",
       "      <td>신뢰</td>\n",
       "      <td>감사</td>\n",
       "      <td>지나</td>\n",
       "      <td>건강</td>\n",
       "      <td>연극</td>\n",
       "    </tr>\n",
       "    <tr>\n",
       "      <th>5</th>\n",
       "      <td>평생</td>\n",
       "      <td>편하</td>\n",
       "      <td>부탁</td>\n",
       "      <td>노래</td>\n",
       "      <td>만들</td>\n",
       "      <td>갔다오</td>\n",
       "      <td>반성</td>\n",
       "      <td>기대</td>\n",
       "      <td>아니</td>\n",
       "      <td>리스트</td>\n",
       "    </tr>\n",
       "    <tr>\n",
       "      <th>6</th>\n",
       "      <td>정도</td>\n",
       "      <td>버리</td>\n",
       "      <td>구체</td>\n",
       "      <td>힘들</td>\n",
       "      <td>질문</td>\n",
       "      <td>대신</td>\n",
       "      <td>악기</td>\n",
       "      <td>수업</td>\n",
       "      <td>미치</td>\n",
       "      <td>소원</td>\n",
       "    </tr>\n",
       "    <tr>\n",
       "      <th>7</th>\n",
       "      <td>보이</td>\n",
       "      <td>이야기</td>\n",
       "      <td>도어</td>\n",
       "      <td>기쁘</td>\n",
       "      <td>택하</td>\n",
       "      <td>재미</td>\n",
       "      <td>입학</td>\n",
       "      <td>오늘</td>\n",
       "      <td>평생</td>\n",
       "      <td>알차</td>\n",
       "    </tr>\n",
       "    <tr>\n",
       "      <th>8</th>\n",
       "      <td>머리</td>\n",
       "      <td>목표</td>\n",
       "      <td>알아주</td>\n",
       "      <td>진심</td>\n",
       "      <td>에어컨</td>\n",
       "      <td>능력</td>\n",
       "      <td>대학</td>\n",
       "      <td>돌아보</td>\n",
       "      <td>하루</td>\n",
       "      <td>피곤</td>\n",
       "    </tr>\n",
       "    <tr>\n",
       "      <th>9</th>\n",
       "      <td>멋지</td>\n",
       "      <td>좋아하</td>\n",
       "      <td>따르</td>\n",
       "      <td>친하</td>\n",
       "      <td>요소</td>\n",
       "      <td>마음</td>\n",
       "      <td>여유</td>\n",
       "      <td>통화</td>\n",
       "      <td>진심</td>\n",
       "      <td>만나</td>\n",
       "    </tr>\n",
       "  </tbody>\n",
       "</table>\n",
       "</div>"
      ],
      "text/plain": [
       "  Topic # 01 Topic # 02 Topic # 03 Topic # 04 Topic # 05 Topic # 06  \\\n",
       "0         생각         사람         모르         친구         어렵         사랑   \n",
       "1         행동         보이        돌아오         남자         성격         엄마   \n",
       "2         괜찮         만나         대답         대화         변하         원망   \n",
       "3         예전         자신         바꾸         그렇         평생         아니   \n",
       "4        들어오         힘들         만드         만나         고민         신뢰   \n",
       "5         평생         편하         부탁         노래         만들        갔다오   \n",
       "6         정도         버리         구체         힘들         질문         대신   \n",
       "7         보이        이야기         도어         기쁘         택하         재미   \n",
       "8         머리         목표        알아주         진심        에어컨         능력   \n",
       "9         멋지        좋아하         따르         친하         요소         마음   \n",
       "\n",
       "  Topic # 07 Topic # 08 Topic # 09 Topic # 10  \n",
       "0         배우         시간         행복         학교  \n",
       "1         재미        일어나         인생         파이  \n",
       "2        가르침         버스        아름답         형태  \n",
       "3        가르치         자신         하당         공연  \n",
       "4         감사         지나         건강         연극  \n",
       "5         반성         기대         아니        리스트  \n",
       "6         악기         수업         미치         소원  \n",
       "7         입학         오늘         평생         알차  \n",
       "8         대학        돌아보         하루         피곤  \n",
       "9         여유         통화         진심         만나  "
      ]
     },
     "execution_count": 32,
     "metadata": {},
     "output_type": "execute_result"
    }
   ],
   "source": [
    "num_topics = 10\n",
    "nmf_df = get_nmf_topics(model, 5)\n",
    "nmf_df"
   ]
  },
  {
   "cell_type": "code",
   "execution_count": null,
   "metadata": {},
   "outputs": [],
   "source": []
  },
  {
   "cell_type": "code",
   "execution_count": null,
   "metadata": {},
   "outputs": [],
   "source": []
  }
 ],
 "metadata": {
  "kernelspec": {
   "display_name": "Python 3",
   "language": "python",
   "name": "python3"
  },
  "language_info": {
   "codemirror_mode": {
    "name": "ipython",
    "version": 3
   },
   "file_extension": ".py",
   "mimetype": "text/x-python",
   "name": "python",
   "nbconvert_exporter": "python",
   "pygments_lexer": "ipython3",
   "version": "3.7.7"
  }
 },
 "nbformat": 4,
 "nbformat_minor": 4
}
