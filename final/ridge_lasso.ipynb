{
 "cells": [
  {
   "cell_type": "code",
   "execution_count": 1,
   "metadata": {},
   "outputs": [],
   "source": [
    "# reference: http://www.science.smith.edu/~jcrouser/SDS293/labs/lab10-py.html"
   ]
  },
  {
   "cell_type": "code",
   "execution_count": 2,
   "metadata": {},
   "outputs": [],
   "source": [
    "from matplotlib.pylab import rcParams\n",
    "from matplotlib.ticker import FormatStrFormatter\n",
    "rcParams['figure.figsize'] = 12, 7.5\n",
    "import pandas as pd\n",
    "import numpy as np\n",
    "from sklearn.preprocessing import scale \n",
    "from sklearn.model_selection import train_test_split, cross_val_score\n",
    "from sklearn.linear_model import Ridge, RidgeCV, Lasso, LassoCV\n",
    "from sklearn.metrics import mean_squared_error\n",
    "import matplotlib.pyplot as plt\n",
    "from math import e\n",
    "\n",
    "%matplotlib inline"
   ]
  },
  {
   "cell_type": "code",
   "execution_count": 3,
   "metadata": {},
   "outputs": [],
   "source": [
    "pd.set_option('display.max_rows', 500)\n",
    "pd.set_option('display.max_columns', 500)"
   ]
  },
  {
   "cell_type": "code",
   "execution_count": 4,
   "metadata": {},
   "outputs": [],
   "source": [
    "labels = pd.read_csv('survey_data/scale_labels.csv')"
   ]
  },
  {
   "cell_type": "code",
   "execution_count": 5,
   "metadata": {},
   "outputs": [
    {
     "data": {
      "text/html": [
       "<div>\n",
       "<style scoped>\n",
       "    .dataframe tbody tr th:only-of-type {\n",
       "        vertical-align: middle;\n",
       "    }\n",
       "\n",
       "    .dataframe tbody tr th {\n",
       "        vertical-align: top;\n",
       "    }\n",
       "\n",
       "    .dataframe thead th {\n",
       "        text-align: right;\n",
       "    }\n",
       "</style>\n",
       "<table border=\"1\" class=\"dataframe\">\n",
       "  <thead>\n",
       "    <tr style=\"text-align: right;\">\n",
       "      <th></th>\n",
       "      <th>FS</th>\n",
       "      <th>BFI_O</th>\n",
       "      <th>BFI_C</th>\n",
       "      <th>BFI_N</th>\n",
       "      <th>BFI_E</th>\n",
       "      <th>BFI_A</th>\n",
       "      <th>PCS9</th>\n",
       "      <th>ERQ10_c</th>\n",
       "      <th>ERQ10_e</th>\n",
       "      <th>ERQ10</th>\n",
       "      <th>RPS</th>\n",
       "      <th>BPAQSF</th>\n",
       "      <th>ADHDRS</th>\n",
       "      <th>NPI16</th>\n",
       "      <th>RFQ_m</th>\n",
       "      <th>RFQ_v</th>\n",
       "      <th>RFQ</th>\n",
       "      <th>LOC13</th>\n",
       "      <th>BPSSR</th>\n",
       "      <th>BRCS</th>\n",
       "      <th>CAMSR</th>\n",
       "      <th>CEI</th>\n",
       "      <th>BRS</th>\n",
       "      <th>ZBS</th>\n",
       "      <th>SMS_ams</th>\n",
       "      <th>SMS_seb</th>\n",
       "      <th>SMS</th>\n",
       "      <th>GP5</th>\n",
       "      <th>SOAS</th>\n",
       "      <th>ESS</th>\n",
       "      <th>CR</th>\n",
       "      <th>HEXACO60</th>\n",
       "      <th>NCS6</th>\n",
       "      <th>SAS</th>\n",
       "    </tr>\n",
       "  </thead>\n",
       "  <tbody>\n",
       "    <tr>\n",
       "      <th>0</th>\n",
       "      <td>flourshing</td>\n",
       "      <td>openness</td>\n",
       "      <td>conscientiousness</td>\n",
       "      <td>neuroticism</td>\n",
       "      <td>extraversion</td>\n",
       "      <td>agreeableness</td>\n",
       "      <td>procrastination</td>\n",
       "      <td>emotion_regulation_cognitive_reappraisal</td>\n",
       "      <td>emotion_regulation_expressive_suppression</td>\n",
       "      <td>emotion_regulation</td>\n",
       "      <td>risk_propensity</td>\n",
       "      <td>agression</td>\n",
       "      <td>adhd</td>\n",
       "      <td>narcissism</td>\n",
       "      <td>regulatory_focus_promotion</td>\n",
       "      <td>regulatory_focus_prevention</td>\n",
       "      <td>regulatory_focus</td>\n",
       "      <td>locus_of_control</td>\n",
       "      <td>boredom_proneness</td>\n",
       "      <td>resilience_coping</td>\n",
       "      <td>mindfulness</td>\n",
       "      <td>curiosity</td>\n",
       "      <td>resilience</td>\n",
       "      <td>boredom_susceptibility</td>\n",
       "      <td>self-monitoring_ability</td>\n",
       "      <td>self_monitoring_sensitivity</td>\n",
       "      <td>self_monitoring</td>\n",
       "      <td>guilt_proneness</td>\n",
       "      <td>cognitive_autonomy</td>\n",
       "      <td>sleep_problems</td>\n",
       "      <td>religiosity</td>\n",
       "      <td>honesty_humility</td>\n",
       "      <td>need_for_cognition</td>\n",
       "      <td>internet</td>\n",
       "    </tr>\n",
       "  </tbody>\n",
       "</table>\n",
       "</div>"
      ],
      "text/plain": [
       "           FS     BFI_O              BFI_C        BFI_N         BFI_E  \\\n",
       "0  flourshing  openness  conscientiousness  neuroticism  extraversion   \n",
       "\n",
       "           BFI_A             PCS9                                   ERQ10_c  \\\n",
       "0  agreeableness  procrastination  emotion_regulation_cognitive_reappraisal   \n",
       "\n",
       "                                     ERQ10_e               ERQ10  \\\n",
       "0  emotion_regulation_expressive_suppression  emotion_regulation   \n",
       "\n",
       "               RPS     BPAQSF ADHDRS       NPI16                       RFQ_m  \\\n",
       "0  risk_propensity  agression   adhd  narcissism  regulatory_focus_promotion   \n",
       "\n",
       "                         RFQ_v               RFQ             LOC13  \\\n",
       "0  regulatory_focus_prevention  regulatory_focus  locus_of_control   \n",
       "\n",
       "               BPSSR               BRCS        CAMSR        CEI         BRS  \\\n",
       "0  boredom_proneness  resilience_coping  mindfulness  curiosity  resilience   \n",
       "\n",
       "                      ZBS                  SMS_ams  \\\n",
       "0  boredom_susceptibility  self-monitoring_ability   \n",
       "\n",
       "                       SMS_seb              SMS              GP5  \\\n",
       "0  self_monitoring_sensitivity  self_monitoring  guilt_proneness   \n",
       "\n",
       "                 SOAS             ESS           CR          HEXACO60  \\\n",
       "0  cognitive_autonomy  sleep_problems  religiosity  honesty_humility   \n",
       "\n",
       "                 NCS6       SAS  \n",
       "0  need_for_cognition  internet  "
      ]
     },
     "execution_count": 5,
     "metadata": {},
     "output_type": "execute_result"
    }
   ],
   "source": [
    "labels"
   ]
  },
  {
   "cell_type": "code",
   "execution_count": 6,
   "metadata": {},
   "outputs": [
    {
     "data": {
      "text/plain": [
       "0    resilience_coping\n",
       "Name: BRCS, dtype: object"
      ]
     },
     "execution_count": 6,
     "metadata": {},
     "output_type": "execute_result"
    }
   ],
   "source": [
    "labels['BRCS']"
   ]
  },
  {
   "cell_type": "code",
   "execution_count": 7,
   "metadata": {},
   "outputs": [],
   "source": [
    "data = pd.read_csv('survey_data/results_compilation.csv')\n",
    "data = data.dropna(how='any')"
   ]
  },
  {
   "cell_type": "code",
   "execution_count": 8,
   "metadata": {},
   "outputs": [
    {
     "data": {
      "text/html": [
       "<div>\n",
       "<style scoped>\n",
       "    .dataframe tbody tr th:only-of-type {\n",
       "        vertical-align: middle;\n",
       "    }\n",
       "\n",
       "    .dataframe tbody tr th {\n",
       "        vertical-align: top;\n",
       "    }\n",
       "\n",
       "    .dataframe thead th {\n",
       "        text-align: right;\n",
       "    }\n",
       "</style>\n",
       "<table border=\"1\" class=\"dataframe\">\n",
       "  <thead>\n",
       "    <tr style=\"text-align: right;\">\n",
       "      <th></th>\n",
       "      <th>ResponseId</th>\n",
       "      <th>TargetId</th>\n",
       "      <th>QualtricsId</th>\n",
       "      <th>IPAddress</th>\n",
       "      <th>Latitude</th>\n",
       "      <th>Longitude</th>\n",
       "      <th>StartDate_1</th>\n",
       "      <th>EndDate_1</th>\n",
       "      <th>StartDate_2</th>\n",
       "      <th>EndDate_2</th>\n",
       "      <th>StartDate_3</th>\n",
       "      <th>EndDate_3</th>\n",
       "      <th>Complete</th>\n",
       "      <th>ID</th>\n",
       "      <th>SurveyType</th>\n",
       "      <th>Relationship</th>\n",
       "      <th>Age</th>\n",
       "      <th>Gender</th>\n",
       "      <th>Religion</th>\n",
       "      <th>Duration_1</th>\n",
       "      <th>Duration_2</th>\n",
       "      <th>Duration_3</th>\n",
       "      <th>DurationTotal</th>\n",
       "      <th>guess_1</th>\n",
       "      <th>guess_2</th>\n",
       "      <th>guess_3</th>\n",
       "      <th>FS</th>\n",
       "      <th>BFI_O</th>\n",
       "      <th>BFI_C</th>\n",
       "      <th>BFI_N</th>\n",
       "      <th>BFI_E</th>\n",
       "      <th>BFI_A</th>\n",
       "      <th>PCS9</th>\n",
       "      <th>ERQ10_c</th>\n",
       "      <th>ERQ10_e</th>\n",
       "      <th>ERQ10</th>\n",
       "      <th>RPS</th>\n",
       "      <th>BPAQSF</th>\n",
       "      <th>ADHDRS</th>\n",
       "      <th>NPI16</th>\n",
       "      <th>RFQ_m</th>\n",
       "      <th>RFQ_v</th>\n",
       "      <th>RFQ</th>\n",
       "      <th>LOC13</th>\n",
       "      <th>BPSSR_I</th>\n",
       "      <th>BPSSR_I5</th>\n",
       "      <th>BPSSR_E</th>\n",
       "      <th>BPSSR_Amb</th>\n",
       "      <th>BPSSR</th>\n",
       "      <th>BRCS</th>\n",
       "      <th>CAMSR</th>\n",
       "      <th>CEI</th>\n",
       "      <th>BRS</th>\n",
       "      <th>ZBS</th>\n",
       "      <th>SMS_ams</th>\n",
       "      <th>SMS_seb</th>\n",
       "      <th>SMS</th>\n",
       "      <th>GP5</th>\n",
       "      <th>SOAS</th>\n",
       "      <th>ESS</th>\n",
       "      <th>CR</th>\n",
       "      <th>HEXACO60</th>\n",
       "      <th>NCS6</th>\n",
       "      <th>SAS</th>\n",
       "    </tr>\n",
       "  </thead>\n",
       "  <tbody>\n",
       "    <tr>\n",
       "      <th>1</th>\n",
       "      <td>2</td>\n",
       "      <td>2</td>\n",
       "      <td>R_1MPUDZpgLwIxe1A</td>\n",
       "      <td>175.223.22.95</td>\n",
       "      <td>37.598495</td>\n",
       "      <td>126.978302</td>\n",
       "      <td>3/18/20 11:17</td>\n",
       "      <td>3/18/20 11:25</td>\n",
       "      <td>3/18/20 11:26</td>\n",
       "      <td>3/18/20 11:29</td>\n",
       "      <td>2020/03/18 11:29</td>\n",
       "      <td>2020/03/18 11:32</td>\n",
       "      <td>True</td>\n",
       "      <td>aeri</td>\n",
       "      <td>2</td>\n",
       "      <td>1.0</td>\n",
       "      <td>3.0</td>\n",
       "      <td>M</td>\n",
       "      <td>7.0</td>\n",
       "      <td>501.0</td>\n",
       "      <td>226.0</td>\n",
       "      <td>168.0</td>\n",
       "      <td>895.0</td>\n",
       "      <td>28.0</td>\n",
       "      <td>24.0</td>\n",
       "      <td>18.0</td>\n",
       "      <td>40.0</td>\n",
       "      <td>12.0</td>\n",
       "      <td>12.0</td>\n",
       "      <td>8.0</td>\n",
       "      <td>11.0</td>\n",
       "      <td>9.0</td>\n",
       "      <td>27.0</td>\n",
       "      <td>23.0</td>\n",
       "      <td>8.0</td>\n",
       "      <td>31.0</td>\n",
       "      <td>36.0</td>\n",
       "      <td>25.0</td>\n",
       "      <td>37.0</td>\n",
       "      <td>7.0</td>\n",
       "      <td>18.0</td>\n",
       "      <td>18.0</td>\n",
       "      <td>33.0</td>\n",
       "      <td>8.0</td>\n",
       "      <td>9.0</td>\n",
       "      <td>9.0</td>\n",
       "      <td>11.0</td>\n",
       "      <td>9.0</td>\n",
       "      <td>26.0</td>\n",
       "      <td>13.0</td>\n",
       "      <td>35.0</td>\n",
       "      <td>33.0</td>\n",
       "      <td>18.0</td>\n",
       "      <td>28.0</td>\n",
       "      <td>22.0</td>\n",
       "      <td>17.0</td>\n",
       "      <td>39.0</td>\n",
       "      <td>15.0</td>\n",
       "      <td>60.0</td>\n",
       "      <td>18.0</td>\n",
       "      <td>11.0</td>\n",
       "      <td>27.0</td>\n",
       "      <td>18.0</td>\n",
       "      <td>37.0</td>\n",
       "    </tr>\n",
       "    <tr>\n",
       "      <th>2</th>\n",
       "      <td>3</td>\n",
       "      <td>2</td>\n",
       "      <td>R_29nM2ZnVIpXduHk</td>\n",
       "      <td>183.104.122.33</td>\n",
       "      <td>35.268005</td>\n",
       "      <td>128.839813</td>\n",
       "      <td>3/18/20 10:29</td>\n",
       "      <td>3/18/20 10:42</td>\n",
       "      <td>3/18/20 10:42</td>\n",
       "      <td>3/18/20 11:17</td>\n",
       "      <td>2020/03/18 11:17</td>\n",
       "      <td>2020/03/18 11:24</td>\n",
       "      <td>True</td>\n",
       "      <td>aeri</td>\n",
       "      <td>2</td>\n",
       "      <td>1.0</td>\n",
       "      <td>3.0</td>\n",
       "      <td>M</td>\n",
       "      <td>7.0</td>\n",
       "      <td>792.0</td>\n",
       "      <td>2088.0</td>\n",
       "      <td>395.0</td>\n",
       "      <td>3275.0</td>\n",
       "      <td>31.0</td>\n",
       "      <td>34.0</td>\n",
       "      <td>26.0</td>\n",
       "      <td>50.0</td>\n",
       "      <td>12.0</td>\n",
       "      <td>15.0</td>\n",
       "      <td>4.0</td>\n",
       "      <td>10.0</td>\n",
       "      <td>11.0</td>\n",
       "      <td>19.0</td>\n",
       "      <td>34.0</td>\n",
       "      <td>21.0</td>\n",
       "      <td>55.0</td>\n",
       "      <td>27.0</td>\n",
       "      <td>14.0</td>\n",
       "      <td>20.0</td>\n",
       "      <td>8.0</td>\n",
       "      <td>26.0</td>\n",
       "      <td>25.2</td>\n",
       "      <td>47.0</td>\n",
       "      <td>10.0</td>\n",
       "      <td>3.0</td>\n",
       "      <td>3.6</td>\n",
       "      <td>4.0</td>\n",
       "      <td>4.5</td>\n",
       "      <td>10.0</td>\n",
       "      <td>17.0</td>\n",
       "      <td>40.0</td>\n",
       "      <td>41.0</td>\n",
       "      <td>24.0</td>\n",
       "      <td>18.0</td>\n",
       "      <td>21.0</td>\n",
       "      <td>22.0</td>\n",
       "      <td>43.0</td>\n",
       "      <td>19.0</td>\n",
       "      <td>48.0</td>\n",
       "      <td>15.0</td>\n",
       "      <td>17.0</td>\n",
       "      <td>29.0</td>\n",
       "      <td>25.0</td>\n",
       "      <td>22.0</td>\n",
       "    </tr>\n",
       "    <tr>\n",
       "      <th>4</th>\n",
       "      <td>5</td>\n",
       "      <td>2</td>\n",
       "      <td>R_27NBh3oSecWIT6D</td>\n",
       "      <td>211.224.126.112</td>\n",
       "      <td>35.872299</td>\n",
       "      <td>128.592407</td>\n",
       "      <td>3/18/20 10:19</td>\n",
       "      <td>3/18/20 10:35</td>\n",
       "      <td>3/18/20 10:36</td>\n",
       "      <td>3/18/20 10:46</td>\n",
       "      <td>2020/03/18 10:47</td>\n",
       "      <td>2020/03/18 10:52</td>\n",
       "      <td>True</td>\n",
       "      <td>aeri</td>\n",
       "      <td>2</td>\n",
       "      <td>1.0</td>\n",
       "      <td>2.0</td>\n",
       "      <td>F</td>\n",
       "      <td>7.0</td>\n",
       "      <td>961.0</td>\n",
       "      <td>642.0</td>\n",
       "      <td>300.0</td>\n",
       "      <td>1903.0</td>\n",
       "      <td>40.0</td>\n",
       "      <td>60.0</td>\n",
       "      <td>30.0</td>\n",
       "      <td>48.0</td>\n",
       "      <td>10.0</td>\n",
       "      <td>12.0</td>\n",
       "      <td>7.0</td>\n",
       "      <td>10.0</td>\n",
       "      <td>12.0</td>\n",
       "      <td>33.0</td>\n",
       "      <td>25.0</td>\n",
       "      <td>17.0</td>\n",
       "      <td>42.0</td>\n",
       "      <td>42.0</td>\n",
       "      <td>24.0</td>\n",
       "      <td>38.0</td>\n",
       "      <td>3.0</td>\n",
       "      <td>20.0</td>\n",
       "      <td>26.4</td>\n",
       "      <td>42.0</td>\n",
       "      <td>12.0</td>\n",
       "      <td>5.0</td>\n",
       "      <td>5.4</td>\n",
       "      <td>9.0</td>\n",
       "      <td>6.0</td>\n",
       "      <td>18.0</td>\n",
       "      <td>14.0</td>\n",
       "      <td>36.0</td>\n",
       "      <td>36.0</td>\n",
       "      <td>21.0</td>\n",
       "      <td>21.0</td>\n",
       "      <td>20.0</td>\n",
       "      <td>18.0</td>\n",
       "      <td>38.0</td>\n",
       "      <td>18.0</td>\n",
       "      <td>49.0</td>\n",
       "      <td>20.0</td>\n",
       "      <td>19.0</td>\n",
       "      <td>34.0</td>\n",
       "      <td>19.0</td>\n",
       "      <td>34.0</td>\n",
       "    </tr>\n",
       "    <tr>\n",
       "      <th>11</th>\n",
       "      <td>12</td>\n",
       "      <td>8</td>\n",
       "      <td>R_svqo3ChxV53yEzn</td>\n",
       "      <td>218.51.203.41</td>\n",
       "      <td>37.519806</td>\n",
       "      <td>126.911285</td>\n",
       "      <td>3/17/20 16:11</td>\n",
       "      <td>3/17/20 16:25</td>\n",
       "      <td>2020/03/17 16:25</td>\n",
       "      <td>2020/03/17 16:36</td>\n",
       "      <td>2020/03/17 16:37</td>\n",
       "      <td>2020/03/17 16:41</td>\n",
       "      <td>True</td>\n",
       "      <td>Journey Yoon</td>\n",
       "      <td>2</td>\n",
       "      <td>2.0</td>\n",
       "      <td>2.0</td>\n",
       "      <td>M</td>\n",
       "      <td>7.0</td>\n",
       "      <td>813.0</td>\n",
       "      <td>632.0</td>\n",
       "      <td>264.0</td>\n",
       "      <td>1709.0</td>\n",
       "      <td>6.0</td>\n",
       "      <td>6.0</td>\n",
       "      <td>46.0</td>\n",
       "      <td>44.0</td>\n",
       "      <td>11.0</td>\n",
       "      <td>15.0</td>\n",
       "      <td>10.0</td>\n",
       "      <td>5.0</td>\n",
       "      <td>11.0</td>\n",
       "      <td>24.0</td>\n",
       "      <td>41.0</td>\n",
       "      <td>19.0</td>\n",
       "      <td>60.0</td>\n",
       "      <td>19.0</td>\n",
       "      <td>14.0</td>\n",
       "      <td>22.0</td>\n",
       "      <td>2.0</td>\n",
       "      <td>21.0</td>\n",
       "      <td>20.4</td>\n",
       "      <td>38.0</td>\n",
       "      <td>10.0</td>\n",
       "      <td>12.0</td>\n",
       "      <td>10.8</td>\n",
       "      <td>9.0</td>\n",
       "      <td>9.0</td>\n",
       "      <td>27.0</td>\n",
       "      <td>17.0</td>\n",
       "      <td>25.0</td>\n",
       "      <td>44.0</td>\n",
       "      <td>13.0</td>\n",
       "      <td>21.0</td>\n",
       "      <td>24.0</td>\n",
       "      <td>14.0</td>\n",
       "      <td>38.0</td>\n",
       "      <td>25.0</td>\n",
       "      <td>50.0</td>\n",
       "      <td>9.0</td>\n",
       "      <td>28.0</td>\n",
       "      <td>30.0</td>\n",
       "      <td>28.0</td>\n",
       "      <td>19.0</td>\n",
       "    </tr>\n",
       "    <tr>\n",
       "      <th>14</th>\n",
       "      <td>15</td>\n",
       "      <td>10</td>\n",
       "      <td>R_2QEu7fjDSuE1f39</td>\n",
       "      <td>211.244.151.77</td>\n",
       "      <td>37.576096</td>\n",
       "      <td>126.934387</td>\n",
       "      <td>3/17/20 23:59</td>\n",
       "      <td>3/18/20 0:22</td>\n",
       "      <td>2020/03/18 0:23</td>\n",
       "      <td>2020/03/18 0:44</td>\n",
       "      <td>2020/03/18 0:44</td>\n",
       "      <td>2020/03/18 0:54</td>\n",
       "      <td>True</td>\n",
       "      <td>llama</td>\n",
       "      <td>2</td>\n",
       "      <td>3.0</td>\n",
       "      <td>3.0</td>\n",
       "      <td>F</td>\n",
       "      <td>3.0</td>\n",
       "      <td>1382.0</td>\n",
       "      <td>1252.0</td>\n",
       "      <td>550.0</td>\n",
       "      <td>3184.0</td>\n",
       "      <td>15.0</td>\n",
       "      <td>10.0</td>\n",
       "      <td>10.0</td>\n",
       "      <td>39.0</td>\n",
       "      <td>6.0</td>\n",
       "      <td>10.0</td>\n",
       "      <td>13.0</td>\n",
       "      <td>8.0</td>\n",
       "      <td>12.0</td>\n",
       "      <td>28.0</td>\n",
       "      <td>34.0</td>\n",
       "      <td>12.0</td>\n",
       "      <td>46.0</td>\n",
       "      <td>38.0</td>\n",
       "      <td>27.0</td>\n",
       "      <td>33.0</td>\n",
       "      <td>3.0</td>\n",
       "      <td>21.0</td>\n",
       "      <td>19.2</td>\n",
       "      <td>37.0</td>\n",
       "      <td>10.0</td>\n",
       "      <td>8.0</td>\n",
       "      <td>7.8</td>\n",
       "      <td>9.0</td>\n",
       "      <td>7.5</td>\n",
       "      <td>22.0</td>\n",
       "      <td>15.0</td>\n",
       "      <td>34.0</td>\n",
       "      <td>33.0</td>\n",
       "      <td>14.0</td>\n",
       "      <td>11.0</td>\n",
       "      <td>21.0</td>\n",
       "      <td>20.0</td>\n",
       "      <td>41.0</td>\n",
       "      <td>16.0</td>\n",
       "      <td>46.0</td>\n",
       "      <td>8.0</td>\n",
       "      <td>15.0</td>\n",
       "      <td>27.0</td>\n",
       "      <td>22.0</td>\n",
       "      <td>27.0</td>\n",
       "    </tr>\n",
       "  </tbody>\n",
       "</table>\n",
       "</div>"
      ],
      "text/plain": [
       "    ResponseId  TargetId        QualtricsId        IPAddress   Latitude  \\\n",
       "1            2         2  R_1MPUDZpgLwIxe1A    175.223.22.95  37.598495   \n",
       "2            3         2  R_29nM2ZnVIpXduHk   183.104.122.33  35.268005   \n",
       "4            5         2  R_27NBh3oSecWIT6D  211.224.126.112  35.872299   \n",
       "11          12         8  R_svqo3ChxV53yEzn    218.51.203.41  37.519806   \n",
       "14          15        10  R_2QEu7fjDSuE1f39   211.244.151.77  37.576096   \n",
       "\n",
       "     Longitude    StartDate_1      EndDate_1       StartDate_2  \\\n",
       "1   126.978302  3/18/20 11:17  3/18/20 11:25     3/18/20 11:26   \n",
       "2   128.839813  3/18/20 10:29  3/18/20 10:42     3/18/20 10:42   \n",
       "4   128.592407  3/18/20 10:19  3/18/20 10:35     3/18/20 10:36   \n",
       "11  126.911285  3/17/20 16:11  3/17/20 16:25  2020/03/17 16:25   \n",
       "14  126.934387  3/17/20 23:59   3/18/20 0:22   2020/03/18 0:23   \n",
       "\n",
       "           EndDate_2       StartDate_3         EndDate_3  Complete  \\\n",
       "1      3/18/20 11:29  2020/03/18 11:29  2020/03/18 11:32      True   \n",
       "2      3/18/20 11:17  2020/03/18 11:17  2020/03/18 11:24      True   \n",
       "4      3/18/20 10:46  2020/03/18 10:47  2020/03/18 10:52      True   \n",
       "11  2020/03/17 16:36  2020/03/17 16:37  2020/03/17 16:41      True   \n",
       "14   2020/03/18 0:44   2020/03/18 0:44   2020/03/18 0:54      True   \n",
       "\n",
       "              ID  SurveyType  Relationship  Age Gender  Religion  Duration_1  \\\n",
       "1           aeri           2           1.0  3.0      M       7.0       501.0   \n",
       "2           aeri           2           1.0  3.0      M       7.0       792.0   \n",
       "4           aeri           2           1.0  2.0      F       7.0       961.0   \n",
       "11  Journey Yoon           2           2.0  2.0      M       7.0       813.0   \n",
       "14         llama           2           3.0  3.0      F       3.0      1382.0   \n",
       "\n",
       "    Duration_2  Duration_3  DurationTotal  guess_1  guess_2  guess_3    FS  \\\n",
       "1        226.0       168.0          895.0     28.0     24.0     18.0  40.0   \n",
       "2       2088.0       395.0         3275.0     31.0     34.0     26.0  50.0   \n",
       "4        642.0       300.0         1903.0     40.0     60.0     30.0  48.0   \n",
       "11       632.0       264.0         1709.0      6.0      6.0     46.0  44.0   \n",
       "14      1252.0       550.0         3184.0     15.0     10.0     10.0  39.0   \n",
       "\n",
       "    BFI_O  BFI_C  BFI_N  BFI_E  BFI_A  PCS9  ERQ10_c  ERQ10_e  ERQ10   RPS  \\\n",
       "1    12.0   12.0    8.0   11.0    9.0  27.0     23.0      8.0   31.0  36.0   \n",
       "2    12.0   15.0    4.0   10.0   11.0  19.0     34.0     21.0   55.0  27.0   \n",
       "4    10.0   12.0    7.0   10.0   12.0  33.0     25.0     17.0   42.0  42.0   \n",
       "11   11.0   15.0   10.0    5.0   11.0  24.0     41.0     19.0   60.0  19.0   \n",
       "14    6.0   10.0   13.0    8.0   12.0  28.0     34.0     12.0   46.0  38.0   \n",
       "\n",
       "    BPAQSF  ADHDRS  NPI16  RFQ_m  RFQ_v   RFQ  LOC13  BPSSR_I  BPSSR_I5  \\\n",
       "1     25.0    37.0    7.0   18.0   18.0  33.0    8.0      9.0       9.0   \n",
       "2     14.0    20.0    8.0   26.0   25.2  47.0   10.0      3.0       3.6   \n",
       "4     24.0    38.0    3.0   20.0   26.4  42.0   12.0      5.0       5.4   \n",
       "11    14.0    22.0    2.0   21.0   20.4  38.0   10.0     12.0      10.8   \n",
       "14    27.0    33.0    3.0   21.0   19.2  37.0   10.0      8.0       7.8   \n",
       "\n",
       "    BPSSR_E  BPSSR_Amb  BPSSR  BRCS  CAMSR   CEI   BRS   ZBS  SMS_ams  \\\n",
       "1      11.0        9.0   26.0  13.0   35.0  33.0  18.0  28.0     22.0   \n",
       "2       4.0        4.5   10.0  17.0   40.0  41.0  24.0  18.0     21.0   \n",
       "4       9.0        6.0   18.0  14.0   36.0  36.0  21.0  21.0     20.0   \n",
       "11      9.0        9.0   27.0  17.0   25.0  44.0  13.0  21.0     24.0   \n",
       "14      9.0        7.5   22.0  15.0   34.0  33.0  14.0  11.0     21.0   \n",
       "\n",
       "    SMS_seb   SMS   GP5  SOAS   ESS    CR  HEXACO60  NCS6   SAS  \n",
       "1      17.0  39.0  15.0  60.0  18.0  11.0      27.0  18.0  37.0  \n",
       "2      22.0  43.0  19.0  48.0  15.0  17.0      29.0  25.0  22.0  \n",
       "4      18.0  38.0  18.0  49.0  20.0  19.0      34.0  19.0  34.0  \n",
       "11     14.0  38.0  25.0  50.0   9.0  28.0      30.0  28.0  19.0  \n",
       "14     20.0  41.0  16.0  46.0   8.0  15.0      27.0  22.0  27.0  "
      ]
     },
     "execution_count": 8,
     "metadata": {},
     "output_type": "execute_result"
    }
   ],
   "source": [
    "data.head()"
   ]
  },
  {
   "cell_type": "code",
   "execution_count": 9,
   "metadata": {},
   "outputs": [
    {
     "name": "stdout",
     "output_type": "stream",
     "text": [
      "<class 'pandas.core.frame.DataFrame'>\n",
      "Int64Index: 30 entries, 1 to 89\n",
      "Data columns (total 64 columns):\n",
      " #   Column         Non-Null Count  Dtype  \n",
      "---  ------         --------------  -----  \n",
      " 0   ResponseId     30 non-null     int64  \n",
      " 1   TargetId       30 non-null     int64  \n",
      " 2   QualtricsId    30 non-null     object \n",
      " 3   IPAddress      30 non-null     object \n",
      " 4   Latitude       30 non-null     float64\n",
      " 5   Longitude      30 non-null     float64\n",
      " 6   StartDate_1    30 non-null     object \n",
      " 7   EndDate_1      30 non-null     object \n",
      " 8   StartDate_2    30 non-null     object \n",
      " 9   EndDate_2      30 non-null     object \n",
      " 10  StartDate_3    30 non-null     object \n",
      " 11  EndDate_3      30 non-null     object \n",
      " 12  Complete       30 non-null     bool   \n",
      " 13  ID             30 non-null     object \n",
      " 14  SurveyType     30 non-null     int64  \n",
      " 15  Relationship   30 non-null     float64\n",
      " 16  Age            30 non-null     float64\n",
      " 17  Gender         30 non-null     object \n",
      " 18  Religion       30 non-null     float64\n",
      " 19  Duration_1     30 non-null     float64\n",
      " 20  Duration_2     30 non-null     float64\n",
      " 21  Duration_3     30 non-null     float64\n",
      " 22  DurationTotal  30 non-null     float64\n",
      " 23  guess_1        30 non-null     float64\n",
      " 24  guess_2        30 non-null     float64\n",
      " 25  guess_3        30 non-null     float64\n",
      " 26  FS             30 non-null     float64\n",
      " 27  BFI_O          30 non-null     float64\n",
      " 28  BFI_C          30 non-null     float64\n",
      " 29  BFI_N          30 non-null     float64\n",
      " 30  BFI_E          30 non-null     float64\n",
      " 31  BFI_A          30 non-null     float64\n",
      " 32  PCS9           30 non-null     float64\n",
      " 33  ERQ10_c        30 non-null     float64\n",
      " 34  ERQ10_e        30 non-null     float64\n",
      " 35  ERQ10          30 non-null     float64\n",
      " 36  RPS            30 non-null     float64\n",
      " 37  BPAQSF         30 non-null     float64\n",
      " 38  ADHDRS         30 non-null     float64\n",
      " 39  NPI16          30 non-null     float64\n",
      " 40  RFQ_m          30 non-null     float64\n",
      " 41  RFQ_v          30 non-null     float64\n",
      " 42  RFQ            30 non-null     float64\n",
      " 43  LOC13          30 non-null     float64\n",
      " 44  BPSSR_I        30 non-null     float64\n",
      " 45  BPSSR_I5       30 non-null     float64\n",
      " 46  BPSSR_E        30 non-null     float64\n",
      " 47  BPSSR_Amb      30 non-null     float64\n",
      " 48  BPSSR          30 non-null     float64\n",
      " 49  BRCS           30 non-null     float64\n",
      " 50  CAMSR          30 non-null     float64\n",
      " 51  CEI            30 non-null     float64\n",
      " 52  BRS            30 non-null     float64\n",
      " 53  ZBS            30 non-null     float64\n",
      " 54  SMS_ams        30 non-null     float64\n",
      " 55  SMS_seb        30 non-null     float64\n",
      " 56  SMS            30 non-null     float64\n",
      " 57  GP5            30 non-null     float64\n",
      " 58  SOAS           30 non-null     float64\n",
      " 59  ESS            30 non-null     float64\n",
      " 60  CR             30 non-null     float64\n",
      " 61  HEXACO60       30 non-null     float64\n",
      " 62  NCS6           30 non-null     float64\n",
      " 63  SAS            30 non-null     float64\n",
      "dtypes: bool(1), float64(50), int64(3), object(10)\n",
      "memory usage: 15.0+ KB\n"
     ]
    }
   ],
   "source": [
    "data.info()"
   ]
  },
  {
   "cell_type": "code",
   "execution_count": 10,
   "metadata": {},
   "outputs": [],
   "source": [
    "X = data.iloc[:,26:64].drop(['ADHDRS'], axis=1)\n",
    "# X = data.iloc[:,26:63].drop(['RFQ', 'RFQ_m', 'RFQ_v'], axis=1)\n",
    "# X = data.iloc[:,26:63].drop(['BFI_O'], axis=1)\n",
    "# X = data.iloc[:,26:63].drop(['PCS9'], axis=1)\n",
    "# X = data.iloc[:,26:63].drop(['FS'], axis=1)\n",
    "# X = data.iloc[:,26:63].drop(['HEXACO60'], axis=1)\n",
    "# X = data.iloc[:,26:63].drop(['BFI_O'], axis=1)\n",
    "X = X.drop(['RFQ', 'RFQ_m', 'RFQ_v', 'BPSSR_I', 'BPSSR_I5', 'BPSSR_E', 'BPSSR_Amb', \"ERQ10_e\", \"ERQ10_c\", \"SMS\"], axis=1)\n",
    "x = X.to_numpy() # np array"
   ]
  },
  {
   "cell_type": "code",
   "execution_count": 11,
   "metadata": {},
   "outputs": [],
   "source": [
    "y = data['ADHDRS']\n",
    "# y = data['BPSSR']\n",
    "# y = data['RFQ_m']\n",
    "# y = data['BFI_O']\n",
    "# y = data['PCS9']\n",
    "# y = data['FS']\n",
    "# y = data['HEXACO60']\n",
    "# y = data['BFI_O']"
   ]
  },
  {
   "cell_type": "code",
   "execution_count": 12,
   "metadata": {},
   "outputs": [],
   "source": [
    "x_train, x_test , y_train, y_test = train_test_split(x, y, test_size=0.5, random_state=1)"
   ]
  },
  {
   "cell_type": "code",
   "execution_count": 13,
   "metadata": {},
   "outputs": [],
   "source": [
    "alphas = 10**np.linspace(3,-3,100)*0.5"
   ]
  },
  {
   "cell_type": "code",
   "execution_count": 14,
   "metadata": {},
   "outputs": [],
   "source": [
    "ridge = Ridge(fit_intercept=True, normalize=True)\n",
    "coefs = []\n",
    "errors = []\n",
    "\n",
    "for a in alphas:\n",
    "    ridge.set_params(alpha = a)\n",
    "    ridge.fit(x_train, y_train)\n",
    "    pred = ridge.predict(x_test)\n",
    "    coefs.append(pd.Series(ridge.coef_, index = X.columns))\n",
    "    errors.append(mean_squared_error(y_test, pred))"
   ]
  },
  {
   "cell_type": "code",
   "execution_count": 15,
   "metadata": {},
   "outputs": [
    {
     "data": {
      "text/plain": [
       "Text(0.5, 1.0, 'Ridge')"
      ]
     },
     "execution_count": 15,
     "metadata": {},
     "output_type": "execute_result"
    },
    {
     "data": {
      "image/png": "[encoded data removed]",
      "text/plain": [
       "<Figure size 432x288 with 1 Axes>"
      ]
     },
     "metadata": {
      "needs_background": "light"
     },
     "output_type": "display_data"
    }
   ],
   "source": [
    "ax = plt.gca()\n",
    "ax.plot(alphas, coefs)\n",
    "ax.set_xscale('log')\n",
    "plt.axis('tight')\n",
    "plt.xlabel('lambda')\n",
    "plt.ylabel('coefficients')\n",
    "plt.title('Ridge')"
   ]
  },
  {
   "cell_type": "code",
   "execution_count": 16,
   "metadata": {},
   "outputs": [
    {
     "data": {
      "text/plain": [
       "Text(0.5, 1.0, 'Ridge')"
      ]
     },
     "execution_count": 16,
     "metadata": {},
     "output_type": "execute_result"
    },
    {
     "data": {
      "image/png": "[encoded data removed]",
      "text/plain": [
       "<Figure size 432x288 with 1 Axes>"
      ]
     },
     "metadata": {
      "needs_background": "light"
     },
     "output_type": "display_data"
    }
   ],
   "source": [
    "ax = plt.gca()\n",
    "ax.plot(alphas, errors)\n",
    "ax.set_xscale('log')\n",
    "plt.axis('tight')\n",
    "plt.xlabel('lambda')\n",
    "plt.ylabel('mean squared error')\n",
    "plt.title('Ridge')"
   ]
  },
  {
   "cell_type": "code",
   "execution_count": 17,
   "metadata": {},
   "outputs": [
    {
     "data": {
      "text/plain": [
       "FS         -0.003537\n",
       "BFI_O      -0.012571\n",
       "BFI_C      -0.246137\n",
       "BFI_N      -0.009145\n",
       "BFI_E       0.302806\n",
       "BFI_A       0.079287\n",
       "PCS9        0.082348\n",
       "ERQ10      -0.036783\n",
       "RPS         0.032476\n",
       "BPAQSF      0.102873\n",
       "NPI16       0.196553\n",
       "LOC13       0.011494\n",
       "BPSSR       0.053455\n",
       "BRCS       -0.006576\n",
       "CAMSR      -0.122947\n",
       "CEI        -0.025605\n",
       "BRS         0.020775\n",
       "ZBS         0.173196\n",
       "SMS_ams    -0.071433\n",
       "SMS_seb    -0.051559\n",
       "GP5         0.043011\n",
       "SOAS       -0.004541\n",
       "ESS         0.028426\n",
       "CR         -0.089621\n",
       "HEXACO60   -0.068830\n",
       "NCS6       -0.021087\n",
       "SAS         0.120508\n",
       "dtype: float64"
      ]
     },
     "execution_count": 17,
     "metadata": {},
     "output_type": "execute_result"
    }
   ],
   "source": [
    "ridgecv = RidgeCV(alphas = alphas, scoring = 'neg_mean_squared_error', fit_intercept=True, normalize=True)\n",
    "ridgecv.fit(x_train, y_train)\n",
    "ridgecv.alpha_\n",
    "\n",
    "ridge_fit = Ridge(alpha = ridgecv.alpha_, normalize = True)\n",
    "ridge_fit.fit(x_train, y_train)\n",
    "mean_squared_error(y_test, ridge_fit.predict(x_test))\n",
    "\n",
    "ridge_fit.fit(x, y)\n",
    "pd.Series(ridge_fit.coef_, index = X.columns)"
   ]
  },
  {
   "cell_type": "code",
   "execution_count": 18,
   "metadata": {},
   "outputs": [
    {
     "data": {
      "text/plain": [
       "3.2896661232878412"
      ]
     },
     "execution_count": 18,
     "metadata": {},
     "output_type": "execute_result"
    }
   ],
   "source": [
    "ridgecv = RidgeCV(alphas = alphas, scoring = 'neg_mean_squared_error', fit_intercept=True, store_cv_values = True, normalize=True)\n",
    "ridgecv.fit(x_train, y_train)\n",
    "ridgecv.alpha_"
   ]
  },
  {
   "cell_type": "code",
   "execution_count": 19,
   "metadata": {},
   "outputs": [
    {
     "data": {
      "text/plain": [
       "141.44289955609548"
      ]
     },
     "execution_count": 19,
     "metadata": {},
     "output_type": "execute_result"
    }
   ],
   "source": [
    "ridge_fit = Ridge(alpha = ridgecv.alpha_, normalize=True)\n",
    "ridge_fit.fit(x_train, y_train)\n",
    "mean_squared_error(y_test, ridge_fit.predict(x_test))"
   ]
  },
  {
   "cell_type": "code",
   "execution_count": 20,
   "metadata": {},
   "outputs": [
    {
     "data": {
      "text/plain": [
       "FS         -0.003537\n",
       "BFI_O      -0.012571\n",
       "BFI_C      -0.246137\n",
       "BFI_N      -0.009145\n",
       "BFI_E       0.302806\n",
       "BFI_A       0.079287\n",
       "PCS9        0.082348\n",
       "ERQ10      -0.036783\n",
       "RPS         0.032476\n",
       "BPAQSF      0.102873\n",
       "NPI16       0.196553\n",
       "LOC13       0.011494\n",
       "BPSSR       0.053455\n",
       "BRCS       -0.006576\n",
       "CAMSR      -0.122947\n",
       "CEI        -0.025605\n",
       "BRS         0.020775\n",
       "ZBS         0.173196\n",
       "SMS_ams    -0.071433\n",
       "SMS_seb    -0.051559\n",
       "GP5         0.043011\n",
       "SOAS       -0.004541\n",
       "ESS         0.028426\n",
       "CR         -0.089621\n",
       "HEXACO60   -0.068830\n",
       "NCS6       -0.021087\n",
       "SAS         0.120508\n",
       "dtype: float64"
      ]
     },
     "execution_count": 20,
     "metadata": {},
     "output_type": "execute_result"
    }
   ],
   "source": [
    "ridge_fit.fit(x, y)\n",
    "pd.Series(ridge_fit.coef_, index = X.columns)"
   ]
  },
  {
   "cell_type": "code",
   "execution_count": 21,
   "metadata": {},
   "outputs": [
    {
     "name": "stdout",
     "output_type": "stream",
     "text": [
      "conscientiousness\n",
      "extraversion\n",
      "narcissism\n",
      "mindfulness\n",
      "boredom_susceptibility\n"
     ]
    }
   ],
   "source": [
    "print(labels['BFI_C'][0])\n",
    "print(labels['BFI_E'][0])\n",
    "print(labels['NPI16'][0])\n",
    "print(labels['CAMSR'][0])\n",
    "print(labels['ZBS'][0])"
   ]
  },
  {
   "cell_type": "code",
   "execution_count": 22,
   "metadata": {},
   "outputs": [
    {
     "data": {
      "text/plain": [
       "Text(0.5, 1.0, 'Ridge CV')"
      ]
     },
     "execution_count": 22,
     "metadata": {},
     "output_type": "execute_result"
    },
    {
     "data": {
      "image/png": "[encoded data removed]",
      "text/plain": [
       "<Figure size 432x288 with 1 Axes>"
      ]
     },
     "metadata": {
      "needs_background": "light"
     },
     "output_type": "display_data"
    }
   ],
   "source": [
    "ax = plt.gca()\n",
    "ax.plot(alphas, ridgecv.cv_values_.mean(axis=0))\n",
    "ax.set_xscale('log')\n",
    "ax.axvline(x=ridgecv.alpha_, color='r')\n",
    "plt.axis('tight')\n",
    "plt.xlabel('lambda')\n",
    "plt.ylabel('mean squared error')\n",
    "plt.title('Ridge CV')"
   ]
  },
  {
   "cell_type": "code",
   "execution_count": 23,
   "metadata": {},
   "outputs": [],
   "source": [
    "lasso = Lasso(max_iter = 10000, normalize = True)\n",
    "coefs = []\n",
    "\n",
    "for a in alphas:\n",
    "    lasso.set_params(alpha=a)\n",
    "    lasso.fit(scale(x_train), y_train)\n",
    "    coefs.append(lasso.coef_)"
   ]
  },
  {
   "cell_type": "code",
   "execution_count": 24,
   "metadata": {},
   "outputs": [
    {
     "data": {
      "text/plain": [
       "Text(0.5, 1.0, 'Lasso')"
      ]
     },
     "execution_count": 24,
     "metadata": {},
     "output_type": "execute_result"
    },
    {
     "data": {
      "image/png": "[encoded data removed]",
      "text/plain": [
       "<Figure size 432x288 with 1 Axes>"
      ]
     },
     "metadata": {
      "needs_background": "light"
     },
     "output_type": "display_data"
    }
   ],
   "source": [
    "ax = plt.gca()\n",
    "ax.plot(alphas, coefs)\n",
    "ax.set_xscale('log')\n",
    "plt.axis('tight')\n",
    "plt.xlabel('lambda')\n",
    "plt.ylabel('coefficients')\n",
    "plt.title('Lasso')"
   ]
  },
  {
   "cell_type": "code",
   "execution_count": 28,
   "metadata": {},
   "outputs": [
    {
     "data": {
      "text/plain": [
       "0.6697555285257556"
      ]
     },
     "execution_count": 28,
     "metadata": {},
     "output_type": "execute_result"
    }
   ],
   "source": [
    "lassocv = LassoCV(alphas = None, cv = 10, max_iter = 100000, normalize = True)\n",
    "lassocv.fit(x_train, y_train)\n",
    "lassocv.alpha_"
   ]
  },
  {
   "cell_type": "code",
   "execution_count": 29,
   "metadata": {},
   "outputs": [
    {
     "data": {
      "text/plain": [
       "135.54336063535254"
      ]
     },
     "execution_count": 29,
     "metadata": {},
     "output_type": "execute_result"
    }
   ],
   "source": [
    "lasso.set_params(alpha=lassocv.alpha_)\n",
    "lasso.fit(x_train, y_train)\n",
    "mean_squared_error(y_test, lasso.predict(x_test))"
   ]
  },
  {
   "cell_type": "code",
   "execution_count": 26,
   "metadata": {},
   "outputs": [
    {
     "data": {
      "text/plain": [
       "FS          0.000000\n",
       "BFI_O      -0.000000\n",
       "BFI_C      -0.801979\n",
       "BFI_N      -0.000000\n",
       "BFI_E      -0.000000\n",
       "BFI_A      -0.000000\n",
       "PCS9        0.000000\n",
       "ERQ10      -0.000000\n",
       "RPS        -0.000000\n",
       "BPAQSF      0.000000\n",
       "NPI16       0.000000\n",
       "LOC13      -0.000000\n",
       "BPSSR       0.225726\n",
       "BRCS       -0.000000\n",
       "CAMSR      -0.341588\n",
       "CEI        -0.000000\n",
       "BRS        -0.000000\n",
       "ZBS         0.018827\n",
       "SMS_ams     0.000000\n",
       "SMS_seb    -0.000000\n",
       "GP5         0.000000\n",
       "SOAS        0.000000\n",
       "ESS        -0.000000\n",
       "CR         -0.000000\n",
       "HEXACO60   -0.000000\n",
       "NCS6       -0.000000\n",
       "SAS         0.017789\n",
       "dtype: float64"
      ]
     },
     "execution_count": 26,
     "metadata": {},
     "output_type": "execute_result"
    }
   ],
   "source": [
    "pd.Series(lasso.coef_, index=X.columns)"
   ]
  },
  {
   "cell_type": "code",
   "execution_count": 27,
   "metadata": {},
   "outputs": [
    {
     "name": "stdout",
     "output_type": "stream",
     "text": [
      "conscientiousness\n",
      "boredom_proneness\n",
      "mindfulness\n",
      "boredom_susceptibility\n"
     ]
    }
   ],
   "source": [
    "print(labels['BFI_C'][0])\n",
    "print(labels['BPSSR'][0])\n",
    "print(labels['CAMSR'][0])\n",
    "print(labels['ZBS'][0])"
   ]
  },
  {
   "cell_type": "code",
   "execution_count": null,
   "metadata": {},
   "outputs": [],
   "source": []
  }
 ],
 "metadata": {
  "kernelspec": {
   "display_name": "Python 3",
   "language": "python",
   "name": "python3"
  },
  "language_info": {
   "codemirror_mode": {
    "name": "ipython",
    "version": 3
   },
   "file_extension": ".py",
   "mimetype": "text/x-python",
   "name": "python",
   "nbconvert_exporter": "python",
   "pygments_lexer": "ipython3",
   "version": "3.7.7"
  }
 },
 "nbformat": 4,
 "nbformat_minor": 4
}
