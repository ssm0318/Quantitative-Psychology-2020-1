{
 "cells": [
  {
   "cell_type": "code",
   "execution_count": null,
   "metadata": {},
   "outputs": [],
   "source": [
    "# Start with loading all necessary libraries\n",
    "import numpy as np\n",
    "import pandas as pd\n",
    "from os import path\n",
    "from PIL import Image\n",
    "from wordcloud import WordCloud, STOPWORDS, ImageColorGenerator\n",
    "import PyPDF2\n",
    "import os\n",
    "import textract\n",
    "from konlpy.tag import *\n",
    "from collections import Counter\n",
    "import pdfplumber\n",
    "import matplotlib\n",
    "import matplotlib.pyplot as plt\n",
    "import nltk\n",
    "from nltk.corpus import stopwords\n",
    "%matplotlib inline"
   ]
  },
  {
   "cell_type": "code",
   "execution_count": null,
   "metadata": {},
   "outputs": [],
   "source": [
    "from IPython.display import set_matplotlib_formats\n",
    "matplotlib.rc('font',family = 'Malgun Gothic')\n",
    "set_matplotlib_formats('retina')\n",
    "matplotlib.rc('axes',unicode_minus = False)"
   ]
  },
  {
   "cell_type": "code",
   "execution_count": null,
   "metadata": {},
   "outputs": [],
   "source": [
    "twitter = Okt()\n",
    "\n",
    "path = \"C:/Users/kleen/Documents/qpsy/data_edueval/\"\n",
    "\n",
    "morphs = []\n",
    "\n",
    "for fp in os.listdir(path):\n",
    "    with pdfplumber.open(os.path.join(path, fp)) as pdf:\n",
    "        reader = PyPDF2.PdfFileReader(open(os.path.join(path, fp), \"rb\"))\n",
    "        for i in range(reader.getNumPages()):\n",
    "            page = pdf.pages[i]\n",
    "            text = page.extract_text()\n",
    "            morphs.append(twitter.pos(text))"
   ]
  },
  {
   "cell_type": "code",
   "execution_count": null,
   "metadata": {},
   "outputs": [],
   "source": [
    "noun_adj_adv_list=[]\n",
    " \n",
    "for sentence in morphs :\n",
    "    for word, tag in sentence :\n",
    "        if tag in ['Noun'] and (\"것\" not in word) and (\"내\" not in word)and (\"나\" not in word)and (\"수\"not in word) and(\"게\"not in word)and(\"말\"not in word):\n",
    "            noun_adj_adv_list.append(word)\n",
    "            \n",
    "# print(noun_adj_adv_list)"
   ]
  },
  {
   "cell_type": "code",
   "execution_count": null,
   "metadata": {},
   "outputs": [],
   "source": [
    "count = Counter(noun_adj_adv_list)\n",
    "words = dict(count.most_common())\n",
    "# words"
   ]
  },
  {
   "cell_type": "code",
   "execution_count": null,
   "metadata": {},
   "outputs": [],
   "source": [
    "# print(morphs)"
   ]
  },
  {
   "cell_type": "code",
   "execution_count": null,
   "metadata": {},
   "outputs": [],
   "source": [
    "wordcloud = WordCloud(font_path = 'C:/Windows/Fonts/malgun.ttf', background_color='white',colormap = \"Accent_r\",\n",
    "                      width=1500, height=1000).generate_from_frequencies(words)\n",
    "\n",
    "plt.imshow(wordcloud)\n",
    "plt.axis('off')\n",
    "plt.show()"
   ]
  },
  {
   "cell_type": "code",
   "execution_count": null,
   "metadata": {},
   "outputs": [],
   "source": []
  }
 ],
 "metadata": {
  "kernelspec": {
   "display_name": "Python 3",
   "language": "python",
   "name": "python3"
  },
  "language_info": {
   "codemirror_mode": {
    "name": "ipython",
    "version": 3
   },
   "file_extension": ".py",
   "mimetype": "text/x-python",
   "name": "python",
   "nbconvert_exporter": "python",
   "pygments_lexer": "ipython3",
   "version": "3.7.6"
  }
 },
 "nbformat": 4,
 "nbformat_minor": 4
}
