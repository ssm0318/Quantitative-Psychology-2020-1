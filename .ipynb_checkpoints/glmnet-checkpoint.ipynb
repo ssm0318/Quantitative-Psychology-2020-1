{
 "cells": [
  {
   "cell_type": "code",
   "execution_count": 1,
   "metadata": {},
   "outputs": [],
   "source": [
    "# reference: http://www.science.smith.edu/~jcrouser/SDS293/labs/lab10-py.html"
   ]
  },
  {
   "cell_type": "code",
   "execution_count": 33,
   "metadata": {},
   "outputs": [],
   "source": [
    "from matplotlib.pylab import rcParams\n",
    "rcParams['figure.figsize'] = 8, 5\n",
    "import pandas as pd\n",
    "import numpy as np\n",
    "from sklearn.preprocessing import scale \n",
    "from sklearn.model_selection import train_test_split\n",
    "from sklearn.linear_model import Ridge, RidgeCV, Lasso, LassoCV\n",
    "from sklearn.metrics import mean_squared_error\n",
    "import matplotlib.pyplot as plt\n",
    "\n",
    "%matplotlib inline"
   ]
  },
  {
   "cell_type": "code",
   "execution_count": 5,
   "metadata": {},
   "outputs": [],
   "source": [
    "pd.set_option('display.max_rows', 500)\n",
    "pd.set_option('display.max_columns', 500)"
   ]
  },
  {
   "cell_type": "code",
   "execution_count": 6,
   "metadata": {},
   "outputs": [],
   "source": [
    "data = pd.read_csv('OnlineNewsPopularity.csv')"
   ]
  },
  {
   "cell_type": "code",
   "execution_count": 15,
   "metadata": {},
   "outputs": [
    {
     "name": "stdout",
     "output_type": "stream",
     "text": [
      "<class 'pandas.core.frame.DataFrame'>\n",
      "RangeIndex: 39644 entries, 0 to 39643\n",
      "Data columns (total 61 columns):\n",
      " #   Column                          Non-Null Count  Dtype  \n",
      "---  ------                          --------------  -----  \n",
      " 0   url                             39644 non-null  object \n",
      " 1    timedelta                      39644 non-null  float64\n",
      " 2    n_tokens_title                 39644 non-null  float64\n",
      " 3    n_tokens_content               39644 non-null  float64\n",
      " 4    n_unique_tokens                39644 non-null  float64\n",
      " 5    n_non_stop_words               39644 non-null  float64\n",
      " 6    n_non_stop_unique_tokens       39644 non-null  float64\n",
      " 7    num_hrefs                      39644 non-null  float64\n",
      " 8    num_self_hrefs                 39644 non-null  float64\n",
      " 9    num_imgs                       39644 non-null  float64\n",
      " 10   num_videos                     39644 non-null  float64\n",
      " 11   average_token_length           39644 non-null  float64\n",
      " 12   num_keywords                   39644 non-null  float64\n",
      " 13   data_channel_is_lifestyle      39644 non-null  float64\n",
      " 14   data_channel_is_entertainment  39644 non-null  float64\n",
      " 15   data_channel_is_bus            39644 non-null  float64\n",
      " 16   data_channel_is_socmed         39644 non-null  float64\n",
      " 17   data_channel_is_tech           39644 non-null  float64\n",
      " 18   data_channel_is_world          39644 non-null  float64\n",
      " 19   kw_min_min                     39644 non-null  float64\n",
      " 20   kw_max_min                     39644 non-null  float64\n",
      " 21   kw_avg_min                     39644 non-null  float64\n",
      " 22   kw_min_max                     39644 non-null  float64\n",
      " 23   kw_max_max                     39644 non-null  float64\n",
      " 24   kw_avg_max                     39644 non-null  float64\n",
      " 25   kw_min_avg                     39644 non-null  float64\n",
      " 26   kw_max_avg                     39644 non-null  float64\n",
      " 27   kw_avg_avg                     39644 non-null  float64\n",
      " 28   self_reference_min_shares      39644 non-null  float64\n",
      " 29   self_reference_max_shares      39644 non-null  float64\n",
      " 30   self_reference_avg_sharess     39644 non-null  float64\n",
      " 31   weekday_is_monday              39644 non-null  float64\n",
      " 32   weekday_is_tuesday             39644 non-null  float64\n",
      " 33   weekday_is_wednesday           39644 non-null  float64\n",
      " 34   weekday_is_thursday            39644 non-null  float64\n",
      " 35   weekday_is_friday              39644 non-null  float64\n",
      " 36   weekday_is_saturday            39644 non-null  float64\n",
      " 37   weekday_is_sunday              39644 non-null  float64\n",
      " 38   is_weekend                     39644 non-null  float64\n",
      " 39   LDA_00                         39644 non-null  float64\n",
      " 40   LDA_01                         39644 non-null  float64\n",
      " 41   LDA_02                         39644 non-null  float64\n",
      " 42   LDA_03                         39644 non-null  float64\n",
      " 43   LDA_04                         39644 non-null  float64\n",
      " 44   global_subjectivity            39644 non-null  float64\n",
      " 45   global_sentiment_polarity      39644 non-null  float64\n",
      " 46   global_rate_positive_words     39644 non-null  float64\n",
      " 47   global_rate_negative_words     39644 non-null  float64\n",
      " 48   rate_positive_words            39644 non-null  float64\n",
      " 49   rate_negative_words            39644 non-null  float64\n",
      " 50   avg_positive_polarity          39644 non-null  float64\n",
      " 51   min_positive_polarity          39644 non-null  float64\n",
      " 52   max_positive_polarity          39644 non-null  float64\n",
      " 53   avg_negative_polarity          39644 non-null  float64\n",
      " 54   min_negative_polarity          39644 non-null  float64\n",
      " 55   max_negative_polarity          39644 non-null  float64\n",
      " 56   title_subjectivity             39644 non-null  float64\n",
      " 57   title_sentiment_polarity       39644 non-null  float64\n",
      " 58   abs_title_subjectivity         39644 non-null  float64\n",
      " 59   abs_title_sentiment_polarity   39644 non-null  float64\n",
      " 60   shares                         39644 non-null  int64  \n",
      "dtypes: float64(59), int64(1), object(1)\n",
      "memory usage: 18.5+ MB\n"
     ]
    }
   ],
   "source": [
    "data.head()"
   ]
  },
  {
   "cell_type": "code",
   "execution_count": 8,
   "metadata": {},
   "outputs": [
    {
     "data": {
      "text/plain": [
       "(39644, 61)"
      ]
     },
     "execution_count": 8,
     "metadata": {},
     "output_type": "execute_result"
    }
   ],
   "source": [
    "data.info()"
   ]
  },
  {
   "cell_type": "code",
   "execution_count": 29,
   "metadata": {},
   "outputs": [],
   "source": [
    "x = data.iloc[:,2:60].to_numpy() # np array\n",
    "X = data.iloc[:,2:60] # df"
   ]
  },
  {
   "cell_type": "code",
   "execution_count": 11,
   "metadata": {},
   "outputs": [],
   "source": [
    "y = data.iloc[:,60]"
   ]
  },
  {
   "cell_type": "code",
   "execution_count": 16,
   "metadata": {},
   "outputs": [],
   "source": [
    "alphas = 10**np.linspace(10,-2,100)*0.5"
   ]
  },
  {
   "cell_type": "code",
   "execution_count": 18,
   "metadata": {},
   "outputs": [
    {
     "data": {
      "text/plain": [
       "(100, 58)"
      ]
     },
     "execution_count": 18,
     "metadata": {},
     "output_type": "execute_result"
    }
   ],
   "source": [
    "ridge = Ridge(normalize = True)\n",
    "coefs = []\n",
    "\n",
    "for a in alphas:\n",
    "    ridge.set_params(alpha = a)\n",
    "    ridge.fit(x, y)\n",
    "    coefs.append(ridge.coef_)\n",
    "    \n",
    "np.shape(coefs)"
   ]
  },
  {
   "cell_type": "code",
   "execution_count": 34,
   "metadata": {},
   "outputs": [
    {
     "ename": "TypeError",
     "evalue": "only size-1 arrays can be converted to Python scalars",
     "output_type": "error",
     "traceback": [
      "\u001b[0;31m---------------------------------------------------------------------------\u001b[0m",
      "\u001b[0;31mTypeError\u001b[0m                                 Traceback (most recent call last)",
      "\u001b[0;32m<ipython-input-34-b0dfd744737c>\u001b[0m in \u001b[0;36m<module>\u001b[0;34m\u001b[0m\n\u001b[1;32m      1\u001b[0m \u001b[0max\u001b[0m \u001b[0;34m=\u001b[0m \u001b[0mplt\u001b[0m\u001b[0;34m.\u001b[0m\u001b[0mgca\u001b[0m\u001b[0;34m(\u001b[0m\u001b[0;34m)\u001b[0m\u001b[0;34m\u001b[0m\u001b[0;34m\u001b[0m\u001b[0m\n\u001b[0;32m----> 2\u001b[0;31m \u001b[0max\u001b[0m\u001b[0;34m.\u001b[0m\u001b[0mplot\u001b[0m\u001b[0;34m(\u001b[0m\u001b[0mmath\u001b[0m\u001b[0;34m.\u001b[0m\u001b[0mlog\u001b[0m\u001b[0;34m(\u001b[0m\u001b[0malphas\u001b[0m\u001b[0;34m)\u001b[0m\u001b[0;34m,\u001b[0m \u001b[0mcoefs\u001b[0m\u001b[0;34m)\u001b[0m\u001b[0;34m\u001b[0m\u001b[0;34m\u001b[0m\u001b[0m\n\u001b[0m\u001b[1;32m      3\u001b[0m \u001b[0max\u001b[0m\u001b[0;34m.\u001b[0m\u001b[0mset_xscale\u001b[0m\u001b[0;34m(\u001b[0m\u001b[0;34m'log'\u001b[0m\u001b[0;34m)\u001b[0m\u001b[0;34m\u001b[0m\u001b[0;34m\u001b[0m\u001b[0m\n\u001b[1;32m      4\u001b[0m \u001b[0mplt\u001b[0m\u001b[0;34m.\u001b[0m\u001b[0maxis\u001b[0m\u001b[0;34m(\u001b[0m\u001b[0;34m'tight'\u001b[0m\u001b[0;34m)\u001b[0m\u001b[0;34m\u001b[0m\u001b[0;34m\u001b[0m\u001b[0m\n\u001b[1;32m      5\u001b[0m \u001b[0mplt\u001b[0m\u001b[0;34m.\u001b[0m\u001b[0mxlabel\u001b[0m\u001b[0;34m(\u001b[0m\u001b[0;34m'alpha'\u001b[0m\u001b[0;34m)\u001b[0m\u001b[0;34m\u001b[0m\u001b[0;34m\u001b[0m\u001b[0m\n",
      "\u001b[0;31mTypeError\u001b[0m: only size-1 arrays can be converted to Python scalars"
     ]
    },
    {
     "data": {
      "image/png": "[encoded data removed]",
      "text/plain": [
       "<Figure size 432x288 with 1 Axes>"
      ]
     },
     "metadata": {
      "needs_background": "light"
     },
     "output_type": "display_data"
    }
   ],
   "source": [
    "ax = plt.gca()\n",
    "ax.plot(alphas, coefs)\n",
    "ax.set_xscale('log')\n",
    "plt.axis('tight')\n",
    "plt.xlabel('log lambda')\n",
    "plt.ylabel('coefficients/weights')\n",
    "plt.title('Ridge')"
   ]
  },
  {
   "cell_type": "code",
   "execution_count": 23,
   "metadata": {},
   "outputs": [],
   "source": [
    "x_train, x_test , y_train, y_test = train_test_split(x, y, test_size=0.5, random_state=1)"
   ]
  },
  {
   "cell_type": "code",
   "execution_count": 26,
   "metadata": {},
   "outputs": [
    {
     "name": "stdout",
     "output_type": "stream",
     "text": [
      " n_tokens_title                    10.089945\n",
      " n_tokens_content                  -0.018978\n",
      " n_unique_tokens                   61.119632\n",
      " n_non_stop_words                -192.442239\n",
      " n_non_stop_unique_tokens         -72.876808\n",
      " num_hrefs                          8.988933\n",
      " num_self_hrefs                    -4.083979\n",
      " num_imgs                           7.909492\n",
      " num_videos                         6.129784\n",
      " average_token_length             -47.193137\n",
      " num_keywords                      19.551440\n",
      " data_channel_is_lifestyle        -25.764554\n",
      " data_channel_is_entertainment   -159.096834\n",
      " data_channel_is_bus              -39.485534\n",
      " data_channel_is_socmed            20.463518\n",
      " data_channel_is_tech             -66.275575\n",
      " data_channel_is_world           -177.624395\n",
      " kw_min_min                         0.162709\n",
      " kw_max_min                         0.004839\n",
      " kw_avg_min                         0.029699\n",
      " kw_min_max                        -0.000154\n",
      " kw_max_max                        -0.000030\n",
      " kw_avg_max                         0.000504\n",
      " kw_min_avg                         0.043627\n",
      " kw_max_avg                         0.012472\n",
      " kw_avg_avg                         0.134922\n",
      " self_reference_min_shares          0.007307\n",
      " self_reference_max_shares          0.001646\n",
      " self_reference_avg_sharess         0.004943\n",
      " weekday_is_monday                 85.490699\n",
      " weekday_is_tuesday               -73.052617\n",
      " weekday_is_wednesday              28.821610\n",
      " weekday_is_thursday              -65.718512\n",
      " weekday_is_friday                -40.943132\n",
      " weekday_is_saturday              111.269663\n",
      " weekday_is_sunday                 53.209920\n",
      " is_weekend                        86.667887\n",
      " LDA_00                             4.546737\n",
      " LDA_01                          -130.659759\n",
      " LDA_02                          -327.145939\n",
      " LDA_03                           475.253188\n",
      " LDA_04                          -111.325399\n",
      " global_subjectivity              634.325980\n",
      " global_sentiment_polarity         67.507809\n",
      " global_rate_positive_words       -97.428969\n",
      " global_rate_negative_words       856.708220\n",
      " rate_positive_words             -112.756028\n",
      " rate_negative_words              -57.202561\n",
      " avg_positive_polarity            168.091682\n",
      " min_positive_polarity            139.241835\n",
      " max_positive_polarity             45.356456\n",
      " avg_negative_polarity           -415.604378\n",
      " min_negative_polarity           -127.764501\n",
      " max_negative_polarity           -324.018244\n",
      " title_subjectivity                92.219996\n",
      " title_sentiment_polarity          32.499377\n",
      " abs_title_subjectivity            90.067926\n",
      " abs_title_sentiment_polarity     237.623181\n",
      "dtype: float64\n",
      "131677920.93425651\n"
     ]
    }
   ],
   "source": [
    "ridge2 = Ridge(alpha = 4, normalize = True)\n",
    "ridge2.fit(x_train, y_train)             # Fit a ridge regression on the training data\n",
    "pred2 = ridge2.predict(x_test)           # Use this model to predict the test data\n",
    "print(pd.Series(ridge2.coef_, index = X.columns)) # Print coefficients\n",
    "print(mean_squared_error(y_test, pred2))          # Calculate the test MSE"
   ]
  },
  {
   "cell_type": "code",
   "execution_count": 30,
   "metadata": {},
   "outputs": [
    {
     "name": "stdout",
     "output_type": "stream",
     "text": [
      " n_tokens_title                   4.834237e-09\n",
      " n_tokens_content                -6.087049e-12\n",
      " n_unique_tokens                  2.407429e-08\n",
      " n_non_stop_words                -9.648626e-08\n",
      " n_non_stop_unique_tokens        -6.711267e-08\n",
      " num_hrefs                        5.472051e-09\n",
      " num_self_hrefs                  -2.907956e-10\n",
      " num_imgs                         5.563242e-09\n",
      " num_videos                       5.930132e-09\n",
      " average_token_length            -2.397642e-08\n",
      " num_keywords                     1.000734e-08\n",
      " data_channel_is_lifestyle        3.105029e-09\n",
      " data_channel_is_entertainment   -5.749409e-08\n",
      " data_channel_is_bus             -2.320318e-08\n",
      " data_channel_is_socmed           2.129625e-08\n",
      " data_channel_is_tech            -5.031471e-08\n",
      " data_channel_is_world           -1.366675e-07\n",
      " kw_min_min                      -4.099953e-11\n",
      " kw_max_min                       6.423287e-12\n",
      " kw_avg_min                       3.547410e-11\n",
      " kw_min_max                       9.497066e-14\n",
      " kw_max_max                       3.084501e-14\n",
      " kw_avg_max                       3.999867e-13\n",
      " kw_min_avg                       3.920240e-11\n",
      " kw_max_avg                       1.139572e-11\n",
      " kw_avg_avg                       9.394186e-11\n",
      " self_reference_min_shares        4.581029e-12\n",
      " self_reference_max_shares        1.479317e-12\n",
      " self_reference_avg_sharess       3.530362e-12\n",
      " weekday_is_monday                3.836585e-08\n",
      " weekday_is_tuesday              -4.105855e-08\n",
      " weekday_is_wednesday             1.185594e-08\n",
      " weekday_is_thursday             -3.606868e-08\n",
      " weekday_is_friday               -2.109716e-08\n",
      " weekday_is_saturday              7.278927e-08\n",
      " weekday_is_sunday                4.650976e-08\n",
      " is_weekend                       6.331493e-08\n",
      " LDA_00                          -1.735137e-09\n",
      " LDA_01                          -6.488071e-08\n",
      " LDA_02                          -2.334365e-07\n",
      " LDA_03                           3.318991e-07\n",
      " LDA_04                          -8.404991e-08\n",
      " global_subjectivity              4.137304e-07\n",
      " global_sentiment_polarity        7.195704e-08\n",
      " global_rate_positive_words       2.782151e-07\n",
      " global_rate_negative_words       1.040760e-06\n",
      " rate_positive_words             -6.317809e-08\n",
      " rate_negative_words             -1.900720e-08\n",
      " avg_positive_polarity            2.015563e-07\n",
      " min_positive_polarity            1.368231e-07\n",
      " max_positive_polarity            6.018561e-08\n",
      " avg_negative_polarity           -3.191024e-07\n",
      " min_negative_polarity           -9.709749e-08\n",
      " max_negative_polarity           -2.491459e-07\n",
      " title_subjectivity               8.415838e-08\n",
      " title_sentiment_polarity         3.759997e-08\n",
      " abs_title_subjectivity           1.136979e-08\n",
      " abs_title_sentiment_polarity     1.691850e-07\n",
      "dtype: float64\n",
      "131028889.85328302\n"
     ]
    }
   ],
   "source": [
    "ridge3 = Ridge(alpha = 10**10, normalize = True)\n",
    "ridge3.fit(x_train, y_train)             # Fit a ridge regression on the training data\n",
    "pred3 = ridge3.predict(x_test)           # Use this model to predict the test data\n",
    "print(pd.Series(ridge3.coef_, index = X.columns)) # Print coefficients\n",
    "print(mean_squared_error(y_test, pred3))          # Calculate the test MSE"
   ]
  },
  {
   "cell_type": "code",
   "execution_count": 32,
   "metadata": {},
   "outputs": [
    {
     "data": {
      "text/plain": [
       "0.03527401155359316"
      ]
     },
     "execution_count": 32,
     "metadata": {},
     "output_type": "execute_result"
    }
   ],
   "source": [
    "ridgecv.fit(x_train, y_train)\n",
    "ridgecv.alpha_"
   ]
  },
  {
   "cell_type": "code",
   "execution_count": null,
   "metadata": {},
   "outputs": [],
   "source": [
    "ridgecv = RidgeCV(scoring = 'neg_mean_squared_error', normalize = True)\n",
    "mean_squared_errors = []\n",
    "\n",
    "for a in alphas:\n",
    "    ridge.set_params(alpha = a)\n",
    "    ridge.fit(x, y)\n",
    "    coefs.append(ridge.coef_)\n",
    "    \n",
    "np.shape(coefs)"
   ]
  },
  {
   "cell_type": "code",
   "execution_count": null,
   "metadata": {},
   "outputs": [],
   "source": [
    "ax = plt.gca()\n",
    "ax.plot(alphas, coefs)\n",
    "ax.set_xscale('log')\n",
    "plt.axis('tight')\n",
    "plt.xlabel('alpha')\n",
    "plt.ylabel('coefficients/weights')\n",
    "plt.title('Ridge')"
   ]
  }
 ],
 "metadata": {
  "kernelspec": {
   "display_name": "venv",
   "language": "python",
   "name": "venv"
  },
  "language_info": {
   "codemirror_mode": {
    "name": "ipython",
    "version": 3
   },
   "file_extension": ".py",
   "mimetype": "text/x-python",
   "name": "python",
   "nbconvert_exporter": "python",
   "pygments_lexer": "ipython3",
   "version": "3.7.7"
  }
 },
 "nbformat": 4,
 "nbformat_minor": 4
}
